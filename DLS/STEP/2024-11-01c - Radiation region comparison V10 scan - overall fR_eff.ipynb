{
 "cells": [
  {
   "cell_type": "code",
   "execution_count": 4,
   "metadata": {},
   "outputs": [],
   "source": [
    "import copy\n",
    "import os\n",
    "import pickle as pkl\n",
    "import sys\n",
    "import dataclasses\n",
    "\n",
    "import matplotlib as mpl\n",
    "import numpy as np\n",
    "import pandas as pd\n",
    "import scipy as sp\n",
    "from fusiondls import MagneticGeometry, SimulationInputs, file_read, file_write, run_dls\n",
    "from fusiondls.analytic_cooling_curves import LfuncKallenbach\n",
    "from fusiondls.Profile import Profile\n",
    "from fusiondls.unpackConfigurationsMK import unpackConfigurationMK\n",
    "from netCDF4 import Dataset\n",
    "from scipy import interpolate\n",
    "\n",
    "onedrive_path = onedrive_path = str(os.getcwd()).split(\"OneDrive\")[0] + \"OneDrive\"\n",
    "sys.path.append(os.path.join(onedrive_path, r\"Project\\python-packages\\sdtools\"))\n",
    "\n",
    "from code_comparison.solps_pp import *\n",
    "from sdtools.general.plotstyle import change_colors\n",
    "\n",
    "from DLS.postprocess import *\n",
    "\n",
    "change_colors(\"default\")\n",
    "\n",
    "%matplotlib inline\n",
    "\n",
    "%load_ext autoreload\n",
    "%autoreload 2\n"
   ]
  },
  {
   "cell_type": "markdown",
   "metadata": {},
   "source": [
    "# Read SOLPS case"
   ]
  },
  {
   "cell_type": "code",
   "execution_count": 5,
   "metadata": {},
   "outputs": [
    {
     "name": "stdout",
     "output_type": "stream",
     "text": [
      "100MW_inner_arpuff\n",
      "Saving all states\n",
      "Added total radiation, density and fraction for Ar\n",
      "100MW_innerar_midplanepuff\n",
      "Saving all states\n",
      "Added total radiation, density and fraction for Ar\n"
     ]
    }
   ],
   "source": [
    "balance_paths = {\n",
    "    \"100MW_inner_arpuff\" : r\"C:\\Users\\Mike\\OneDrive\\Project\\DLS\\from ryoko\\2024-11-05 - CDN V10 runs\\V10_100MW_inner_ar_seed\\step0_A5e21D1e24spr\",\n",
    "    \"100MW_innerar_midplanepuff\" : r\"C:\\Users\\Mike\\OneDrive\\Project\\DLS\\from ryoko\\2024-11-05 - CDN V10 runs\\V10_100MW_inner_ar_seed_impomp_puff\\step2_Xomp20_A8e21D0p4e24sp50r\",\n",
    "}\n",
    "\n",
    "store_slc = {}\n",
    "\n",
    "for case in balance_paths:\n",
    "    print(case)\n",
    "    if \"balance.nc\" in os.listdir(balance_paths[case]):\n",
    "        store_slc[case] = SOLPScase(balance_paths[case])\n",
    "        store_slc[case].get_species()\n",
    "        store_slc[case].get_impurity_stats(\"Ar\", all_states = True)\n",
    "    else:\n",
    "        print(f\"Skipping {case} as no balance.nc file found\")"
   ]
  },
  {
   "cell_type": "markdown",
   "metadata": {},
   "source": [
    "# Calculate field lines"
   ]
  },
  {
   "cell_type": "code",
   "execution_count": 6,
   "metadata": {},
   "outputs": [
    {
     "name": "stderr",
     "output_type": "stream",
     "text": [
      "C:\\Users\\Mike\\AppData\\Local\\Temp\\ipykernel_14572\\3006447686.py:18: MatplotlibDeprecationWarning: The get_cmap function was deprecated in Matplotlib 3.7 and will be removed two minor releases later. Use ``matplotlib.colormaps[name]`` or ``matplotlib.colormaps.get_cmap(obj)`` instead.\n",
      "  colors = [plt.cm.get_cmap(\"rainbow\", sepadds)(x) for x in range(sepadds)]\n"
     ]
    }
   ],
   "source": [
    "dfs = {}\n",
    "sepadds = 6\n",
    "\n",
    "for case in [\"100MW_inner_arpuff\", \"100MW_innerar_midplanepuff\"]:\n",
    "    dfs[case] = {}\n",
    "    for region in [\"outer_lower\", \"inner_lower\", \"outer_upper\", \"inner_upper\"]:\n",
    "        dfs[case][region] = {}\n",
    "        \n",
    "        for i in range(sepadds):\n",
    "            df = store_slc[case].get_1d_poloidal_data([\"RAr\",\"M\", \"Pe\", \"Te\", \"Ne\", \"fAr\", \"Btot\", \"R\", \"fhx_total\", \"fhex_cond\", \"Sd+_iz\", \"vol\"], sepadd = i, region = region, target_first = True)   \n",
    "            cumR = sp.integrate.cumulative_trapezoid(y = df[\"RAr\"] / df[\"Btot\"], x = df[\"Spar\"], initial = 0)    \n",
    "            df[\"cumR\"] = cumR/cumR[-1]\n",
    "            df[\"hf_tot\"] = df[\"fhx_total\"] / df[\"apar\"] * -1\n",
    "            df[\"hf_cond_e\"] = df[\"fhex_cond\"] / df[\"apar\"] * -1\n",
    "            \n",
    "            dfs[case][region][i] = df\n",
    "\n",
    "colors = [plt.cm.get_cmap(\"rainbow\", sepadds)(x) for x in range(sepadds)]\n",
    "line_style = dict(lw = 0.75, marker = \"o\", ms = 1.5)\n",
    "xpoint_style = dict(marker = \"x\", ms = 7)"
   ]
  },
  {
   "cell_type": "code",
   "execution_count": 44,
   "metadata": {},
   "outputs": [],
   "source": [
    "case = '100MW_inner_arpuff'\n",
    "# case = '100MW_innerar_midplanepuff'\n",
    "# region = \"outer_upper\"\n",
    "region = \"inner_upper\"\n",
    "results = {}\n",
    "\n",
    "\n",
    "for side in [\"inner\", \"outer\"]:\n",
    "    df_out = pd.DataFrame()\n",
    "    sepadd = 0\n",
    "    \n",
    "    for sepadd in range(sepadds):\n",
    "\n",
    "        df = dfs[case][f\"{side}_lower\"][sepadd]\n",
    "        df_out.loc[sepadd, \"qmax\"] = df[\"hf_tot\"].max()\n",
    "        df_out.loc[sepadd, \"Beff\"] = np.sqrt(  # Radiation weighted average B field (term alpha in Kryjak 2025)\n",
    "                        sp.integrate.trapezoid(y=df[\"hf_tot\"] * df[\"R\"], x=df[\"Spar\"])\n",
    "                        / sp.integrate.trapezoid(\n",
    "                            y=df[\"hf_tot\"] * df[\"R\"] / df[\"Btot\"] ** 2, x=df[\"Spar\"]\n",
    "                        )\n",
    "                    )\n",
    "        df_out.loc[sepadd, \"Bt\"] = df[\"Btot\"][0]\n",
    "        df_out.loc[sepadd, \"Bx\"] = df[df[\"Xpoint\"]==True][\"Btot\"].values[0]\n",
    "\n",
    "        df_out.loc[sepadd, \"fR\"] = df_out.loc[sepadd, \"Bx\"] / df_out.loc[sepadd, \"Bt\"]\n",
    "        df_out.loc[sepadd, \"fR_eff\"] = df_out.loc[sepadd, \"Bx\"] / df_out.loc[sepadd, \"Beff\"]\n",
    "    \n",
    "    results[side] = df_out.copy()\n",
    "    "
   ]
  },
  {
   "cell_type": "code",
   "execution_count": 46,
   "metadata": {},
   "outputs": [
    {
     "data": {
      "image/png": "[encoded data removed]",
      "text/plain": [
       "<Figure size 840x420 with 4 Axes>"
      ]
     },
     "metadata": {},
     "output_type": "display_data"
    }
   ],
   "source": [
    "fig, axes = plt.subplots(1,2, figsize = (6,3))\n",
    "\n",
    "for i, side in enumerate([\"inner\", \"outer\"]):\n",
    "    ax = axes[i]\n",
    "    df = results[side]\n",
    "    ax.plot(df.index, df[\"fR\"], label = \"Bx/Bt\", **line_style)\n",
    "    ax.plot(df.index, df[\"fR_eff\"], label = \"Bx/Beff\", **line_style)\n",
    "    ax2 = ax.twinx()\n",
    "    ax2.plot(df.index, df[\"qmax\"], lw = 4, alpha = 0.3, c = \"deeppink\", label = \"max qpar_tot\")\n",
    "    ax.set_title(side)\n",
    "    ax.set_xlabel(\"sepadd\")\n",
    "    ax.set_ylabel(\"fR\")\n",
    "    ax.legend()\n",
    "    ax2.legend()\n",
    "    ax.set_ylim(0, None)\n",
    "    \n",
    "fig.tight_layout()"
   ]
  },
  {
   "cell_type": "code",
   "execution_count": 42,
   "metadata": {},
   "outputs": [
    {
     "name": "stdout",
     "output_type": "stream",
     "text": [
      "inner\n",
      "qpar_avg_fR: 0.73\n",
      "qpar_avg_fR_eff: 0.90\n",
      "outer\n",
      "qpar_avg_fR: 1.83\n",
      "qpar_avg_fR_eff: 1.21\n"
     ]
    },
    {
     "data": {
      "text/html": [
       "<div>\n",
       "<style scoped>\n",
       "    .dataframe tbody tr th:only-of-type {\n",
       "        vertical-align: middle;\n",
       "    }\n",
       "\n",
       "    .dataframe tbody tr th {\n",
       "        vertical-align: top;\n",
       "    }\n",
       "\n",
       "    .dataframe thead th {\n",
       "        text-align: right;\n",
       "    }\n",
       "</style>\n",
       "<table border=\"1\" class=\"dataframe\">\n",
       "  <thead>\n",
       "    <tr style=\"text-align: right;\">\n",
       "      <th></th>\n",
       "      <th>qmax</th>\n",
       "      <th>Beff</th>\n",
       "      <th>Bt</th>\n",
       "      <th>Bx</th>\n",
       "      <th>fR</th>\n",
       "      <th>fR_eff</th>\n",
       "    </tr>\n",
       "  </thead>\n",
       "  <tbody>\n",
       "    <tr>\n",
       "      <th>0</th>\n",
       "      <td>4.275898e+07</td>\n",
       "      <td>2.913048</td>\n",
       "      <td>1.812608</td>\n",
       "      <td>3.419193</td>\n",
       "      <td>1.886339</td>\n",
       "      <td>1.173751</td>\n",
       "    </tr>\n",
       "    <tr>\n",
       "      <th>1</th>\n",
       "      <td>3.891800e+07</td>\n",
       "      <td>2.766126</td>\n",
       "      <td>1.812409</td>\n",
       "      <td>3.356813</td>\n",
       "      <td>1.852127</td>\n",
       "      <td>1.213543</td>\n",
       "    </tr>\n",
       "    <tr>\n",
       "      <th>2</th>\n",
       "      <td>2.535727e+07</td>\n",
       "      <td>2.694568</td>\n",
       "      <td>1.812058</td>\n",
       "      <td>3.284797</td>\n",
       "      <td>1.812744</td>\n",
       "      <td>1.219044</td>\n",
       "    </tr>\n",
       "    <tr>\n",
       "      <th>3</th>\n",
       "      <td>1.606757e+07</td>\n",
       "      <td>2.588307</td>\n",
       "      <td>1.811684</td>\n",
       "      <td>3.210717</td>\n",
       "      <td>1.772228</td>\n",
       "      <td>1.240470</td>\n",
       "    </tr>\n",
       "    <tr>\n",
       "      <th>4</th>\n",
       "      <td>1.133387e+07</td>\n",
       "      <td>2.544560</td>\n",
       "      <td>1.811424</td>\n",
       "      <td>3.138381</td>\n",
       "      <td>1.732550</td>\n",
       "      <td>1.233369</td>\n",
       "    </tr>\n",
       "    <tr>\n",
       "      <th>5</th>\n",
       "      <td>7.505071e+06</td>\n",
       "      <td>2.527927</td>\n",
       "      <td>1.811450</td>\n",
       "      <td>3.074117</td>\n",
       "      <td>1.697047</td>\n",
       "      <td>1.216063</td>\n",
       "    </tr>\n",
       "  </tbody>\n",
       "</table>\n",
       "</div>"
      ],
      "text/plain": [
       "           qmax      Beff        Bt        Bx        fR    fR_eff\n",
       "0  4.275898e+07  2.913048  1.812608  3.419193  1.886339  1.173751\n",
       "1  3.891800e+07  2.766126  1.812409  3.356813  1.852127  1.213543\n",
       "2  2.535727e+07  2.694568  1.812058  3.284797  1.812744  1.219044\n",
       "3  1.606757e+07  2.588307  1.811684  3.210717  1.772228  1.240470\n",
       "4  1.133387e+07  2.544560  1.811424  3.138381  1.732550  1.233369\n",
       "5  7.505071e+06  2.527927  1.811450  3.074117  1.697047  1.216063"
      ]
     },
     "execution_count": 42,
     "metadata": {},
     "output_type": "execute_result"
    }
   ],
   "source": [
    "for side in [\"inner\", \"outer\"]:\n",
    "    df = results[side]\n",
    "    ratio = df[\"fR_eff\"] / df[\"fR\"]\n",
    "    weighted_ratio = ((df[\"qmax\"] * ratio) / df[\"qmax\"].sum()).sum()\n",
    "    qpar_avg_fR = (df[\"fR\"] * df[\"qmax\"] / df[\"qmax\"].sum()).sum()\n",
    "    qpar_avg_fR_eff = qpar_avg_fR * weighted_ratio\n",
    "    \n",
    "    print(side)\n",
    "    # print(f\"Weighted ratio: {weighted_ratio:.2f}\")\n",
    "    print(f\"qpar_avg_fR: {qpar_avg_fR:.2f}\")\n",
    "    print(f\"qpar_avg_fR_eff: {qpar_avg_fR_eff:.2f}\")\n",
    "    \n",
    "    \n",
    "results[\"outer\"]\n",
    "# avg_fR = df[]\n"
   ]
  },
  {
   "cell_type": "code",
   "execution_count": null,
   "metadata": {},
   "outputs": [],
   "source": [
    "case = '100MW_inner_arpuff'\n",
    "# case = '100MW_innerar_midplanepuff'\n",
    "# region = \"outer_upper\"\n",
    "region = \"inner_upper\"\n",
    "\n",
    "fig, ax = plt.subplots()\n",
    "df = slc.get_1d_radial_data([\"fhex_total\", \"fhex_cond\"], region = \"omp\", keep_geometry = True, guards = False)\n",
    "df[\"hf_tot\"] = df[\"fhex_total\"] / df[\"apar\"] * -1\n",
    "df[\"hf_cond_e\"] = df[\"fhex_cond\"] / df[\"apar\"] * -1\n",
    "\n",
    "omp_hflux = df.copy()\n",
    "omp_hflux = omp_hflux[omp_hflux[\"dist\"] > 0].reset_index(drop = True)\n",
    "df_weighted = pd.DataFrame()\n",
    "\n",
    "for i in range(sepadds):\n",
    "    df = dfs[case][region][i]\n",
    "    dfx = df[df[\"Xpoint\"]==1]\n",
    "    df_weighted[i] = df[\"RAr\"] \n",
    "    ax.plot(df[\"Spar\"], df[\"cumR\"], color = colors[i], **line_style,  label = f\"SOL ring {i+1}\") \n",
    "    ax.plot(dfx[\"Spar\"], dfx[\"cumR\"], color = colors[i], **xpoint_style) \n",
    "    \n",
    "df_weighted = pd.DataFrame(df_weighted.mean(axis = 1), columns = [\"RAr\"])\n",
    "cumR = sp.integrate.cumulative_trapezoid(y = df_weighted[\"RAr\"] / df[\"Btot\"], x = df[\"Spar\"], initial = 0)\n",
    "df_weighted[\"cumR\"] = cumR/cumR[-1]\n",
    "ax.plot(df[\"Spar\"], df_weighted[\"cumR\"], color = \"darkslategrey\", lw = 3, alpha = 0.5, ls = \"-\", label = \"Average\")\n",
    "\n",
    "ylims = ax.get_ylim()\n",
    "ax.set_ylim(ylims)\n",
    "ax.set_xlabel(\"Lpar [m]\")\n",
    "ax.set_ylabel(\"$\\int{Q_{Ar}}\\ ds_{\\parallel}$ (normalised)\")\n",
    "\n",
    "if case in labels.keys():\n",
    "    name = labels[case]\n",
    "else:\n",
    "    name = case\n",
    "    \n",
    "ax.set_title(f\"Cumulative argon radiation: {name}, {region}\")\n",
    "ax.set_ylabel(\"Te [eV]\")\n",
    "ax.legend(fontsize = \"x-small\")"
   ]
  }
 ],
 "metadata": {
  "kernelspec": {
   "display_name": "fusion312",
   "language": "python",
   "name": "python3"
  },
  "language_info": {
   "codemirror_mode": {
    "name": "ipython",
    "version": 3
   },
   "file_extension": ".py",
   "mimetype": "text/x-python",
   "name": "python",
   "nbconvert_exporter": "python",
   "pygments_lexer": "ipython3",
   "version": "3.12.8"
  },
  "orig_nbformat": 4
 },
 "nbformat": 4,
 "nbformat_minor": 2
}
