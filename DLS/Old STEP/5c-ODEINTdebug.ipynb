{
 "cells": [
  {
   "cell_type": "code",
   "execution_count": 146,
   "id": "e93c1f10-85b7-4062-ab9d-a614f773f21d",
   "metadata": {},
   "outputs": [
    {
     "name": "stdout",
     "output_type": "stream",
     "text": [
      "The autoreload extension is already loaded. To reload it, use:\n",
      "  %reload_ext autoreload\n"
     ]
    }
   ],
   "source": [
    "from netCDF4 import Dataset\n",
    "import pandas as pd\n",
    "import numpy as np\n",
    "from scipy import interpolate\n",
    "import matplotlib.pyplot as plt\n",
    "from AnalyticCoolingCurves import *\n",
    "from unpackConfigurations import unpackConfiguration\n",
    "from unpackConfigurationsMK import unpackConfigurationMK\n",
    "import ThermalFrontFormulation as TF\n",
    "from matplotlib.collections import LineCollection\n",
    "import os\n",
    "import pickle as pkl\n",
    "from LRBv2 import LRBv2\n",
    "from LRBv21 import LRBv21\n",
    "import matplotlib as mpl\n",
    "import copy\n",
    "from LengyelReinkeFormulation import *\n",
    "import ThermalFrontFormulation as TF\n",
    "import colorcet as cc\n",
    "from scipy import interpolate\n",
    "from matplotlib.ticker import FormatStrFormatter, StrMethodFormatter, MultipleLocator, FormatStrFormatter, AutoMinorLocator\n",
    "\n",
    "from DLScommonTools import *\n",
    "\n",
    "%load_ext autoreload\n",
    "%autoreload 2\n",
    "\n",
    "set_matplotlib_defaults()\n",
    "\n"
   ]
  },
  {
   "cell_type": "code",
   "execution_count": 5,
   "id": "1fc9f3f4-8b59-4de0-99ab-96eaf173e9be",
   "metadata": {},
   "outputs": [],
   "source": [
    "file_paths = {\n",
    "    \"V10\" : r\"C:\\Users\\Mike\\OneDrive\\Project\\DLS\\STEPv10\\drsep0mm\\balance_v10.nc\",\n",
    "     \"V10X\" : r\"C:\\Users\\Mike\\OneDrive\\Project\\DLS\\from_sarah\\V10Xgluedgrid_balance\\balance.nc\",\n",
    "     \"SPR38\" : r\"C:\\Users\\Mike\\OneDrive\\Project\\DLS\\STEP_SPR038\\drsep0mm\\balance_SPR038.nc\"}\n",
    "\n",
    "designs = file_paths.keys()\n",
    "sepadd = 2\n",
    "eqb = dict()\n",
    "\n",
    "for side in [\"iu\", \"ou\"]:\n",
    "    eqb[side] = dict()\n",
    "    \n",
    "    for design in designs:    \n",
    "        eqb[side][design] = unpackConfigurationMK(File = file_paths[design], Type = side, sepadd=sepadd, resolution = 500)"
   ]
  },
  {
   "cell_type": "code",
   "execution_count": 6,
   "id": "a1d5f2f3-999f-439f-b587-45fa39d883de",
   "metadata": {},
   "outputs": [],
   "source": [
    "#set switches\n",
    "radios_default = {\n",
    "    \"ionisation\": False,  # in development\n",
    "    \"upstreamGrid\": True, #if true, source of divertor heat flux comes from radial transport upstream, and Tu is at the midplane. If false, heat flux simply enters at the x point as qi, and Tu is located at the x point. \n",
    "    \"fluxlim\": False,  # if true, turns on a flux limiter with coefficient alpha\n",
    "}\n",
    "\n",
    "#set general run parameters\n",
    "constants_default = {\n",
    "    \"gamma_sheath\": 7, #sheath transmittion coefficient for virtual target. Choice does not matter if Tt is low\n",
    "    \"qpllu0\": 1e9, # heat flux density at the x point\n",
    "    \"nu\" : 1e20, #upstream density\n",
    "    \"nu0\" : 1e20,\n",
    "    \"cz0\" : 0.05,\n",
    "    \"kappa0\" : 2500,\n",
    "    \"mi\": 3*10**(-27),\n",
    "    \"echarge\": 1.60*10**(-19), \n",
    "    \"Tt\": 0.5, # requested virtual target temp. Aim for low (sub 1eV) Tt\n",
    "    \"Lfunc\": LfuncKallenbachAr, #impurity cooling function\n",
    "    \"alpha\": 1000, #flux limiting alpha. Only matters if fluxlim is true\n",
    "}\n"
   ]
  },
  {
   "cell_type": "code",
   "execution_count": 148,
   "id": "b3ed30d4-fc55-4b63-b62c-86ca70f53504",
   "metadata": {
    "tags": []
   },
   "outputs": [
    {
     "name": "stdout",
     "output_type": "stream",
     "text": [
      "Side iu...\n",
      "Design SPR38...\n",
      "Solving...0...14...24...32...38...43...46...48...49...51..."
     ]
    },
    {
     "name": "stderr",
     "output_type": "stream",
     "text": [
      "C:\\Apps\\Anaconda3\\envs\\py38\\lib\\site-packages\\scipy\\integrate\\odepack.py:247: ODEintWarning: Excess work done on this call (perhaps wrong Dfun type). Run with full_output = 1 to get quantitative information.\n",
      "  warnings.warn(warning_msg, ODEintWarning)\n"
     ]
    },
    {
     "name": "stdout",
     "output_type": "stream",
     "text": [
      "Complete in 12.6 seconds\n",
      "Side ou...\n",
      "Design SPR38...\n",
      "Solving...0...39...67...91...115...136...151...160...166...169...Complete in 12.4 seconds\n"
     ]
    }
   ],
   "source": [
    "study = dict()\n",
    "store = study\n",
    "\n",
    "for side in [\"iu\",\"ou\"]:\n",
    "    store[side] = dict()\n",
    "    print(\"Side {}...\".format(side))\n",
    "    \n",
    "    for design in [\"SPR38\"]:\n",
    "        print(\"Design {}...\".format(design))\n",
    "        \n",
    "        d = eqb[side][design].copy()\n",
    "        constants = constants_default.copy()\n",
    "        radios = radios_default.copy()\n",
    "\n",
    "        radios[\"upstreamGrid\"] = True\n",
    "        constants[\"XpointIndex\"] = d[\"Xpoint\"], # Index of Xpoint\n",
    "        constants[\"cz0\"] = 0.1\n",
    "        constants[\"B\"] = interpolate.interp1d(d[\"S\"], d[\"Btot\"], kind='cubic') # Continuous function for B\n",
    "        \n",
    "        SparRange = np.linspace(0, d[\"S\"][d[\"Xpoint\"]-1], 10)\n",
    "        indexRange = [np.argmin(abs(d[\"S\"] - x)) for x in SparRange]\n",
    "        \n",
    "        # indexRange = [48]\n",
    "        \n",
    "        constants[\"Lfunc\"] = LfuncKallenbachAr        \n",
    "        out = LRBv21(constants,radios,d[\"S\"],indexRange, \n",
    "                                            Ctol = 1e-3, Ttol = 1e-3, URF = 1, acceleration = 0, verbosity = 0,\n",
    "                                            control_variable = \"density\")\n",
    "\n",
    "        out[\"SpolPlot\"] = [d[\"Spol\"][x] for x in indexRange]\n",
    "        \n",
    "        store[side][design] = out"
   ]
  },
  {
   "cell_type": "markdown",
   "id": "0330afa2-b650-4c9e-beea-5d09db977968",
   "metadata": {},
   "source": [
    "- Known problem settings: SPR38, inner, index 48 at resolution 500, cz0 = 10%, qpllu0 = 1e9"
   ]
  },
  {
   "cell_type": "markdown",
   "id": "0610f250-b66c-4976-b91d-155da2e927bb",
   "metadata": {},
   "source": [
    "# Iterate function"
   ]
  },
  {
   "cell_type": "code",
   "execution_count": 137,
   "id": "8a3ae9dc-e7fc-4215-bbd8-b8b58bcdb91b",
   "metadata": {},
   "outputs": [],
   "source": [
    "# Define iterator function. This just solves the Lengyel function and unpacks the results.\n",
    "def iterate(cvar, Tu):\n",
    "    if control_variable == \"impurity_frac\":\n",
    "        cz = cvar\n",
    "        nu = nu0\n",
    "        qradial = qpllu0/np.abs(S[-1]-S[Xpoint]) # Change Q radial so it takes B field into account\n",
    "\n",
    "    elif control_variable == \"density\":\n",
    "        cz = cz0\n",
    "        nu = cvar\n",
    "        qradial = qpllu0/np.abs(S[-1]-S[Xpoint])   \n",
    "\n",
    "    elif control_variable == \"power\":\n",
    "        cz = cz0\n",
    "        nu = nu0\n",
    "        qradial = 1/cvar # This is needed so that too high a cvar gives positive error\n",
    "\n",
    "    if verbosity>2:\n",
    "        print(f\"qpllu0: {qpllu0:.3E} | nu: {nu:.3E} | Tu: {Tu:.1f} | cz: {cz:.3E} | cvar: {cvar:.2E}\", end = \"\")\n",
    "\n",
    "    result = odeint(LengFunc,y0=[qpllt/B(s[0]),Tt],t=s,args=(kappa0,nu,Tu,cz,qpllu0,alpha,radios,S,B,Xpoint,Lfunc,qradial,qradial_fix))\n",
    "    out = dict()\n",
    "    # Result returns integrals of [dqoverBds, dtds]\n",
    "    out[\"q\"] = result[:,0]*B(s)\n",
    "    out[\"T\"] = result[:,1]\n",
    "    out[\"Tu\"] = out[\"T\"][-1]\n",
    "    Tucalc = out[\"Tu\"]\n",
    "    \n",
    "    # Sometimes we get some negative q but ODEINT breaks down and makes upstream end positive.\n",
    "    # If there are any negative values in the array, set the upstream q to the lowest value of q in array.\n",
    "    # The algorithm will then know that it needs to go the other way\n",
    "    if len(out[\"q\"][out[\"q\"]<0]) > 0:\n",
    "        out[\"qpllu1\"] = np.min(out[\"q\"]) # minimum q\n",
    "    else:\n",
    "        out[\"qpllu1\"] = out[\"q\"][-1] # upstream q\n",
    "\n",
    "    qpllu1 = out[\"qpllu1\"]\n",
    "    # If upstream grid, qpllu1 is at the midplane and is solved until it's 0. It then gets radial transport\n",
    "    # so that the xpoint Q is qpllu0. If uypstramGrid=False, qpllu1 is solved to match qpllu0 at the Xpoint.\n",
    "    if radios[\"upstreamGrid\"]:\n",
    "        out[\"error1\"] = (out[\"qpllu1\"]-0)/qpllu0 \n",
    "    else:\n",
    "        out[\"error1\"] = (out[\"qpllu1\"]-qpllu0)/qpllu0\n",
    "        \n",
    "\n",
    "\n",
    "    \n",
    "    if verbosity > 2:\n",
    "        print(f\" -> qpllu1: {qpllu1:.3E} | Tucalc: {Tucalc:.1f} | error1: {out['error1']:.3E}\")\n",
    "\n",
    "    return out"
   ]
  },
  {
   "cell_type": "markdown",
   "id": "a7599b66-a722-48e8-915f-c8d0b92071cb",
   "metadata": {},
   "source": [
    "# Lengfunc"
   ]
  },
  {
   "cell_type": "code",
   "execution_count": 138,
   "id": "f2c79026-accc-44e5-8188-45e080d3a587",
   "metadata": {},
   "outputs": [],
   "source": [
    "def LengFunc(y,s,kappa0,nu,Tu,cz,qpllu0,alpha,radios,S,B,Xpoint,Lfunc,qradial, qradial_fix):\n",
    "\n",
    "    qoverB,T = y\n",
    "    #set density using constant pressure assumption\n",
    "    ne = nu*Tu/T\n",
    "    \n",
    "    fieldValue = 0\n",
    "    if s > S[-1]:\n",
    "        fieldValue = B(S[-1])\n",
    "    elif s < S[0]:\n",
    "        fieldValue = B(S[0])\n",
    "    else:\n",
    "        fieldValue = B(s)\n",
    "        \n",
    "    # add a constant radial source of heat above the X point, which is qradial = qpll at Xpoint/np.abs(S[-1]-S[Xpoint]\n",
    "    # i.e. radial heat entering SOL evenly spread between midplane and xpoint needs to be sufficient to get the \n",
    "    # correct qpll at the xpoint    \n",
    "    if radios[\"upstreamGrid\"]:\n",
    "        if s >S[Xpoint]:\n",
    "            # The second term here converts the x point qpar to a radial heat source acting between midplane and the xpoint\n",
    "            if qradial_fix == True:\n",
    "                try:\n",
    "                    dqoverBds = ((nu**2*Tu**2)/T**2)*cz*Lfunc(T) - qradial * fieldValue / B(S[Xpoint]) # account for flux expansion to Xpoint\n",
    "                except:\n",
    "                    print(\"Failed. s: {:.2f}\".format(s))\n",
    "            else:\n",
    "                dqoverBds = ((nu**2*Tu**2)/T**2)*cz*Lfunc(T) - qradial  \n",
    "        else:\n",
    "            dqoverBds = ((nu**2*Tu**2)/T**2)*cz*Lfunc(T) \n",
    "    else:\n",
    "        dqoverBds = ((nu**2*Tu**2)/T**2)*cz*Lfunc(T) \n",
    "    \n",
    "    # working on neutral/ionisation model\n",
    "    dqoverBds = dqoverBds/fieldValue\n",
    "    \n",
    "    # Flux limiter\n",
    "    dtds = 0\n",
    "    if radios[\"fluxlim\"]:\n",
    "        dtds = qoverB*fieldValue/(kappa0*T**(5/2)-qoverB*fieldValue*kappa0*T**(1/2)/(alpha*ne*np.sqrt(9E-31)))\n",
    "    else:\n",
    "        dtds = qoverB*fieldValue/(kappa0*T**(5/2))\n",
    "    #return gradient of q and T\n",
    "    return [dqoverBds,dtds]"
   ]
  },
  {
   "cell_type": "markdown",
   "id": "a6930476-12c6-4c32-a07f-ab53fbc6510d",
   "metadata": {},
   "source": [
    "# Settings"
   ]
  },
  {
   "cell_type": "code",
   "execution_count": 139,
   "id": "63e13b70-527f-443b-8cf0-3c984aa0819c",
   "metadata": {},
   "outputs": [
    {
     "name": "stdout",
     "output_type": "stream",
     "text": [
      "Solving..."
     ]
    }
   ],
   "source": [
    "S = d[\"S\"]\n",
    "verbosity = 3\n",
    "control_variable = \"density\"\n",
    "point = 48\n",
    "timeout = 20\n",
    "Ctol = 1e-3\n",
    "Ttol = 1e-2\n",
    "acceleration = 0\n",
    "URF = 1.0\n",
    "qradial_fix = True\n",
    "\n",
    "t0 = timer()\n",
    "C = []\n",
    "radfraction = []\n",
    "splot = []\n",
    "error1 = 1\n",
    "error0 = 1\n",
    "output = defaultdict(list)\n",
    "\n",
    "#lay out constants\n",
    "gamma_sheath = constants[\"gamma_sheath\"]\n",
    "qpllu0 = constants[\"qpllu0\"]\n",
    "nu0 = constants[\"nu0\"]\n",
    "cz0 = constants[\"cz0\"]\n",
    "kappa0 = constants[\"kappa0\"]\n",
    "mi = constants[\"mi\"]\n",
    "echarge = constants[\"echarge\"]\n",
    "Tt = constants[\"Tt\"]\n",
    "Xpoint = constants[\"XpointIndex\"]\n",
    "B = constants[\"B\"]\n",
    "Lfunc = constants[\"Lfunc\"]\n",
    "alpha = constants[\"alpha\"]\n",
    "\n",
    "#initialise arrays for storing cooling curve data\n",
    "Tcool = np.linspace(0.3,500,1000)#should be this for Ar? Ryoko 20201209 --> almost no effect\n",
    "Lalpha = []\n",
    "for dT in Tcool:\n",
    "    Lalpha.append(Lfunc(dT))\n",
    "Lalpha = np.array(Lalpha)\n",
    "Tcool = np.append(0,Tcool)\n",
    "Lalpha = np.append(0,Lalpha)\n",
    "Lz = [Tcool,Lalpha]\n",
    "\n",
    "# Calculation of radial heat transfer needed to achieve correct qpllu0 at Xpoint\n",
    "qradial = qpllu0/np.abs(S[-1]-S[Xpoint])\n",
    "\n",
    "print(\"Solving...\", end = \"\")\n",
    "\n"
   ]
  },
  {
   "cell_type": "markdown",
   "id": "d6ee210f-29a9-4c89-911d-30425d92403a",
   "metadata": {},
   "source": [
    "# Initialisation"
   ]
  },
  {
   "cell_type": "code",
   "execution_count": 140,
   "id": "f7670484-3301-448c-9679-9f9f0b53e28c",
   "metadata": {},
   "outputs": [
    {
     "name": "stdout",
     "output_type": "stream",
     "text": [
      "48...\n",
      "---SOLVING FOR INDEX 48\n"
     ]
    }
   ],
   "source": [
    "print(\"{}...\".format(point), end=\"\")    \n",
    "\n",
    "if verbosity > 0:\n",
    "    print(\"\\n---SOLVING FOR INDEX {}\".format(point))\n",
    "\n",
    "\"\"\"------INITIAL GUESSES\"\"\"\n",
    "\n",
    "# Current set of parallel position coordinates\n",
    "s = S[point:]\n",
    "output[\"Splot\"].append(S[point])\n",
    "\n",
    "# Inital guess for the value of qpll integrated across connection length\n",
    "qavLguess = 0\n",
    "if radios[\"upstreamGrid\"]:\n",
    "    if s[0] < S[Xpoint]:\n",
    "        qavLguess = ((qpllu0)*(S[Xpoint]-s[0]) + (qpllu0/2)*(s[-1]-S[Xpoint]))/(s[-1]-S[0])\n",
    "    else:\n",
    "        qavLguess = (qpllu0/2)\n",
    "else:\n",
    "    qavLguess = (qpllu0)\n",
    "\n",
    "# Inital guess for upstream temperature based on guess of qpll ds integral\n",
    "Tu0 = ((7/2)*qavLguess*(s[-1]-s[0])/kappa0)**(2/7)\n",
    "Tu = Tu0\n",
    "\n",
    "# Cooling curve integral\n",
    "Lint = cumtrapz(Lz[1]*np.sqrt(Lz[0]),Lz[0],initial = 0)\n",
    "integralinterp = interpolate.interp1d(Lz[0],Lint)\n",
    "\n",
    "# Guesses/initialisations for control variables\n",
    "if control_variable == \"impurity_frac\":\n",
    "    # Initial guess of cz0 assuming qpll0 everywhere and qpll=0 at target\n",
    "    # Initialise control variable as the impurity fraction guess\n",
    "    cz0_guess = (qpllu0**2 )/(2*kappa0*nu0**2*Tu**2*integralinterp(Tu))\n",
    "    cvar = cz0_guess\n",
    "\n",
    "elif control_variable == \"density\":\n",
    "    # Initialise control variable as the starting density\n",
    "    # Impurity fraction is set to constant as cz0\n",
    "    cvar = nu0\n",
    "\n",
    "elif control_variable == \"power\":\n",
    "    # If control variable = Power, keep nu0 and cz0 constant\n",
    "    # Initialise control variable 1/qradial. This is needed so that\n",
    "    # too high a cvar results in a positive error!\n",
    "    cvar = 1/qradial #qpllu0\n",
    "\n",
    "# Initial guess of qpllt, typically 0. This is a guess for q at the virtual\n",
    "# target (cold end of front). It is a very rough approximation since we are assuming\n",
    "# a sheath transmission coefficient (gamma) of a real target.\n",
    "qpllt = gamma_sheath/2*nu0*Tu*echarge*np.sqrt(2*Tt*echarge/mi)"
   ]
  },
  {
   "cell_type": "markdown",
   "id": "3e0d7b89-a088-4c45-a7ae-d5768bb7914e",
   "metadata": {},
   "source": [
    "# Solve"
   ]
  },
  {
   "cell_type": "code",
   "execution_count": 141,
   "id": "a922c00b-ee10-4013-ab71-4912602eb7b0",
   "metadata": {},
   "outputs": [
    {
     "name": "stdout",
     "output_type": "stream",
     "text": [
      "qpllu0: 1.000E+09 | nu: 1.000E+20 | Tu: 144.7 | cz: 1.000E-01 | cvar: 1.00E+20 -> qpllu1: 3.403E+09 | Tucalc: 242.8 | error1: 3.403E+00\n",
      "qpllu0: 1.000E+09 | nu: 5.000E+19 | Tu: 144.7 | cz: 1.000E-01 | cvar: 5.00E+19 -> qpllu1: 4.234E+08 | Tucalc: 169.9 | error1: 4.234E-01\n",
      "qpllu0: 1.000E+09 | nu: 2.500E+19 | Tu: 144.7 | cz: 1.000E-01 | cvar: 2.50E+19"
     ]
    },
    {
     "name": "stderr",
     "output_type": "stream",
     "text": [
      "C:\\Users\\Mike\\AppData\\Local\\Temp/ipykernel_2308/1665746766.py:41: RuntimeWarning: invalid value encountered in double_scalars\n",
      "  dtds = qoverB*fieldValue/(kappa0*T**(5/2))\n",
      "C:\\Apps\\Anaconda3\\envs\\py38\\lib\\site-packages\\scipy\\integrate\\odepack.py:247: ODEintWarning: Excess accuracy requested (tolerances too small). Run with full_output = 1 to get quantitative information.\n",
      "  warnings.warn(warning_msg, ODEintWarning)\n"
     ]
    },
    {
     "name": "stdout",
     "output_type": "stream",
     "text": [
      " -> qpllu1: NAN | Tucalc: 242.8 | error1: NAN\n",
      "qpllu0: 1.000E+09 | nu: 3.750E+19 | Tu: 144.7 | cz: 1.000E-01 | cvar: 3.75E+19 -> qpllu1: -2.135E+08 | Tucalc: 136.0 | error1: -2.135E-01\n",
      ">Bounds: 3.750E+19-5.000E+19, cvar: 3.750E+19, error1: -2.135E-01\n",
      "qpllu0: 1.000E+09 | nu: 4.375E+19 | Tu: 144.7 | cz: 1.000E-01 | cvar: 4.38E+19 -> qpllu1: 9.871E+07 | Tucalc: 155.0 | error1: 9.871E-02\n",
      ">Bounds: 3.750E+19-4.375E+19, cvar: 4.375E+19, error1: 9.871E-02\n",
      "qpllu0: 1.000E+09 | nu: 4.062E+19 | Tu: 144.7 | cz: 1.000E-01 | cvar: 4.06E+19 -> qpllu1: -5.902E+07 | Tucalc: 146.2 | error1: -5.902E-02\n",
      ">Bounds: 4.062E+19-4.375E+19, cvar: 4.062E+19, error1: -5.902E-02\n",
      "qpllu0: 1.000E+09 | nu: 4.219E+19 | Tu: 144.7 | cz: 1.000E-01 | cvar: 4.22E+19 -> qpllu1: 1.945E+07 | Tucalc: 150.7 | error1: 1.945E-02\n",
      ">Bounds: 4.062E+19-4.219E+19, cvar: 4.219E+19, error1: 1.945E-02\n",
      "qpllu0: 1.000E+09 | nu: 4.141E+19 | Tu: 144.7 | cz: 1.000E-01 | cvar: 4.14E+19 -> qpllu1: -1.989E+07 | Tucalc: 148.5 | error1: -1.989E-02\n",
      ">Bounds: 4.141E+19-4.219E+19, cvar: 4.141E+19, error1: -1.989E-02\n",
      "qpllu0: 1.000E+09 | nu: 4.180E+19 | Tu: 144.7 | cz: 1.000E-01 | cvar: 4.18E+19 -> qpllu1: -2.432E+05 | Tucalc: 149.6 | error1: -2.432E-04\n",
      ">Bounds: 4.180E+19-4.219E+19, cvar: 4.180E+19, error1: -2.432E-04\n",
      "-----------error0: 0.000E+00, Tu: 149.61, Tucalc: 149.61\n"
     ]
    }
   ],
   "source": [
    "\"\"\"------INITIALISATION\"\"\"\n",
    "\n",
    "log = defaultdict(list)\n",
    "error1 = 1 # Inner loop error (error in qpllu based on provided cz/ne)\n",
    "error0 = 1 # Outer loop residual in upstream temperature\n",
    "log[\"error1\"].append(error1)\n",
    "\n",
    "# Tu convergence loop\n",
    "for k0 in range(timeout):\n",
    "\n",
    "    # Initialise\n",
    "    out = iterate(cvar, Tu)\n",
    "    reverse_search = False\n",
    "    # if verbosity > 1:\n",
    "    #     print(\"\\ncvar: {:.3E}, error1: {:.3E}\".format(cvar, out[\"error1\"]))\n",
    "\n",
    "    \"\"\"------INITIAL SOLUTION BOUNDING\"\"\"\n",
    "\n",
    "    # We are either doubling or halving cvar until the error flips sign\n",
    "    log[\"cvar\"].append(cvar)\n",
    "    log[\"error1\"].append(out[\"error1\"])\n",
    "    log[\"qpllu1\"].append(out[\"qpllu1\"])\n",
    "\n",
    "    for k1 in range(timeout*2):\n",
    "        if out[\"error1\"] > 0:\n",
    "            if reverse_search:\n",
    "                cvar = cvar * 2\n",
    "            else:\n",
    "                cvar = cvar / 2\n",
    "\n",
    "        elif out[\"error1\"] < 0:\n",
    "            if reverse_search:\n",
    "                cvar = cvar / 2\n",
    "            else:\n",
    "                cvar = cvar * 2\n",
    "\n",
    "        out = iterate(cvar, Tu)\n",
    "\n",
    "        log[\"cvar\"].append(cvar)\n",
    "        log[\"error1\"].append(out[\"error1\"])\n",
    "        log[\"qpllu1\"].append(out[\"qpllu1\"])\n",
    "\n",
    "#         if verbosity > 1:\n",
    "#             print(\"cvar: {:.3E}, error1: {:.3E}\".format(cvar, out[\"error1\"]))\n",
    "\n",
    "#         if verbosity > 2:\n",
    "#             print(\"Last error: {:.3E}, New error: {:.3E}\".format(log[\"error1\"][k1+1], log[\"error1\"][k1+2]))\n",
    "\n",
    "        if np.sign(log[\"error1\"][k1+1]) != np.sign(log[\"error1\"][k1+2]): # It's initialised with a 1 already, hence k1+1 and k1+2\n",
    "            break\n",
    "\n",
    "        if k1 == timeout - 1:\n",
    "            print(\"******INITIAL BOUNDING TIMEOUT! Saturation!. Set verbosity = 3!*******\")\n",
    "            print(f\"qpllu0: {qpllu0} | qpllu1: {qpllu1}\")\n",
    "            # cvar = log[\"cvar\"][0]\n",
    "            # reverse_search = True\n",
    "            # sys.exit()\n",
    "\n",
    "    if cvar < 1e-6 and control_variable == \"impurity_fraction\":\n",
    "        print(\"*****REQUIRED IMPURITY FRACTION IS NEAR ZERO*******\")\n",
    "        #sys.exit()\n",
    "\n",
    "    # We have bounded the problem -  the last two iterations\n",
    "    # are on either side of the solution\n",
    "    lower_bound = min(log[\"cvar\"][-1], log[\"cvar\"][-2])\n",
    "    upper_bound = max(log[\"cvar\"][-1], log[\"cvar\"][-2])\n",
    "\n",
    "    lower_error = log[\"error1\"][log[\"cvar\"].index(lower_bound)+1]\n",
    "    upper_error = log[\"error1\"][log[\"cvar\"].index(upper_bound)+1]\n",
    "\n",
    "    \"\"\"------INNER LOOP\"\"\"\n",
    "\n",
    "    for k2 in range(timeout):\n",
    "\n",
    "        # New cvar guess is halfway between the upper and lower bound.\n",
    "        cvar = lower_bound + (upper_bound-lower_bound)/2\n",
    "        out = iterate(cvar, Tu)\n",
    "        log[\"cvar\"].append(cvar)\n",
    "        log[\"error1\"].append(out[\"error1\"])\n",
    "        log[\"qpllu1\"].append(out[\"qpllu1\"])\n",
    "\n",
    "        # Narrow bounds based on the results.\n",
    "        if out[\"error1\"] < 0:\n",
    "            lower_bound = cvar\n",
    "        elif out[\"error1\"] > 0:\n",
    "            upper_bound = cvar\n",
    "\n",
    "        if verbosity > 1:\n",
    "            print(\">Bounds: {:.3E}-{:.3E}, cvar: {:.3E}, error1: {:.3E}\".format(\n",
    "                lower_bound, upper_bound, cvar, out[\"error1\"]))\n",
    "\n",
    "        if abs(out[\"error1\"]) < Ctol:\n",
    "            break\n",
    "\n",
    "        if k2 == timeout - 1:\n",
    "            print(\"******INNER LOOP TIMEOUT! Reduce acceleration factor or loosen Ctol. Set verbosity = 2!*******\")\n",
    "            #sys.exit()\n",
    "\n",
    "    # Calculate the new Tu by mixing half the old and half the new value.\n",
    "    Tucalc = out[\"Tu\"]\n",
    "    Tu = (1-URF)*Tu + URF*Tucalc\n",
    "    error0 = (Tu-Tucalc)/Tu\n",
    "\n",
    "    if verbosity > 0 :\n",
    "        print(\"-----------error0: {:.3E}, Tu: {:.2f}, Tucalc: {:.2f}\".format(error0, Tu, Tucalc))\n",
    "\n",
    "\n",
    "    log[\"Tu\"].append(Tu)\n",
    "    log[\"error0\"].append(error0)\n",
    "\n",
    "\n",
    "    if abs(error0) < Ttol:\n",
    "        break\n",
    "\n",
    "    if k0 == timeout - 1:\n",
    "        print(\"******OUTER TIMEOUT! Loosen Ttol or reduce under-relaxation factor. Set verbosity = 2!*******\")\n",
    "        #sys.exit()\n",
    "\n",
    "\n",
    "if control_variable == \"power\":\n",
    "    output[\"cvar\"].append(1/cvar) # so that output is in Wm-2\n",
    "else:\n",
    "    output[\"cvar\"].append(cvar)\n",
    "\n",
    "output[\"Tprofiles\"].append(out[\"T\"])\n",
    "output[\"Sprofiles\"].append(s)\n",
    "output[\"Qprofiles\"].append(out[\"q\"])\n",
    "\n",
    "Qrad = []\n",
    "for Tf in out[\"T\"]:\n",
    "    if control_variable == \"impurity_frac\":\n",
    "        Qrad.append(((nu0**2*Tu**2)/Tf**2)*cvar*Lfunc(Tf))\n",
    "    elif control_variable == \"density\":\n",
    "        Qrad.append(((cvar**2*Tu**2)/Tf**2)*cz0*Lfunc(Tf))\n",
    "    elif control_variable == \"power\":\n",
    "        Qrad.append(((nu0**2*Tu**2)/Tf**2)*cz0*Lfunc(Tf))\n",
    "\n",
    "output[\"Rprofiles\"].append(Qrad)\n",
    "output[\"logs\"].append(log)"
   ]
  },
  {
   "cell_type": "markdown",
   "id": "ed2fda84-fb1e-4e07-a70c-4576bc433c60",
   "metadata": {},
   "source": [
    "# Result plot"
   ]
  },
  {
   "cell_type": "code",
   "execution_count": 142,
   "id": "6a0cdbc1-763b-49ed-b22b-64e84acbb193",
   "metadata": {},
   "outputs": [
    {
     "data": {
      "text/plain": [
       "[<matplotlib.lines.Line2D at 0x1e73f73abe0>]"
      ]
     },
     "execution_count": 142,
     "metadata": {},
     "output_type": "execute_result"
    },
    {
     "data": {
      "image/png": "[encoded data removed]",
      "text/plain": [
       "<Figure size 576x432 with 1 Axes>"
      ]
     },
     "metadata": {
      "needs_background": "light"
     },
     "output_type": "display_data"
    }
   ],
   "source": [
    "plt.plot(log[\"qpllu1\"])"
   ]
  },
  {
   "cell_type": "markdown",
   "id": "9c931a74-0e07-458c-8527-9455ef483274",
   "metadata": {},
   "source": [
    "# Test iteration"
   ]
  },
  {
   "cell_type": "code",
   "execution_count": 144,
   "id": "9817feb1-1bf6-40be-951c-b5e7e62a1f63",
   "metadata": {},
   "outputs": [
    {
     "name": "stdout",
     "output_type": "stream",
     "text": [
      "qpllu0: 1.000E+09 | nu: 1.000E+20 | Tu: 144.7 | cz: 1.000E-01 | cvar: 1.00E+20 -> qpllu1: 3.402E+09 | Tucalc: 242.8 | error1: 3.402E+00\n",
      "qpllu0: 1.000E+09 | nu: 5.000E+19 | Tu: 144.7 | cz: 1.000E-01 | cvar: 5.00E+19 -> qpllu1: 4.230E+08 | Tucalc: 169.9 | error1: 4.230E-01\n",
      "qpllu0: 1.000E+09 | nu: 2.500E+19 | Tu: 144.7 | cz: 1.000E-01 | cvar: 2.50E+19"
     ]
    },
    {
     "name": "stderr",
     "output_type": "stream",
     "text": [
      "C:\\Apps\\Anaconda3\\envs\\py38\\lib\\site-packages\\scipy\\integrate\\odepack.py:247: ODEintWarning: Excess work done on this call (perhaps wrong Dfun type). Run with full_output = 1 to get quantitative information.\n",
      "  warnings.warn(warning_msg, ODEintWarning)\n"
     ]
    },
    {
     "name": "stdout",
     "output_type": "stream",
     "text": [
      " -> qpllu1: -6.793E+08 | Tucalc: 43.0 | error1: -6.793E-01\n",
      "qpllu0: 1.000E+09 | nu: 1.250E+19 | Tu: 144.7 | cz: 1.000E-01 | cvar: 1.25E+19 -> qpllu1: NAN | Tucalc: 242.8 | error1: NAN\n"
     ]
    },
    {
     "name": "stderr",
     "output_type": "stream",
     "text": [
      "C:\\Users\\Mike\\AppData\\Local\\Temp/ipykernel_2308/1665746766.py:41: RuntimeWarning: invalid value encountered in double_scalars\n",
      "  dtds = qoverB*fieldValue/(kappa0*T**(5/2))\n",
      "C:\\Apps\\Anaconda3\\envs\\py38\\lib\\site-packages\\scipy\\integrate\\odepack.py:247: ODEintWarning: Excess accuracy requested (tolerances too small). Run with full_output = 1 to get quantitative information.\n",
      "  warnings.warn(warning_msg, ODEintWarning)\n"
     ]
    },
    {
     "data": {
      "text/plain": [
       "<matplotlib.legend.Legend at 0x1e73f8f9370>"
      ]
     },
     "execution_count": 144,
     "metadata": {},
     "output_type": "execute_result"
    },
    {
     "data": {
      "image/png": "[encoded data removed]",
      "text/plain": [
       "<Figure size 576x432 with 1 Axes>"
      ]
     },
     "metadata": {
      "needs_background": "light"
     },
     "output_type": "display_data"
    }
   ],
   "source": [
    "for i in [1e20, 5e19, 2.5e19,  1.25e19]:\n",
    "# for i in [5e19, 4.0e19]:\n",
    "\n",
    "    test = iterate(i, 144.7)\n",
    "\n",
    "    plt.plot(test[\"q\"], label = i)\n",
    "    \n",
    "plt.legend()"
   ]
  },
  {
   "cell_type": "code",
   "execution_count": 136,
   "id": "c0530515-24b3-4901-8d7c-2f1902b72a4c",
   "metadata": {},
   "outputs": [
    {
     "data": {
      "text/plain": [
       "43"
      ]
     },
     "execution_count": 136,
     "metadata": {},
     "output_type": "execute_result"
    }
   ],
   "source": [
    "- ODEINT starts at 1e20. The algorithm halves the density in the hope of getting a negative error\n",
    "- Somehow ODEINT messes up and allows a negative q while maintaining a positive q near the midplane\n",
    "- Since the error is the deviation of the upstream q from 0 "
   ]
  },
  {
   "cell_type": "code",
   "execution_count": null,
   "id": "2c588204-74c9-4ae7-9053-b7303c244f77",
   "metadata": {},
   "outputs": [],
   "source": []
  }
 ],
 "metadata": {
  "kernelspec": {
   "display_name": "Python 3 (ipykernel)",
   "language": "python",
   "name": "python3"
  },
  "language_info": {
   "codemirror_mode": {
    "name": "ipython",
    "version": 3
   },
   "file_extension": ".py",
   "mimetype": "text/x-python",
   "name": "python",
   "nbconvert_exporter": "python",
   "pygments_lexer": "ipython3",
   "version": "3.8.5"
  }
 },
 "nbformat": 4,
 "nbformat_minor": 5
}
