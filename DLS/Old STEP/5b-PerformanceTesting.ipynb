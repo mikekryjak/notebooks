{
 "cells": [
  {
   "cell_type": "code",
   "execution_count": 14,
   "id": "b853fc93-12ab-4300-bca4-075635282c49",
   "metadata": {},
   "outputs": [
    {
     "name": "stdout",
     "output_type": "stream",
     "text": [
      "The autoreload extension is already loaded. To reload it, use:\n",
      "  %reload_ext autoreload\n"
     ]
    }
   ],
   "source": [
    "from scipy.optimize import fsolve\n",
    "import scipy.optimize as opt\n",
    "import numpy as np\n",
    "import matplotlib.pyplot as plt\n",
    "from scipy.integrate import quad,trapz, cumtrapz, odeint, solve_ivp\n",
    "from scipy import interpolate\n",
    "import ThermalFrontFormulation as TF\n",
    "from unpackConfigurations import unpackConfiguration,returnzl,returnll\n",
    "from matplotlib.collections import LineCollection\n",
    "import multiprocessing as mp\n",
    "from collections import defaultdict\n",
    "from timeit import default_timer as timer\n",
    "import pandas as pd\n",
    "from AnalyticCoolingCurves import LfuncN, LfuncAr\n",
    "from unpackConfigurations import unpackConfiguration\n",
    "from unpackConfigurationsMK import unpackConfigurationMK\n",
    "import ThermalFrontFormulation as TF\n",
    "import os\n",
    "from LRBv2 import LRBv2\n",
    "\n",
    "from LengyelReinkeFormulation import *\n",
    "from LengyelReinkeFormulationMK import returnImpurityFracLengMK\n",
    "import ThermalFrontFormulation as TF\n",
    "\n",
    "%load_ext autoreload\n",
    "%autoreload 2\n",
    "\n",
    "fontsize = 12\n",
    "\n",
    "plt.rc('font', size=fontsize) #controls default text size\n",
    "plt.rc('axes', titlesize=fontsize) #fontsize of the title\n",
    "plt.rc('axes', labelsize=fontsize) #fontsize of the x and y labels\n",
    "plt.rc('xtick', labelsize=fontsize) #fontsize of the x tick labels\n",
    "plt.rc('ytick', labelsize=fontsize) #fontsize of the y tick labels\n",
    "plt.rc('legend', fontsize=fontsize) #fontsize of the legend\n",
    "\n",
    "def file_write(data, filename):\n",
    "# Writes an object to a pickle file.\n",
    "    \n",
    "    with open(filename, \"wb\") as file:\n",
    "    # Open file in write binary mode, dump result to file\n",
    "        pkl.dump(data, file)\n",
    "        \n",
    "        \n",
    "        \n",
    "def file_read(filename):\n",
    "# Reads a pickle file and returns it.\n",
    "\n",
    "    with open(filename, \"rb\") as filename:\n",
    "    # Open file in read binary mode, dump file to result.\n",
    "        data = pkl.load(filename)\n",
    "        \n",
    "    return data"
   ]
  },
  {
   "cell_type": "markdown",
   "id": "dace1916-5d51-4a4f-859f-c175feea7c64",
   "metadata": {},
   "source": [
    "# IO"
   ]
  },
  {
   "cell_type": "code",
   "execution_count": 4,
   "id": "5ce6ba28-945b-4a9f-ad5e-667fda383847",
   "metadata": {},
   "outputs": [],
   "source": [
    "gridFile = r\"C:\\Users\\Mike\\OneDrive\\Project\\DLS\\STEPv10\\drsep0mm\\balance_v10.nc\"\n",
    "sepadd = 2\n",
    "res = 500\n",
    "d = unpackConfigurationMK(File = gridFile, Type = \"ou\", sepadd = 2, resolution = res, convention = \"target_to_midplane\")"
   ]
  },
  {
   "cell_type": "code",
   "execution_count": 16,
   "id": "42febed5-990a-427f-b832-7ff6e7387ec1",
   "metadata": {},
   "outputs": [],
   "source": [
    "# results = dict()\n",
    "\n",
    "#set switches\n",
    "radios_default = {\n",
    "    \"ionisation\": False,  # in development\n",
    "    \"upstreamGrid\": False, #if true, source of divertor heat flux comes from radial transport upstream, and Tu is at the midplane. If false, heat flux simply enters at the x point as qi, and Tu is located at the x point. \n",
    "    \"fluxlim\": False,  # if true, turns on a flux limiter with coefficient alpha\n",
    "}\n",
    "\n",
    "#set general run parameters\n",
    "constants_default = {\n",
    "    \"gamma_sheath\": 7, #sheath transmittion coefficient for virtual target. Choice does not matter if Tt is low\n",
    "    \"qpllu0\": 1e9, # heat flux density at the x point\n",
    "    \"nu\" : 1e20, #upstream density\n",
    "    \"nu0\" : 1e20,\n",
    "    \"cz0\" : 0.05,\n",
    "    \"kappa0\" : 2500,\n",
    "    \"mi\": 3*10**(-27),\n",
    "    \"echarge\": 1.60*10**(-19), \n",
    "    \"Tt\": 0.5, # requested virtual target temp. Aim for low (sub 1eV) Tt\n",
    "    \"Lfunc\": LfuncAr, #impurity cooling function\n",
    "    \"alpha\": 1000, #flux limiting alpha. Only matters if fluxlim is true\n",
    "}\n",
    "\n",
    "d[\"indexrange\"] =  np.linspace(0,len(d[\"S\"][:d[\"Xpoint\"]])*0.98,15) # np.array([20])\n",
    "d[\"indexrange\"]  = list(d[\"indexrange\"].astype(int))\n"
   ]
  },
  {
   "cell_type": "code",
   "execution_count": 17,
   "id": "c560d957-ee66-463d-85b6-bf164a2df8ec",
   "metadata": {},
   "outputs": [
    {
     "name": "stdout",
     "output_type": "stream",
     "text": [
      "Solving...0...12...25...38...51...64...76...89...102...115...128...140...153...166...179...Complete in 385.2 seconds\n"
     ]
    }
   ],
   "source": [
    "o = dict()\n",
    "\n",
    "constants = constants_default.copy(); radios = radios_default.copy()\n",
    "constants[\"XpointIndex\"] = d[\"Xpoint\"], # Index of Xpoint\n",
    "constants[\"B\"] = interpolate.interp1d(d[\"S\"], d[\"Btot\"], kind='cubic') # Continuous function for B\n",
    "\n",
    "o[\"splot\"],o[\"C\"],o[\"Sprofiles\"],o[\"Tprofiles\"],o[\"Qprofiles\"],o[\"log\"] = returnImpurityFracLeng(constants,radios,d[\"S\"],d[\"indexrange\"])\n"
   ]
  },
  {
   "cell_type": "code",
   "execution_count": 19,
   "id": "a3240cd9-cd3f-4e77-88b5-3faf93db90f9",
   "metadata": {},
   "outputs": [],
   "source": [
    "old = o"
   ]
  },
  {
   "cell_type": "code",
   "execution_count": 20,
   "id": "22ae37cf-4a2b-4b0d-bec4-abb42b1ce72e",
   "metadata": {},
   "outputs": [
    {
     "name": "stdout",
     "output_type": "stream",
     "text": [
      "Solving...0...12...25...38...51...64...76...89...102...115...128...140...153...166...179...Complete in 11.9 seconds\n"
     ]
    }
   ],
   "source": [
    "constants = constants_default.copy(); radios = radios_default.copy()\n",
    "indexRange = np.linspace(0, d[\"Xpoint\"], 15).astype(int)\n",
    "\n",
    "radios[\"upstreamGrid\"] = True\n",
    "constants[\"XpointIndex\"] = d[\"Xpoint\"], # Index of Xpoint\n",
    "constants[\"B\"] = interpolate.interp1d(d[\"S\"], d[\"Btot\"], kind='cubic') # Continuous function for B\n",
    "out = LRBv2(constants,radios,d[\"S\"],d[\"indexrange\"], \n",
    "                                    Ctol = 1e-3, Ttol = 1e-3, URF = 0.99, acceleration = 0, verbosity = 0,\n",
    "                                    control_variable = \"impurity_frac\"\n",
    "                )\n",
    "out[\"SpolPlot\"] = [d[\"Spol\"][x] for x in indexRange]\n",
    "\n",
    "new = out.copy()"
   ]
  },
  {
   "cell_type": "code",
   "execution_count": null,
   "id": "d4a437c6-beaf-4f40-b951-f51ff3b23142",
   "metadata": {},
   "outputs": [],
   "source": [
    "fig, ax = plt.subplots(4,1,figsize = (15,10))\n",
    "# ax.plot(log[i][\"cz\"], marker = \"o\", color = \"black\", markersize = 5, label = \"cz\")\n",
    "ax[0].plot(log[i][\"Tucalc\"], marker = \"o\", color = \"navy\", markersize = 5, label = \"Tucalc\")\n",
    "ax[1].plot(log[i][\"Tu\"], marker = \"o\", color = \"darkorange\", markersize = 5, label = \"Tu\")\n",
    "ax[2].plot(log[i][\"error1\"], marker = \"o\", color = \"purple\", markersize = 5, label = \"error1\")\n",
    "ax[3].plot(log[i][\"error0\"], marker = \"o\", color = \"green\", markersize = 5, label = \"error0\")\n",
    "\n",
    "for a in ax:\n",
    "    a.grid()\n",
    "    a.legend()"
   ]
  }
 ],
 "metadata": {
  "kernelspec": {
   "display_name": "Python 3 (ipykernel)",
   "language": "python",
   "name": "python3"
  },
  "language_info": {
   "codemirror_mode": {
    "name": "ipython",
    "version": 3
   },
   "file_extension": ".py",
   "mimetype": "text/x-python",
   "name": "python",
   "nbconvert_exporter": "python",
   "pygments_lexer": "ipython3",
   "version": "3.8.5"
  }
 },
 "nbformat": 4,
 "nbformat_minor": 5
}
