{
 "cells": [
  {
   "cell_type": "code",
   "execution_count": 6,
   "id": "e4f02b2b-4a03-45b3-8c4b-fabeffcccc80",
   "metadata": {},
   "outputs": [],
   "source": [
    "from scipy.optimize import fsolve\n",
    "import scipy.optimize as opt\n",
    "import numpy as np\n",
    "import matplotlib.pyplot as plt\n",
    "from scipy.integrate import quad,trapz, cumtrapz, odeint, solve_ivp\n",
    "from scipy import interpolate\n",
    "import ThermalFrontFormulation as TF\n",
    "from unpackConfigurations import unpackConfiguration,returnzl,returnll\n",
    "from matplotlib.collections import LineCollection\n",
    "import multiprocessing as mp\n",
    "from collections import defaultdict\n",
    "from timeit import default_timer as timer\n",
    "import pandas as pd\n",
    "from AnalyticCoolingCurves import LfuncN\n",
    "from unpackConfigurations import unpackConfiguration\n",
    "from unpackConfigurationsMK import unpackConfigurationMK\n",
    "import ThermalFrontFormulation as TF\n",
    "import os\n",
    "\n",
    "from LengyelReinkeFormulation import *\n",
    "from LengyelReinkeFormulationMK import returnImpurityFracLengMK\n",
    "import ThermalFrontFormulation as TF\n",
    "\n",
    "%load_ext autoreload\n",
    "%autoreload 2\n",
    "\n",
    "fontsize = 12\n",
    "\n",
    "plt.rc('font', size=fontsize) #controls default text size\n",
    "plt.rc('axes', titlesize=fontsize) #fontsize of the title\n",
    "plt.rc('axes', labelsize=fontsize) #fontsize of the x and y labels\n",
    "plt.rc('xtick', labelsize=fontsize) #fontsize of the x tick labels\n",
    "plt.rc('ytick', labelsize=fontsize) #fontsize of the y tick labels\n",
    "plt.rc('legend', fontsize=fontsize) #fontsize of the legend\n",
    "\n",
    "def file_write(data, filename):\n",
    "# Writes an object to a pickle file.\n",
    "    \n",
    "    with open(filename, \"wb\") as file:\n",
    "    # Open file in write binary mode, dump result to file\n",
    "        pkl.dump(data, file)\n",
    "        \n",
    "        \n",
    "        \n",
    "def file_read(filename):\n",
    "# Reads a pickle file and returns it.\n",
    "\n",
    "    with open(filename, \"rb\") as filename:\n",
    "    # Open file in read binary mode, dump file to result.\n",
    "        data = pkl.load(filename)\n",
    "        \n",
    "    return data"
   ]
  },
  {
   "cell_type": "markdown",
   "id": "0f30e1b5-379c-43c3-bf50-f6432e184807",
   "metadata": {},
   "source": [
    "# IO"
   ]
  },
  {
   "cell_type": "code",
   "execution_count": 2,
   "id": "ff6967be-edc1-41a5-b41a-b209901fae52",
   "metadata": {},
   "outputs": [],
   "source": [
    "gridFile = r\"C:\\Users\\Mike\\OneDrive\\Project\\DLS\\STEPv10\\drsep0mm\\balance_v10.nc\"\n",
    "\n",
    "sepadd = 2\n",
    "\n",
    "d = dict()\n",
    "d = unpackConfigurationMK(File = gridFile, Type =\"iu\", sepadd=sepadd)\n",
    "\n",
    "d[\"Xpoint_fromx\"] = d[\"Xpoint\"]\n",
    "d[\"Xpoint\"] = len(d[\"Spol\"])-d[\"Xpoint\"]\n",
    "Xpoint = d[\"Xpoint\"]\n",
    "\n",
    "d[\"indexrange\"] = np.linspace(0,len(d[\"S\"][:Xpoint])*0.98,2)\n",
    "d[\"indexrange\"]  = list(d[\"indexrange\"].astype(int))\n",
    "\n",
    "# Make both B fields absolute\n",
    "for param in [\"Bpol\", \"Btot\"]:\n",
    "    d[param] = abs(d[param])\n",
    "\n",
    "for param in [\"Bpol\", \"Btot\"]:\n",
    "    d[param] = d[param][::-1]\n",
    "\n",
    "# Calculate distances normalised to 0 at xpoint\n",
    "for param in [\"S\", \"Spol\", \"zl\"]:\n",
    "    d[f\"{param}_fromx\"] = d[param] - d[param][d[\"Xpoint_fromx\"]] \n",
    "\n",
    "# Sample paramters at the indices we solved DLS for. New variables: *_reduced\n",
    "for param in [\"S\", \"Spol\", \"zl\", \"Bpol\", \"Btot\"]:\n",
    "    d[f\"{param}_reduced\"] = [d[param][x] for x in d[\"indexrange\"]]\n",
    "        "
   ]
  },
  {
   "cell_type": "markdown",
   "id": "749a435f-bfaf-48cb-960e-0dda3f3a452c",
   "metadata": {},
   "source": [
    "# Settings"
   ]
  },
  {
   "cell_type": "code",
   "execution_count": 3,
   "id": "c06e9e47-3ad4-4e6f-89a7-96620b899320",
   "metadata": {},
   "outputs": [],
   "source": [
    "results = dict()\n",
    "\n",
    "#set switches\n",
    "radios = {\n",
    "    \"ionisation\": False,  # in development\n",
    "    \"upstreamGrid\": False, #if true, source of divertor heat flux comes from radial transport upstream, and Tu is at the midplane. If false, heat flux simply enters at the x point as qi, and Tu is located at the x point. \n",
    "    \"fluxlim\": False,  # if true, turns on a flux limiter with coefficient alpha\n",
    "}\n",
    "\n",
    "#set general run parameters\n",
    "constants = {\n",
    "    \"gamma_sheath\": 7, #sheath transmittion coefficient for virtual target. Choice does not matter if Tt is low\n",
    "    \"qpllu0\": 5*10**9, # heat flux density at the x point\n",
    "    \"nu\" : 1*10**19, #upstream density\n",
    "    \"kappa0\" : 2500,\n",
    "    \"mi\": 3*10**(-27),\n",
    "    \"echarge\": 1.60*10**(-19), \n",
    "    \"Tt\": 0.5, # requested virtual target temp. Aim for low (sub 1eV) Tt\n",
    "    \"Lfunc\": LfuncN, #impurity cooling function\n",
    "    \"alpha\": 1000, #flux limiting alpha. Only matters if fluxlim is true\n",
    "}\n",
    "\n"
   ]
  },
  {
   "cell_type": "code",
   "execution_count": 116,
   "id": "3a624579-ec2d-46ed-a656-cda4431633ac",
   "metadata": {},
   "outputs": [
    {
     "name": "stdout",
     "output_type": "stream",
     "text": [
      "Solving...10...Complete.\n"
     ]
    }
   ],
   "source": [
    "indexRange = [10]\n",
    "S = d[\"S\"]\n",
    "constants[\"XpointIndex\"] = d[\"Xpoint\"]\n",
    "constants[\"B\"] = interpolate.interp1d(d[\"S\"], d[\"Btot\"], kind='cubic') # Continuous function for B\n",
    "\n",
    "# def returnImpurityFracLeng(constants,radios,S,indexRange,dispBassum = False,dispqassum = False,dispUassum = False):\n",
    "\"\"\" function that returns the impurity fraction required for a given temperature at the target. Can request a low temperature at a given position to mimick a detachment front at that position.\"\"\"\n",
    "C = []\n",
    "radfraction = []\n",
    "Tprofiles = []\n",
    "Sprofiles = []\n",
    "Qprofiles = []\n",
    "splot = []\n",
    "log = defaultdict(list)\n",
    "\n",
    "\n",
    "#lay out constants\n",
    "gamma_sheath = constants[\"gamma_sheath\"]\n",
    "qpllu0 = constants[\"qpllu0\"]\n",
    "nu = constants[\"nu\"]\n",
    "kappa0 = constants[\"kappa0\"]\n",
    "mi = constants[\"mi\"]\n",
    "echarge = constants[\"echarge\"]\n",
    "Tt = constants[\"Tt\"]\n",
    "Xpoint = constants[\"XpointIndex\"]\n",
    "B = constants[\"B\"]\n",
    "Lfunc = constants[\"Lfunc\"]\n",
    "alpha = constants[\"alpha\"]\n",
    "\n",
    "#initialise arrays for storing cooling curve data\n",
    "Tcool = np.linspace(0.3,500,1000)#should be this for Ar? Ryoko 20201209 --> almost no effect\n",
    "Lalpha = []\n",
    "for dT in Tcool:\n",
    "    Lalpha.append(Lfunc(dT))\n",
    "Lalpha = np.array(Lalpha)\n",
    "Tcool = np.append(0,Tcool)\n",
    "Lalpha = np.append(0,Lalpha)\n",
    "Lz = [Tcool,Lalpha]\n",
    "\n",
    "print(\"Solving...\", end = \"\")\n",
    "for i in indexRange:\n",
    "    log[i] = defaultdict(list)\n",
    "    #current set of parallel position coordinates\n",
    "    s = S[i:]\n",
    "    splot.append(S[i])\n",
    "    error0 = 1\n",
    "\n",
    "\n",
    "    #inital guess for the value of qpll integrated across connection length\n",
    "    qavLguess = 0\n",
    "    if radios[\"upstreamGrid\"]:\n",
    "        if s[0] < S[Xpoint]:\n",
    "            qavLguess = ((qpllu0)*(S[Xpoint]-s[0]) + (qpllu0/2)*(s[-1]-S[Xpoint]))/(s[-1]-S[0])\n",
    "        else:\n",
    "            qavLguess = (qpllu0/2)\n",
    "    else:\n",
    "        qavLguess = (qpllu0)\n",
    "\n",
    "    #inital guess for upstream temperature based on guess of qpll ds integral\n",
    "    Tu0 = ((7/2)*qavLguess*(s[-1]-s[0])/kappa0)**(2/7)\n",
    "    Tu = Tu0\n",
    "\n",
    "    #iterate through temperature until the consistent Tu is determined\n",
    "    while np.abs(error0) > 0.0001:\n",
    "\n",
    "\n",
    "        Lint = cumtrapz(Lz[1]*np.sqrt(Lz[0]),Lz[0],initial = 0)\n",
    "        integralinterp = interpolate.interp1d(Lz[0],Lint)\n",
    "        #initial guess of cz0 assuming qpll0 everywhere and qpll=0 at target\n",
    "        cz0 = (qpllu0**2 )/(2*kappa0*nu**2*Tu**2*integralinterp(Tu))\n",
    "        cz = cz0\n",
    "        #set initial percentage change of cz after every guess\n",
    "        perChange = 0.5\n",
    "        error1 = 1\n",
    "        switch0 = 0\n",
    "        swtich1 = 0\n",
    "        swapped = 0\n",
    "        #iterate until the correct impurity fraction is found\n",
    "        while perChange >0.0001:\n",
    "\n",
    "\n",
    "            #initial guess of qpllt, typically 0\n",
    "            qpllt = gamma_sheath/2*nu*Tu*echarge*np.sqrt(2*Tt*echarge/mi)\n",
    "\n",
    "            result = odeint(LengFunc,y0=[qpllt/B(s[0]),Tt],t=s,args=(kappa0,nu,Tu,cz,qpllu0,alpha,radios,S,B,Xpoint,Lfunc))\n",
    "            q = result[:,0]*B(s)\n",
    "            T = result[:,1]\n",
    "            # V = result[:,2]\n",
    "            qpllu1 = q[-1]\n",
    "\n",
    "            if radios[\"upstreamGrid\"]:\n",
    "                error1 = (qpllu1-0)/qpllu0\n",
    "            else:\n",
    "                error1 = (qpllu1-qpllu0)/qpllu0\n",
    "            if 0<error1:\n",
    "                switch1 = 0\n",
    "                #increase counter 'swapped' if the guess overshoots\n",
    "                if switch1!=switch0:\n",
    "                    swapped += 1\n",
    "                else:\n",
    "                    swapped = 0\n",
    "                cz = cz*(1-perChange)\n",
    "            else:\n",
    "                switch1 = 1\n",
    "                if switch1!=switch0:\n",
    "                    swapped += 1\n",
    "                else:\n",
    "                    swapped = 0\n",
    "                cz = cz*(1+perChange)\n",
    "            switch0 = switch1\n",
    "            #if the guess has overshot twice, decrease the change in cz per guess\n",
    "            if swapped >1:\n",
    "                perChange = perChange*0.1\n",
    "                swapped = 0\n",
    "\n",
    "            log[i][\"q\"].append(qpllt)\n",
    "            log[i][\"perChange\"].append(perChange)\n",
    "            log[i][\"cz\"].append(cz)\n",
    "            log[i][\"error1\"].append(error1)\n",
    "            log[i][\"Tucalc\"].append(T[-1])\n",
    "\n",
    "        Tucalc = T[-1]\n",
    "        Tu = 0.8*Tu + 0.2*Tucalc\n",
    "        error0 = (Tu-Tucalc)/Tu\n",
    "        log[i][\"error0\"].append(error0)\n",
    "        log[i][\"Tu\"].append(Tu)\n",
    "\n",
    "\n",
    "    Q = []\n",
    "    for Tf in T:\n",
    "        Q.append(Lfunc(Tf))\n",
    "\n",
    "    C.append(np.sqrt(cz))\n",
    "    Tprofiles.append(T)\n",
    "    Sprofiles.append(s)\n",
    "    Qprofiles.append(q)\n",
    "    print(\"{}...\".format(i), end=\"\")\n",
    "print(\"Complete.\")\n",
    "\n",
    "# return splot, C, Sprofiles,Tprofiles,Qprofiles, log"
   ]
  },
  {
   "cell_type": "code",
   "execution_count": 118,
   "id": "bbf91fad-d7db-478d-86fb-d2e7af929983",
   "metadata": {},
   "outputs": [
    {
     "data": {
      "text/plain": [
       "260.8343506839461"
      ]
     },
     "execution_count": 118,
     "metadata": {},
     "output_type": "execute_result"
    }
   ],
   "source": [
    "cz\n",
    "Tu"
   ]
  },
  {
   "cell_type": "code",
   "execution_count": 121,
   "id": "60906d53-79a2-4770-8cc9-9daf8ca59b27",
   "metadata": {},
   "outputs": [
    {
     "name": "stdout",
     "output_type": "stream",
     "text": [
      "Cz: 19.54, TuError: -8.1585E-05\n",
      "260.7899357697094\n",
      "260.8112139564814\n"
     ]
    }
   ],
   "source": [
    "print(iterate(19.537)[\"Tu\"])\n",
    "print(Tucalc)"
   ]
  },
  {
   "cell_type": "code",
   "execution_count": 110,
   "id": "6898b6b4-6627-4150-93fd-61e9fc17f3a1",
   "metadata": {},
   "outputs": [
    {
     "data": {
      "text/plain": [
       "260.8654290671162"
      ]
     },
     "execution_count": 110,
     "metadata": {},
     "output_type": "execute_result"
    }
   ],
   "source": [
    "Tu"
   ]
  },
  {
   "cell_type": "code",
   "execution_count": 111,
   "id": "ae729467-7edb-4467-a9e0-eadb41aeb9bb",
   "metadata": {},
   "outputs": [
    {
     "data": {
      "text/plain": [
       "260.64405938076686"
      ]
     },
     "execution_count": 111,
     "metadata": {},
     "output_type": "execute_result"
    }
   ],
   "source": [
    "Tucalc"
   ]
  },
  {
   "cell_type": "code",
   "execution_count": 10,
   "id": "bbb000ac-95e1-42f8-ac73-b23f2b349b2f",
   "metadata": {},
   "outputs": [
    {
     "data": {
      "text/plain": [
       "[<matplotlib.lines.Line2D at 0x1c2e5a91520>]"
      ]
     },
     "execution_count": 10,
     "metadata": {},
     "output_type": "execute_result"
    },
    {
     "data": {
      "image/png": "[encoded data removed]",
      "text/plain": [
       "<Figure size 432x288 with 1 Axes>"
      ]
     },
     "metadata": {
      "needs_background": "light"
     },
     "output_type": "display_data"
    }
   ],
   "source": [
    "plt.plot(log[i][\"error0\"], marker = \"o\")"
   ]
  },
  {
   "cell_type": "code",
   "execution_count": 50,
   "id": "58aa34cd-79bf-4569-8bf8-19c7eff10de8",
   "metadata": {},
   "outputs": [
    {
     "data": {
      "text/plain": [
       "[<matplotlib.lines.Line2D at 0x2475a769b80>]"
      ]
     },
     "execution_count": 50,
     "metadata": {},
     "output_type": "execute_result"
    },
    {
     "data": {
      "image/png": "[encoded data removed]",
      "text/plain": [
       "<Figure size 432x288 with 1 Axes>"
      ]
     },
     "metadata": {
      "needs_background": "light"
     },
     "output_type": "display_data"
    }
   ],
   "source": [
    "plt.plot(log[i][\"error1\"], marker = \"o\")"
   ]
  },
  {
   "cell_type": "code",
   "execution_count": 27,
   "id": "a7dd4046-76c8-446b-b4b0-ccaeadcc5393",
   "metadata": {},
   "outputs": [
    {
     "data": {
      "image/png": "[encoded data removed]",
      "text/plain": [
       "<Figure size 1080x720 with 4 Axes>"
      ]
     },
     "metadata": {
      "needs_background": "light"
     },
     "output_type": "display_data"
    }
   ],
   "source": [
    "fig, ax = plt.subplots(4,1,figsize = (15,10))\n",
    "# ax.plot(log[i][\"cz\"], marker = \"o\", color = \"black\", markersize = 5, label = \"cz\")\n",
    "ax[0].plot(log[i][\"Tucalc\"], marker = \"o\", color = \"navy\", markersize = 5, label = \"Tucalc\")\n",
    "ax[1].plot(log[i][\"Tu\"], marker = \"o\", color = \"darkorange\", markersize = 5, label = \"Tu\")\n",
    "ax[2].plot(log[i][\"error1\"], marker = \"o\", color = \"purple\", markersize = 5, label = \"error1\")\n",
    "ax[3].plot(log[i][\"error0\"], marker = \"o\", color = \"green\", markersize = 5, label = \"error0\")\n",
    "\n",
    "for a in ax:\n",
    "    a.grid()\n",
    "    a.legend()"
   ]
  },
  {
   "cell_type": "markdown",
   "id": "fbadc3d6-89a6-4f63-a39f-549c1ed4386e",
   "metadata": {},
   "source": [
    "# Breakdown"
   ]
  },
  {
   "cell_type": "markdown",
   "id": "7060d924-ae29-4d63-a29f-e244f195179e",
   "metadata": {},
   "source": [
    "## Inputs"
   ]
  },
  {
   "cell_type": "code",
   "execution_count": 8,
   "id": "03d0e684-2cf3-43bc-9adb-38cbb2adb02e",
   "metadata": {},
   "outputs": [],
   "source": [
    "indexRange = [10]\n",
    "index = 10\n",
    "S = d[\"S\"]\n",
    "constants[\"XpointIndex\"] = d[\"Xpoint\"]\n",
    "constants[\"B\"] = interpolate.interp1d(d[\"S\"], d[\"Btot\"], kind='cubic') # Continuous function for B\n",
    "s = S[index:]\n",
    "\n",
    "# def returnImpurityFracLeng(constants,radios,S,indexRange,dispBassum = False,dispqassum = False,dispUassum = False):\n",
    "\"\"\" function that returns the impurity fraction required for a given temperature at the target. Can request a low temperature at a given position to mimick a detachment front at that position.\"\"\"\n",
    "C = []\n",
    "radfraction = []\n",
    "Tprofiles = []\n",
    "Sprofiles = []\n",
    "Qprofiles = []\n",
    "splot = []\n",
    "log = defaultdict(list)\n",
    "\n",
    "#lay out constants\n",
    "gamma_sheath = constants[\"gamma_sheath\"]\n",
    "qpllu0 = constants[\"qpllu0\"]\n",
    "nu = constants[\"nu\"]\n",
    "kappa0 = constants[\"kappa0\"]\n",
    "mi = constants[\"mi\"]\n",
    "echarge = constants[\"echarge\"]\n",
    "Tt = constants[\"Tt\"]\n",
    "Xpoint = constants[\"XpointIndex\"]\n",
    "B = constants[\"B\"]\n",
    "Lfunc = constants[\"Lfunc\"]\n",
    "alpha = constants[\"alpha\"]\n",
    "\n",
    "#initialise arrays for storing cooling curve data\n",
    "Tcool = np.linspace(0.3,500,1000)#should be this for Ar? Ryoko 20201209 --> almost no effect\n",
    "Lalpha = []\n",
    "for dT in Tcool:\n",
    "    Lalpha.append(Lfunc(dT))\n",
    "Lalpha = np.array(Lalpha)\n",
    "Tcool = np.append(0,Tcool)\n",
    "Lalpha = np.append(0,Lalpha)\n",
    "Lz = [Tcool,Lalpha]\n"
   ]
  },
  {
   "cell_type": "markdown",
   "id": "a153cfc9-c356-4d61-8266-fa06ecc3295f",
   "metadata": {
    "tags": []
   },
   "source": [
    "## Initial guesses"
   ]
  },
  {
   "cell_type": "code",
   "execution_count": 60,
   "id": "bccbc275-1eac-49a6-8937-311f8e00aea4",
   "metadata": {},
   "outputs": [
    {
     "name": "stdout",
     "output_type": "stream",
     "text": [
      "Inputs:\n",
      "qpllu0: 5000000000\n",
      "\n",
      "Guesses:\n",
      "Tu: 266.9356427950475\n",
      "cz: 55.59871028090193\n",
      "qpllt: 10916764.914420504\n"
     ]
    }
   ],
   "source": [
    "#inital guess for the value of qpll integrated across connection length\n",
    "qavLguess = 0\n",
    "if radios[\"upstreamGrid\"]:\n",
    "    if s[0] < S[Xpoint]:\n",
    "        qavLguess = ((qpllu0)*(S[Xpoint]-s[0]) + (qpllu0/2)*(s[-1]-S[Xpoint]))/(s[-1]-S[0])\n",
    "    else:\n",
    "        qavLguess = (qpllu0/2)\n",
    "else:\n",
    "    qavLguess = (qpllu0)\n",
    "\n",
    "#inital guess for upstream temperature based on guess of qpll ds integral\n",
    "Tu0 = ((7/2)*qavLguess*(s[-1]-s[0])/kappa0)**(2/7)\n",
    "Tu = Tu0\n",
    "\n",
    "Lint = cumtrapz(Lz[1]*np.sqrt(Lz[0]),Lz[0],initial = 0)\n",
    "integralinterp = interpolate.interp1d(Lz[0],Lint)\n",
    "#initial guess of cz0 assuming qpll0 everywhere and qpll=0 at target\n",
    "cz0 = (qpllu0**2 )/(2*kappa0*nu**2*Tu**2*integralinterp(Tu))\n",
    "cz = cz0\n",
    "\n",
    "# q at target when target temp = Tt (detached)\n",
    "qpllt = gamma_sheath/2*nu*Tu*echarge*np.sqrt(2*Tt*echarge/mi)\n",
    "\n",
    "print(\"Inputs:\")\n",
    "print(f\"qpllu0: {qpllu0}\")\n",
    "print(\"\\nGuesses:\")\n",
    "print(f\"Tu: {Tu0}\\ncz: {cz0}\\nqpllt: {qpllt}\")"
   ]
  },
  {
   "cell_type": "markdown",
   "id": "4c1dc78e-7aa0-4239-82f9-a4e7968033ca",
   "metadata": {},
   "source": [
    "## Test execution"
   ]
  },
  {
   "cell_type": "code",
   "execution_count": 33,
   "id": "5a850014-6d68-4202-8fc7-af285f2aa33f",
   "metadata": {},
   "outputs": [
    {
     "name": "stdout",
     "output_type": "stream",
     "text": [
      "Complete. qpllu is 5001239484.6933775 against 5000000000 target\n"
     ]
    }
   ],
   "source": [
    "result = odeint(LengFunc,y0=[qpllt/B(s[0]),Tt],t=s,args=(kappa0,nu,Tu,cz,qpllu0,alpha,radios,S,B,Xpoint,Lfunc))\n",
    "\n",
    "# Result returns integrals of [dqoverBds, dtds]\n",
    "q = result[:,0]*B(s)\n",
    "T = result[:,1]\n",
    "qpllu1 = q[-1]\n",
    "\n",
    "print(\"Complete. qpllu is {} against {} target\".format(qpllu1, qpllu0))"
   ]
  },
  {
   "cell_type": "markdown",
   "id": "171455db-f159-4ffc-9a00-c24e0af77a87",
   "metadata": {},
   "source": [
    "## Test cz scan"
   ]
  },
  {
   "cell_type": "code",
   "execution_count": 50,
   "id": "5a529071-b45c-4bd3-930b-a2743e8970ef",
   "metadata": {},
   "outputs": [
    {
     "name": "stdout",
     "output_type": "stream",
     "text": [
      "complete\n"
     ]
    },
    {
     "data": {
      "image/png": "[encoded data removed]",
      "text/plain": [
       "<Figure size 432x288 with 1 Axes>"
      ]
     },
     "metadata": {
      "needs_background": "light"
     },
     "output_type": "display_data"
    }
   ],
   "source": [
    "grid_cz = np.linspace(0,60,20)\n",
    "o = defaultdict(list)\n",
    "\n",
    "for cz in grid_cz:\n",
    "    result = odeint(LengFunc,y0=[qpllt/B(s[0]),Tt],t=s,args=(kappa0,nu,Tu,cz,qpllu0,alpha,radios,S,B,Xpoint,Lfunc))\n",
    "    o[\"q\"].append(result[:,0]*B(s))\n",
    "    o[\"T\"].append(result[:,1])\n",
    "    o[\"qpllu1\"].append(q[-1])\n",
    "    o[\"error\"].append((q[-1]-qpllu0)/qpllu0)\n",
    "    o[\"Tu\"].append(result[:,1][-1])\n",
    "    \n",
    "print(\"complete\")\n",
    "\n",
    "fig,ax = plt.subplots(figsize=(6,4))\n",
    "ax.plot(grid_cz, o[\"Tu\"], marker = \"o\")\n",
    "ax.set_xlabel(\"cz, impurity fraction\")\n",
    "ax.set_ylabel(\"Tu, upstream temperature\")\n",
    "ax.grid()"
   ]
  },
  {
   "cell_type": "markdown",
   "id": "10327ae9-9597-47f1-acf5-a1cd2489a922",
   "metadata": {},
   "source": [
    "##  Test algorithm"
   ]
  },
  {
   "cell_type": "code",
   "execution_count": 79,
   "id": "04c77978-f4ef-4639-bac7-5dae3cfb39b1",
   "metadata": {},
   "outputs": [],
   "source": [
    "def iterate(cz):\n",
    "    result = odeint(LengFunc,y0=[qpllt/B(s[0]),Tt],t=s,args=(kappa0,nu,Tu,cz,qpllu0,alpha,radios,S,B,Xpoint,Lfunc))\n",
    "    out = dict()\n",
    "    # Result returns integrals of [dqoverBds, dtds]\n",
    "    out[\"q\"] = result[:,0]*B(s)\n",
    "    out[\"T\"] = result[:,1]\n",
    "    out[\"qpllu1\"] = out[\"q\"][-1]\n",
    "    out[\"Tu\"] = out[\"T\"][-1]\n",
    "    out[\"TuError\"] = (out[\"Tu\"]-Tucalc)/Tucalc\n",
    "    print(\"Cz: {:.2f}, TuError: {:.4E}\".format(cz, out[\"TuError\"]))\n",
    "    return out"
   ]
  },
  {
   "cell_type": "code",
   "execution_count": 123,
   "id": "c2002f6b-9e53-4ac9-8b4a-0351c65158c9",
   "metadata": {},
   "outputs": [
    {
     "name": "stdout",
     "output_type": "stream",
     "text": [
      "Cz: 60.00, TuError: 1.7360E-01\n",
      "Cz: 30.00, TuError: 6.3075E-02\n",
      "Cz: 15.00, TuError: -3.7138E-02\n"
     ]
    }
   ],
   "source": [
    "cz = 60\n",
    "log = defaultdict(list)\n",
    "out = iterate(cz)\n",
    "\n",
    "# Gradient search \n",
    "# We are either doubling or halving cz until the error flips sign\n",
    "if out[\"TuError\"] > 0:\n",
    "    while out[\"TuError\"] > 0:\n",
    "        cz = cz / 2\n",
    "        out = iterate(cz)\n",
    "        log[\"cz\"].append(cz)\n",
    "        log[\"TuError\"].append(out[\"TuError\"])\n",
    "else:\n",
    "    while out[\"TuError\"] < 0:\n",
    "        cz = cz * 2\n",
    "        out = iterate(cz)\n",
    "        log[\"cz\"].append(cz)\n",
    "        log[\"TuError\"].append(out[\"TuError\"])\n",
    "    "
   ]
  },
  {
   "cell_type": "code",
   "execution_count": 124,
   "id": "ced71509-7ddc-430a-8f3e-cac57b0c2cda",
   "metadata": {},
   "outputs": [
    {
     "name": "stdout",
     "output_type": "stream",
     "text": [
      "Lower bound: 15.0, Upper bound: 30.0\n",
      "Cz: 22.50, TuError: 2.0291E-02\n",
      "Lower bound: 15.0, Upper bound: 22.5\n"
     ]
    }
   ],
   "source": [
    "# We have bounded the problem -  the last two iterations\n",
    "# are on either side of the solution, since they saw \n",
    "# the sign flip. Let's put them in variables\n",
    "lower_bound = min(log[\"cz\"][-1], log[\"cz\"][-2])\n",
    "upper_bound = max(log[\"cz\"][-1], log[\"cz\"][-2])\n",
    "\n",
    "print(f\"Lower bound: {lower_bound}, Upper bound: {upper_bound}\")\n",
    "\n",
    "# Now let's narrow the bounds\n",
    "cz = lower_bound + (upper_bound-lower_bound)/2\n",
    "out = iterate(cz)\n",
    "\n",
    "# We discover a new upper and lower bound\n",
    "if out[\"TuError\"] < 0:\n",
    "    lower_bound = cz\n",
    "elif out[\"TuError\"] > 0:\n",
    "    upper_bound = cz\n",
    "    \n",
    "print(f\"Lower bound: {lower_bound}, Upper bound: {upper_bound}\")"
   ]
  },
  {
   "cell_type": "code",
   "execution_count": 125,
   "id": "50ad4579-dbc7-4816-86ab-c551fd878274",
   "metadata": {},
   "outputs": [
    {
     "name": "stdout",
     "output_type": "stream",
     "text": [
      "Cz: 18.75, TuError: -5.9381E-03\n",
      "Lower bound: 18.750, Upper bound: 22.500\n",
      "Cz: 20.62, TuError: 7.6896E-03\n",
      "Lower bound: 18.750, Upper bound: 20.625\n",
      "Cz: 19.69, TuError: 1.0152E-03\n",
      "Lower bound: 18.750, Upper bound: 19.688\n",
      "Cz: 19.22, TuError: -2.4251E-03\n",
      "Lower bound: 19.219, Upper bound: 19.688\n",
      "Cz: 19.45, TuError: -6.9602E-04\n",
      "Lower bound: 19.453, Upper bound: 19.688\n",
      "Cz: 19.57, TuError: 1.6178E-04\n",
      "Lower bound: 19.453, Upper bound: 19.570\n",
      "Cz: 19.51, TuError: -2.6653E-04\n",
      "Lower bound: 19.512, Upper bound: 19.570\n",
      "Cz: 19.54, TuError: -5.2257E-05\n",
      "Lower bound: 19.541, Upper bound: 19.570\n",
      "Cz: 19.56, TuError: 5.4794E-05\n",
      "Lower bound: 19.541, Upper bound: 19.556\n",
      "Cz: 19.55, TuError: 1.3177E-06\n",
      "Lower bound: 19.541, Upper bound: 19.548\n",
      "Cz: 19.54, TuError: -2.5502E-05\n",
      "Lower bound: 19.545, Upper bound: 19.548\n",
      "Cz: 19.55, TuError: -1.2137E-05\n",
      "Lower bound: 19.547, Upper bound: 19.548\n",
      "Cz: 19.55, TuError: -5.3564E-06\n",
      "Lower bound: 19.547, Upper bound: 19.548\n",
      "Cz: 19.55, TuError: -2.0116E-06\n",
      "Lower bound: 19.548, Upper bound: 19.548\n",
      "Cz: 19.55, TuError: -3.9338E-07\n",
      "Lower bound: 19.548, Upper bound: 19.548\n",
      "Cz: 19.55, TuError: 4.1326E-07\n",
      "Lower bound: 19.548, Upper bound: 19.548\n",
      "Cz: 19.55, TuError: 1.3943E-07\n",
      "Lower bound: 19.548, Upper bound: 19.548\n",
      "Cz: 19.55, TuError: -1.6494E-07\n",
      "Lower bound: 19.548, Upper bound: 19.548\n",
      "Cz: 19.55, TuError: -6.4615E-08\n",
      "Lower bound: 19.548, Upper bound: 19.548\n",
      "Cz: 19.55, TuError: -1.0301E-08\n",
      "Lower bound: 19.548, Upper bound: 19.548\n",
      "Cz: 19.55, TuError: 5.0237E-08\n",
      "Lower bound: 19.548, Upper bound: 19.548\n",
      "Cz: 19.55, TuError: 1.6719E-08\n",
      "Lower bound: 19.548, Upper bound: 19.548\n",
      "Cz: 19.55, TuError: -1.7781E-08\n",
      "Lower bound: 19.548, Upper bound: 19.548\n",
      "Cz: 19.55, TuError: -8.1001E-09\n",
      "Lower bound: 19.548, Upper bound: 19.548\n"
     ]
    }
   ],
   "source": [
    "while abs(out[\"TuError\"]) > 1e-8:\n",
    "    # Now let's narrow the bounds\n",
    "    cz = lower_bound + (upper_bound-lower_bound)/2\n",
    "    out = iterate(cz)\n",
    "\n",
    "    # We discover a new upper and lower bound\n",
    "    if out[\"TuError\"] < 0:\n",
    "        lower_bound = cz\n",
    "    elif out[\"TuError\"] > 0:\n",
    "        upper_bound = cz\n",
    "        \n",
    "    print(f\"Lower bound: {lower_bound:.3f}, Upper bound: {upper_bound:.3f}\")"
   ]
  },
  {
   "cell_type": "markdown",
   "id": "c76c0729-5aaf-4fa8-ade8-43a71fb3c2bb",
   "metadata": {},
   "source": [
    "## All together"
   ]
  },
  {
   "cell_type": "code",
   "execution_count": 141,
   "id": "ecef6c66-a6af-40ea-8c6b-45026d6c6b83",
   "metadata": {},
   "outputs": [
    {
     "name": "stdout",
     "output_type": "stream",
     "text": [
      "Initialising\n",
      "Cz: 50.00, TuError: 1.4347E-01\n",
      "Finding bounds...\n",
      "cz: 25.00, TuError: 3.576E-02\n",
      "cz: 12.50, TuError: -6.192E-02\n",
      "Bounds established. Lower bound: 12.5, Upper bound: 25.0\n",
      ">Bounds: 18.750-25.000, cz: 18.750, TuError: -5.938E-03\n",
      ">Bounds: 18.750-21.875, cz: 21.875, TuError: 1.619E-02\n",
      ">Bounds: 18.750-20.312, cz: 20.312, TuError: 5.494E-03\n",
      ">Bounds: 19.531-20.312, cz: 19.531, TuError: -1.237E-04\n",
      ">Bounds: 19.531-19.922, cz: 19.922, TuError: 2.709E-03\n",
      ">Bounds: 19.531-19.727, cz: 19.727, TuError: 1.299E-03\n",
      ">Bounds: 19.531-19.629, cz: 19.629, TuError: 5.890E-04\n",
      ">Bounds: 19.531-19.580, cz: 19.580, TuError: 2.331E-04\n",
      ">Bounds: 19.531-19.556, cz: 19.556, TuError: 5.479E-05\n",
      ">Bounds: 19.543-19.556, cz: 19.543, TuError: -3.439E-05\n",
      ">Bounds: 19.543-19.550, cz: 19.550, TuError: 1.023E-05\n",
      ">Bounds: 19.547-19.550, cz: 19.547, TuError: -1.214E-05\n",
      ">Bounds: 19.548-19.550, cz: 19.548, TuError: -9.262E-07\n"
     ]
    }
   ],
   "source": [
    "cz = 50\n",
    "tol = 1e-5\n",
    "\n",
    "def iterate(cz):\n",
    "    result = odeint(LengFunc,y0=[qpllt/B(s[0]),Tt],t=s,args=(kappa0,nu,Tu,cz,qpllu0,alpha,radios,S,B,Xpoint,Lfunc))\n",
    "    out = dict()\n",
    "    # Result returns integrals of [dqoverBds, dtds]\n",
    "    out[\"q\"] = result[:,0]*B(s)\n",
    "    out[\"T\"] = result[:,1]\n",
    "    out[\"qpllu1\"] = out[\"q\"][-1]\n",
    "    out[\"Tu\"] = out[\"T\"][-1]\n",
    "    out[\"TuError\"] = (out[\"Tu\"]-Tucalc)/Tucalc\n",
    "    # print(\"Cz: {:.2f}, TuError: {:.4E}\".format(cz, out[\"TuError\"]))\n",
    "    return out\n",
    "    \n",
    "# Initialise\n",
    "log = defaultdict(list)\n",
    "out = iterate(cz)\n",
    "print(\"Initialising\")\n",
    "print(\"Cz: {:.2f}, TuError: {:.4E}\".format(cz, out[\"TuError\"]))\n",
    "if out[\"TuError\"] < tol:\n",
    "    print(\"Error - initial guess already within tolerance\")\n",
    "print(\"Finding bounds...\")\n",
    "\n",
    "# Gradient search \n",
    "# We are either doubling or halving cz until the error flips sign\n",
    "if out[\"TuError\"] > 0:\n",
    "    while out[\"TuError\"] > 0:\n",
    "        cz = cz / 2\n",
    "        out = iterate(cz)\n",
    "        log[\"cz\"].append(cz)\n",
    "        log[\"TuError\"].append(out[\"TuError\"])\n",
    "        print(\"cz: {:.2f}, TuError: {:.3E}\".format(cz, out[\"TuError\"]))\n",
    "        \n",
    "else:\n",
    "    while out[\"TuError\"] < 0:\n",
    "        cz = cz * 2\n",
    "        out = iterate(cz)\n",
    "        log[\"cz\"].append(cz)\n",
    "        log[\"TuError\"].append(out[\"TuError\"])\n",
    "        print(\"cz: {:.2f}, TuError: {:.3E}\".format(cz, out[\"TuError\"]))\n",
    "          \n",
    "# We have bounded the problem -  the last two iterations\n",
    "# are on either side of the solution, since they saw \n",
    "# the sign flip. Let's put them in variables\n",
    "lower_bound = min(log[\"cz\"][-1], log[\"cz\"][-2])\n",
    "upper_bound = max(log[\"cz\"][-1], log[\"cz\"][-2])\n",
    "\n",
    "print(f\"Bounds established. Lower bound: {lower_bound}, Upper bound: {upper_bound}\")\n",
    "\n",
    "while abs(out[\"TuError\"]) > tol:\n",
    "    # Now let's narrow the bounds.\n",
    "    # New cz guess is halfway between the upper and lower bound.\n",
    "    cz = lower_bound + (upper_bound-lower_bound)/2\n",
    "    out = iterate(cz)\n",
    "    log[\"cz\"].append(cz)\n",
    "    log[\"TuError\"].append(out[\"TuError\"])\n",
    "\n",
    "    # We discover a new upper and lower bound. Feed that back\n",
    "    # into the next guess until the tolerance level is reached.\n",
    "    if out[\"TuError\"] < 0:\n",
    "        lower_bound = cz\n",
    "    elif out[\"TuError\"] > 0:\n",
    "        upper_bound = cz\n",
    "        \n",
    "    print(\">Bounds: {:.3f}-{:.3f}, cz: {:.3f}, TuError: {:.3E}\".format(lower_bound, upper_bound, cz, out[\"TuError\"]))"
   ]
  },
  {
   "cell_type": "markdown",
   "id": "ea17416c-8e75-4009-b1da-475aa4882ef1",
   "metadata": {},
   "source": [
    "## Change error to error1 (residual in q)"
   ]
  },
  {
   "cell_type": "code",
   "execution_count": 131,
   "id": "a0ce6249-3549-4512-839b-4cb22d1e7ecf",
   "metadata": {
    "tags": []
   },
   "outputs": [
    {
     "name": "stdout",
     "output_type": "stream",
     "text": [
      "\n",
      ">>>>> Tu: 266.9356427950475\n",
      "cz: 55.60, error1: 7.2499E-01\n",
      "cz: 27.80, error1: 2.204E-01\n",
      "cz: 13.90, error1: -1.368E-01\n",
      ">Bounds: 13.900-20.850, cz: 20.850, error1: 5.708E-02\n",
      ">Bounds: 17.375-20.850, cz: 17.375, error1: -3.496E-02\n",
      ">Bounds: 17.375-19.112, cz: 19.112, error1: 1.212E-02\n",
      ">Bounds: 18.243-19.112, cz: 18.243, error1: -1.114E-02\n",
      ">Bounds: 18.243-18.678, cz: 18.678, error1: 5.562E-04\n",
      ">Bounds: 18.461-18.678, cz: 18.461, error1: -5.274E-03\n",
      ">Bounds: 18.569-18.678, cz: 18.569, error1: -2.355E-03\n",
      ">Bounds: 18.623-18.678, cz: 18.623, error1: -8.981E-04\n",
      ">Bounds: 18.651-18.678, cz: 18.651, error1: -1.707E-04\n",
      ">Bounds: 18.651-18.664, cz: 18.664, error1: 1.928E-04\n",
      ">Bounds: 18.651-18.657, cz: 18.657, error1: 1.109E-05\n",
      ">Bounds: 18.654-18.657, cz: 18.654, error1: -7.979E-05\n",
      ">Bounds: 18.656-18.657, cz: 18.656, error1: -3.435E-05\n",
      ">Bounds: 18.656-18.657, cz: 18.656, error1: -1.163E-05\n",
      ">Bounds: 18.657-18.657, cz: 18.657, error1: -2.700E-07\n",
      "-----------error0: 1.163E-02, Tu: 263.87\n",
      "\n",
      ">>>>> Tu: 263.86559413400425\n",
      "cz: 18.66, error1: -1.1494E-02\n",
      "cz: 37.31, error1: 3.974E-01\n",
      ">Bounds: 18.657-19.123, cz: 19.123, error1: 7.781E-04\n",
      ">Bounds: 18.890-19.123, cz: 18.890, error1: -5.339E-03\n",
      ">Bounds: 19.007-19.123, cz: 19.007, error1: -2.276E-03\n",
      ">Bounds: 19.065-19.123, cz: 19.065, error1: -7.476E-04\n",
      ">Bounds: 19.065-19.094, cz: 19.094, error1: 1.551E-05\n",
      ">Bounds: 19.080-19.094, cz: 19.080, error1: -3.660E-04\n",
      ">Bounds: 19.087-19.094, cz: 19.087, error1: -1.752E-04\n",
      ">Bounds: 19.091-19.094, cz: 19.091, error1: -7.983E-05\n",
      ">Bounds: 19.092-19.094, cz: 19.092, error1: -3.216E-05\n",
      ">Bounds: 19.093-19.094, cz: 19.093, error1: -8.319E-06\n",
      ">Bounds: 19.093-19.094, cz: 19.094, error1: 3.597E-06\n",
      ">Bounds: 19.093-19.094, cz: 19.093, error1: -2.361E-06\n",
      ">Bounds: 19.093-19.094, cz: 19.094, error1: 6.185E-07\n",
      "-----------error0: 5.851E-03, Tu: 262.33\n",
      "\n",
      ">>>>> Tu: 262.3306015085841\n",
      "cz: 19.09, error1: -5.8127E-03\n",
      "cz: 38.19, error1: 4.054E-01\n",
      ">Bounds: 19.094-19.571, cz: 19.571, error1: 6.529E-03\n",
      ">Bounds: 19.094-19.332, cz: 19.332, error1: 3.774E-04\n",
      ">Bounds: 19.213-19.332, cz: 19.213, error1: -2.713E-03\n",
      ">Bounds: 19.273-19.332, cz: 19.273, error1: -1.166E-03\n",
      ">Bounds: 19.302-19.332, cz: 19.302, error1: -3.943E-04\n",
      ">Bounds: 19.317-19.332, cz: 19.317, error1: -8.379E-06\n",
      ">Bounds: 19.317-19.325, cz: 19.325, error1: 1.845E-04\n",
      ">Bounds: 19.317-19.321, cz: 19.321, error1: 8.807E-05\n",
      ">Bounds: 19.317-19.319, cz: 19.319, error1: 3.983E-05\n",
      ">Bounds: 19.317-19.318, cz: 19.318, error1: 1.573E-05\n",
      ">Bounds: 19.317-19.318, cz: 19.318, error1: 3.675E-06\n",
      ">Bounds: 19.318-19.318, cz: 19.318, error1: -2.352E-06\n",
      ">Bounds: 19.318-19.318, cz: 19.318, error1: 6.620E-07\n",
      "-----------error0: 2.934E-03, Tu: 261.56\n",
      "\n",
      ">>>>> Tu: 261.563104270689\n",
      "cz: 19.32, error1: -2.9230E-03\n",
      "cz: 38.64, error1: 4.095E-01\n",
      ">Bounds: 19.318-19.801, cz: 19.801, error1: 9.455E-03\n",
      ">Bounds: 19.318-19.559, cz: 19.559, error1: 3.285E-03\n",
      ">Bounds: 19.318-19.438, cz: 19.438, error1: 1.859E-04\n",
      ">Bounds: 19.378-19.438, cz: 19.378, error1: -1.367E-03\n",
      ">Bounds: 19.408-19.438, cz: 19.408, error1: -5.904E-04\n",
      ">Bounds: 19.423-19.438, cz: 19.423, error1: -2.022E-04\n",
      ">Bounds: 19.431-19.438, cz: 19.431, error1: -8.167E-06\n",
      ">Bounds: 19.431-19.435, cz: 19.435, error1: 8.885E-05\n",
      ">Bounds: 19.431-19.433, cz: 19.433, error1: 4.033E-05\n",
      ">Bounds: 19.431-19.432, cz: 19.432, error1: 1.608E-05\n",
      ">Bounds: 19.431-19.431, cz: 19.431, error1: 3.957E-06\n",
      ">Bounds: 19.431-19.431, cz: 19.431, error1: -2.105E-06\n",
      ">Bounds: 19.431-19.431, cz: 19.431, error1: 9.262E-07\n",
      "-----------error0: 1.469E-03, Tu: 261.18\n",
      "\n",
      ">>>>> Tu: 261.17936935420573\n",
      "cz: 19.43, error1: -1.4652E-03\n",
      "cz: 38.86, error1: 4.116E-01\n",
      ">Bounds: 19.431-19.917, cz: 19.917, error1: 1.093E-02\n",
      ">Bounds: 19.431-19.674, cz: 19.674, error1: 4.752E-03\n",
      ">Bounds: 19.431-19.553, cz: 19.553, error1: 1.648E-03\n",
      ">Bounds: 19.431-19.492, cz: 19.492, error1: 9.277E-05\n",
      ">Bounds: 19.462-19.492, cz: 19.462, error1: -6.859E-04\n",
      ">Bounds: 19.477-19.492, cz: 19.477, error1: -2.965E-04\n",
      ">Bounds: 19.484-19.492, cz: 19.484, error1: -1.018E-04\n",
      ">Bounds: 19.488-19.492, cz: 19.488, error1: -4.527E-06\n",
      ">Bounds: 19.488-19.490, cz: 19.490, error1: 4.411E-05\n",
      ">Bounds: 19.488-19.489, cz: 19.489, error1: 1.979E-05\n",
      ">Bounds: 19.488-19.489, cz: 19.489, error1: 7.632E-06\n",
      ">Bounds: 19.488-19.488, cz: 19.488, error1: 1.553E-06\n",
      ">Bounds: 19.488-19.488, cz: 19.488, error1: -1.487E-06\n",
      ">Bounds: 19.488-19.488, cz: 19.488, error1: 3.271E-08\n",
      "-----------error0: 7.353E-04, Tu: 260.99\n",
      "\n",
      ">>>>> Tu: 260.9874757748255\n",
      "cz: 19.49, error1: -7.3418E-04\n",
      "cz: 38.98, error1: 4.126E-01\n",
      ">Bounds: 19.488-19.976, cz: 19.976, error1: 1.167E-02\n",
      ">Bounds: 19.488-19.732, cz: 19.732, error1: 5.487E-03\n",
      ">Bounds: 19.488-19.610, cz: 19.610, error1: 2.381E-03\n",
      ">Bounds: 19.488-19.549, cz: 19.549, error1: 8.249E-04\n",
      ">Bounds: 19.488-19.519, cz: 19.519, error1: 4.564E-05\n",
      ">Bounds: 19.504-19.519, cz: 19.504, error1: -3.442E-04\n",
      ">Bounds: 19.511-19.519, cz: 19.511, error1: -1.492E-04\n",
      ">Bounds: 19.515-19.519, cz: 19.515, error1: -5.178E-05\n",
      ">Bounds: 19.517-19.519, cz: 19.517, error1: -3.068E-06\n",
      ">Bounds: 19.517-19.518, cz: 19.518, error1: 2.128E-05\n",
      ">Bounds: 19.517-19.517, cz: 19.517, error1: 9.108E-06\n",
      ">Bounds: 19.517-19.517, cz: 19.517, error1: 3.021E-06\n",
      ">Bounds: 19.517-19.517, cz: 19.517, error1: -2.354E-08\n",
      "-----------error0: 3.678E-04, Tu: 260.89\n",
      "\n",
      ">>>>> Tu: 260.8915255138943\n",
      "cz: 19.52, error1: -3.6741E-04\n",
      "cz: 39.03, error1: 4.131E-01\n",
      ">Bounds: 19.517-20.005, cz: 20.005, error1: 1.204E-02\n",
      ">Bounds: 19.517-19.761, cz: 19.761, error1: 5.856E-03\n",
      ">Bounds: 19.517-19.639, cz: 19.639, error1: 2.749E-03\n",
      ">Bounds: 19.517-19.578, cz: 19.578, error1: 1.192E-03\n",
      ">Bounds: 19.517-19.548, cz: 19.548, error1: 4.127E-04\n",
      ">Bounds: 19.517-19.532, cz: 19.532, error1: 2.271E-05\n",
      ">Bounds: 19.525-19.532, cz: 19.525, error1: -1.723E-04\n",
      ">Bounds: 19.528-19.532, cz: 19.528, error1: -7.479E-05\n",
      ">Bounds: 19.530-19.532, cz: 19.530, error1: -2.603E-05\n",
      ">Bounds: 19.531-19.532, cz: 19.531, error1: -1.656E-06\n",
      ">Bounds: 19.531-19.532, cz: 19.532, error1: 1.053E-05\n",
      ">Bounds: 19.531-19.532, cz: 19.532, error1: 4.437E-06\n",
      ">Bounds: 19.531-19.531, cz: 19.531, error1: 1.391E-06\n",
      ">Bounds: 19.531-19.531, cz: 19.531, error1: -1.325E-07\n",
      "-----------error0: 1.840E-04, Tu: 260.84\n",
      "\n",
      ">>>>> Tu: 260.84354058518045\n",
      "cz: 19.53, error1: -1.8393E-04\n",
      "cz: 39.06, error1: 4.134E-01\n",
      ">Bounds: 19.531-20.020, cz: 20.020, error1: 1.223E-02\n",
      ">Bounds: 19.531-19.776, cz: 19.776, error1: 6.041E-03\n",
      ">Bounds: 19.531-19.653, cz: 19.653, error1: 2.933E-03\n",
      ">Bounds: 19.531-19.592, cz: 19.592, error1: 1.376E-03\n",
      ">Bounds: 19.531-19.562, cz: 19.562, error1: 5.963E-04\n",
      ">Bounds: 19.531-19.547, cz: 19.547, error1: 2.063E-04\n",
      ">Bounds: 19.531-19.539, cz: 19.539, error1: 1.119E-05\n",
      ">Bounds: 19.535-19.539, cz: 19.535, error1: -8.636E-05\n",
      ">Bounds: 19.537-19.539, cz: 19.537, error1: -3.758E-05\n",
      ">Bounds: 19.538-19.539, cz: 19.538, error1: -1.320E-05\n",
      ">Bounds: 19.539-19.539, cz: 19.539, error1: -1.003E-06\n",
      ">Bounds: 19.539-19.539, cz: 19.539, error1: 5.092E-06\n",
      ">Bounds: 19.539-19.539, cz: 19.539, error1: 2.044E-06\n",
      ">Bounds: 19.539-19.539, cz: 19.539, error1: 5.204E-07\n",
      "-----------error0: 9.188E-05, Tu: 260.82\n",
      "\n",
      ">>>>> Tu: 260.819577339421\n",
      "cz: 19.54, error1: -9.1277E-05\n",
      "cz: 39.08, error1: 4.135E-01\n",
      ">Bounds: 19.539-20.027, cz: 20.027, error1: 1.232E-02\n",
      ">Bounds: 19.539-19.783, cz: 19.783, error1: 6.134E-03\n",
      ">Bounds: 19.539-19.661, cz: 19.661, error1: 3.026E-03\n",
      ">Bounds: 19.539-19.600, cz: 19.600, error1: 1.469E-03\n",
      ">Bounds: 19.539-19.569, cz: 19.569, error1: 6.891E-04\n",
      ">Bounds: 19.539-19.554, cz: 19.554, error1: 2.990E-04\n",
      ">Bounds: 19.539-19.546, cz: 19.546, error1: 1.039E-04\n",
      ">Bounds: 19.539-19.542, cz: 19.542, error1: 6.289E-06\n",
      ">Bounds: 19.541-19.542, cz: 19.541, error1: -4.249E-05\n",
      ">Bounds: 19.541-19.542, cz: 19.541, error1: -1.810E-05\n",
      ">Bounds: 19.542-19.542, cz: 19.542, error1: -5.904E-06\n",
      ">Bounds: 19.542-19.542, cz: 19.542, error1: 1.926E-07\n",
      "-----------error0: 4.600E-05, Tu: 260.81\n",
      "\n",
      ">>>>> Tu: 260.8075807966371\n",
      "cz: 19.54, error1: -4.5762E-05\n",
      "cz: 39.08, error1: 4.136E-01\n",
      ">Bounds: 19.542-20.031, cz: 20.031, error1: 1.237E-02\n",
      ">Bounds: 19.542-19.786, cz: 19.786, error1: 6.180E-03\n",
      ">Bounds: 19.542-19.664, cz: 19.664, error1: 3.072E-03\n",
      ">Bounds: 19.542-19.603, cz: 19.603, error1: 1.514E-03\n",
      ">Bounds: 19.542-19.573, cz: 19.573, error1: 7.346E-04\n",
      ">Bounds: 19.542-19.557, cz: 19.557, error1: 3.445E-04\n",
      ">Bounds: 19.542-19.550, cz: 19.550, error1: 1.494E-04\n",
      ">Bounds: 19.542-19.546, cz: 19.546, error1: 5.180E-05\n",
      ">Bounds: 19.542-19.544, cz: 19.544, error1: 3.019E-06\n",
      ">Bounds: 19.543-19.544, cz: 19.543, error1: -2.137E-05\n",
      ">Bounds: 19.544-19.544, cz: 19.544, error1: -9.176E-06\n",
      ">Bounds: 19.544-19.544, cz: 19.544, error1: -3.078E-06\n",
      ">Bounds: 19.544-19.544, cz: 19.544, error1: -2.953E-08\n",
      "-----------error0: 2.302E-05, Tu: 260.80\n",
      "\n",
      ">>>>> Tu: 260.8015778022149\n",
      "cz: 19.54, error1: -2.3027E-05\n",
      "cz: 39.09, error1: 4.136E-01\n",
      ">Bounds: 19.544-20.033, cz: 20.033, error1: 1.239E-02\n",
      ">Bounds: 19.544-19.788, cz: 19.788, error1: 6.203E-03\n",
      ">Bounds: 19.544-19.666, cz: 19.666, error1: 3.095E-03\n",
      ">Bounds: 19.544-19.605, cz: 19.605, error1: 1.537E-03\n",
      ">Bounds: 19.544-19.574, cz: 19.574, error1: 7.574E-04\n",
      ">Bounds: 19.544-19.559, cz: 19.559, error1: 3.672E-04\n",
      ">Bounds: 19.544-19.552, cz: 19.552, error1: 1.721E-04\n",
      ">Bounds: 19.544-19.548, cz: 19.548, error1: 7.455E-05\n",
      ">Bounds: 19.544-19.546, cz: 19.546, error1: 2.575E-05\n",
      ">Bounds: 19.544-19.545, cz: 19.545, error1: 1.365E-06\n",
      ">Bounds: 19.544-19.545, cz: 19.544, error1: -1.083E-05\n",
      ">Bounds: 19.545-19.545, cz: 19.545, error1: -4.732E-06\n",
      ">Bounds: 19.545-19.545, cz: 19.545, error1: -1.683E-06\n",
      ">Bounds: 19.545-19.545, cz: 19.545, error1: -1.590E-07\n",
      "-----------error0: 1.155E-05, Tu: 260.80\n",
      "\n",
      ">>>>> Tu: 260.79856586355754\n",
      "cz: 19.54, error1: -1.1697E-05\n",
      "cz: 39.09, error1: 4.136E-01\n",
      ">Bounds: 19.545-20.033, cz: 20.033, error1: 1.240E-02\n",
      ">Bounds: 19.545-19.789, cz: 19.789, error1: 6.214E-03\n",
      ">Bounds: 19.545-19.667, cz: 19.667, error1: 3.106E-03\n",
      ">Bounds: 19.545-19.606, cz: 19.606, error1: 1.548E-03\n",
      ">Bounds: 19.545-19.575, cz: 19.575, error1: 7.687E-04\n",
      ">Bounds: 19.545-19.560, cz: 19.560, error1: 3.786E-04\n",
      ">Bounds: 19.545-19.552, cz: 19.552, error1: 1.835E-04\n",
      ">Bounds: 19.545-19.549, cz: 19.549, error1: 8.588E-05\n",
      ">Bounds: 19.545-19.547, cz: 19.547, error1: 3.708E-05\n",
      ">Bounds: 19.545-19.546, cz: 19.546, error1: 1.269E-05\n",
      ">Bounds: 19.545-19.545, cz: 19.545, error1: 4.984E-07\n",
      "-----------error0: 5.668E-06, Tu: 260.80\n",
      "\n",
      ">>>>> Tu: 260.7970875580505\n",
      "cz: 19.55, error1: -5.1646E-06\n",
      "cz: 39.09, error1: 4.136E-01\n",
      ">Bounds: 19.545-20.034, cz: 20.034, error1: 1.241E-02\n",
      ">Bounds: 19.545-19.790, cz: 19.790, error1: 6.221E-03\n",
      ">Bounds: 19.545-19.667, cz: 19.667, error1: 3.113E-03\n",
      ">Bounds: 19.545-19.606, cz: 19.606, error1: 1.555E-03\n",
      ">Bounds: 19.545-19.576, cz: 19.576, error1: 7.752E-04\n",
      ">Bounds: 19.545-19.561, cz: 19.561, error1: 3.851E-04\n",
      ">Bounds: 19.545-19.553, cz: 19.553, error1: 1.900E-04\n",
      ">Bounds: 19.545-19.549, cz: 19.549, error1: 9.242E-05\n",
      ">Bounds: 19.545-19.547, cz: 19.547, error1: 4.361E-05\n",
      ">Bounds: 19.545-19.546, cz: 19.546, error1: 1.922E-05\n",
      ">Bounds: 19.545-19.546, cz: 19.546, error1: 7.030E-06\n",
      ">Bounds: 19.545-19.546, cz: 19.546, error1: 9.331E-07\n",
      "-----------error0: 2.786E-06, Tu: 260.80\n",
      "\n",
      ">>>>> Tu: 260.7963609956873\n",
      "cz: 19.55, error1: -1.8501E-06\n",
      "cz: 39.09, error1: 4.136E-01\n",
      ">Bounds: 19.546-20.034, cz: 20.034, error1: 1.241E-02\n",
      ">Bounds: 19.546-19.790, cz: 19.790, error1: 6.224E-03\n",
      ">Bounds: 19.546-19.668, cz: 19.668, error1: 3.116E-03\n",
      ">Bounds: 19.546-19.607, cz: 19.607, error1: 1.558E-03\n",
      ">Bounds: 19.546-19.576, cz: 19.576, error1: 7.786E-04\n",
      ">Bounds: 19.546-19.561, cz: 19.561, error1: 3.884E-04\n",
      ">Bounds: 19.546-19.553, cz: 19.553, error1: 1.933E-04\n",
      ">Bounds: 19.546-19.549, cz: 19.549, error1: 9.573E-05\n",
      ">Bounds: 19.546-19.547, cz: 19.547, error1: 4.693E-05\n",
      ">Bounds: 19.546-19.547, cz: 19.547, error1: 2.253E-05\n",
      ">Bounds: 19.546-19.546, cz: 19.546, error1: 1.034E-05\n",
      ">Bounds: 19.546-19.546, cz: 19.546, error1: 4.247E-06\n",
      ">Bounds: 19.546-19.546, cz: 19.546, error1: 1.199E-06\n",
      ">Bounds: 19.546-19.546, cz: 19.546, error1: -3.257E-07\n",
      "-----------error0: 1.564E-06, Tu: 260.80\n",
      "\n",
      ">>>>> Tu: 260.7959531788255\n",
      "cz: 19.55, error1: -1.8880E-06\n",
      "cz: 39.09, error1: 4.136E-01\n",
      ">Bounds: 19.546-20.034, cz: 20.034, error1: 1.241E-02\n",
      ">Bounds: 19.546-19.790, cz: 19.790, error1: 6.224E-03\n",
      ">Bounds: 19.546-19.668, cz: 19.668, error1: 3.116E-03\n",
      ">Bounds: 19.546-19.607, cz: 19.607, error1: 1.558E-03\n",
      ">Bounds: 19.546-19.576, cz: 19.576, error1: 7.785E-04\n",
      ">Bounds: 19.546-19.561, cz: 19.561, error1: 3.884E-04\n",
      ">Bounds: 19.546-19.553, cz: 19.553, error1: 1.933E-04\n",
      ">Bounds: 19.546-19.549, cz: 19.549, error1: 9.570E-05\n",
      ">Bounds: 19.546-19.548, cz: 19.548, error1: 4.690E-05\n",
      ">Bounds: 19.546-19.547, cz: 19.547, error1: 2.250E-05\n",
      ">Bounds: 19.546-19.546, cz: 19.546, error1: 1.031E-05\n",
      ">Bounds: 19.546-19.546, cz: 19.546, error1: 4.209E-06\n",
      ">Bounds: 19.546-19.546, cz: 19.546, error1: 1.161E-06\n",
      ">Bounds: 19.546-19.546, cz: 19.546, error1: -3.636E-07\n",
      "-----------error0: 7.849E-07, Tu: 260.80\n"
     ]
    }
   ],
   "source": [
    "cz = 50\n",
    "tol = 1e-4\n",
    "error0 = 1\n",
    "error1 = 1\n",
    "\n",
    "# GUESSES\n",
    "Tu0 = ((7/2)*qavLguess*(s[-1]-s[0])/kappa0)**(2/7)\n",
    "Tu = Tu0\n",
    "\n",
    "#initial guess of cz0 assuming qpll0 everywhere and qpll=0 at target\n",
    "cz0 = (qpllu0**2 )/(2*kappa0*nu**2*Tu**2*integralinterp(Tu))\n",
    "cz = cz0\n",
    "\n",
    "\n",
    "log = defaultdict(list)\n",
    "log[\"error1\"].append(error1)\n",
    "\n",
    "while error0 > tol:\n",
    "\n",
    "    print(\"\\n>>>>> Tu: {}\".format(Tu))\n",
    "    \n",
    "    # New cz guess set to the solution of last Tu iteration, unless first iteration\n",
    "    if cz != cz0:\n",
    "        cz = log[\"cz\"][-1]\n",
    "    else:\n",
    "        log[\"cz\"].append(cz0)\n",
    "        \n",
    "    \n",
    "    \n",
    "    def iterate(cz):\n",
    "        result = odeint(LengFunc,y0=[qpllt/B(s[0]),Tt],t=s,args=(kappa0,nu,Tu,cz,qpllu0,alpha,radios,S,B,Xpoint,Lfunc))\n",
    "        out = dict()\n",
    "        # Result returns integrals of [dqoverBds, dtds]\n",
    "        out[\"q\"] = result[:,0]*B(s)\n",
    "        out[\"T\"] = result[:,1]\n",
    "        out[\"qpllu1\"] = out[\"q\"][-1]\n",
    "        out[\"Tu\"] = out[\"T\"][-1]\n",
    "\n",
    "        if radios[\"upstreamGrid\"]:\n",
    "            out[\"error1\"] = (out[\"qpllu1\"]-0)/qpllu0\n",
    "        else:\n",
    "            out[\"error1\"] = (out[\"qpllu1\"]-qpllu0)/qpllu0\n",
    "\n",
    "        return out\n",
    "\n",
    "    # Initialise\n",
    "    \n",
    "    out = iterate(cz)\n",
    "\n",
    "    print(\"cz: {:.2f}, error1: {:.4E}\".format(cz, out[\"error1\"]))\n",
    "\n",
    "    if abs(out[\"error1\"]) > tol:\n",
    "\n",
    "        # Gradient search \n",
    "        # We are either doubling or halving cz until the error flips sign\n",
    "        log[\"cz\"].append(cz)\n",
    "        log[\"error1\"].append(out[\"error1\"])\n",
    "        refinement = 1#np.log(len(log[\"Tu\"])+1)\n",
    "        \n",
    "        if out[\"error1\"] > 0:\n",
    "            \n",
    "            while out[\"error1\"] > 0:\n",
    "                cz = cz / (2/refinement)\n",
    "                out = iterate(cz)\n",
    "                log[\"cz\"].append(cz)\n",
    "                log[\"error1\"].append(out[\"error1\"])\n",
    "                print(\"cz: {:.2f}, error1: {:.3E}\".format(cz, out[\"error1\"]))\n",
    "\n",
    "        else:\n",
    "            while out[\"error1\"] < 0:\n",
    "                cz = cz * (2/refinement)\n",
    "                out = iterate(cz)\n",
    "                log[\"cz\"].append(cz)\n",
    "                log[\"error1\"].append(out[\"error1\"])\n",
    "                print(\"cz: {:.2f}, error1: {:.3E}\".format(cz, out[\"error1\"]))\n",
    "\n",
    "        # We have bounded the problem -  the last two iterations\n",
    "        # are on either side of the solution, since they saw \n",
    "        # the sign flip. Let's put them in variables\n",
    "        lower_bound = min(log[\"cz\"][-1], log[\"cz\"][-2])\n",
    "        upper_bound = max(log[\"cz\"][-1], log[\"cz\"][-2])\n",
    "                                    \n",
    "        lower_error = log[\"error1\"][log[\"cz\"].index(lower_bound)]\n",
    "        upper_error = log[\"error1\"][log[\"cz\"].index(upper_bound)]\n",
    "                                    \n",
    "        if abs(upper_error/lower_error) > 10:\n",
    "            upper_bound = lower_bound*1.05\n",
    "                                \n",
    "        while abs(out[\"error1\"]) > tol:\n",
    "            # Now let's narrow the bounds.\n",
    "            # New cz guess is halfway between the upper and lower bound.\n",
    "            cz = lower_bound + (upper_bound-lower_bound)/2\n",
    "            out = iterate(cz)\n",
    "            log[\"cz\"].append(cz)\n",
    "            log[\"error1\"].append(out[\"error1\"])\n",
    "\n",
    "            # We discover a new upper and lower bound. Feed that back\n",
    "            # into the next guess until the tolerance level is reached.\n",
    "            if out[\"error1\"] < 0:\n",
    "                lower_bound = cz\n",
    "            elif out[\"error1\"] > 0:\n",
    "                upper_bound = cz\n",
    "\n",
    "            print(\">Bounds: {:.3f}-{:.3f}, cz: {:.3f}, error1: {:.3E}\".format(lower_bound, upper_bound, cz, out[\"error1\"]))\n",
    "        \n",
    "    Tucalc = out[\"Tu\"]\n",
    "    Tu = 0.5*Tu + 0.5*Tucalc\n",
    "    error0 = (Tu-Tucalc)/Tu\n",
    "    \n",
    "    print(\"-----------error0: {:.3E}, Tu: {:.2f}\".format(error0, Tu))\n",
    "    \n",
    "    log[\"Tu\"].append(Tu)\n",
    "    log[\"error0\"].append(error0)"
   ]
  },
  {
   "cell_type": "markdown",
   "id": "8c127304-e917-46b9-8199-a3c2d6a5e8de",
   "metadata": {},
   "source": [
    "## V2"
   ]
  },
  {
   "cell_type": "code",
   "execution_count": 162,
   "id": "063e929b-25d9-4a08-9935-ae73fecf5c3f",
   "metadata": {
    "tags": []
   },
   "outputs": [
    {
     "name": "stdout",
     "output_type": "stream",
     "text": [
      "Complete in  5.31s\n"
     ]
    }
   ],
   "source": [
    "# Define iterator function. This just solves the Lengyel function and unpacks the results.\n",
    "def iterate(cz, Tu):\n",
    "    result = odeint(LengFunc,y0=[qpllt/B(s[0]),Tt],t=s,args=(kappa0,nu,Tu,cz,qpllu0,alpha,radios,S,B,Xpoint,Lfunc))\n",
    "    out = dict()\n",
    "    # Result returns integrals of [dqoverBds, dtds]\n",
    "    out[\"q\"] = result[:,0]*B(s)\n",
    "    out[\"T\"] = result[:,1]\n",
    "    out[\"qpllu1\"] = out[\"q\"][-1]\n",
    "    out[\"Tu\"] = out[\"T\"][-1]\n",
    "\n",
    "    if radios[\"upstreamGrid\"]:\n",
    "        out[\"error1\"] = (out[\"qpllu1\"]-0)/qpllu0\n",
    "    else:\n",
    "        out[\"error1\"] = (out[\"qpllu1\"]-qpllu0)/qpllu0\n",
    "\n",
    "    return out\n",
    "\n",
    "t0 = timer()\n",
    "cz = 50\n",
    "tol = 1e-4\n",
    "error0 = 1\n",
    "error1 = 1\n",
    "verbose = False\n",
    "# GUESSES\n",
    "Tu0 = ((7/2)*qavLguess*(s[-1]-s[0])/kappa0)**(2/7)\n",
    "Tu = Tu0\n",
    "\n",
    "#initial guess of cz0 assuming qpll0 everywhere and qpll=0 at target\n",
    "cz0 = (qpllu0**2 )/(2*kappa0*nu**2*Tu**2*integralinterp(Tu))\n",
    "cz = cz0\n",
    "\n",
    "\n",
    "log = defaultdict(list)\n",
    "log[\"error1\"].append(error1)\n",
    "\n",
    "while error0 > tol:\n",
    "\n",
    "    # Initialise\n",
    "    out = iterate(cz, Tu)\n",
    "    if verbose:\n",
    "        print(\"cz: {:.2f}, error1: {:.4E}\".format(cz, out[\"error1\"]))\n",
    "\n",
    "    if abs(out[\"error1\"]) > tol:\n",
    "\n",
    "        ##### INITIAL SOLUTION BOUNDING\n",
    "        # We are either doubling or halving cz until the error flips sign\n",
    "        log[\"cz\"].append(cz)\n",
    "        log[\"error1\"].append(out[\"error1\"])\n",
    "        \n",
    "        if out[\"error1\"] > 0:\n",
    "            while out[\"error1\"] > 0:\n",
    "                cz = cz / 2\n",
    "                out = iterate(cz, Tu)\n",
    "                log[\"cz\"].append(cz)\n",
    "                log[\"error1\"].append(out[\"error1\"])\n",
    "                if verbose:\n",
    "                    print(\"cz: {:.2f}, error1: {:.3E}\".format(cz, out[\"error1\"]))\n",
    "        else:\n",
    "            while out[\"error1\"] < 0:\n",
    "                cz = cz * 2\n",
    "                out = iterate(cz, Tu)\n",
    "                log[\"cz\"].append(cz)\n",
    "                log[\"error1\"].append(out[\"error1\"])\n",
    "                if verbose:\n",
    "                    print(\"cz: {:.2f}, error1: {:.3E}\".format(cz, out[\"error1\"]))\n",
    "\n",
    "        # We have bounded the problem -  the last two iterations\n",
    "        # are on either side of the solution\n",
    "        lower_bound = min(log[\"cz\"][-1], log[\"cz\"][-2])\n",
    "        upper_bound = max(log[\"cz\"][-1], log[\"cz\"][-2])\n",
    "        \n",
    "        # The bounds tend to be asymmetric around the solution, this centers them\n",
    "        lower_error = log[\"error1\"][log[\"cz\"].index(lower_bound)+1]\n",
    "        upper_error = log[\"error1\"][log[\"cz\"].index(upper_bound)+1]\n",
    "        if abs(upper_error/lower_error) > 10:\n",
    "            upper_bound = lower_bound + upper_error*2\n",
    "                        \n",
    "        ##### BISECTION SEARCH\n",
    "        while abs(out[\"error1\"]) > tol:\n",
    "            # New cz guess is halfway between the upper and lower bound.\n",
    "            cz = lower_bound + (upper_bound-lower_bound)/2\n",
    "            out = iterate(cz, Tu)\n",
    "            log[\"cz\"].append(cz)\n",
    "            log[\"error1\"].append(out[\"error1\"])\n",
    "\n",
    "            # Narrow bounds based on the results.\n",
    "            if out[\"error1\"] < 0:\n",
    "                lower_bound = cz\n",
    "            elif out[\"error1\"] > 0:\n",
    "                upper_bound = cz\n",
    "                \n",
    "            if verbose:\n",
    "                print(\">Bounds: {:.3f}-{:.3f}, cz: {:.3f}, error1: {:.3E}\".format(lower_bound, upper_bound, cz, out[\"error1\"]))\n",
    "        \n",
    "    Tucalc = out[\"Tu\"]\n",
    "    Tu = 0.5*Tu + 0.5*Tucalc\n",
    "    error0 = (Tu-Tucalc)/Tu\n",
    "    \n",
    "    if verbose:\n",
    "        print(\"-----------error0: {:.3E}, Tu: {:.2f}\\n\".format(error0, Tu))\n",
    "    \n",
    "    log[\"Tu\"].append(Tu)\n",
    "    log[\"error0\"].append(error0)\n",
    "\n",
    "t1 = timer()\n",
    "print(\"Complete in  {:.2f}s\".format(t1-t0))"
   ]
  },
  {
   "cell_type": "markdown",
   "id": "8f7d3086-155a-46fc-9e13-cb158c70a373",
   "metadata": {},
   "source": [
    "## V3"
   ]
  },
  {
   "cell_type": "code",
   "execution_count": 205,
   "id": "f97b955f-08b3-40e5-8b85-be35be0e6a67",
   "metadata": {
    "tags": []
   },
   "outputs": [
    {
     "name": "stdout",
     "output_type": "stream",
     "text": [
      "Complete in  5.50s\n"
     ]
    }
   ],
   "source": [
    "# Define iterator function. This just solves the Lengyel function and unpacks the results.\n",
    "def iterate(cz, Tu):\n",
    "    result = odeint(LengFunc,y0=[qpllt/B(s[0]),Tt],t=s,args=(kappa0,nu,Tu,cz,qpllu0,alpha,radios,S,B,Xpoint,Lfunc))\n",
    "    out = dict()\n",
    "    # Result returns integrals of [dqoverBds, dtds]\n",
    "    out[\"q\"] = result[:,0]*B(s)\n",
    "    out[\"T\"] = result[:,1]\n",
    "    out[\"qpllu1\"] = out[\"q\"][-1]\n",
    "    out[\"Tu\"] = out[\"T\"][-1]\n",
    "\n",
    "    if radios[\"upstreamGrid\"]:\n",
    "        out[\"error1\"] = (out[\"qpllu1\"]-0)/qpllu0\n",
    "    else:\n",
    "        out[\"error1\"] = (out[\"qpllu1\"]-qpllu0)/qpllu0\n",
    "\n",
    "    return out\n",
    "\n",
    "t0 = timer()\n",
    "cz = 50\n",
    "tol = 1e-4\n",
    "error0 = 1\n",
    "error1 = 1\n",
    "verbose = True\n",
    "# GUESSES\n",
    "Tu0 = ((7/2)*qavLguess*(s[-1]-s[0])/kappa0)**(2/7)\n",
    "Tu = Tu0\n",
    "\n",
    "#initial guess of cz0 assuming qpll0 everywhere and qpll=0 at target\n",
    "cz0 = (qpllu0**2 )/(2*kappa0*nu**2*Tu**2*integralinterp(Tu))\n",
    "cz = cz0\n",
    "\n",
    "\n",
    "log = defaultdict(list)\n",
    "log[\"error1\"].append(error1)\n",
    "\n",
    "while error0 > tol:\n",
    "\n",
    "    # Initialise\n",
    "    out = iterate(cz, Tu)\n",
    "    if verbose:\n",
    "        print(\"cz: {:.2f}, error1: {:.4E}\".format(cz, out[\"error1\"]))\n",
    "\n",
    "\n",
    "    ##### INITIAL SOLUTION BOUNDING\n",
    "    # We are either doubling or halving cz until the error flips sign\n",
    "    log[\"cz\"].append(cz)\n",
    "    log[\"error1\"].append(out[\"error1\"])\n",
    "\n",
    "    if out[\"error1\"] > 0:\n",
    "        while out[\"error1\"] > 0:\n",
    "            cz = cz / 2\n",
    "            out = iterate(cz, Tu)\n",
    "            log[\"cz\"].append(cz)\n",
    "            log[\"error1\"].append(out[\"error1\"])\n",
    "            if verbose:\n",
    "                print(\"cz: {:.2f}, error1: {:.3E}\".format(cz, out[\"error1\"]))\n",
    "    else:\n",
    "        while out[\"error1\"] < 0:\n",
    "            cz = cz * 2\n",
    "            out = iterate(cz, Tu)\n",
    "            log[\"cz\"].append(cz)\n",
    "            log[\"error1\"].append(out[\"error1\"])\n",
    "            if verbose:\n",
    "                print(\"cz: {:.2f}, error1: {:.3E}\".format(cz, out[\"error1\"]))\n",
    "\n",
    "    # We have bounded the problem -  the last two iterations\n",
    "    # are on either side of the solution\n",
    "    lower_bound = min(log[\"cz\"][-1], log[\"cz\"][-2])\n",
    "    upper_bound = max(log[\"cz\"][-1], log[\"cz\"][-2])\n",
    "\n",
    "    # The bounds tend to be asymmetric around the solution, this centers them\n",
    "    lower_error = log[\"error1\"][log[\"cz\"].index(lower_bound)+1]\n",
    "    upper_error = log[\"error1\"][log[\"cz\"].index(upper_bound)+1]\n",
    "    if abs(upper_error/lower_error) > 10:\n",
    "        upper_bound = lower_bound + upper_error*2\n",
    "\n",
    "    ##### BISECTION SEARCH\n",
    "    while abs(out[\"error1\"]) > tol:\n",
    "        # New cz guess is halfway between the upper and lower bound.\n",
    "        cz = lower_bound + (upper_bound-lower_bound)/2\n",
    "        out = iterate(cz, Tu)\n",
    "        log[\"cz\"].append(cz)\n",
    "        log[\"error1\"].append(out[\"error1\"])\n",
    "\n",
    "        # Narrow bounds based on the results.\n",
    "        if out[\"error1\"] < 0:\n",
    "            lower_bound = cz\n",
    "        elif out[\"error1\"] > 0:\n",
    "            upper_bound = cz\n",
    "\n",
    "        if verbose:\n",
    "            print(\">Bounds: {:.3f}-{:.3f}, cz: {:.3f}, error1: {:.3E}\".format(lower_bound, upper_bound, cz, out[\"error1\"]))\n",
    "        \n",
    "    Tucalc = out[\"Tu\"]\n",
    "    Tu = 0.5*Tu + 0.5*Tucalc\n",
    "    error0 = (Tu-Tucalc)/Tu\n",
    "    \n",
    "    if verbose:\n",
    "        print(\"-----------error0: {:.3E}, Tu: {:.2f}\\n\".format(error0, Tu))\n",
    "    \n",
    "    log[\"Tu\"].append(Tu)\n",
    "    log[\"error0\"].append(error0)\n",
    "\n",
    "t1 = timer()\n",
    "print(\"Complete in  {:.2f}s\".format(t1-t0))"
   ]
  },
  {
   "cell_type": "code",
   "execution_count": 141,
   "id": "1c17c599-cc46-4dfc-bb82-6659f53c894f",
   "metadata": {},
   "outputs": [
    {
     "data": {
      "text/plain": [
       "-0.00012073497608909606"
      ]
     },
     "execution_count": 141,
     "metadata": {},
     "output_type": "execute_result"
    }
   ],
   "source": [
    "lower_error"
   ]
  },
  {
   "cell_type": "code",
   "execution_count": 136,
   "id": "7b0946ba-fe46-42a3-a127-9e27b4b02153",
   "metadata": {},
   "outputs": [
    {
     "name": "stdout",
     "output_type": "stream",
     "text": [
      "cz 72\n",
      "error1 71\n",
      "Tu 8\n",
      "error0 8\n"
     ]
    }
   ],
   "source": [
    "for key in log.keys():\n",
    "    print(key,len(log[key]))"
   ]
  },
  {
   "cell_type": "code",
   "execution_count": 106,
   "id": "17f8b365-7298-4f89-8778-b1a8f4f32aab",
   "metadata": {},
   "outputs": [
    {
     "ename": "TypeError",
     "evalue": "can only concatenate list (not \"float\") to list",
     "output_type": "error",
     "traceback": [
      "\u001b[1;31m---------------------------------------------------------------------------\u001b[0m",
      "\u001b[1;31mTypeError\u001b[0m                                 Traceback (most recent call last)",
      "\u001b[1;32m~\\AppData\\Local\\Temp/ipykernel_11616/2850138151.py\u001b[0m in \u001b[0;36m<module>\u001b[1;34m\u001b[0m\n\u001b[1;32m----> 1\u001b[1;33m \u001b[0mlen\u001b[0m\u001b[1;33m(\u001b[0m\u001b[0mlog\u001b[0m\u001b[1;33m[\u001b[0m\u001b[1;34m\"Tu\"\u001b[0m\u001b[1;33m]\u001b[0m\u001b[1;33m+\u001b[0m\u001b[1;36m0.1\u001b[0m\u001b[1;33m)\u001b[0m\u001b[1;33m\u001b[0m\u001b[1;33m\u001b[0m\u001b[0m\n\u001b[0m",
      "\u001b[1;31mTypeError\u001b[0m: can only concatenate list (not \"float\") to list"
     ]
    }
   ],
   "source": [
    "len(log[\"Tu\"]+0.1)"
   ]
  },
  {
   "cell_type": "code",
   "execution_count": 79,
   "id": "30dd712e-3ae0-48bc-9d46-15e8b9047062",
   "metadata": {},
   "outputs": [
    {
     "data": {
      "text/plain": [
       "[0.22042188267086296, -0.13680568694859085]"
      ]
     },
     "execution_count": 79,
     "metadata": {},
     "output_type": "execute_result"
    }
   ],
   "source": [
    "log[\"error1\"]"
   ]
  },
  {
   "cell_type": "code",
   "execution_count": 122,
   "id": "1c07b1f0-e3f6-4215-97b0-69e1f6ed6a90",
   "metadata": {},
   "outputs": [
    {
     "data": {
      "text/plain": [
       "[<matplotlib.lines.Line2D at 0x1ffb5347280>]"
      ]
     },
     "execution_count": 122,
     "metadata": {},
     "output_type": "execute_result"
    },
    {
     "data": {
      "image/png": "[encoded data removed]",
      "text/plain": [
       "<Figure size 432x288 with 1 Axes>"
      ]
     },
     "metadata": {
      "needs_background": "light"
     },
     "output_type": "display_data"
    }
   ],
   "source": [
    "plt.plot(log[\"cz\"], marker = \"o\")"
   ]
  },
  {
   "cell_type": "code",
   "execution_count": 123,
   "id": "26684350-263b-4417-8921-7a4b54bd3757",
   "metadata": {},
   "outputs": [
    {
     "data": {
      "text/plain": [
       "[<matplotlib.lines.Line2D at 0x1ffb53ad790>]"
      ]
     },
     "execution_count": 123,
     "metadata": {},
     "output_type": "execute_result"
    },
    {
     "data": {
      "image/png": "[encoded data removed]",
      "text/plain": [
       "<Figure size 432x288 with 1 Axes>"
      ]
     },
     "metadata": {
      "needs_background": "light"
     },
     "output_type": "display_data"
    }
   ],
   "source": [
    "plt.plot(log[\"Tu\"], marker = \"o\")"
   ]
  },
  {
   "cell_type": "code",
   "execution_count": 38,
   "id": "cad764e5-4336-44a6-84a9-03fe75a78d88",
   "metadata": {},
   "outputs": [
    {
     "data": {
      "text/plain": [
       "19.19194885209553"
      ]
     },
     "execution_count": 38,
     "metadata": {},
     "output_type": "execute_result"
    }
   ],
   "source": [
    "cz = lower_bound + (upper_bound-lower_bound)/2"
   ]
  },
  {
   "cell_type": "code",
   "execution_count": 41,
   "id": "c9e4e96d-bfd7-48d2-8b8a-71a1d9972fee",
   "metadata": {},
   "outputs": [
    {
     "data": {
      "text/plain": [
       "19.19194885209553"
      ]
     },
     "execution_count": 41,
     "metadata": {},
     "output_type": "execute_result"
    }
   ],
   "source": [
    "lower_bound"
   ]
  },
  {
   "cell_type": "code",
   "execution_count": 42,
   "id": "3eef0c49-c6f1-4cc7-96f4-f88c7112542a",
   "metadata": {},
   "outputs": [
    {
     "data": {
      "text/plain": [
       "19.19194885209553"
      ]
     },
     "execution_count": 42,
     "metadata": {},
     "output_type": "execute_result"
    }
   ],
   "source": [
    "upper_bound"
   ]
  },
  {
   "cell_type": "code",
   "execution_count": 40,
   "id": "941cd787-e34a-4bc4-ac49-812bcbbe3874",
   "metadata": {},
   "outputs": [
    {
     "data": {
      "text/plain": [
       "19.19194885209553"
      ]
     },
     "execution_count": 40,
     "metadata": {},
     "output_type": "execute_result"
    }
   ],
   "source": [
    "cz"
   ]
  },
  {
   "cell_type": "code",
   "execution_count": 35,
   "id": "90979713-586b-4249-a12d-05f895d71cf9",
   "metadata": {},
   "outputs": [
    {
     "data": {
      "text/plain": [
       "[11.460746708659036]"
      ]
     },
     "execution_count": 35,
     "metadata": {},
     "output_type": "execute_result"
    }
   ],
   "source": [
    "log[\"cz\"]"
   ]
  },
  {
   "cell_type": "code",
   "execution_count": 139,
   "id": "0dda15b7-232a-416b-92d7-c9c4ff1951e9",
   "metadata": {},
   "outputs": [
    {
     "data": {
      "text/plain": [
       "[<matplotlib.lines.Line2D at 0x1c2e5988460>]"
      ]
     },
     "execution_count": 139,
     "metadata": {},
     "output_type": "execute_result"
    },
    {
     "data": {
      "image/png": "[encoded data removed]",
      "text/plain": [
       "<Figure size 432x288 with 1 Axes>"
      ]
     },
     "metadata": {
      "needs_background": "light"
     },
     "output_type": "display_data"
    }
   ],
   "source": [
    "plt.plot(log[\"cz\"], marker = \"o\")"
   ]
  },
  {
   "cell_type": "markdown",
   "id": "037f7f01-708f-46ea-891b-3bcb461b1144",
   "metadata": {},
   "source": [
    "# Testing"
   ]
  },
  {
   "cell_type": "markdown",
   "id": "f24f97f2-c3ac-45af-8865-bb7e2c68c0d9",
   "metadata": {},
   "source": [
    "## IO"
   ]
  },
  {
   "cell_type": "code",
   "execution_count": 8,
   "id": "0b65bbbb-03b2-4da3-8eda-9a22742cb856",
   "metadata": {},
   "outputs": [],
   "source": [
    "gridFile = r\"C:\\Users\\Mike\\OneDrive\\Project\\DLS\\STEPv10\\drsep0mm\\balance_v10.nc\"\n",
    "sepadd = 2\n",
    "\n",
    "data = dict()\n",
    "data[\"iu\"] = unpackConfigurationMK(File = gridFile, Type =\"iu\", sepadd=sepadd)\n",
    "data[\"ou\"] = unpackConfigurationMK(File = gridFile, Type =\"ou\", sepadd=sepadd)\n",
    "\n",
    "### CORRECTIONS TO MATCH RYOKO\n",
    "data[\"iu\"][\"Xpoint\"] += 1\n",
    "\n",
    "for side in data.keys():\n",
    "    d = data[side]\n",
    "    d[\"Xpoint_fromx\"] = d[\"Xpoint\"]\n",
    "    d[\"Xpoint\"] = len(d[\"Spol\"])-d[\"Xpoint\"]\n",
    "    Xpoint = d[\"Xpoint\"]\n",
    "    \n",
    "    d[\"indexrange\"] =  np.linspace(0,len(d[\"S\"][:Xpoint])*0.98,7) # np.array([20])\n",
    "    d[\"indexrange\"]  = list(d[\"indexrange\"].astype(int))\n",
    "    \n",
    "    d[\"indexrange_hires\"] = np.linspace(0,len(d[\"S\"][:Xpoint])*0.98,100)\n",
    "    d[\"indexrange_hires\"]  = list(d[\"indexrange_hires\"].astype(int))\n",
    "    \n",
    "    # Make both B fields absolute\n",
    "    for param in [\"Bpol\", \"Btot\"]:\n",
    "        d[param] = abs(d[param])\n",
    "        \n",
    "    for param in [\"Bpol\", \"Btot\"]:\n",
    "        d[param] = d[param][::-1]\n",
    "        \n",
    "    # Calculate distances normalised to 0 at xpoint\n",
    "    for param in [\"S\", \"Spol\", \"zl\"]:\n",
    "        d[f\"{param}_fromx\"] = d[param] - d[param][d[\"Xpoint_fromx\"]] \n",
    "        \n",
    "    # Sample paramters at the indices we solved DLS for. New variables: *_reduced\n",
    "    for param in [\"S\", \"Spol\", \"zl\", \"Bpol\", \"Btot\"]:\n",
    "        d[f\"{param}_reduced\"] = [d[param][x] for x in d[\"indexrange\"]]\n",
    "\n",
    "del data[\"iu\"]"
   ]
  },
  {
   "cell_type": "markdown",
   "id": "2db838ae-ea45-41b1-85b8-9308a69c948f",
   "metadata": {},
   "source": [
    "## Settings"
   ]
  },
  {
   "cell_type": "code",
   "execution_count": 9,
   "id": "e48e8020-309b-4ff7-a727-3ce2eac7b23e",
   "metadata": {},
   "outputs": [],
   "source": [
    "# results = dict()\n",
    "\n",
    "#set switches\n",
    "radios = {\n",
    "    \"ionisation\": False,  # in development\n",
    "    \"upstreamGrid\": False, #if true, source of divertor heat flux comes from radial transport upstream, and Tu is at the midplane. If false, heat flux simply enters at the x point as qi, and Tu is located at the x point. \n",
    "    \"fluxlim\": False,  # if true, turns on a flux limiter with coefficient alpha\n",
    "}\n",
    "\n",
    "#set general run parameters\n",
    "constants = {\n",
    "    \"gamma_sheath\": 7, #sheath transmittion coefficient for virtual target. Choice does not matter if Tt is low\n",
    "    \"qpllu0\": 5*10**9, # heat flux density at the x point\n",
    "    \"nu\" : 1*10**19, #upstream density\n",
    "    \"kappa0\" : 2500,\n",
    "    \"mi\": 3*10**(-27),\n",
    "    \"echarge\": 1.60*10**(-19), \n",
    "    \"Tt\": 0.5, # requested virtual target temp. Aim for low (sub 1eV) Tt\n",
    "    \"Lfunc\": LfuncN, #impurity cooling function\n",
    "    \"alpha\": 1000, #flux limiting alpha. Only matters if fluxlim is true\n",
    "}\n"
   ]
  },
  {
   "cell_type": "markdown",
   "id": "5baaacf7-8631-484b-94d0-92f38c804537",
   "metadata": {},
   "source": [
    "## Run cases"
   ]
  },
  {
   "cell_type": "code",
   "execution_count": 166,
   "id": "56742cfc-d404-446d-a509-38602a79eaee",
   "metadata": {},
   "outputs": [],
   "source": [
    "results = dict()"
   ]
  },
  {
   "cell_type": "code",
   "execution_count": 299,
   "id": "b67089da-e8cb-40d5-b98a-0ff1c992b1ca",
   "metadata": {},
   "outputs": [
    {
     "name": "stdout",
     "output_type": "stream",
     "text": [
      "Solving...0...6...12...18...24...30...36...Complete in 155.6 seconds\n"
     ]
    }
   ],
   "source": [
    "out = dict()\n",
    "\n",
    "for side in data.keys():\n",
    "    out[side] = dict()    \n",
    "    d = data[side]\n",
    "    o = out[side]\n",
    "\n",
    "    constants[\"XpointIndex\"] = d[\"Xpoint\"], # Index of Xpoint\n",
    "    constants[\"B\"] = interpolate.interp1d(d[\"S\"], d[\"Btot\"], kind='cubic') # Continuous function for B\n",
    "\n",
    "    o[\"splot\"],o[\"C\"],o[\"Sprofiles\"],o[\"Tprofiles\"],o[\"Qprofiles\"],o[\"log\"] = returnImpurityFracLeng(constants,radios,d[\"S\"],d[\"indexrange\"])\n",
    "\n",
    "results[\"default\"] = out"
   ]
  },
  {
   "cell_type": "code",
   "execution_count": 15,
   "id": "a42dca00-4315-4beb-b46a-244aa0cc7dd1",
   "metadata": {},
   "outputs": [
    {
     "name": "stdout",
     "output_type": "stream",
     "text": [
      "Solving...cz: 62.95, error1: -1.6262E-01\n",
      "cz: 125.89, error1: 1.866E-01\n",
      "Bounds centering enabled, set to 10 iterations\n",
      "-->Before centering: 62.947-125.894\n",
      "-->After centering: 62.947-125.894\n",
      ">Bounds: 62.947-94.421, cz: 94.421, error1: 2.686E-02\n",
      ">Bounds: 78.684-94.421, cz: 78.684, error1: -6.311E-02\n",
      ">Bounds: 86.552-94.421, cz: 86.552, error1: -1.710E-02\n",
      ">Bounds: 86.552-90.487, cz: 90.487, error1: 5.116E-03\n",
      ">Bounds: 88.519-90.487, cz: 88.519, error1: -5.932E-03\n",
      ">Bounds: 89.503-90.487, cz: 89.503, error1: -3.926E-04\n",
      "-----------error0: -1.317E-02, Tu: 254.22\n",
      "\n",
      "cz: 89.50, error1: 1.3021E-02\n",
      "cz: 44.75, error1: -2.853E-01\n",
      "Bounds centering enabled, set to 10 iterations\n",
      "-->Before centering: 44.752-89.503\n",
      "-->After centering: 89.459-89.503\n",
      ">Bounds: 89.459-89.481, cz: 89.481, error1: 1.290E-02\n",
      ">Bounds: 89.459-89.470, cz: 89.470, error1: 1.283E-02\n",
      ">Bounds: 89.459-89.465, cz: 89.465, error1: 1.280E-02\n",
      ">Bounds: 89.459-89.462, cz: 89.462, error1: 1.279E-02\n",
      ">Bounds: 89.459-89.461, cz: 89.461, error1: 1.278E-02\n",
      ">Bounds: 89.459-89.460, cz: 89.460, error1: 1.278E-02\n",
      ">Bounds: 89.459-89.460, cz: 89.460, error1: 1.277E-02\n",
      ">Bounds: 89.459-89.459, cz: 89.459, error1: 1.277E-02\n",
      ">Bounds: 89.459-89.459, cz: 89.459, error1: 1.277E-02\n",
      ">Bounds: 89.459-89.459, cz: 89.459, error1: 1.277E-02\n",
      ">Bounds: 89.459-89.459, cz: 89.459, error1: 1.277E-02\n",
      ">Bounds: 89.459-89.459, cz: 89.459, error1: 1.277E-02\n",
      ">Bounds: 89.459-89.459, cz: 89.459, error1: 1.277E-02\n",
      ">Bounds: 89.459-89.459, cz: 89.459, error1: 1.277E-02\n",
      ">Bounds: 89.459-89.459, cz: 89.459, error1: 1.277E-02\n",
      ">Bounds: 89.459-89.459, cz: 89.459, error1: 1.277E-02\n",
      ">Bounds: 89.459-89.459, cz: 89.459, error1: 1.277E-02\n",
      ">Bounds: 89.459-89.459, cz: 89.459, error1: 1.277E-02\n",
      ">Bounds: 89.459-89.459, cz: 89.459, error1: 1.277E-02\n",
      ">Bounds: 89.459-89.459, cz: 89.459, error1: 1.277E-02\n",
      ">Bounds: 89.459-89.459, cz: 89.459, error1: 1.277E-02\n",
      ">Bounds: 89.459-89.459, cz: 89.459, error1: 1.277E-02\n",
      ">Bounds: 89.459-89.459, cz: 89.459, error1: 1.277E-02\n",
      ">Bounds: 89.459-89.459, cz: 89.459, error1: 1.277E-02\n",
      ">Bounds: 89.459-89.459, cz: 89.459, error1: 1.277E-02\n",
      ">Bounds: 89.459-89.459, cz: 89.459, error1: 1.277E-02\n",
      ">Bounds: 89.459-89.459, cz: 89.459, error1: 1.277E-02\n",
      ">Bounds: 89.459-89.459, cz: 89.459, error1: 1.277E-02\n",
      ">Bounds: 89.459-89.459, cz: 89.459, error1: 1.277E-02\n",
      ">Bounds: 89.459-89.459, cz: 89.459, error1: 1.277E-02\n",
      ">Bounds: 89.459-89.459, cz: 89.459, error1: 1.277E-02\n",
      ">Bounds: 89.459-89.459, cz: 89.459, error1: 1.277E-02\n",
      ">Bounds: 89.459-89.459, cz: 89.459, error1: 1.277E-02\n",
      ">Bounds: 89.459-89.459, cz: 89.459, error1: 1.277E-02\n",
      ">Bounds: 89.459-89.459, cz: 89.459, error1: 1.277E-02\n",
      ">Bounds: 89.459-89.459, cz: 89.459, error1: 1.277E-02\n",
      ">Bounds: 89.459-89.459, cz: 89.459, error1: 1.277E-02\n",
      ">Bounds: 89.459-89.459, cz: 89.459, error1: 1.277E-02\n",
      ">Bounds: 89.459-89.459, cz: 89.459, error1: 1.277E-02\n",
      ">Bounds: 89.459-89.459, cz: 89.459, error1: 1.277E-02\n",
      ">Bounds: 89.459-89.459, cz: 89.459, error1: 1.277E-02\n"
     ]
    },
    {
     "ename": "KeyboardInterrupt",
     "evalue": "",
     "output_type": "error",
     "traceback": [
      "\u001b[1;31m---------------------------------------------------------------------------\u001b[0m",
      "\u001b[1;31mKeyboardInterrupt\u001b[0m                         Traceback (most recent call last)",
      "\u001b[1;32m~\\AppData\\Local\\Temp/ipykernel_6192/2254604772.py\u001b[0m in \u001b[0;36m<module>\u001b[1;34m\u001b[0m\n\u001b[0;32m     11\u001b[0m     \u001b[0mconstants\u001b[0m\u001b[1;33m[\u001b[0m\u001b[1;34m\"B\"\u001b[0m\u001b[1;33m]\u001b[0m \u001b[1;33m=\u001b[0m \u001b[0minterpolate\u001b[0m\u001b[1;33m.\u001b[0m\u001b[0minterp1d\u001b[0m\u001b[1;33m(\u001b[0m\u001b[0md\u001b[0m\u001b[1;33m[\u001b[0m\u001b[1;34m\"S\"\u001b[0m\u001b[1;33m]\u001b[0m\u001b[1;33m,\u001b[0m \u001b[0md\u001b[0m\u001b[1;33m[\u001b[0m\u001b[1;34m\"Btot\"\u001b[0m\u001b[1;33m]\u001b[0m\u001b[1;33m,\u001b[0m \u001b[0mkind\u001b[0m\u001b[1;33m=\u001b[0m\u001b[1;34m'cubic'\u001b[0m\u001b[1;33m)\u001b[0m \u001b[1;31m# Continuous function for B\u001b[0m\u001b[1;33m\u001b[0m\u001b[1;33m\u001b[0m\u001b[0m\n\u001b[0;32m     12\u001b[0m \u001b[1;33m\u001b[0m\u001b[0m\n\u001b[1;32m---> 13\u001b[1;33m     o[\"splot\"],o[\"C\"],o[\"Sprofiles\"],o[\"Tprofiles\"],o[\"Qprofiles\"],o[\"log\"] = returnImpurityFracLengMK(\n\u001b[0m\u001b[0;32m     14\u001b[0m         constants,radios,d[\"S\"],indexrange, tol = 1e-3, verbose = True, acceleration = 10)\n\u001b[0;32m     15\u001b[0m \u001b[1;33m\u001b[0m\u001b[0m\n",
      "\u001b[1;32m~\\OneDrive\\Project\\DLS\\DLS-model-main\\LengyelReinkeFormulationMK.py\u001b[0m in \u001b[0;36mreturnImpurityFracLengMK\u001b[1;34m(constants, radios, S, indexRange, dispBassum, dispqassum, dispUassum, verbose, tol, acceleration)\u001b[0m\n\u001b[0;32m    203\u001b[0m                 \u001b[1;31m# New cz guess is halfway between the upper and lower bound.\u001b[0m\u001b[1;33m\u001b[0m\u001b[1;33m\u001b[0m\u001b[1;33m\u001b[0m\u001b[0m\n\u001b[0;32m    204\u001b[0m                 \u001b[0mcz\u001b[0m \u001b[1;33m=\u001b[0m \u001b[0mlower_bound\u001b[0m \u001b[1;33m+\u001b[0m \u001b[1;33m(\u001b[0m\u001b[0mupper_bound\u001b[0m\u001b[1;33m-\u001b[0m\u001b[0mlower_bound\u001b[0m\u001b[1;33m)\u001b[0m\u001b[1;33m/\u001b[0m\u001b[1;36m2\u001b[0m\u001b[1;33m\u001b[0m\u001b[1;33m\u001b[0m\u001b[0m\n\u001b[1;32m--> 205\u001b[1;33m                 \u001b[0mout\u001b[0m \u001b[1;33m=\u001b[0m \u001b[0miterate\u001b[0m\u001b[1;33m(\u001b[0m\u001b[0mcz\u001b[0m\u001b[1;33m,\u001b[0m \u001b[0mTu\u001b[0m\u001b[1;33m)\u001b[0m\u001b[1;33m\u001b[0m\u001b[1;33m\u001b[0m\u001b[0m\n\u001b[0m\u001b[0;32m    206\u001b[0m                 \u001b[0mlog\u001b[0m\u001b[1;33m[\u001b[0m\u001b[1;34m\"cz\"\u001b[0m\u001b[1;33m]\u001b[0m\u001b[1;33m.\u001b[0m\u001b[0mappend\u001b[0m\u001b[1;33m(\u001b[0m\u001b[0mcz\u001b[0m\u001b[1;33m)\u001b[0m\u001b[1;33m\u001b[0m\u001b[1;33m\u001b[0m\u001b[0m\n\u001b[0;32m    207\u001b[0m                 \u001b[0mlog\u001b[0m\u001b[1;33m[\u001b[0m\u001b[1;34m\"error1\"\u001b[0m\u001b[1;33m]\u001b[0m\u001b[1;33m.\u001b[0m\u001b[0mappend\u001b[0m\u001b[1;33m(\u001b[0m\u001b[0mout\u001b[0m\u001b[1;33m[\u001b[0m\u001b[1;34m\"error1\"\u001b[0m\u001b[1;33m]\u001b[0m\u001b[1;33m)\u001b[0m\u001b[1;33m\u001b[0m\u001b[1;33m\u001b[0m\u001b[0m\n",
      "\u001b[1;32m~\\OneDrive\\Project\\DLS\\DLS-model-main\\LengyelReinkeFormulationMK.py\u001b[0m in \u001b[0;36miterate\u001b[1;34m(cz, Tu)\u001b[0m\n\u001b[0;32m     89\u001b[0m         \u001b[0mout\u001b[0m \u001b[1;33m=\u001b[0m \u001b[0mdict\u001b[0m\u001b[1;33m(\u001b[0m\u001b[1;33m)\u001b[0m\u001b[1;33m\u001b[0m\u001b[1;33m\u001b[0m\u001b[0m\n\u001b[0;32m     90\u001b[0m         \u001b[1;31m# Result returns integrals of [dqoverBds, dtds]\u001b[0m\u001b[1;33m\u001b[0m\u001b[1;33m\u001b[0m\u001b[1;33m\u001b[0m\u001b[0m\n\u001b[1;32m---> 91\u001b[1;33m         \u001b[0mout\u001b[0m\u001b[1;33m[\u001b[0m\u001b[1;34m\"q\"\u001b[0m\u001b[1;33m]\u001b[0m \u001b[1;33m=\u001b[0m \u001b[0mresult\u001b[0m\u001b[1;33m[\u001b[0m\u001b[1;33m:\u001b[0m\u001b[1;33m,\u001b[0m\u001b[1;36m0\u001b[0m\u001b[1;33m]\u001b[0m\u001b[1;33m*\u001b[0m\u001b[0mB\u001b[0m\u001b[1;33m(\u001b[0m\u001b[0ms\u001b[0m\u001b[1;33m)\u001b[0m\u001b[1;33m\u001b[0m\u001b[1;33m\u001b[0m\u001b[0m\n\u001b[0m\u001b[0;32m     92\u001b[0m         \u001b[0mout\u001b[0m\u001b[1;33m[\u001b[0m\u001b[1;34m\"T\"\u001b[0m\u001b[1;33m]\u001b[0m \u001b[1;33m=\u001b[0m \u001b[0mresult\u001b[0m\u001b[1;33m[\u001b[0m\u001b[1;33m:\u001b[0m\u001b[1;33m,\u001b[0m\u001b[1;36m1\u001b[0m\u001b[1;33m]\u001b[0m\u001b[1;33m\u001b[0m\u001b[1;33m\u001b[0m\u001b[0m\n\u001b[0;32m     93\u001b[0m         \u001b[0mout\u001b[0m\u001b[1;33m[\u001b[0m\u001b[1;34m\"qpllu1\"\u001b[0m\u001b[1;33m]\u001b[0m \u001b[1;33m=\u001b[0m \u001b[0mout\u001b[0m\u001b[1;33m[\u001b[0m\u001b[1;34m\"q\"\u001b[0m\u001b[1;33m]\u001b[0m\u001b[1;33m[\u001b[0m\u001b[1;33m-\u001b[0m\u001b[1;36m1\u001b[0m\u001b[1;33m]\u001b[0m\u001b[1;33m\u001b[0m\u001b[1;33m\u001b[0m\u001b[0m\n",
      "\u001b[1;32mC:\\Apps\\Anaconda3\\envs\\py38\\lib\\site-packages\\scipy\\interpolate\\polyint.py\u001b[0m in \u001b[0;36m__call__\u001b[1;34m(self, x)\u001b[0m\n\u001b[0;32m     72\u001b[0m         \"\"\"\n\u001b[0;32m     73\u001b[0m         \u001b[0mx\u001b[0m\u001b[1;33m,\u001b[0m \u001b[0mx_shape\u001b[0m \u001b[1;33m=\u001b[0m \u001b[0mself\u001b[0m\u001b[1;33m.\u001b[0m\u001b[0m_prepare_x\u001b[0m\u001b[1;33m(\u001b[0m\u001b[0mx\u001b[0m\u001b[1;33m)\u001b[0m\u001b[1;33m\u001b[0m\u001b[1;33m\u001b[0m\u001b[0m\n\u001b[1;32m---> 74\u001b[1;33m         \u001b[0my\u001b[0m \u001b[1;33m=\u001b[0m \u001b[0mself\u001b[0m\u001b[1;33m.\u001b[0m\u001b[0m_evaluate\u001b[0m\u001b[1;33m(\u001b[0m\u001b[0mx\u001b[0m\u001b[1;33m)\u001b[0m\u001b[1;33m\u001b[0m\u001b[1;33m\u001b[0m\u001b[0m\n\u001b[0m\u001b[0;32m     75\u001b[0m         \u001b[1;32mreturn\u001b[0m \u001b[0mself\u001b[0m\u001b[1;33m.\u001b[0m\u001b[0m_finish_y\u001b[0m\u001b[1;33m(\u001b[0m\u001b[0my\u001b[0m\u001b[1;33m,\u001b[0m \u001b[0mx_shape\u001b[0m\u001b[1;33m)\u001b[0m\u001b[1;33m\u001b[0m\u001b[1;33m\u001b[0m\u001b[0m\n\u001b[0;32m     76\u001b[0m \u001b[1;33m\u001b[0m\u001b[0m\n",
      "\u001b[1;32mC:\\Apps\\Anaconda3\\envs\\py38\\lib\\site-packages\\scipy\\interpolate\\interpolate.py\u001b[0m in \u001b[0;36m_evaluate\u001b[1;34m(self, x_new)\u001b[0m\n\u001b[0;32m    655\u001b[0m         \u001b[1;31m#    The behavior is set by the bounds_error variable.\u001b[0m\u001b[1;33m\u001b[0m\u001b[1;33m\u001b[0m\u001b[1;33m\u001b[0m\u001b[0m\n\u001b[0;32m    656\u001b[0m         \u001b[0mx_new\u001b[0m \u001b[1;33m=\u001b[0m \u001b[0masarray\u001b[0m\u001b[1;33m(\u001b[0m\u001b[0mx_new\u001b[0m\u001b[1;33m)\u001b[0m\u001b[1;33m\u001b[0m\u001b[1;33m\u001b[0m\u001b[0m\n\u001b[1;32m--> 657\u001b[1;33m         \u001b[0my_new\u001b[0m \u001b[1;33m=\u001b[0m \u001b[0mself\u001b[0m\u001b[1;33m.\u001b[0m\u001b[0m_call\u001b[0m\u001b[1;33m(\u001b[0m\u001b[0mself\u001b[0m\u001b[1;33m,\u001b[0m \u001b[0mx_new\u001b[0m\u001b[1;33m)\u001b[0m\u001b[1;33m\u001b[0m\u001b[1;33m\u001b[0m\u001b[0m\n\u001b[0m\u001b[0;32m    658\u001b[0m         \u001b[1;32mif\u001b[0m \u001b[1;32mnot\u001b[0m \u001b[0mself\u001b[0m\u001b[1;33m.\u001b[0m\u001b[0m_extrapolate\u001b[0m\u001b[1;33m:\u001b[0m\u001b[1;33m\u001b[0m\u001b[1;33m\u001b[0m\u001b[0m\n\u001b[0;32m    659\u001b[0m             \u001b[0mbelow_bounds\u001b[0m\u001b[1;33m,\u001b[0m \u001b[0mabove_bounds\u001b[0m \u001b[1;33m=\u001b[0m \u001b[0mself\u001b[0m\u001b[1;33m.\u001b[0m\u001b[0m_check_bounds\u001b[0m\u001b[1;33m(\u001b[0m\u001b[0mx_new\u001b[0m\u001b[1;33m)\u001b[0m\u001b[1;33m\u001b[0m\u001b[1;33m\u001b[0m\u001b[0m\n",
      "\u001b[1;32mC:\\Apps\\Anaconda3\\envs\\py38\\lib\\site-packages\\scipy\\interpolate\\interpolate.py\u001b[0m in \u001b[0;36m_call_spline\u001b[1;34m(self, x_new)\u001b[0m\n\u001b[0;32m    643\u001b[0m \u001b[1;33m\u001b[0m\u001b[0m\n\u001b[0;32m    644\u001b[0m     \u001b[1;32mdef\u001b[0m \u001b[0m_call_spline\u001b[0m\u001b[1;33m(\u001b[0m\u001b[0mself\u001b[0m\u001b[1;33m,\u001b[0m \u001b[0mx_new\u001b[0m\u001b[1;33m)\u001b[0m\u001b[1;33m:\u001b[0m\u001b[1;33m\u001b[0m\u001b[1;33m\u001b[0m\u001b[0m\n\u001b[1;32m--> 645\u001b[1;33m         \u001b[1;32mreturn\u001b[0m \u001b[0mself\u001b[0m\u001b[1;33m.\u001b[0m\u001b[0m_spline\u001b[0m\u001b[1;33m(\u001b[0m\u001b[0mx_new\u001b[0m\u001b[1;33m)\u001b[0m\u001b[1;33m\u001b[0m\u001b[1;33m\u001b[0m\u001b[0m\n\u001b[0m\u001b[0;32m    646\u001b[0m \u001b[1;33m\u001b[0m\u001b[0m\n\u001b[0;32m    647\u001b[0m     \u001b[1;32mdef\u001b[0m \u001b[0m_call_nan_spline\u001b[0m\u001b[1;33m(\u001b[0m\u001b[0mself\u001b[0m\u001b[1;33m,\u001b[0m \u001b[0mx_new\u001b[0m\u001b[1;33m)\u001b[0m\u001b[1;33m:\u001b[0m\u001b[1;33m\u001b[0m\u001b[1;33m\u001b[0m\u001b[0m\n",
      "\u001b[1;32mC:\\Apps\\Anaconda3\\envs\\py38\\lib\\site-packages\\scipy\\interpolate\\_bsplines.py\u001b[0m in \u001b[0;36m__call__\u001b[1;34m(self, x, nu, extrapolate)\u001b[0m\n\u001b[0;32m    337\u001b[0m         \u001b[0mout\u001b[0m \u001b[1;33m=\u001b[0m \u001b[0mnp\u001b[0m\u001b[1;33m.\u001b[0m\u001b[0mempty\u001b[0m\u001b[1;33m(\u001b[0m\u001b[1;33m(\u001b[0m\u001b[0mlen\u001b[0m\u001b[1;33m(\u001b[0m\u001b[0mx\u001b[0m\u001b[1;33m)\u001b[0m\u001b[1;33m,\u001b[0m \u001b[0mprod\u001b[0m\u001b[1;33m(\u001b[0m\u001b[0mself\u001b[0m\u001b[1;33m.\u001b[0m\u001b[0mc\u001b[0m\u001b[1;33m.\u001b[0m\u001b[0mshape\u001b[0m\u001b[1;33m[\u001b[0m\u001b[1;36m1\u001b[0m\u001b[1;33m:\u001b[0m\u001b[1;33m]\u001b[0m\u001b[1;33m)\u001b[0m\u001b[1;33m)\u001b[0m\u001b[1;33m,\u001b[0m \u001b[0mdtype\u001b[0m\u001b[1;33m=\u001b[0m\u001b[0mself\u001b[0m\u001b[1;33m.\u001b[0m\u001b[0mc\u001b[0m\u001b[1;33m.\u001b[0m\u001b[0mdtype\u001b[0m\u001b[1;33m)\u001b[0m\u001b[1;33m\u001b[0m\u001b[1;33m\u001b[0m\u001b[0m\n\u001b[0;32m    338\u001b[0m         \u001b[0mself\u001b[0m\u001b[1;33m.\u001b[0m\u001b[0m_ensure_c_contiguous\u001b[0m\u001b[1;33m(\u001b[0m\u001b[1;33m)\u001b[0m\u001b[1;33m\u001b[0m\u001b[1;33m\u001b[0m\u001b[0m\n\u001b[1;32m--> 339\u001b[1;33m         \u001b[0mself\u001b[0m\u001b[1;33m.\u001b[0m\u001b[0m_evaluate\u001b[0m\u001b[1;33m(\u001b[0m\u001b[0mx\u001b[0m\u001b[1;33m,\u001b[0m \u001b[0mnu\u001b[0m\u001b[1;33m,\u001b[0m \u001b[0mextrapolate\u001b[0m\u001b[1;33m,\u001b[0m \u001b[0mout\u001b[0m\u001b[1;33m)\u001b[0m\u001b[1;33m\u001b[0m\u001b[1;33m\u001b[0m\u001b[0m\n\u001b[0m\u001b[0;32m    340\u001b[0m         \u001b[0mout\u001b[0m \u001b[1;33m=\u001b[0m \u001b[0mout\u001b[0m\u001b[1;33m.\u001b[0m\u001b[0mreshape\u001b[0m\u001b[1;33m(\u001b[0m\u001b[0mx_shape\u001b[0m \u001b[1;33m+\u001b[0m \u001b[0mself\u001b[0m\u001b[1;33m.\u001b[0m\u001b[0mc\u001b[0m\u001b[1;33m.\u001b[0m\u001b[0mshape\u001b[0m\u001b[1;33m[\u001b[0m\u001b[1;36m1\u001b[0m\u001b[1;33m:\u001b[0m\u001b[1;33m]\u001b[0m\u001b[1;33m)\u001b[0m\u001b[1;33m\u001b[0m\u001b[1;33m\u001b[0m\u001b[0m\n\u001b[0;32m    341\u001b[0m         \u001b[1;32mif\u001b[0m \u001b[0mself\u001b[0m\u001b[1;33m.\u001b[0m\u001b[0maxis\u001b[0m \u001b[1;33m!=\u001b[0m \u001b[1;36m0\u001b[0m\u001b[1;33m:\u001b[0m\u001b[1;33m\u001b[0m\u001b[1;33m\u001b[0m\u001b[0m\n",
      "\u001b[1;32mC:\\Apps\\Anaconda3\\envs\\py38\\lib\\site-packages\\scipy\\interpolate\\_bsplines.py\u001b[0m in \u001b[0;36m_evaluate\u001b[1;34m(self, xp, nu, extrapolate, out)\u001b[0m\n\u001b[0;32m    347\u001b[0m \u001b[1;33m\u001b[0m\u001b[0m\n\u001b[0;32m    348\u001b[0m     \u001b[1;32mdef\u001b[0m \u001b[0m_evaluate\u001b[0m\u001b[1;33m(\u001b[0m\u001b[0mself\u001b[0m\u001b[1;33m,\u001b[0m \u001b[0mxp\u001b[0m\u001b[1;33m,\u001b[0m \u001b[0mnu\u001b[0m\u001b[1;33m,\u001b[0m \u001b[0mextrapolate\u001b[0m\u001b[1;33m,\u001b[0m \u001b[0mout\u001b[0m\u001b[1;33m)\u001b[0m\u001b[1;33m:\u001b[0m\u001b[1;33m\u001b[0m\u001b[1;33m\u001b[0m\u001b[0m\n\u001b[1;32m--> 349\u001b[1;33m         _bspl.evaluate_spline(self.t, self.c.reshape(self.c.shape[0], -1),\n\u001b[0m\u001b[0;32m    350\u001b[0m                 self.k, xp, nu, extrapolate, out)\n\u001b[0;32m    351\u001b[0m \u001b[1;33m\u001b[0m\u001b[0m\n",
      "\u001b[1;31mKeyboardInterrupt\u001b[0m: "
     ]
    }
   ],
   "source": [
    "out = dict()\n",
    "\n",
    "for side in data.keys():\n",
    "    out[side] = dict()\n",
    "    d = data[side]\n",
    "    o = out[side]\n",
    "\n",
    "    indexrange = [20]\n",
    "    \n",
    "    constants[\"XpointIndex\"] = d[\"Xpoint\"], # Index of Xpoint\n",
    "    constants[\"B\"] = interpolate.interp1d(d[\"S\"], d[\"Btot\"], kind='cubic') # Continuous function for B\n",
    "\n",
    "    o[\"splot\"],o[\"C\"],o[\"Sprofiles\"],o[\"Tprofiles\"],o[\"Qprofiles\"],o[\"log\"] = returnImpurityFracLengMK(\n",
    "        constants,radios,d[\"S\"],indexrange, tol = 1e-3, verbose = True, acceleration = 5)\n",
    "\n",
    "results[\"opt\"] = out"
   ]
  },
  {
   "cell_type": "code",
   "execution_count": 5,
   "id": "25f21ece-14c5-464b-9bd2-bf6a5bfb2019",
   "metadata": {},
   "outputs": [
    {
     "name": "stdout",
     "output_type": "stream",
     "text": [
      "Object `returnImpurityFracLengMK` not found.\n"
     ]
    }
   ],
   "source": [
    "returnImpurityFracLengMK?"
   ]
  },
  {
   "cell_type": "code",
   "execution_count": 318,
   "id": "b3984f26-d624-4d06-908d-40a2d2f6814f",
   "metadata": {},
   "outputs": [],
   "source": [
    "o1 = results[\"default\"][\"ou\"]\n",
    "o2 = results[\"opt\"][\"ou\"]"
   ]
  },
  {
   "cell_type": "code",
   "execution_count": 248,
   "id": "a776b517-abeb-410f-ac2e-6b8895468696",
   "metadata": {
    "tags": []
   },
   "outputs": [
    {
     "data": {
      "text/plain": [
       "dict_keys(['q', 'perChange', 'cz', 'error1', 'Tucalc', 'error0', 'Tu'])"
      ]
     },
     "execution_count": 248,
     "metadata": {},
     "output_type": "execute_result"
    }
   ],
   "source": [
    "o1[\"log\"][20].keys()"
   ]
  },
  {
   "cell_type": "code",
   "execution_count": 319,
   "id": "649f45f1-e5bb-4acc-9775-7a1b7eddcb36",
   "metadata": {},
   "outputs": [
    {
     "name": "stdout",
     "output_type": "stream",
     "text": [
      "ORIGINAL C: [6.6245415997842265, 7.050283413939996, 7.868226757516187, 8.875343361116958, 9.907357689905476, 11.148370486377884, 12.908472589685795]\n",
      "OPTIMISED C: [6.632321770147322, 7.051836406477695, 7.878361302691471, 8.875160494294548, 9.918054394177245, 11.147649132203046, 12.877251277347384]\n"
     ]
    }
   ],
   "source": [
    "print(\"ORIGINAL C: {}\".format(o1[\"C\"]))\n",
    "print(\"OPTIMISED C: {}\".format(o2[\"C\"]))"
   ]
  },
  {
   "cell_type": "code",
   "execution_count": 249,
   "id": "9c8ee72d-6c70-446e-be79-3a99849f0522",
   "metadata": {},
   "outputs": [
    {
     "data": {
      "text/plain": [
       "dict_keys(['error1', 'cz', 'Tu', 'error0'])"
      ]
     },
     "execution_count": 249,
     "metadata": {},
     "output_type": "execute_result"
    }
   ],
   "source": [
    "o2[\"log\"][0].keys()"
   ]
  },
  {
   "cell_type": "code",
   "execution_count": 308,
   "id": "41f6dc78-f9cd-4f5a-a726-dbdf0d48d89c",
   "metadata": {},
   "outputs": [
    {
     "name": "stderr",
     "output_type": "stream",
     "text": [
      "No handles with labels found to put in legend.\n"
     ]
    },
    {
     "data": {
      "image/png": "[encoded data removed]",
      "text/plain": [
       "<Figure size 1296x288 with 3 Axes>"
      ]
     },
     "metadata": {
      "needs_background": "light"
     },
     "output_type": "display_data"
    }
   ],
   "source": [
    "fig,ax = plt.subplots(1,3,figsize=(18,4))\n",
    "i = 6\n",
    "ax[0].plot(o1[\"Sprofiles\"][i], o1[\"Tprofiles\"][i], label = \"default\", marker = \"o\", linewidth = 0)\n",
    "ax[0].plot(o1[\"Sprofiles\"][i], o1[\"Tprofiles\"][i], label = \"opt\")\n",
    "ax[0].set_title(\"Temperature profiles\")\n",
    "\n",
    "ax[1].plot(o1[\"Sprofiles\"][i], o1[\"Qprofiles\"][i], label = \"default\", marker = \"o\", linewidth = 0)\n",
    "ax[1].plot(o1[\"Sprofiles\"][i], o1[\"Qprofiles\"][i], label = \"opt\")\n",
    "ax[1].set_title(\"Temperature profiles\")\n",
    "\n",
    "for a in ax:\n",
    "    a.legend()\n",
    "    a.grid()"
   ]
  },
  {
   "cell_type": "code",
   "execution_count": 323,
   "id": "af869e26-860b-4e4b-a23b-815ba299a063",
   "metadata": {},
   "outputs": [
    {
     "name": "stderr",
     "output_type": "stream",
     "text": [
      "No handles with labels found to put in legend.\n",
      "No handles with labels found to put in legend.\n"
     ]
    },
    {
     "data": {
      "image/png": "[encoded data removed]",
      "text/plain": [
       "<Figure size 1296x288 with 3 Axes>"
      ]
     },
     "metadata": {
      "needs_background": "light"
     },
     "output_type": "display_data"
    }
   ],
   "source": [
    "fig,ax = plt.subplots(1,3,figsize=(18,4))\n",
    "\n",
    "ax[0].plot(o1[\"C\"], label = \"default\", marker = \"o\", linewidth = 0)\n",
    "ax[0].plot(o2[\"C\"], label = \"opt\", marker = \"o\")\n",
    "\n",
    "# ax[0].plot(o1[\"log\"][20][\"Tu\"], label = \"default\", marker = \"o\", linewidth = 0)\n",
    "# ax[0].plot(o2[\"log\"][0][\"Tu\"], label = \"opt\")\n",
    "# ax[0].set_title(\"Temperature profiles\")\n",
    "\n",
    "# ax[1].plot(o1[\"Sprofiles\"][0], o1[\"Qprofiles\"][0], label = \"default\", marker = \"o\", linewidth = 0)\n",
    "# ax[1].plot(o1[\"Sprofiles\"][0], o1[\"Qprofiles\"][0], label = \"opt\")\n",
    "# ax[1].set_title(\"Temperature profiles\")\n",
    "\n",
    "for a in ax:\n",
    "    a.legend()"
   ]
  },
  {
   "cell_type": "code",
   "execution_count": 265,
   "id": "995a1ca0-b177-474f-9aa9-7e61ad9cc724",
   "metadata": {},
   "outputs": [
    {
     "data": {
      "text/plain": [
       "[-0.013221736559182197]"
      ]
     },
     "execution_count": 265,
     "metadata": {},
     "output_type": "execute_result"
    }
   ],
   "source": [
    "o2[\"log\"][0][\"error0\"]"
   ]
  },
  {
   "cell_type": "code",
   "execution_count": 253,
   "id": "b3d2480f-d795-4d5c-a747-908c5e78196a",
   "metadata": {},
   "outputs": [
    {
     "data": {
      "text/plain": [
       "[9.464258002210316]"
      ]
     },
     "execution_count": 253,
     "metadata": {},
     "output_type": "execute_result"
    }
   ],
   "source": [
    "o2[\"C\"]"
   ]
  },
  {
   "cell_type": "code",
   "execution_count": 200,
   "id": "a9227ab0-41c7-4551-bb5b-c1733033bd2b",
   "metadata": {},
   "outputs": [],
   "source": [
    "for case in results.keys():\n",
    "    for side in data.keys():\n",
    "        o = results[case][side]\n",
    "        d = data[side]\n",
    "        o[\"Crel\"] = o[\"C\"]/o[\"C\"][0]\n"
   ]
  },
  {
   "cell_type": "code",
   "execution_count": 203,
   "id": "78c0b7c1-8303-4506-93c5-ec4fc1a60698",
   "metadata": {},
   "outputs": [
    {
     "data": {
      "text/plain": [
       "<matplotlib.legend.Legend at 0x1ffb56fd880>"
      ]
     },
     "execution_count": 203,
     "metadata": {},
     "output_type": "execute_result"
    },
    {
     "data": {
      "image/png": "[encoded data removed]",
      "text/plain": [
       "<Figure size 1296x432 with 2 Axes>"
      ]
     },
     "metadata": {
      "needs_background": "light"
     },
     "output_type": "display_data"
    }
   ],
   "source": [
    "ryoko_dls = dict(); ryoko_LRB = dict()\n",
    "ryoko_dls[\"iu\"] = pd.read_csv(os.getcwd()+r\"\\\\csv\\\\ryoko_dls_iu.csv\", header = None)\n",
    "ryoko_dls[\"ou\"] = pd.read_csv(os.getcwd()+r\"\\\\csv\\\\ryoko_dls_ou.csv\", header = None)\n",
    "ryoko_LRB[\"iu\"] = [[1,0.9953, 0.9893, 0.9827, 0.9765, 0.9715, 0.9694, 0.9724, 0.9856, 1.0206, 1.1242],\n",
    "[0, 0.0799, 0.1481, 0.2139, 0.2755, 0.3322, 0.3835, 0.4286, 0.4669, 0.4977, 0.5215]]\n",
    "    \n",
    "\n",
    "fig, ax = plt.subplots(1,2,figsize=(18,6))\n",
    "ax[0].set_title(\"Inner-upper\"); ax[1].set_title(\"Outer-upper\")\n",
    "\n",
    "for i, side in enumerate(data.keys()):\n",
    "    \n",
    "    d = data[side]\n",
    "    \n",
    "    out = results[\"default\"]\n",
    "    ax[i].plot(out[side][\"Crel\"], data[side][\"Spol_reduced\"], label = \"Reinke: default\", marker = \"o\")\n",
    "    \n",
    "    out = results[\"opt\"]\n",
    "    ax[i].plot(out[side][\"Crel\"], data[side][\"Spol_reduced\"], label = \"Reinke: optimised\", marker = \"o\")    \n",
    "    \n",
    "    ax[i].set_xlabel(\"C/Ct\")\n",
    "    ax[i].set_ylabel(\"$S_{pol}\\ (m\\ from\\ target\\ to\\ Xpoint)$\")\n",
    "    ax[i].grid()\n",
    "    \n",
    "    \n",
    "ax[1].legend()\n",
    "ax[0].legend()\n",
    "    \n",
    "    "
   ]
  },
  {
   "cell_type": "code",
   "execution_count": 195,
   "id": "18f9f908-cb90-499e-943b-f6e497c0f589",
   "metadata": {},
   "outputs": [
    {
     "data": {
      "text/plain": [
       "[6.798744275519832]"
      ]
     },
     "execution_count": 195,
     "metadata": {},
     "output_type": "execute_result"
    }
   ],
   "source": [
    "out[\"ou\"][\"C\"]"
   ]
  },
  {
   "cell_type": "markdown",
   "id": "20b53704-6108-441b-bfcd-14e4aa8947e0",
   "metadata": {},
   "source": [
    "# Crap"
   ]
  },
  {
   "cell_type": "code",
   "execution_count": 61,
   "id": "97317d99-f203-490f-9daa-c11ad427f62f",
   "metadata": {},
   "outputs": [],
   "source": [
    "grid = np.linspace(0,10000,50)"
   ]
  },
  {
   "cell_type": "code",
   "execution_count": 1,
   "id": "e8066295-84e1-42ef-bce1-0aeb9076621b",
   "metadata": {},
   "outputs": [
    {
     "ename": "NameError",
     "evalue": "name 'grid' is not defined",
     "output_type": "error",
     "traceback": [
      "\u001b[1;31m---------------------------------------------------------------------------\u001b[0m",
      "\u001b[1;31mNameError\u001b[0m                                 Traceback (most recent call last)",
      "\u001b[1;32m~\\AppData\\Local\\Temp/ipykernel_15148/2349049482.py\u001b[0m in \u001b[0;36m<module>\u001b[1;34m\u001b[0m\n\u001b[0;32m     13\u001b[0m     \u001b[1;32mreturn\u001b[0m \u001b[0mresult\u001b[0m\u001b[1;33m\u001b[0m\u001b[1;33m\u001b[0m\u001b[0m\n\u001b[0;32m     14\u001b[0m \u001b[1;33m\u001b[0m\u001b[0m\n\u001b[1;32m---> 15\u001b[1;33m \u001b[0mtest\u001b[0m \u001b[1;33m=\u001b[0m \u001b[1;33m[\u001b[0m\u001b[0mc_solver\u001b[0m\u001b[1;33m(\u001b[0m\u001b[0mx\u001b[0m\u001b[1;33m)\u001b[0m \u001b[1;32mfor\u001b[0m \u001b[0mx\u001b[0m \u001b[1;32min\u001b[0m \u001b[0mgrid\u001b[0m\u001b[1;33m]\u001b[0m\u001b[1;33m\u001b[0m\u001b[1;33m\u001b[0m\u001b[0m\n\u001b[0m\u001b[0;32m     16\u001b[0m \u001b[0mplt\u001b[0m\u001b[1;33m.\u001b[0m\u001b[0mplot\u001b[0m\u001b[1;33m(\u001b[0m\u001b[0mgrid\u001b[0m\u001b[1;33m,\u001b[0m \u001b[0mtest\u001b[0m\u001b[1;33m)\u001b[0m\u001b[1;33m\u001b[0m\u001b[1;33m\u001b[0m\u001b[0m\n",
      "\u001b[1;31mNameError\u001b[0m: name 'grid' is not defined"
     ]
    }
   ],
   "source": [
    "def c_solver2(cz):\n",
    "\n",
    "    result = odeint(LengFunc,y0=[qpllt/Btot_interp(s[0]),Tt],t=s,args=(kappa0,nu,Tu,cz,qpllu0,alpha,radios,S,Btot_interp,Xpoint,Lfunc))\n",
    "    q = result[:,0]*Btot_interp(s)\n",
    "    T = result[:,1]\n",
    "    qpllu1 = q[-1]\n",
    "\n",
    "    if radios[\"upstreamGrid\"]:\n",
    "        error1 = (qpllu1-0)/qpllu0\n",
    "    else:\n",
    "        error1 = (qpllu1-qpllu0)/qpllu0\n",
    "        \n",
    "    return result\n",
    "\n",
    "test = [c_solver(x) for x in grid]\n",
    "plt.plot(grid, test)"
   ]
  },
  {
   "cell_type": "code",
   "execution_count": 71,
   "id": "403113c8-2438-4cce-a27b-6192a6a2ea8b",
   "metadata": {},
   "outputs": [
    {
     "name": "stderr",
     "output_type": "stream",
     "text": [
      "C:\\Apps\\Anaconda3\\envs\\py38\\lib\\site-packages\\scipy\\integrate\\odepack.py:247: ODEintWarning: Excess work done on this call (perhaps wrong Dfun type). Run with full_output = 1 to get quantitative information.\n",
      "  warnings.warn(warning_msg, ODEintWarning)\n"
     ]
    },
    {
     "data": {
      "text/plain": [
       "[<matplotlib.lines.Line2D at 0x2475a8f8cd0>]"
      ]
     },
     "execution_count": 71,
     "metadata": {},
     "output_type": "execute_result"
    },
    {
     "data": {
      "image/png": "[encoded data removed]",
      "text/plain": [
       "<Figure size 432x288 with 1 Axes>"
      ]
     },
     "metadata": {
      "needs_background": "light"
     },
     "output_type": "display_data"
    }
   ],
   "source": [
    "test = [c_solver(x) for x in grid]\n",
    "plt.plot(grid, test)"
   ]
  },
  {
   "cell_type": "code",
   "execution_count": null,
   "id": "b54339fa-7427-4af1-b9e8-fc3eaf6032f4",
   "metadata": {},
   "outputs": [],
   "source": []
  }
 ],
 "metadata": {
  "kernelspec": {
   "display_name": "Python 3 (ipykernel)",
   "language": "python",
   "name": "python3"
  },
  "language_info": {
   "codemirror_mode": {
    "name": "ipython",
    "version": 3
   },
   "file_extension": ".py",
   "mimetype": "text/x-python",
   "name": "python",
   "nbconvert_exporter": "python",
   "pygments_lexer": "ipython3",
   "version": "3.8.5"
  }
 },
 "nbformat": 4,
 "nbformat_minor": 5
}
