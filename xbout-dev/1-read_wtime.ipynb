{
 "cells": [
  {
   "cell_type": "code",
   "execution_count": 1,
   "metadata": {},
   "outputs": [],
   "source": [
    "from collections import namedtuple\n",
    "from copy import deepcopy\n",
    "import inspect\n",
    "from pathlib import Path\n",
    "import re\n",
    "from functools import reduce\n",
    "import operator\n",
    "\n",
    "import pytest\n",
    "\n",
    "import numpy as np\n",
    "\n",
    "from xarray import DataArray, Dataset, concat\n",
    "from xarray.tests.test_dataset import create_test_data\n",
    "import xarray.testing as xrt\n",
    "\n",
    "from natsort import natsorted\n",
    "\n",
    "from xbout.load import (\n",
    "    _check_filetype,\n",
    "    _expand_wildcards,\n",
    "    _expand_filepaths,\n",
    "    _arrange_for_concatenation,\n",
    "    _trim,\n",
    "    _infer_contains_boundaries,\n",
    "    open_boutdataset,\n",
    "    _BOUT_PER_PROC_VARIABLES,\n",
    "    _BOUT_TIME_DEPENDENT_META_VARS,\n",
    ")\n",
    "from xbout.utils import _separate_metadata\n",
    "from xbout.tests.utils_for_tests import _get_kwargs\n",
    "\n",
    "%load_ext autoreload\n",
    "%autoreload 2"
   ]
  },
  {
   "cell_type": "code",
   "execution_count": 3,
   "metadata": {},
   "outputs": [],
   "source": [
    "def test_no_trim(self, is_restart):\n",
    "        ds = create_test_data(0)\n",
    "        # Manually add filename - encoding normally added by xr.open_dataset\n",
    "        ds.encoding[\"source\"] = \"folder0/BOUT.dmp.0.nc\"\n",
    "        actual = _trim(\n",
    "            ds, guards={}, keep_boundaries={}, nxpe=1, nype=1, is_restart=is_restart\n",
    "        )\n",
    "        xrt.assert_equal(actual, ds)"
   ]
  },
  {
   "cell_type": "code",
   "execution_count": 2,
   "metadata": {},
   "outputs": [],
   "source": [
    "ds = create_test_data(0)\n"
   ]
  },
  {
   "cell_type": "code",
   "execution_count": 3,
   "metadata": {},
   "outputs": [],
   "source": [
    "ds.encoding[\"source\"] = \"folder0/BOUT.dmp.0.nc\"\n",
    "actual = _trim(\n",
    "    ds, guards={}, keep_boundaries={}, nxpe=1, nype=1, is_restart=False\n",
    ")"
   ]
  },
  {
   "cell_type": "code",
   "execution_count": null,
   "metadata": {},
   "outputs": [],
   "source": []
  }
 ],
 "metadata": {
  "kernelspec": {
   "display_name": "main",
   "language": "python",
   "name": "python3"
  },
  "language_info": {
   "codemirror_mode": {
    "name": "ipython",
    "version": 3
   },
   "file_extension": ".py",
   "mimetype": "text/x-python",
   "name": "python",
   "nbconvert_exporter": "python",
   "pygments_lexer": "ipython3",
   "version": "3.10.11"
  },
  "orig_nbformat": 4
 },
 "nbformat": 4,
 "nbformat_minor": 2
}
