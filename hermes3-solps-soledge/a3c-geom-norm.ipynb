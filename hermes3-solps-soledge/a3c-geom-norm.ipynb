{
 "cells": [
  {
   "cell_type": "code",
   "execution_count": 1,
   "metadata": {},
   "outputs": [
    {
     "name": "stdout",
     "output_type": "stream",
     "text": [
      "Done\n"
     ]
    }
   ],
   "source": [
    "onedrive = r\"C:\\Users\\mikek\\OneDrive\"\n",
    "\n",
    "from boututils.datafile import DataFile\n",
    "from boutdata.collect import collect\n",
    "import pandas as pd\n",
    "import numpy as np\n",
    "import scipy\n",
    "import matplotlib.pyplot as plt\n",
    "import os, sys, pathlib\n",
    "import platform\n",
    "import traceback\n",
    "import xarray as xr\n",
    "import xbout\n",
    "from pathlib import Path\n",
    "\n",
    "sys.path.append(os.path.join(onedrive,r\"Project\\python-packages\\sdtools\"))\n",
    "\n",
    "from hermes3.case_db import *\n",
    "from hermes3.load import *\n",
    "from hermes3.named_selections import *\n",
    "from hermes3.plotting import *\n",
    "from hermes3.grid_fields import *\n",
    "from hermes3.accessors import *\n",
    "from hermes3.utils import *\n",
    "from hermes3.fluxes import *\n",
    "\n",
    "\n",
    "%load_ext autoreload\n",
    "%autoreload 2\n",
    "\n",
    "\n",
    "print(\"Done\")"
   ]
  },
  {
   "cell_type": "markdown",
   "metadata": {},
   "source": [
    "# IO"
   ]
  },
  {
   "cell_type": "code",
   "execution_count": 12,
   "metadata": {},
   "outputs": [
    {
     "name": "stdout",
     "output_type": "stream",
     "text": [
      "c7a-c4e_aa_fix 5.742033176114122\n",
      "c8a-c7a_Tn30eV_sol 458349.8217889353\n"
     ]
    }
   ],
   "source": [
    "db = CaseDB()\n",
    "\n",
    "for casename in [\"c7a-c4e_aa_fix\", \"c8a-c7a_Tn30eV_sol\"]:\n",
    "# for casename in [\"c7a-c4e_aa_fix\"]:    \n",
    "    # casepath = db.casepaths[\"c7a-c4e_aa_fix\"]\n",
    "    # casepath = db.casepaths[\"c8a-c7a_Tn30eV_sol\"]\n",
    "    casepath = db.casepaths[casename]\n",
    "    gridfilepath = db.gridpaths[\"g3b2-fatter_newhypno.nc\"]\n",
    "    datapath = os.path.join(casepath, \"BOUT.dmp.*.nc\")\n",
    "    inputfilepath = os.path.join(casepath, \"BOUT.inp\")\n",
    "\n",
    "    # ds = xbout.load.open_boutdataset(\n",
    "    #                 datapath = datapath, \n",
    "    #                 inputfilepath = inputfilepath, \n",
    "    #                 gridfilepath = gridfilepath,\n",
    "    #                 info = False,\n",
    "    #                 cache = False,\n",
    "    #                 geometry = \"toroidal\",\n",
    "    #                 keep_xboundaries=True,\n",
    "    #                 keep_yboundaries=True,\n",
    "    #                 )\n",
    "    \n",
    "    # ds, remove_yboundaries = xbout.load._auto_open_mfboutdataset(\n",
    "    #         datapath=datapath,\n",
    "    #         chunks=None,\n",
    "    #         keep_xboundaries=True,\n",
    "    #         keep_yboundaries=True,\n",
    "    #         is_restart=False,\n",
    "    #         # **kwargs,\n",
    "    #     )\n",
    "\n",
    "    \n",
    "    \n",
    "    # dv = ds[\"dx\"] * ds[\"dy\"] * ds[\"dz\"] * ds[\"J\"]\n",
    "    # print(casename, dv.values.sum())\n",
    "    print(casename, collect(\"dx\", path = casepath, info = False).sum())\n",
    "\n",
    "# toload = [\n",
    "#     dict(name=\"puff\", id=\"c7a-c4e_aa_fix\", grid=\"g3b2-fatter_newhypno.nc\", unnormalise_geom = False),\n",
    "#     dict(name=\"puff_tn\", id=\"c8a-c7a_Tn30eV_sol\", grid=\"g3b2-fatter_newhypno.nc\", unnormalise_geom = True),"
   ]
  },
  {
   "cell_type": "code",
   "execution_count": 10,
   "metadata": {},
   "outputs": [
    {
     "name": "stdout",
     "output_type": "stream",
     "text": [
      "mxsub = 18 mysub = 5 mz = 1\n",
      "\n",
      "nxpe = 2, nype = 20, npes = 40\n",
      "\n",
      "Reading from 0: [0-19][2-6] -> [0-19][0-4]\n",
      "\n",
      "Reading from 1: [2-21][2-6] -> [20-39][0-4]\n",
      "\n",
      "Reading from 2: [0-19][2-6] -> [0-19][5-9]\n",
      "\n",
      "Reading from 3: [2-21][2-6] -> [20-39][5-9]\n",
      "\n",
      "Reading from 4: [0-19][2-6] -> [0-19][10-14]\n",
      "\n",
      "Reading from 5: [2-21][2-6] -> [20-39][10-14]\n",
      "\n",
      "Reading from 6: [0-19][2-6] -> [0-19][15-19]\n",
      "\n",
      "Reading from 7: [2-21][2-6] -> [20-39][15-19]\n",
      "\n",
      "Reading from 8: [0-19][2-6] -> [0-19][20-24]\n",
      "\n",
      "Reading from 9: [2-21][2-6] -> [20-39][20-24]\n",
      "\n",
      "Reading from 10: [0-19][2-6] -> [0-19][25-29]\n",
      "\n",
      "Reading from 11: [2-21][2-6] -> [20-39][25-29]\n",
      "\n",
      "Reading from 12: [0-19][2-6] -> [0-19][30-34]\n",
      "\n",
      "Reading from 13: [2-21][2-6] -> [20-39][30-34]\n",
      "\n",
      "Reading from 14: [0-19][2-6] -> [0-19][35-39]\n",
      "\n",
      "Reading from 15: [2-21][2-6] -> [20-39][35-39]\n",
      "\n",
      "Reading from 16: [0-19][2-6] -> [0-19][40-44]\n",
      "\n",
      "Reading from 17: [2-21][2-6] -> [20-39][40-44]\n",
      "\n",
      "Reading from 18: [0-19][2-6] -> [0-19][45-49]\n",
      "\n",
      "Reading from 19: [2-21][2-6] -> [20-39][45-49]\n",
      "\n",
      "Reading from 20: [0-19][2-6] -> [0-19][50-54]\n",
      "\n",
      "Reading from 21: [2-21][2-6] -> [20-39][50-54]\n",
      "\n",
      "Reading from 22: [0-19][2-6] -> [0-19][55-59]\n",
      "\n",
      "Reading from 23: [2-21][2-6] -> [20-39][55-59]\n",
      "\n",
      "Reading from 24: [0-19][2-6] -> [0-19][60-64]\n",
      "\n",
      "Reading from 25: [2-21][2-6] -> [20-39][60-64]\n",
      "\n",
      "Reading from 26: [0-19][2-6] -> [0-19][65-69]\n",
      "\n",
      "Reading from 27: [2-21][2-6] -> [20-39][65-69]\n",
      "\n",
      "Reading from 28: [0-19][2-6] -> [0-19][70-74]\n",
      "\n",
      "Reading from 29: [2-21][2-6] -> [20-39][70-74]\n",
      "\n",
      "Reading from 30: [0-19][2-6] -> [0-19][75-79]\n",
      "\n",
      "Reading from 31: [2-21][2-6] -> [20-39][75-79]\n",
      "\n",
      "Reading from 32: [0-19][2-6] -> [0-19][80-84]\n",
      "\n",
      "Reading from 33: [2-21][2-6] -> [20-39][80-84]\n",
      "\n",
      "Reading from 34: [0-19][2-6] -> [0-19][85-89]\n",
      "\n",
      "Reading from 35: [2-21][2-6] -> [20-39][85-89]\n",
      "\n",
      "Reading from 36: [0-19][2-6] -> [0-19][90-94]\n",
      "\n",
      "Reading from 37: [2-21][2-6] -> [20-39][90-94]\n",
      "\n",
      "Reading from 38: [0-19][2-6] -> [0-19][95-99]\n",
      "\n",
      "Reading from 39: [2-21][2-6] -> [20-39][95-99]\n",
      "\n",
      "\n"
     ]
    },
    {
     "data": {
      "text/plain": [
       "BoutArray(458349.82178894)"
      ]
     },
     "execution_count": 10,
     "metadata": {},
     "output_type": "execute_result"
    }
   ],
   "source": [
    "collect(\"dx\", path = casepath).sum()"
   ]
  }
 ],
 "metadata": {
  "kernelspec": {
   "display_name": "Python 3.9.13 ('base')",
   "language": "python",
   "name": "python3"
  },
  "language_info": {
   "codemirror_mode": {
    "name": "ipython",
    "version": 3
   },
   "file_extension": ".py",
   "mimetype": "text/x-python",
   "name": "python",
   "nbconvert_exporter": "python",
   "pygments_lexer": "ipython3",
   "version": "3.10.9"
  },
  "orig_nbformat": 4,
  "vscode": {
   "interpreter": {
    "hash": "5d3028fb5fc7b0ce0999a527284344536284ceb78ab851f9ad8deb4f33e74dff"
   }
  }
 },
 "nbformat": 4,
 "nbformat_minor": 2
}
