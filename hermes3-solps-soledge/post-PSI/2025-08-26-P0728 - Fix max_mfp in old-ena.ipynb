{
 "cells": [
  {
   "cell_type": "code",
   "execution_count": 1,
   "metadata": {},
   "outputs": [],
   "source": [
    "from boututils.datafile import DataFile\n",
    "from boutdata.collect import collect\n",
    "from boutdata.data import BoutData\n",
    "import os, sys\n",
    "import matplotlib\n",
    "\n",
    "import matplotlib.pyplot as plt\n",
    "import xbout\n",
    "import pandas as pd\n",
    "import numpy as np\n",
    "import xarray as xr\n",
    "\n",
    "from boutdata.restart import addvar\n",
    "import glob\n",
    "import shutil\n",
    "import scipy\n",
    "import netCDF4 as nc\n",
    "\n",
    "sys.path.append(r\"/home/mike/work/sdtools\")\n",
    "\n",
    "\n",
    "from hermes3.case_db import *\n",
    "from hermes3.load import *\n",
    "from hermes3.named_selections import *\n",
    "from hermes3.neutral_transport import NeutralTransport\n",
    "from hermes3.plotting import *\n",
    "from hermes3.grid_fields import *\n",
    "from hermes3.accessors import *\n",
    "from hermes3.utils import *\n",
    "from hermes3.balance1d import *\n",
    "from hermes3.selectors import *\n",
    "# from code_comparison.code_comparison import *\n",
    "\n",
    "%load_ext autoreload\n",
    "%autoreload 2"
   ]
  },
  {
   "cell_type": "code",
   "execution_count": 2,
   "metadata": {},
   "outputs": [],
   "source": [
    "db = CaseDB(\n",
    "    case_dir = r\"/home/mike/work/cases\",\n",
    "    grid_dir = r\"/home/mike/work/cases\"\n",
    "    )"
   ]
  },
  {
   "cell_type": "code",
   "execution_count": 3,
   "metadata": {},
   "outputs": [
    {
     "name": "stdout",
     "output_type": "stream",
     "text": [
      "- Reading case upst7bx-clim_1.0_freeze\n",
      "-----------------------\n"
     ]
    },
    {
     "name": "stderr",
     "output_type": "stream",
     "text": [
      "/home/mike/work/xbout/xbout/load.py:1129: UserWarning: Will drop all variables containing the dimensions 't' because they are not recognised\n",
      "  warn(\n"
     ]
    },
    {
     "name": "stdout",
     "output_type": "stream",
     "text": [
      "\n",
      "Unnormalising with xHermes\n",
      "- Reading case upst7c-clim_1.0_maxmfp_1\n",
      "-----------------------\n"
     ]
    },
    {
     "name": "stderr",
     "output_type": "stream",
     "text": [
      "/home/mike/work/xbout/xbout/load.py:1129: UserWarning: Will drop all variables containing the dimensions 't' because they are not recognised\n",
      "  warn(\n"
     ]
    },
    {
     "name": "stdout",
     "output_type": "stream",
     "text": [
      "\n",
      "Unnormalising with xHermes\n"
     ]
    }
   ],
   "source": [
    "toload = [ \n",
    "    # dict(name=\"base\", id=\"upst1ai-strumpack_Tnorm_x10_match_fluxlim\", unnormalise = True), \n",
    "    # dict(name=\"new\", id=\"upst5a-reimplement_AFN_from_upst1ah\", unnormalise = True), \n",
    "    dict(name=\"base\", id=\"upst7bx-clim_1.0_freeze\", unnormalise = True), \n",
    "    dict(name=\"highmfp\", id=\"upst7c-clim_1.0_maxmfp_1\", unnormalise = True), \n",
    "    \n",
    "]\n",
    "cs = {}\n",
    "for case in toload:\n",
    "    cs[case[\"name\"]] = db.load_case_2D(case[\"id\"], use_squash = False, verbose = True, unnormalise = case[\"unnormalise\"], unnormalise_geom = case[\"unnormalise\"])\n",
    "    cs[case[\"name\"]].extract_2d_tokamak_geometry()\n"
   ]
  },
  {
   "cell_type": "markdown",
   "metadata": {},
   "source": [
    "# I had the normalisation by metres off: i did it inside the .withDefault bracket instead of outside. This meant it wouldn't get normalised when you set a particular value."
   ]
  },
  {
   "cell_type": "markdown",
   "metadata": {},
   "source": [
    "# New"
   ]
  },
  {
   "cell_type": "code",
   "execution_count": 4,
   "metadata": {},
   "outputs": [],
   "source": [
    "def grad_perp(ds, f):\n",
    "\n",
    "    x = f.bout.ddx() - ds[\"g_12\"] * f.bout.ddy() / (ds[\"J\"] * ds[\"Bxy\"])**2\n",
    "    y = np.zeros_like(x)\n",
    "    z = - ds[\"g_23\"] * f.bout.ddy() / (ds[\"J\"] * ds[\"Bxy\"])**2\n",
    "    \n",
    "    if \"z\" in ds.coords:\n",
    "        z = f.bout.ddz() + z\n",
    "\n",
    "    \n",
    "    return x,y,z\n",
    "# Units of f divided by x, and x is in Wb=Tm^2\n",
    "# x is in poloidal flux \n",
    "# ddy has no units cause y is angle\n",
    "# ddx is units of f/Wb?\n",
    "# z has no units cause z is angle\n",
    "# DOT PRODUCT IS A CUSTOM OPERATOR WITH METRIC COEFFICIENTS!!"
   ]
  },
  {
   "cell_type": "code",
   "execution_count": 5,
   "metadata": {},
   "outputs": [
    {
     "name": "stdout",
     "output_type": "stream",
     "text": [
      "Parameter Rnn not found\n",
      "Parameter Kd_diff not found\n",
      "Parameter Kd_diff_mfp not found\n",
      "Parameter kappa_n_d not found\n",
      "Parameter pf_adv_calc_timeslim not found\n",
      "Parameter mf_adv_calc_timeslim not found\n",
      "Parameter ef_adv_calc_timeslim not found\n",
      "Parameter ef_cond_calc_timeslim not found\n",
      "Parameter mf_visc_calc_timeslim not found\n",
      "Parameter Kd_diff not found\n",
      "Parameter Kd_diff_mfp not found\n",
      "Parameter kappa_n_d not found\n",
      "Parameter pf_adv_calc_timeslim not found\n",
      "Parameter mf_adv_calc_timeslim not found\n",
      "Parameter ef_adv_calc_timeslim not found\n",
      "Parameter ef_cond_calc_timeslim not found\n",
      "Parameter mf_visc_calc_timeslim not found\n"
     ]
    }
   ],
   "source": [
    "# name = \"base\"\n",
    "# df = dfs[name]\n",
    "# ds = cs[name].ds\n",
    "# if \"t\" in ds.sizes: ds = ds.isel(t=-1)\n",
    "# m = ds.metadata\n",
    "# Dnnorm = m[\"Cs0\"] * m[\"Cs0\"] / m[\"Omega_ci\"]\n",
    "# Pnorm = ds.metadata[\"Nnorm\"] * ds.metadata[\"Tnorm\"] * constants(\"q_e\")\n",
    "# pn_floor = 1e-8 * 1/100 * Pnorm\n",
    "\n",
    "# Pnlim = softFloor(ds[\"Pd\"], pn_floor);\n",
    "# logPnlim = np.log(Pnlim)\n",
    "\n",
    "# pf_xlow, _ = Div_a_Grad_perp_fast(ds, ds[\"Dnnd\"] * ds[\"Nd\"], logPnlim)\n",
    "# ds[\"pf_calc\"] = ([\"x\", \"theta\"], pf_xlow.data)\n",
    "\n",
    "dfs = {}\n",
    "\n",
    "for name in cs:\n",
    "    ds = cs[name].ds\n",
    "    if \"t\" in ds.sizes: ds = ds.isel(t=-1)\n",
    "    \n",
    "    ds[\"Vd\"] = ds[\"NVd\"] / ds[\"Nd\"] / (constants(\"mass_p\") * 2)\n",
    "    \n",
    "    m = ds.metadata\n",
    "    Dnnorm = m[\"Cs0\"] * m[\"Cs0\"] / m[\"Omega_ci\"]\n",
    "    Pnorm = ds.metadata[\"Nnorm\"] * ds.metadata[\"Tnorm\"] * constants(\"q_e\")\n",
    "    pn_floor = 1e-8 * 1/100 * Pnorm\n",
    "\n",
    "    Pnlim = softFloor(ds[\"Pd\"], pn_floor);\n",
    "    logPnlim = np.log(Pnlim)\n",
    "\n",
    "    ds[\"grad_perp_logPnlim_x_calc\"], _, _ = grad_perp(ds, logPnlim)\n",
    "    \n",
    "    kappa_n = 5/2 * ds[\"Dnnd\"] * ds[\"Nd\"]\n",
    "    # eta_n = 2*constants(\"mass_p\") * 2/5 * kappa_n\n",
    "    eta_n = 2/5 * kappa_n\n",
    "    \n",
    "    pf_adv_xlow, _ = Div_a_Grad_perp_fast(ds, ds[\"Dnnd\"] * ds[\"Nd\"], logPnlim)\n",
    "    mf_adv_xlow, _ = Div_a_Grad_perp_fast(ds, ds[\"Dnnd\"] * ds[\"NVd\"], logPnlim)\n",
    "    ef_adv_xlow, _ = Div_a_Grad_perp_fast(ds, ds[\"Dnnd\"] * ds[\"Pd\"], logPnlim)\n",
    "    ef_cond_xlow, _ = Div_a_Grad_perp_fast(ds, kappa_n, ds[\"Td\"]*constants(\"q_e\"))\n",
    "    \n",
    "    # mf_visc_xlow, _ = Div_a_Grad_perp_fast(ds, 2 * eta_n, ds[\"Vd\"])\n",
    "    mf_visc_xlow, _ = Div_a_Grad_perp_fast(ds, eta_n, ds[\"Vd\"])\n",
    "    \n",
    "    ef_adv_xlow *= 5/2\n",
    "    ef_cond_xlow *= 3/2\n",
    "\n",
    "    \n",
    "    ds[\"pf_adv_calc\"] = ([\"x\", \"theta\"], pf_adv_xlow.data)\n",
    "    ds[\"mf_adv_calc\"] = ([\"x\", \"theta\"], mf_adv_xlow.data)\n",
    "    ds[\"ef_adv_calc\"] = ([\"x\", \"theta\"], ef_adv_xlow.data)\n",
    "    ds[\"ef_cond_calc\"] = ([\"x\", \"theta\"], ef_cond_xlow.data)\n",
    "    ds[\"mf_visc_calc\"] = ([\"x\", \"theta\"], mf_visc_xlow.data)\n",
    "    \n",
    "    if \"fluxlimd_pf_perp\" in ds:\n",
    "        ds[\"pf_adv_calc_timeslim\"] = ds[\"pf_adv_calc\"] * ds[\"fluxlimd_pf_perp\"]\n",
    "        ds[\"mf_adv_calc_timeslim\"] = ds[\"mf_adv_calc\"] * ds[\"fluxlimd_pf_perp\"]\n",
    "        ds[\"ef_adv_calc_timeslim\"] = ds[\"ef_adv_calc\"] * ds[\"fluxlimd_pf_perp\"]\n",
    "        ds[\"ef_cond_calc_timeslim\"] = ds[\"ef_cond_calc\"] * ds[\"fluxlimd_ef_perp\"]\n",
    "        ds[\"mf_visc_calc_timeslim\"] = ds[\"mf_visc_calc\"] * ds[\"fluxlimd_mf_perp\"]\n",
    "\n",
    "    \n",
    "    dfs[name] = get_1d_radial_data(ds, [\n",
    "        # \"pfd_adv_perp_xlow\", \"mfd_adv_perp_xlow\", \"efd_adv_perp_xlow\", \"efd_cond_perp_xlow\", \"mfd_visc_perp_xlow\",\n",
    "                                        \"dx\", \"dy\", \"dz\", \"g22\", \"g_33\", \"g_12\", \"g_11\", \"J\", \"Bxy\",\n",
    "                                        \"Nd\", \"Ne\", \"Pd\", \"Td\", \n",
    "                                        \"Rnn\",\n",
    "                                        # \"Vd\", \n",
    "                                        \"Vd+\",\n",
    "                                        \"Dnnd\", \n",
    "                                        # \"Dnnd_check\", \"Dmaxd\",\n",
    "                                        \"Kdd+_cx\", \"Sd+_iz\", \"Kd_diff\", \"Kd_diff_mfp\",\n",
    "                                        # \"Vd_perp_x\", \"Vd_perp_y\", \"Vd_perp_abs\",\n",
    "                                        \"kappa_n_d\",\n",
    "                                        # \"grad_perp_logPnlim_x_d\",\n",
    "                                        \"grad_perp_logPnlim_x_calc\", \n",
    "                                        # \"fluxlimd_pf_perp\", \"fluxlimd_ef_perp\", \"fluxlimd_mf_perp\",\n",
    "                                        \"pf_adv_calc\", \"mf_adv_calc\", \"ef_adv_calc\", \"ef_cond_calc\", \"mf_visc_calc\",\n",
    "                                        \"pf_adv_calc_timeslim\", \"mf_adv_calc_timeslim\", \"ef_adv_calc_timeslim\", \"ef_cond_calc_timeslim\", \"mf_visc_calc_timeslim\",\n",
    "                                        ], \"omp\")\n",
    "\n",
    "    df = dfs[name]\n",
    "    Dnnorm = m[\"Cs0\"] * m[\"Cs0\"] / m[\"Omega_ci\"]\n",
    "    Pnorm = ds.metadata[\"Nnorm\"] * ds.metadata[\"Tnorm\"] * constants(\"q_e\")\n",
    "\n",
    "    df[\"dpol\"] = df[\"dy\"] * np.sqrt(df[\"g22\"])\n",
    "    df[\"dtor\"] = df[\"dz\"] * np.sqrt(df[\"g_33\"])\n",
    "    df[\"darad\"] = df[\"dpol\"] * df[\"dtor\"]\n",
    "    pn_floor = 1e-8 * 1/100 * Pnorm\n",
    "    df[\"Pnlim\"] = np.clip(df[\"Pd\"], pn_floor, None)\n",
    "\n",
    "    # df[\"pflux\"] = df[\"pfd_adv_perp_xlow\"] / df[\"darad\"]\n",
    "    df[\"logPnlim\"] = np.log(df[\"Pnlim\"])\n",
    "    df[\"kappa_n\"] = 5/2 * df[\"Dnnd\"] * df[\"Nd\"]\n",
    "    dfs[name] = df"
   ]
  },
  {
   "cell_type": "markdown",
   "metadata": {},
   "source": [
    "### Dnn"
   ]
  },
  {
   "cell_type": "code",
   "execution_count": 6,
   "metadata": {},
   "outputs": [
    {
     "data": {
      "text/plain": [
       "dict_keys(['base', 'highmfp'])"
      ]
     },
     "execution_count": 6,
     "metadata": {},
     "output_type": "execute_result"
    }
   ],
   "source": [
    "cs.keys()"
   ]
  },
  {
   "cell_type": "code",
   "execution_count": 7,
   "metadata": {},
   "outputs": [
    {
     "name": "stdout",
     "output_type": "stream",
     "text": [
      "From options: maximum_mfp=1\n",
      "From options: pressure_floor=1.60217662e-08\n",
      "From options: density_floor=1000000000.0\n"
     ]
    },
    {
     "name": "stderr",
     "output_type": "stream",
     "text": [
      "/tmp/ipykernel_2507134/1533482116.py:55: UserWarning: No artists with labels found to put in legend.  Note that artists whose label start with an underscore are ignored when legend() is called with no argument.\n",
      "  ax.legend(fontsize = \"x-small\")\n"
     ]
    },
    {
     "data": {
      "image/png": "[encoded data removed]",
      "text/plain": [
       "<Figure size 1260x420 with 3 Axes>"
      ]
     },
     "metadata": {},
     "output_type": "display_data"
    }
   ],
   "source": [
    "name = \"highmfp\"\n",
    "\n",
    "\n",
    "df = dfs[name]\n",
    "ds = cs[name].ds\n",
    "if \"t\" in ds.sizes: ds = ds.isel(t=-1)\n",
    "m = ds.metadata\n",
    "\n",
    "Mi = 2 * constants(\"mass_p\")\n",
    "qe = constants(\"q_e\")\n",
    "\n",
    "maximum_mfp = ds.options[\"d\"][\"neutral_lmax\"]\n",
    "# maximum_mfp = 0.1\n",
    "\n",
    "pressure_floor = ds.options[\"d\"][\"pn_floor\"] * m[\"Nnorm\"] * m[\"Tnorm\"] * qe\n",
    "density_floor = ds.options[\"d\"][\"nn_floor\"] * m[\"Nnorm\"]\n",
    "temperature_floor = pressure_floor / density_floor / constants(\"q_e\")\n",
    "\n",
    "print(f\"From options: maximum_mfp={maximum_mfp}\")\n",
    "print(f\"From options: pressure_floor={pressure_floor}\")\n",
    "print(f\"From options: density_floor={density_floor}\")\n",
    "\n",
    "\n",
    "particle_flux_limit_alpha = 0.2\n",
    "df[\"Tnlim\"] = softFloor(df[\"Td\"], 0.1)\n",
    "df[\"Nnlim\"] = softFloor(df[\"Nd\"], density_floor)\n",
    "\n",
    "df[\"nu_calc_cx\"] = df[\"Kdd+_cx\"] \n",
    "df[\"nu_calc_iz\"] = df[\"Sd+_iz\"]/df[\"Nd\"]\n",
    "df[\"nu_calc_total\"] = df[\"nu_calc_cx\"] + df[\"nu_calc_iz\"]  # Excludes mfp\n",
    "df[\"nu_calc_mfp\"] = np.sqrt(df[\"Tnlim\"]*qe/Mi) / maximum_mfp\n",
    "\n",
    "\n",
    "# df[\"grad_corr\"] = df[\"g_12\"] / (df[\"J\"] * df[\"Bxy\"])**2\n",
    "# gradPerp = np.gradient(df[\"logPnlim\"], df[\"dx\"].cumsum() * df[\"grad_corr\"])\n",
    "\n",
    "df[\"Dnn_calc\"] = (df[\"Tnlim\"] * qe/Mi) / (df[\"nu_calc_total\"] + df[\"nu_calc_mfp\"])\n",
    "# df[\"Dmax_calc\"] = particle_flux_limit_alpha * np.sqrt(df[\"Tnlim\"] * qe / Mi) / (df[\"grad_perp_logPnlim_x_calc\"] + 1/df[\"nu_calc_total\"])\n",
    "\n",
    "fig, axes =plt.subplots(1,3, figsize = (3*3,3))\n",
    "\n",
    "ax = axes[1]\n",
    "ax.set_title(\"Rnn\")\n",
    "ax.plot(df[\"Srad\"], df[\"Rnn\"], \"o-\", label = \"diagnostic\")\n",
    "ax.plot(df[\"Srad\"], df[\"nu_calc_mfp\"], label = \"calc\")\n",
    "ax.plot(df[\"Srad\"], df[\"nu_calc_iz\"], label = \"ref: iz\")\n",
    "ax.set_yscale(\"log\")\n",
    "\n",
    "ax = axes[2]\n",
    "ax.set_title(\"Dnn\")\n",
    "ax.plot(df[\"Srad\"], df[\"Dnnd\"], \"o-\", label = \"diagnostic\")\n",
    "ax.plot(df[\"Srad\"], df[\"Dnn_calc\"], label = \"calc\")\n",
    "\n",
    "for ax in axes:\n",
    "    ax.legend(fontsize = \"x-small\")"
   ]
  }
 ],
 "metadata": {
  "kernelspec": {
   "display_name": "base-3.12.5 (3.12.5)",
   "language": "python",
   "name": "python3"
  },
  "language_info": {
   "codemirror_mode": {
    "name": "ipython",
    "version": 3
   },
   "file_extension": ".py",
   "mimetype": "text/x-python",
   "name": "python",
   "nbconvert_exporter": "python",
   "pygments_lexer": "ipython3",
   "version": "3.12.5"
  }
 },
 "nbformat": 4,
 "nbformat_minor": 4
}
