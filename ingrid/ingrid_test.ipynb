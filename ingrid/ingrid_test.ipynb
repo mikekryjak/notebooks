{
 "cells": [
  {
   "cell_type": "code",
   "execution_count": null,
   "metadata": {},
   "outputs": [
    {
     "ename": "",
     "evalue": "",
     "output_type": "error",
     "traceback": [
      "\u001b[1;31mRunning cells with 'ingrid' requires the ipykernel package.\n",
      "\u001b[1;31mRun the following command to install 'ipykernel' into the Python environment. \n",
      "\u001b[1;31mCommand: 'conda install -n ingrid ipykernel --update-deps --force-reinstall'"
     ]
    }
   ],
   "source": [
    "from INGRID import ingrid\n",
    "\n",
    "ingrid.QuickStart()"
   ]
  }
 ],
 "metadata": {
  "kernelspec": {
   "display_name": "ingrid",
   "language": "python",
   "name": "python3"
  },
  "language_info": {
   "name": "python",
   "version": "3.10.11"
  },
  "orig_nbformat": 4
 },
 "nbformat": 4,
 "nbformat_minor": 2
}
