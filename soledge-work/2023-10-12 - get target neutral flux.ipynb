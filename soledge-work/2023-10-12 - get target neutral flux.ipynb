{
 "cells": [
  {
   "cell_type": "code",
   "execution_count": 1,
   "metadata": {},
   "outputs": [
    {
     "name": "stdout",
     "output_type": "stream",
     "text": [
      "\n",
      "st40_phys_viewer can not be loaded from outside Tokamak Energy!\n",
      "\n",
      "Done\n"
     ]
    }
   ],
   "source": [
    "from boututils.datafile import DataFile\n",
    "from boutdata.collect import collect\n",
    "import pandas as pd\n",
    "import numpy as np\n",
    "import matplotlib.pyplot as plt\n",
    "import os, sys, pathlib\n",
    "import platform\n",
    "import traceback\n",
    "import xarray\n",
    "import xbout\n",
    "import scipy\n",
    "import re\n",
    "import netCDF4 as nc\n",
    "\n",
    "onedrive_path = onedrive_path = str(os.getcwd()).split(\"OneDrive\")[0] + \"OneDrive\"\n",
    "sys.path.append(os.path.join(onedrive_path, r\"Project\\python-packages\\sdtools\"))\n",
    "sys.path.append(os.path.join(onedrive_path, r\"Project\\python-packages\\soledge\"))\n",
    "sys.path.append(os.path.join(onedrive_path, r\"Project\\python-packages\"))\n",
    "\n",
    "\n",
    "from gridtools.b2_tools import *\n",
    "from gridtools.utils import *\n",
    "\n",
    "from hermes3.fluxes import *\n",
    "from hermes3.case_db import *\n",
    "from hermes3.load import *\n",
    "from hermes3.named_selections import *\n",
    "from hermes3.plotting import *\n",
    "from hermes3.grid_fields import *\n",
    "from hermes3.accessors import *\n",
    "from hermes3.utils import *\n",
    "from code_comparison.viewer_2d import *\n",
    "from code_comparison.code_comparison import *\n",
    "from code_comparison.solps_pp import *\n",
    "\n",
    "from gridtools.solps_python_scripts.read_b2fgmtry import *\n",
    "\n",
    "\n",
    "%load_ext autoreload\n",
    "%autoreload 2\n",
    "%matplotlib inline\n",
    "\n",
    "print(\"Done\")"
   ]
  },
  {
   "cell_type": "code",
   "execution_count": 2,
   "metadata": {},
   "outputs": [],
   "source": [
    "path=os.path.join(r\"C:\\Users\\mikek\\OneDrive\\Project\\collab\\tech\\compare_data\\soledge_cases\\ST40_wallStd_bra_nocore_D_2e19\")"
   ]
  },
  {
   "cell_type": "code",
   "execution_count": null,
   "metadata": {},
   "outputs": [],
   "source": []
  }
 ],
 "metadata": {
  "kernelspec": {
   "display_name": "Python 3.9.13 ('base')",
   "language": "python",
   "name": "python3"
  },
  "language_info": {
   "codemirror_mode": {
    "name": "ipython",
    "version": 3
   },
   "file_extension": ".py",
   "mimetype": "text/x-python",
   "name": "python",
   "nbconvert_exporter": "python",
   "pygments_lexer": "ipython3",
   "version": "3.10.11"
  },
  "orig_nbformat": 4,
  "vscode": {
   "interpreter": {
    "hash": "5d3028fb5fc7b0ce0999a527284344536284ceb78ab851f9ad8deb4f33e74dff"
   }
  }
 },
 "nbformat": 4,
 "nbformat_minor": 2
}
