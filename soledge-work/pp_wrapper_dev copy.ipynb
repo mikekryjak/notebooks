{
 "cells": [
  {
   "cell_type": "code",
   "execution_count": 1,
   "metadata": {},
   "outputs": [
    {
     "name": "stdout",
     "output_type": "stream",
     "text": [
      "\n",
      "st40_phys_viewer can not be loaded from outside Tokamak Energy!\n",
      "\n",
      "Gridtools not found\n",
      "Done\n"
     ]
    }
   ],
   "source": [
    "from boututils.datafile import DataFile\n",
    "from boutdata.collect import collect\n",
    "import pandas as pd\n",
    "import numpy as np\n",
    "import matplotlib.pyplot as plt\n",
    "import os, sys, pathlib\n",
    "import platform\n",
    "import traceback\n",
    "import xarray\n",
    "import xbout\n",
    "import scipy\n",
    "import re\n",
    "import netCDF4 as nc\n",
    "\n",
    "onedrive_path = onedrive_path = str(os.getcwd()).split(\"OneDrive\")[0] + \"OneDrive\"\n",
    "sys.path.append(os.path.join(onedrive_path, r\"Project\\python-packages\\sdtools\"))\n",
    "sys.path.append(os.path.join(onedrive_path, r\"Project\\python-packages\\soledge\"))\n",
    "sys.path.append(os.path.join(onedrive_path, r\"Project\\python-packages\"))\n",
    "\n",
    "\n",
    "from gridtools.b2_tools import *\n",
    "from gridtools.utils import *\n",
    "\n",
    "from hermes3.fluxes import *\n",
    "from hermes3.case_db import *\n",
    "from hermes3.load import *\n",
    "from hermes3.named_selections import *\n",
    "from hermes3.plotting import *\n",
    "from hermes3.grid_fields import *\n",
    "from hermes3.accessors import *\n",
    "from hermes3.utils import *\n",
    "from code_comparison.viewer_2d import *\n",
    "from code_comparison.code_comparison import *\n",
    "from files.load_plasma_files\t\t\t\t\t\timport load_plasma_files\n",
    "from gridtools.solps_python_scripts.read_b2fgmtry import *\n",
    "\n",
    "from soledge.mk_funcs import *\n",
    "\n",
    "%load_ext autoreload\n",
    "%autoreload 2\n",
    "%matplotlib inline\n",
    "\n",
    "print(\"Done\")"
   ]
  },
  {
   "cell_type": "code",
   "execution_count": 2,
   "metadata": {},
   "outputs": [],
   "source": [
    "from wrapper_class import *"
   ]
  },
  {
   "cell_type": "code",
   "execution_count": 4,
   "metadata": {},
   "outputs": [
    {
     "name": "stderr",
     "output_type": "stream",
     "text": [
      "c:\\Users\\mikek\\OneDrive\\Project\\python-packages\\soledge\\routines\\h5_routines.py:65: FutureWarning: In the future `np.str` will be defined as the corresponding NumPy scalar.\n",
      "  Data = Data.astype(np.str)\n"
     ]
    }
   ],
   "source": [
    "path=os.path.join(path = r\"C:\\Users\\mikek\\OneDrive\\Project\\collab\\tech\\compare_data\\soledge_cases\\ST40_wallMike_bra_nocore_D_2e19\")\n",
    "# path=os.path.join(path = r\"C:\\Users\\mikek\\OneDrive\\Project\\collab\\tech\\compare_data\\soledge_cases\\ST40_wallStd_bra_nocore_D_2e19\")\n",
    "\n",
    "slc = SOLEDGEcase(path)\n",
    "# wall_fluxes = self.get_wall_fluxes()\n"
   ]
  },
  {
   "cell_type": "code",
   "execution_count": 2,
   "metadata": {},
   "outputs": [],
   "source": [
    "soledgecases = {\n",
    "    \"tightwall_2e19\" : os.path.join(onedrive_path, r\"Project\\collab\\tech\\compare_data\\soledge_cases\\ST40_wallMike_bra_nocore_D_2e19\"), # Hermes-3 like wall\n",
    "}\n",
    "\n",
    "sl = dict()\n",
    "\n",
    "for name in soledgecases:\n",
    "    path = soledgecases[name]\n",
    "    sl[name] = SOLEDGEdata()\n",
    "    sl[name].read_csv(os.path.join(path, \"omp_plasma.csv\"), mode = \"plot1d_omp\")\n",
    "    sl[name].read_csv(os.path.join(path, \"omp_neutrals.csv\"), mode = \"plot1d_omp\")\n",
    "    sl[name].read_csv(os.path.join(path, \"imp_plasma.csv\"), mode = \"plot1d_imp\")\n",
    "    sl[name].read_csv(os.path.join(path, \"imp_neutrals.csv\"), mode = \"plot1d_imp\")\n",
    "    sl[name].read_csv(os.path.join(path, \"wall_ntmpi_plasma.csv\"), mode = \"wall_ntmpi\")\n",
    "\n"
   ]
  },
  {
   "cell_type": "code",
   "execution_count": 6,
   "metadata": {},
   "outputs": [
    {
     "data": {
      "text/plain": [
       "['Dense',\n",
       " 'Tempe',\n",
       " 'velocitye',\n",
       " 'Me',\n",
       " 'IRade',\n",
       " '(Dens*Temp^1.5)e',\n",
       " 'pi_parallele',\n",
       " 'Alphame',\n",
       " 'Alphape',\n",
       " 'Sne',\n",
       " 'SGe',\n",
       " 'SEe',\n",
       " 'count_Zhdanov_min_ne',\n",
       " 'count_clean_min_ne',\n",
       " 'count_clean_min_te',\n",
       " 'count_coupling_min_te',\n",
       " 'IRad1e',\n",
       " 'Zeff',\n",
       " 'SE1e',\n",
       " 'TotRad',\n",
       " 'TotNRad',\n",
       " 'Densi',\n",
       " 'Tempi',\n",
       " 'velocityi',\n",
       " 'Mi',\n",
       " 'IRadi',\n",
       " '(Dens*Temp^1.5)i',\n",
       " 'pi_paralleli',\n",
       " 'Alphami',\n",
       " 'Alphapi',\n",
       " 'Sni',\n",
       " 'SGi',\n",
       " 'SEi',\n",
       " 'count_Zhdanov_min_ni',\n",
       " 'count_clean_min_ni',\n",
       " 'count_clean_min_ti',\n",
       " 'count_coupling_min_ti',\n",
       " 'IRad1i',\n",
       " 'NRadi',\n",
       " 'Nni',\n",
       " 'Tni',\n",
       " 'Pni',\n",
       " 'vxni',\n",
       " 'vyni',\n",
       " 'vzni',\n",
       " 'Nmi',\n",
       " 'Tmi',\n",
       " 'vxmi',\n",
       " 'vymi',\n",
       " 'vzmi',\n",
       " 'Ntii',\n",
       " 'Ppi',\n",
       " 'Epi',\n",
       " 'TDensi',\n",
       " 'TDensei',\n",
       " 'FracDensi',\n",
       " 'Cimpi',\n",
       " 'FraceDensi',\n",
       " 'Zavei',\n",
       " 'TotRadi']"
      ]
     },
     "execution_count": 6,
     "metadata": {},
     "output_type": "execute_result"
    }
   ],
   "source": [
    "slc.params"
   ]
  },
  {
   "cell_type": "code",
   "execution_count": null,
   "metadata": {},
   "outputs": [],
   "source": [
    "# Index(['D', 'Nu', 'Chie', 'Chi', 'Vpinch', 'Ne', 'Te', '(Dens*Temp^1.5)e',\n",
    "#        'Pd+', 'Nd+', 'Td+', '(Dens*Temp^1.5)i', 'Mi', 'Vd+', 'Rd+_ex', 'Nd',\n",
    "#        'Nd2', 'Pd', 'Td', 'Td2', 'Vyd'],"
   ]
  },
  {
   "cell_type": "code",
   "execution_count": 7,
   "metadata": {},
   "outputs": [
    {
     "data": {
      "text/html": [
       "<div>\n",
       "<style scoped>\n",
       "    .dataframe tbody tr th:only-of-type {\n",
       "        vertical-align: middle;\n",
       "    }\n",
       "\n",
       "    .dataframe tbody tr th {\n",
       "        vertical-align: top;\n",
       "    }\n",
       "\n",
       "    .dataframe thead th {\n",
       "        text-align: right;\n",
       "    }\n",
       "</style>\n",
       "<table border=\"1\" class=\"dataframe\">\n",
       "  <thead>\n",
       "    <tr style=\"text-align: right;\">\n",
       "      <th></th>\n",
       "      <th>dist</th>\n",
       "      <th>R</th>\n",
       "      <th>Z</th>\n",
       "      <th>Tempe</th>\n",
       "    </tr>\n",
       "  </thead>\n",
       "  <tbody>\n",
       "    <tr>\n",
       "      <th>0</th>\n",
       "      <td>-0.054912</td>\n",
       "      <td>0.682682</td>\n",
       "      <td>-0.002436</td>\n",
       "      <td>2311.718391</td>\n",
       "    </tr>\n",
       "    <tr>\n",
       "      <th>1</th>\n",
       "      <td>-0.051773</td>\n",
       "      <td>0.685821</td>\n",
       "      <td>-0.002436</td>\n",
       "      <td>2195.611616</td>\n",
       "    </tr>\n",
       "    <tr>\n",
       "      <th>2</th>\n",
       "      <td>-0.048441</td>\n",
       "      <td>0.689153</td>\n",
       "      <td>-0.002436</td>\n",
       "      <td>2071.393154</td>\n",
       "    </tr>\n",
       "    <tr>\n",
       "      <th>3</th>\n",
       "      <td>-0.044931</td>\n",
       "      <td>0.692663</td>\n",
       "      <td>-0.002436</td>\n",
       "      <td>1940.145149</td>\n",
       "    </tr>\n",
       "    <tr>\n",
       "      <th>4</th>\n",
       "      <td>-0.041269</td>\n",
       "      <td>0.696325</td>\n",
       "      <td>-0.002436</td>\n",
       "      <td>1802.593747</td>\n",
       "    </tr>\n",
       "    <tr>\n",
       "      <th>5</th>\n",
       "      <td>-0.037485</td>\n",
       "      <td>0.700108</td>\n",
       "      <td>-0.002436</td>\n",
       "      <td>1659.706227</td>\n",
       "    </tr>\n",
       "    <tr>\n",
       "      <th>6</th>\n",
       "      <td>-0.033612</td>\n",
       "      <td>0.703982</td>\n",
       "      <td>-0.002436</td>\n",
       "      <td>1512.764985</td>\n",
       "    </tr>\n",
       "    <tr>\n",
       "      <th>7</th>\n",
       "      <td>-0.029687</td>\n",
       "      <td>0.707907</td>\n",
       "      <td>-0.002436</td>\n",
       "      <td>1363.063376</td>\n",
       "    </tr>\n",
       "    <tr>\n",
       "      <th>8</th>\n",
       "      <td>-0.025750</td>\n",
       "      <td>0.711844</td>\n",
       "      <td>-0.002436</td>\n",
       "      <td>1211.950298</td>\n",
       "    </tr>\n",
       "    <tr>\n",
       "      <th>9</th>\n",
       "      <td>-0.021850</td>\n",
       "      <td>0.715744</td>\n",
       "      <td>-0.002436</td>\n",
       "      <td>1061.075420</td>\n",
       "    </tr>\n",
       "    <tr>\n",
       "      <th>10</th>\n",
       "      <td>-0.018042</td>\n",
       "      <td>0.719552</td>\n",
       "      <td>-0.002436</td>\n",
       "      <td>912.215027</td>\n",
       "    </tr>\n",
       "    <tr>\n",
       "      <th>11</th>\n",
       "      <td>-0.014385</td>\n",
       "      <td>0.723209</td>\n",
       "      <td>-0.002436</td>\n",
       "      <td>767.209472</td>\n",
       "    </tr>\n",
       "    <tr>\n",
       "      <th>12</th>\n",
       "      <td>-0.010954</td>\n",
       "      <td>0.726640</td>\n",
       "      <td>-0.002436</td>\n",
       "      <td>627.957224</td>\n",
       "    </tr>\n",
       "    <tr>\n",
       "      <th>13</th>\n",
       "      <td>-0.007821</td>\n",
       "      <td>0.729773</td>\n",
       "      <td>-0.002436</td>\n",
       "      <td>495.911161</td>\n",
       "    </tr>\n",
       "    <tr>\n",
       "      <th>14</th>\n",
       "      <td>-0.005073</td>\n",
       "      <td>0.732521</td>\n",
       "      <td>-0.002436</td>\n",
       "      <td>371.728572</td>\n",
       "    </tr>\n",
       "    <tr>\n",
       "      <th>15</th>\n",
       "      <td>-0.002822</td>\n",
       "      <td>0.734771</td>\n",
       "      <td>-0.002436</td>\n",
       "      <td>255.507589</td>\n",
       "    </tr>\n",
       "    <tr>\n",
       "      <th>16</th>\n",
       "      <td>-0.001164</td>\n",
       "      <td>0.736430</td>\n",
       "      <td>-0.002436</td>\n",
       "      <td>148.944939</td>\n",
       "    </tr>\n",
       "    <tr>\n",
       "      <th>17</th>\n",
       "      <td>-0.000246</td>\n",
       "      <td>0.737348</td>\n",
       "      <td>-0.002436</td>\n",
       "      <td>72.441910</td>\n",
       "    </tr>\n",
       "    <tr>\n",
       "      <th>18</th>\n",
       "      <td>0.000247</td>\n",
       "      <td>0.737840</td>\n",
       "      <td>-0.002436</td>\n",
       "      <td>60.354637</td>\n",
       "    </tr>\n",
       "    <tr>\n",
       "      <th>19</th>\n",
       "      <td>0.000888</td>\n",
       "      <td>0.738482</td>\n",
       "      <td>-0.002436</td>\n",
       "      <td>53.176543</td>\n",
       "    </tr>\n",
       "    <tr>\n",
       "      <th>20</th>\n",
       "      <td>0.001898</td>\n",
       "      <td>0.739491</td>\n",
       "      <td>-0.002436</td>\n",
       "      <td>44.819766</td>\n",
       "    </tr>\n",
       "    <tr>\n",
       "      <th>21</th>\n",
       "      <td>0.003439</td>\n",
       "      <td>0.741033</td>\n",
       "      <td>-0.002436</td>\n",
       "      <td>35.627326</td>\n",
       "    </tr>\n",
       "    <tr>\n",
       "      <th>22</th>\n",
       "      <td>0.005702</td>\n",
       "      <td>0.743296</td>\n",
       "      <td>-0.002436</td>\n",
       "      <td>26.632003</td>\n",
       "    </tr>\n",
       "    <tr>\n",
       "      <th>23</th>\n",
       "      <td>0.008902</td>\n",
       "      <td>0.746496</td>\n",
       "      <td>-0.002436</td>\n",
       "      <td>18.960904</td>\n",
       "    </tr>\n",
       "    <tr>\n",
       "      <th>24</th>\n",
       "      <td>0.013295</td>\n",
       "      <td>0.750889</td>\n",
       "      <td>-0.002436</td>\n",
       "      <td>13.113821</td>\n",
       "    </tr>\n",
       "    <tr>\n",
       "      <th>25</th>\n",
       "      <td>0.019189</td>\n",
       "      <td>0.756783</td>\n",
       "      <td>-0.002436</td>\n",
       "      <td>8.965507</td>\n",
       "    </tr>\n",
       "    <tr>\n",
       "      <th>26</th>\n",
       "      <td>0.026924</td>\n",
       "      <td>0.764518</td>\n",
       "      <td>-0.002436</td>\n",
       "      <td>5.970471</td>\n",
       "    </tr>\n",
       "  </tbody>\n",
       "</table>\n",
       "</div>"
      ],
      "text/plain": [
       "        dist         R         Z        Tempe\n",
       "0  -0.054912  0.682682 -0.002436  2311.718391\n",
       "1  -0.051773  0.685821 -0.002436  2195.611616\n",
       "2  -0.048441  0.689153 -0.002436  2071.393154\n",
       "3  -0.044931  0.692663 -0.002436  1940.145149\n",
       "4  -0.041269  0.696325 -0.002436  1802.593747\n",
       "5  -0.037485  0.700108 -0.002436  1659.706227\n",
       "6  -0.033612  0.703982 -0.002436  1512.764985\n",
       "7  -0.029687  0.707907 -0.002436  1363.063376\n",
       "8  -0.025750  0.711844 -0.002436  1211.950298\n",
       "9  -0.021850  0.715744 -0.002436  1061.075420\n",
       "10 -0.018042  0.719552 -0.002436   912.215027\n",
       "11 -0.014385  0.723209 -0.002436   767.209472\n",
       "12 -0.010954  0.726640 -0.002436   627.957224\n",
       "13 -0.007821  0.729773 -0.002436   495.911161\n",
       "14 -0.005073  0.732521 -0.002436   371.728572\n",
       "15 -0.002822  0.734771 -0.002436   255.507589\n",
       "16 -0.001164  0.736430 -0.002436   148.944939\n",
       "17 -0.000246  0.737348 -0.002436    72.441910\n",
       "18  0.000247  0.737840 -0.002436    60.354637\n",
       "19  0.000888  0.738482 -0.002436    53.176543\n",
       "20  0.001898  0.739491 -0.002436    44.819766\n",
       "21  0.003439  0.741033 -0.002436    35.627326\n",
       "22  0.005702  0.743296 -0.002436    26.632003\n",
       "23  0.008902  0.746496 -0.002436    18.960904\n",
       "24  0.013295  0.750889 -0.002436    13.113821\n",
       "25  0.019189  0.756783 -0.002436     8.965507\n",
       "26  0.026924  0.764518 -0.002436     5.970471"
      ]
     },
     "execution_count": 7,
     "metadata": {},
     "output_type": "execute_result"
    }
   ],
   "source": [
    "params = {\n",
    "    \"Tempe\" : \"Te\",\n",
    "    \"Tempi\" : \"Ti\",\n",
    "}\n",
    "\n",
    "dfs = []\n",
    "\n",
    "for param in params:\n",
    "    slc.get_1d_radial_data(\"Tempe\", theta_line = 0)"
   ]
  },
  {
   "cell_type": "code",
   "execution_count": 8,
   "metadata": {},
   "outputs": [
    {
     "data": {
      "text/plain": [
       "Index(['D', 'Nu', 'Chie', 'Chi', 'Vpinch', 'Ne', 'Te', '(Dens*Temp^1.5)e',\n",
       "       'Pd+', 'Nd+', 'Td+', '(Dens*Temp^1.5)i', 'Mi', 'Vd+', 'Rd+_ex', 'Nd',\n",
       "       'Nd2', 'Pd', 'Td', 'Td2', 'Vyd'],\n",
       "      dtype='object')"
      ]
     },
     "execution_count": 8,
     "metadata": {},
     "output_type": "execute_result"
    }
   ],
   "source": [
    "sl[\"tightwall_2e19\"].regions[\"omp\"].columns"
   ]
  },
  {
   "cell_type": "code",
   "execution_count": 213,
   "metadata": {},
   "outputs": [
    {
     "name": "stdout",
     "output_type": "stream",
     "text": [
      "get_wall_triangle\n",
      "get_wall_triangles\n",
      "get_wall_triangles.2: Completed\n",
      "get_wall_triangle: Completed\n"
     ]
    },
    {
     "data": {
      "text/html": [
       "<div>\n",
       "<style scoped>\n",
       "    .dataframe tbody tr th:only-of-type {\n",
       "        vertical-align: middle;\n",
       "    }\n",
       "\n",
       "    .dataframe tbody tr th {\n",
       "        vertical-align: top;\n",
       "    }\n",
       "\n",
       "    .dataframe thead th {\n",
       "        text-align: right;\n",
       "    }\n",
       "</style>\n",
       "<table border=\"1\" class=\"dataframe\">\n",
       "  <thead>\n",
       "    <tr style=\"text-align: right;\">\n",
       "      <th></th>\n",
       "      <th>Nn</th>\n",
       "      <th>Nm</th>\n",
       "      <th>Tn</th>\n",
       "      <th>Tm</th>\n",
       "      <th>Sn</th>\n",
       "      <th>M</th>\n",
       "      <th>Te</th>\n",
       "      <th>Ti</th>\n",
       "      <th>Ne</th>\n",
       "      <th>walldL</th>\n",
       "      <th>L</th>\n",
       "      <th>R</th>\n",
       "      <th>Z</th>\n",
       "      <th>iWallKnots</th>\n",
       "      <th>dist</th>\n",
       "    </tr>\n",
       "  </thead>\n",
       "  <tbody>\n",
       "    <tr>\n",
       "      <th>0</th>\n",
       "      <td>1.538405e+16</td>\n",
       "      <td>1.425987e+16</td>\n",
       "      <td>42.358707</td>\n",
       "      <td>0.116306</td>\n",
       "      <td>1.625636e+19</td>\n",
       "      <td>-0.063129</td>\n",
       "      <td>5.058523</td>\n",
       "      <td>16.321424</td>\n",
       "      <td>2.416552e+17</td>\n",
       "      <td>0.049136</td>\n",
       "      <td>0.049136</td>\n",
       "      <td>0.168004</td>\n",
       "      <td>0.045684</td>\n",
       "      <td>2980</td>\n",
       "      <td>-0.746632</td>\n",
       "    </tr>\n",
       "    <tr>\n",
       "      <th>1</th>\n",
       "      <td>1.574553e+16</td>\n",
       "      <td>1.461785e+16</td>\n",
       "      <td>38.262323</td>\n",
       "      <td>0.110554</td>\n",
       "      <td>5.465212e+18</td>\n",
       "      <td>0.002587</td>\n",
       "      <td>5.059194</td>\n",
       "      <td>16.326453</td>\n",
       "      <td>2.434052e+17</td>\n",
       "      <td>0.049309</td>\n",
       "      <td>0.098445</td>\n",
       "      <td>0.167150</td>\n",
       "      <td>-0.003444</td>\n",
       "      <td>2979</td>\n",
       "      <td>-0.697323</td>\n",
       "    </tr>\n",
       "    <tr>\n",
       "      <th>2</th>\n",
       "      <td>1.645953e+16</td>\n",
       "      <td>1.649838e+16</td>\n",
       "      <td>38.209965</td>\n",
       "      <td>0.103968</td>\n",
       "      <td>5.703353e+18</td>\n",
       "      <td>0.068372</td>\n",
       "      <td>5.058664</td>\n",
       "      <td>16.327656</td>\n",
       "      <td>2.416350e+17</td>\n",
       "      <td>0.049291</td>\n",
       "      <td>0.147736</td>\n",
       "      <td>0.168150</td>\n",
       "      <td>-0.052743</td>\n",
       "      <td>2978</td>\n",
       "      <td>-0.648032</td>\n",
       "    </tr>\n",
       "    <tr>\n",
       "      <th>3</th>\n",
       "      <td>1.695886e+16</td>\n",
       "      <td>1.677281e+16</td>\n",
       "      <td>39.609145</td>\n",
       "      <td>0.108860</td>\n",
       "      <td>1.778616e+19</td>\n",
       "      <td>0.124791</td>\n",
       "      <td>5.057276</td>\n",
       "      <td>16.324187</td>\n",
       "      <td>2.389971e+17</td>\n",
       "      <td>0.049025</td>\n",
       "      <td>0.196761</td>\n",
       "      <td>0.169466</td>\n",
       "      <td>-0.102017</td>\n",
       "      <td>2977</td>\n",
       "      <td>-0.599006</td>\n",
       "    </tr>\n",
       "    <tr>\n",
       "      <th>4</th>\n",
       "      <td>1.725117e+16</td>\n",
       "      <td>1.722701e+16</td>\n",
       "      <td>40.627067</td>\n",
       "      <td>0.109641</td>\n",
       "      <td>1.781988e+19</td>\n",
       "      <td>0.173616</td>\n",
       "      <td>5.055343</td>\n",
       "      <td>16.315475</td>\n",
       "      <td>2.367978e+17</td>\n",
       "      <td>0.048454</td>\n",
       "      <td>0.245215</td>\n",
       "      <td>0.172594</td>\n",
       "      <td>-0.150942</td>\n",
       "      <td>2976</td>\n",
       "      <td>-0.550552</td>\n",
       "    </tr>\n",
       "    <tr>\n",
       "      <th>...</th>\n",
       "      <td>...</td>\n",
       "      <td>...</td>\n",
       "      <td>...</td>\n",
       "      <td>...</td>\n",
       "      <td>...</td>\n",
       "      <td>...</td>\n",
       "      <td>...</td>\n",
       "      <td>...</td>\n",
       "      <td>...</td>\n",
       "      <td>...</td>\n",
       "      <td>...</td>\n",
       "      <td>...</td>\n",
       "      <td>...</td>\n",
       "      <td>...</td>\n",
       "      <td>...</td>\n",
       "    </tr>\n",
       "    <tr>\n",
       "      <th>249</th>\n",
       "      <td>2.209463e+16</td>\n",
       "      <td>2.631344e+16</td>\n",
       "      <td>45.756221</td>\n",
       "      <td>0.085307</td>\n",
       "      <td>7.242953e+18</td>\n",
       "      <td>-0.247930</td>\n",
       "      <td>5.049705</td>\n",
       "      <td>16.256466</td>\n",
       "      <td>2.314581e+17</td>\n",
       "      <td>0.045145</td>\n",
       "      <td>3.882202</td>\n",
       "      <td>0.180018</td>\n",
       "      <td>0.234634</td>\n",
       "      <td>2984</td>\n",
       "      <td>3.086435</td>\n",
       "    </tr>\n",
       "    <tr>\n",
       "      <th>250</th>\n",
       "      <td>1.854524e+16</td>\n",
       "      <td>2.393963e+16</td>\n",
       "      <td>48.204847</td>\n",
       "      <td>0.086223</td>\n",
       "      <td>6.159248e+18</td>\n",
       "      <td>-0.211351</td>\n",
       "      <td>5.052505</td>\n",
       "      <td>16.278578</td>\n",
       "      <td>2.341465e+17</td>\n",
       "      <td>0.047297</td>\n",
       "      <td>3.929499</td>\n",
       "      <td>0.175145</td>\n",
       "      <td>0.189753</td>\n",
       "      <td>2983</td>\n",
       "      <td>3.133731</td>\n",
       "    </tr>\n",
       "    <tr>\n",
       "      <th>251</th>\n",
       "      <td>1.633081e+16</td>\n",
       "      <td>2.091932e+16</td>\n",
       "      <td>48.602808</td>\n",
       "      <td>0.093228</td>\n",
       "      <td>5.500635e+18</td>\n",
       "      <td>-0.168257</td>\n",
       "      <td>5.054993</td>\n",
       "      <td>16.297334</td>\n",
       "      <td>2.369098e+17</td>\n",
       "      <td>0.048205</td>\n",
       "      <td>3.977704</td>\n",
       "      <td>0.172054</td>\n",
       "      <td>0.142557</td>\n",
       "      <td>2982</td>\n",
       "      <td>3.181936</td>\n",
       "    </tr>\n",
       "    <tr>\n",
       "      <th>252</th>\n",
       "      <td>1.599615e+16</td>\n",
       "      <td>1.677163e+16</td>\n",
       "      <td>46.343077</td>\n",
       "      <td>0.106465</td>\n",
       "      <td>1.641220e+19</td>\n",
       "      <td>-0.119445</td>\n",
       "      <td>5.057014</td>\n",
       "      <td>16.311857</td>\n",
       "      <td>2.390670e+17</td>\n",
       "      <td>0.048775</td>\n",
       "      <td>4.026479</td>\n",
       "      <td>0.168991</td>\n",
       "      <td>0.094449</td>\n",
       "      <td>2981</td>\n",
       "      <td>3.230711</td>\n",
       "    </tr>\n",
       "    <tr>\n",
       "      <th>253</th>\n",
       "      <td>1.538405e+16</td>\n",
       "      <td>1.425987e+16</td>\n",
       "      <td>42.358707</td>\n",
       "      <td>0.116306</td>\n",
       "      <td>1.625636e+19</td>\n",
       "      <td>-0.063129</td>\n",
       "      <td>5.058523</td>\n",
       "      <td>16.321424</td>\n",
       "      <td>2.416552e+17</td>\n",
       "      <td>0.048775</td>\n",
       "      <td>4.075254</td>\n",
       "      <td>0.168004</td>\n",
       "      <td>0.045684</td>\n",
       "      <td>2980</td>\n",
       "      <td>3.279486</td>\n",
       "    </tr>\n",
       "  </tbody>\n",
       "</table>\n",
       "<p>254 rows × 15 columns</p>\n",
       "</div>"
      ],
      "text/plain": [
       "               Nn            Nm         Tn        Tm            Sn         M  \\\n",
       "0    1.538405e+16  1.425987e+16  42.358707  0.116306  1.625636e+19 -0.063129   \n",
       "1    1.574553e+16  1.461785e+16  38.262323  0.110554  5.465212e+18  0.002587   \n",
       "2    1.645953e+16  1.649838e+16  38.209965  0.103968  5.703353e+18  0.068372   \n",
       "3    1.695886e+16  1.677281e+16  39.609145  0.108860  1.778616e+19  0.124791   \n",
       "4    1.725117e+16  1.722701e+16  40.627067  0.109641  1.781988e+19  0.173616   \n",
       "..            ...           ...        ...       ...           ...       ...   \n",
       "249  2.209463e+16  2.631344e+16  45.756221  0.085307  7.242953e+18 -0.247930   \n",
       "250  1.854524e+16  2.393963e+16  48.204847  0.086223  6.159248e+18 -0.211351   \n",
       "251  1.633081e+16  2.091932e+16  48.602808  0.093228  5.500635e+18 -0.168257   \n",
       "252  1.599615e+16  1.677163e+16  46.343077  0.106465  1.641220e+19 -0.119445   \n",
       "253  1.538405e+16  1.425987e+16  42.358707  0.116306  1.625636e+19 -0.063129   \n",
       "\n",
       "           Te         Ti            Ne    walldL         L         R  \\\n",
       "0    5.058523  16.321424  2.416552e+17  0.049136  0.049136  0.168004   \n",
       "1    5.059194  16.326453  2.434052e+17  0.049309  0.098445  0.167150   \n",
       "2    5.058664  16.327656  2.416350e+17  0.049291  0.147736  0.168150   \n",
       "3    5.057276  16.324187  2.389971e+17  0.049025  0.196761  0.169466   \n",
       "4    5.055343  16.315475  2.367978e+17  0.048454  0.245215  0.172594   \n",
       "..        ...        ...           ...       ...       ...       ...   \n",
       "249  5.049705  16.256466  2.314581e+17  0.045145  3.882202  0.180018   \n",
       "250  5.052505  16.278578  2.341465e+17  0.047297  3.929499  0.175145   \n",
       "251  5.054993  16.297334  2.369098e+17  0.048205  3.977704  0.172054   \n",
       "252  5.057014  16.311857  2.390670e+17  0.048775  4.026479  0.168991   \n",
       "253  5.058523  16.321424  2.416552e+17  0.048775  4.075254  0.168004   \n",
       "\n",
       "            Z  iWallKnots      dist  \n",
       "0    0.045684        2980 -0.746632  \n",
       "1   -0.003444        2979 -0.697323  \n",
       "2   -0.052743        2978 -0.648032  \n",
       "3   -0.102017        2977 -0.599006  \n",
       "4   -0.150942        2976 -0.550552  \n",
       "..        ...         ...       ...  \n",
       "249  0.234634        2984  3.086435  \n",
       "250  0.189753        2983  3.133731  \n",
       "251  0.142557        2982  3.181936  \n",
       "252  0.094449        2981  3.230711  \n",
       "253  0.045684        2980  3.279486  \n",
       "\n",
       "[254 rows x 15 columns]"
      ]
     },
     "execution_count": 213,
     "metadata": {},
     "output_type": "execute_result"
    }
   ],
   "source": [
    "self.get_wall_data_on_target(self.get_wall_ntmpi(), \"outer_lower\")"
   ]
  },
  {
   "cell_type": "code",
   "execution_count": 164,
   "metadata": {},
   "outputs": [
    {
     "name": "stdout",
     "output_type": "stream",
     "text": [
      "get_wall_triangle\n",
      "get_wall_triangles\n",
      "get_wall_triangles.2: Completed\n",
      "get_wall_triangle: Completed\n"
     ]
    }
   ],
   "source": [
    "df = self.get_wall_ntmpi()"
   ]
  },
  {
   "cell_type": "code",
   "execution_count": 173,
   "metadata": {},
   "outputs": [],
   "source": []
  },
  {
   "cell_type": "code",
   "execution_count": 182,
   "metadata": {},
   "outputs": [],
   "source": [
    "peakid = out[0]"
   ]
  },
  {
   "cell_type": "code",
   "execution_count": null,
   "metadata": {},
   "outputs": [],
   "source": [
    "df = "
   ]
  },
  {
   "cell_type": "code",
   "execution_count": 208,
   "metadata": {},
   "outputs": [
    {
     "data": {
      "text/plain": [
       "[<matplotlib.lines.Line2D at 0x29106183ee0>]"
      ]
     },
     "execution_count": 208,
     "metadata": {},
     "output_type": "execute_result"
    },
    {
     "data": {
      "image/png": "[encoded data removed]",
      "text/plain": [
       "<Figure size 640x480 with 1 Axes>"
      ]
     },
     "metadata": {},
     "output_type": "display_data"
    }
   ],
   "source": [
    "def get_wall_data_on_target(df, target):\n",
    "    \"\"\"\n",
    "    Align data with Te peaks for each divertor\n",
    "    \"\"\"\n",
    "    out = scipy.signal.find_peaks(df[\"Te\"], prominence = 1)\n",
    "    peakid = out[0]\n",
    "    indices = {\n",
    "        \"inner_lower\":peakid[0],\n",
    "        \"outer_lower\":peakid[1],\n",
    "        \"outer_upper\":peakid[2],\n",
    "        \"inner_upper\":peakid[3]\n",
    "    }\n",
    "    target = \"inner_lower\"\n",
    "    df[\"dist\"] = df[\"L\"] - df[\"L\"][indices[target]]\n",
    "\n",
    "    return df\n",
    "\n",
    "fig, ax = plt.subplots()\n",
    "ax.plot(df[\"dist\"], df[\"Te\"])\n"
   ]
  },
  {
   "cell_type": "markdown",
   "metadata": {},
   "source": [
    "# Data on tri"
   ]
  },
  {
   "cell_type": "code",
   "execution_count": 222,
   "metadata": {},
   "outputs": [
    {
     "name": "stdout",
     "output_type": "stream",
     "text": [
      "0 100\n"
     ]
    },
    {
     "data": {
      "text/plain": [
       "(-0.87, 0.1)"
      ]
     },
     "execution_count": 222,
     "metadata": {},
     "output_type": "execute_result"
    },
    {
     "data": {
      "image/png": "[encoded data removed]",
      "text/plain": [
       "<Figure size 960x720 with 2 Axes>"
      ]
     },
     "metadata": {},
     "output_type": "display_data"
    }
   ],
   "source": [
    "Nm = self._get_2d_on_tri(\"Nmi\")\n",
    "Nn = self._get_2d_on_tri(\"Nni\")\n",
    "frac = Nm /(Nn + Nm) * 100\n",
    "\n",
    "Nm.shape\n",
    "\n",
    "fig, ax = plt.subplots(dpi = 150)\n",
    "\n",
    "self.plot_2d(data = frac, ax = ax, fig = fig, cbar = True, logscale = False,  vmin=0, vmax = 100,\n",
    "             )\n",
    "\n",
    "ax.set_aspect(\"equal\")\n",
    "# ax.set_ylim(-0.87,-0.6)\n",
    "ax.set_ylim(-0.87, 0.1)\n",
    "# ax.set_xlim(0.18, .65)"
   ]
  },
  {
   "cell_type": "markdown",
   "metadata": {},
   "source": [
    "# Wall neutrals"
   ]
  },
  {
   "cell_type": "code",
   "execution_count": 108,
   "metadata": {},
   "outputs": [
    {
     "name": "stdout",
     "output_type": "stream",
     "text": [
      "load_eirene_triangles: reading file  C:\\Users\\mikek\\OneDrive\\Project\\collab\\tech\\compare_data\\soledge_cases\\ST40_wallMike_bra_nocore_D_2e19\\triangles.h5\n",
      "wall_segments\n",
      "wall_segments: completed\n",
      "\th5_read: error reading:  /walls_eirene_external/nExtWalls\n",
      "\th5_read: error reading:  surfaces/nSurfaces\n",
      "load_eirene_triangles: Completed\n",
      "get_wall_triangle\n",
      "get_wall_triangles\n",
      "get_wall_triangles.2: Completed\n",
      "get_wall_triangle: Completed\n"
     ]
    },
    {
     "name": "stderr",
     "output_type": "stream",
     "text": [
      "c:\\Users\\mikek\\OneDrive\\Project\\python-packages\\soledge\\routines\\h5_routines.py:65: FutureWarning: In the future `np.str` will be defined as the corresponding NumPy scalar.\n",
      "  Data = Data.astype(np.str)\n"
     ]
    }
   ],
   "source": [
    "from files.load_eirene_triangles\t\t\t\timport load_eirene_triangles\n",
    "from eirene.get_wall_triangle\t\t\t\t\timport get_wall_triangle\n",
    "\n",
    "path = r\"C:\\Users\\mikek\\OneDrive\\Project\\collab\\tech\\compare_data\\soledge_cases\\ST40_wallMike_bra_nocore_D_2e19\"\n",
    "Eirene = load_eirene_triangles(os.path.join(path,\"triangles.h5\"))\n",
    "\n",
    "ZeroTriangle, ZeroSide, Ri, Zi, RWallTriangles, ZWallTriangles, iWallTriangles, iWallSide, iWallKnots  = \\\n",
    "\t\t\t\tget_wall_triangle(Eirene, rz0_line=[0,0], theta_line=0, no_plot=1, no_print=1, no_triangles=0)\n",
    "\n",
    "RWallTriangles = np.append(RWallTriangles, RWallTriangles[0])\n",
    "ZWallTriangles = np.append(ZWallTriangles, ZWallTriangles[0])\n",
    "iWallKnots\t   = np.append(iWallKnots, iWallKnots[0])\n",
    "\n",
    "WalldL  \t   = np.sqrt((RWallTriangles[1:]-RWallTriangles[:-1])**2 + (ZWallTriangles[1:]-ZWallTriangles[:-1])**2)\n",
    "DistKnots\t   = np.cumsum(np.append(0., WalldL))\n",
    "DistTriangles  = 0.5*(DistKnots[:-1]+DistKnots[1:])"
   ]
  },
  {
   "cell_type": "code",
   "execution_count": 113,
   "metadata": {},
   "outputs": [
    {
     "data": {
      "text/plain": [
       "254"
      ]
     },
     "execution_count": 113,
     "metadata": {},
     "output_type": "execute_result"
    }
   ],
   "source": [
    "len(iWallKnots)"
   ]
  },
  {
   "cell_type": "code",
   "execution_count": 109,
   "metadata": {},
   "outputs": [],
   "source": [
    "RefPar = self.RefPar\n",
    "ions = self.ions\n",
    "Eirene = self.Eirene\n",
    "\n",
    "evolution = 0\n",
    "\n",
    "if(evolution == 0):\n",
    "    base_plasma_name = path+\"/Results/\"\n",
    "else:\n",
    "    base_plasma_name = path+\"/Evolution/{:d}_\".format(evolution)\n",
    "\n",
    "if_plasma\t= h5py.File(base_plasma_name+\"plasma_0\", \"r\")\n",
    "Te\t\t\t= h5_read(if_plasma,\"triangles/temperature\")*RefPar.T0eV\n",
    "if_plasma.close()\n",
    "\n",
    "if_plasma\t= h5py.File(base_plasma_name+\"plasma_1\", \"r\")\n",
    "Ti\t\t\t= h5_read(if_plasma,\"triangles/temperature\")*RefPar.T0eV\n",
    "if_plasma.close()\n",
    "\n",
    "Te \t= Te[iWallKnots]\n",
    "Ti \t= Ti[iWallKnots]"
   ]
  },
  {
   "cell_type": "code",
   "execution_count": 110,
   "metadata": {},
   "outputs": [
    {
     "name": "stdout",
     "output_type": "stream",
     "text": [
      "253\n"
     ]
    }
   ],
   "source": [
    "for iPlasma in range(len(ions)):\n",
    "    try:\n",
    "        if_plasma\t= h5py.File(base_plasma_name+\"plasma_\"+str(iPlasma), \"r\")\n",
    "    except:\n",
    "        break\n",
    "\n",
    "    temperature\t= h5_read(if_plasma,\"triangles/temperature\")*RefPar.T0eV\n",
    "    density\t\t= h5_read(if_plasma,\"triangles/density\")*RefPar.n0\n",
    "    velocity\t= h5_read(if_plasma,\"triangles/velocity\")*RefPar.c0\n",
    "\n",
    "    temperature = temperature[iWallKnots]\n",
    "    density \t= density[iWallKnots]\n",
    "    velocity \t= velocity[iWallKnots]\n",
    "\n",
    "    Jsat\t\t= np.abs(1.6022e-19*velocity*density)*1e-3\t\t\t\t\t\t\t\t\t\t\t#eletronic charge\n",
    "    M\t\t\t= velocity/np.sqrt((Te+Ti)/2)*(np.sqrt(RefPar.T0eV)/RefPar.c0)\t\n",
    "    \n",
    "    \n",
    "    if(iPlasma > 0):\n",
    "        try:\n",
    "            Sn_tri\t= h5_read(if_plasma,\"triangles/Sn\")*RefPar.n0/RefPar.tau0\n",
    "            if(Sn_tri.max() - Sn_tri.min() > 0.):\n",
    "                Sn_tri = set_min_positive(Sn_tri)\n",
    "                Sn\t   = Sn_tri[iWallTriangles]\n",
    "                Sn\t   = 0.5*np.append(np.append(Sn[0]+Sn[-1], Sn[:-1]+Sn[1:]), Sn[0]+Sn[-1])\n",
    "#\t\t\t\t\tprint(\"Sn.min(), Sn.max()\",Sn.min(), Sn.max())\n",
    "            else: Sn = 0.\n",
    "            Sn_tri = 0\n",
    "#\t\t\t\tSn\t= -h5_read(if_plasma,\"triangles/Sn\")*RefPar.n0/RefPar.tau0\t\t\t\t\t\t\t\t\t#recombination\n",
    "        except:\n",
    "            print(\"plot1d_wall_ntmpi: Sn is not available\")\n",
    "            Sn  = 0.\n",
    "\n",
    "        try:\n",
    "            Nn = eirene_neutrals[\"atomic_species\"][\"dens_1\"][:]\n",
    "            Tn = eirene_neutrals[\"atomic_species\"][\"T_1\"][:]\n",
    "            Nm = eirene_neutrals[\"molecular_species\"][\"dens_1\"][:]\n",
    "            Tm = eirene_neutrals[\"molecular_species\"][\"T_1\"][:]\n",
    "            \n",
    "            Nn = Nn[iWallTriangles]\n",
    "            Nm = Nm[iWallTriangles]\n",
    "            Tn = Tn[iWallTriangles]\n",
    "            Tm = Tm[iWallTriangles]\n",
    "            \n",
    "            print(len(Nn))\n",
    "\n",
    "            Tn = set_min_positive(Tn)\n",
    "            Tm = set_min_positive(Tm)\n",
    "            Nn\t= 0.5*np.append(np.append(Nn[0]+Nn[-1], Nn[:-1]+Nn[1:]), Nn[0]+Nn[-1])*RefPar.n0\n",
    "            Nm\t= 0.5*np.append(np.append(Nm[0]+Nm[-1], Nm[:-1]+Nm[1:]), Nm[0]+Nm[-1])*RefPar.n0\n",
    "            Tn\t= 0.5*np.append(np.append(Tn[0]+Tn[-1], Tn[:-1]+Tn[1:]), Tn[0]+Tn[-1])\n",
    "            Tm\t= 0.5*np.append(np.append(Tm[0]+Tm[-1], Tm[:-1]+Tm[1:]), Tm[0]+Tm[-1])\n",
    "\n",
    "            Pn\t= (Nn*Tn+Nm*Tm)*1.6e-19\n",
    "            if(Pn.max() - Pn.min() < 0.): Pn = 0.\n",
    "        except:\n",
    "            raise Exception(\"Cannot read neutral data\")\n",
    "    else:\n",
    "        Sn\t= 0.; Pn\t= 0.\n",
    "        \n",
    "        "
   ]
  },
  {
   "cell_type": "code",
   "execution_count": 50,
   "metadata": {},
   "outputs": [
    {
     "data": {
      "text/plain": [
       "<matplotlib.legend.Legend at 0x29170666410>"
      ]
     },
     "execution_count": 50,
     "metadata": {},
     "output_type": "execute_result"
    },
    {
     "data": {
      "image/png": "[encoded data removed]",
      "text/plain": [
       "<Figure size 640x480 with 1 Axes>"
      ]
     },
     "metadata": {},
     "output_type": "display_data"
    }
   ],
   "source": [
    "plt.plot(Nn, label = \"atom\")\n",
    "plt.plot(Nm, label = \"mol\")\n",
    "plt.legend()"
   ]
  },
  {
   "cell_type": "code",
   "execution_count": 86,
   "metadata": {},
   "outputs": [
    {
     "name": "stdout",
     "output_type": "stream",
     "text": [
      "get_wall_triangle\n",
      "get_wall_triangles\n",
      "get_wall_triangles.2: Completed\n",
      "get_wall_triangle: Completed\n",
      "\n",
      "### TOTAL WALL INTEGRALS------------\n",
      "\n",
      "### Heat flows:\n",
      "E_incident_Electron: ---- 0.55 [MW]\n",
      "E_incident_Ions: ---- 0.96 [MW]\n",
      "E_Total: ---- 1.64 [MW]\n",
      "E_incident_Atoms: ---- 0.39 [MW]\n",
      "E_Radiation_Atoms: ---- 0.07 [MW]\n",
      "E_Rad_Recombination: ---- -0.45 [MW]\n",
      "E_Recombination_in_Wall: ---- 0.11 [MW]\n",
      "E_incident_Molecules: ---- 0.00 [MW]\n",
      "E_incident_Ions_EIRENE: ---- 1.26 [MW]\n",
      "E_Radiation: ---- 0.07 [MW]\n",
      "\n",
      "### Particle flows:\n",
      "F_Ion_Incident: ---- 4.886e+22 [s-1]\n",
      "F_Atom_Emitted_from_Ion: ---- 2.919e+22 [s-1]\n",
      "F_Atom_Incident: ---- 5.015e+22 [s-1]\n",
      "F_Mol_Incident: ---- 2.124e+21 [s-1]\n",
      "F_Mol_Emitted_from_Ion: ---- 9.834e+21 [s-1]\n",
      "F_Atom_Emitted_from_Atom: ---- 3.821e+22 [s-1]\n",
      "F_Mol_Emitted_from_Atom: ---- 5.380e+21 [s-1]\n"
     ]
    },
    {
     "data": {
      "text/html": [
       "<div>\n",
       "<style scoped>\n",
       "    .dataframe tbody tr th:only-of-type {\n",
       "        vertical-align: middle;\n",
       "    }\n",
       "\n",
       "    .dataframe tbody tr th {\n",
       "        vertical-align: top;\n",
       "    }\n",
       "\n",
       "    .dataframe thead th {\n",
       "        text-align: right;\n",
       "    }\n",
       "</style>\n",
       "<table border=\"1\" class=\"dataframe\">\n",
       "  <thead>\n",
       "    <tr style=\"text-align: right;\">\n",
       "      <th></th>\n",
       "      <th>iTri</th>\n",
       "      <th>iSide</th>\n",
       "      <th>iProp</th>\n",
       "      <th>dlSurf</th>\n",
       "      <th>dlWall</th>\n",
       "      <th>Area</th>\n",
       "      <th>R</th>\n",
       "      <th>Z</th>\n",
       "      <th>F_Ion_Incident</th>\n",
       "      <th>F_Atom_Emitted_from_Ion</th>\n",
       "      <th>...</th>\n",
       "      <th>E_incident_Electron</th>\n",
       "      <th>E_incident_Ions</th>\n",
       "      <th>E_Total</th>\n",
       "      <th>E_incident_Atoms</th>\n",
       "      <th>E_Radiation_Atoms</th>\n",
       "      <th>E_Rad_Recombination</th>\n",
       "      <th>E_Recombination_in_Wall</th>\n",
       "      <th>E_incident_Molecules</th>\n",
       "      <th>E_incident_Ions_EIRENE</th>\n",
       "      <th>E_Radiation</th>\n",
       "    </tr>\n",
       "  </thead>\n",
       "  <tbody>\n",
       "    <tr>\n",
       "      <th>0</th>\n",
       "      <td>5662.0</td>\n",
       "      <td>3.0</td>\n",
       "      <td>4.0</td>\n",
       "      <td>4.026479</td>\n",
       "      <td>4.026479</td>\n",
       "      <td>0.051736</td>\n",
       "      <td>0.167577</td>\n",
       "      <td>0.021120</td>\n",
       "      <td>0.0</td>\n",
       "      <td>0.0</td>\n",
       "      <td>...</td>\n",
       "      <td>0.0</td>\n",
       "      <td>0.0</td>\n",
       "      <td>10510.185</td>\n",
       "      <td>4398.1187</td>\n",
       "      <td>6108.5131</td>\n",
       "      <td>0.0</td>\n",
       "      <td>3.552800</td>\n",
       "      <td>0.0</td>\n",
       "      <td>0.0</td>\n",
       "      <td>6108.5131</td>\n",
       "    </tr>\n",
       "    <tr>\n",
       "      <th>1</th>\n",
       "      <td>5646.0</td>\n",
       "      <td>3.0</td>\n",
       "      <td>4.0</td>\n",
       "      <td>0.049309</td>\n",
       "      <td>0.049309</td>\n",
       "      <td>0.051941</td>\n",
       "      <td>0.167650</td>\n",
       "      <td>-0.028094</td>\n",
       "      <td>0.0</td>\n",
       "      <td>0.0</td>\n",
       "      <td>...</td>\n",
       "      <td>0.0</td>\n",
       "      <td>0.0</td>\n",
       "      <td>10508.672</td>\n",
       "      <td>4412.5367</td>\n",
       "      <td>6092.1176</td>\n",
       "      <td>0.0</td>\n",
       "      <td>4.017619</td>\n",
       "      <td>0.0</td>\n",
       "      <td>0.0</td>\n",
       "      <td>6092.1176</td>\n",
       "    </tr>\n",
       "    <tr>\n",
       "      <th>2</th>\n",
       "      <td>5645.0</td>\n",
       "      <td>3.0</td>\n",
       "      <td>4.0</td>\n",
       "      <td>0.098600</td>\n",
       "      <td>0.098600</td>\n",
       "      <td>0.052281</td>\n",
       "      <td>0.168808</td>\n",
       "      <td>-0.077380</td>\n",
       "      <td>0.0</td>\n",
       "      <td>0.0</td>\n",
       "      <td>...</td>\n",
       "      <td>0.0</td>\n",
       "      <td>0.0</td>\n",
       "      <td>11090.007</td>\n",
       "      <td>4960.1782</td>\n",
       "      <td>6125.7124</td>\n",
       "      <td>0.0</td>\n",
       "      <td>4.116365</td>\n",
       "      <td>0.0</td>\n",
       "      <td>0.0</td>\n",
       "      <td>6125.7124</td>\n",
       "    </tr>\n",
       "    <tr>\n",
       "      <th>3</th>\n",
       "      <td>5644.0</td>\n",
       "      <td>3.0</td>\n",
       "      <td>4.0</td>\n",
       "      <td>0.147625</td>\n",
       "      <td>0.147625</td>\n",
       "      <td>0.052683</td>\n",
       "      <td>0.171030</td>\n",
       "      <td>-0.126479</td>\n",
       "      <td>0.0</td>\n",
       "      <td>0.0</td>\n",
       "      <td>...</td>\n",
       "      <td>0.0</td>\n",
       "      <td>0.0</td>\n",
       "      <td>13767.581</td>\n",
       "      <td>7603.7263</td>\n",
       "      <td>6159.0823</td>\n",
       "      <td>0.0</td>\n",
       "      <td>4.772237</td>\n",
       "      <td>0.0</td>\n",
       "      <td>0.0</td>\n",
       "      <td>6159.0823</td>\n",
       "    </tr>\n",
       "    <tr>\n",
       "      <th>4</th>\n",
       "      <td>5643.0</td>\n",
       "      <td>3.0</td>\n",
       "      <td>4.0</td>\n",
       "      <td>0.196079</td>\n",
       "      <td>0.196079</td>\n",
       "      <td>0.053090</td>\n",
       "      <td>0.174384</td>\n",
       "      <td>-0.175103</td>\n",
       "      <td>0.0</td>\n",
       "      <td>0.0</td>\n",
       "      <td>...</td>\n",
       "      <td>0.0</td>\n",
       "      <td>0.0</td>\n",
       "      <td>13952.106</td>\n",
       "      <td>7667.2766</td>\n",
       "      <td>6279.3029</td>\n",
       "      <td>0.0</td>\n",
       "      <td>5.525980</td>\n",
       "      <td>0.0</td>\n",
       "      <td>0.0</td>\n",
       "      <td>6279.3029</td>\n",
       "    </tr>\n",
       "    <tr>\n",
       "      <th>...</th>\n",
       "      <td>...</td>\n",
       "      <td>...</td>\n",
       "      <td>...</td>\n",
       "      <td>...</td>\n",
       "      <td>...</td>\n",
       "      <td>...</td>\n",
       "      <td>...</td>\n",
       "      <td>...</td>\n",
       "      <td>...</td>\n",
       "      <td>...</td>\n",
       "      <td>...</td>\n",
       "      <td>...</td>\n",
       "      <td>...</td>\n",
       "      <td>...</td>\n",
       "      <td>...</td>\n",
       "      <td>...</td>\n",
       "      <td>...</td>\n",
       "      <td>...</td>\n",
       "      <td>...</td>\n",
       "      <td>...</td>\n",
       "      <td>...</td>\n",
       "    </tr>\n",
       "    <tr>\n",
       "      <th>248</th>\n",
       "      <td>5667.0</td>\n",
       "      <td>3.0</td>\n",
       "      <td>4.0</td>\n",
       "      <td>3.787921</td>\n",
       "      <td>3.787921</td>\n",
       "      <td>0.049686</td>\n",
       "      <td>0.182364</td>\n",
       "      <td>0.256188</td>\n",
       "      <td>0.0</td>\n",
       "      <td>0.0</td>\n",
       "      <td>...</td>\n",
       "      <td>0.0</td>\n",
       "      <td>0.0</td>\n",
       "      <td>19677.897</td>\n",
       "      <td>12954.6090</td>\n",
       "      <td>6713.7553</td>\n",
       "      <td>0.0</td>\n",
       "      <td>9.532745</td>\n",
       "      <td>0.0</td>\n",
       "      <td>0.0</td>\n",
       "      <td>6713.7553</td>\n",
       "    </tr>\n",
       "    <tr>\n",
       "      <th>249</th>\n",
       "      <td>5666.0</td>\n",
       "      <td>3.0</td>\n",
       "      <td>4.0</td>\n",
       "      <td>3.833066</td>\n",
       "      <td>3.833066</td>\n",
       "      <td>0.050372</td>\n",
       "      <td>0.177582</td>\n",
       "      <td>0.212193</td>\n",
       "      <td>0.0</td>\n",
       "      <td>0.0</td>\n",
       "      <td>...</td>\n",
       "      <td>0.0</td>\n",
       "      <td>0.0</td>\n",
       "      <td>15559.998</td>\n",
       "      <td>9085.4483</td>\n",
       "      <td>6467.2142</td>\n",
       "      <td>0.0</td>\n",
       "      <td>7.335286</td>\n",
       "      <td>0.0</td>\n",
       "      <td>0.0</td>\n",
       "      <td>6467.2142</td>\n",
       "    </tr>\n",
       "    <tr>\n",
       "      <th>250</th>\n",
       "      <td>5665.0</td>\n",
       "      <td>3.0</td>\n",
       "      <td>4.0</td>\n",
       "      <td>3.880363</td>\n",
       "      <td>3.880363</td>\n",
       "      <td>0.051589</td>\n",
       "      <td>0.173600</td>\n",
       "      <td>0.166155</td>\n",
       "      <td>0.0</td>\n",
       "      <td>0.0</td>\n",
       "      <td>...</td>\n",
       "      <td>0.0</td>\n",
       "      <td>0.0</td>\n",
       "      <td>14933.240</td>\n",
       "      <td>8554.4800</td>\n",
       "      <td>6371.9365</td>\n",
       "      <td>0.0</td>\n",
       "      <td>6.823779</td>\n",
       "      <td>0.0</td>\n",
       "      <td>0.0</td>\n",
       "      <td>6371.9365</td>\n",
       "    </tr>\n",
       "    <tr>\n",
       "      <th>251</th>\n",
       "      <td>5664.0</td>\n",
       "      <td>3.0</td>\n",
       "      <td>4.0</td>\n",
       "      <td>3.928568</td>\n",
       "      <td>3.928568</td>\n",
       "      <td>0.051648</td>\n",
       "      <td>0.170522</td>\n",
       "      <td>0.118503</td>\n",
       "      <td>0.0</td>\n",
       "      <td>0.0</td>\n",
       "      <td>...</td>\n",
       "      <td>0.0</td>\n",
       "      <td>0.0</td>\n",
       "      <td>12986.077</td>\n",
       "      <td>6758.4125</td>\n",
       "      <td>6222.5217</td>\n",
       "      <td>0.0</td>\n",
       "      <td>5.143212</td>\n",
       "      <td>0.0</td>\n",
       "      <td>0.0</td>\n",
       "      <td>6222.5217</td>\n",
       "    </tr>\n",
       "    <tr>\n",
       "      <th>252</th>\n",
       "      <td>5663.0</td>\n",
       "      <td>3.0</td>\n",
       "      <td>4.0</td>\n",
       "      <td>3.977343</td>\n",
       "      <td>3.977343</td>\n",
       "      <td>0.051638</td>\n",
       "      <td>0.168498</td>\n",
       "      <td>0.070067</td>\n",
       "      <td>0.0</td>\n",
       "      <td>0.0</td>\n",
       "      <td>...</td>\n",
       "      <td>0.0</td>\n",
       "      <td>0.0</td>\n",
       "      <td>12074.735</td>\n",
       "      <td>5902.6477</td>\n",
       "      <td>6168.0757</td>\n",
       "      <td>0.0</td>\n",
       "      <td>4.011276</td>\n",
       "      <td>0.0</td>\n",
       "      <td>0.0</td>\n",
       "      <td>6168.0757</td>\n",
       "    </tr>\n",
       "  </tbody>\n",
       "</table>\n",
       "<p>253 rows × 25 columns</p>\n",
       "</div>"
      ],
      "text/plain": [
       "       iTri  iSide  iProp    dlSurf    dlWall      Area         R         Z  \\\n",
       "0    5662.0    3.0    4.0  4.026479  4.026479  0.051736  0.167577  0.021120   \n",
       "1    5646.0    3.0    4.0  0.049309  0.049309  0.051941  0.167650 -0.028094   \n",
       "2    5645.0    3.0    4.0  0.098600  0.098600  0.052281  0.168808 -0.077380   \n",
       "3    5644.0    3.0    4.0  0.147625  0.147625  0.052683  0.171030 -0.126479   \n",
       "4    5643.0    3.0    4.0  0.196079  0.196079  0.053090  0.174384 -0.175103   \n",
       "..      ...    ...    ...       ...       ...       ...       ...       ...   \n",
       "248  5667.0    3.0    4.0  3.787921  3.787921  0.049686  0.182364  0.256188   \n",
       "249  5666.0    3.0    4.0  3.833066  3.833066  0.050372  0.177582  0.212193   \n",
       "250  5665.0    3.0    4.0  3.880363  3.880363  0.051589  0.173600  0.166155   \n",
       "251  5664.0    3.0    4.0  3.928568  3.928568  0.051648  0.170522  0.118503   \n",
       "252  5663.0    3.0    4.0  3.977343  3.977343  0.051638  0.168498  0.070067   \n",
       "\n",
       "     F_Ion_Incident  F_Atom_Emitted_from_Ion  ...  E_incident_Electron  \\\n",
       "0               0.0                      0.0  ...                  0.0   \n",
       "1               0.0                      0.0  ...                  0.0   \n",
       "2               0.0                      0.0  ...                  0.0   \n",
       "3               0.0                      0.0  ...                  0.0   \n",
       "4               0.0                      0.0  ...                  0.0   \n",
       "..              ...                      ...  ...                  ...   \n",
       "248             0.0                      0.0  ...                  0.0   \n",
       "249             0.0                      0.0  ...                  0.0   \n",
       "250             0.0                      0.0  ...                  0.0   \n",
       "251             0.0                      0.0  ...                  0.0   \n",
       "252             0.0                      0.0  ...                  0.0   \n",
       "\n",
       "     E_incident_Ions    E_Total  E_incident_Atoms  E_Radiation_Atoms  \\\n",
       "0                0.0  10510.185         4398.1187          6108.5131   \n",
       "1                0.0  10508.672         4412.5367          6092.1176   \n",
       "2                0.0  11090.007         4960.1782          6125.7124   \n",
       "3                0.0  13767.581         7603.7263          6159.0823   \n",
       "4                0.0  13952.106         7667.2766          6279.3029   \n",
       "..               ...        ...               ...                ...   \n",
       "248              0.0  19677.897        12954.6090          6713.7553   \n",
       "249              0.0  15559.998         9085.4483          6467.2142   \n",
       "250              0.0  14933.240         8554.4800          6371.9365   \n",
       "251              0.0  12986.077         6758.4125          6222.5217   \n",
       "252              0.0  12074.735         5902.6477          6168.0757   \n",
       "\n",
       "     E_Rad_Recombination  E_Recombination_in_Wall  E_incident_Molecules  \\\n",
       "0                    0.0                 3.552800                   0.0   \n",
       "1                    0.0                 4.017619                   0.0   \n",
       "2                    0.0                 4.116365                   0.0   \n",
       "3                    0.0                 4.772237                   0.0   \n",
       "4                    0.0                 5.525980                   0.0   \n",
       "..                   ...                      ...                   ...   \n",
       "248                  0.0                 9.532745                   0.0   \n",
       "249                  0.0                 7.335286                   0.0   \n",
       "250                  0.0                 6.823779                   0.0   \n",
       "251                  0.0                 5.143212                   0.0   \n",
       "252                  0.0                 4.011276                   0.0   \n",
       "\n",
       "     E_incident_Ions_EIRENE  E_Radiation  \n",
       "0                       0.0    6108.5131  \n",
       "1                       0.0    6092.1176  \n",
       "2                       0.0    6125.7124  \n",
       "3                       0.0    6159.0823  \n",
       "4                       0.0    6279.3029  \n",
       "..                      ...          ...  \n",
       "248                     0.0    6713.7553  \n",
       "249                     0.0    6467.2142  \n",
       "250                     0.0    6371.9365  \n",
       "251                     0.0    6222.5217  \n",
       "252                     0.0    6168.0757  \n",
       "\n",
       "[253 rows x 25 columns]"
      ]
     },
     "execution_count": 86,
     "metadata": {},
     "output_type": "execute_result"
    }
   ],
   "source": [
    "df = self.get_wall_fluxes()\n",
    "df"
   ]
  },
  {
   "cell_type": "code",
   "execution_count": 15,
   "metadata": {},
   "outputs": [
    {
     "data": {
      "image/png": "[encoded data removed]",
      "text/plain": [
       "<Figure size 640x480 with 1 Axes>"
      ]
     },
     "metadata": {},
     "output_type": "display_data"
    }
   ],
   "source": [
    "fig, ax = plt.subplots()\n",
    "plt.triplot(RKnots, ZKnots, WallTriKnots, 'b-')\n",
    "ax.set_aspect(\"equal\")"
   ]
  },
  {
   "cell_type": "code",
   "execution_count": 37,
   "metadata": {},
   "outputs": [
    {
     "data": {
      "text/plain": [
       "(253,)"
      ]
     },
     "execution_count": 37,
     "metadata": {},
     "output_type": "execute_result"
    }
   ],
   "source": [
    "iWallTriangles.shape"
   ]
  },
  {
   "cell_type": "code",
   "execution_count": 18,
   "metadata": {},
   "outputs": [
    {
     "name": "stdout",
     "output_type": "stream",
     "text": [
      "<KeysViewHDF5 ['T_1', 'Vx_1', 'Vy_1', 'Vz_1', 'dens_1', 'strata_1', 'strata_2', 'strata_3', 'strata_4', 'strata_5', 'strata_6', 'strata_7', 'strata_8', 'symbol_1']>\n"
     ]
    }
   ],
   "source": [
    "eirene_neutrals = h5py.File(os.path.join(path, \"Results\", \"eirene_neutrals\"), 'r')\n",
    "plasma1 = h5py.File(os.path.join(path, \"Results\", \"plasma_1\"), 'r')\n",
    "\n",
    "Ne = plasma1[\"triangles\"][\"density\"][:]\n",
    "Ti = plasma1[\"triangles\"][\"temperature\"][:]\n",
    "Nn = eirene_neutrals[\"atomic_species\"][\"dens_1\"][:]\n",
    "Tn = eirene_neutrals[\"atomic_species\"][\"T_1\"][:]\n",
    "\n",
    "print(eirene_neutrals[\"atomic_species\"].keys())\n",
    "# eirene_neutrals.close()\n",
    "# plasma1.close()\n",
    "\n",
    "# Ne = Ne[iWallKnots]\n",
    "# Nn = Nn[iWallKnots]\n",
    "# Tn = Tn[iWallKnots]\n",
    "# Ti = Ti[iWallKnots]"
   ]
  },
  {
   "cell_type": "code",
   "execution_count": 25,
   "metadata": {},
   "outputs": [
    {
     "data": {
      "text/plain": [
       "dict_keys(['Eirene_OK', 'Triangles', 'WallTriangles', 'KnotsInterp', 'RKnots', 'ZKnots', 'Wall', 'ToTheCenter', 'Surfaces'])"
      ]
     },
     "execution_count": 25,
     "metadata": {},
     "output_type": "execute_result"
    }
   ],
   "source": [
    "self.Eirene.__dict__.keys()"
   ]
  },
  {
   "cell_type": "code",
   "execution_count": 22,
   "metadata": {},
   "outputs": [
    {
     "data": {
      "text/plain": [
       "<matplotlib.legend.Legend at 0x29176372b60>"
      ]
     },
     "execution_count": 22,
     "metadata": {},
     "output_type": "execute_result"
    },
    {
     "data": {
      "image/png": "[encoded data removed]",
      "text/plain": [
       "<Figure size 640x480 with 1 Axes>"
      ]
     },
     "metadata": {},
     "output_type": "display_data"
    }
   ],
   "source": [
    "plt.plot(Ne[iWallKnots], label = \"Ne, normalised to 0-1\")\n",
    "plt.plot(Nn[iWallTriangles], label = \"Nn, normalised to 0-1\")\n",
    "plt.legend()"
   ]
  },
  {
   "cell_type": "code",
   "execution_count": 63,
   "metadata": {},
   "outputs": [
    {
     "data": {
      "text/plain": [
       "<matplotlib.legend.Legend at 0x23ade0ddb40>"
      ]
     },
     "execution_count": 63,
     "metadata": {},
     "output_type": "execute_result"
    },
    {
     "data": {
      "image/png": "[encoded data removed]",
      "text/plain": [
       "<Figure size 640x480 with 1 Axes>"
      ]
     },
     "metadata": {},
     "output_type": "display_data"
    }
   ],
   "source": [
    "plt.plot(Ne/np.max(Ti), label = \"Ti, normalised to 0-1\")\n",
    "plt.plot(Tn/np.max(Tn), label = \"Tn, normalised to 0-1\")\n",
    "plt.legend()"
   ]
  },
  {
   "cell_type": "code",
   "execution_count": 17,
   "metadata": {},
   "outputs": [
    {
     "ename": "TypeError",
     "evalue": "Indexing elements must be in increasing order",
     "output_type": "error",
     "traceback": [
      "\u001b[1;31m---------------------------------------------------------------------------\u001b[0m",
      "\u001b[1;31mTypeError\u001b[0m                                 Traceback (most recent call last)",
      "Cell \u001b[1;32mIn[17], line 2\u001b[0m\n\u001b[0;32m      1\u001b[0m T \u001b[39m=\u001b[39m f[\u001b[39m\"\u001b[39m\u001b[39matomic_species\u001b[39m\u001b[39m\"\u001b[39m][\u001b[39m\"\u001b[39m\u001b[39mT_1\u001b[39m\u001b[39m\"\u001b[39m]\n\u001b[1;32m----> 2\u001b[0m T[iWallKnots]\n",
      "File \u001b[1;32mh5py\\_objects.pyx:54\u001b[0m, in \u001b[0;36mh5py._objects.with_phil.wrapper\u001b[1;34m()\u001b[0m\n",
      "File \u001b[1;32mh5py\\_objects.pyx:55\u001b[0m, in \u001b[0;36mh5py._objects.with_phil.wrapper\u001b[1;34m()\u001b[0m\n",
      "File \u001b[1;32mc:\\Users\\mikek\\OneDrive\\Project\\pyenvs\\fusion-a-310\\lib\\site-packages\\h5py\\_hl\\dataset.py:831\u001b[0m, in \u001b[0;36mDataset.__getitem__\u001b[1;34m(self, args, new_dtype)\u001b[0m\n\u001b[0;32m    826\u001b[0m     \u001b[39mreturn\u001b[39;00m arr\n\u001b[0;32m    828\u001b[0m \u001b[39m# === Everything else ===================\u001b[39;00m\n\u001b[0;32m    829\u001b[0m \n\u001b[0;32m    830\u001b[0m \u001b[39m# Perform the dataspace selection.\u001b[39;00m\n\u001b[1;32m--> 831\u001b[0m selection \u001b[39m=\u001b[39m sel\u001b[39m.\u001b[39;49mselect(\u001b[39mself\u001b[39;49m\u001b[39m.\u001b[39;49mshape, args, dataset\u001b[39m=\u001b[39;49m\u001b[39mself\u001b[39;49m)\n\u001b[0;32m    833\u001b[0m \u001b[39mif\u001b[39;00m selection\u001b[39m.\u001b[39mnselect \u001b[39m==\u001b[39m \u001b[39m0\u001b[39m:\n\u001b[0;32m    834\u001b[0m     \u001b[39mreturn\u001b[39;00m numpy\u001b[39m.\u001b[39mzeros(selection\u001b[39m.\u001b[39marray_shape, dtype\u001b[39m=\u001b[39mnew_dtype)\n",
      "File \u001b[1;32mc:\\Users\\mikek\\OneDrive\\Project\\pyenvs\\fusion-a-310\\lib\\site-packages\\h5py\\_hl\\selections.py:82\u001b[0m, in \u001b[0;36mselect\u001b[1;34m(shape, args, dataset)\u001b[0m\n\u001b[0;32m     79\u001b[0m     space \u001b[39m=\u001b[39m h5s\u001b[39m.\u001b[39mcreate_simple(shape)\n\u001b[0;32m     80\u001b[0m     selector \u001b[39m=\u001b[39m _selector\u001b[39m.\u001b[39mSelector(space)\n\u001b[1;32m---> 82\u001b[0m \u001b[39mreturn\u001b[39;00m selector\u001b[39m.\u001b[39;49mmake_selection(args)\n",
      "File \u001b[1;32mh5py\\_selector.pyx:282\u001b[0m, in \u001b[0;36mh5py._selector.Selector.make_selection\u001b[1;34m()\u001b[0m\n",
      "File \u001b[1;32mh5py\\_selector.pyx:215\u001b[0m, in \u001b[0;36mh5py._selector.Selector.apply_args\u001b[1;34m()\u001b[0m\n",
      "\u001b[1;31mTypeError\u001b[0m: Indexing elements must be in increasing order"
     ]
    }
   ],
   "source": [
    "T = f[\"atomic_species\"][\"T_1\"]\n",
    "T[iWallKnots]"
   ]
  },
  {
   "cell_type": "code",
   "execution_count": 16,
   "metadata": {},
   "outputs": [],
   "source": [
    "try:\n",
    "    AFluxF\t = np.loadtxt(os.path.join(self.path, \"soledge2D.atoms_fluxes_wall_1\"), dtype='f8')\n",
    "#            \t\t[0:iTri, 1:iSide, 2:iProp, 3:dlWall, \n",
    "#\t\t\t\t\t 4:Flux_Atom_Incident, \t\t\t5:Flux_Mol_Incident,\n",
    "#\t\t\t\t\t 6:Flux_Atom_Emitted_from_Ion, \t7:Flux_Mol_Emitted_from_Ion,\n",
    "#\t\t\t\t\t 8:Flux_Atom_Emitted_from_Atom, 9:Flux_Mol_Emitted_from_Atom]\n",
    "except:\n",
    "    print(\"\\tError: Not found \"+ self.path+\"soledge2D.atoms_fluxes_wall_1\")\n",
    "    exit()"
   ]
  },
  {
   "cell_type": "code",
   "execution_count": 12,
   "metadata": {},
   "outputs": [],
   "source": [
    "from eirene.get_wall_triangle\t\t\t\t\timport get_wall_triangle"
   ]
  },
  {
   "cell_type": "code",
   "execution_count": 19,
   "metadata": {},
   "outputs": [
    {
     "name": "stdout",
     "output_type": "stream",
     "text": [
      "get_wall_triangle\n",
      "get_wall_triangles\n",
      "get_wall_triangles.2: Completed\n",
      "get_wall_triangle: Completed\n"
     ]
    }
   ],
   "source": [
    "ZeroTriangle, ZeroSide, Ri, Zi = get_wall_triangle(self.Eirene, rz0_line=[0,0], theta_line=0, no_plot=1, no_print=1)\n",
    "\n",
    "R = self.R\n",
    "Z = self.Z\n",
    "TriKnots = self.TriKnots\n",
    "\n",
    "iTri\t= AFluxF[:,0]-1 \t\t\t\t\t\t\t\t\t\t#Matlab/Fortan to python indexes\n",
    "iSide\t= AFluxF[:,1]-1 \t\t\t\t\t\t\t\t\t\t#Matlab/Fortan to python indexes\n",
    "WallL\t= AFluxF[:,3]\n",
    "\n",
    "\n",
    "Vertex\t= np.array([[0,1],[1,2],[2,0]], dtype='i4')\n",
    "iTri\t= iTri.astype(int)\n",
    "iSide\t= iSide.astype(int)\n",
    "\n",
    "iZero = np.where(iTri == ZeroTriangle); iZero = iZero[0]\n",
    "if(len(iZero) != 1):\n",
    "    print(\"\\tError: not found wall triangle intersection with line\")\n",
    "    exit()\n",
    "\n",
    "iZero  = iZero[0]\n",
    "zOrder = np.arange(len(iTri))\n",
    "zOrder = np.append(zOrder[iZero:], zOrder[:iZero]) \n",
    "iTri   = iTri[zOrder]\n",
    "\n",
    "iSide  = iSide[zOrder]\n",
    "WallL[iZero:]  = WallL[iZero:] - WallL[iZero]\n",
    "WallL[:iZero]  = WallL[:iZero] - WallL[0] + WallL[-1]\n",
    "WallL\t\t   = WallL[zOrder]\n",
    "\n",
    "WallR\t= 0.5*(R[TriKnots[iTri,Vertex[iSide,0]]]+R[TriKnots[iTri,Vertex[iSide,1]]])\n",
    "WallZ\t= 0.5*(Z[TriKnots[iTri,Vertex[iSide,0]]]+Z[TriKnots[iTri,Vertex[iSide,1]]])\n",
    "WalldL  = np.sqrt((R[TriKnots[iTri,Vertex[iSide,0]]]-R[TriKnots[iTri,Vertex[iSide,1]]])**2 + \\\n",
    "                    (Z[TriKnots[iTri,Vertex[iSide,0]]]-Z[TriKnots[iTri,Vertex[iSide,1]]])**2)"
   ]
  },
  {
   "cell_type": "code",
   "execution_count": 90,
   "metadata": {},
   "outputs": [
    {
     "data": {
      "text/plain": [
       "(253, 11)"
      ]
     },
     "execution_count": 90,
     "metadata": {},
     "output_type": "execute_result"
    }
   ],
   "source": [
    "EFluxF.shape"
   ]
  },
  {
   "cell_type": "code",
   "execution_count": 114,
   "metadata": {},
   "outputs": [],
   "source": [
    "df = pd.DataFrame(columns = [\"iTri\", \"iSide\", \"iProp\", \"dlSurf\", \"dlWall\", \"Area\"])\n",
    "\n",
    "## Read ion fluxes\n",
    "try:\n",
    "    FluxiF\t = np.loadtxt(os.path.join(path,\"soledge2D.ion_fluxes_wall_1\"), dtype='f8')\n",
    "except:\n",
    "    print(\"\\tError: Not found \"+ path+\"soledge2D.ion_fluxes_wall_1\")\n",
    "    exit()\n",
    "Fluxi =  FluxiF[zOrder,4]*1e-22\n",
    "\n",
    "for i, name in enumerate([\"iTri\", \"iSide\", \"iProp\", \"dlSurf\", \n",
    "                \"F_Ion_Incident\", \"F_Atom_Emitted_from_Ion\"]):\n",
    "    \n",
    "    df[name] = FluxiF[zOrder, i]\n",
    "    \n",
    "## Read neutral fluxes (again for some reason)\n",
    "# FluxiN is a list of arrays, each a different neutral species\n",
    "FluxiN=[]\n",
    "try:\n",
    "    FluxiN.append(np.loadtxt(os.path.join(path, \"soledge2D.atoms_fluxes_wall_1\"), dtype='f8'))\n",
    "    i=2\n",
    "    while(os.path.isfile('./soledge2D.atoms_fluxes_wall_'+str(i))):\n",
    "        FluxiN.append(np.loadtxt(path+\"soledge2D.atoms_fluxes_wall_\"+str(i), dtype='f8'))\n",
    "        i=i+1\n",
    "except:\n",
    "    print(\"\\tError: Not found \"+ path+\"soledge2D.atoms_fluxes_wall_1\")\n",
    "    exit()\n",
    "    \n",
    "for i, name in enumerate([\"iTri\", \"iSide\", \"iProp\", \"dlWall\", \n",
    "            \"F_Atom_Incident\", \t\t\t\"F_Mol_Incident\",\n",
    "            \"F_Atom_Emitted_from_Ion\", \t\"F_Mol_Emitted_from_Ion\",\n",
    "            \"F_Atom_Emitted_from_Atom\", \"F_Mol_Emitted_from_Atom\"]):\n",
    "    \n",
    "    df[name] = FluxiN[0][zOrder, i]\n"
   ]
  },
  {
   "cell_type": "code",
   "execution_count": 127,
   "metadata": {},
   "outputs": [],
   "source": [
    "FluxE_details = {}\n",
    "FluxE = {}\n",
    "\n",
    "### Read neutral energy fluxes\n",
    "try:\n",
    "\n",
    "    EFluxF\t = np.loadtxt(os.path.join(path, \"soledge2D.energy_fluxes_details_1\"), dtype='f8', comments=\"%\")\n",
    "    \n",
    "    for i, name in enumerate(\n",
    "        [\"dlWall\", \"E_incident_Electron\", \t\"E_incident_Ions\",\n",
    "        \"E_Total\",\t\t\t\t\"E_incident_Atoms\",\n",
    "        \"E_Radiation_Atoms\",\t\t\"E_Rad_Recombination\",\n",
    "        \"E_Recombination_in_Wall\", \"E_incident_Molecules\"]):\n",
    "        if name not in [\"dlWall\"]:\n",
    "            df[name] = EFluxF[zOrder,i] * 1e-6   # MW\n",
    "\n",
    "    EFluxF\t = np.loadtxt(os.path.join(path, \"soledge2D.energy_fluxes_1\"), dtype='f8', comments=\"%\")\n",
    "    \n",
    "    for i, name in enumerate(\n",
    "        [\n",
    "        \"iTri\", \"iSide\",                   \"iProp\", \"dlWall\", \n",
    "        \"E_incident_Ions_EIRENE\", \"E_incident_Electron\",\n",
    "        \"E_incident_Ions\",\t\t   \"E_Total\",\t\t\t\t\n",
    "        \"E_incident_Atoms\",\t   \"E_Radiation\",\t\t\n",
    "        \"Area\"\n",
    "        ]\n",
    "    ):\n",
    "        if not any([x in name for x in [\"iTri\", \"iSide\", \"iProp\", \"dlWall\"]]):\n",
    "            df[name] = EFluxF[zOrder, i]*1e-6   # MW\n",
    "        \n",
    "except:\n",
    "    print(\"\\tError: Not found \"+ path+\"soledge2D.energy_fluxes_details_1\")\n",
    "    exit()"
   ]
  },
  {
   "cell_type": "code",
   "execution_count": 116,
   "metadata": {},
   "outputs": [
    {
     "data": {
      "text/plain": [
       "Index(['iTri', 'iSide', 'iProp', 'dlSurf', 'dlWall', 'Area', 'F_Ion_Incident',\n",
       "       'F_Atom_Emitted_from_Ion', 'F_Atom_Incident', 'F_Mol_Incident',\n",
       "       'F_Mol_Emitted_from_Ion', 'F_Atom_Emitted_from_Atom',\n",
       "       'F_Mol_Emitted_from_Atom', 'E_incident_Electron', 'E_incident_Ions',\n",
       "       'E_Total', 'E_incident_Atoms', 'E_Radiation_Atoms',\n",
       "       'E_Rad_Recombination', 'E_Recombination_in_Wall',\n",
       "       'E_incident_Molecules', 'E_incident_Ions_EIRENE', 'E_Radiation'],\n",
       "      dtype='object')"
      ]
     },
     "execution_count": 116,
     "metadata": {},
     "output_type": "execute_result"
    }
   ],
   "source": [
    "df.columns"
   ]
  },
  {
   "cell_type": "code",
   "execution_count": 94,
   "metadata": {},
   "outputs": [],
   "source": [
    "\n",
    "    \n",
    "FluxE_details = {}\n",
    "FluxE = {}\n",
    "\n",
    "### Read neutral energy fluxes\n",
    "try:\n",
    "\n",
    "    EFluxF\t = np.loadtxt(os.path.join(path, \"soledge2D.energy_fluxes_details_1\"), dtype='f8', comments=\"%\")\n",
    "    FluxE_details[\"dlWall\"] = EFluxF[zOrder,0]\n",
    "    \n",
    "    for i, name in enumerate(\n",
    "        [\"dlWall\", \"Flux_Energy_incident_Electron\", \t\"Flux_Energy_incident_Ions\",\n",
    "        \"Flux_Energy_Total\",\t\t\t\t\"Flux_Energy_incident_Atoms\",\n",
    "        \"Flux_Energy_Radiation_Atoms\",\t\t\"Flux_Energy_Rad_Recombination\",\n",
    "        \"Flux_Energy_Recombination_in_Wall\", \"Flux_Energy_incident_Molecules\"]):\n",
    "        FluxE_details[name] = EFluxF[zOrder,i]\n",
    "        if name != \"dlWall\":\n",
    "            FluxE_details[name] *= 1e-6   # MW\n",
    "\n",
    "\n",
    "    EFluxF\t = np.loadtxt(os.path.join(path, \"soledge2D.energy_fluxes_1\"), dtype='f8', comments=\"%\")\n",
    "    \n",
    "    for i, name in enumerate(\n",
    "        [\n",
    "        \"iTri\", \"iSide\",                   \"iProp\", \"dlWall\", \n",
    "        \"Flux_Energy_incident_Ions_EIRENE\", \"Flux_Energy_incident_Electron\",\n",
    "        \"Flux_Energy_incident_Ions\",\t\t   \"Flux_Energy_Total\",\t\t\t\t\n",
    "        \"Flux_Energy_incident_Atoms\",\t   \"Flux_Energy_Radiation\",\t\t\n",
    "        \"Area\"\n",
    "        ]\n",
    "    ):\n",
    "        FluxE[name] = EFluxF[zOrder, i]\n",
    "        \n",
    "        if not any([x in name for x in [\"iTri\", \"iSide\", \"iProp\", \"dlWall\"]]):\n",
    "            FluxE[name] *= 1e-6   # MW\n",
    "        \n",
    "except:\n",
    "    print(\"\\tError: Not found \"+ path+\"soledge2D.energy_fluxes_details_1\")\n",
    "    exit()\n",
    "\n",
    "    \n",
    "## Not sure what's happening here\n",
    "fluxN=[]\t#Neutral flux to the wall\t[[fD][fD2][fI1]...[fIn]]\n",
    "fluxN.append(FluxiN[0][zOrder,4])\n",
    "fluxN.append(FluxiN[0][zOrder,5])\n",
    "for i in range(len(FluxiN)-1):\n",
    "    fluxN.append(FluxiN[i+1][zOrder,4])\n",
    "for i in range(len(fluxN)):\n",
    "    fluxN[i]=fluxN[i]*1e-22"
   ]
  },
  {
   "cell_type": "code",
   "execution_count": 64,
   "metadata": {},
   "outputs": [],
   "source": [
    "\n",
    "TFluxE_details = {}\n",
    "for name in FluxE_details:\n",
    "    if name not in [\"dlWall\"]:\n",
    "        TFluxE_details[name] = 2*np.pi*np.sum(FluxE_details[name] * WalldL * WallR)\n",
    "\n",
    "TFluxE = {}\n",
    "for name in FluxE:\n",
    "    if name not in [\"iTri\", \"iSide\", \"iProp\", \"dlWall\", \"Area\"]:\n",
    "        TFluxE[name] = 2*np.pi*np.sum(FluxE[name] * WalldL * WallR)"
   ]
  },
  {
   "cell_type": "code",
   "execution_count": 11,
   "metadata": {},
   "outputs": [],
   "source": [
    "meshpath = r\"C:\\Users\\Mike.Kryajak\\OneDrive\\Project\\collab\\tech\\compare_data\\DTT\\SOLEDGE2D_30MW_6e19_DTT\\Results\\mesh\""
   ]
  },
  {
   "cell_type": "code",
   "execution_count": 10,
   "metadata": {},
   "outputs": [
    {
     "name": "stdout",
     "output_type": "stream",
     "text": [
      "load_soledge_mesh_file: reading file  C:\\Users\\Mike.Kryajak\\OneDrive\\Project\\collab\\tech\\compare_data\\DTT\\SOLEDGE2D_30MW_6e19_DTT\\Results\\mesh\n",
      "\th5_read: error reading:  Version\n",
      "\th5_read: error reading:  /mesher/Fields/r2\n",
      "\tload_soledge_mesh_file: in_equ = NO\n",
      "\th5_read: error reading:  /config/nsep\n"
     ]
    },
    {
     "ename": "AttributeError",
     "evalue": "'types.SimpleNamespace' object has no attribute 'Zones_OK'",
     "output_type": "error",
     "traceback": [
      "\u001b[1;31m---------------------------------------------------------------------------\u001b[0m",
      "\u001b[1;31mAttributeError\u001b[0m                            Traceback (most recent call last)",
      "Cell \u001b[1;32mIn[10], line 2\u001b[0m\n\u001b[0;32m      1\u001b[0m \u001b[39mfrom\u001b[39;00m \u001b[39mold_mesh_to_new\u001b[39;00m \u001b[39mimport\u001b[39;00m \u001b[39m*\u001b[39m\n\u001b[1;32m----> 2\u001b[0m oldmesh \u001b[39m=\u001b[39m load_soledge_mesh_file_V0(\u001b[39mr\u001b[39;49m\u001b[39m\"\u001b[39;49m\u001b[39mC:\u001b[39;49m\u001b[39m\\\u001b[39;49m\u001b[39mUsers\u001b[39;49m\u001b[39m\\\u001b[39;49m\u001b[39mMike.Kryajak\u001b[39;49m\u001b[39m\\\u001b[39;49m\u001b[39mOneDrive\u001b[39;49m\u001b[39m\\\u001b[39;49m\u001b[39mProject\u001b[39;49m\u001b[39m\\\u001b[39;49m\u001b[39mcollab\u001b[39;49m\u001b[39m\\\u001b[39;49m\u001b[39mtech\u001b[39;49m\u001b[39m\\\u001b[39;49m\u001b[39mcompare_data\u001b[39;49m\u001b[39m\\\u001b[39;49m\u001b[39mDTT\u001b[39;49m\u001b[39m\\\u001b[39;49m\u001b[39mSOLEDGE2D_30MW_6e19_DTT\u001b[39;49m\u001b[39m\\\u001b[39;49m\u001b[39mResults\u001b[39;49m\u001b[39m\\\u001b[39;49m\u001b[39mmesh\u001b[39;49m\u001b[39m\"\u001b[39;49m)\n",
      "File \u001b[1;32mc:\\Users\\Mike.Kryajak\\OneDrive\\Project\\python-packages\\soledge\\files\\load_soledge_mesh_file_V0.py:246\u001b[0m, in \u001b[0;36mload_soledge_mesh_file_V0\u001b[1;34m(MeshFile)\u001b[0m\n\u001b[0;32m    242\u001b[0m \t\t\t\u001b[39mif\u001b[39;00m(DEBUG \u001b[39m>\u001b[39m \u001b[39m1\u001b[39m): \u001b[39mprint\u001b[39m(\u001b[39m\"\u001b[39m\u001b[39m\\t\u001b[39;00m\u001b[39mload_soledge_mesh_file: Limits = NO\u001b[39m\u001b[39m\"\u001b[39m)\n\u001b[0;32m    244\u001b[0m \u001b[39m#\tTry if segments have been defined\u001b[39;00m\n\u001b[1;32m--> 246\u001b[0m \t\u001b[39mif\u001b[39;00m(Mesher\u001b[39m.\u001b[39;49mZones_OK):\n\u001b[0;32m    247\u001b[0m \t\t\u001b[39mtry\u001b[39;00m:\n\u001b[0;32m    248\u001b[0m \t\t\tmesher_pmegazones \u001b[39m=\u001b[39m \u001b[39m\"\u001b[39m\u001b[39m/mesher/PMegazones\u001b[39m\u001b[39m\"\u001b[39m\n",
      "\u001b[1;31mAttributeError\u001b[0m: 'types.SimpleNamespace' object has no attribute 'Zones_OK'"
     ]
    }
   ],
   "source": [
    "from old_mesh_to_new import *\n",
    "oldmesh = load_soledge_mesh_file_V0(r\"C:\\Users\\Mike.Kryajak\\OneDrive\\Project\\collab\\tech\\compare_data\\DTT\\SOLEDGE2D_30MW_6e19_DTT\\Results\\mesh\")"
   ]
  },
  {
   "cell_type": "code",
   "execution_count": 12,
   "metadata": {},
   "outputs": [],
   "source": [
    "f = h5py.File(meshpath, \"r\")"
   ]
  },
  {
   "cell_type": "code",
   "execution_count": 13,
   "metadata": {},
   "outputs": [
    {
     "data": {
      "text/plain": [
       "<KeysViewHDF5 ['zone1', 'zone10', 'zone11', 'zone12', 'zone13', 'zone14', 'zone15', 'zone16', 'zone17', 'zone18', 'zone19', 'zone2', 'zone20', 'zone21', 'zone22', 'zone23', 'zone24', 'zone25', 'zone26', 'zone27', 'zone28', 'zone29', 'zone3', 'zone30', 'zone31', 'zone32', 'zone33', 'zone34', 'zone35', 'zone36', 'zone37', 'zone38', 'zone39', 'zone4', 'zone40', 'zone41', 'zone42', 'zone43', 'zone44', 'zone45', 'zone46', 'zone5', 'zone6', 'zone7', 'zone8', 'zone9']>"
      ]
     },
     "execution_count": 13,
     "metadata": {},
     "output_type": "execute_result"
    }
   ],
   "source": [
    "f.keys()"
   ]
  },
  {
   "cell_type": "code",
   "execution_count": 8,
   "metadata": {},
   "outputs": [],
   "source": [
    "from files.load_soledge_mesh_file_V0\timport load_soledge_mesh_file_V0"
   ]
  },
  {
   "cell_type": "code",
   "execution_count": 15,
   "metadata": {},
   "outputs": [
    {
     "name": "stdout",
     "output_type": "stream",
     "text": [
      "\told_mesh_to_new: Converting mesh file  C:\\Users\\Mike.Kryajak\\OneDrive\\Project\\collab\\tech\\compare_data\\DTT\\SOLEDGE2D_30MW_6e19_DTT\\Results\\mesh\n",
      "\th5_read: error reading:  Version\n",
      "load_soledge_mesh_file: reading file  C:\\Users\\Mike.Kryajak\\OneDrive\\Project\\collab\\tech\\compare_data\\DTT\\SOLEDGE2D_30MW_6e19_DTT\\Results\\mesh\n",
      "\th5_read: error reading:  Version\n",
      "\th5_read: error reading:  /mesher/Fields/r2\n",
      "\tload_soledge_mesh_file: in_equ = NO\n",
      "\th5_read: error reading:  /config/nsep\n",
      "False\n"
     ]
    },
    {
     "ename": "AttributeError",
     "evalue": "'types.SimpleNamespace' object has no attribute 'Zones_OK'",
     "output_type": "error",
     "traceback": [
      "\u001b[1;31m---------------------------------------------------------------------------\u001b[0m",
      "\u001b[1;31mAttributeError\u001b[0m                            Traceback (most recent call last)",
      "Cell \u001b[1;32mIn[15], line 1\u001b[0m\n\u001b[1;32m----> 1\u001b[0m old_mesh_to_new(old_mesh \u001b[39m=\u001b[39;49m \u001b[39mr\u001b[39;49m\u001b[39m\"\u001b[39;49m\u001b[39mC:\u001b[39;49m\u001b[39m\\\u001b[39;49m\u001b[39mUsers\u001b[39;49m\u001b[39m\\\u001b[39;49m\u001b[39mMike.Kryajak\u001b[39;49m\u001b[39m\\\u001b[39;49m\u001b[39mOneDrive\u001b[39;49m\u001b[39m\\\u001b[39;49m\u001b[39mProject\u001b[39;49m\u001b[39m\\\u001b[39;49m\u001b[39mcollab\u001b[39;49m\u001b[39m\\\u001b[39;49m\u001b[39mtech\u001b[39;49m\u001b[39m\\\u001b[39;49m\u001b[39mcompare_data\u001b[39;49m\u001b[39m\\\u001b[39;49m\u001b[39mDTT\u001b[39;49m\u001b[39m\\\u001b[39;49m\u001b[39mSOLEDGE2D_30MW_6e19_DTT\u001b[39;49m\u001b[39m\\\u001b[39;49m\u001b[39mResults\u001b[39;49m\u001b[39m\\\u001b[39;49m\u001b[39mmesh\u001b[39;49m\u001b[39m\"\u001b[39;49m,\n\u001b[0;32m      2\u001b[0m                 new_mesh \u001b[39m=\u001b[39;49m \u001b[39mr\u001b[39;49m\u001b[39m\"\u001b[39;49m\u001b[39mC:\u001b[39;49m\u001b[39m\\\u001b[39;49m\u001b[39mUsers\u001b[39;49m\u001b[39m\\\u001b[39;49m\u001b[39mMike.Kryajak\u001b[39;49m\u001b[39m\\\u001b[39;49m\u001b[39mOneDrive\u001b[39;49m\u001b[39m\\\u001b[39;49m\u001b[39mProject\u001b[39;49m\u001b[39m\\\u001b[39;49m\u001b[39mcollab\u001b[39;49m\u001b[39m\\\u001b[39;49m\u001b[39mtech\u001b[39;49m\u001b[39m\\\u001b[39;49m\u001b[39mcompare_data\u001b[39;49m\u001b[39m\\\u001b[39;49m\u001b[39mDTT\u001b[39;49m\u001b[39m\\\u001b[39;49m\u001b[39mSOLEDGE2D_30MW_6e19_DTT\u001b[39;49m\u001b[39m\\\u001b[39;49m\u001b[39mmesh.h5\u001b[39;49m\u001b[39m\"\u001b[39;49m)\n",
      "File \u001b[1;32mc:\\Users\\Mike.Kryajak\\OneDrive\\Project\\python-packages\\soledge\\old_mesh_to_new.py:55\u001b[0m, in \u001b[0;36mold_mesh_to_new\u001b[1;34m(old_mesh, new_mesh)\u001b[0m\n\u001b[0;32m     52\u001b[0m \tif_mesh\u001b[39m.\u001b[39mclose()\n\u001b[0;32m     54\u001b[0m \t\u001b[39mif\u001b[39;00m(FileVersion \u001b[39m<\u001b[39m \u001b[39m1\u001b[39m):\n\u001b[1;32m---> 55\u001b[0m \t\tConfig\t\t\t\t\u001b[39m=\u001b[39m load_soledge_mesh_file_V0(old_mesh)\n\u001b[0;32m     57\u001b[0m \u001b[39m#\t\tUpdate to new data\u001b[39;00m\n\u001b[0;32m     59\u001b[0m \t\tConfig\u001b[39m.\u001b[39mMagZones\t\t\t\u001b[39m=\u001b[39m Config\u001b[39m.\u001b[39mZones\n",
      "File \u001b[1;32mc:\\Users\\Mike.Kryajak\\OneDrive\\Project\\python-packages\\soledge\\files\\load_soledge_mesh_file_V0.py:247\u001b[0m, in \u001b[0;36mload_soledge_mesh_file_V0\u001b[1;34m(MeshFile)\u001b[0m\n\u001b[0;32m    243\u001b[0m \t\t\t\u001b[39mif\u001b[39;00m(DEBUG \u001b[39m>\u001b[39m \u001b[39m1\u001b[39m): \u001b[39mprint\u001b[39m(\u001b[39m\"\u001b[39m\u001b[39m\\t\u001b[39;00m\u001b[39mload_soledge_mesh_file: Limits = NO\u001b[39m\u001b[39m\"\u001b[39m)\n\u001b[0;32m    245\u001b[0m \u001b[39m#\tTry if segments have been defined\u001b[39;00m\n\u001b[1;32m--> 247\u001b[0m \t\u001b[39mif\u001b[39;00m(Mesher\u001b[39m.\u001b[39;49mZones_OK):\n\u001b[0;32m    248\u001b[0m \t\t\u001b[39mtry\u001b[39;00m:\n\u001b[0;32m    249\u001b[0m \t\t\tmesher_pmegazones \u001b[39m=\u001b[39m \u001b[39m\"\u001b[39m\u001b[39m/mesher/PMegazones\u001b[39m\u001b[39m\"\u001b[39m\n",
      "\u001b[1;31mAttributeError\u001b[0m: 'types.SimpleNamespace' object has no attribute 'Zones_OK'"
     ]
    }
   ],
   "source": [
    "old_mesh_to_new(old_mesh = r\"C:\\Users\\Mike.Kryajak\\OneDrive\\Project\\collab\\tech\\compare_data\\DTT\\SOLEDGE2D_30MW_6e19_DTT\\Results\\mesh\",\n",
    "                new_mesh = r\"C:\\Users\\Mike.Kryajak\\OneDrive\\Project\\collab\\tech\\compare_data\\DTT\\SOLEDGE2D_30MW_6e19_DTT\\mesh.h5\")"
   ]
  },
  {
   "cell_type": "code",
   "execution_count": 5,
   "metadata": {},
   "outputs": [
    {
     "name": "stdout",
     "output_type": "stream",
     "text": [
      "load_soledge_mesh_file: reading file  C:\\Users\\Mike.Kryajak\\OneDrive\\Project\\collab\\tech\\compare_data\\DTT\\SOLEDGE2D_30MW_6e19_DTT\\Results\\mesh\n",
      "\th5_read: error reading:  Version\n",
      "load_soledge_mesh_file: mesh file too old, you must try to update it with old_mesh_to_new.py\n"
     ]
    },
    {
     "ename": "NameError",
     "evalue": "name 'exit' is not defined",
     "output_type": "error",
     "traceback": [
      "\u001b[1;31m---------------------------------------------------------------------------\u001b[0m",
      "\u001b[1;31mNameError\u001b[0m                                 Traceback (most recent call last)",
      "Cell \u001b[1;32mIn[5], line 1\u001b[0m\n\u001b[1;32m----> 1\u001b[0m Config \u001b[39m=\u001b[39m load_soledge_mesh_file(\u001b[39mr\u001b[39;49m\u001b[39m\"\u001b[39;49m\u001b[39mC:\u001b[39;49m\u001b[39m\\\u001b[39;49m\u001b[39mUsers\u001b[39;49m\u001b[39m\\\u001b[39;49m\u001b[39mMike.Kryajak\u001b[39;49m\u001b[39m\\\u001b[39;49m\u001b[39mOneDrive\u001b[39;49m\u001b[39m\\\u001b[39;49m\u001b[39mProject\u001b[39;49m\u001b[39m\\\u001b[39;49m\u001b[39mcollab\u001b[39;49m\u001b[39m\\\u001b[39;49m\u001b[39mtech\u001b[39;49m\u001b[39m\\\u001b[39;49m\u001b[39mcompare_data\u001b[39;49m\u001b[39m\\\u001b[39;49m\u001b[39mDTT\u001b[39;49m\u001b[39m\\\u001b[39;49m\u001b[39mSOLEDGE2D_30MW_6e19_DTT\u001b[39;49m\u001b[39m\\\u001b[39;49m\u001b[39mResults\u001b[39;49m\u001b[39m\\\u001b[39;49m\u001b[39mmesh\u001b[39;49m\u001b[39m\"\u001b[39;49m)\n",
      "File \u001b[1;32mc:\\Users\\Mike.Kryajak\\OneDrive\\Project\\python-packages\\soledge\\files\\load_soledge_mesh_file.py:53\u001b[0m, in \u001b[0;36mload_soledge_mesh_file\u001b[1;34m(MeshFile)\u001b[0m\n\u001b[0;32m     51\u001b[0m \t\u001b[39mprint\u001b[39m(\u001b[39m\"\u001b[39m\u001b[39mload_soledge_mesh_file: mesh file too old, you must try to update it with old_mesh_to_new.py\u001b[39m\u001b[39m\"\u001b[39m)\n\u001b[0;32m     52\u001b[0m \tif_mesh\u001b[39m.\u001b[39mclose()\n\u001b[1;32m---> 53\u001b[0m \texit()\n\u001b[0;32m     55\u001b[0m \u001b[39mtry\u001b[39;00m:\n\u001b[0;32m     56\u001b[0m \tmesher_fields\t\t\u001b[39m=\u001b[39m \u001b[39m\"\u001b[39m\u001b[39m/mesher/Fields\u001b[39m\u001b[39m\"\u001b[39m\n",
      "\u001b[1;31mNameError\u001b[0m: name 'exit' is not defined"
     ]
    }
   ],
   "source": [
    "Config = load_soledge_mesh_file(r\"C:\\Users\\Mike.Kryajak\\OneDrive\\Project\\collab\\tech\\compare_data\\DTT\\SOLEDGE2D_30MW_6e19_DTT\\Results\\mesh\")"
   ]
  },
  {
   "cell_type": "code",
   "execution_count": null,
   "metadata": {},
   "outputs": [],
   "source": [
    "if_mesh = h5py.File(os.path.join(path, \"mesh.h5\"), \"r\")\n",
    "\n",
    "try:\n",
    "    Rwall\t= h5_read(if_mesh, \"walls/wall1/R\")\n",
    "    Zwall\t= h5_read(if_mesh, \"walls/wall1/Z\")\n",
    "except:\n",
    "    Rwall\t= h5_read(if_mesh, \"wall/R\")\n",
    "    Zwall\t= h5_read(if_mesh, \"wall/Z\")\n",
    "\n",
    "if_mesh.close()"
   ]
  },
  {
   "cell_type": "code",
   "execution_count": 10,
   "metadata": {},
   "outputs": [],
   "source": [
    "from files.load_soledge_mesh_file\t\t\t\timport load_soledge_mesh_file\n",
    "from files.load_plasma_files\t\t\t\t\t\timport load_plasma_files\n",
    "from files.load_ions_list\t\t\t\t\t\t\t\timport load_ions_list\n",
    "from files.load_refpar_file\t\t\t\timport load_refpar_file\n",
    "from mesh.get_rz_core_sep\t\t\t\t\t\timport get_rz_core_sep\n",
    "from mesh.get_rho_in_out_core_sep\t\timport get_rho_in_out_core_sep\n",
    "from mesh.find_zones_intersections\t\t\timport find_zones_intersections\n",
    "from mesh.compute_mesh_intersections\timport compute_mesh_intersections\n",
    "from routines.intersect_contour\t\t\t\timport intersect_2contours\n",
    "from routines.utils_walls\t\t\t\t\t\t\timport get_in_out_walls, plot2d_walls, get_dmax_points_walls\n",
    "from routines.h5_routines\t\t\t\timport h5_read\n",
    "from math\t\t\t\t\t\t\t\t\t\t\t\t\timport sqrt, exp\n",
    "import numpy\t\t\t\t\t\t\t\t\t\t\tas np\n",
    "import os, sys\n",
    "import pandas as pd\n",
    "import matplotlib.pyplot as plt\n",
    "import matplotlib as mpl\n",
    "import h5py"
   ]
  },
  {
   "cell_type": "code",
   "execution_count": 26,
   "metadata": {},
   "outputs": [],
   "source": [
    "#===================================================================\n",
    "\n",
    "def get_plasma_parameter_on_pol(Plasma, iPar, ix, iZones, iThWest, iThEast, nThetaPts):\n",
    "\n",
    "\tPar = np.zeros(nThetaPts, dtype='f8')\n",
    "\n",
    "\tif(iPar > -1):\n",
    "\t\tjOff = 0\n",
    "\t\tfor k in range(len(iZones)):\n",
    "\t\t\tif(Plasma[iZones[k]].Nz < Plasma[iZones[k]].Values[iPar].shape[1]):\n",
    "\t\t\t\tPar[jOff: jOff + iThEast[k] - iThWest[k]] = Plasma[iZones[k]].Values[iPar][ix, iThWest[k]+1:iThEast[k]+1]\t\t#[Nx+2,Nz+2] parameter\n",
    "\t\t\telse:\n",
    "\t\t\t\tPar[jOff: jOff + iThEast[k] - iThWest[k]] = Plasma[iZones[k]].Values[iPar][ix, iThWest[k]:iThEast[k]]\t\t\t\t#[Nx,Nz] parameter\n",
    "\n",
    "\t\t\tjOff += iThEast[k] - iThWest[k]\n",
    "\n",
    "\treturn Par"
   ]
  },
  {
   "cell_type": "code",
   "execution_count": 25,
   "metadata": {},
   "outputs": [
    {
     "name": "stdout",
     "output_type": "stream",
     "text": [
      "load_soledge_mesh_file: reading file  c:\\Users\\mikek\\OneDrive\\Project\\collab\\tech\\compare_data\\soledge_cases\\copy_wallStd_bra_nocore_D\\mesh.h5\n",
      "\tload_soledge_mesh_file: in_equ = OK\n",
      "\th5_read: error reading:  /mesher/Fields/RadArroundXp\n",
      "\tload_soledge_mesh_file: extrapol = OK\n",
      "\tload_soledge_mesh_file: xPoints = OK\n",
      "\tload_soledge_mesh_file: Frontiers = OK\n",
      "\tload_soledge_mesh_file: Limits = OK\n",
      "\th5_read: error reading:  /mesher/OMP_segment/mesher/refpoints/nPoints\n",
      "\tload_soledge_mesh_file: Segments = OK\n",
      "\tload_soledge_mesh_file: MagGrid_OK = OK\n",
      "\tload_soledge_mesh_file: new_equ = OK\n",
      "\tload_soledge_mesh_file: equ = OK\n",
      "\tload_soledge_mesh_file: Mesh = OK\n",
      "\tload_soledge_mesh_file: transp_prof = NO\n",
      "\tload_soledge_mesh_file: transp_values = OK\n",
      "\tload_soledge_mesh_file: feedback_transp = NO\n",
      "\th5_read: error reading:  /mesher/FeedbackPuffing/AutoTarget\n",
      "\tload_soledge_mesh_file: feedback_puffing = NO\n",
      "\th5_read: error reading:  /CustomPlots/Parallel/nPlots\n",
      "\th5_read: error reading:  /CustomPlots/Perpendicular/nPlots\n",
      "\th5_read: error reading:  /CustomPlots/Temporal/nPlots\n",
      "define_OMP_segment\n"
     ]
    },
    {
     "name": "stderr",
     "output_type": "stream",
     "text": [
      "c:\\Users\\mikek\\OneDrive\\Project\\python-packages\\soledge\\routines\\h5_routines.py:65: FutureWarning: In the future `np.str` will be defined as the corresponding NumPy scalar.\n",
      "  Data = Data.astype(np.str)\n"
     ]
    },
    {
     "name": "stdout",
     "output_type": "stream",
     "text": [
      "\n",
      "define_OMP_segment: completed\n",
      "\n",
      "load_soledge_mesh_file: Completed\n",
      "\tload_plasma_files: Loading:  c:\\Users\\mikek\\OneDrive\\Project\\collab\\tech\\compare_data\\soledge_cases\\copy_wallStd_bra_nocore_D/Results/plasma_0\n",
      "\tload_plasma_files: Loading:  c:\\Users\\mikek\\OneDrive\\Project\\collab\\tech\\compare_data\\soledge_cases\\copy_wallStd_bra_nocore_D/Results/plasma_1\n"
     ]
    }
   ],
   "source": [
    "path=os.path.join(onedrive_path, r\"Project\\collab\\tech\\compare_data\\soledge_cases\\copy_wallStd_bra_nocore_D\")\n",
    "parallel_length = False\n",
    "rz0_line = []\n",
    "theta_line = 0\n",
    "d_from_sep = 0.01\n",
    "\n",
    "self = SOLEDGEcase(path)"
   ]
  },
  {
   "cell_type": "code",
   "execution_count": 19,
   "metadata": {},
   "outputs": [
    {
     "name": "stdout",
     "output_type": "stream",
     "text": [
      "get_rz_core_sep\n",
      "get_rz_core_sep: completed\n",
      "compute_mesh_intersections\n",
      "get_rz_core_sep\n",
      "get_rz_core_sep: completed\n",
      "compute_mesh_intersections:Completed\n",
      "get_rho_in_out_core_sep\n",
      "get_rz_core_sep\n",
      "get_rz_core_sep: completed\n",
      "get_rho_in_out_core_sep: completed\n"
     ]
    }
   ],
   "source": [
    "Zones = self.Config.Zones\n",
    "\n",
    "#\tRead Metric\n",
    "\n",
    "l_pol = 1 if parallel_length is False else 0 \n",
    "\n",
    "if(l_pol == 0):\n",
    "    if_metric = h5py.File(os.path.join(path, \"Results/metric\"), \"r\")\n",
    "    Gmet = []\n",
    "    for k in range(len(self.Config.Zones)):\n",
    "        zone = \"zone{:d}\".format(k+1)\n",
    "        Gmet.append(h5_read(if_metric, zone+ '/G', order = 'F'))\t\t\t\t\t\t\t\t\t#[Nx+2,Nz+2]\n",
    "\n",
    "    if_metric.close()\n",
    "    \n",
    "#\tFind mesh along line\n",
    "\n",
    "if(len(rz0_line) == 0):\n",
    "    Rcore, Zcore, CoreMegazone = get_rz_core_sep(self.Config, core_and_sep = False)\n",
    "    rz0_line = [0.5*(Rcore.min() + Rcore.max()), 0.]\n",
    "\n",
    "rMax\t\t= 6*get_dmax_points_walls(self.Config, rz0_line[0], rz0_line[1], plasma_wall=True, eirene_wall=False, extra_wall=False)\n",
    "theta_line\t= theta_line*np.pi/180.\n",
    "RZLine\t\t= np.array([[rz0_line[0],\t\t\t\t\t\t  rz0_line[1]], \\\n",
    "                        [rz0_line[0]+rMax*np.cos(theta_line), rz0_line[1]+rMax*np.sin(theta_line)]])\n",
    "\n",
    "\n",
    "Cut = find_zones_intersections(self.Config, RZLine)\n",
    "Lengths, IntRZ, IntCEll = compute_mesh_intersections(self.Config, Cut, also_pos=True, use_mag_zones=False)\n",
    "in_wall, out_wall = get_in_out_walls(self.Config, IntRZ[:,0], IntRZ[:,1])\n",
    "Lengths = Lengths[in_wall,:]\n",
    "IntRZ\t= IntRZ[in_wall,:]\n",
    "IntCEll\t= IntCEll[in_wall,:]\n",
    "\n",
    "dist = Lengths[:,0] - Lengths[0,0]\n",
    "Rho, In_Sep, Out_Sep, RZcore, RZsep = get_rho_in_out_core_sep(self.Config, IntRZ[:,0], IntRZ[:,1])\n",
    "\n",
    "if(len(In_Sep) > 0):\n",
    "    if(Out_Sep[-1] < In_Sep[0]):\n",
    "        Out_Sep = np.append(Out_Sep, In_Sep[0])\n",
    "    else:\n",
    "        Out_Sep = np.append(In_Sep[-1], Out_Sep)\n",
    "\n",
    "Ri, Zi, is1, is2  = intersect_2contours(RZsep[:,0], RZsep[:,1], IntRZ[:,0], IntRZ[:,1])\n",
    "if(len(Ri)==0):\n",
    "    plt.plot(RZsep[:,0], RZsep[:,1],'k-')\n",
    "    plt.plot(IntRZ[:,0], IntRZ[:,1],'r-')\n",
    "    plt.show()\n",
    "\n",
    "dsep = np.sqrt((IntRZ[0,0] - Ri[0])**2 + (IntRZ[0,1] - Zi[0])**2)\n",
    "dist -= dsep   # Distance from separatrix\n",
    "\n",
    "\n",
    "#\tSelect cell\n",
    "\n",
    "iCell = np.argmin(np.abs(dist-d_from_sep))\n",
    "iZone \t= IntCEll[iCell,0]\n",
    "ix\t\t= IntCEll[iCell,1]\n",
    "iTheta\t= IntCEll[iCell,2]\n",
    "\n",
    "#\tFind zones along poloidal coordinate\n",
    "\n",
    "if(Zones[iZone].Chi[ix,-1] == 1):\n",
    "    iThEast = np.array([np.min(np.where(Zones[iZone].Chi[ix,iTheta:] == 1)[0])+iTheta])\n",
    "    East = -1\n",
    "else:\n",
    "    iThEast = np.array([Zones[iZone].Chi.shape[1]])\n",
    "    East = Zones[iZone].Neighbour.east\n",
    "\n",
    "if(Zones[iZone].Chi[ix,0] == 1):\n",
    "    iThWest = np.array([np.max(np.where(Zones[iZone].Chi[ix,:iTheta] == 1)[0])])\n",
    "    West = -1\n",
    "else:\n",
    "    iThWest = np.array([0])\n",
    "    West = Zones[iZone].Neighbour.west\n",
    "\n",
    "iThetaOff  = iTheta - iThWest[0]\n",
    "nThetaPts  = iThEast[0] - iThWest[0]\n",
    "iZones\t   = np.array([iZone])\n",
    "\n",
    "#\tLook East\n",
    "\n",
    "while (East > -1):\n",
    "    iZones = np.append(iZones, East)\n",
    "    iThWest = np.append(iThWest,0)\n",
    "    if(Zones[East].Chi[ix,-1] == 1):\n",
    "        iThEast = np.append(iThEast, np.min(np.where(Zones[East].Chi[ix,:] == 1)[0]))\n",
    "        East = -1\n",
    "    else:\n",
    "        iThEast = np.append(iThEast, Zones[East].Chi.shape[1])\n",
    "        East \t = Zones[East].Neighbour.east\n",
    "    nThetaPts += iThEast[-1]\n",
    "\n",
    "#\tLook West\n",
    "\n",
    "while (West > -1):\n",
    "    iZones = np.append(West, iZones)\n",
    "    iThEast = np.append(Zones[West].Chi.shape[1], iThEast)\n",
    "    if(Zones[West].Chi[ix,0] == 1):\n",
    "        iThWest = np.append(np.max(np.where(Zones[West].Chi[ix,:] == 1)[0])+1, iThWest)\n",
    "        West = -1\n",
    "    else:\n",
    "        iThWest = np.append(0, iThWest)\n",
    "        West = Zones[West].Neighbour.west\n",
    "    iThetaOff += iThEast[0] - iThWest[0]\n",
    "    nThetaPts += iThEast[0] - iThWest[0]\n",
    "\n",
    "Rpol = np.empty((nThetaPts), dtype = 'f8')\n",
    "Zpol = np.empty((nThetaPts), dtype = 'f8')\n",
    "jOff = 0\n",
    "for k in range(len(iZones)):\n",
    "    Rpol[jOff: jOff + iThEast[k] - iThWest[k]] = Zones[iZones[k]].gridRc[ix, iThWest[k]:iThEast[k]]\n",
    "    Zpol[jOff: jOff + iThEast[k] - iThWest[k]] = Zones[iZones[k]].gridZc[ix, iThWest[k]:iThEast[k]]\n",
    "    jOff += iThEast[k] - iThWest[k]\n",
    "\n",
    "if(l_pol == 0):\n",
    "    dl = np.empty((nThetaPts), dtype = 'f8')\n",
    "    jOff = 0\n",
    "    for k in range(len(iZones)):\n",
    "        dtheta = (Zones[iZones[k]].zb[ix, 1:] - Zones[iZones[k]].zb[ix, :-1])*2.*np.pi\n",
    "        dlZone\t   = 2.*dtheta/Gmet[iZones[k]][ix+1, 1:-1]\n",
    "        dl[jOff: jOff + iThEast[k] - iThWest[k]] = dlZone[iThWest[k]:iThEast[k]]\n",
    "        jOff += iThEast[k] - iThWest[k]\n",
    "    dlZone = 0\n",
    "    Lpara = np.cumsum(dl)\n",
    "    dl\t  = 0\n",
    "else:\n",
    "    Lpara = np.sqrt((Rpol[1:]-Rpol[:-1])**2 + (Zpol[1:]-Zpol[:-1])**2)\n",
    "    Lpara = np.append(0., np.cumsum(np.sqrt((Rpol[1:]-Rpol[:-1])**2 + (Zpol[1:]-Zpol[:-1])**2)))\n",
    "\n",
    "Lpara = Lpara - Lpara[iThetaOff]   # Parallel or poloidal distance starting at midplane, depending on setting l_pol"
   ]
  },
  {
   "cell_type": "code",
   "execution_count": null,
   "metadata": {},
   "outputs": [],
   "source": [
    "self.P"
   ]
  },
  {
   "cell_type": "code",
   "execution_count": 2,
   "metadata": {},
   "outputs": [],
   "source": [
    "class HiddenPrints:\n",
    "    \"\"\"\n",
    "    Suppress printing by:\n",
    "    with HiddenPrints():\n",
    "        ...\n",
    "    \"\"\"\n",
    "    def __enter__(self):\n",
    "        self._original_stdout = sys.stdout\n",
    "        sys.stdout = open(os.devnull, 'w')\n",
    "\n",
    "    def __exit__(self, exc_type, exc_val, exc_tb):\n",
    "        sys.stdout.close()\n",
    "        sys.stdout = self._original_stdout\n",
    "\n"
   ]
  },
  {
   "cell_type": "code",
   "execution_count": 78,
   "metadata": {},
   "outputs": [
    {
     "ename": "ValueError",
     "evalue": "I/O operation on closed file",
     "output_type": "error",
     "traceback": [
      "\u001b[1;31m---------------------------------------------------------------------------\u001b[0m",
      "\u001b[1;31mValueError\u001b[0m                                Traceback (most recent call last)",
      "Cell \u001b[1;32mIn[78], line 1\u001b[0m\n\u001b[1;32m----> 1\u001b[0m \u001b[39mprint\u001b[39;49m(\u001b[39m\"\u001b[39;49m\u001b[39myes\u001b[39;49m\u001b[39m\"\u001b[39;49m)\n",
      "File \u001b[1;32mc:\\Users\\mikek\\anaconda3\\envs\\new\\lib\\site-packages\\ipykernel\\iostream.py:547\u001b[0m, in \u001b[0;36mOutStream.write\u001b[1;34m(self, string)\u001b[0m\n\u001b[0;32m    544\u001b[0m             \u001b[39mprint\u001b[39m(\u001b[39mf\u001b[39m\u001b[39m\"\u001b[39m\u001b[39mWrite failed: \u001b[39m\u001b[39m{\u001b[39;00me\u001b[39m}\u001b[39;00m\u001b[39m\"\u001b[39m, file\u001b[39m=\u001b[39msys\u001b[39m.\u001b[39m__stderr__)\n\u001b[0;32m    546\u001b[0m \u001b[39mif\u001b[39;00m \u001b[39mself\u001b[39m\u001b[39m.\u001b[39mpub_thread \u001b[39mis\u001b[39;00m \u001b[39mNone\u001b[39;00m:\n\u001b[1;32m--> 547\u001b[0m     \u001b[39mraise\u001b[39;00m \u001b[39mValueError\u001b[39;00m(\u001b[39m\"\u001b[39m\u001b[39mI/O operation on closed file\u001b[39m\u001b[39m\"\u001b[39m)\n\u001b[0;32m    548\u001b[0m \u001b[39melse\u001b[39;00m:\n\u001b[0;32m    550\u001b[0m     is_child \u001b[39m=\u001b[39m \u001b[39mnot\u001b[39;00m \u001b[39mself\u001b[39m\u001b[39m.\u001b[39m_is_master_process()\n",
      "\u001b[1;31mValueError\u001b[0m: I/O operation on closed file"
     ]
    }
   ],
   "source": [
    "print(\"yes\")"
   ]
  },
  {
   "cell_type": "code",
   "execution_count": 3,
   "metadata": {},
   "outputs": [
    {
     "ename": "NameError",
     "evalue": "name 'contextlib' is not defined",
     "output_type": "error",
     "traceback": [
      "\u001b[1;31m---------------------------------------------------------------------------\u001b[0m",
      "\u001b[1;31mNameError\u001b[0m                                 Traceback (most recent call last)",
      "Cell \u001b[1;32mIn[3], line 1\u001b[0m\n\u001b[1;32m----> 1\u001b[0m \u001b[39mwith\u001b[39;00m contextlib\u001b[39m.\u001b[39mnullcontext():\n\u001b[0;32m      2\u001b[0m     \u001b[39mprint\u001b[39m(\u001b[39m\"\u001b[39m\u001b[39mUYes\u001b[39m\u001b[39m\"\u001b[39m)\n",
      "\u001b[1;31mNameError\u001b[0m: name 'contextlib' is not defined"
     ]
    }
   ],
   "source": [
    "with contextlib.nullcontext():\n",
    "    print(\"UYes\")"
   ]
  },
  {
   "cell_type": "code",
   "execution_count": 5,
   "metadata": {},
   "outputs": [],
   "source": [
    "import contextlib\n",
    "\n",
    "verbose = False\n",
    "\n",
    "with HiddenPrints() if verbose is False else contextlib.nullcontext():\n",
    "    print(\"Yes\")\n"
   ]
  },
  {
   "cell_type": "code",
   "execution_count": 70,
   "metadata": {},
   "outputs": [
    {
     "ename": "AttributeError",
     "evalue": "__enter__",
     "output_type": "error",
     "traceback": [
      "\u001b[1;31m---------------------------------------------------------------------------\u001b[0m",
      "\u001b[1;31mAttributeError\u001b[0m                            Traceback (most recent call last)",
      "Cell \u001b[1;32mIn[70], line 10\u001b[0m\n\u001b[0;32m      7\u001b[0m \u001b[39melse\u001b[39;00m:\n\u001b[0;32m      8\u001b[0m     cm \u001b[39m=\u001b[39m nullcontext\n\u001b[1;32m---> 10\u001b[0m \u001b[39mwith\u001b[39;00m cm \u001b[39mas\u001b[39;00m gs:\n\u001b[0;32m     11\u001b[0m     \u001b[39mprint\u001b[39m(\u001b[39m\"\u001b[39m\u001b[39myes\u001b[39m\u001b[39m\"\u001b[39m)\n",
      "\u001b[1;31mAttributeError\u001b[0m: __enter__"
     ]
    }
   ],
   "source": [
    "from contextlib import nullcontext\n",
    "\n",
    "verbose = False\n",
    "\n",
    "if verbose is True:\n",
    "    cm = HiddenPrints\n",
    "else:\n",
    "    cm = nullcontext\n",
    "\n",
    "with cm as gs:\n",
    "    print(\"yes\")"
   ]
  },
  {
   "cell_type": "code",
   "execution_count": 38,
   "metadata": {},
   "outputs": [],
   "source": [
    "param = \"Dense\"\n",
    "iPlasma, iPar = self.get_param_indices(param)\n",
    "data = get_plasma_parameter_on_pol(self.Plasmas[iPlasma], iPar, ix, iZones, iThWest, iThEast, nThetaPts)"
   ]
  },
  {
   "cell_type": "code",
   "execution_count": 40,
   "metadata": {},
   "outputs": [],
   "source": [
    "df = pd.DataFrame()\n",
    "df[\"dist\"] = Lpara\n",
    "df[\"R\"] = Rpol\n",
    "df[\"Z\"] = Zpol\n",
    "df[param] = data"
   ]
  },
  {
   "cell_type": "code",
   "execution_count": 41,
   "metadata": {},
   "outputs": [
    {
     "data": {
      "text/html": [
       "<div>\n",
       "<style scoped>\n",
       "    .dataframe tbody tr th:only-of-type {\n",
       "        vertical-align: middle;\n",
       "    }\n",
       "\n",
       "    .dataframe tbody tr th {\n",
       "        vertical-align: top;\n",
       "    }\n",
       "\n",
       "    .dataframe thead th {\n",
       "        text-align: right;\n",
       "    }\n",
       "</style>\n",
       "<table border=\"1\" class=\"dataframe\">\n",
       "  <thead>\n",
       "    <tr style=\"text-align: right;\">\n",
       "      <th></th>\n",
       "      <th>dist</th>\n",
       "      <th>R</th>\n",
       "      <th>Z</th>\n",
       "      <th>Dense</th>\n",
       "    </tr>\n",
       "  </thead>\n",
       "  <tbody>\n",
       "    <tr>\n",
       "      <th>0</th>\n",
       "      <td>-0.887049</td>\n",
       "      <td>0.585937</td>\n",
       "      <td>0.851084</td>\n",
       "      <td>4.369019e+18</td>\n",
       "    </tr>\n",
       "    <tr>\n",
       "      <th>1</th>\n",
       "      <td>-0.884002</td>\n",
       "      <td>0.584349</td>\n",
       "      <td>0.848484</td>\n",
       "      <td>4.841934e+18</td>\n",
       "    </tr>\n",
       "    <tr>\n",
       "      <th>2</th>\n",
       "      <td>-0.879959</td>\n",
       "      <td>0.582209</td>\n",
       "      <td>0.845053</td>\n",
       "      <td>5.269189e+18</td>\n",
       "    </tr>\n",
       "    <tr>\n",
       "      <th>3</th>\n",
       "      <td>-0.874901</td>\n",
       "      <td>0.579488</td>\n",
       "      <td>0.840789</td>\n",
       "      <td>5.590359e+18</td>\n",
       "    </tr>\n",
       "    <tr>\n",
       "      <th>4</th>\n",
       "      <td>-0.868808</td>\n",
       "      <td>0.576156</td>\n",
       "      <td>0.835689</td>\n",
       "      <td>5.819136e+18</td>\n",
       "    </tr>\n",
       "    <tr>\n",
       "      <th>...</th>\n",
       "      <td>...</td>\n",
       "      <td>...</td>\n",
       "      <td>...</td>\n",
       "      <td>...</td>\n",
       "    </tr>\n",
       "    <tr>\n",
       "      <th>62</th>\n",
       "      <td>0.940511</td>\n",
       "      <td>0.574721</td>\n",
       "      <td>-0.833527</td>\n",
       "      <td>6.294196e+18</td>\n",
       "    </tr>\n",
       "    <tr>\n",
       "      <th>63</th>\n",
       "      <td>0.946599</td>\n",
       "      <td>0.578076</td>\n",
       "      <td>-0.838608</td>\n",
       "      <td>6.008731e+18</td>\n",
       "    </tr>\n",
       "    <tr>\n",
       "      <th>64</th>\n",
       "      <td>0.951615</td>\n",
       "      <td>0.580797</td>\n",
       "      <td>-0.842821</td>\n",
       "      <td>5.624394e+18</td>\n",
       "    </tr>\n",
       "    <tr>\n",
       "      <th>65</th>\n",
       "      <td>0.955580</td>\n",
       "      <td>0.582915</td>\n",
       "      <td>-0.846172</td>\n",
       "      <td>5.136509e+18</td>\n",
       "    </tr>\n",
       "    <tr>\n",
       "      <th>66</th>\n",
       "      <td>0.958526</td>\n",
       "      <td>0.584471</td>\n",
       "      <td>-0.848675</td>\n",
       "      <td>4.575104e+18</td>\n",
       "    </tr>\n",
       "  </tbody>\n",
       "</table>\n",
       "<p>67 rows × 4 columns</p>\n",
       "</div>"
      ],
      "text/plain": [
       "        dist         R         Z         Dense\n",
       "0  -0.887049  0.585937  0.851084  4.369019e+18\n",
       "1  -0.884002  0.584349  0.848484  4.841934e+18\n",
       "2  -0.879959  0.582209  0.845053  5.269189e+18\n",
       "3  -0.874901  0.579488  0.840789  5.590359e+18\n",
       "4  -0.868808  0.576156  0.835689  5.819136e+18\n",
       "..       ...       ...       ...           ...\n",
       "62  0.940511  0.574721 -0.833527  6.294196e+18\n",
       "63  0.946599  0.578076 -0.838608  6.008731e+18\n",
       "64  0.951615  0.580797 -0.842821  5.624394e+18\n",
       "65  0.955580  0.582915 -0.846172  5.136509e+18\n",
       "66  0.958526  0.584471 -0.848675  4.575104e+18\n",
       "\n",
       "[67 rows x 4 columns]"
      ]
     },
     "execution_count": 41,
     "metadata": {},
     "output_type": "execute_result"
    }
   ],
   "source": [
    "df"
   ]
  },
  {
   "cell_type": "code",
   "execution_count": 42,
   "metadata": {},
   "outputs": [
    {
     "data": {
      "text/plain": [
       "[<matplotlib.lines.Line2D at 0x20db89803a0>]"
      ]
     },
     "execution_count": 42,
     "metadata": {},
     "output_type": "execute_result"
    },
    {
     "data": {
      "image/png": "[encoded data removed]",
      "text/plain": [
       "<Figure size 640x480 with 1 Axes>"
      ]
     },
     "metadata": {},
     "output_type": "display_data"
    }
   ],
   "source": [
    "plt.plot(df[\"R\"], df[\"Z\"])\n"
   ]
  }
 ],
 "metadata": {
  "kernelspec": {
   "display_name": "Python 3.9.13 ('base')",
   "language": "python",
   "name": "python3"
  },
  "language_info": {
   "codemirror_mode": {
    "name": "ipython",
    "version": 3
   },
   "file_extension": ".py",
   "mimetype": "text/x-python",
   "name": "python",
   "nbconvert_exporter": "python",
   "pygments_lexer": "ipython3",
   "version": "3.10.11"
  },
  "orig_nbformat": 4,
  "vscode": {
   "interpreter": {
    "hash": "5d3028fb5fc7b0ce0999a527284344536284ceb78ab851f9ad8deb4f33e74dff"
   }
  }
 },
 "nbformat": 4,
 "nbformat_minor": 2
}
