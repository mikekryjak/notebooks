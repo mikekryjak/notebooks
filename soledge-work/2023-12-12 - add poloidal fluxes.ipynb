{
 "cells": [
  {
   "cell_type": "code",
   "execution_count": 1,
   "metadata": {},
   "outputs": [
    {
     "name": "stdout",
     "output_type": "stream",
     "text": [
      "\n",
      "st40_phys_viewer can not be loaded from outside Tokamak Energy!\n",
      "\n",
      "Done\n"
     ]
    }
   ],
   "source": [
    "from boututils.datafile import DataFile\n",
    "from boutdata.collect import collect\n",
    "import pandas as pd\n",
    "import numpy as np\n",
    "import matplotlib.pyplot as plt\n",
    "import os, sys, pathlib\n",
    "import platform\n",
    "import traceback\n",
    "import xarray\n",
    "import xbout\n",
    "import scipy\n",
    "import re\n",
    "import netCDF4 as nc\n",
    "\n",
    "onedrive_path = onedrive_path = str(os.getcwd()).split(\"OneDrive\")[0] + \"OneDrive\"\n",
    "sys.path.append(os.path.join(onedrive_path, r\"Project\\python-packages\\sdtools\"))\n",
    "sys.path.append(os.path.join(onedrive_path, r\"Project\\python-packages\\soledge\"))\n",
    "sys.path.append(os.path.join(onedrive_path, r\"Project\\python-packages\"))\n",
    "\n",
    "\n",
    "from gridtools.b2_tools import *\n",
    "from gridtools.utils import *\n",
    "\n",
    "from hermes3.fluxes import *\n",
    "from hermes3.case_db import *\n",
    "from hermes3.load import *\n",
    "from hermes3.named_selections import *\n",
    "from hermes3.plotting import *\n",
    "from hermes3.grid_fields import *\n",
    "from hermes3.accessors import *\n",
    "from hermes3.utils import *\n",
    "from code_comparison.viewer_2d import *\n",
    "from code_comparison.code_comparison import *\n",
    "from code_comparison.solps_pp import *\n",
    "\n",
    "from gridtools.solps_python_scripts.read_b2fgmtry import *\n",
    "\n",
    "\n",
    "%load_ext autoreload\n",
    "%autoreload 2\n",
    "%matplotlib inline\n",
    "\n",
    "print(\"Done\")"
   ]
  },
  {
   "cell_type": "code",
   "execution_count": 2,
   "metadata": {},
   "outputs": [],
   "source": [
    "path=os.path.join(r\"C:\\Users\\mikek\\OneDrive\\Project\\collab\\tech\\compare_data\\soledge_cases\\ST40_wallStd_bra_nocore_D_2e19\")"
   ]
  },
  {
   "cell_type": "code",
   "execution_count": 7,
   "metadata": {},
   "outputs": [
    {
     "name": "stderr",
     "output_type": "stream",
     "text": [
      "c:\\Users\\mikek\\OneDrive\\Project\\python-packages\\soledge\\routines\\h5_routines.py:65: FutureWarning: In the future `np.str` will be defined as the corresponding NumPy scalar.\n",
      "  Data = Data.astype(np.str)\n"
     ]
    }
   ],
   "source": [
    "self = SOLEDGEcase(path)"
   ]
  },
  {
   "cell_type": "code",
   "execution_count": 12,
   "metadata": {},
   "outputs": [],
   "source": [
    "from routines.globals\t\t\t\t\timport DEBUG, KB\n",
    "from files.load_fluxes_files\t\t\timport load_fluxes_files"
   ]
  },
  {
   "cell_type": "code",
   "execution_count": 9,
   "metadata": {},
   "outputs": [],
   "source": [
    "shading = 'gouraud'\n",
    "\n",
    "Config = self.Config\n",
    "Zones\t= Config.Zones\n",
    "nZones\t= len(Zones)\n",
    "RefPar = self.RefPar\n",
    "ions = self.ions\n",
    "d_only = 0\n",
    "\n",
    "if(d_only != 0): ions = ions[0:2]\n",
    "\n",
    "Titles \t= [[\"$\\Gamma_E\\ North\\ (MW/m^2)$\",\t\t\t\t\"$\\Gamma_E\\ South\\ (MW/m^2)$\",\t \t\t\t\"$\\Gamma_E\\ East\\ (MW/m^2)$\",  \t\t\t\"$\\Gamma_E\\ West\\ (MW/m^2)$\", \n",
    "            \"$\\Gamma_E\\ S-N\\ (MW/m^2)$\", \t\t\t\t\"$\\Gamma_E\\ W-E\\ (MW/m^2)$\", \t\t\t\t\"$\\Gamma_E\\ S-N+W-E\\ (MW/m^2)$\", \\\n",
    "            \"$\\Gamma_n\\ North\\ *10^{20}\\ m^{-2})$\", \t\"$\\Gamma_n\\ South\\ *10^{20}\\ m^{-2})$\",\t\"$\\Gamma_n\\ East\\ *10^{20}\\ m^{-2})$\",\t\"$\\Gamma_n\\ West\\ *10^{20}\\ m^{-2})$\", \n",
    "            \"$\\Gamma_n\\ S-N\\ (*10^{20}\\ m^{-2})$\",\t\t\"$\\Gamma_n\\ W-E\\ (*10^{20}\\ m^{-2})$\",\t\t\"$\\Gamma_n\\ S-N+W-E\\ (*10^{20}\\ m^{-2})$\"]]\n",
    "\n",
    "EFluxFact \t= 1e-6*KB*RefPar.n0*RefPar.c0*RefPar.T0*RefPar.rs0/(2*np.pi*RefPar.R0)\n",
    "nFluxFact \t= 1e-20*RefPar.n0*RefPar.c0*RefPar.rs0/(2*np.pi*RefPar.R0)\n",
    "FluxFacts\t= [[EFluxFact, EFluxFact, EFluxFact, EFluxFact, EFluxFact, EFluxFact, EFluxFact, nFluxFact, nFluxFact, nFluxFact, nFluxFact, nFluxFact, nFluxFact, nFluxFact]]\n",
    "\n",
    "iValues\t\t= [[0, 0, 0, 0, 0, 0, 0, 2, 2, 2, 2, 2, 2, 2]]\n",
    "iPars\t\t= [[0, 1, 2, 3,-1,-2,-3, 0, 1, 2, 3,-1,-2,-3]]\n",
    "PosPlots\t= [[0, 1, 2, 3, 4, 5, 6, 7, 8, 9,10,11,12,13]]\n",
    "\n",
    "if(len(ions) > 1):\n",
    "    for iPlasma in range(1,len(ions)):\n",
    "        Titles.append(Titles[0]) \n",
    "        iValues.append(iValues[0]) \n",
    "        iPars.append(iPars[0]) \n",
    "        FluxFacts.append(FluxFacts[0]) \n",
    "        PosPlots.append(PosPlots[0][:]) \t\t\t\t\t\t\t\t\t\t\t#[:] slice to force real copy\n",
    "        for i in range(len(PosPlots[-1])): PosPlots[-1][i] += PosPlots[-2][-1] + 1"
   ]
  },
  {
   "cell_type": "code",
   "execution_count": 27,
   "metadata": {},
   "outputs": [
    {
     "name": "stdout",
     "output_type": "stream",
     "text": [
      "load_fluxes_files: Loading from  C:\\Users\\mikek\\OneDrive\\Project\\collab\\tech\\compare_data\\soledge_cases\\ST40_wallStd_bra_nocore_D_2e19\\Results/fluxes_1\n"
     ]
    }
   ],
   "source": [
    "Fluxes = load_fluxes_files(os.path.join(path, \"Results\"), nZones=nZones, iFluxes = [iPlasma])\n",
    "\n",
    "Values = []\n",
    "for i in range(len(PosPlots[iPlasma])): \n",
    "    Values.append([])\n",
    "    for k in range(nZones):\n",
    "        if(iValues[iPlasma][i] > -1):\n",
    "            if(iPars[iPlasma][i] > -1):\n",
    "                Values[-1].append(Fluxes[0][k].Values[iValues[iPlasma][i]][:,:,iPars[iPlasma][i]])\n",
    "            elif(iPars[iPlasma][i] == -1):\n",
    "                Values[-1].append(Fluxes[0][k].Values[iValues[iPlasma][i]][:,:,1]-Fluxes[0][k].Values[iValues[iPlasma][i]][:,:,0])\t#S-N\n",
    "            elif(iPars[iPlasma][i] == -2):\n",
    "                Values[-1].append(Fluxes[0][k].Values[iValues[iPlasma][i]][:,:,3]-Fluxes[0][k].Values[iValues[iPlasma][i]][:,:,2])\t#W-E\n",
    "            elif(iPars[iPlasma][i] == -3):\n",
    "                Values[-1].append(Fluxes[0][k].Values[iValues[iPlasma][i]][:,:,1]-Fluxes[0][k].Values[iValues[iPlasma][i]][:,:,0]+Fluxes[0][k].Values[iValues[iPlasma][i]][:,:,3]-Fluxes[0][k].Values[iValues[iPlasma][i]][:,:,2]) #S-N+W-E\n",
    "\n"
   ]
  },
  {
   "cell_type": "code",
   "execution_count": 45,
   "metadata": {},
   "outputs": [
    {
     "data": {
      "text/plain": [
       "['$\\\\Gamma_E\\\\ North\\\\ (MW/m^2)$',\n",
       " '$\\\\Gamma_E\\\\ South\\\\ (MW/m^2)$',\n",
       " '$\\\\Gamma_E\\\\ East\\\\ (MW/m^2)$',\n",
       " '$\\\\Gamma_E\\\\ West\\\\ (MW/m^2)$',\n",
       " '$\\\\Gamma_E\\\\ S-N\\\\ (MW/m^2)$',\n",
       " '$\\\\Gamma_E\\\\ W-E\\\\ (MW/m^2)$',\n",
       " '$\\\\Gamma_E\\\\ S-N+W-E\\\\ (MW/m^2)$',\n",
       " '$\\\\Gamma_n\\\\ North\\\\ *10^{20}\\\\ m^{-2})$',\n",
       " '$\\\\Gamma_n\\\\ South\\\\ *10^{20}\\\\ m^{-2})$',\n",
       " '$\\\\Gamma_n\\\\ East\\\\ *10^{20}\\\\ m^{-2})$',\n",
       " '$\\\\Gamma_n\\\\ West\\\\ *10^{20}\\\\ m^{-2})$',\n",
       " '$\\\\Gamma_n\\\\ S-N\\\\ (*10^{20}\\\\ m^{-2})$',\n",
       " '$\\\\Gamma_n\\\\ W-E\\\\ (*10^{20}\\\\ m^{-2})$',\n",
       " '$\\\\Gamma_n\\\\ S-N+W-E\\\\ (*10^{20}\\\\ m^{-2})$']"
      ]
     },
     "execution_count": 45,
     "metadata": {},
     "output_type": "execute_result"
    }
   ],
   "source": [
    "Titles[0]"
   ]
  },
  {
   "cell_type": "code",
   "execution_count": 33,
   "metadata": {},
   "outputs": [
    {
     "data": {
      "text/plain": [
       "9"
      ]
     },
     "execution_count": 33,
     "metadata": {},
     "output_type": "execute_result"
    }
   ],
   "source": [
    "len(Values[0][0])"
   ]
  }
 ],
 "metadata": {
  "kernelspec": {
   "display_name": "Python 3.9.13 ('base')",
   "language": "python",
   "name": "python3"
  },
  "language_info": {
   "codemirror_mode": {
    "name": "ipython",
    "version": 3
   },
   "file_extension": ".py",
   "mimetype": "text/x-python",
   "name": "python",
   "nbconvert_exporter": "python",
   "pygments_lexer": "ipython3",
   "version": "3.10.11"
  },
  "orig_nbformat": 4,
  "vscode": {
   "interpreter": {
    "hash": "5d3028fb5fc7b0ce0999a527284344536284ceb78ab851f9ad8deb4f33e74dff"
   }
  }
 },
 "nbformat": 4,
 "nbformat_minor": 2
}
