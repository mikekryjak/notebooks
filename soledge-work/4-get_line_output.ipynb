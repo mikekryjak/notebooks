{
 "cells": [
  {
   "cell_type": "code",
   "execution_count": 1,
   "metadata": {},
   "outputs": [
    {
     "name": "stdout",
     "output_type": "stream",
     "text": [
      "\n",
      "st40_phys_viewer can not be loaded from outside Tokamak Energy!\n",
      "\n",
      "Done\n"
     ]
    }
   ],
   "source": [
    "from boututils.datafile import DataFile\n",
    "from boutdata.collect import collect\n",
    "import pandas as pd\n",
    "import numpy as np\n",
    "import matplotlib.pyplot as plt\n",
    "import os, sys, pathlib\n",
    "import platform\n",
    "import traceback\n",
    "import xarray\n",
    "import xbout\n",
    "import scipy\n",
    "import re\n",
    "import netCDF4 as nc\n",
    "\n",
    "onedrive_path = onedrive_path = str(os.getcwd()).split(\"OneDrive\")[0] + \"OneDrive\"\n",
    "sys.path.append(os.path.join(onedrive_path, r\"Project\\python-packages\\sdtools\"))\n",
    "sys.path.append(os.path.join(onedrive_path, r\"Project\\python-packages\\soledge\"))\n",
    "sys.path.append(os.path.join(onedrive_path, r\"Project\\python-packages\"))\n",
    "\n",
    "\n",
    "from gridtools.b2_tools import *\n",
    "from gridtools.utils import *\n",
    "\n",
    "from hermes3.fluxes import *\n",
    "from hermes3.case_db import *\n",
    "from hermes3.load import *\n",
    "from hermes3.named_selections import *\n",
    "from hermes3.plotting import *\n",
    "from hermes3.grid_fields import *\n",
    "from hermes3.accessors import *\n",
    "from hermes3.utils import *\n",
    "from code_comparison.viewer_2d import *\n",
    "from code_comparison.code_comparison import *\n",
    "\n",
    "from gridtools.solps_python_scripts.read_b2fgmtry import *\n",
    "\n",
    "from soledge.mk_funcs import *\n",
    "\n",
    "%load_ext autoreload\n",
    "%autoreload 2\n",
    "%matplotlib inline\n",
    "\n",
    "print(\"Done\")"
   ]
  },
  {
   "cell_type": "code",
   "execution_count": 29,
   "metadata": {},
   "outputs": [
    {
     "name": "stdout",
     "output_type": "stream",
     "text": [
      "b2fgmtry loaded from .pkl\n",
      "b2fgmtry loaded from .pkl\n",
      "plot1d_wall_fluxes\n",
      "load_eirene_triangles: reading file  c:\\Users\\mikek\\OneDrive\\Project\\collab\\tech\\compare_data\\run_directory\\triangles.h5\n",
      "wall_segments\n",
      "wall_segments: completed\n",
      "\th5_read: error reading:  /walls_eirene_external/nExtWalls\n",
      "\th5_read: error reading:  surfaces/nSurfaces\n",
      "load_eirene_triangles: Completed\n",
      "get_wall_triangle\n",
      "get_wall_triangles\n",
      "get_wall_triangles.2: Completed\n",
      "get_wall_triangle: Completed\n",
      "TFluxEe       = 0.6168930615045548\n",
      "TFluxEi       = 0.6903952429611567\n",
      "TFluxETot     = 1.5904124434022942\n",
      "TFluxERadTot  = 0.02211827896714441\n",
      "TFluxi        = 1.9502165113161627e+22\n",
      "TfluxD         = 4.064725400006821e+22\n",
      "TfluxD_2       = 2.1232080600222463e+22\n",
      "plot1d_wall_fluxes: Completed\n"
     ]
    }
   ],
   "source": [
    "wfluxes, wfluxes_integral = get_soledge_wall_fluxes(\n",
    "    path_solps = os.path.join(onedrive_path, r\"Project\\collab\\tech\\compare_data\\HERMES_SOLEDGE.S33600_Tamb_case.SEE=0.BGK=OFF.SOLEDGE.reactions.input.dat.OK.Js=OFF.GAMMAE=4.5.eirene_ionising_core=0.BCCON=16\"),\n",
    "    path_soledge = os.path.join(onedrive_path, r\"Project\\collab\\tech\\compare_data\\run_directory\"),\n",
    "    plot = False\n",
    ")"
   ]
  },
  {
   "cell_type": "code",
   "execution_count": 30,
   "metadata": {},
   "outputs": [],
   "source": [
    "soledge = SOLEDGEdata()\n",
    "soledge.read_csv(r\"C:\\Users\\mikek\\OneDrive\\Project\\collab\\From\\Luca\\15-12-2022\\To_Mike\\plot1d_no_curr.csv\", mode = \"plot1d_omp\")\n",
    "soledge.read_csv(r\"C:\\Users\\mikek\\OneDrive\\Project\\collab\\From\\Luca\\2023-02-21 - IMP profiles\\plot1d_hfs_meters.csv\", mode = \"plot1d_imp\")\n",
    "soledge.read_csv(r\"C:\\Users\\mikek\\OneDrive\\Project\\collab\\From\\Luca\\15-12-2022\\To_Mike\\wall_ntmpi_no_curr.csv\", mode = \"wall_ntmpi\")"
   ]
  },
  {
   "cell_type": "code",
   "execution_count": null,
   "metadata": {},
   "outputs": [],
   "source": []
  }
 ],
 "metadata": {
  "kernelspec": {
   "display_name": "Python 3.9.13 ('base')",
   "language": "python",
   "name": "python3"
  },
  "language_info": {
   "codemirror_mode": {
    "name": "ipython",
    "version": 3
   },
   "file_extension": ".py",
   "mimetype": "text/x-python",
   "name": "python",
   "nbconvert_exporter": "python",
   "pygments_lexer": "ipython3",
   "version": "3.10.9"
  },
  "orig_nbformat": 4,
  "vscode": {
   "interpreter": {
    "hash": "5d3028fb5fc7b0ce0999a527284344536284ceb78ab851f9ad8deb4f33e74dff"
   }
  }
 },
 "nbformat": 4,
 "nbformat_minor": 2
}
