{
 "cells": [
  {
   "cell_type": "code",
   "execution_count": 1,
   "metadata": {},
   "outputs": [
    {
     "name": "stdout",
     "output_type": "stream",
     "text": [
      "\n",
      "st40_phys_viewer can not be loaded from outside Tokamak Energy!\n",
      "\n",
      "Done\n"
     ]
    }
   ],
   "source": [
    "\n",
    "%matplotlib inline\n",
    "\n",
    "from boututils.datafile import DataFile\n",
    "from boutdata.collect import collect\n",
    "import pandas as pd\n",
    "import numpy as np\n",
    "import matplotlib.pyplot as plt\n",
    "import os, sys, pathlib\n",
    "import platform\n",
    "import traceback\n",
    "import xarray\n",
    "import xbout\n",
    "import scipy\n",
    "import re\n",
    "\n",
    "onedrive_path = onedrive_path = str(os.getcwd()).split(\"OneDrive\")[0] + \"OneDrive\"\n",
    "sys.path.append(os.path.join(onedrive_path, r\"Project\\python-packages\\sdtools\"))\n",
    "sys.path.append(os.path.join(onedrive_path, r\"Project\\python-packages\\soledge\"))\n",
    "sys.path.append(os.path.join(onedrive_path, r\"Project\\python-packages\"))\n",
    "\n",
    "\n",
    "from gridtools.b2_tools import *\n",
    "from gridtools.utils import *\n",
    "\n",
    "from hermes3.fluxes import *\n",
    "from hermes3.case_db import *\n",
    "from hermes3.load import *\n",
    "from hermes3.named_selections import *\n",
    "from hermes3.plotting import *\n",
    "from hermes3.grid_fields import *\n",
    "from hermes3.accessors import *\n",
    "from hermes3.utils import *\n",
    "from code_comparison.code_comparison import *\n",
    "\n",
    "\n",
    "%load_ext autoreload\n",
    "%autoreload 2\n",
    "%matplotlib tk\n",
    "\n",
    "print(\"Done\")"
   ]
  },
  {
   "cell_type": "code",
   "execution_count": 2,
   "metadata": {},
   "outputs": [],
   "source": [
    "\n",
    "import h5py\n",
    "import os\n",
    "import numpy\t\t\t\t\t\t\t\t\t\t\tas np\n",
    "import matplotlib\n",
    "import matplotlib.pyplot\t\t\t\t\t\t\tas pyp\n",
    "from matplotlib.backends.backend_pdf\timport PdfPages\n",
    "from eirene.get_wall_triangle\t\t\t\t\timport get_wall_triangle\n",
    "from routines.h5_routines\t\t\t\t\t\t\timport h5_read\n",
    "from files.load_refpar_file\t\t\t\t\t\t\timport load_refpar_file\n",
    "from files.load_ions_list\t\t\t\t\t\t\t\timport load_ions_list\n",
    "from files.load_soledge_mesh_file\t\t\t\timport load_soledge_mesh_file\n",
    "from files.load_eirene_triangles\t\t\t\t\timport load_eirene_triangles"
   ]
  },
  {
   "cell_type": "code",
   "execution_count": 12,
   "metadata": {},
   "outputs": [],
   "source": [
    "path=os.path.join(onedrive_path, r\"Project\\collab\\tech\\compare_data\\soledge_cases\\copy_wallStd_bra_nocore_D\")\n",
    "rz0_line = [0.,0.]\n",
    "theta_line=0.\n",
    "log_scale=0\n",
    "one_plot=0\n",
    "exp = []\n",
    "evolution = 0\n",
    "save=\"none\""
   ]
  },
  {
   "cell_type": "code",
   "execution_count": 14,
   "metadata": {},
   "outputs": [
    {
     "name": "stdout",
     "output_type": "stream",
     "text": [
      "plot1d_wall_ntmpi\n",
      "load_eirene_triangles: reading file  c:\\Users\\Mike.Kryajak\\OneDrive\\Project\\collab\\tech\\compare_data\\soledge_cases\\copy_wallStd_bra_nocore_D\\triangles.h5\n",
      "wall_segments\n",
      "wall_segments: completed\n",
      "\th5_read: error reading:  /walls_eirene_external/nExtWalls\n",
      "\th5_read: error reading:  surfaces/nSurfaces\n",
      "load_eirene_triangles: Completed\n",
      "get_wall_triangle\n",
      "get_wall_triangles\n",
      "get_wall_triangles.2: Completed\n",
      "get_wall_triangle: Completed\n"
     ]
    }
   ],
   "source": [
    "print(\"plot1d_wall_ntmpi\")\n",
    "\n",
    "Eirene = load_eirene_triangles(os.path.join(path, \"triangles.h5\"))\n",
    "\n",
    "i_plot_file = 0\n",
    "\n",
    "exp_data_ok = False\n",
    "if((len(exp) > 0) and (shot > 0) and (time > 0)):\n",
    "    exp_data = load_exp_data(exp, shot, time)\n",
    "    if(exp_data.lp.ok): exp_data_ok = True\n",
    "\n",
    "#\tFind wall intersection along line\n",
    "\n",
    "ZeroTriangle, ZeroSide, Ri, Zi, RWallTriangles, ZWallTriangles, iWallTriangles, iWallSide, iWallKnots  = \\\n",
    "            get_wall_triangle(Eirene, rz0_line=rz0_line, theta_line=theta_line, no_plot=1, no_print=1, no_triangles=0)\n",
    "\n",
    "RWallTriangles = np.append(RWallTriangles, RWallTriangles[0])\n",
    "ZWallTriangles = np.append(ZWallTriangles, ZWallTriangles[0])\n",
    "iWallKnots\t   = np.append(iWallKnots, iWallKnots[0])\n",
    "\n",
    "WalldL  \t   = np.sqrt((RWallTriangles[1:]-RWallTriangles[:-1])**2 + (ZWallTriangles[1:]-ZWallTriangles[:-1])**2)\n",
    "DistKnots\t   = np.cumsum(np.append(0., WalldL))\n",
    "DistTriangles  = 0.5*(DistKnots[:-1]+DistKnots[1:])\n",
    "\n",
    "\n",
    "#\tRead references data\n",
    "\n",
    "RefPar = load_refpar_file(os.path.join(path, \"Results\"))\n",
    "\n",
    "if(evolution == 0):\n",
    "    base_plasma_name = os.path.join(path, \"Results/\")\n",
    "else:\n",
    "    base_plasma_name = os.path.join(path, \"/Evolution/{:d}_\".format(evolution))\n",
    "\n",
    "if_plasma\t= h5py.File(os.path.join(base_plasma_name, \"plasma_0\"), \"r\")\n",
    "Te\t\t\t= h5_read(if_plasma,\"triangles/temperature\")*RefPar.T0eV\n",
    "if_plasma.close()\n",
    "\n",
    "if_plasma\t= h5py.File(os.path.join(base_plasma_name, \"plasma_1\"), \"r\")\n",
    "Ti\t\t\t= h5_read(if_plasma,\"triangles/temperature\")*RefPar.T0eV\n",
    "if_plasma.close()\n",
    "\n",
    "Te \t= Te[iWallKnots]\n",
    "Ti \t= Ti[iWallKnots]\n",
    "\n",
    "ions = load_ions_list(path)"
   ]
  },
  {
   "cell_type": "code",
   "execution_count": 22,
   "metadata": {},
   "outputs": [
    {
     "data": {
      "text/plain": [
       "'c:\\\\Users\\\\Mike.Kryajak\\\\OneDrive\\\\Project\\\\collab\\\\tech\\\\compare_data\\\\soledge_cases\\\\copy_wallStd_bra_nocore_D\\\\Results/'"
      ]
     },
     "execution_count": 22,
     "metadata": {},
     "output_type": "execute_result"
    }
   ],
   "source": [
    "base_plasma_name"
   ]
  },
  {
   "cell_type": "code",
   "execution_count": 23,
   "metadata": {},
   "outputs": [
    {
     "data": {
      "text/plain": [
       "<Closed HDF5 file>"
      ]
     },
     "execution_count": 23,
     "metadata": {},
     "output_type": "execute_result"
    }
   ],
   "source": [
    "if_plasma"
   ]
  },
  {
   "cell_type": "code",
   "execution_count": 44,
   "metadata": {},
   "outputs": [],
   "source": [
    "iPlasma = 1\n",
    "if_plasma\t= h5py.File(os.path.join(path, f\"Results/plasma_{iPlasma}\"), \"r\")"
   ]
  },
  {
   "cell_type": "code",
   "execution_count": 61,
   "metadata": {},
   "outputs": [
    {
     "data": {
      "text/plain": [
       "array([0.03548534])"
      ]
     },
     "execution_count": 61,
     "metadata": {},
     "output_type": "execute_result"
    }
   ],
   "source": [
    "if_plasma[\"tempus\"][:]"
   ]
  },
  {
   "cell_type": "code",
   "execution_count": 43,
   "metadata": {},
   "outputs": [
    {
     "data": {
      "text/plain": [
       "['e-', 'D1+']"
      ]
     },
     "execution_count": 43,
     "metadata": {},
     "output_type": "execute_result"
    }
   ],
   "source": [
    "ions"
   ]
  },
  {
   "cell_type": "code",
   "execution_count": 41,
   "metadata": {},
   "outputs": [
    {
     "name": "stdout",
     "output_type": "stream",
     "text": [
      "plot1d_wall_ntmpi: Sn is not available\n",
      "\th5_read: error reading:  triangles/Nn\n",
      "plot1d_wall_ntmpi: Nn is not available\n"
     ]
    }
   ],
   "source": [
    "for iPlasma in range(len(ions)):\n",
    "    try:\n",
    "        if_plasma\t= h5py.File(os.path.join(path, f\"Results/plasma_{iPlasma}\"), \"r\")\n",
    "    except:\n",
    "        print(f\"Cannot read plasma file for {ions[iPlasma]}\")\n",
    "        break\n",
    "\n",
    "    temperature\t= h5_read(if_plasma,\"triangles/temperature\")*RefPar.T0eV\n",
    "    density\t\t= h5_read(if_plasma,\"triangles/density\")*RefPar.n0\n",
    "    velocity\t= h5_read(if_plasma,\"triangles/velocity\")*RefPar.c0\n",
    "\n",
    "    temperature = temperature[iWallKnots]\n",
    "    density \t= density[iWallKnots]\n",
    "    velocity \t= velocity[iWallKnots]\n",
    "\n",
    "    Jsat\t\t= np.abs(1.6022e-19*velocity*density)*1e-3\t\t\t\t\t\t\t\t\t\t\t#eletronic charge\n",
    "\n",
    "    M\t\t\t= velocity/np.sqrt((Te+Ti)/2)*(np.sqrt(RefPar.T0eV)/RefPar.c0)\t\t\t\t\t\t\t\t\t\t#warning m_i = 2 for deuterium\n",
    "    \n",
    "    if(iPlasma > 0):\n",
    "        \n",
    "        try:\n",
    "            Sn_tri\t= h5_read(if_plasma,\"triangles/Sn\")*RefPar.n0/RefPar.tau0\n",
    "            if(Sn_tri.max() - Sn_tri.min() > 0.):\n",
    "                Sn_tri = set_min_positive(Sn_tri)\n",
    "                Sn\t   = Sn_tri[iWallTriangles]\n",
    "                Sn\t   = 0.5*np.append(np.append(Sn[0]+Sn[-1], Sn[:-1]+Sn[1:]), Sn[0]+Sn[-1])\n",
    "#\t\t\t\t\tprint(\"Sn.min(), Sn.max()\",Sn.min(), Sn.max())\n",
    "            else: Sn = 0.\n",
    "            Sn_tri = 0\n",
    "#\t\t\t\tSn\t= -h5_read(if_plasma,\"triangles/Sn\")*RefPar.n0/RefPar.tau0\t\t\t\t\t\t\t\t\t#recombination\n",
    "        except:\n",
    "            print(\"plot1d_wall_ntmpi: Sn is not available\")\n",
    "            Sn  = 0.\n",
    "\n",
    "        try:\n",
    "            Nn\t= h5_read(if_plasma,\"triangles/Nn\")\n",
    "            Nm\t= h5_read(if_plasma,\"triangles/Nm\")\n",
    "            Tn\t= h5_read(if_plasma,\"triangles/Tn\")\n",
    "            Tm\t= h5_read(if_plasma,\"triangles/Tm\")\n",
    "            \n",
    "            Nn = Nn[iWallTriangles]\n",
    "            Nm = Nm[iWallTriangles]\n",
    "            Tn = Tn[iWallTriangles]\n",
    "            Tm = Tm[iWallTriangles]\n",
    "            \n",
    "            \n",
    "\n",
    "            Tn = set_min_positive(Tn)\n",
    "            Tm = set_min_positive(Tm)\n",
    "            Nn\t= 0.5*np.append(np.append(Nn[0]+Nn[-1], Nn[:-1]+Nn[1:]), Nn[0]+Nn[-1])*RefPar.n0\n",
    "            Nm\t= 0.5*np.append(np.append(Nm[0]+Nm[-1], Nm[:-1]+Nm[1:]), Nm[0]+Nm[-1])*RefPar.n0\n",
    "            Tn\t= 0.5*np.append(np.append(Tn[0]+Tn[-1], Tn[:-1]+Tn[1:]), Tn[0]+Tn[-1])\n",
    "            Tm\t= 0.5*np.append(np.append(Tm[0]+Tm[-1], Tm[:-1]+Tm[1:]), Tm[0]+Tm[-1])\n",
    "\n",
    "            Pn\t= (Nn*Tn+Nm*Tm)*1.6e-19\n",
    "#\t\t\t\tPn\t= 0.5*np.append(np.append(Pn[0]+Pn[-1], Pn[:-1]+Pn[1:]), Pn[0]+Pn[-1])\n",
    "\n",
    "#\t\t\t\tNn\t= 0.; Nm = 0.; Tn = 0.; Tm\t= 0.\n",
    "            if(Pn.max() - Pn.min() < 0.): Pn = 0.\n",
    "        except:\n",
    "            print(\"plot1d_wall_ntmpi: Nn is not available\")\n",
    "            Pn  = 0.\n",
    "    else:\n",
    "        Sn\t= 0.; Pn\t= 0.\n",
    "\n",
    "    if_plasma.close()"
   ]
  },
  {
   "cell_type": "code",
   "execution_count": 42,
   "metadata": {},
   "outputs": [
    {
     "ename": "NameError",
     "evalue": "name 'Tn' is not defined",
     "output_type": "error",
     "traceback": [
      "\u001b[1;31m---------------------------------------------------------------------------\u001b[0m",
      "\u001b[1;31mNameError\u001b[0m                                 Traceback (most recent call last)",
      "Cell \u001b[1;32mIn[42], line 1\u001b[0m\n\u001b[1;32m----> 1\u001b[0m Tn\n",
      "\u001b[1;31mNameError\u001b[0m: name 'Tn' is not defined"
     ]
    }
   ],
   "source": [
    "Tn"
   ]
  },
  {
   "cell_type": "code",
   "execution_count": 25,
   "metadata": {},
   "outputs": [],
   "source": [
    "#\t\tSkip Phi\n",
    "phi = 0.\n",
    "\"\"\"\n",
    "try:\n",
    "    if_ef\t= h5py.File(str(path)+\"/Results/electric_fields\", \"r\")\n",
    "    phi\t\t= h5_read(if_ef,\"/triangles/phi\")\n",
    "    if_ef.close()\n",
    "    phi = phi[iWallKnots]\n",
    "except:\n",
    "    phi\t\t= 0.\n",
    "\"\"\"\n",
    "Fig = []\n",
    "Ax  = []\n",
    "\n",
    "yLabels     = [\"$n\\/(*10^{19}\\/m^{-3})$\",\t  \"$T\\/(eV)$\",\t \"$J_{sat}\\/(kAm^{-2})$\",\t\"$Mach\\/number$\"]\n",
    "yLogLabels  = [\"$Ln(n)\\/(*10^{19}\\/m^{-3})$\",  \"$Ln(T)\\/(eV)$\", \"$Ln(J_{sat})\\/(kAm^{-2})$\", \"$Mach\\/number$\"]\n",
    "\n",
    "if(isinstance(Sn, np.ndarray)):\n",
    "    yLabels.append(\"$Ioniz.\\/(\"+ions[iPlasma][:-2]+\")$\")\n",
    "    yLogLabels.append(\"$Ln(Ioniz.)$\")\n",
    "\n",
    "if(isinstance(Pn, np.ndarray)):\n",
    "    yLabels.append(\"$n_A\\ &\\ n_M\\ (*10^{19}\\ m^{-3})$\")\n",
    "    yLogLabels.append(\"$Ln(n)$\")\n",
    "    yLabels.append(\"$T_A\\ &\\ T_M\\ (K)$\")\n",
    "    yLogLabels.append(\"$Ln(T)$\")\n",
    "    yLabels.append(\"$P_A+P_m\\ (Pa)$\")\n",
    "    yLogLabels.append(\"$Ln(P)$\")\n",
    "if(isinstance(phi, np.ndarray)):\n",
    "    yLabels.append(\"Phi\")\n",
    "    yLogLabels.append(\"Ln(Phi)\")\n",
    "\n",
    "if(one_plot != 1):\n",
    "    Fig.append(pyp.figure())\n",
    "    for i in range(4): Ax.append(Fig[0].add_subplot(2,2,i+1))\n",
    "    Fig[-1].tight_layout()\n",
    "\n",
    "    if(len(yLabels) > 4):\n",
    "        Fig.append(pyp.figure())\n",
    "        for i in range(len(yLabels)-4): Ax.append(Fig[1].add_subplot(2,2,i+1))\n",
    "        Fig[-1].tight_layout()\n",
    "else:\n",
    "    for i in range(len(yLabels)):\n",
    "        Fig.append(pyp.figure())\n",
    "        Ax.append(Fig[i].add_subplot(111))\n",
    "\n",
    "for figure in Fig:  figure.patch.set_facecolor('white')\n",
    "\n",
    "Ax[0].set_title(os.path.basename(os.path.abspath(path))+\" @ t={:.3f} s\".format(RefPar.time))\n",
    "Ax[1].set_title(ions[iPlasma])\n",
    "\n",
    "for i in range(len(yLabels)):\n",
    "    Ax[i].autoscale(enable=True, axis='both', tight=True)\n",
    "    Ax[i].set_xlabel(\"$l\\ (m)$\")\n",
    "    if(log_scale == 0):\n",
    "        Ax[i].set_ylabel(yLabels[i])\n",
    "        Ax[i].set_yscale('linear')\n",
    "    else:\n",
    "        Ax[i].set_ylabel(yLogLabels[i])\n",
    "        Ax[i].set_yscale('log')\n",
    "\n",
    "#\t\t\tAx[i].set_axis_bgcolor(\"#bdb76b\")"
   ]
  },
  {
   "cell_type": "code",
   "execution_count": null,
   "metadata": {},
   "outputs": [],
   "source": []
  },
  {
   "cell_type": "code",
   "execution_count": 26,
   "metadata": {},
   "outputs": [
    {
     "name": "stdout",
     "output_type": "stream",
     "text": [
      "plot1d_wall_ntmpi: Completed\n"
     ]
    }
   ],
   "source": [
    "#\tPlot parameters\n",
    "\n",
    "pl = []\n",
    "\n",
    "pl.append(Ax[len(pl)].plot(DistKnots,  density*1e-19,  'b-'))\n",
    "\n",
    "pl.append(Ax[len(pl)].plot(DistKnots,  temperature,  'b-'))\t\n",
    "\n",
    "pl.append(Ax[len(pl)].plot(DistKnots,  Jsat,  'b-'))\n",
    "\n",
    "pl.append(Ax[len(pl)].plot(DistKnots, M,  'b-'))\n",
    "if(exp_data_ok and (iPlasma == 0)):\n",
    "    Ax[0].plot(exp_data.lp.pos_l,  exp_data.lp.dens*1e-19, 'ro')\n",
    "    Ax[1].plot(exp_data.lp.pos_l,  exp_data.lp.te,   'ro')\n",
    "    Ax[2].plot(exp_data.lp.pos_l,  exp_data.lp.jsat*1e-3, 'ro')\n",
    "\n",
    "if(save == \"csv\"):\n",
    "    if(iPlasma == 0): \n",
    "        file_header = \"l (m)\" \n",
    "        file_data\t= [DistKnots]\n",
    "\n",
    "    file_data.extend([density*1e-19, temperature, Jsat*1e-3, M])\n",
    "    if(iPlasma == 0):\n",
    "        file_header = file_header + \", ne (*10^19 m-3), Te (eV), Jsat_e (kA/m^2), Mach_e\"\n",
    "    else:\n",
    "        file_header = file_header + \", ni (*10^19 m-3), Ti (eV), Jsat_i (kA/m^2), Mach_i\"\n",
    "\n",
    "if(isinstance(Sn, np.ndarray)):\n",
    "    Sn = np.where(Sn > 0.1,Sn, 0.1)\n",
    "    pl.append(Ax[len(pl)].plot(DistKnots,  Sn,  'b-'))\n",
    "    if(save == \"csv\"):\n",
    "        file_data.append(Sn)\n",
    "        file_header = file_header + ', Ioniz_'+ions[iPlasma][:-2]\n",
    "\n",
    "if(isinstance(Pn, np.ndarray)):\n",
    "    Pn = np.where(Pn > 0.1,Pn, 0.1)\n",
    "    pl.append(Ax[len(pl)].plot(DistKnots,  Nn*1e-19,  'b-'))\n",
    "    Ax[len(pl)-1].plot(DistKnots,  Nm*1e-19,  'g-')\n",
    "    pl.append(Ax[len(pl)].plot(DistKnots,  Tn*1.1604e4,  'b-'))\n",
    "    Ax[len(pl)-1].plot(DistKnots,  Tm*1.1604e4,  'g-')\n",
    "    pl.append(Ax[len(pl)].plot(DistKnots,  Pn,  'b-'))\n",
    "    if(save == \"csv\"):\n",
    "        file_data.extend([Nn, Tn, Pn])\n",
    "        file_header = file_header + ', n_'+ions[iPlasma][:-2]+ ' (*10^19 m-3), \"T_'+ions[iPlasma][:-2] + ' (eV), P_'+ions[iPlasma][:-2]+\" (Pa)\"\n",
    "\n",
    "if(isinstance(phi, np.ndarray)):\n",
    "    pl.append(Ax[len(pl)].plot(DistKnots,  phi,  'b-'))\n",
    "    if(save == \"csv\"):\n",
    "        file_data.append(Phi)\n",
    "        file_header = file_header + ', Phi_'+ions[iPlasma][:-2]\n",
    "\n",
    "if(save != \"none\"):\n",
    "    if(save == \"csv\"):\n",
    "        np.savetxt(\"wall_ntmpi_{:s}_t={:.3f}.csv\".format(os.path.basename(os.path.abspath(path)),RefPar.time), np.array(file_data).T, delimiter=\", \", fmt=\"%.4e\", header= file_header, comments='')\n",
    "        \n",
    "    else:\n",
    "        for i in range(len(Fig)):\n",
    "            i_plot_file += 1\n",
    "            if(one_plot != 1): Fig[i].set_size_inches(20.,15.)\n",
    "            if(save == \"pdf\"):\n",
    "                pdf.savefig(Fig[i])\n",
    "            else:\n",
    "                Fig[i].savefig(\"plot1d_wall_ntmpi_t={:.3f}_{:d}.\".format(RefPar.time,i_plot_file)+save)\n",
    "\n",
    "    pyp.show(block=False)\n",
    "    pyp.close()\n",
    "else:\n",
    "    pyp.show()\n",
    "\n",
    "if(save == \"pdf\"):\tpdf.close()\n",
    "\n",
    "print(\"plot1d_wall_ntmpi: Completed\")"
   ]
  }
 ],
 "metadata": {
  "kernelspec": {
   "display_name": "Python 3.9.13 ('base')",
   "language": "python",
   "name": "python3"
  },
  "language_info": {
   "codemirror_mode": {
    "name": "ipython",
    "version": 3
   },
   "file_extension": ".py",
   "mimetype": "text/x-python",
   "name": "python",
   "nbconvert_exporter": "python",
   "pygments_lexer": "ipython3",
   "version": "3.10.11"
  },
  "orig_nbformat": 4,
  "vscode": {
   "interpreter": {
    "hash": "5d3028fb5fc7b0ce0999a527284344536284ceb78ab851f9ad8deb4f33e74dff"
   }
  }
 },
 "nbformat": 4,
 "nbformat_minor": 2
}
