{
 "cells": [
  {
   "cell_type": "code",
   "execution_count": 1,
   "metadata": {},
   "outputs": [
    {
     "name": "stdout",
     "output_type": "stream",
     "text": [
      "\n",
      "st40_phys_viewer can not be loaded from outside Tokamak Energy!\n",
      "\n",
      "Done\n"
     ]
    }
   ],
   "source": [
    "onedrive = r\"C:\\Users\\mikek\\OneDrive\"\n",
    "# %matplotlib ipympl\n",
    "# %matplotlib qt\n",
    "# %matplotlib widget\n",
    "%matplotlib inline\n",
    "\n",
    "from boututils.datafile import DataFile\n",
    "from boutdata.collect import collect\n",
    "import pandas as pd\n",
    "import numpy as np\n",
    "import matplotlib.pyplot as plt\n",
    "import os, sys, pathlib\n",
    "import platform\n",
    "import traceback\n",
    "import xarray\n",
    "import xbout\n",
    "import scipy\n",
    "import re\n",
    "\n",
    "# sys.path.append(r\"C:\\Users\\Mike\\OneDrive\\Project\\sdtools\")\n",
    "sys.path.append(os.path.join(onedrive,r\"Project\\python-packages\\sdtools\"))\n",
    "sys.path.append(r'C:\\Users\\mikek\\OneDrive\\Project\\python-packages')\n",
    "\n",
    "\n",
    "from gridtools.hypnotoad_tools import *\n",
    "from gridtools.b2_tools import *\n",
    "from gridtools.utils import *\n",
    "\n",
    "from hermes3.fluxes import *\n",
    "from hermes3.case_db import *\n",
    "from hermes3.load import *\n",
    "from hermes3.named_selections import *\n",
    "from hermes3.plotting import *\n",
    "from hermes3.grid_fields import *\n",
    "from hermes3.accessors import *\n",
    "from hermes3.utils import *\n",
    "from code_comparison.code_comparison import *\n",
    "\n",
    "\n",
    "%load_ext autoreload\n",
    "%autoreload 2\n",
    "%matplotlib tk\n",
    "\n",
    "print(\"Done\")"
   ]
  },
  {
   "cell_type": "code",
   "execution_count": 2,
   "metadata": {},
   "outputs": [],
   "source": [
    "path = r\"C:\\Users\\mikek\\OneDrive\\Project\\collab\\tech\\compare_data\\run_directory\""
   ]
  },
  {
   "cell_type": "code",
   "execution_count": 3,
   "metadata": {},
   "outputs": [],
   "source": [
    "sys.path.append(r\"C:\\Users\\mikek\\OneDrive\\Project\\python-packages\\soledge\")\n",
    "import types\n",
    "import os\n",
    "import h5py\n",
    "from math\t\t\t\t\t\t\t\t\t\t\t\t\timport sqrt, exp\n",
    "import numpy\t\t\t\t\t\t\t\t\t\t\tas np\n",
    "import matplotlib\n",
    "matplotlib.use('TkAgg')\n",
    "import matplotlib.pyplot\t\t\t\t\t\t\tas pyp\n",
    "from matplotlib.backends.backend_pdf\timport PdfPages\n",
    "\n",
    "from routines.h5_routines\t\t\t\t\t\t\timport h5_read\n",
    "from routines.intersect_contour\t\t\t\timport intersect_2contours\n",
    "from routines.utils_walls\t\t\t\t\t\t\timport get_in_out_walls, plot2d_walls, get_dmax_points_walls\n",
    "from routines.set_profile_from_filedata\timport set_profile_from_filedata\n",
    "from routines.exp_data_routines\t\t\t\timport get_exp_data_point\n",
    "from routines.globals\t\t\t\t\t\t\t\t\timport DEBUG, KB, BALLOONING_NAMES\n",
    "\n",
    "from mesh.get_rz_core_sep\t\t\t\t\t\timport get_rz_core_sep\n",
    "from mesh.get_rho_in_out_core_sep\t\timport get_rho_in_out_core_sep\n",
    "from mesh.find_zones_intersections\t\t\timport find_zones_intersections\n",
    "from mesh.compute_mesh_intersections\timport compute_mesh_intersections\n",
    "\n",
    "from files.load_soledge_mesh_file\t\t\t\timport load_soledge_mesh_file\n",
    "from files.load_plasma_files\t\t\t\t\t\timport load_plasma_files\n",
    "from files.load_fluxes_files\t\t\t\t\t\t\timport load_fluxes_files\n",
    "from files.load_ions_list\t\t\t\t\t\t\t\timport load_ions_list\n",
    "from files.load_text_data\t\t\t\t\t\t\timport load_text_data\n",
    "from files.load_refpar_file\t\t\t\t\t\t\timport load_refpar_file\n",
    "from files.load_input_file\t\t\t\t\t\t\timport load_input_file\n",
    "from files.load_exp_descr\t\t\t\t\t\t\timport load_exp_descr\n",
    "from files.load_exp_data\t\t\t\t\t\t\timport load_exp_data\n",
    "from files.load_transports_coefficients\t\timport load_transports_coefficients\n",
    "from files.save_stat\t\t\t\t\t\t\t\t\timport save_stat"
   ]
  },
  {
   "cell_type": "code",
   "execution_count": 14,
   "metadata": {},
   "outputs": [
    {
     "name": "stdout",
     "output_type": "stream",
     "text": [
      "\tload_plasma_files: Loading:  C:\\Users\\mikek\\OneDrive\\Project\\collab\\tech\\compare_data\\run_directory/Results/plasma_0\n",
      "\tload_plasma_files: Loading:  C:\\Users\\mikek\\OneDrive\\Project\\collab\\tech\\compare_data\\run_directory/Results/plasma_1\n"
     ]
    }
   ],
   "source": [
    "Plasmas = load_plasma_files(path, nZones=0, Evolution=0, iPlasmas=[0,1])"
   ]
  },
  {
   "cell_type": "markdown",
   "metadata": {},
   "source": [
    "- Neutrals are in Plasmas[1][0].Triangles."
   ]
  },
  {
   "cell_type": "code",
   "execution_count": 13,
   "metadata": {},
   "outputs": [
    {
     "data": {
      "text/plain": [
       "['Densi',\n",
       " 'Tempi',\n",
       " 'velocityi',\n",
       " 'IRadi',\n",
       " 'NRadi',\n",
       " 'Sni',\n",
       " 'SEi',\n",
       " 'SGi',\n",
       " 'Nni',\n",
       " 'Tni',\n",
       " 'vxni',\n",
       " 'vyni',\n",
       " 'vzni',\n",
       " 'Nmi',\n",
       " 'Tmi',\n",
       " 'Pni',\n",
       " 'vxmi',\n",
       " 'vymi',\n",
       " 'vzmi',\n",
       " 'Ntii',\n",
       " 'Pni',\n",
       " 'TotRadi',\n",
       " 'Mi',\n",
       " 'Ppi',\n",
       " 'Epi',\n",
       " 'TDensi',\n",
       " 'TDensei',\n",
       " 'FracDensi',\n",
       " 'Cimpi',\n",
       " 'FracDensei',\n",
       " 'Zavei']"
      ]
     },
     "execution_count": 13,
     "metadata": {},
     "output_type": "execute_result"
    }
   ],
   "source": [
    "Plasmas[1][0].Triangles.VNames"
   ]
  },
  {
   "cell_type": "code",
   "execution_count": 18,
   "metadata": {},
   "outputs": [],
   "source": [
    "from matplotlib import tri\n",
    "if_tri\t = h5py.File(os.path.join(path,\"triangles.h5\"), \"r\")\n",
    "TriKnots = h5_read(if_tri,\"triangles/tri_knots\")\n",
    "TriKnots = TriKnots - 1 \t\t\t\t\t\t\t\t\t\t#Matlab/Fortan to python indexes\n",
    "R\t\t = h5_read(if_tri,\"knots/R\")*0.01\n",
    "Z\t\t = h5_read(if_tri,\"knots/Z\")*0.01\n",
    "if_tri.close()\n",
    "TripTriang = tri.Triangulation(R, Z, triangles=TriKnots)"
   ]
  },
  {
   "cell_type": "code",
   "execution_count": null,
   "metadata": {},
   "outputs": [],
   "source": [
    "len(TripTriang.edges)"
   ]
  },
  {
   "cell_type": "code",
   "execution_count": 42,
   "metadata": {},
   "outputs": [],
   "source": [
    "from mesh.get_rz_core_sep import *"
   ]
  },
  {
   "cell_type": "code",
   "execution_count": 4,
   "metadata": {},
   "outputs": [
    {
     "name": "stdout",
     "output_type": "stream",
     "text": [
      "load_soledge_mesh_file: reading file  C:\\Users\\mikek\\OneDrive\\Project\\collab\\tech\\compare_data\\run_directory\\mesh.h5\n",
      "\tload_soledge_mesh_file: in_equ = OK\n",
      "\th5_read: error reading:  /mesher/Fields/RadArroundXp\n",
      "\tload_soledge_mesh_file: extrapol = OK\n",
      "\tload_soledge_mesh_file: xPoints = OK\n",
      "\tload_soledge_mesh_file: Frontiers = OK\n",
      "\tload_soledge_mesh_file: Limits = OK\n",
      "\th5_read: error reading:  /mesher/OMP_segment/mesher/refpoints/nPoints\n",
      "\tload_soledge_mesh_file: Segments = OK\n",
      "\tload_soledge_mesh_file: MagGrid_OK = OK\n",
      "\tload_soledge_mesh_file: new_equ = OK\n",
      "\tload_soledge_mesh_file: equ = OK\n",
      "\tload_soledge_mesh_file: Mesh = OK\n",
      "\tload_soledge_mesh_file: transp_prof = OK\n",
      "\tload_soledge_mesh_file: transp_values = OK\n",
      "\th5_read: error reading:  /mesher/FeedbackTransp/Dmin\n",
      "\tload_soledge_mesh_file: feedback_transp = NO\n",
      "\th5_read: error reading:  /mesher/FeedbackPuffing/AutoTarget\n",
      "\tload_soledge_mesh_file: feedback_puffing = NO\n",
      "\th5_read: error reading:  /CustomPlots/Parallel/nPlots\n",
      "\th5_read: error reading:  /CustomPlots/Perpendicular/nPlots\n",
      "\th5_read: error reading:  /CustomPlots/Temporal/nPlots\n",
      "define_OMP_segment\n",
      "\n",
      "define_OMP_segment: completed\n",
      "\n",
      "load_soledge_mesh_file: Completed\n"
     ]
    }
   ],
   "source": [
    "Config = load_soledge_mesh_file(os.path.join(path,\"mesh.h5\"))"
   ]
  },
  {
   "cell_type": "code",
   "execution_count": 12,
   "metadata": {},
   "outputs": [
    {
     "ename": "TypeError",
     "evalue": "'types.SimpleNamespace' object is not subscriptable",
     "output_type": "error",
     "traceback": [
      "\u001b[1;31m---------------------------------------------------------------------------\u001b[0m",
      "\u001b[1;31mTypeError\u001b[0m                                 Traceback (most recent call last)",
      "Cell \u001b[1;32mIn[12], line 1\u001b[0m\n\u001b[1;32m----> 1\u001b[0m Config\u001b[39m.\u001b[39;49mMagZones[\u001b[39m0\u001b[39;49m]\u001b[39m.\u001b[39;49mnorth[\u001b[39m\"\u001b[39;49m\u001b[39mR\u001b[39;49m\u001b[39m\"\u001b[39;49m]\n",
      "\u001b[1;31mTypeError\u001b[0m: 'types.SimpleNamespace' object is not subscriptable"
     ]
    }
   ],
   "source": []
  },
  {
   "cell_type": "code",
   "execution_count": 47,
   "metadata": {},
   "outputs": [
    {
     "name": "stdout",
     "output_type": "stream",
     "text": [
      "get_rz_core_sep\n",
      "get_rz_core_sep: completed\n"
     ]
    },
    {
     "data": {
      "text/plain": [
       "[<matplotlib.lines.Line2D at 0x20b97d6ed40>]"
      ]
     },
     "execution_count": 47,
     "metadata": {},
     "output_type": "execute_result"
    }
   ],
   "source": [
    "\n",
    "\n",
    "fig, ax = plt.subplots()\n"
   ]
  },
  {
   "cell_type": "code",
   "execution_count": 16,
   "metadata": {},
   "outputs": [],
   "source": [
    "%matplotlib inline"
   ]
  },
  {
   "cell_type": "code",
   "execution_count": 74,
   "metadata": {},
   "outputs": [
    {
     "name": "stdout",
     "output_type": "stream",
     "text": [
      "get_rz_core_sep\n",
      "get_rz_core_sep: completed\n"
     ]
    },
    {
     "data": {
      "text/plain": [
       "[<matplotlib.lines.Line2D at 0x227b0274b80>]"
      ]
     },
     "execution_count": 74,
     "metadata": {},
     "output_type": "execute_result"
    },
    {
     "data": {
      "image/png": "[encoded data removed]",
      "text/plain": [
       "<Figure size 768x576 with 1 Axes>"
      ]
     },
     "metadata": {},
     "output_type": "display_data"
    }
   ],
   "source": [
    "param = \"Dense\"\n",
    "if param.endswith(\"e\"):\n",
    "    # Electrons are index 0\n",
    "    species_idx = 0\n",
    "elif param.endswith(\"i\"):\n",
    "    # Ions and neutrals are index 1\n",
    "    species_idx = 1\n",
    "else:\n",
    "    raise Exception(\"Parameter name must end in e or i\")\n",
    "\n",
    "iPar = Plasmas[species_idx][0].Triangles.VNames.index(param)\t\n",
    "plot_data = Plasmas[1][0].Triangles.Values[iPar]\n",
    "vmin = min(plot_data)\n",
    "vmax = max(plot_data)\n",
    "RZcore, RZsep, CoreMegazone, SepMegazone, jSep = get_rz_core_sep(Config, use_mag_zones=True)\n",
    "\n",
    "fig, ax = plt.subplots(dpi = 120)\n",
    "\n",
    "ax.tripcolor(TripTriang, plot_data, norm = None, cmap = \"Spectral_r\")\n",
    "ax.plot(RZsep[:,0], RZsep[:,1], color = \"white\")\n",
    "ax.set_aspect(\"equal\")\n",
    "\n",
    "def get_rz_sep(Config):\n",
    "    \"\"\"\n",
    "    Queries grid regions to obtain separatrix R and Z coordinates\n",
    "    Extends to the equilibium boundary\n",
    "    Requires a Config (grid/eqb) file with MagZones computed\n",
    "    Returns lhs and rhs for each of the sides of the separatrix for easy contiguous line plots\n",
    "    Those are dicts with keys R and Z for the respective coords\n",
    "    \"\"\"\n",
    "    sep = dict()\n",
    "    sep[\"UOT\"] = Config.MagZones[2].north\n",
    "    sep[\"UIT\"] = Config.MagZones[3].north\n",
    "    sep[\"LIT\"] = Config.MagZones[4].north\n",
    "    sep[\"LOT\"] = Config.MagZones[5].north\n",
    "\n",
    "    sep[\"ISEP\"] = Config.MagZones[0].north\n",
    "    sep[\"OSEP\"] = Config.MagZones[1].north\n",
    "\n",
    "    lhs = dict()\n",
    "    rhs = dict()\n",
    "    for coord in [\"R\", \"Z\"]:\n",
    "        # lhs[coord] = np.\n",
    "        lhs[coord] = sep[\"LIT\"].__dict__[coord]\n",
    "        lhs[coord] = np.concatenate([lhs[coord], sep[\"ISEP\"].__dict__[coord]])\n",
    "        lhs[coord] = np.concatenate([lhs[coord], sep[\"UIT\"].__dict__[coord]])\n",
    "        rhs[coord] = sep[\"UOT\"].__dict__[coord]\n",
    "        rhs[coord] = np.concatenate([rhs[coord], sep[\"OSEP\"].__dict__[coord]])\n",
    "        rhs[coord] = np.concatenate([rhs[coord], sep[\"LOT\"].__dict__[coord]])\n",
    "        \n",
    "    return lhs, rhs\n",
    "\n",
    "zone = Config.MagZones[1].north\n",
    "ax.plot(lhs[\"R\"], lhs[\"Z\"], color = \"deeppink\")\n",
    "ax.plot(rhs[\"R\"], rhs[\"Z\"], color = \"deeppink\")"
   ]
  },
  {
   "cell_type": "code",
   "execution_count": 60,
   "metadata": {},
   "outputs": [
    {
     "data": {
      "text/plain": [
       "array(0)"
      ]
     },
     "execution_count": 60,
     "metadata": {},
     "output_type": "execute_result"
    }
   ],
   "source": [
    "np.array(0)"
   ]
  },
  {
   "cell_type": "code",
   "execution_count": 49,
   "metadata": {},
   "outputs": [],
   "source": [
    "%matplotlib inline"
   ]
  }
 ],
 "metadata": {
  "kernelspec": {
   "display_name": "Python 3.9.13 ('base')",
   "language": "python",
   "name": "python3"
  },
  "language_info": {
   "codemirror_mode": {
    "name": "ipython",
    "version": 3
   },
   "file_extension": ".py",
   "mimetype": "text/x-python",
   "name": "python",
   "nbconvert_exporter": "python",
   "pygments_lexer": "ipython3",
   "version": "3.10.9"
  },
  "orig_nbformat": 4,
  "vscode": {
   "interpreter": {
    "hash": "5d3028fb5fc7b0ce0999a527284344536284ceb78ab851f9ad8deb4f33e74dff"
   }
  }
 },
 "nbformat": 4,
 "nbformat_minor": 2
}
