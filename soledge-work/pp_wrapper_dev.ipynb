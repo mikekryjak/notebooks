{
 "cells": [
  {
   "cell_type": "code",
   "execution_count": 69,
   "metadata": {},
   "outputs": [
    {
     "name": "stdout",
     "output_type": "stream",
     "text": [
      "The autoreload extension is already loaded. To reload it, use:\n",
      "  %reload_ext autoreload\n",
      "Done\n"
     ]
    }
   ],
   "source": [
    "from boututils.datafile import DataFile\n",
    "from boutdata.collect import collect\n",
    "import pandas as pd\n",
    "import numpy as np\n",
    "import matplotlib.pyplot as plt\n",
    "import os, sys, pathlib\n",
    "import platform\n",
    "import traceback\n",
    "import xarray\n",
    "import xbout\n",
    "import scipy\n",
    "import re\n",
    "import netCDF4 as nc\n",
    "\n",
    "onedrive_path = onedrive_path = str(os.getcwd()).split(\"OneDrive\")[0] + \"OneDrive\"\n",
    "sys.path.append(os.path.join(onedrive_path, r\"Project\\python-packages\\sdtools\"))\n",
    "sys.path.append(os.path.join(onedrive_path, r\"Project\\python-packages\\soledge\"))\n",
    "sys.path.append(os.path.join(onedrive_path, r\"Project\\python-packages\"))\n",
    "\n",
    "\n",
    "from gridtools.b2_tools import *\n",
    "from gridtools.utils import *\n",
    "\n",
    "from hermes3.fluxes import *\n",
    "from hermes3.case_db import *\n",
    "from hermes3.load import *\n",
    "from hermes3.named_selections import *\n",
    "from hermes3.plotting import *\n",
    "from hermes3.grid_fields import *\n",
    "from hermes3.accessors import *\n",
    "from hermes3.utils import *\n",
    "from code_comparison.viewer_2d import *\n",
    "from code_comparison.code_comparison import *\n",
    "from files.load_plasma_files\t\t\t\t\t\timport load_plasma_files\n",
    "from gridtools.solps_python_scripts.read_b2fgmtry import *\n",
    "\n",
    "from soledge.mk_funcs import *\n",
    "\n",
    "%load_ext autoreload\n",
    "%autoreload 2\n",
    "%matplotlib inline\n",
    "\n",
    "print(\"Done\")"
   ]
  },
  {
   "cell_type": "code",
   "execution_count": 70,
   "metadata": {},
   "outputs": [],
   "source": [
    "from wrapper_class import *"
   ]
  },
  {
   "cell_type": "code",
   "execution_count": 150,
   "metadata": {},
   "outputs": [
    {
     "name": "stderr",
     "output_type": "stream",
     "text": [
      "c:\\Users\\mikek\\OneDrive\\Project\\python-packages\\soledge\\routines\\h5_routines.py:65: FutureWarning: In the future `np.str` will be defined as the corresponding NumPy scalar.\n",
      "  Data = Data.astype(np.str)\n"
     ]
    },
    {
     "name": "stdout",
     "output_type": "stream",
     "text": [
      "get_wall_triangle\n",
      "get_wall_triangles\n",
      "get_wall_triangles.2: Completed\n",
      "get_wall_triangle: Completed\n",
      "\n",
      "### TOTAL WALL INTEGRALS------------\n",
      "\n",
      "### Heat flows:\n",
      "E_incident_Electron: ---- 0.55 [MW]\n",
      "E_incident_Ions: ---- 0.96 [MW]\n",
      "E_Total: ---- 1.64 [MW]\n",
      "E_incident_Atoms: ---- 0.39 [MW]\n",
      "E_Radiation_Atoms: ---- 0.07 [MW]\n",
      "E_Rad_Recombination: ---- -0.45 [MW]\n",
      "E_Recombination_in_Wall: ---- 0.11 [MW]\n",
      "E_incident_Molecules: ---- 0.00 [MW]\n",
      "E_incident_Ions_EIRENE: ---- 1.26 [MW]\n",
      "E_Radiation: ---- 0.07 [MW]\n",
      "\n",
      "### Particle flows:\n",
      "F_Ion_Incident: ---- 4.886e+22 [s-1]\n",
      "F_Atom_Emitted_from_Ion: ---- 2.919e+22 [s-1]\n",
      "F_Atom_Incident: ---- 5.015e+22 [s-1]\n",
      "F_Mol_Incident: ---- 2.124e+21 [s-1]\n",
      "F_Mol_Emitted_from_Ion: ---- 9.834e+21 [s-1]\n",
      "F_Atom_Emitted_from_Atom: ---- 3.821e+22 [s-1]\n",
      "F_Mol_Emitted_from_Atom: ---- 5.380e+21 [s-1]\n"
     ]
    }
   ],
   "source": [
    "path=os.path.join(path = r\"C:\\Users\\mikek\\OneDrive\\Project\\collab\\tech\\compare_data\\soledge_cases\\ST40_wallMike_bra_nocore_D_2e19\")\n",
    "# path=os.path.join(path = r\"C:\\Users\\mikek\\OneDrive\\Project\\collab\\tech\\compare_data\\soledge_cases\\ST40_wallStd_bra_nocore_D_2e19\")\n",
    "\n",
    "self = SOLEDGEcase(path)\n",
    "wall_fluxes = self.get_wall_fluxes()\n"
   ]
  },
  {
   "cell_type": "code",
   "execution_count": 151,
   "metadata": {},
   "outputs": [
    {
     "data": {
      "text/plain": [
       "0.22285714285714286"
      ]
     },
     "execution_count": 151,
     "metadata": {},
     "output_type": "execute_result"
    }
   ],
   "source": [
    "0.39 / 1.75"
   ]
  },
  {
   "cell_type": "code",
   "execution_count": 16,
   "metadata": {},
   "outputs": [],
   "source": [
    "try:\n",
    "    AFluxF\t = np.loadtxt(os.path.join(self.path, \"soledge2D.atoms_fluxes_wall_1\"), dtype='f8')\n",
    "#            \t\t[0:iTri, 1:iSide, 2:iProp, 3:dlWall, \n",
    "#\t\t\t\t\t 4:Flux_Atom_Incident, \t\t\t5:Flux_Mol_Incident,\n",
    "#\t\t\t\t\t 6:Flux_Atom_Emitted_from_Ion, \t7:Flux_Mol_Emitted_from_Ion,\n",
    "#\t\t\t\t\t 8:Flux_Atom_Emitted_from_Atom, 9:Flux_Mol_Emitted_from_Atom]\n",
    "except:\n",
    "    print(\"\\tError: Not found \"+ self.path+\"soledge2D.atoms_fluxes_wall_1\")\n",
    "    exit()"
   ]
  },
  {
   "cell_type": "code",
   "execution_count": 12,
   "metadata": {},
   "outputs": [],
   "source": [
    "from eirene.get_wall_triangle\t\t\t\t\timport get_wall_triangle"
   ]
  },
  {
   "cell_type": "code",
   "execution_count": 19,
   "metadata": {},
   "outputs": [
    {
     "name": "stdout",
     "output_type": "stream",
     "text": [
      "get_wall_triangle\n",
      "get_wall_triangles\n",
      "get_wall_triangles.2: Completed\n",
      "get_wall_triangle: Completed\n"
     ]
    }
   ],
   "source": [
    "ZeroTriangle, ZeroSide, Ri, Zi = get_wall_triangle(self.Eirene, rz0_line=[0,0], theta_line=0, no_plot=1, no_print=1)\n",
    "\n",
    "R = self.R\n",
    "Z = self.Z\n",
    "TriKnots = self.TriKnots\n",
    "\n",
    "iTri\t= AFluxF[:,0]-1 \t\t\t\t\t\t\t\t\t\t#Matlab/Fortan to python indexes\n",
    "iSide\t= AFluxF[:,1]-1 \t\t\t\t\t\t\t\t\t\t#Matlab/Fortan to python indexes\n",
    "WallL\t= AFluxF[:,3]\n",
    "\n",
    "\n",
    "Vertex\t= np.array([[0,1],[1,2],[2,0]], dtype='i4')\n",
    "iTri\t= iTri.astype(int)\n",
    "iSide\t= iSide.astype(int)\n",
    "\n",
    "iZero = np.where(iTri == ZeroTriangle); iZero = iZero[0]\n",
    "if(len(iZero) != 1):\n",
    "    print(\"\\tError: not found wall triangle intersection with line\")\n",
    "    exit()\n",
    "\n",
    "iZero  = iZero[0]\n",
    "zOrder = np.arange(len(iTri))\n",
    "zOrder = np.append(zOrder[iZero:], zOrder[:iZero]) \n",
    "iTri   = iTri[zOrder]\n",
    "\n",
    "iSide  = iSide[zOrder]\n",
    "WallL[iZero:]  = WallL[iZero:] - WallL[iZero]\n",
    "WallL[:iZero]  = WallL[:iZero] - WallL[0] + WallL[-1]\n",
    "WallL\t\t   = WallL[zOrder]\n",
    "\n",
    "WallR\t= 0.5*(R[TriKnots[iTri,Vertex[iSide,0]]]+R[TriKnots[iTri,Vertex[iSide,1]]])\n",
    "WallZ\t= 0.5*(Z[TriKnots[iTri,Vertex[iSide,0]]]+Z[TriKnots[iTri,Vertex[iSide,1]]])\n",
    "WalldL  = np.sqrt((R[TriKnots[iTri,Vertex[iSide,0]]]-R[TriKnots[iTri,Vertex[iSide,1]]])**2 + \\\n",
    "                    (Z[TriKnots[iTri,Vertex[iSide,0]]]-Z[TriKnots[iTri,Vertex[iSide,1]]])**2)"
   ]
  },
  {
   "cell_type": "code",
   "execution_count": 90,
   "metadata": {},
   "outputs": [
    {
     "data": {
      "text/plain": [
       "(253, 11)"
      ]
     },
     "execution_count": 90,
     "metadata": {},
     "output_type": "execute_result"
    }
   ],
   "source": [
    "EFluxF.shape"
   ]
  },
  {
   "cell_type": "code",
   "execution_count": 114,
   "metadata": {},
   "outputs": [],
   "source": [
    "df = pd.DataFrame(columns = [\"iTri\", \"iSide\", \"iProp\", \"dlSurf\", \"dlWall\", \"Area\"])\n",
    "\n",
    "## Read ion fluxes\n",
    "try:\n",
    "    FluxiF\t = np.loadtxt(os.path.join(path,\"soledge2D.ion_fluxes_wall_1\"), dtype='f8')\n",
    "except:\n",
    "    print(\"\\tError: Not found \"+ path+\"soledge2D.ion_fluxes_wall_1\")\n",
    "    exit()\n",
    "Fluxi =  FluxiF[zOrder,4]*1e-22\n",
    "\n",
    "for i, name in enumerate([\"iTri\", \"iSide\", \"iProp\", \"dlSurf\", \n",
    "                \"F_Ion_Incident\", \"F_Atom_Emitted_from_Ion\"]):\n",
    "    \n",
    "    df[name] = FluxiF[zOrder, i]\n",
    "    \n",
    "## Read neutral fluxes (again for some reason)\n",
    "# FluxiN is a list of arrays, each a different neutral species\n",
    "FluxiN=[]\n",
    "try:\n",
    "    FluxiN.append(np.loadtxt(os.path.join(path, \"soledge2D.atoms_fluxes_wall_1\"), dtype='f8'))\n",
    "    i=2\n",
    "    while(os.path.isfile('./soledge2D.atoms_fluxes_wall_'+str(i))):\n",
    "        FluxiN.append(np.loadtxt(path+\"soledge2D.atoms_fluxes_wall_\"+str(i), dtype='f8'))\n",
    "        i=i+1\n",
    "except:\n",
    "    print(\"\\tError: Not found \"+ path+\"soledge2D.atoms_fluxes_wall_1\")\n",
    "    exit()\n",
    "    \n",
    "for i, name in enumerate([\"iTri\", \"iSide\", \"iProp\", \"dlWall\", \n",
    "            \"F_Atom_Incident\", \t\t\t\"F_Mol_Incident\",\n",
    "            \"F_Atom_Emitted_from_Ion\", \t\"F_Mol_Emitted_from_Ion\",\n",
    "            \"F_Atom_Emitted_from_Atom\", \"F_Mol_Emitted_from_Atom\"]):\n",
    "    \n",
    "    df[name] = FluxiN[0][zOrder, i]\n"
   ]
  },
  {
   "cell_type": "code",
   "execution_count": 127,
   "metadata": {},
   "outputs": [],
   "source": [
    "FluxE_details = {}\n",
    "FluxE = {}\n",
    "\n",
    "### Read neutral energy fluxes\n",
    "try:\n",
    "\n",
    "    EFluxF\t = np.loadtxt(os.path.join(path, \"soledge2D.energy_fluxes_details_1\"), dtype='f8', comments=\"%\")\n",
    "    \n",
    "    for i, name in enumerate(\n",
    "        [\"dlWall\", \"E_incident_Electron\", \t\"E_incident_Ions\",\n",
    "        \"E_Total\",\t\t\t\t\"E_incident_Atoms\",\n",
    "        \"E_Radiation_Atoms\",\t\t\"E_Rad_Recombination\",\n",
    "        \"E_Recombination_in_Wall\", \"E_incident_Molecules\"]):\n",
    "        if name not in [\"dlWall\"]:\n",
    "            df[name] = EFluxF[zOrder,i] * 1e-6   # MW\n",
    "\n",
    "    EFluxF\t = np.loadtxt(os.path.join(path, \"soledge2D.energy_fluxes_1\"), dtype='f8', comments=\"%\")\n",
    "    \n",
    "    for i, name in enumerate(\n",
    "        [\n",
    "        \"iTri\", \"iSide\",                   \"iProp\", \"dlWall\", \n",
    "        \"E_incident_Ions_EIRENE\", \"E_incident_Electron\",\n",
    "        \"E_incident_Ions\",\t\t   \"E_Total\",\t\t\t\t\n",
    "        \"E_incident_Atoms\",\t   \"E_Radiation\",\t\t\n",
    "        \"Area\"\n",
    "        ]\n",
    "    ):\n",
    "        if not any([x in name for x in [\"iTri\", \"iSide\", \"iProp\", \"dlWall\"]]):\n",
    "            df[name] = EFluxF[zOrder, i]*1e-6   # MW\n",
    "        \n",
    "except:\n",
    "    print(\"\\tError: Not found \"+ path+\"soledge2D.energy_fluxes_details_1\")\n",
    "    exit()"
   ]
  },
  {
   "cell_type": "code",
   "execution_count": 116,
   "metadata": {},
   "outputs": [
    {
     "data": {
      "text/plain": [
       "Index(['iTri', 'iSide', 'iProp', 'dlSurf', 'dlWall', 'Area', 'F_Ion_Incident',\n",
       "       'F_Atom_Emitted_from_Ion', 'F_Atom_Incident', 'F_Mol_Incident',\n",
       "       'F_Mol_Emitted_from_Ion', 'F_Atom_Emitted_from_Atom',\n",
       "       'F_Mol_Emitted_from_Atom', 'E_incident_Electron', 'E_incident_Ions',\n",
       "       'E_Total', 'E_incident_Atoms', 'E_Radiation_Atoms',\n",
       "       'E_Rad_Recombination', 'E_Recombination_in_Wall',\n",
       "       'E_incident_Molecules', 'E_incident_Ions_EIRENE', 'E_Radiation'],\n",
       "      dtype='object')"
      ]
     },
     "execution_count": 116,
     "metadata": {},
     "output_type": "execute_result"
    }
   ],
   "source": [
    "df.columns"
   ]
  },
  {
   "cell_type": "code",
   "execution_count": 94,
   "metadata": {},
   "outputs": [],
   "source": [
    "\n",
    "    \n",
    "FluxE_details = {}\n",
    "FluxE = {}\n",
    "\n",
    "### Read neutral energy fluxes\n",
    "try:\n",
    "\n",
    "    EFluxF\t = np.loadtxt(os.path.join(path, \"soledge2D.energy_fluxes_details_1\"), dtype='f8', comments=\"%\")\n",
    "    FluxE_details[\"dlWall\"] = EFluxF[zOrder,0]\n",
    "    \n",
    "    for i, name in enumerate(\n",
    "        [\"dlWall\", \"Flux_Energy_incident_Electron\", \t\"Flux_Energy_incident_Ions\",\n",
    "        \"Flux_Energy_Total\",\t\t\t\t\"Flux_Energy_incident_Atoms\",\n",
    "        \"Flux_Energy_Radiation_Atoms\",\t\t\"Flux_Energy_Rad_Recombination\",\n",
    "        \"Flux_Energy_Recombination_in_Wall\", \"Flux_Energy_incident_Molecules\"]):\n",
    "        FluxE_details[name] = EFluxF[zOrder,i]\n",
    "        if name != \"dlWall\":\n",
    "            FluxE_details[name] *= 1e-6   # MW\n",
    "\n",
    "\n",
    "    EFluxF\t = np.loadtxt(os.path.join(path, \"soledge2D.energy_fluxes_1\"), dtype='f8', comments=\"%\")\n",
    "    \n",
    "    for i, name in enumerate(\n",
    "        [\n",
    "        \"iTri\", \"iSide\",                   \"iProp\", \"dlWall\", \n",
    "        \"Flux_Energy_incident_Ions_EIRENE\", \"Flux_Energy_incident_Electron\",\n",
    "        \"Flux_Energy_incident_Ions\",\t\t   \"Flux_Energy_Total\",\t\t\t\t\n",
    "        \"Flux_Energy_incident_Atoms\",\t   \"Flux_Energy_Radiation\",\t\t\n",
    "        \"Area\"\n",
    "        ]\n",
    "    ):\n",
    "        FluxE[name] = EFluxF[zOrder, i]\n",
    "        \n",
    "        if not any([x in name for x in [\"iTri\", \"iSide\", \"iProp\", \"dlWall\"]]):\n",
    "            FluxE[name] *= 1e-6   # MW\n",
    "        \n",
    "except:\n",
    "    print(\"\\tError: Not found \"+ path+\"soledge2D.energy_fluxes_details_1\")\n",
    "    exit()\n",
    "\n",
    "    \n",
    "## Not sure what's happening here\n",
    "fluxN=[]\t#Neutral flux to the wall\t[[fD][fD2][fI1]...[fIn]]\n",
    "fluxN.append(FluxiN[0][zOrder,4])\n",
    "fluxN.append(FluxiN[0][zOrder,5])\n",
    "for i in range(len(FluxiN)-1):\n",
    "    fluxN.append(FluxiN[i+1][zOrder,4])\n",
    "for i in range(len(fluxN)):\n",
    "    fluxN[i]=fluxN[i]*1e-22"
   ]
  },
  {
   "cell_type": "code",
   "execution_count": 64,
   "metadata": {},
   "outputs": [],
   "source": [
    "\n",
    "TFluxE_details = {}\n",
    "for name in FluxE_details:\n",
    "    if name not in [\"dlWall\"]:\n",
    "        TFluxE_details[name] = 2*np.pi*np.sum(FluxE_details[name] * WalldL * WallR)\n",
    "\n",
    "TFluxE = {}\n",
    "for name in FluxE:\n",
    "    if name not in [\"iTri\", \"iSide\", \"iProp\", \"dlWall\", \"Area\"]:\n",
    "        TFluxE[name] = 2*np.pi*np.sum(FluxE[name] * WalldL * WallR)"
   ]
  },
  {
   "cell_type": "code",
   "execution_count": 122,
   "metadata": {},
   "outputs": [
    {
     "data": {
      "text/plain": [
       "array([0.04913609, 0.04930909, 0.04929104, 0.04902528, 0.048454  ,\n",
       "       0.04603908, 0.04499662, 0.04374999, 0.04139129, 0.03890228,\n",
       "       0.03832311, 0.0373617 , 0.03832569, 0.03461587, 0.02780202,\n",
       "       0.0057722 , 0.00545746, 0.00503134, 0.00458304, 0.00413072,\n",
       "       0.00367589, 0.00322015, 0.00405396, 0.00560625, 0.00791712,\n",
       "       0.00988142, 0.00626502, 0.00375168, 0.02277583, 0.01828167,\n",
       "       0.01422878, 0.01078384, 0.00797698, 0.00589692, 0.0043833 ,\n",
       "       0.00328363, 0.00208753, 0.00145852, 0.00363993, 0.00513894,\n",
       "       0.00606296, 0.00647379, 0.00644393, 0.00609175, 0.00292782,\n",
       "       0.00332198, 0.00442526, 0.00552068, 0.00663283, 0.00774013,\n",
       "       0.00887577, 0.01006183, 0.011135  , 0.01204191, 0.01305385,\n",
       "       0.01395558, 0.01749746, 0.01694837, 0.01623296, 0.01574547,\n",
       "       0.01522567, 0.01436895, 0.01356637, 0.01259222, 0.01177192,\n",
       "       0.01087234, 0.00996575, 0.00905971, 0.0080182 , 0.00704409,\n",
       "       0.00610951, 0.00517097, 0.0042576 , 0.00336338, 0.00245224,\n",
       "       0.00283448, 0.00232372, 0.00250441, 0.00251479, 0.00237421,\n",
       "       0.00201042, 0.00144915, 0.00057878, 0.00102837, 0.00162727,\n",
       "       0.00258495, 0.00387341, 0.00565187, 0.00788223, 0.01067645,\n",
       "       0.01401139, 0.0040835 , 0.00579716, 0.00789368, 0.00023613,\n",
       "       0.00933482, 0.00433546, 0.00500102, 0.00570842, 0.00644728,\n",
       "       0.00713832, 0.0077737 , 0.00834341, 0.00894223, 0.00952713,\n",
       "       0.01007103, 0.01051906, 0.0107947 , 0.01115239, 0.01175404,\n",
       "       0.0123024 , 0.0442347 , 0.05220807, 0.04921781, 0.04352811,\n",
       "       0.03990462, 0.04006157, 0.04187094, 0.04304359, 0.0461762 ,\n",
       "       0.04722915, 0.04973379, 0.04974913, 0.05204792, 0.05272772,\n",
       "       0.0527155 , 0.05248062, 0.05202721, 0.05126474, 0.04815204,\n",
       "       0.04799777, 0.04567367, 0.04389733, 0.0411128 , 0.03997   ,\n",
       "       0.03778659, 0.03580147, 0.03818742, 0.04124942, 0.0462536 ,\n",
       "       0.04784306, 0.04025235, 0.012695  , 0.01236098, 0.01200441,\n",
       "       0.01148675, 0.01055436, 0.00983214, 0.00938992, 0.00945141,\n",
       "       0.00909723, 0.00838649, 0.00747566, 0.00662526, 0.00582443,\n",
       "       0.00515107, 0.00454536, 0.00617378, 0.0025647 , 0.00670438,\n",
       "       0.0047839 , 0.00345022, 0.01376615, 0.01047892, 0.00770302,\n",
       "       0.00550552, 0.00383018, 0.00249918, 0.00162078, 0.00099654,\n",
       "       0.0005569 , 0.00140122, 0.00198034, 0.00230394, 0.00246097,\n",
       "       0.00223972, 0.00214572, 0.00200734, 0.00285505, 0.00276011,\n",
       "       0.00535872, 0.00635962, 0.00730515, 0.00821558, 0.00914505,\n",
       "       0.01006068, 0.01104581, 0.01239618, 0.01363702, 0.014664  ,\n",
       "       0.01454415, 0.01502574, 0.015838  , 0.01702907, 0.01756909,\n",
       "       0.01715383, 0.0128236 , 0.01215088, 0.01125374, 0.01033584,\n",
       "       0.00941965, 0.00850833, 0.00762097, 0.00675193, 0.00588782,\n",
       "       0.00500407, 0.00492436, 0.00323155, 0.00050521, 0.00615102,\n",
       "       0.00650779, 0.00653366, 0.00612057, 0.00518909, 0.00367932,\n",
       "       0.00146864, 0.00210622, 0.00331691, 0.00442758, 0.0059473 ,\n",
       "       0.00805662, 0.0108626 , 0.01430992, 0.01837232, 0.02287571,\n",
       "       0.00413484, 0.00669102, 0.01004356, 0.00700728, 0.00650235,\n",
       "       0.00320765, 0.00270953, 0.00307104, 0.003435  , 0.00379972,\n",
       "       0.00415385, 0.00449291, 0.00482138, 0.00507969, 0.02134344,\n",
       "       0.03084432, 0.03529227, 0.0346198 , 0.03514065, 0.0360063 ,\n",
       "       0.03725203, 0.04011269, 0.04205891, 0.04336246, 0.0451455 ,\n",
       "       0.04729672, 0.04820524, 0.04877465])"
      ]
     },
     "execution_count": 122,
     "metadata": {},
     "output_type": "execute_result"
    }
   ],
   "source": [
    "WalldL"
   ]
  },
  {
   "cell_type": "code",
   "execution_count": 126,
   "metadata": {},
   "outputs": [
    {
     "data": {
      "text/plain": [
       "0      0.051736\n",
       "1      0.051941\n",
       "2      0.052281\n",
       "3      0.052683\n",
       "4      0.053090\n",
       "         ...   \n",
       "248    0.049686\n",
       "249    0.050372\n",
       "250    0.051589\n",
       "251    0.051648\n",
       "252    0.051638\n",
       "Name: Area, Length: 253, dtype: float64"
      ]
     },
     "execution_count": 126,
     "metadata": {},
     "output_type": "execute_result"
    }
   ],
   "source": [
    "df[\"Area\"] * 1e6"
   ]
  },
  {
   "cell_type": "code",
   "execution_count": 67,
   "metadata": {},
   "outputs": [
    {
     "data": {
      "text/html": [
       "<div>\n",
       "<style scoped>\n",
       "    .dataframe tbody tr th:only-of-type {\n",
       "        vertical-align: middle;\n",
       "    }\n",
       "\n",
       "    .dataframe tbody tr th {\n",
       "        vertical-align: top;\n",
       "    }\n",
       "\n",
       "    .dataframe thead th {\n",
       "        text-align: right;\n",
       "    }\n",
       "</style>\n",
       "<table border=\"1\" class=\"dataframe\">\n",
       "  <thead>\n",
       "    <tr style=\"text-align: right;\">\n",
       "      <th></th>\n",
       "      <th>iTri</th>\n",
       "      <th>iSide</th>\n",
       "      <th>iProp</th>\n",
       "      <th>dlWall</th>\n",
       "      <th>Flux_Energy_incident_Ions_EIRENE</th>\n",
       "      <th>Flux_Energy_incident_Electron</th>\n",
       "      <th>Flux_Energy_incident_Ions</th>\n",
       "      <th>Flux_Energy_Total</th>\n",
       "      <th>Flux_Energy_incident_Atoms</th>\n",
       "      <th>Flux_Energy_Radiation</th>\n",
       "      <th>Area</th>\n",
       "    </tr>\n",
       "  </thead>\n",
       "  <tbody>\n",
       "    <tr>\n",
       "      <th>0</th>\n",
       "      <td>5662.0</td>\n",
       "      <td>3.0</td>\n",
       "      <td>4.0</td>\n",
       "      <td>4.026479</td>\n",
       "      <td>0.0</td>\n",
       "      <td>0.0</td>\n",
       "      <td>0.0</td>\n",
       "      <td>0.010510</td>\n",
       "      <td>0.004398</td>\n",
       "      <td>0.006109</td>\n",
       "      <td>5.173628e-08</td>\n",
       "    </tr>\n",
       "    <tr>\n",
       "      <th>1</th>\n",
       "      <td>5646.0</td>\n",
       "      <td>3.0</td>\n",
       "      <td>4.0</td>\n",
       "      <td>0.049309</td>\n",
       "      <td>0.0</td>\n",
       "      <td>0.0</td>\n",
       "      <td>0.0</td>\n",
       "      <td>0.010509</td>\n",
       "      <td>0.004413</td>\n",
       "      <td>0.006092</td>\n",
       "      <td>5.194105e-08</td>\n",
       "    </tr>\n",
       "    <tr>\n",
       "      <th>2</th>\n",
       "      <td>5645.0</td>\n",
       "      <td>3.0</td>\n",
       "      <td>4.0</td>\n",
       "      <td>0.098600</td>\n",
       "      <td>0.0</td>\n",
       "      <td>0.0</td>\n",
       "      <td>0.0</td>\n",
       "      <td>0.011090</td>\n",
       "      <td>0.004960</td>\n",
       "      <td>0.006126</td>\n",
       "      <td>5.228063e-08</td>\n",
       "    </tr>\n",
       "    <tr>\n",
       "      <th>3</th>\n",
       "      <td>5644.0</td>\n",
       "      <td>3.0</td>\n",
       "      <td>4.0</td>\n",
       "      <td>0.147625</td>\n",
       "      <td>0.0</td>\n",
       "      <td>0.0</td>\n",
       "      <td>0.0</td>\n",
       "      <td>0.013768</td>\n",
       "      <td>0.007604</td>\n",
       "      <td>0.006159</td>\n",
       "      <td>5.268328e-08</td>\n",
       "    </tr>\n",
       "    <tr>\n",
       "      <th>4</th>\n",
       "      <td>5643.0</td>\n",
       "      <td>3.0</td>\n",
       "      <td>4.0</td>\n",
       "      <td>0.196079</td>\n",
       "      <td>0.0</td>\n",
       "      <td>0.0</td>\n",
       "      <td>0.0</td>\n",
       "      <td>0.013952</td>\n",
       "      <td>0.007667</td>\n",
       "      <td>0.006279</td>\n",
       "      <td>5.309031e-08</td>\n",
       "    </tr>\n",
       "    <tr>\n",
       "      <th>...</th>\n",
       "      <td>...</td>\n",
       "      <td>...</td>\n",
       "      <td>...</td>\n",
       "      <td>...</td>\n",
       "      <td>...</td>\n",
       "      <td>...</td>\n",
       "      <td>...</td>\n",
       "      <td>...</td>\n",
       "      <td>...</td>\n",
       "      <td>...</td>\n",
       "      <td>...</td>\n",
       "    </tr>\n",
       "    <tr>\n",
       "      <th>248</th>\n",
       "      <td>5667.0</td>\n",
       "      <td>3.0</td>\n",
       "      <td>4.0</td>\n",
       "      <td>3.787921</td>\n",
       "      <td>0.0</td>\n",
       "      <td>0.0</td>\n",
       "      <td>0.0</td>\n",
       "      <td>0.019678</td>\n",
       "      <td>0.012955</td>\n",
       "      <td>0.006714</td>\n",
       "      <td>4.968589e-08</td>\n",
       "    </tr>\n",
       "    <tr>\n",
       "      <th>249</th>\n",
       "      <td>5666.0</td>\n",
       "      <td>3.0</td>\n",
       "      <td>4.0</td>\n",
       "      <td>3.833066</td>\n",
       "      <td>0.0</td>\n",
       "      <td>0.0</td>\n",
       "      <td>0.0</td>\n",
       "      <td>0.015560</td>\n",
       "      <td>0.009085</td>\n",
       "      <td>0.006467</td>\n",
       "      <td>5.037247e-08</td>\n",
       "    </tr>\n",
       "    <tr>\n",
       "      <th>250</th>\n",
       "      <td>5665.0</td>\n",
       "      <td>3.0</td>\n",
       "      <td>4.0</td>\n",
       "      <td>3.880363</td>\n",
       "      <td>0.0</td>\n",
       "      <td>0.0</td>\n",
       "      <td>0.0</td>\n",
       "      <td>0.014933</td>\n",
       "      <td>0.008554</td>\n",
       "      <td>0.006372</td>\n",
       "      <td>5.158927e-08</td>\n",
       "    </tr>\n",
       "    <tr>\n",
       "      <th>251</th>\n",
       "      <td>5664.0</td>\n",
       "      <td>3.0</td>\n",
       "      <td>4.0</td>\n",
       "      <td>3.928568</td>\n",
       "      <td>0.0</td>\n",
       "      <td>0.0</td>\n",
       "      <td>0.0</td>\n",
       "      <td>0.012986</td>\n",
       "      <td>0.006758</td>\n",
       "      <td>0.006223</td>\n",
       "      <td>5.164825e-08</td>\n",
       "    </tr>\n",
       "    <tr>\n",
       "      <th>252</th>\n",
       "      <td>5663.0</td>\n",
       "      <td>3.0</td>\n",
       "      <td>4.0</td>\n",
       "      <td>3.977343</td>\n",
       "      <td>0.0</td>\n",
       "      <td>0.0</td>\n",
       "      <td>0.0</td>\n",
       "      <td>0.012075</td>\n",
       "      <td>0.005903</td>\n",
       "      <td>0.006168</td>\n",
       "      <td>5.163779e-08</td>\n",
       "    </tr>\n",
       "  </tbody>\n",
       "</table>\n",
       "<p>253 rows × 11 columns</p>\n",
       "</div>"
      ],
      "text/plain": [
       "       iTri  iSide  iProp    dlWall  Flux_Energy_incident_Ions_EIRENE  \\\n",
       "0    5662.0    3.0    4.0  4.026479                               0.0   \n",
       "1    5646.0    3.0    4.0  0.049309                               0.0   \n",
       "2    5645.0    3.0    4.0  0.098600                               0.0   \n",
       "3    5644.0    3.0    4.0  0.147625                               0.0   \n",
       "4    5643.0    3.0    4.0  0.196079                               0.0   \n",
       "..      ...    ...    ...       ...                               ...   \n",
       "248  5667.0    3.0    4.0  3.787921                               0.0   \n",
       "249  5666.0    3.0    4.0  3.833066                               0.0   \n",
       "250  5665.0    3.0    4.0  3.880363                               0.0   \n",
       "251  5664.0    3.0    4.0  3.928568                               0.0   \n",
       "252  5663.0    3.0    4.0  3.977343                               0.0   \n",
       "\n",
       "     Flux_Energy_incident_Electron  Flux_Energy_incident_Ions  \\\n",
       "0                              0.0                        0.0   \n",
       "1                              0.0                        0.0   \n",
       "2                              0.0                        0.0   \n",
       "3                              0.0                        0.0   \n",
       "4                              0.0                        0.0   \n",
       "..                             ...                        ...   \n",
       "248                            0.0                        0.0   \n",
       "249                            0.0                        0.0   \n",
       "250                            0.0                        0.0   \n",
       "251                            0.0                        0.0   \n",
       "252                            0.0                        0.0   \n",
       "\n",
       "     Flux_Energy_Total  Flux_Energy_incident_Atoms  Flux_Energy_Radiation  \\\n",
       "0             0.010510                    0.004398               0.006109   \n",
       "1             0.010509                    0.004413               0.006092   \n",
       "2             0.011090                    0.004960               0.006126   \n",
       "3             0.013768                    0.007604               0.006159   \n",
       "4             0.013952                    0.007667               0.006279   \n",
       "..                 ...                         ...                    ...   \n",
       "248           0.019678                    0.012955               0.006714   \n",
       "249           0.015560                    0.009085               0.006467   \n",
       "250           0.014933                    0.008554               0.006372   \n",
       "251           0.012986                    0.006758               0.006223   \n",
       "252           0.012075                    0.005903               0.006168   \n",
       "\n",
       "             Area  \n",
       "0    5.173628e-08  \n",
       "1    5.194105e-08  \n",
       "2    5.228063e-08  \n",
       "3    5.268328e-08  \n",
       "4    5.309031e-08  \n",
       "..            ...  \n",
       "248  4.968589e-08  \n",
       "249  5.037247e-08  \n",
       "250  5.158927e-08  \n",
       "251  5.164825e-08  \n",
       "252  5.163779e-08  \n",
       "\n",
       "[253 rows x 11 columns]"
      ]
     },
     "execution_count": 67,
     "metadata": {},
     "output_type": "execute_result"
    }
   ],
   "source": [
    "pd.DataFrame.from_dict(FluxE)"
   ]
  },
  {
   "cell_type": "code",
   "execution_count": 68,
   "metadata": {},
   "outputs": [],
   "source": [
    "wall_fluxes = {}\n",
    "wall_fluxes[\"FluxE\"] = pd.DataFrame.from_dict(FluxE)\n",
    "wall_fluxes[\"FluxE_details\"] = pd.DataFrame.from_dict(FluxE_details)\n",
    "\n"
   ]
  },
  {
   "cell_type": "code",
   "execution_count": null,
   "metadata": {},
   "outputs": [],
   "source": [
    "fig, ax = plt.subplots()\n",
    "\n",
    "ax."
   ]
  },
  {
   "cell_type": "code",
   "execution_count": 65,
   "metadata": {},
   "outputs": [
    {
     "name": "stdout",
     "output_type": "stream",
     "text": [
      "Flux_Energy_incident_Electron: 0.55 MW\n",
      "Flux_Energy_incident_Ions: 0.96 MW\n",
      "Flux_Energy_Total: 1.64 MW\n",
      "Flux_Energy_incident_Atoms: 0.39 MW\n",
      "Flux_Energy_Radiation_Atoms: 0.07 MW\n",
      "Flux_Energy_Rad_Recombination: -0.45 MW\n",
      "Flux_Energy_Recombination_in_Wall: 0.11 MW\n",
      "Flux_Energy_incident_Molecules: 0.00 MW\n"
     ]
    }
   ],
   "source": [
    "for name in TFluxE_details:\n",
    "    print(f\"{name}: {TFluxE_details[name]:.2f} MW\")"
   ]
  },
  {
   "cell_type": "code",
   "execution_count": 60,
   "metadata": {},
   "outputs": [
    {
     "name": "stdout",
     "output_type": "stream",
     "text": [
      "Flux_Energy_incident_Ions_EIRENE: 6.72 MW\n",
      "Flux_Energy_incident_Electron: 1.71 MW\n",
      "Flux_Energy_incident_Ions: 3.54 MW\n",
      "Flux_Energy_Total: 6.43 MW\n",
      "Flux_Energy_incident_Atoms: 0.02 MW\n",
      "Flux_Energy_Radiation: 0.00 MW\n"
     ]
    }
   ],
   "source": [
    "for name in TFluxE:\n",
    "    print(f\"{name}: {TFluxE[name]:.2f} MW\")"
   ]
  },
  {
   "cell_type": "code",
   "execution_count": 42,
   "metadata": {},
   "outputs": [
    {
     "data": {
      "text/plain": [
       "[<matplotlib.lines.Line2D at 0x1ea033b2080>]"
      ]
     },
     "execution_count": 42,
     "metadata": {},
     "output_type": "execute_result"
    },
    {
     "data": {
      "image/png": "[encoded data removed]",
      "text/plain": [
       "<Figure size 640x480 with 1 Axes>"
      ]
     },
     "metadata": {},
     "output_type": "display_data"
    }
   ],
   "source": [
    "plt.plot(FluxE_details[\"Flux_Energy_Total\"])\n",
    "plt.plot(FluxE[\"Flux_Energy_Total\"])"
   ]
  },
  {
   "cell_type": "code",
   "execution_count": 31,
   "metadata": {},
   "outputs": [
    {
     "data": {
      "text/plain": [
       "dict_keys(['dlWall', 'Flux_Energy_incident_Electron', 'Flux_Energy_incident_IonsFlux_Energy_Total', 'Flux_Energy_incident_Atoms', 'Flux_Energy_Radiation_Atoms', 'Flux_Energy_Rad_Recombination', 'Flux_Energy_Recombination_in_Wall', 'Flux_Energy_incident_Molecules'])"
      ]
     },
     "execution_count": 31,
     "metadata": {},
     "output_type": "execute_result"
    }
   ],
   "source": [
    "FluxE_details.keys()"
   ]
  },
  {
   "cell_type": "code",
   "execution_count": 11,
   "metadata": {},
   "outputs": [],
   "source": [
    "meshpath = r\"C:\\Users\\Mike.Kryajak\\OneDrive\\Project\\collab\\tech\\compare_data\\DTT\\SOLEDGE2D_30MW_6e19_DTT\\Results\\mesh\""
   ]
  },
  {
   "cell_type": "code",
   "execution_count": 10,
   "metadata": {},
   "outputs": [
    {
     "name": "stdout",
     "output_type": "stream",
     "text": [
      "load_soledge_mesh_file: reading file  C:\\Users\\Mike.Kryajak\\OneDrive\\Project\\collab\\tech\\compare_data\\DTT\\SOLEDGE2D_30MW_6e19_DTT\\Results\\mesh\n",
      "\th5_read: error reading:  Version\n",
      "\th5_read: error reading:  /mesher/Fields/r2\n",
      "\tload_soledge_mesh_file: in_equ = NO\n",
      "\th5_read: error reading:  /config/nsep\n"
     ]
    },
    {
     "ename": "AttributeError",
     "evalue": "'types.SimpleNamespace' object has no attribute 'Zones_OK'",
     "output_type": "error",
     "traceback": [
      "\u001b[1;31m---------------------------------------------------------------------------\u001b[0m",
      "\u001b[1;31mAttributeError\u001b[0m                            Traceback (most recent call last)",
      "Cell \u001b[1;32mIn[10], line 2\u001b[0m\n\u001b[0;32m      1\u001b[0m \u001b[39mfrom\u001b[39;00m \u001b[39mold_mesh_to_new\u001b[39;00m \u001b[39mimport\u001b[39;00m \u001b[39m*\u001b[39m\n\u001b[1;32m----> 2\u001b[0m oldmesh \u001b[39m=\u001b[39m load_soledge_mesh_file_V0(\u001b[39mr\u001b[39;49m\u001b[39m\"\u001b[39;49m\u001b[39mC:\u001b[39;49m\u001b[39m\\\u001b[39;49m\u001b[39mUsers\u001b[39;49m\u001b[39m\\\u001b[39;49m\u001b[39mMike.Kryajak\u001b[39;49m\u001b[39m\\\u001b[39;49m\u001b[39mOneDrive\u001b[39;49m\u001b[39m\\\u001b[39;49m\u001b[39mProject\u001b[39;49m\u001b[39m\\\u001b[39;49m\u001b[39mcollab\u001b[39;49m\u001b[39m\\\u001b[39;49m\u001b[39mtech\u001b[39;49m\u001b[39m\\\u001b[39;49m\u001b[39mcompare_data\u001b[39;49m\u001b[39m\\\u001b[39;49m\u001b[39mDTT\u001b[39;49m\u001b[39m\\\u001b[39;49m\u001b[39mSOLEDGE2D_30MW_6e19_DTT\u001b[39;49m\u001b[39m\\\u001b[39;49m\u001b[39mResults\u001b[39;49m\u001b[39m\\\u001b[39;49m\u001b[39mmesh\u001b[39;49m\u001b[39m\"\u001b[39;49m)\n",
      "File \u001b[1;32mc:\\Users\\Mike.Kryajak\\OneDrive\\Project\\python-packages\\soledge\\files\\load_soledge_mesh_file_V0.py:246\u001b[0m, in \u001b[0;36mload_soledge_mesh_file_V0\u001b[1;34m(MeshFile)\u001b[0m\n\u001b[0;32m    242\u001b[0m \t\t\t\u001b[39mif\u001b[39;00m(DEBUG \u001b[39m>\u001b[39m \u001b[39m1\u001b[39m): \u001b[39mprint\u001b[39m(\u001b[39m\"\u001b[39m\u001b[39m\\t\u001b[39;00m\u001b[39mload_soledge_mesh_file: Limits = NO\u001b[39m\u001b[39m\"\u001b[39m)\n\u001b[0;32m    244\u001b[0m \u001b[39m#\tTry if segments have been defined\u001b[39;00m\n\u001b[1;32m--> 246\u001b[0m \t\u001b[39mif\u001b[39;00m(Mesher\u001b[39m.\u001b[39;49mZones_OK):\n\u001b[0;32m    247\u001b[0m \t\t\u001b[39mtry\u001b[39;00m:\n\u001b[0;32m    248\u001b[0m \t\t\tmesher_pmegazones \u001b[39m=\u001b[39m \u001b[39m\"\u001b[39m\u001b[39m/mesher/PMegazones\u001b[39m\u001b[39m\"\u001b[39m\n",
      "\u001b[1;31mAttributeError\u001b[0m: 'types.SimpleNamespace' object has no attribute 'Zones_OK'"
     ]
    }
   ],
   "source": [
    "from old_mesh_to_new import *\n",
    "oldmesh = load_soledge_mesh_file_V0(r\"C:\\Users\\Mike.Kryajak\\OneDrive\\Project\\collab\\tech\\compare_data\\DTT\\SOLEDGE2D_30MW_6e19_DTT\\Results\\mesh\")"
   ]
  },
  {
   "cell_type": "code",
   "execution_count": 12,
   "metadata": {},
   "outputs": [],
   "source": [
    "f = h5py.File(meshpath, \"r\")"
   ]
  },
  {
   "cell_type": "code",
   "execution_count": 13,
   "metadata": {},
   "outputs": [
    {
     "data": {
      "text/plain": [
       "<KeysViewHDF5 ['zone1', 'zone10', 'zone11', 'zone12', 'zone13', 'zone14', 'zone15', 'zone16', 'zone17', 'zone18', 'zone19', 'zone2', 'zone20', 'zone21', 'zone22', 'zone23', 'zone24', 'zone25', 'zone26', 'zone27', 'zone28', 'zone29', 'zone3', 'zone30', 'zone31', 'zone32', 'zone33', 'zone34', 'zone35', 'zone36', 'zone37', 'zone38', 'zone39', 'zone4', 'zone40', 'zone41', 'zone42', 'zone43', 'zone44', 'zone45', 'zone46', 'zone5', 'zone6', 'zone7', 'zone8', 'zone9']>"
      ]
     },
     "execution_count": 13,
     "metadata": {},
     "output_type": "execute_result"
    }
   ],
   "source": [
    "f.keys()"
   ]
  },
  {
   "cell_type": "code",
   "execution_count": 8,
   "metadata": {},
   "outputs": [],
   "source": [
    "from files.load_soledge_mesh_file_V0\timport load_soledge_mesh_file_V0"
   ]
  },
  {
   "cell_type": "code",
   "execution_count": 15,
   "metadata": {},
   "outputs": [
    {
     "name": "stdout",
     "output_type": "stream",
     "text": [
      "\told_mesh_to_new: Converting mesh file  C:\\Users\\Mike.Kryajak\\OneDrive\\Project\\collab\\tech\\compare_data\\DTT\\SOLEDGE2D_30MW_6e19_DTT\\Results\\mesh\n",
      "\th5_read: error reading:  Version\n",
      "load_soledge_mesh_file: reading file  C:\\Users\\Mike.Kryajak\\OneDrive\\Project\\collab\\tech\\compare_data\\DTT\\SOLEDGE2D_30MW_6e19_DTT\\Results\\mesh\n",
      "\th5_read: error reading:  Version\n",
      "\th5_read: error reading:  /mesher/Fields/r2\n",
      "\tload_soledge_mesh_file: in_equ = NO\n",
      "\th5_read: error reading:  /config/nsep\n",
      "False\n"
     ]
    },
    {
     "ename": "AttributeError",
     "evalue": "'types.SimpleNamespace' object has no attribute 'Zones_OK'",
     "output_type": "error",
     "traceback": [
      "\u001b[1;31m---------------------------------------------------------------------------\u001b[0m",
      "\u001b[1;31mAttributeError\u001b[0m                            Traceback (most recent call last)",
      "Cell \u001b[1;32mIn[15], line 1\u001b[0m\n\u001b[1;32m----> 1\u001b[0m old_mesh_to_new(old_mesh \u001b[39m=\u001b[39;49m \u001b[39mr\u001b[39;49m\u001b[39m\"\u001b[39;49m\u001b[39mC:\u001b[39;49m\u001b[39m\\\u001b[39;49m\u001b[39mUsers\u001b[39;49m\u001b[39m\\\u001b[39;49m\u001b[39mMike.Kryajak\u001b[39;49m\u001b[39m\\\u001b[39;49m\u001b[39mOneDrive\u001b[39;49m\u001b[39m\\\u001b[39;49m\u001b[39mProject\u001b[39;49m\u001b[39m\\\u001b[39;49m\u001b[39mcollab\u001b[39;49m\u001b[39m\\\u001b[39;49m\u001b[39mtech\u001b[39;49m\u001b[39m\\\u001b[39;49m\u001b[39mcompare_data\u001b[39;49m\u001b[39m\\\u001b[39;49m\u001b[39mDTT\u001b[39;49m\u001b[39m\\\u001b[39;49m\u001b[39mSOLEDGE2D_30MW_6e19_DTT\u001b[39;49m\u001b[39m\\\u001b[39;49m\u001b[39mResults\u001b[39;49m\u001b[39m\\\u001b[39;49m\u001b[39mmesh\u001b[39;49m\u001b[39m\"\u001b[39;49m,\n\u001b[0;32m      2\u001b[0m                 new_mesh \u001b[39m=\u001b[39;49m \u001b[39mr\u001b[39;49m\u001b[39m\"\u001b[39;49m\u001b[39mC:\u001b[39;49m\u001b[39m\\\u001b[39;49m\u001b[39mUsers\u001b[39;49m\u001b[39m\\\u001b[39;49m\u001b[39mMike.Kryajak\u001b[39;49m\u001b[39m\\\u001b[39;49m\u001b[39mOneDrive\u001b[39;49m\u001b[39m\\\u001b[39;49m\u001b[39mProject\u001b[39;49m\u001b[39m\\\u001b[39;49m\u001b[39mcollab\u001b[39;49m\u001b[39m\\\u001b[39;49m\u001b[39mtech\u001b[39;49m\u001b[39m\\\u001b[39;49m\u001b[39mcompare_data\u001b[39;49m\u001b[39m\\\u001b[39;49m\u001b[39mDTT\u001b[39;49m\u001b[39m\\\u001b[39;49m\u001b[39mSOLEDGE2D_30MW_6e19_DTT\u001b[39;49m\u001b[39m\\\u001b[39;49m\u001b[39mmesh.h5\u001b[39;49m\u001b[39m\"\u001b[39;49m)\n",
      "File \u001b[1;32mc:\\Users\\Mike.Kryajak\\OneDrive\\Project\\python-packages\\soledge\\old_mesh_to_new.py:55\u001b[0m, in \u001b[0;36mold_mesh_to_new\u001b[1;34m(old_mesh, new_mesh)\u001b[0m\n\u001b[0;32m     52\u001b[0m \tif_mesh\u001b[39m.\u001b[39mclose()\n\u001b[0;32m     54\u001b[0m \t\u001b[39mif\u001b[39;00m(FileVersion \u001b[39m<\u001b[39m \u001b[39m1\u001b[39m):\n\u001b[1;32m---> 55\u001b[0m \t\tConfig\t\t\t\t\u001b[39m=\u001b[39m load_soledge_mesh_file_V0(old_mesh)\n\u001b[0;32m     57\u001b[0m \u001b[39m#\t\tUpdate to new data\u001b[39;00m\n\u001b[0;32m     59\u001b[0m \t\tConfig\u001b[39m.\u001b[39mMagZones\t\t\t\u001b[39m=\u001b[39m Config\u001b[39m.\u001b[39mZones\n",
      "File \u001b[1;32mc:\\Users\\Mike.Kryajak\\OneDrive\\Project\\python-packages\\soledge\\files\\load_soledge_mesh_file_V0.py:247\u001b[0m, in \u001b[0;36mload_soledge_mesh_file_V0\u001b[1;34m(MeshFile)\u001b[0m\n\u001b[0;32m    243\u001b[0m \t\t\t\u001b[39mif\u001b[39;00m(DEBUG \u001b[39m>\u001b[39m \u001b[39m1\u001b[39m): \u001b[39mprint\u001b[39m(\u001b[39m\"\u001b[39m\u001b[39m\\t\u001b[39;00m\u001b[39mload_soledge_mesh_file: Limits = NO\u001b[39m\u001b[39m\"\u001b[39m)\n\u001b[0;32m    245\u001b[0m \u001b[39m#\tTry if segments have been defined\u001b[39;00m\n\u001b[1;32m--> 247\u001b[0m \t\u001b[39mif\u001b[39;00m(Mesher\u001b[39m.\u001b[39;49mZones_OK):\n\u001b[0;32m    248\u001b[0m \t\t\u001b[39mtry\u001b[39;00m:\n\u001b[0;32m    249\u001b[0m \t\t\tmesher_pmegazones \u001b[39m=\u001b[39m \u001b[39m\"\u001b[39m\u001b[39m/mesher/PMegazones\u001b[39m\u001b[39m\"\u001b[39m\n",
      "\u001b[1;31mAttributeError\u001b[0m: 'types.SimpleNamespace' object has no attribute 'Zones_OK'"
     ]
    }
   ],
   "source": [
    "old_mesh_to_new(old_mesh = r\"C:\\Users\\Mike.Kryajak\\OneDrive\\Project\\collab\\tech\\compare_data\\DTT\\SOLEDGE2D_30MW_6e19_DTT\\Results\\mesh\",\n",
    "                new_mesh = r\"C:\\Users\\Mike.Kryajak\\OneDrive\\Project\\collab\\tech\\compare_data\\DTT\\SOLEDGE2D_30MW_6e19_DTT\\mesh.h5\")"
   ]
  },
  {
   "cell_type": "code",
   "execution_count": 5,
   "metadata": {},
   "outputs": [
    {
     "name": "stdout",
     "output_type": "stream",
     "text": [
      "load_soledge_mesh_file: reading file  C:\\Users\\Mike.Kryajak\\OneDrive\\Project\\collab\\tech\\compare_data\\DTT\\SOLEDGE2D_30MW_6e19_DTT\\Results\\mesh\n",
      "\th5_read: error reading:  Version\n",
      "load_soledge_mesh_file: mesh file too old, you must try to update it with old_mesh_to_new.py\n"
     ]
    },
    {
     "ename": "NameError",
     "evalue": "name 'exit' is not defined",
     "output_type": "error",
     "traceback": [
      "\u001b[1;31m---------------------------------------------------------------------------\u001b[0m",
      "\u001b[1;31mNameError\u001b[0m                                 Traceback (most recent call last)",
      "Cell \u001b[1;32mIn[5], line 1\u001b[0m\n\u001b[1;32m----> 1\u001b[0m Config \u001b[39m=\u001b[39m load_soledge_mesh_file(\u001b[39mr\u001b[39;49m\u001b[39m\"\u001b[39;49m\u001b[39mC:\u001b[39;49m\u001b[39m\\\u001b[39;49m\u001b[39mUsers\u001b[39;49m\u001b[39m\\\u001b[39;49m\u001b[39mMike.Kryajak\u001b[39;49m\u001b[39m\\\u001b[39;49m\u001b[39mOneDrive\u001b[39;49m\u001b[39m\\\u001b[39;49m\u001b[39mProject\u001b[39;49m\u001b[39m\\\u001b[39;49m\u001b[39mcollab\u001b[39;49m\u001b[39m\\\u001b[39;49m\u001b[39mtech\u001b[39;49m\u001b[39m\\\u001b[39;49m\u001b[39mcompare_data\u001b[39;49m\u001b[39m\\\u001b[39;49m\u001b[39mDTT\u001b[39;49m\u001b[39m\\\u001b[39;49m\u001b[39mSOLEDGE2D_30MW_6e19_DTT\u001b[39;49m\u001b[39m\\\u001b[39;49m\u001b[39mResults\u001b[39;49m\u001b[39m\\\u001b[39;49m\u001b[39mmesh\u001b[39;49m\u001b[39m\"\u001b[39;49m)\n",
      "File \u001b[1;32mc:\\Users\\Mike.Kryajak\\OneDrive\\Project\\python-packages\\soledge\\files\\load_soledge_mesh_file.py:53\u001b[0m, in \u001b[0;36mload_soledge_mesh_file\u001b[1;34m(MeshFile)\u001b[0m\n\u001b[0;32m     51\u001b[0m \t\u001b[39mprint\u001b[39m(\u001b[39m\"\u001b[39m\u001b[39mload_soledge_mesh_file: mesh file too old, you must try to update it with old_mesh_to_new.py\u001b[39m\u001b[39m\"\u001b[39m)\n\u001b[0;32m     52\u001b[0m \tif_mesh\u001b[39m.\u001b[39mclose()\n\u001b[1;32m---> 53\u001b[0m \texit()\n\u001b[0;32m     55\u001b[0m \u001b[39mtry\u001b[39;00m:\n\u001b[0;32m     56\u001b[0m \tmesher_fields\t\t\u001b[39m=\u001b[39m \u001b[39m\"\u001b[39m\u001b[39m/mesher/Fields\u001b[39m\u001b[39m\"\u001b[39m\n",
      "\u001b[1;31mNameError\u001b[0m: name 'exit' is not defined"
     ]
    }
   ],
   "source": [
    "Config = load_soledge_mesh_file(r\"C:\\Users\\Mike.Kryajak\\OneDrive\\Project\\collab\\tech\\compare_data\\DTT\\SOLEDGE2D_30MW_6e19_DTT\\Results\\mesh\")"
   ]
  },
  {
   "cell_type": "code",
   "execution_count": null,
   "metadata": {},
   "outputs": [],
   "source": [
    "if_mesh = h5py.File(os.path.join(path, \"mesh.h5\"), \"r\")\n",
    "\n",
    "try:\n",
    "    Rwall\t= h5_read(if_mesh, \"walls/wall1/R\")\n",
    "    Zwall\t= h5_read(if_mesh, \"walls/wall1/Z\")\n",
    "except:\n",
    "    Rwall\t= h5_read(if_mesh, \"wall/R\")\n",
    "    Zwall\t= h5_read(if_mesh, \"wall/Z\")\n",
    "\n",
    "if_mesh.close()"
   ]
  },
  {
   "cell_type": "code",
   "execution_count": 10,
   "metadata": {},
   "outputs": [],
   "source": [
    "from files.load_soledge_mesh_file\t\t\t\timport load_soledge_mesh_file\n",
    "from files.load_plasma_files\t\t\t\t\t\timport load_plasma_files\n",
    "from files.load_ions_list\t\t\t\t\t\t\t\timport load_ions_list\n",
    "from files.load_refpar_file\t\t\t\timport load_refpar_file\n",
    "from mesh.get_rz_core_sep\t\t\t\t\t\timport get_rz_core_sep\n",
    "from mesh.get_rho_in_out_core_sep\t\timport get_rho_in_out_core_sep\n",
    "from mesh.find_zones_intersections\t\t\timport find_zones_intersections\n",
    "from mesh.compute_mesh_intersections\timport compute_mesh_intersections\n",
    "from routines.intersect_contour\t\t\t\timport intersect_2contours\n",
    "from routines.utils_walls\t\t\t\t\t\t\timport get_in_out_walls, plot2d_walls, get_dmax_points_walls\n",
    "from routines.h5_routines\t\t\t\timport h5_read\n",
    "from math\t\t\t\t\t\t\t\t\t\t\t\t\timport sqrt, exp\n",
    "import numpy\t\t\t\t\t\t\t\t\t\t\tas np\n",
    "import os, sys\n",
    "import pandas as pd\n",
    "import matplotlib.pyplot as plt\n",
    "import matplotlib as mpl\n",
    "import h5py"
   ]
  },
  {
   "cell_type": "code",
   "execution_count": 26,
   "metadata": {},
   "outputs": [],
   "source": [
    "#===================================================================\n",
    "\n",
    "def get_plasma_parameter_on_pol(Plasma, iPar, ix, iZones, iThWest, iThEast, nThetaPts):\n",
    "\n",
    "\tPar = np.zeros(nThetaPts, dtype='f8')\n",
    "\n",
    "\tif(iPar > -1):\n",
    "\t\tjOff = 0\n",
    "\t\tfor k in range(len(iZones)):\n",
    "\t\t\tif(Plasma[iZones[k]].Nz < Plasma[iZones[k]].Values[iPar].shape[1]):\n",
    "\t\t\t\tPar[jOff: jOff + iThEast[k] - iThWest[k]] = Plasma[iZones[k]].Values[iPar][ix, iThWest[k]+1:iThEast[k]+1]\t\t#[Nx+2,Nz+2] parameter\n",
    "\t\t\telse:\n",
    "\t\t\t\tPar[jOff: jOff + iThEast[k] - iThWest[k]] = Plasma[iZones[k]].Values[iPar][ix, iThWest[k]:iThEast[k]]\t\t\t\t#[Nx,Nz] parameter\n",
    "\n",
    "\t\t\tjOff += iThEast[k] - iThWest[k]\n",
    "\n",
    "\treturn Par"
   ]
  },
  {
   "cell_type": "code",
   "execution_count": 25,
   "metadata": {},
   "outputs": [
    {
     "name": "stdout",
     "output_type": "stream",
     "text": [
      "load_soledge_mesh_file: reading file  c:\\Users\\mikek\\OneDrive\\Project\\collab\\tech\\compare_data\\soledge_cases\\copy_wallStd_bra_nocore_D\\mesh.h5\n",
      "\tload_soledge_mesh_file: in_equ = OK\n",
      "\th5_read: error reading:  /mesher/Fields/RadArroundXp\n",
      "\tload_soledge_mesh_file: extrapol = OK\n",
      "\tload_soledge_mesh_file: xPoints = OK\n",
      "\tload_soledge_mesh_file: Frontiers = OK\n",
      "\tload_soledge_mesh_file: Limits = OK\n",
      "\th5_read: error reading:  /mesher/OMP_segment/mesher/refpoints/nPoints\n",
      "\tload_soledge_mesh_file: Segments = OK\n",
      "\tload_soledge_mesh_file: MagGrid_OK = OK\n",
      "\tload_soledge_mesh_file: new_equ = OK\n",
      "\tload_soledge_mesh_file: equ = OK\n",
      "\tload_soledge_mesh_file: Mesh = OK\n",
      "\tload_soledge_mesh_file: transp_prof = NO\n",
      "\tload_soledge_mesh_file: transp_values = OK\n",
      "\tload_soledge_mesh_file: feedback_transp = NO\n",
      "\th5_read: error reading:  /mesher/FeedbackPuffing/AutoTarget\n",
      "\tload_soledge_mesh_file: feedback_puffing = NO\n",
      "\th5_read: error reading:  /CustomPlots/Parallel/nPlots\n",
      "\th5_read: error reading:  /CustomPlots/Perpendicular/nPlots\n",
      "\th5_read: error reading:  /CustomPlots/Temporal/nPlots\n",
      "define_OMP_segment\n"
     ]
    },
    {
     "name": "stderr",
     "output_type": "stream",
     "text": [
      "c:\\Users\\mikek\\OneDrive\\Project\\python-packages\\soledge\\routines\\h5_routines.py:65: FutureWarning: In the future `np.str` will be defined as the corresponding NumPy scalar.\n",
      "  Data = Data.astype(np.str)\n"
     ]
    },
    {
     "name": "stdout",
     "output_type": "stream",
     "text": [
      "\n",
      "define_OMP_segment: completed\n",
      "\n",
      "load_soledge_mesh_file: Completed\n",
      "\tload_plasma_files: Loading:  c:\\Users\\mikek\\OneDrive\\Project\\collab\\tech\\compare_data\\soledge_cases\\copy_wallStd_bra_nocore_D/Results/plasma_0\n",
      "\tload_plasma_files: Loading:  c:\\Users\\mikek\\OneDrive\\Project\\collab\\tech\\compare_data\\soledge_cases\\copy_wallStd_bra_nocore_D/Results/plasma_1\n"
     ]
    }
   ],
   "source": [
    "path=os.path.join(onedrive_path, r\"Project\\collab\\tech\\compare_data\\soledge_cases\\copy_wallStd_bra_nocore_D\")\n",
    "parallel_length = False\n",
    "rz0_line = []\n",
    "theta_line = 0\n",
    "d_from_sep = 0.01\n",
    "\n",
    "self = SOLEDGEcase(path)"
   ]
  },
  {
   "cell_type": "code",
   "execution_count": 19,
   "metadata": {},
   "outputs": [
    {
     "name": "stdout",
     "output_type": "stream",
     "text": [
      "get_rz_core_sep\n",
      "get_rz_core_sep: completed\n",
      "compute_mesh_intersections\n",
      "get_rz_core_sep\n",
      "get_rz_core_sep: completed\n",
      "compute_mesh_intersections:Completed\n",
      "get_rho_in_out_core_sep\n",
      "get_rz_core_sep\n",
      "get_rz_core_sep: completed\n",
      "get_rho_in_out_core_sep: completed\n"
     ]
    }
   ],
   "source": [
    "Zones = self.Config.Zones\n",
    "\n",
    "#\tRead Metric\n",
    "\n",
    "l_pol = 1 if parallel_length is False else 0 \n",
    "\n",
    "if(l_pol == 0):\n",
    "    if_metric = h5py.File(os.path.join(path, \"Results/metric\"), \"r\")\n",
    "    Gmet = []\n",
    "    for k in range(len(self.Config.Zones)):\n",
    "        zone = \"zone{:d}\".format(k+1)\n",
    "        Gmet.append(h5_read(if_metric, zone+ '/G', order = 'F'))\t\t\t\t\t\t\t\t\t#[Nx+2,Nz+2]\n",
    "\n",
    "    if_metric.close()\n",
    "    \n",
    "#\tFind mesh along line\n",
    "\n",
    "if(len(rz0_line) == 0):\n",
    "    Rcore, Zcore, CoreMegazone = get_rz_core_sep(self.Config, core_and_sep = False)\n",
    "    rz0_line = [0.5*(Rcore.min() + Rcore.max()), 0.]\n",
    "\n",
    "rMax\t\t= 6*get_dmax_points_walls(self.Config, rz0_line[0], rz0_line[1], plasma_wall=True, eirene_wall=False, extra_wall=False)\n",
    "theta_line\t= theta_line*np.pi/180.\n",
    "RZLine\t\t= np.array([[rz0_line[0],\t\t\t\t\t\t  rz0_line[1]], \\\n",
    "                        [rz0_line[0]+rMax*np.cos(theta_line), rz0_line[1]+rMax*np.sin(theta_line)]])\n",
    "\n",
    "\n",
    "Cut = find_zones_intersections(self.Config, RZLine)\n",
    "Lengths, IntRZ, IntCEll = compute_mesh_intersections(self.Config, Cut, also_pos=True, use_mag_zones=False)\n",
    "in_wall, out_wall = get_in_out_walls(self.Config, IntRZ[:,0], IntRZ[:,1])\n",
    "Lengths = Lengths[in_wall,:]\n",
    "IntRZ\t= IntRZ[in_wall,:]\n",
    "IntCEll\t= IntCEll[in_wall,:]\n",
    "\n",
    "dist = Lengths[:,0] - Lengths[0,0]\n",
    "Rho, In_Sep, Out_Sep, RZcore, RZsep = get_rho_in_out_core_sep(self.Config, IntRZ[:,0], IntRZ[:,1])\n",
    "\n",
    "if(len(In_Sep) > 0):\n",
    "    if(Out_Sep[-1] < In_Sep[0]):\n",
    "        Out_Sep = np.append(Out_Sep, In_Sep[0])\n",
    "    else:\n",
    "        Out_Sep = np.append(In_Sep[-1], Out_Sep)\n",
    "\n",
    "Ri, Zi, is1, is2  = intersect_2contours(RZsep[:,0], RZsep[:,1], IntRZ[:,0], IntRZ[:,1])\n",
    "if(len(Ri)==0):\n",
    "    plt.plot(RZsep[:,0], RZsep[:,1],'k-')\n",
    "    plt.plot(IntRZ[:,0], IntRZ[:,1],'r-')\n",
    "    plt.show()\n",
    "\n",
    "dsep = np.sqrt((IntRZ[0,0] - Ri[0])**2 + (IntRZ[0,1] - Zi[0])**2)\n",
    "dist -= dsep   # Distance from separatrix\n",
    "\n",
    "\n",
    "#\tSelect cell\n",
    "\n",
    "iCell = np.argmin(np.abs(dist-d_from_sep))\n",
    "iZone \t= IntCEll[iCell,0]\n",
    "ix\t\t= IntCEll[iCell,1]\n",
    "iTheta\t= IntCEll[iCell,2]\n",
    "\n",
    "#\tFind zones along poloidal coordinate\n",
    "\n",
    "if(Zones[iZone].Chi[ix,-1] == 1):\n",
    "    iThEast = np.array([np.min(np.where(Zones[iZone].Chi[ix,iTheta:] == 1)[0])+iTheta])\n",
    "    East = -1\n",
    "else:\n",
    "    iThEast = np.array([Zones[iZone].Chi.shape[1]])\n",
    "    East = Zones[iZone].Neighbour.east\n",
    "\n",
    "if(Zones[iZone].Chi[ix,0] == 1):\n",
    "    iThWest = np.array([np.max(np.where(Zones[iZone].Chi[ix,:iTheta] == 1)[0])])\n",
    "    West = -1\n",
    "else:\n",
    "    iThWest = np.array([0])\n",
    "    West = Zones[iZone].Neighbour.west\n",
    "\n",
    "iThetaOff  = iTheta - iThWest[0]\n",
    "nThetaPts  = iThEast[0] - iThWest[0]\n",
    "iZones\t   = np.array([iZone])\n",
    "\n",
    "#\tLook East\n",
    "\n",
    "while (East > -1):\n",
    "    iZones = np.append(iZones, East)\n",
    "    iThWest = np.append(iThWest,0)\n",
    "    if(Zones[East].Chi[ix,-1] == 1):\n",
    "        iThEast = np.append(iThEast, np.min(np.where(Zones[East].Chi[ix,:] == 1)[0]))\n",
    "        East = -1\n",
    "    else:\n",
    "        iThEast = np.append(iThEast, Zones[East].Chi.shape[1])\n",
    "        East \t = Zones[East].Neighbour.east\n",
    "    nThetaPts += iThEast[-1]\n",
    "\n",
    "#\tLook West\n",
    "\n",
    "while (West > -1):\n",
    "    iZones = np.append(West, iZones)\n",
    "    iThEast = np.append(Zones[West].Chi.shape[1], iThEast)\n",
    "    if(Zones[West].Chi[ix,0] == 1):\n",
    "        iThWest = np.append(np.max(np.where(Zones[West].Chi[ix,:] == 1)[0])+1, iThWest)\n",
    "        West = -1\n",
    "    else:\n",
    "        iThWest = np.append(0, iThWest)\n",
    "        West = Zones[West].Neighbour.west\n",
    "    iThetaOff += iThEast[0] - iThWest[0]\n",
    "    nThetaPts += iThEast[0] - iThWest[0]\n",
    "\n",
    "Rpol = np.empty((nThetaPts), dtype = 'f8')\n",
    "Zpol = np.empty((nThetaPts), dtype = 'f8')\n",
    "jOff = 0\n",
    "for k in range(len(iZones)):\n",
    "    Rpol[jOff: jOff + iThEast[k] - iThWest[k]] = Zones[iZones[k]].gridRc[ix, iThWest[k]:iThEast[k]]\n",
    "    Zpol[jOff: jOff + iThEast[k] - iThWest[k]] = Zones[iZones[k]].gridZc[ix, iThWest[k]:iThEast[k]]\n",
    "    jOff += iThEast[k] - iThWest[k]\n",
    "\n",
    "if(l_pol == 0):\n",
    "    dl = np.empty((nThetaPts), dtype = 'f8')\n",
    "    jOff = 0\n",
    "    for k in range(len(iZones)):\n",
    "        dtheta = (Zones[iZones[k]].zb[ix, 1:] - Zones[iZones[k]].zb[ix, :-1])*2.*np.pi\n",
    "        dlZone\t   = 2.*dtheta/Gmet[iZones[k]][ix+1, 1:-1]\n",
    "        dl[jOff: jOff + iThEast[k] - iThWest[k]] = dlZone[iThWest[k]:iThEast[k]]\n",
    "        jOff += iThEast[k] - iThWest[k]\n",
    "    dlZone = 0\n",
    "    Lpara = np.cumsum(dl)\n",
    "    dl\t  = 0\n",
    "else:\n",
    "    Lpara = np.sqrt((Rpol[1:]-Rpol[:-1])**2 + (Zpol[1:]-Zpol[:-1])**2)\n",
    "    Lpara = np.append(0., np.cumsum(np.sqrt((Rpol[1:]-Rpol[:-1])**2 + (Zpol[1:]-Zpol[:-1])**2)))\n",
    "\n",
    "Lpara = Lpara - Lpara[iThetaOff]   # Parallel or poloidal distance starting at midplane, depending on setting l_pol"
   ]
  },
  {
   "cell_type": "code",
   "execution_count": null,
   "metadata": {},
   "outputs": [],
   "source": [
    "self.P"
   ]
  },
  {
   "cell_type": "code",
   "execution_count": 2,
   "metadata": {},
   "outputs": [],
   "source": [
    "class HiddenPrints:\n",
    "    \"\"\"\n",
    "    Suppress printing by:\n",
    "    with HiddenPrints():\n",
    "        ...\n",
    "    \"\"\"\n",
    "    def __enter__(self):\n",
    "        self._original_stdout = sys.stdout\n",
    "        sys.stdout = open(os.devnull, 'w')\n",
    "\n",
    "    def __exit__(self, exc_type, exc_val, exc_tb):\n",
    "        sys.stdout.close()\n",
    "        sys.stdout = self._original_stdout\n",
    "\n"
   ]
  },
  {
   "cell_type": "code",
   "execution_count": 78,
   "metadata": {},
   "outputs": [
    {
     "ename": "ValueError",
     "evalue": "I/O operation on closed file",
     "output_type": "error",
     "traceback": [
      "\u001b[1;31m---------------------------------------------------------------------------\u001b[0m",
      "\u001b[1;31mValueError\u001b[0m                                Traceback (most recent call last)",
      "Cell \u001b[1;32mIn[78], line 1\u001b[0m\n\u001b[1;32m----> 1\u001b[0m \u001b[39mprint\u001b[39;49m(\u001b[39m\"\u001b[39;49m\u001b[39myes\u001b[39;49m\u001b[39m\"\u001b[39;49m)\n",
      "File \u001b[1;32mc:\\Users\\mikek\\anaconda3\\envs\\new\\lib\\site-packages\\ipykernel\\iostream.py:547\u001b[0m, in \u001b[0;36mOutStream.write\u001b[1;34m(self, string)\u001b[0m\n\u001b[0;32m    544\u001b[0m             \u001b[39mprint\u001b[39m(\u001b[39mf\u001b[39m\u001b[39m\"\u001b[39m\u001b[39mWrite failed: \u001b[39m\u001b[39m{\u001b[39;00me\u001b[39m}\u001b[39;00m\u001b[39m\"\u001b[39m, file\u001b[39m=\u001b[39msys\u001b[39m.\u001b[39m__stderr__)\n\u001b[0;32m    546\u001b[0m \u001b[39mif\u001b[39;00m \u001b[39mself\u001b[39m\u001b[39m.\u001b[39mpub_thread \u001b[39mis\u001b[39;00m \u001b[39mNone\u001b[39;00m:\n\u001b[1;32m--> 547\u001b[0m     \u001b[39mraise\u001b[39;00m \u001b[39mValueError\u001b[39;00m(\u001b[39m\"\u001b[39m\u001b[39mI/O operation on closed file\u001b[39m\u001b[39m\"\u001b[39m)\n\u001b[0;32m    548\u001b[0m \u001b[39melse\u001b[39;00m:\n\u001b[0;32m    550\u001b[0m     is_child \u001b[39m=\u001b[39m \u001b[39mnot\u001b[39;00m \u001b[39mself\u001b[39m\u001b[39m.\u001b[39m_is_master_process()\n",
      "\u001b[1;31mValueError\u001b[0m: I/O operation on closed file"
     ]
    }
   ],
   "source": [
    "print(\"yes\")"
   ]
  },
  {
   "cell_type": "code",
   "execution_count": 3,
   "metadata": {},
   "outputs": [
    {
     "ename": "NameError",
     "evalue": "name 'contextlib' is not defined",
     "output_type": "error",
     "traceback": [
      "\u001b[1;31m---------------------------------------------------------------------------\u001b[0m",
      "\u001b[1;31mNameError\u001b[0m                                 Traceback (most recent call last)",
      "Cell \u001b[1;32mIn[3], line 1\u001b[0m\n\u001b[1;32m----> 1\u001b[0m \u001b[39mwith\u001b[39;00m contextlib\u001b[39m.\u001b[39mnullcontext():\n\u001b[0;32m      2\u001b[0m     \u001b[39mprint\u001b[39m(\u001b[39m\"\u001b[39m\u001b[39mUYes\u001b[39m\u001b[39m\"\u001b[39m)\n",
      "\u001b[1;31mNameError\u001b[0m: name 'contextlib' is not defined"
     ]
    }
   ],
   "source": [
    "with contextlib.nullcontext():\n",
    "    print(\"UYes\")"
   ]
  },
  {
   "cell_type": "code",
   "execution_count": 5,
   "metadata": {},
   "outputs": [],
   "source": [
    "import contextlib\n",
    "\n",
    "verbose = False\n",
    "\n",
    "with HiddenPrints() if verbose is False else contextlib.nullcontext():\n",
    "    print(\"Yes\")\n"
   ]
  },
  {
   "cell_type": "code",
   "execution_count": 70,
   "metadata": {},
   "outputs": [
    {
     "ename": "AttributeError",
     "evalue": "__enter__",
     "output_type": "error",
     "traceback": [
      "\u001b[1;31m---------------------------------------------------------------------------\u001b[0m",
      "\u001b[1;31mAttributeError\u001b[0m                            Traceback (most recent call last)",
      "Cell \u001b[1;32mIn[70], line 10\u001b[0m\n\u001b[0;32m      7\u001b[0m \u001b[39melse\u001b[39;00m:\n\u001b[0;32m      8\u001b[0m     cm \u001b[39m=\u001b[39m nullcontext\n\u001b[1;32m---> 10\u001b[0m \u001b[39mwith\u001b[39;00m cm \u001b[39mas\u001b[39;00m gs:\n\u001b[0;32m     11\u001b[0m     \u001b[39mprint\u001b[39m(\u001b[39m\"\u001b[39m\u001b[39myes\u001b[39m\u001b[39m\"\u001b[39m)\n",
      "\u001b[1;31mAttributeError\u001b[0m: __enter__"
     ]
    }
   ],
   "source": [
    "from contextlib import nullcontext\n",
    "\n",
    "verbose = False\n",
    "\n",
    "if verbose is True:\n",
    "    cm = HiddenPrints\n",
    "else:\n",
    "    cm = nullcontext\n",
    "\n",
    "with cm as gs:\n",
    "    print(\"yes\")"
   ]
  },
  {
   "cell_type": "code",
   "execution_count": 38,
   "metadata": {},
   "outputs": [],
   "source": [
    "param = \"Dense\"\n",
    "iPlasma, iPar = self.get_param_indices(param)\n",
    "data = get_plasma_parameter_on_pol(self.Plasmas[iPlasma], iPar, ix, iZones, iThWest, iThEast, nThetaPts)"
   ]
  },
  {
   "cell_type": "code",
   "execution_count": 40,
   "metadata": {},
   "outputs": [],
   "source": [
    "df = pd.DataFrame()\n",
    "df[\"dist\"] = Lpara\n",
    "df[\"R\"] = Rpol\n",
    "df[\"Z\"] = Zpol\n",
    "df[param] = data"
   ]
  },
  {
   "cell_type": "code",
   "execution_count": 41,
   "metadata": {},
   "outputs": [
    {
     "data": {
      "text/html": [
       "<div>\n",
       "<style scoped>\n",
       "    .dataframe tbody tr th:only-of-type {\n",
       "        vertical-align: middle;\n",
       "    }\n",
       "\n",
       "    .dataframe tbody tr th {\n",
       "        vertical-align: top;\n",
       "    }\n",
       "\n",
       "    .dataframe thead th {\n",
       "        text-align: right;\n",
       "    }\n",
       "</style>\n",
       "<table border=\"1\" class=\"dataframe\">\n",
       "  <thead>\n",
       "    <tr style=\"text-align: right;\">\n",
       "      <th></th>\n",
       "      <th>dist</th>\n",
       "      <th>R</th>\n",
       "      <th>Z</th>\n",
       "      <th>Dense</th>\n",
       "    </tr>\n",
       "  </thead>\n",
       "  <tbody>\n",
       "    <tr>\n",
       "      <th>0</th>\n",
       "      <td>-0.887049</td>\n",
       "      <td>0.585937</td>\n",
       "      <td>0.851084</td>\n",
       "      <td>4.369019e+18</td>\n",
       "    </tr>\n",
       "    <tr>\n",
       "      <th>1</th>\n",
       "      <td>-0.884002</td>\n",
       "      <td>0.584349</td>\n",
       "      <td>0.848484</td>\n",
       "      <td>4.841934e+18</td>\n",
       "    </tr>\n",
       "    <tr>\n",
       "      <th>2</th>\n",
       "      <td>-0.879959</td>\n",
       "      <td>0.582209</td>\n",
       "      <td>0.845053</td>\n",
       "      <td>5.269189e+18</td>\n",
       "    </tr>\n",
       "    <tr>\n",
       "      <th>3</th>\n",
       "      <td>-0.874901</td>\n",
       "      <td>0.579488</td>\n",
       "      <td>0.840789</td>\n",
       "      <td>5.590359e+18</td>\n",
       "    </tr>\n",
       "    <tr>\n",
       "      <th>4</th>\n",
       "      <td>-0.868808</td>\n",
       "      <td>0.576156</td>\n",
       "      <td>0.835689</td>\n",
       "      <td>5.819136e+18</td>\n",
       "    </tr>\n",
       "    <tr>\n",
       "      <th>...</th>\n",
       "      <td>...</td>\n",
       "      <td>...</td>\n",
       "      <td>...</td>\n",
       "      <td>...</td>\n",
       "    </tr>\n",
       "    <tr>\n",
       "      <th>62</th>\n",
       "      <td>0.940511</td>\n",
       "      <td>0.574721</td>\n",
       "      <td>-0.833527</td>\n",
       "      <td>6.294196e+18</td>\n",
       "    </tr>\n",
       "    <tr>\n",
       "      <th>63</th>\n",
       "      <td>0.946599</td>\n",
       "      <td>0.578076</td>\n",
       "      <td>-0.838608</td>\n",
       "      <td>6.008731e+18</td>\n",
       "    </tr>\n",
       "    <tr>\n",
       "      <th>64</th>\n",
       "      <td>0.951615</td>\n",
       "      <td>0.580797</td>\n",
       "      <td>-0.842821</td>\n",
       "      <td>5.624394e+18</td>\n",
       "    </tr>\n",
       "    <tr>\n",
       "      <th>65</th>\n",
       "      <td>0.955580</td>\n",
       "      <td>0.582915</td>\n",
       "      <td>-0.846172</td>\n",
       "      <td>5.136509e+18</td>\n",
       "    </tr>\n",
       "    <tr>\n",
       "      <th>66</th>\n",
       "      <td>0.958526</td>\n",
       "      <td>0.584471</td>\n",
       "      <td>-0.848675</td>\n",
       "      <td>4.575104e+18</td>\n",
       "    </tr>\n",
       "  </tbody>\n",
       "</table>\n",
       "<p>67 rows × 4 columns</p>\n",
       "</div>"
      ],
      "text/plain": [
       "        dist         R         Z         Dense\n",
       "0  -0.887049  0.585937  0.851084  4.369019e+18\n",
       "1  -0.884002  0.584349  0.848484  4.841934e+18\n",
       "2  -0.879959  0.582209  0.845053  5.269189e+18\n",
       "3  -0.874901  0.579488  0.840789  5.590359e+18\n",
       "4  -0.868808  0.576156  0.835689  5.819136e+18\n",
       "..       ...       ...       ...           ...\n",
       "62  0.940511  0.574721 -0.833527  6.294196e+18\n",
       "63  0.946599  0.578076 -0.838608  6.008731e+18\n",
       "64  0.951615  0.580797 -0.842821  5.624394e+18\n",
       "65  0.955580  0.582915 -0.846172  5.136509e+18\n",
       "66  0.958526  0.584471 -0.848675  4.575104e+18\n",
       "\n",
       "[67 rows x 4 columns]"
      ]
     },
     "execution_count": 41,
     "metadata": {},
     "output_type": "execute_result"
    }
   ],
   "source": [
    "df"
   ]
  },
  {
   "cell_type": "code",
   "execution_count": 42,
   "metadata": {},
   "outputs": [
    {
     "data": {
      "text/plain": [
       "[<matplotlib.lines.Line2D at 0x20db89803a0>]"
      ]
     },
     "execution_count": 42,
     "metadata": {},
     "output_type": "execute_result"
    },
    {
     "data": {
      "image/png": "[encoded data removed]",
      "text/plain": [
       "<Figure size 640x480 with 1 Axes>"
      ]
     },
     "metadata": {},
     "output_type": "display_data"
    }
   ],
   "source": [
    "plt.plot(df[\"R\"], df[\"Z\"])\n"
   ]
  }
 ],
 "metadata": {
  "kernelspec": {
   "display_name": "Python 3.9.13 ('base')",
   "language": "python",
   "name": "python3"
  },
  "language_info": {
   "codemirror_mode": {
    "name": "ipython",
    "version": 3
   },
   "file_extension": ".py",
   "mimetype": "text/x-python",
   "name": "python",
   "nbconvert_exporter": "python",
   "pygments_lexer": "ipython3",
   "version": "3.10.11"
  },
  "orig_nbformat": 4,
  "vscode": {
   "interpreter": {
    "hash": "5d3028fb5fc7b0ce0999a527284344536284ceb78ab851f9ad8deb4f33e74dff"
   }
  }
 },
 "nbformat": 4,
 "nbformat_minor": 2
}
