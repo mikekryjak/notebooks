{
 "cells": [
  {
   "cell_type": "code",
   "execution_count": 1,
   "metadata": {},
   "outputs": [
    {
     "name": "stdout",
     "output_type": "stream",
     "text": [
      "\n",
      "st40_phys_viewer can not be loaded from outside Tokamak Energy!\n",
      "\n",
      "Done\n"
     ]
    }
   ],
   "source": [
    "from boututils.datafile import DataFile\n",
    "from boutdata.collect import collect\n",
    "import pandas as pd\n",
    "import numpy as np\n",
    "import matplotlib.pyplot as plt\n",
    "import os, sys, pathlib\n",
    "import platform\n",
    "import traceback\n",
    "import xarray\n",
    "import xbout\n",
    "import scipy\n",
    "import re\n",
    "import netCDF4 as nc\n",
    "\n",
    "onedrive_path = onedrive_path = str(os.getcwd()).split(\"OneDrive\")[0] + \"OneDrive\"\n",
    "sys.path.append(os.path.join(onedrive_path, r\"Project\\python-packages\\sdtools\"))\n",
    "sys.path.append(os.path.join(onedrive_path, r\"Project\\python-packages\\soledge\"))\n",
    "sys.path.append(os.path.join(onedrive_path, r\"Project\\python-packages\"))\n",
    "\n",
    "\n",
    "from gridtools.b2_tools import *\n",
    "from gridtools.utils import *\n",
    "\n",
    "from hermes3.fluxes import *\n",
    "from hermes3.case_db import *\n",
    "from hermes3.load import *\n",
    "from hermes3.named_selections import *\n",
    "from hermes3.plotting import *\n",
    "from hermes3.grid_fields import *\n",
    "from hermes3.accessors import *\n",
    "from hermes3.utils import *\n",
    "from code_comparison.viewer_2d import *\n",
    "from code_comparison.code_comparison import *\n",
    "from files.load_plasma_files\t\t\t\t\t\timport load_plasma_files\n",
    "from gridtools.solps_python_scripts.read_b2fgmtry import *\n",
    "\n",
    "from soledge.mk_funcs import *\n",
    "\n",
    "%load_ext autoreload\n",
    "%autoreload 2\n",
    "%matplotlib inline\n",
    "\n",
    "print(\"Done\")"
   ]
  },
  {
   "cell_type": "code",
   "execution_count": null,
   "metadata": {},
   "outputs": [],
   "source": []
  },
  {
   "cell_type": "code",
   "execution_count": 2,
   "metadata": {},
   "outputs": [],
   "source": [
    "from wrapper_class import *"
   ]
  },
  {
   "cell_type": "code",
   "execution_count": null,
   "metadata": {},
   "outputs": [],
   "source": []
  },
  {
   "cell_type": "code",
   "execution_count": 3,
   "metadata": {},
   "outputs": [
    {
     "ename": "AttributeError",
     "evalue": "'NoneType' object has no attribute 'Zones'",
     "output_type": "error",
     "traceback": [
      "\u001b[1;31m---------------------------------------------------------------------------\u001b[0m",
      "\u001b[1;31mAttributeError\u001b[0m                            Traceback (most recent call last)",
      "Cell \u001b[1;32mIn[3], line 2\u001b[0m\n\u001b[0;32m      1\u001b[0m path\u001b[39m=\u001b[39mos\u001b[39m.\u001b[39mpath\u001b[39m.\u001b[39mjoin(path \u001b[39m=\u001b[39m \u001b[39mr\u001b[39m\u001b[39m\"\u001b[39m\u001b[39mC:\u001b[39m\u001b[39m\\\u001b[39m\u001b[39mUsers\u001b[39m\u001b[39m\\\u001b[39m\u001b[39mMike.Kryajak\u001b[39m\u001b[39m\\\u001b[39m\u001b[39mOneDrive\u001b[39m\u001b[39m\\\u001b[39m\u001b[39mProject\u001b[39m\u001b[39m\\\u001b[39m\u001b[39mcollab\u001b[39m\u001b[39m\\\u001b[39m\u001b[39mFrom\u001b[39m\u001b[39m\\\u001b[39m\u001b[39mMatteo\u001b[39m\u001b[39m\\\u001b[39m\u001b[39m2022-07-24 - DTT30MW_6e19\u001b[39m\u001b[39m\\\u001b[39m\u001b[39mSOLEDGE2D_30MW_6e19_DTT\u001b[39m\u001b[39m\"\u001b[39m)\n\u001b[1;32m----> 2\u001b[0m \u001b[39mself\u001b[39m \u001b[39m=\u001b[39m SOLEDGEcase(path)\n",
      "File \u001b[1;32mc:\\Users\\Mike.Kryajak\\OneDrive\\Project\\python-packages\\soledge\\wrapper_class.py:37\u001b[0m, in \u001b[0;36mSOLEDGEcase.__init__\u001b[1;34m(self, path, verbose)\u001b[0m\n\u001b[0;32m     33\u001b[0m \u001b[39mself\u001b[39m\u001b[39m.\u001b[39mions \u001b[39m=\u001b[39m load_ions_list(path)   \u001b[39m# Includes electrons and ions (same nomenclature as original)\u001b[39;00m\n\u001b[0;32m     35\u001b[0m \u001b[39m# Load species parameters from both the plasma and EIRENE grid.\u001b[39;00m\n\u001b[0;32m     36\u001b[0m \u001b[39m# The first index of Plasmas is ions/neutrals and second is electrons\u001b[39;00m\n\u001b[1;32m---> 37\u001b[0m \u001b[39mself\u001b[39m\u001b[39m.\u001b[39mPlasmas \u001b[39m=\u001b[39m load_plasma_files(path, nZones\u001b[39m=\u001b[39m\u001b[39mlen\u001b[39m(\u001b[39mself\u001b[39;49m\u001b[39m.\u001b[39;49mConfig\u001b[39m.\u001b[39;49mZones), Evolution\u001b[39m=\u001b[39m\u001b[39m0\u001b[39m, iPlasmas\u001b[39m=\u001b[39m\u001b[39mrange\u001b[39m(\u001b[39mlen\u001b[39m(\u001b[39mself\u001b[39m\u001b[39m.\u001b[39mions)))\n\u001b[0;32m     39\u001b[0m \u001b[39m# Load parameter names\u001b[39;00m\n\u001b[0;32m     40\u001b[0m \u001b[39mself\u001b[39m\u001b[39m.\u001b[39miparams \u001b[39m=\u001b[39m \u001b[39mself\u001b[39m\u001b[39m.\u001b[39mPlasmas[\u001b[39m0\u001b[39m][\u001b[39m0\u001b[39m]\u001b[39m.\u001b[39mVNames\n",
      "\u001b[1;31mAttributeError\u001b[0m: 'NoneType' object has no attribute 'Zones'"
     ]
    }
   ],
   "source": [
    "path=os.path.join(path = r\"C:\\Users\\Mike.Kryajak\\OneDrive\\Project\\collab\\tech\\compare_data\\DTT\\SOLEDGE2D_30MW_6e19_DTT\")\n",
    "self = SOLEDGEcase(path)\n",
    "\n"
   ]
  },
  {
   "cell_type": "code",
   "execution_count": 11,
   "metadata": {},
   "outputs": [],
   "source": [
    "meshpath = r\"C:\\Users\\Mike.Kryajak\\OneDrive\\Project\\collab\\tech\\compare_data\\DTT\\SOLEDGE2D_30MW_6e19_DTT\\Results\\mesh\""
   ]
  },
  {
   "cell_type": "code",
   "execution_count": 10,
   "metadata": {},
   "outputs": [
    {
     "name": "stdout",
     "output_type": "stream",
     "text": [
      "load_soledge_mesh_file: reading file  C:\\Users\\Mike.Kryajak\\OneDrive\\Project\\collab\\tech\\compare_data\\DTT\\SOLEDGE2D_30MW_6e19_DTT\\Results\\mesh\n",
      "\th5_read: error reading:  Version\n",
      "\th5_read: error reading:  /mesher/Fields/r2\n",
      "\tload_soledge_mesh_file: in_equ = NO\n",
      "\th5_read: error reading:  /config/nsep\n"
     ]
    },
    {
     "ename": "AttributeError",
     "evalue": "'types.SimpleNamespace' object has no attribute 'Zones_OK'",
     "output_type": "error",
     "traceback": [
      "\u001b[1;31m---------------------------------------------------------------------------\u001b[0m",
      "\u001b[1;31mAttributeError\u001b[0m                            Traceback (most recent call last)",
      "Cell \u001b[1;32mIn[10], line 2\u001b[0m\n\u001b[0;32m      1\u001b[0m \u001b[39mfrom\u001b[39;00m \u001b[39mold_mesh_to_new\u001b[39;00m \u001b[39mimport\u001b[39;00m \u001b[39m*\u001b[39m\n\u001b[1;32m----> 2\u001b[0m oldmesh \u001b[39m=\u001b[39m load_soledge_mesh_file_V0(\u001b[39mr\u001b[39;49m\u001b[39m\"\u001b[39;49m\u001b[39mC:\u001b[39;49m\u001b[39m\\\u001b[39;49m\u001b[39mUsers\u001b[39;49m\u001b[39m\\\u001b[39;49m\u001b[39mMike.Kryajak\u001b[39;49m\u001b[39m\\\u001b[39;49m\u001b[39mOneDrive\u001b[39;49m\u001b[39m\\\u001b[39;49m\u001b[39mProject\u001b[39;49m\u001b[39m\\\u001b[39;49m\u001b[39mcollab\u001b[39;49m\u001b[39m\\\u001b[39;49m\u001b[39mtech\u001b[39;49m\u001b[39m\\\u001b[39;49m\u001b[39mcompare_data\u001b[39;49m\u001b[39m\\\u001b[39;49m\u001b[39mDTT\u001b[39;49m\u001b[39m\\\u001b[39;49m\u001b[39mSOLEDGE2D_30MW_6e19_DTT\u001b[39;49m\u001b[39m\\\u001b[39;49m\u001b[39mResults\u001b[39;49m\u001b[39m\\\u001b[39;49m\u001b[39mmesh\u001b[39;49m\u001b[39m\"\u001b[39;49m)\n",
      "File \u001b[1;32mc:\\Users\\Mike.Kryajak\\OneDrive\\Project\\python-packages\\soledge\\files\\load_soledge_mesh_file_V0.py:246\u001b[0m, in \u001b[0;36mload_soledge_mesh_file_V0\u001b[1;34m(MeshFile)\u001b[0m\n\u001b[0;32m    242\u001b[0m \t\t\t\u001b[39mif\u001b[39;00m(DEBUG \u001b[39m>\u001b[39m \u001b[39m1\u001b[39m): \u001b[39mprint\u001b[39m(\u001b[39m\"\u001b[39m\u001b[39m\\t\u001b[39;00m\u001b[39mload_soledge_mesh_file: Limits = NO\u001b[39m\u001b[39m\"\u001b[39m)\n\u001b[0;32m    244\u001b[0m \u001b[39m#\tTry if segments have been defined\u001b[39;00m\n\u001b[1;32m--> 246\u001b[0m \t\u001b[39mif\u001b[39;00m(Mesher\u001b[39m.\u001b[39;49mZones_OK):\n\u001b[0;32m    247\u001b[0m \t\t\u001b[39mtry\u001b[39;00m:\n\u001b[0;32m    248\u001b[0m \t\t\tmesher_pmegazones \u001b[39m=\u001b[39m \u001b[39m\"\u001b[39m\u001b[39m/mesher/PMegazones\u001b[39m\u001b[39m\"\u001b[39m\n",
      "\u001b[1;31mAttributeError\u001b[0m: 'types.SimpleNamespace' object has no attribute 'Zones_OK'"
     ]
    }
   ],
   "source": [
    "from old_mesh_to_new import *\n",
    "oldmesh = load_soledge_mesh_file_V0(r\"C:\\Users\\Mike.Kryajak\\OneDrive\\Project\\collab\\tech\\compare_data\\DTT\\SOLEDGE2D_30MW_6e19_DTT\\Results\\mesh\")"
   ]
  },
  {
   "cell_type": "code",
   "execution_count": 12,
   "metadata": {},
   "outputs": [],
   "source": [
    "f = h5py.File(meshpath, \"r\")"
   ]
  },
  {
   "cell_type": "code",
   "execution_count": 13,
   "metadata": {},
   "outputs": [
    {
     "data": {
      "text/plain": [
       "<KeysViewHDF5 ['zone1', 'zone10', 'zone11', 'zone12', 'zone13', 'zone14', 'zone15', 'zone16', 'zone17', 'zone18', 'zone19', 'zone2', 'zone20', 'zone21', 'zone22', 'zone23', 'zone24', 'zone25', 'zone26', 'zone27', 'zone28', 'zone29', 'zone3', 'zone30', 'zone31', 'zone32', 'zone33', 'zone34', 'zone35', 'zone36', 'zone37', 'zone38', 'zone39', 'zone4', 'zone40', 'zone41', 'zone42', 'zone43', 'zone44', 'zone45', 'zone46', 'zone5', 'zone6', 'zone7', 'zone8', 'zone9']>"
      ]
     },
     "execution_count": 13,
     "metadata": {},
     "output_type": "execute_result"
    }
   ],
   "source": [
    "f.keys()"
   ]
  },
  {
   "cell_type": "code",
   "execution_count": 8,
   "metadata": {},
   "outputs": [],
   "source": [
    "from files.load_soledge_mesh_file_V0\timport load_soledge_mesh_file_V0"
   ]
  },
  {
   "cell_type": "code",
   "execution_count": 15,
   "metadata": {},
   "outputs": [
    {
     "name": "stdout",
     "output_type": "stream",
     "text": [
      "\told_mesh_to_new: Converting mesh file  C:\\Users\\Mike.Kryajak\\OneDrive\\Project\\collab\\tech\\compare_data\\DTT\\SOLEDGE2D_30MW_6e19_DTT\\Results\\mesh\n",
      "\th5_read: error reading:  Version\n",
      "load_soledge_mesh_file: reading file  C:\\Users\\Mike.Kryajak\\OneDrive\\Project\\collab\\tech\\compare_data\\DTT\\SOLEDGE2D_30MW_6e19_DTT\\Results\\mesh\n",
      "\th5_read: error reading:  Version\n",
      "\th5_read: error reading:  /mesher/Fields/r2\n",
      "\tload_soledge_mesh_file: in_equ = NO\n",
      "\th5_read: error reading:  /config/nsep\n",
      "False\n"
     ]
    },
    {
     "ename": "AttributeError",
     "evalue": "'types.SimpleNamespace' object has no attribute 'Zones_OK'",
     "output_type": "error",
     "traceback": [
      "\u001b[1;31m---------------------------------------------------------------------------\u001b[0m",
      "\u001b[1;31mAttributeError\u001b[0m                            Traceback (most recent call last)",
      "Cell \u001b[1;32mIn[15], line 1\u001b[0m\n\u001b[1;32m----> 1\u001b[0m old_mesh_to_new(old_mesh \u001b[39m=\u001b[39;49m \u001b[39mr\u001b[39;49m\u001b[39m\"\u001b[39;49m\u001b[39mC:\u001b[39;49m\u001b[39m\\\u001b[39;49m\u001b[39mUsers\u001b[39;49m\u001b[39m\\\u001b[39;49m\u001b[39mMike.Kryajak\u001b[39;49m\u001b[39m\\\u001b[39;49m\u001b[39mOneDrive\u001b[39;49m\u001b[39m\\\u001b[39;49m\u001b[39mProject\u001b[39;49m\u001b[39m\\\u001b[39;49m\u001b[39mcollab\u001b[39;49m\u001b[39m\\\u001b[39;49m\u001b[39mtech\u001b[39;49m\u001b[39m\\\u001b[39;49m\u001b[39mcompare_data\u001b[39;49m\u001b[39m\\\u001b[39;49m\u001b[39mDTT\u001b[39;49m\u001b[39m\\\u001b[39;49m\u001b[39mSOLEDGE2D_30MW_6e19_DTT\u001b[39;49m\u001b[39m\\\u001b[39;49m\u001b[39mResults\u001b[39;49m\u001b[39m\\\u001b[39;49m\u001b[39mmesh\u001b[39;49m\u001b[39m\"\u001b[39;49m,\n\u001b[0;32m      2\u001b[0m                 new_mesh \u001b[39m=\u001b[39;49m \u001b[39mr\u001b[39;49m\u001b[39m\"\u001b[39;49m\u001b[39mC:\u001b[39;49m\u001b[39m\\\u001b[39;49m\u001b[39mUsers\u001b[39;49m\u001b[39m\\\u001b[39;49m\u001b[39mMike.Kryajak\u001b[39;49m\u001b[39m\\\u001b[39;49m\u001b[39mOneDrive\u001b[39;49m\u001b[39m\\\u001b[39;49m\u001b[39mProject\u001b[39;49m\u001b[39m\\\u001b[39;49m\u001b[39mcollab\u001b[39;49m\u001b[39m\\\u001b[39;49m\u001b[39mtech\u001b[39;49m\u001b[39m\\\u001b[39;49m\u001b[39mcompare_data\u001b[39;49m\u001b[39m\\\u001b[39;49m\u001b[39mDTT\u001b[39;49m\u001b[39m\\\u001b[39;49m\u001b[39mSOLEDGE2D_30MW_6e19_DTT\u001b[39;49m\u001b[39m\\\u001b[39;49m\u001b[39mmesh.h5\u001b[39;49m\u001b[39m\"\u001b[39;49m)\n",
      "File \u001b[1;32mc:\\Users\\Mike.Kryajak\\OneDrive\\Project\\python-packages\\soledge\\old_mesh_to_new.py:55\u001b[0m, in \u001b[0;36mold_mesh_to_new\u001b[1;34m(old_mesh, new_mesh)\u001b[0m\n\u001b[0;32m     52\u001b[0m \tif_mesh\u001b[39m.\u001b[39mclose()\n\u001b[0;32m     54\u001b[0m \t\u001b[39mif\u001b[39;00m(FileVersion \u001b[39m<\u001b[39m \u001b[39m1\u001b[39m):\n\u001b[1;32m---> 55\u001b[0m \t\tConfig\t\t\t\t\u001b[39m=\u001b[39m load_soledge_mesh_file_V0(old_mesh)\n\u001b[0;32m     57\u001b[0m \u001b[39m#\t\tUpdate to new data\u001b[39;00m\n\u001b[0;32m     59\u001b[0m \t\tConfig\u001b[39m.\u001b[39mMagZones\t\t\t\u001b[39m=\u001b[39m Config\u001b[39m.\u001b[39mZones\n",
      "File \u001b[1;32mc:\\Users\\Mike.Kryajak\\OneDrive\\Project\\python-packages\\soledge\\files\\load_soledge_mesh_file_V0.py:247\u001b[0m, in \u001b[0;36mload_soledge_mesh_file_V0\u001b[1;34m(MeshFile)\u001b[0m\n\u001b[0;32m    243\u001b[0m \t\t\t\u001b[39mif\u001b[39;00m(DEBUG \u001b[39m>\u001b[39m \u001b[39m1\u001b[39m): \u001b[39mprint\u001b[39m(\u001b[39m\"\u001b[39m\u001b[39m\\t\u001b[39;00m\u001b[39mload_soledge_mesh_file: Limits = NO\u001b[39m\u001b[39m\"\u001b[39m)\n\u001b[0;32m    245\u001b[0m \u001b[39m#\tTry if segments have been defined\u001b[39;00m\n\u001b[1;32m--> 247\u001b[0m \t\u001b[39mif\u001b[39;00m(Mesher\u001b[39m.\u001b[39;49mZones_OK):\n\u001b[0;32m    248\u001b[0m \t\t\u001b[39mtry\u001b[39;00m:\n\u001b[0;32m    249\u001b[0m \t\t\tmesher_pmegazones \u001b[39m=\u001b[39m \u001b[39m\"\u001b[39m\u001b[39m/mesher/PMegazones\u001b[39m\u001b[39m\"\u001b[39m\n",
      "\u001b[1;31mAttributeError\u001b[0m: 'types.SimpleNamespace' object has no attribute 'Zones_OK'"
     ]
    }
   ],
   "source": [
    "old_mesh_to_new(old_mesh = r\"C:\\Users\\Mike.Kryajak\\OneDrive\\Project\\collab\\tech\\compare_data\\DTT\\SOLEDGE2D_30MW_6e19_DTT\\Results\\mesh\",\n",
    "                new_mesh = r\"C:\\Users\\Mike.Kryajak\\OneDrive\\Project\\collab\\tech\\compare_data\\DTT\\SOLEDGE2D_30MW_6e19_DTT\\mesh.h5\")"
   ]
  },
  {
   "cell_type": "code",
   "execution_count": 5,
   "metadata": {},
   "outputs": [
    {
     "name": "stdout",
     "output_type": "stream",
     "text": [
      "load_soledge_mesh_file: reading file  C:\\Users\\Mike.Kryajak\\OneDrive\\Project\\collab\\tech\\compare_data\\DTT\\SOLEDGE2D_30MW_6e19_DTT\\Results\\mesh\n",
      "\th5_read: error reading:  Version\n",
      "load_soledge_mesh_file: mesh file too old, you must try to update it with old_mesh_to_new.py\n"
     ]
    },
    {
     "ename": "NameError",
     "evalue": "name 'exit' is not defined",
     "output_type": "error",
     "traceback": [
      "\u001b[1;31m---------------------------------------------------------------------------\u001b[0m",
      "\u001b[1;31mNameError\u001b[0m                                 Traceback (most recent call last)",
      "Cell \u001b[1;32mIn[5], line 1\u001b[0m\n\u001b[1;32m----> 1\u001b[0m Config \u001b[39m=\u001b[39m load_soledge_mesh_file(\u001b[39mr\u001b[39;49m\u001b[39m\"\u001b[39;49m\u001b[39mC:\u001b[39;49m\u001b[39m\\\u001b[39;49m\u001b[39mUsers\u001b[39;49m\u001b[39m\\\u001b[39;49m\u001b[39mMike.Kryajak\u001b[39;49m\u001b[39m\\\u001b[39;49m\u001b[39mOneDrive\u001b[39;49m\u001b[39m\\\u001b[39;49m\u001b[39mProject\u001b[39;49m\u001b[39m\\\u001b[39;49m\u001b[39mcollab\u001b[39;49m\u001b[39m\\\u001b[39;49m\u001b[39mtech\u001b[39;49m\u001b[39m\\\u001b[39;49m\u001b[39mcompare_data\u001b[39;49m\u001b[39m\\\u001b[39;49m\u001b[39mDTT\u001b[39;49m\u001b[39m\\\u001b[39;49m\u001b[39mSOLEDGE2D_30MW_6e19_DTT\u001b[39;49m\u001b[39m\\\u001b[39;49m\u001b[39mResults\u001b[39;49m\u001b[39m\\\u001b[39;49m\u001b[39mmesh\u001b[39;49m\u001b[39m\"\u001b[39;49m)\n",
      "File \u001b[1;32mc:\\Users\\Mike.Kryajak\\OneDrive\\Project\\python-packages\\soledge\\files\\load_soledge_mesh_file.py:53\u001b[0m, in \u001b[0;36mload_soledge_mesh_file\u001b[1;34m(MeshFile)\u001b[0m\n\u001b[0;32m     51\u001b[0m \t\u001b[39mprint\u001b[39m(\u001b[39m\"\u001b[39m\u001b[39mload_soledge_mesh_file: mesh file too old, you must try to update it with old_mesh_to_new.py\u001b[39m\u001b[39m\"\u001b[39m)\n\u001b[0;32m     52\u001b[0m \tif_mesh\u001b[39m.\u001b[39mclose()\n\u001b[1;32m---> 53\u001b[0m \texit()\n\u001b[0;32m     55\u001b[0m \u001b[39mtry\u001b[39;00m:\n\u001b[0;32m     56\u001b[0m \tmesher_fields\t\t\u001b[39m=\u001b[39m \u001b[39m\"\u001b[39m\u001b[39m/mesher/Fields\u001b[39m\u001b[39m\"\u001b[39m\n",
      "\u001b[1;31mNameError\u001b[0m: name 'exit' is not defined"
     ]
    }
   ],
   "source": [
    "Config = load_soledge_mesh_file(r\"C:\\Users\\Mike.Kryajak\\OneDrive\\Project\\collab\\tech\\compare_data\\DTT\\SOLEDGE2D_30MW_6e19_DTT\\Results\\mesh\")"
   ]
  },
  {
   "cell_type": "code",
   "execution_count": null,
   "metadata": {},
   "outputs": [],
   "source": [
    "if_mesh = h5py.File(os.path.join(path, \"mesh.h5\"), \"r\")\n",
    "\n",
    "try:\n",
    "    Rwall\t= h5_read(if_mesh, \"walls/wall1/R\")\n",
    "    Zwall\t= h5_read(if_mesh, \"walls/wall1/Z\")\n",
    "except:\n",
    "    Rwall\t= h5_read(if_mesh, \"wall/R\")\n",
    "    Zwall\t= h5_read(if_mesh, \"wall/Z\")\n",
    "\n",
    "if_mesh.close()"
   ]
  },
  {
   "cell_type": "code",
   "execution_count": 10,
   "metadata": {},
   "outputs": [],
   "source": [
    "from files.load_soledge_mesh_file\t\t\t\timport load_soledge_mesh_file\n",
    "from files.load_plasma_files\t\t\t\t\t\timport load_plasma_files\n",
    "from files.load_ions_list\t\t\t\t\t\t\t\timport load_ions_list\n",
    "from files.load_refpar_file\t\t\t\timport load_refpar_file\n",
    "from mesh.get_rz_core_sep\t\t\t\t\t\timport get_rz_core_sep\n",
    "from mesh.get_rho_in_out_core_sep\t\timport get_rho_in_out_core_sep\n",
    "from mesh.find_zones_intersections\t\t\timport find_zones_intersections\n",
    "from mesh.compute_mesh_intersections\timport compute_mesh_intersections\n",
    "from routines.intersect_contour\t\t\t\timport intersect_2contours\n",
    "from routines.utils_walls\t\t\t\t\t\t\timport get_in_out_walls, plot2d_walls, get_dmax_points_walls\n",
    "from routines.h5_routines\t\t\t\timport h5_read\n",
    "from math\t\t\t\t\t\t\t\t\t\t\t\t\timport sqrt, exp\n",
    "import numpy\t\t\t\t\t\t\t\t\t\t\tas np\n",
    "import os, sys\n",
    "import pandas as pd\n",
    "import matplotlib.pyplot as plt\n",
    "import matplotlib as mpl\n",
    "import h5py"
   ]
  },
  {
   "cell_type": "code",
   "execution_count": 26,
   "metadata": {},
   "outputs": [],
   "source": [
    "#===================================================================\n",
    "\n",
    "def get_plasma_parameter_on_pol(Plasma, iPar, ix, iZones, iThWest, iThEast, nThetaPts):\n",
    "\n",
    "\tPar = np.zeros(nThetaPts, dtype='f8')\n",
    "\n",
    "\tif(iPar > -1):\n",
    "\t\tjOff = 0\n",
    "\t\tfor k in range(len(iZones)):\n",
    "\t\t\tif(Plasma[iZones[k]].Nz < Plasma[iZones[k]].Values[iPar].shape[1]):\n",
    "\t\t\t\tPar[jOff: jOff + iThEast[k] - iThWest[k]] = Plasma[iZones[k]].Values[iPar][ix, iThWest[k]+1:iThEast[k]+1]\t\t#[Nx+2,Nz+2] parameter\n",
    "\t\t\telse:\n",
    "\t\t\t\tPar[jOff: jOff + iThEast[k] - iThWest[k]] = Plasma[iZones[k]].Values[iPar][ix, iThWest[k]:iThEast[k]]\t\t\t\t#[Nx,Nz] parameter\n",
    "\n",
    "\t\t\tjOff += iThEast[k] - iThWest[k]\n",
    "\n",
    "\treturn Par"
   ]
  },
  {
   "cell_type": "code",
   "execution_count": 25,
   "metadata": {},
   "outputs": [
    {
     "name": "stdout",
     "output_type": "stream",
     "text": [
      "load_soledge_mesh_file: reading file  c:\\Users\\mikek\\OneDrive\\Project\\collab\\tech\\compare_data\\soledge_cases\\copy_wallStd_bra_nocore_D\\mesh.h5\n",
      "\tload_soledge_mesh_file: in_equ = OK\n",
      "\th5_read: error reading:  /mesher/Fields/RadArroundXp\n",
      "\tload_soledge_mesh_file: extrapol = OK\n",
      "\tload_soledge_mesh_file: xPoints = OK\n",
      "\tload_soledge_mesh_file: Frontiers = OK\n",
      "\tload_soledge_mesh_file: Limits = OK\n",
      "\th5_read: error reading:  /mesher/OMP_segment/mesher/refpoints/nPoints\n",
      "\tload_soledge_mesh_file: Segments = OK\n",
      "\tload_soledge_mesh_file: MagGrid_OK = OK\n",
      "\tload_soledge_mesh_file: new_equ = OK\n",
      "\tload_soledge_mesh_file: equ = OK\n",
      "\tload_soledge_mesh_file: Mesh = OK\n",
      "\tload_soledge_mesh_file: transp_prof = NO\n",
      "\tload_soledge_mesh_file: transp_values = OK\n",
      "\tload_soledge_mesh_file: feedback_transp = NO\n",
      "\th5_read: error reading:  /mesher/FeedbackPuffing/AutoTarget\n",
      "\tload_soledge_mesh_file: feedback_puffing = NO\n",
      "\th5_read: error reading:  /CustomPlots/Parallel/nPlots\n",
      "\th5_read: error reading:  /CustomPlots/Perpendicular/nPlots\n",
      "\th5_read: error reading:  /CustomPlots/Temporal/nPlots\n",
      "define_OMP_segment\n"
     ]
    },
    {
     "name": "stderr",
     "output_type": "stream",
     "text": [
      "c:\\Users\\mikek\\OneDrive\\Project\\python-packages\\soledge\\routines\\h5_routines.py:65: FutureWarning: In the future `np.str` will be defined as the corresponding NumPy scalar.\n",
      "  Data = Data.astype(np.str)\n"
     ]
    },
    {
     "name": "stdout",
     "output_type": "stream",
     "text": [
      "\n",
      "define_OMP_segment: completed\n",
      "\n",
      "load_soledge_mesh_file: Completed\n",
      "\tload_plasma_files: Loading:  c:\\Users\\mikek\\OneDrive\\Project\\collab\\tech\\compare_data\\soledge_cases\\copy_wallStd_bra_nocore_D/Results/plasma_0\n",
      "\tload_plasma_files: Loading:  c:\\Users\\mikek\\OneDrive\\Project\\collab\\tech\\compare_data\\soledge_cases\\copy_wallStd_bra_nocore_D/Results/plasma_1\n"
     ]
    }
   ],
   "source": [
    "path=os.path.join(onedrive_path, r\"Project\\collab\\tech\\compare_data\\soledge_cases\\copy_wallStd_bra_nocore_D\")\n",
    "parallel_length = False\n",
    "rz0_line = []\n",
    "theta_line = 0\n",
    "d_from_sep = 0.01\n",
    "\n",
    "self = SOLEDGEcase(path)"
   ]
  },
  {
   "cell_type": "code",
   "execution_count": 19,
   "metadata": {},
   "outputs": [
    {
     "name": "stdout",
     "output_type": "stream",
     "text": [
      "get_rz_core_sep\n",
      "get_rz_core_sep: completed\n",
      "compute_mesh_intersections\n",
      "get_rz_core_sep\n",
      "get_rz_core_sep: completed\n",
      "compute_mesh_intersections:Completed\n",
      "get_rho_in_out_core_sep\n",
      "get_rz_core_sep\n",
      "get_rz_core_sep: completed\n",
      "get_rho_in_out_core_sep: completed\n"
     ]
    }
   ],
   "source": [
    "Zones = self.Config.Zones\n",
    "\n",
    "#\tRead Metric\n",
    "\n",
    "l_pol = 1 if parallel_length is False else 0 \n",
    "\n",
    "if(l_pol == 0):\n",
    "    if_metric = h5py.File(os.path.join(path, \"Results/metric\"), \"r\")\n",
    "    Gmet = []\n",
    "    for k in range(len(self.Config.Zones)):\n",
    "        zone = \"zone{:d}\".format(k+1)\n",
    "        Gmet.append(h5_read(if_metric, zone+ '/G', order = 'F'))\t\t\t\t\t\t\t\t\t#[Nx+2,Nz+2]\n",
    "\n",
    "    if_metric.close()\n",
    "    \n",
    "#\tFind mesh along line\n",
    "\n",
    "if(len(rz0_line) == 0):\n",
    "    Rcore, Zcore, CoreMegazone = get_rz_core_sep(self.Config, core_and_sep = False)\n",
    "    rz0_line = [0.5*(Rcore.min() + Rcore.max()), 0.]\n",
    "\n",
    "rMax\t\t= 6*get_dmax_points_walls(self.Config, rz0_line[0], rz0_line[1], plasma_wall=True, eirene_wall=False, extra_wall=False)\n",
    "theta_line\t= theta_line*np.pi/180.\n",
    "RZLine\t\t= np.array([[rz0_line[0],\t\t\t\t\t\t  rz0_line[1]], \\\n",
    "                        [rz0_line[0]+rMax*np.cos(theta_line), rz0_line[1]+rMax*np.sin(theta_line)]])\n",
    "\n",
    "\n",
    "Cut = find_zones_intersections(self.Config, RZLine)\n",
    "Lengths, IntRZ, IntCEll = compute_mesh_intersections(self.Config, Cut, also_pos=True, use_mag_zones=False)\n",
    "in_wall, out_wall = get_in_out_walls(self.Config, IntRZ[:,0], IntRZ[:,1])\n",
    "Lengths = Lengths[in_wall,:]\n",
    "IntRZ\t= IntRZ[in_wall,:]\n",
    "IntCEll\t= IntCEll[in_wall,:]\n",
    "\n",
    "dist = Lengths[:,0] - Lengths[0,0]\n",
    "Rho, In_Sep, Out_Sep, RZcore, RZsep = get_rho_in_out_core_sep(self.Config, IntRZ[:,0], IntRZ[:,1])\n",
    "\n",
    "if(len(In_Sep) > 0):\n",
    "    if(Out_Sep[-1] < In_Sep[0]):\n",
    "        Out_Sep = np.append(Out_Sep, In_Sep[0])\n",
    "    else:\n",
    "        Out_Sep = np.append(In_Sep[-1], Out_Sep)\n",
    "\n",
    "Ri, Zi, is1, is2  = intersect_2contours(RZsep[:,0], RZsep[:,1], IntRZ[:,0], IntRZ[:,1])\n",
    "if(len(Ri)==0):\n",
    "    plt.plot(RZsep[:,0], RZsep[:,1],'k-')\n",
    "    plt.plot(IntRZ[:,0], IntRZ[:,1],'r-')\n",
    "    plt.show()\n",
    "\n",
    "dsep = np.sqrt((IntRZ[0,0] - Ri[0])**2 + (IntRZ[0,1] - Zi[0])**2)\n",
    "dist -= dsep   # Distance from separatrix\n",
    "\n",
    "\n",
    "#\tSelect cell\n",
    "\n",
    "iCell = np.argmin(np.abs(dist-d_from_sep))\n",
    "iZone \t= IntCEll[iCell,0]\n",
    "ix\t\t= IntCEll[iCell,1]\n",
    "iTheta\t= IntCEll[iCell,2]\n",
    "\n",
    "#\tFind zones along poloidal coordinate\n",
    "\n",
    "if(Zones[iZone].Chi[ix,-1] == 1):\n",
    "    iThEast = np.array([np.min(np.where(Zones[iZone].Chi[ix,iTheta:] == 1)[0])+iTheta])\n",
    "    East = -1\n",
    "else:\n",
    "    iThEast = np.array([Zones[iZone].Chi.shape[1]])\n",
    "    East = Zones[iZone].Neighbour.east\n",
    "\n",
    "if(Zones[iZone].Chi[ix,0] == 1):\n",
    "    iThWest = np.array([np.max(np.where(Zones[iZone].Chi[ix,:iTheta] == 1)[0])])\n",
    "    West = -1\n",
    "else:\n",
    "    iThWest = np.array([0])\n",
    "    West = Zones[iZone].Neighbour.west\n",
    "\n",
    "iThetaOff  = iTheta - iThWest[0]\n",
    "nThetaPts  = iThEast[0] - iThWest[0]\n",
    "iZones\t   = np.array([iZone])\n",
    "\n",
    "#\tLook East\n",
    "\n",
    "while (East > -1):\n",
    "    iZones = np.append(iZones, East)\n",
    "    iThWest = np.append(iThWest,0)\n",
    "    if(Zones[East].Chi[ix,-1] == 1):\n",
    "        iThEast = np.append(iThEast, np.min(np.where(Zones[East].Chi[ix,:] == 1)[0]))\n",
    "        East = -1\n",
    "    else:\n",
    "        iThEast = np.append(iThEast, Zones[East].Chi.shape[1])\n",
    "        East \t = Zones[East].Neighbour.east\n",
    "    nThetaPts += iThEast[-1]\n",
    "\n",
    "#\tLook West\n",
    "\n",
    "while (West > -1):\n",
    "    iZones = np.append(West, iZones)\n",
    "    iThEast = np.append(Zones[West].Chi.shape[1], iThEast)\n",
    "    if(Zones[West].Chi[ix,0] == 1):\n",
    "        iThWest = np.append(np.max(np.where(Zones[West].Chi[ix,:] == 1)[0])+1, iThWest)\n",
    "        West = -1\n",
    "    else:\n",
    "        iThWest = np.append(0, iThWest)\n",
    "        West = Zones[West].Neighbour.west\n",
    "    iThetaOff += iThEast[0] - iThWest[0]\n",
    "    nThetaPts += iThEast[0] - iThWest[0]\n",
    "\n",
    "Rpol = np.empty((nThetaPts), dtype = 'f8')\n",
    "Zpol = np.empty((nThetaPts), dtype = 'f8')\n",
    "jOff = 0\n",
    "for k in range(len(iZones)):\n",
    "    Rpol[jOff: jOff + iThEast[k] - iThWest[k]] = Zones[iZones[k]].gridRc[ix, iThWest[k]:iThEast[k]]\n",
    "    Zpol[jOff: jOff + iThEast[k] - iThWest[k]] = Zones[iZones[k]].gridZc[ix, iThWest[k]:iThEast[k]]\n",
    "    jOff += iThEast[k] - iThWest[k]\n",
    "\n",
    "if(l_pol == 0):\n",
    "    dl = np.empty((nThetaPts), dtype = 'f8')\n",
    "    jOff = 0\n",
    "    for k in range(len(iZones)):\n",
    "        dtheta = (Zones[iZones[k]].zb[ix, 1:] - Zones[iZones[k]].zb[ix, :-1])*2.*np.pi\n",
    "        dlZone\t   = 2.*dtheta/Gmet[iZones[k]][ix+1, 1:-1]\n",
    "        dl[jOff: jOff + iThEast[k] - iThWest[k]] = dlZone[iThWest[k]:iThEast[k]]\n",
    "        jOff += iThEast[k] - iThWest[k]\n",
    "    dlZone = 0\n",
    "    Lpara = np.cumsum(dl)\n",
    "    dl\t  = 0\n",
    "else:\n",
    "    Lpara = np.sqrt((Rpol[1:]-Rpol[:-1])**2 + (Zpol[1:]-Zpol[:-1])**2)\n",
    "    Lpara = np.append(0., np.cumsum(np.sqrt((Rpol[1:]-Rpol[:-1])**2 + (Zpol[1:]-Zpol[:-1])**2)))\n",
    "\n",
    "Lpara = Lpara - Lpara[iThetaOff]   # Parallel or poloidal distance starting at midplane, depending on setting l_pol"
   ]
  },
  {
   "cell_type": "code",
   "execution_count": null,
   "metadata": {},
   "outputs": [],
   "source": [
    "self.P"
   ]
  },
  {
   "cell_type": "code",
   "execution_count": 2,
   "metadata": {},
   "outputs": [],
   "source": [
    "class HiddenPrints:\n",
    "    \"\"\"\n",
    "    Suppress printing by:\n",
    "    with HiddenPrints():\n",
    "        ...\n",
    "    \"\"\"\n",
    "    def __enter__(self):\n",
    "        self._original_stdout = sys.stdout\n",
    "        sys.stdout = open(os.devnull, 'w')\n",
    "\n",
    "    def __exit__(self, exc_type, exc_val, exc_tb):\n",
    "        sys.stdout.close()\n",
    "        sys.stdout = self._original_stdout\n",
    "\n"
   ]
  },
  {
   "cell_type": "code",
   "execution_count": 78,
   "metadata": {},
   "outputs": [
    {
     "ename": "ValueError",
     "evalue": "I/O operation on closed file",
     "output_type": "error",
     "traceback": [
      "\u001b[1;31m---------------------------------------------------------------------------\u001b[0m",
      "\u001b[1;31mValueError\u001b[0m                                Traceback (most recent call last)",
      "Cell \u001b[1;32mIn[78], line 1\u001b[0m\n\u001b[1;32m----> 1\u001b[0m \u001b[39mprint\u001b[39;49m(\u001b[39m\"\u001b[39;49m\u001b[39myes\u001b[39;49m\u001b[39m\"\u001b[39;49m)\n",
      "File \u001b[1;32mc:\\Users\\mikek\\anaconda3\\envs\\new\\lib\\site-packages\\ipykernel\\iostream.py:547\u001b[0m, in \u001b[0;36mOutStream.write\u001b[1;34m(self, string)\u001b[0m\n\u001b[0;32m    544\u001b[0m             \u001b[39mprint\u001b[39m(\u001b[39mf\u001b[39m\u001b[39m\"\u001b[39m\u001b[39mWrite failed: \u001b[39m\u001b[39m{\u001b[39;00me\u001b[39m}\u001b[39;00m\u001b[39m\"\u001b[39m, file\u001b[39m=\u001b[39msys\u001b[39m.\u001b[39m__stderr__)\n\u001b[0;32m    546\u001b[0m \u001b[39mif\u001b[39;00m \u001b[39mself\u001b[39m\u001b[39m.\u001b[39mpub_thread \u001b[39mis\u001b[39;00m \u001b[39mNone\u001b[39;00m:\n\u001b[1;32m--> 547\u001b[0m     \u001b[39mraise\u001b[39;00m \u001b[39mValueError\u001b[39;00m(\u001b[39m\"\u001b[39m\u001b[39mI/O operation on closed file\u001b[39m\u001b[39m\"\u001b[39m)\n\u001b[0;32m    548\u001b[0m \u001b[39melse\u001b[39;00m:\n\u001b[0;32m    550\u001b[0m     is_child \u001b[39m=\u001b[39m \u001b[39mnot\u001b[39;00m \u001b[39mself\u001b[39m\u001b[39m.\u001b[39m_is_master_process()\n",
      "\u001b[1;31mValueError\u001b[0m: I/O operation on closed file"
     ]
    }
   ],
   "source": [
    "print(\"yes\")"
   ]
  },
  {
   "cell_type": "code",
   "execution_count": 3,
   "metadata": {},
   "outputs": [
    {
     "ename": "NameError",
     "evalue": "name 'contextlib' is not defined",
     "output_type": "error",
     "traceback": [
      "\u001b[1;31m---------------------------------------------------------------------------\u001b[0m",
      "\u001b[1;31mNameError\u001b[0m                                 Traceback (most recent call last)",
      "Cell \u001b[1;32mIn[3], line 1\u001b[0m\n\u001b[1;32m----> 1\u001b[0m \u001b[39mwith\u001b[39;00m contextlib\u001b[39m.\u001b[39mnullcontext():\n\u001b[0;32m      2\u001b[0m     \u001b[39mprint\u001b[39m(\u001b[39m\"\u001b[39m\u001b[39mUYes\u001b[39m\u001b[39m\"\u001b[39m)\n",
      "\u001b[1;31mNameError\u001b[0m: name 'contextlib' is not defined"
     ]
    }
   ],
   "source": [
    "with contextlib.nullcontext():\n",
    "    print(\"UYes\")"
   ]
  },
  {
   "cell_type": "code",
   "execution_count": 5,
   "metadata": {},
   "outputs": [],
   "source": [
    "import contextlib\n",
    "\n",
    "verbose = False\n",
    "\n",
    "with HiddenPrints() if verbose is False else contextlib.nullcontext():\n",
    "    print(\"Yes\")\n"
   ]
  },
  {
   "cell_type": "code",
   "execution_count": 70,
   "metadata": {},
   "outputs": [
    {
     "ename": "AttributeError",
     "evalue": "__enter__",
     "output_type": "error",
     "traceback": [
      "\u001b[1;31m---------------------------------------------------------------------------\u001b[0m",
      "\u001b[1;31mAttributeError\u001b[0m                            Traceback (most recent call last)",
      "Cell \u001b[1;32mIn[70], line 10\u001b[0m\n\u001b[0;32m      7\u001b[0m \u001b[39melse\u001b[39;00m:\n\u001b[0;32m      8\u001b[0m     cm \u001b[39m=\u001b[39m nullcontext\n\u001b[1;32m---> 10\u001b[0m \u001b[39mwith\u001b[39;00m cm \u001b[39mas\u001b[39;00m gs:\n\u001b[0;32m     11\u001b[0m     \u001b[39mprint\u001b[39m(\u001b[39m\"\u001b[39m\u001b[39myes\u001b[39m\u001b[39m\"\u001b[39m)\n",
      "\u001b[1;31mAttributeError\u001b[0m: __enter__"
     ]
    }
   ],
   "source": [
    "from contextlib import nullcontext\n",
    "\n",
    "verbose = False\n",
    "\n",
    "if verbose is True:\n",
    "    cm = HiddenPrints\n",
    "else:\n",
    "    cm = nullcontext\n",
    "\n",
    "with cm as gs:\n",
    "    print(\"yes\")"
   ]
  },
  {
   "cell_type": "code",
   "execution_count": 38,
   "metadata": {},
   "outputs": [],
   "source": [
    "param = \"Dense\"\n",
    "iPlasma, iPar = self.get_param_indices(param)\n",
    "data = get_plasma_parameter_on_pol(self.Plasmas[iPlasma], iPar, ix, iZones, iThWest, iThEast, nThetaPts)"
   ]
  },
  {
   "cell_type": "code",
   "execution_count": 40,
   "metadata": {},
   "outputs": [],
   "source": [
    "df = pd.DataFrame()\n",
    "df[\"dist\"] = Lpara\n",
    "df[\"R\"] = Rpol\n",
    "df[\"Z\"] = Zpol\n",
    "df[param] = data"
   ]
  },
  {
   "cell_type": "code",
   "execution_count": 41,
   "metadata": {},
   "outputs": [
    {
     "data": {
      "text/html": [
       "<div>\n",
       "<style scoped>\n",
       "    .dataframe tbody tr th:only-of-type {\n",
       "        vertical-align: middle;\n",
       "    }\n",
       "\n",
       "    .dataframe tbody tr th {\n",
       "        vertical-align: top;\n",
       "    }\n",
       "\n",
       "    .dataframe thead th {\n",
       "        text-align: right;\n",
       "    }\n",
       "</style>\n",
       "<table border=\"1\" class=\"dataframe\">\n",
       "  <thead>\n",
       "    <tr style=\"text-align: right;\">\n",
       "      <th></th>\n",
       "      <th>dist</th>\n",
       "      <th>R</th>\n",
       "      <th>Z</th>\n",
       "      <th>Dense</th>\n",
       "    </tr>\n",
       "  </thead>\n",
       "  <tbody>\n",
       "    <tr>\n",
       "      <th>0</th>\n",
       "      <td>-0.887049</td>\n",
       "      <td>0.585937</td>\n",
       "      <td>0.851084</td>\n",
       "      <td>4.369019e+18</td>\n",
       "    </tr>\n",
       "    <tr>\n",
       "      <th>1</th>\n",
       "      <td>-0.884002</td>\n",
       "      <td>0.584349</td>\n",
       "      <td>0.848484</td>\n",
       "      <td>4.841934e+18</td>\n",
       "    </tr>\n",
       "    <tr>\n",
       "      <th>2</th>\n",
       "      <td>-0.879959</td>\n",
       "      <td>0.582209</td>\n",
       "      <td>0.845053</td>\n",
       "      <td>5.269189e+18</td>\n",
       "    </tr>\n",
       "    <tr>\n",
       "      <th>3</th>\n",
       "      <td>-0.874901</td>\n",
       "      <td>0.579488</td>\n",
       "      <td>0.840789</td>\n",
       "      <td>5.590359e+18</td>\n",
       "    </tr>\n",
       "    <tr>\n",
       "      <th>4</th>\n",
       "      <td>-0.868808</td>\n",
       "      <td>0.576156</td>\n",
       "      <td>0.835689</td>\n",
       "      <td>5.819136e+18</td>\n",
       "    </tr>\n",
       "    <tr>\n",
       "      <th>...</th>\n",
       "      <td>...</td>\n",
       "      <td>...</td>\n",
       "      <td>...</td>\n",
       "      <td>...</td>\n",
       "    </tr>\n",
       "    <tr>\n",
       "      <th>62</th>\n",
       "      <td>0.940511</td>\n",
       "      <td>0.574721</td>\n",
       "      <td>-0.833527</td>\n",
       "      <td>6.294196e+18</td>\n",
       "    </tr>\n",
       "    <tr>\n",
       "      <th>63</th>\n",
       "      <td>0.946599</td>\n",
       "      <td>0.578076</td>\n",
       "      <td>-0.838608</td>\n",
       "      <td>6.008731e+18</td>\n",
       "    </tr>\n",
       "    <tr>\n",
       "      <th>64</th>\n",
       "      <td>0.951615</td>\n",
       "      <td>0.580797</td>\n",
       "      <td>-0.842821</td>\n",
       "      <td>5.624394e+18</td>\n",
       "    </tr>\n",
       "    <tr>\n",
       "      <th>65</th>\n",
       "      <td>0.955580</td>\n",
       "      <td>0.582915</td>\n",
       "      <td>-0.846172</td>\n",
       "      <td>5.136509e+18</td>\n",
       "    </tr>\n",
       "    <tr>\n",
       "      <th>66</th>\n",
       "      <td>0.958526</td>\n",
       "      <td>0.584471</td>\n",
       "      <td>-0.848675</td>\n",
       "      <td>4.575104e+18</td>\n",
       "    </tr>\n",
       "  </tbody>\n",
       "</table>\n",
       "<p>67 rows × 4 columns</p>\n",
       "</div>"
      ],
      "text/plain": [
       "        dist         R         Z         Dense\n",
       "0  -0.887049  0.585937  0.851084  4.369019e+18\n",
       "1  -0.884002  0.584349  0.848484  4.841934e+18\n",
       "2  -0.879959  0.582209  0.845053  5.269189e+18\n",
       "3  -0.874901  0.579488  0.840789  5.590359e+18\n",
       "4  -0.868808  0.576156  0.835689  5.819136e+18\n",
       "..       ...       ...       ...           ...\n",
       "62  0.940511  0.574721 -0.833527  6.294196e+18\n",
       "63  0.946599  0.578076 -0.838608  6.008731e+18\n",
       "64  0.951615  0.580797 -0.842821  5.624394e+18\n",
       "65  0.955580  0.582915 -0.846172  5.136509e+18\n",
       "66  0.958526  0.584471 -0.848675  4.575104e+18\n",
       "\n",
       "[67 rows x 4 columns]"
      ]
     },
     "execution_count": 41,
     "metadata": {},
     "output_type": "execute_result"
    }
   ],
   "source": [
    "df"
   ]
  },
  {
   "cell_type": "code",
   "execution_count": 42,
   "metadata": {},
   "outputs": [
    {
     "data": {
      "text/plain": [
       "[<matplotlib.lines.Line2D at 0x20db89803a0>]"
      ]
     },
     "execution_count": 42,
     "metadata": {},
     "output_type": "execute_result"
    },
    {
     "data": {
      "image/png": "[encoded data removed]",
      "text/plain": [
       "<Figure size 640x480 with 1 Axes>"
      ]
     },
     "metadata": {},
     "output_type": "display_data"
    }
   ],
   "source": [
    "plt.plot(df[\"R\"], df[\"Z\"])\n"
   ]
  }
 ],
 "metadata": {
  "kernelspec": {
   "display_name": "Python 3.9.13 ('base')",
   "language": "python",
   "name": "python3"
  },
  "language_info": {
   "codemirror_mode": {
    "name": "ipython",
    "version": 3
   },
   "file_extension": ".py",
   "mimetype": "text/x-python",
   "name": "python",
   "nbconvert_exporter": "python",
   "pygments_lexer": "ipython3",
   "version": "3.10.11"
  },
  "orig_nbformat": 4,
  "vscode": {
   "interpreter": {
    "hash": "5d3028fb5fc7b0ce0999a527284344536284ceb78ab851f9ad8deb4f33e74dff"
   }
  }
 },
 "nbformat": 4,
 "nbformat_minor": 2
}
