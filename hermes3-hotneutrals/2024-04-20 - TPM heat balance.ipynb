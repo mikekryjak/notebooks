{
 "cells": [
  {
   "cell_type": "code",
   "execution_count": 5,
   "metadata": {},
   "outputs": [
    {
     "name": "stdout",
     "output_type": "stream",
     "text": [
      "The autoreload extension is already loaded. To reload it, use:\n",
      "  %reload_ext autoreload\n",
      "Done\n"
     ]
    }
   ],
   "source": [
    "%matplotlib inline\n",
    "\n",
    "from boututils.datafile import DataFile\n",
    "from boutdata.collect import collect\n",
    "import pandas as pd\n",
    "import numpy as np\n",
    "import matplotlib.pyplot as plt\n",
    "import os, sys, pathlib\n",
    "import platform\n",
    "import traceback\n",
    "import xarray\n",
    "import xbout\n",
    "import scipy\n",
    "import xhermes\n",
    "import re\n",
    "\n",
    "onedrive_path = onedrive_path = str(os.getcwd()).split(\"OneDrive\")[0] + \"OneDrive\"\n",
    "sys.path.append(os.path.join(onedrive_path, r\"Project\\python-packages\\sdtools\"))\n",
    "sys.path.append(os.path.join(onedrive_path, r\"Project\\python-packages\\soledge\"))\n",
    "sys.path.append(os.path.join(onedrive_path, r\"Project\\python-packages\"))\n",
    "\n",
    "from hermes3.utils import *\n",
    "\n",
    "import gridtools.solps_python_scripts.setup\n",
    "from gridtools.solps_python_scripts.utilities.last10s       import read_last10s\n",
    "\n",
    "from hermes3.fluxes import *\n",
    "from hermes3.case_db import *\n",
    "from hermes3.load import *\n",
    "from hermes3.named_selections import *\n",
    "from hermes3.plotting import *\n",
    "from hermes3.grid_fields import *\n",
    "from hermes3.accessors import *\n",
    "\n",
    "from code_comparison.code_comparison import *\n",
    "from code_comparison.solps_pp import *\n",
    "from code_comparison.viewer_2d import *\n",
    "\n",
    "\n",
    "%load_ext autoreload\n",
    "%autoreload 2\n",
    "\n",
    "plt.close(\"all\")\n",
    "%matplotlib inline\n",
    "\n",
    "print(\"Done\")"
   ]
  },
  {
   "cell_type": "code",
   "execution_count": null,
   "metadata": {},
   "outputs": [
    {
     "name": "stdout",
     "output_type": "stream",
     "text": [
      "- Reading case d40de-no_condfluxlim\n",
      "-----------------------\n",
      "- Looking for squash file\n",
      "- Squash file found. squash date 04/22/2024, 15:43:47, dmp file date 04/22/2024, 11:47:38\n",
      "\n",
      "Unnormalising with xHermes\n",
      "- Reading case hn2d1i-AFN_nocondlim_widev2\n",
      "-----------------------\n",
      "- Looking for squash file\n",
      "- Squash file found. squash date 04/22/2024, 16:10:51, dmp file date 04/22/2024, 15:44:58\n"
     ]
    },
    {
     "name": "stderr",
     "output_type": "stream",
     "text": [
      "C:\\Users\\mikek\\OneDrive\\Project\\python-packages\\xBOUT\\xbout\\load.py:1134: UserWarning: Will drop all variables containing the dimensions 't' because they are not recognised\n",
      "  warn(\n"
     ]
    },
    {
     "name": "stdout",
     "output_type": "stream",
     "text": [
      "\n",
      "Unnormalising with xHermes\n",
      "- Reading case hn4d-hnthresh_0_widev2_AFN\n",
      "-----------------------\n",
      "- Looking for squash file\n",
      "- Squash file found. squash date 04/22/2024, 19:35:30, dmp file date 04/22/2024, 19:26:04\n"
     ]
    },
    {
     "name": "stderr",
     "output_type": "stream",
     "text": [
      "C:\\Users\\mikek\\OneDrive\\Project\\python-packages\\xBOUT\\xbout\\load.py:1134: UserWarning: Will drop all variables containing the dimensions 't' because they are not recognised\n",
      "  warn(\n"
     ]
    },
    {
     "name": "stdout",
     "output_type": "stream",
     "text": [
      "\n",
      "Unnormalising with xHermes\n"
     ]
    }
   ],
   "source": [
    "db = CaseDB()\n",
    "\n",
    "toload = [ \n",
    "    dict(name=\"hiresbase\", id=\"d40de-no_condfluxlim\", unnormalise_geom = True, use_xhermes = True, squash = True), \n",
    "    dict(name=\"base\", id=\"hn2d1i-AFN_nocondlim_widev2\", unnormalise_geom = True, use_xhermes = True, squash = True), \n",
    "    dict(name=\"hotneut\", id=\"hn4d-hnthresh_0_widev2_AFN\", unnormalise_geom = True, use_xhermes = True, squash = True), \n",
    "]\n",
    "cs = {}\n",
    "for case in toload:\n",
    "    cs[case[\"name\"]] = db.load_case_2D(case[\"id\"], use_squash = case[\"squash\"], verbose = True)\n"
   ]
  },
  {
   "cell_type": "markdown",
   "metadata": {},
   "source": [
    "# SOLEDGE2D"
   ]
  },
  {
   "cell_type": "code",
   "execution_count": null,
   "metadata": {},
   "outputs": [
    {
     "name": "stderr",
     "output_type": "stream",
     "text": [
      "c:\\Users\\mikek\\OneDrive\\Project\\python-packages\\soledge\\routines\\h5_routines.py:65: FutureWarning: In the future `np.str` will be defined as the corresponding NumPy scalar.\n",
      "  Data = Data.astype(np.str)\n",
      "c:\\Users\\mikek\\OneDrive\\Project\\python-packages\\soledge\\routines\\h5_routines.py:65: FutureWarning: In the future `np.str` will be defined as the corresponding NumPy scalar.\n",
      "  Data = Data.astype(np.str)\n",
      "c:\\Users\\mikek\\OneDrive\\Project\\python-packages\\soledge\\routines\\h5_routines.py:65: FutureWarning: In the future `np.str` will be defined as the corresponding NumPy scalar.\n",
      "  Data = Data.astype(np.str)\n",
      "c:\\Users\\mikek\\OneDrive\\Project\\python-packages\\soledge\\routines\\h5_routines.py:65: FutureWarning: In the future `np.str` will be defined as the corresponding NumPy scalar.\n",
      "  Data = Data.astype(np.str)\n",
      "c:\\Users\\mikek\\OneDrive\\Project\\python-packages\\soledge\\routines\\h5_routines.py:65: FutureWarning: In the future `np.str` will be defined as the corresponding NumPy scalar.\n",
      "  Data = Data.astype(np.str)\n",
      "c:\\Users\\mikek\\OneDrive\\Project\\python-packages\\soledge\\routines\\h5_routines.py:65: FutureWarning: In the future `np.str` will be defined as the corresponding NumPy scalar.\n",
      "  Data = Data.astype(np.str)\n",
      "c:\\Users\\mikek\\OneDrive\\Project\\python-packages\\soledge\\routines\\h5_routines.py:65: FutureWarning: In the future `np.str` will be defined as the corresponding NumPy scalar.\n",
      "  Data = Data.astype(np.str)\n"
     ]
    }
   ],
   "source": [
    "soledgecases = {\n",
    "    \"tightwall_1e19\" : os.path.join(onedrive_path, r\"Project\\collab\\tech\\compare_data\\soledge_cases\\ST40_wallMike_bra_nocore_D_1e19\"), # Hermes-3 like wall\n",
    "    \"tightwall_2e19\" : os.path.join(onedrive_path, r\"Project\\collab\\tech\\compare_data\\soledge_cases\\ST40_wallMike_bra_nocore_D_2e19\"), # Hermes-3 like wall\n",
    "    \"widewall_2e19_5m\" : os.path.join(onedrive_path, r\"Project\\collab\\tech\\compare_data\\soledge_cases\\ST40_wallStd_bra_nocore_D_2e19_5M\"),\n",
    "    \"tightwall_3e19\" : os.path.join(onedrive_path, r\"Project\\collab\\tech\\compare_data\\soledge_cases\\ST40_wallMike_bra_nocore_D_3e19\"), # Hermes-3 like wall\n",
    "    \"widewall_1e19\" : os.path.join(onedrive_path, r\"Project\\collab\\tech\\compare_data\\soledge_cases\\ST40_wallStd_bra_nocore_D_1e19\"), \n",
    "    \"widewall_2e19\" : os.path.join(onedrive_path, r\"Project\\collab\\tech\\compare_data\\soledge_cases\\ST40_wallStd_bra_nocore_D_2e19\"), \n",
    "    \"widewall_3e19\" : os.path.join(onedrive_path, r\"Project\\collab\\tech\\compare_data\\soledge_cases\\ST40_wallStd_bra_nocore_D_3e19\"), \n",
    "}\n",
    "\n",
    "sl = dict()\n",
    "\n",
    "for name in soledgecases:\n",
    "    path = soledgecases[name]\n",
    "    sl[name] = SOLEDGEdata(path = path)\n",
    "    sl[name].read_csv(os.path.join(path, \"omp_plasma.csv\"), mode = \"plot1d_omp\")\n",
    "    sl[name].read_csv(os.path.join(path, \"omp_neutrals.csv\"), mode = \"plot1d_omp\")\n",
    "    sl[name].read_csv(os.path.join(path, \"imp_plasma.csv\"), mode = \"plot1d_imp\")\n",
    "    sl[name].read_csv(os.path.join(path, \"imp_neutrals.csv\"), mode = \"plot1d_imp\")\n",
    "    sl[name].read_csv(os.path.join(path, \"wall_ntmpi_plasma.csv\"), mode = \"wall_ntmpi\")\n",
    "\n"
   ]
  },
  {
   "cell_type": "markdown",
   "metadata": {},
   "source": [
    "# Read SOLPS"
   ]
  },
  {
   "cell_type": "code",
   "execution_count": null,
   "metadata": {},
   "outputs": [],
   "source": [
    "solpscases = {\n",
    "    # \"base\" : os.path.join(onedrive_path, r\"Project\\collab\\tech\\compare_data\\playAround_ST40_IVC2_HERMES_SOLEDGE\\HERMES_SOLEDGE.S33600_Tamb_case.SEE=0.BGK=OFF.SOLEDGE.reactions.input.dat.OK.Js=OFF.GAMMAE=4.5\"),\n",
    "    \"noiz_core\" : os.path.join(onedrive_path, r\"Project\\collab\\tech\\compare_data\\playAround_ST40_IVC2_HERMES_SOLEDGE\\HERMES_SOLEDGE.S33600_Tamb_case.SEE=0.BGK=OFF.SOLEDGE.reactions.input.dat.OK.Js=OFF.GAMMAE=4.5.eirene_ionising_core=0.BCCON=16\"),\n",
    "    # \"gammai_2.5\" : os.path.join(onedrive_path, r\"Project\\collab\\tech\\compare_data\\playAround_ST40_IVC2_HERMES_SOLEDGE\\HERMES_SOLEDGE.S33600_Tamb_case.SEE=0.BGK=OFF.SOLEDGE.reactions.input.dat.OK.Js=OFF.GAMMAE=4.5.eirene_ionising_core=0.BCCON=16.GAMMAI=2.5E+00\"),\n",
    "    # \"dpuff_1e22\" : os.path.join(onedrive_path, r\"Project\\collab\\tech\\compare_data\\playAround_ST40_IVC2_HERMES_SOLEDGE\\HERMES_SOLEDGE.S33600_Tamb_case.SEE=0.BGK=OFF.SOLEDGE.reactions.input.dat.OK.Js=OFF.GAMMAE=4.5.eirene_ionising_core=0.BCCON=16.D2PUFF=1.0E+22\"),\n",
    "    # \"dpuff_5e21\" : os.path.join(onedrive_path, r\"Project\\collab\\tech\\compare_data\\playAround_ST40_IVC2_HERMES_SOLEDGE\\HERMES_SOLEDGE.S33600_Tamb_case.SEE=0.BGK=OFF.SOLEDGE.reactions.input.dat.OK.Js=OFF.GAMMAE=4.5.eirene_ionising_core=0.BCCON=16.D2PUFF=5.0E+21\"),\n",
    "    # \"no_fast_reflec\" : os.path.join(onedrive_path, r\"Project\\collab\\tech\\compare_data\\playAround_ST40_IVC2_HERMES_SOLEDGE\\HERMES_SOLEDGE.S33600_Tamb_case.SEE=0.BGK=OFF.SOLEDGE.reactions.input.dat.OK.Js=OFF.GAMMAE=4.5.eirene_ionising_core=0.BCCON=16.Pf=0\"),\n",
    "    # \"nsep_2e19\" : os.path.join(onedrive_path,r\"Project\\collab\\tech\\compare_data\\playAround_ST40_IVC2_HERMES_SOLEDGE_core_extent\\.core_extent.b2tqca_phm0=0.nesepm=2E+19\"),\n",
    "    # \"nsep_3e19\" : os.path.join(onedrive_path, r\"Project\\collab\\tech\\compare_data\\playAround_ST40_IVC2_HERMES_SOLEDGE_core_extent\\.core_extent.b2tqca_phm0=0.nesepm=3E+19\"),\n",
    "    # \"narrow_core\" : os.path.join(onedrive_path, r\"Project\\collab\\tech\\compare_data\\playAround_ST40_IVC2_HERMES_SOLEDGE_core_extent\\HERMES_SOLEDGE.S33600_Tamb_case.SEE=0.BGK=OFF.SOLEDGE.reactions.input.dat.OK.Js=OFF.GAMMAE=4.5.eirene_ionising_core=0.BCCON=16.core_extent\"),\n",
    "    # \"no_visc\" : os.path.join(onedrive_path, r\"Project\\collab\\tech\\compare_data\\playAround_ST40_IVC2_HERMES_SOLEDGE_core_extent\\HERMES_SOLEDGE.S33600_Tamb_case.SEE=0.BGK=OFF.SOLEDGE.reactions.input.dat.OK.Js=OFF.GAMMAE=4.5.eirene_ionising_core=0.BCCON=16.core_extent.b2tqca_phm0=0\"),\n",
    "    # \"16x_mc\" : os.path.join(onedrive_path, r\"C:\\Users\\mikek\\OneDrive\\Project\\collab\\tech\\compare_data\\playAround_ST40_IVC2_HERMES_SOLEDGE_core_extent\\HERMES_SOLEDGE.S33600_Tamb_case.xxx.BCCON=16.core_extent.MC.histories.x16-ish.NOT.converged\"),\n",
    "    \"tightwall_2e19\" : r\"C:\\Users\\mikek\\OneDrive\\Project\\collab\\tech\\compare_data\\playAround_ST40_IVC2_HERMES_SOLEDGE_tight_wall_orthogonal_MK\\HERMES_SOLEDGE.S33600_Tamb_case.SEE=0.BGK=OFF.SOLEDGE.reactions.input.dat.OK.Js=OFF.GAMMAE=4.5.NESEPM=2.0E+19\",\n",
    "    \"tightwall_noD2_1e19\" : r\"C:\\Users\\mikek\\OneDrive\\Project\\collab\\tech\\compare_data\\playAround_ST40_IVC2_HERMES_SOLEDGE_tight_wall_orthogonal_MK\\HERMES_SOLEDGE.S33600_Tamb_case.SEE=0.BGK=OFF.SOLEDGE.reactions.input.dat.OK.Js=OFF.GAMMAE=4.5.NESEPM=1.0E+19.NO.D2\",\n",
    "    \"tightwall_noD2_2e19\" : r\"C:\\Users\\mikek\\OneDrive\\Project\\collab\\tech\\compare_data\\playAround_ST40_IVC2_HERMES_SOLEDGE_tight_wall_orthogonal_MK\\HERMES_SOLEDGE.S33600_Tamb_case.SEE=0.BGK=OFF.SOLEDGE.reactions.input.dat.OK.Js=OFF.GAMMAE=4.5.NESEPM=2.0E+19.NO.D2\",\n",
    "    \"tightwall_noD2_3e19\" : r\"C:\\Users\\mikek\\OneDrive\\Project\\collab\\tech\\compare_data\\playAround_ST40_IVC2_HERMES_SOLEDGE_tight_wall_orthogonal_MK\\HERMES_SOLEDGE.S33600_Tamb_case.SEE=0.BGK=OFF.SOLEDGE.reactions.input.dat.OK.Js=OFF.GAMMAE=4.5.NESEPM=3.0E+19.NO.D2\",\n",
    "    \n",
    "}\n",
    "\n",
    "sp = dict()\n",
    "\n",
    "for name in solpscases:\n",
    "    sp[name] = SOLPSdata()\n",
    "    # sp[name].read_last10s(solpscases[name])\n",
    "    sp[name].read_from_case(solpscases[name])"
   ]
  },
  {
   "cell_type": "markdown",
   "metadata": {},
   "source": [
    "# SOLPS wall balances"
   ]
  },
  {
   "cell_type": "code",
   "execution_count": null,
   "metadata": {},
   "outputs": [],
   "source": [
    "\n",
    "path = os.path.join(onedrive_path, r\"Project\\collab\\From\\Matteo\\2023-03-08 - Display tallies ppt\\display_tallies.csv\")\n",
    "solps = read_display_tallies(path)\n",
    "\n",
    "solps[\"xreg\"].loc[\"fhtxreg\"]"
   ]
  },
  {
   "cell_type": "markdown",
   "metadata": {},
   "source": [
    "# SOLEDGE2D wall balances"
   ]
  },
  {
   "cell_type": "code",
   "execution_count": null,
   "metadata": {},
   "outputs": [
    {
     "name": "stderr",
     "output_type": "stream",
     "text": [
      "c:\\Users\\mikek\\OneDrive\\Project\\python-packages\\soledge\\routines\\h5_routines.py:65: FutureWarning: In the future `np.str` will be defined as the corresponding NumPy scalar.\n",
      "  Data = Data.astype(np.str)\n"
     ]
    },
    {
     "name": "stdout",
     "output_type": "stream",
     "text": [
      "get_wall_triangle\n",
      "get_wall_triangles\n",
      "get_wall_triangles.2: Completed\n",
      "get_wall_triangle: Completed\n",
      "\n",
      " ********** \n",
      "WARNING: Region splitting hardcoded to tight grid\n",
      " **********\n",
      "get_wall_triangle\n",
      "get_wall_triangles\n",
      "get_wall_triangles.2: Completed\n",
      "get_wall_triangle: Completed\n"
     ]
    }
   ],
   "source": [
    "plt.close(\"all\")\n",
    "\n",
    "self = SOLEDGEcase(soledgecases[\"tightwall_2e19\"])\n",
    "slcWfluxes = self.get_wall_flux_summary()\n"
   ]
  },
  {
   "cell_type": "code",
   "execution_count": null,
   "metadata": {},
   "outputs": [
    {
     "data": {
      "text/plain": [
       "[]"
      ]
     },
     "execution_count": 71,
     "metadata": {},
     "output_type": "execute_result"
    }
   ],
   "source": [
    "[print(x) for x in ds.data_vars if \"pf\" in x]"
   ]
  },
  {
   "cell_type": "code",
   "execution_count": null,
   "metadata": {},
   "outputs": [],
   "source": [
    "for case in cs:\n",
    "    cs[case].ds = calculate_radial_fluxes(cs[case].ds)"
   ]
  },
  {
   "cell_type": "code",
   "execution_count": null,
   "metadata": {},
   "outputs": [
    {
     "data": {
      "text/plain": [
       "Data variables:\n",
       "    Bxy                     (x, theta) float64 dask.array<chunksize=(20, 58), meta=np.ndarray>\n",
       "    Dnnd                    (x, theta) float64 dask.array<chunksize=(20, 58), meta=np.ndarray>\n",
       "    Ed+_rec                 (x, theta) float64 dask.array<chunksize=(20, 58), meta=np.ndarray>\n",
       "    Ed_pump                 (x, theta) float64 dask.array<chunksize=(20, 58), meta=np.ndarray>\n",
       "    Ed_target_recycle       (x, theta) float64 dask.array<chunksize=(20, 58), meta=np.ndarray>\n",
       "    Ed_target_refl          (x, theta) float64 dask.array<chunksize=(20, 58), meta=np.ndarray>\n",
       "    Ed_wall_recycle         (x, theta) float64 dask.array<chunksize=(20, 58), meta=np.ndarray>\n",
       "    Ed_wall_refl            (x, theta) float64 dask.array<chunksize=(20, 58), meta=np.ndarray>\n",
       "    Edd+_cx                 (x, theta) float64 dask.array<chunksize=(20, 58), meta=np.ndarray>\n",
       "    Edd+_iz                 (x, theta) float64 dask.array<chunksize=(20, 58), meta=np.ndarray>\n",
       "    EnergyFlow_d+_xlow      (x, theta) float64 dask.array<chunksize=(20, 58), meta=np.ndarray>\n",
       "    EnergyFlow_d+_ylow      (x, theta) float64 dask.array<chunksize=(20, 58), meta=np.ndarray>\n",
       "    EnergyFlow_d_xlow       (x, theta) float64 dask.array<chunksize=(20, 58), meta=np.ndarray>\n",
       "    EnergyFlow_d_ylow       (x, theta) float64 dask.array<chunksize=(20, 58), meta=np.ndarray>\n",
       "    EnergyFlow_e_xlow       (x, theta) float64 dask.array<chunksize=(20, 58), meta=np.ndarray>\n",
       "    EnergyFlow_e_ylow       (x, theta) float64 dask.array<chunksize=(20, 58), meta=np.ndarray>\n",
       "    Fd+_rec                 (x, theta) float64 dask.array<chunksize=(20, 58), meta=np.ndarray>\n",
       "    Fdd+_cx                 (x, theta) float64 dask.array<chunksize=(20, 58), meta=np.ndarray>\n",
       "    Fdd+_iz                 (x, theta) float64 dask.array<chunksize=(20, 58), meta=np.ndarray>\n",
       "    G1                      (x, theta) float64 dask.array<chunksize=(20, 58), meta=np.ndarray>\n",
       "    G2                      (x, theta) float64 dask.array<chunksize=(20, 58), meta=np.ndarray>\n",
       "    G3                      (x, theta) float64 dask.array<chunksize=(20, 58), meta=np.ndarray>\n",
       "    J                       (x, theta) float64 dask.array<chunksize=(20, 58), meta=np.ndarray>\n",
       "    Kd+d+_coll              (x, theta) float64 dask.array<chunksize=(20, 58), meta=np.ndarray>\n",
       "    Kd+e_coll               (x, theta) float64 dask.array<chunksize=(20, 58), meta=np.ndarray>\n",
       "    Kdd+_cx                 (x, theta) float64 dask.array<chunksize=(20, 58), meta=np.ndarray>\n",
       "    Ked+_coll               (x, theta) float64 dask.array<chunksize=(20, 58), meta=np.ndarray>\n",
       "    Kee_coll                (x, theta) float64 dask.array<chunksize=(20, 58), meta=np.ndarray>\n",
       "    MomentumFlow_d+_xlow    (x, theta) float64 dask.array<chunksize=(20, 58), meta=np.ndarray>\n",
       "    MomentumFlow_d_xlow     (x, theta) float64 dask.array<chunksize=(20, 58), meta=np.ndarray>\n",
       "    MomentumFlow_d_ylow     (x, theta) float64 dask.array<chunksize=(20, 58), meta=np.ndarray>\n",
       "    NVd                     (x, theta) float64 dask.array<chunksize=(20, 58), meta=np.ndarray>\n",
       "    NVd+                    (x, theta) float64 dask.array<chunksize=(20, 58), meta=np.ndarray>\n",
       "    Nd                      (x, theta) float64 dask.array<chunksize=(20, 58), meta=np.ndarray>\n",
       "    Nd+                     (x, theta) float64 dask.array<chunksize=(20, 58), meta=np.ndarray>\n",
       "    Ne                      (x, theta) float64 dask.array<chunksize=(20, 58), meta=np.ndarray>\n",
       "    ParticleFlow_d+_xlow    (x, theta) float64 dask.array<chunksize=(20, 58), meta=np.ndarray>\n",
       "    ParticleFlow_d+_ylow    (x, theta) float64 dask.array<chunksize=(20, 58), meta=np.ndarray>\n",
       "    ParticleFlow_d_xlow     (x, theta) float64 dask.array<chunksize=(20, 58), meta=np.ndarray>\n",
       "    ParticleFlow_d_ylow     (x, theta) float64 dask.array<chunksize=(20, 58), meta=np.ndarray>\n",
       "    Pd                      (x, theta) float64 dask.array<chunksize=(20, 58), meta=np.ndarray>\n",
       "    Pd+                     (x, theta) float64 dask.array<chunksize=(20, 58), meta=np.ndarray>\n",
       "    Pd+_src                 (x, theta) float64 dask.array<chunksize=(20, 58), meta=np.ndarray>\n",
       "    Pd_src                  (x, theta) float64 dask.array<chunksize=(20, 58), meta=np.ndarray>\n",
       "    Pe                      (x, theta) float64 dask.array<chunksize=(20, 58), meta=np.ndarray>\n",
       "    Pe_src                  (x, theta) float64 dask.array<chunksize=(20, 58), meta=np.ndarray>\n",
       "    Rd+_rec                 (x, theta) float64 dask.array<chunksize=(20, 58), meta=np.ndarray>\n",
       "    Rdd+_ex                 (x, theta) float64 dask.array<chunksize=(20, 58), meta=np.ndarray>\n",
       "    SNVd                    (x, theta) float64 dask.array<chunksize=(20, 58), meta=np.ndarray>\n",
       "    SNVd+                   (x, theta) float64 dask.array<chunksize=(20, 58), meta=np.ndarray>\n",
       "    SNd                     (x, theta) float64 dask.array<chunksize=(20, 58), meta=np.ndarray>\n",
       "    SNd+                    (x, theta) float64 dask.array<chunksize=(20, 58), meta=np.ndarray>\n",
       "    SPd                     (x, theta) float64 dask.array<chunksize=(20, 58), meta=np.ndarray>\n",
       "    SPd+                    (x, theta) float64 dask.array<chunksize=(20, 58), meta=np.ndarray>\n",
       "    SPd_ext_src             (x, theta) float64 dask.array<chunksize=(20, 58), meta=np.ndarray>\n",
       "    SPd_par_adv             (x, theta) float64 dask.array<chunksize=(20, 58), meta=np.ndarray>\n",
       "    SPd_par_compr           (x, theta) float64 dask.array<chunksize=(20, 58), meta=np.ndarray>\n",
       "    SPd_par_cond            (x, theta) float64 dask.array<chunksize=(20, 58), meta=np.ndarray>\n",
       "    SPd_perp_adv            (x, theta) float64 dask.array<chunksize=(20, 58), meta=np.ndarray>\n",
       "    SPd_perp_compr          (x, theta) float64 dask.array<chunksize=(20, 58), meta=np.ndarray>\n",
       "    SPd_perp_cond           (x, theta) float64 dask.array<chunksize=(20, 58), meta=np.ndarray>\n",
       "    SPd_src                 (x, theta) float64 dask.array<chunksize=(20, 58), meta=np.ndarray>\n",
       "    SPd_visc_heat           (x, theta) float64 dask.array<chunksize=(20, 58), meta=np.ndarray>\n",
       "    SPe                     (x, theta) float64 dask.array<chunksize=(20, 58), meta=np.ndarray>\n",
       "    Sd+_rec                 (x, theta) float64 dask.array<chunksize=(20, 58), meta=np.ndarray>\n",
       "    Sd+_src                 (x, theta) float64 dask.array<chunksize=(20, 58), meta=np.ndarray>\n",
       "    Sd_pump                 (x, theta) float64 dask.array<chunksize=(20, 58), meta=np.ndarray>\n",
       "    Sd_src                  (x, theta) float64 dask.array<chunksize=(20, 58), meta=np.ndarray>\n",
       "    Sd_target_recycle       (x, theta) float64 dask.array<chunksize=(20, 58), meta=np.ndarray>\n",
       "    Sd_wall_recycle         (x, theta) float64 dask.array<chunksize=(20, 58), meta=np.ndarray>\n",
       "    Sdd+_iz                 (x, theta) float64 dask.array<chunksize=(20, 58), meta=np.ndarray>\n",
       "    Td                      (x, theta) float64 dask.array<chunksize=(20, 58), meta=np.ndarray>\n",
       "    Td+                     (x, theta) float64 dask.array<chunksize=(20, 58), meta=np.ndarray>\n",
       "    Te                      (x, theta) float64 dask.array<chunksize=(20, 58), meta=np.ndarray>\n",
       "    Vd+                     (x, theta) float64 dask.array<chunksize=(20, 58), meta=np.ndarray>\n",
       "    Ve                      (x, theta) float64 dask.array<chunksize=(20, 58), meta=np.ndarray>\n",
       "    anomalous_Chi_d+        (x, theta) float64 dask.array<chunksize=(20, 58), meta=np.ndarray>\n",
       "    anomalous_Chi_e         (x, theta) float64 dask.array<chunksize=(20, 58), meta=np.ndarray>\n",
       "    anomalous_D_d+          (x, theta) float64 dask.array<chunksize=(20, 58), meta=np.ndarray>\n",
       "    anomalous_D_e           (x, theta) float64 dask.array<chunksize=(20, 58), meta=np.ndarray>\n",
       "    anomalous_nu_d+         (x, theta) float64 dask.array<chunksize=(20, 58), meta=np.ndarray>\n",
       "    anomalous_nu_e          (x, theta) float64 dask.array<chunksize=(20, 58), meta=np.ndarray>\n",
       "    cvode_last_order        int32 dask.array<chunksize=(), meta=np.ndarray>\n",
       "    cvode_last_step         float64 dask.array<chunksize=(), meta=np.ndarray>\n",
       "    cvode_nfevals           int32 dask.array<chunksize=(), meta=np.ndarray>\n",
       "    cvode_nliters           int32 dask.array<chunksize=(), meta=np.ndarray>\n",
       "    cvode_nniters           int32 dask.array<chunksize=(), meta=np.ndarray>\n",
       "    cvode_nonlin_fails      int32 dask.array<chunksize=(), meta=np.ndarray>\n",
       "    cvode_npevals           int32 dask.array<chunksize=(), meta=np.ndarray>\n",
       "    cvode_nsteps            int32 dask.array<chunksize=(), meta=np.ndarray>\n",
       "    cvode_num_fails         int32 dask.array<chunksize=(), meta=np.ndarray>\n",
       "    cvode_stab_lims         int32 dask.array<chunksize=(), meta=np.ndarray>\n",
       "    ddt(NVd)                (x, theta) float64 dask.array<chunksize=(20, 58), meta=np.ndarray>\n",
       "    ddt(NVd+)               (x, theta) float64 dask.array<chunksize=(20, 58), meta=np.ndarray>\n",
       "    ddt(Nd)                 (x, theta) float64 dask.array<chunksize=(20, 58), meta=np.ndarray>\n",
       "    ddt(Nd+)                (x, theta) float64 dask.array<chunksize=(20, 58), meta=np.ndarray>\n",
       "    ddt(Pd)                 (x, theta) float64 dask.array<chunksize=(20, 58), meta=np.ndarray>\n",
       "    ddt(Pd+)                (x, theta) float64 dask.array<chunksize=(20, 58), meta=np.ndarray>\n",
       "    ddt(Pe)                 (x, theta) float64 dask.array<chunksize=(20, 58), meta=np.ndarray>\n",
       "    eta_d                   (x, theta) float64 dask.array<chunksize=(20, 58), meta=np.ndarray>\n",
       "    g11                     (x, theta) float64 dask.array<chunksize=(20, 58), meta=np.ndarray>\n",
       "    g12                     (x, theta) float64 dask.array<chunksize=(20, 58), meta=np.ndarray>\n",
       "    g13                     (x, theta) float64 dask.array<chunksize=(20, 58), meta=np.ndarray>\n",
       "    g22                     (x, theta) float64 dask.array<chunksize=(20, 58), meta=np.ndarray>\n",
       "    g23                     (x, theta) float64 dask.array<chunksize=(20, 58), meta=np.ndarray>\n",
       "    g33                     (x, theta) float64 dask.array<chunksize=(20, 58), meta=np.ndarray>\n",
       "    g_11                    (x, theta) float64 dask.array<chunksize=(20, 58), meta=np.ndarray>\n",
       "    g_12                    (x, theta) float64 dask.array<chunksize=(20, 58), meta=np.ndarray>\n",
       "    g_13                    (x, theta) float64 dask.array<chunksize=(20, 58), meta=np.ndarray>\n",
       "    g_22                    (x, theta) float64 dask.array<chunksize=(20, 58), meta=np.ndarray>\n",
       "    g_23                    (x, theta) float64 dask.array<chunksize=(20, 58), meta=np.ndarray>\n",
       "    g_33                    (x, theta) float64 dask.array<chunksize=(20, 58), meta=np.ndarray>\n",
       "    heat_flux_factor_d      (x, theta) float64 dask.array<chunksize=(20, 58), meta=np.ndarray>\n",
       "    is_pump                 (x, theta) float64 dask.array<chunksize=(20, 58), meta=np.ndarray>\n",
       "    kappa_d                 (x, theta) float64 dask.array<chunksize=(20, 58), meta=np.ndarray>\n",
       "    kappa_par_d+            (x, theta) float64 dask.array<chunksize=(20, 58), meta=np.ndarray>\n",
       "    kappa_par_e             (x, theta) float64 dask.array<chunksize=(20, 58), meta=np.ndarray>\n",
       "    momentum_flux_factor_d  (x, theta) float64 dask.array<chunksize=(20, 58), meta=np.ndarray>\n",
       "    particle_flux_factor_d  (x, theta) float64 dask.array<chunksize=(20, 58), meta=np.ndarray>\n",
       "    ncalls                  int32 dask.array<chunksize=(), meta=np.ndarray>\n",
       "    ncalls_e                int32 dask.array<chunksize=(), meta=np.ndarray>\n",
       "    ncalls_i                int32 dask.array<chunksize=(), meta=np.ndarray>\n",
       "    t_array                 float64 dask.array<chunksize=(), meta=np.ndarray>\n",
       "    Bpxy                    (x, theta) float64 0.5635 0.5599 ... 0.6434 0.6526\n",
       "    Brxy                    (x, theta) float64 0.5409 0.5376 ... 0.09413 0.09697\n",
       "    Bzxy                    (x, theta) float64 -0.1578 -0.1566 ... -0.6454\n",
       "    x_idx                   (x, theta) int32 0 0 0 0 0 0 0 ... 19 19 19 19 19 19\n",
       "    y_idx                   (x, theta) int32 0 1 2 3 4 5 6 ... 52 53 54 55 56 57\n",
       "    dv                      (x, theta) float64 dask.array<chunksize=(20, 58), meta=np.ndarray>\n",
       "    dr                      (x, theta) float64 dask.array<chunksize=(20, 58), meta=np.ndarray>\n",
       "    hthe                    (x, theta) float64 dask.array<chunksize=(20, 58), meta=np.ndarray>\n",
       "    dl                      (x, theta) float64 dask.array<chunksize=(20, 58), meta=np.ndarray>\n",
       "    dtor                    (x, theta) float64 dask.array<chunksize=(20, 58), meta=np.ndarray>\n",
       "    dpol                    (x, theta) float64 dask.array<chunksize=(20, 58), meta=np.ndarray>\n",
       "    hf_perp_diff_L_d+       (x, theta) float64 dask.array<chunksize=(20, 58), meta=np.ndarray>\n",
       "    hf_perp_diff_R_d+       (x, theta) float64 dask.array<chunksize=(20, 58), meta=np.ndarray>\n",
       "    hf_perp_conv_L_d+       (x, theta) float64 dask.array<chunksize=(20, 58), meta=np.ndarray>\n",
       "    hf_perp_conv_R_d+       (x, theta) float64 dask.array<chunksize=(20, 58), meta=np.ndarray>\n",
       "    hf_perp_tot_L_d+        (x, theta) float64 dask.array<chunksize=(20, 58), meta=np.ndarray>\n",
       "    hf_perp_tot_R_d+        (x, theta) float64 dask.array<chunksize=(20, 58), meta=np.ndarray>\n",
       "    hf_perp_diff_L_e        (x, theta) float64 dask.array<chunksize=(20, 58), meta=np.ndarray>\n",
       "    hf_perp_diff_R_e        (x, theta) float64 dask.array<chunksize=(20, 58), meta=np.ndarray>\n",
       "    hf_perp_conv_L_e        (x, theta) float64 dask.array<chunksize=(20, 58), meta=np.ndarray>\n",
       "    hf_perp_conv_R_e        (x, theta) float64 dask.array<chunksize=(20, 58), meta=np.ndarray>\n",
       "    hf_perp_tot_L_e         (x, theta) float64 dask.array<chunksize=(20, 58), meta=np.ndarray>\n",
       "    hf_perp_tot_R_e         (x, theta) float64 dask.array<chunksize=(20, 58), meta=np.ndarray>\n",
       "    hf_perp_conv_L_d        (x, theta) float64 dask.array<chunksize=(20, 58), meta=np.ndarray>\n",
       "    hf_perp_conv_R_d        (x, theta) float64 dask.array<chunksize=(20, 58), meta=np.ndarray>\n",
       "    hf_perp_diff_L_d        (x, theta) float64 dask.array<chunksize=(20, 58), meta=np.ndarray>\n",
       "    hf_perp_diff_R_d        (x, theta) float64 dask.array<chunksize=(20, 58), meta=np.ndarray>\n",
       "    hf_perp_tot_L_d         (x, theta) float64 dask.array<chunksize=(20, 58), meta=np.ndarray>\n",
       "    hf_perp_tot_R_d         (x, theta) float64 dask.array<chunksize=(20, 58), meta=np.ndarray>\n",
       "    pf_perp_diff_L_d+       (x, theta) float64 dask.array<chunksize=(20, 58), meta=np.ndarray>\n",
       "    pf_perp_diff_R_d+       (x, theta) float64 dask.array<chunksize=(20, 58), meta=np.ndarray>\n",
       "    pf_perp_diff_L_e        (x, theta) float64 dask.array<chunksize=(20, 58), meta=np.ndarray>\n",
       "    pf_perp_diff_R_e        (x, theta) float64 dask.array<chunksize=(20, 58), meta=np.ndarray>\n",
       "    pf_perp_diff_L_d        (x, theta) float64 dask.array<chunksize=(20, 58), meta=np.ndarray>\n",
       "    pf_perp_diff_R_d        (x, theta) float64 dask.array<chunksize=(20, 58), meta=np.ndarray>"
      ]
     },
     "execution_count": 11,
     "metadata": {},
     "output_type": "execute_result"
    }
   ],
   "source": [
    "ds.data_vars"
   ]
  },
  {
   "cell_type": "code",
   "execution_count": null,
   "metadata": {},
   "outputs": [
    {
     "data": {
      "text/plain": [
       "[<matplotlib.lines.Line2D at 0x1a40a742c80>]"
      ]
     },
     "execution_count": 22,
     "metadata": {},
     "output_type": "execute_result"
    },
    {
     "data": {
      "image/png": "[encoded data removed]",
      "text/plain": [
       "<Figure size 700x560 with 1 Axes>"
      ]
     },
     "metadata": {},
     "output_type": "display_data"
    }
   ],
   "source": [
    "ds = cs[\"hiresbase\"].ds.isel(t=-1)\n",
    "\n",
    "reg = ds.hermesm.select_region(\"outer_midplane_a\")\n",
    "x = np.cumsum(reg[\"dr\"])\n",
    "\n",
    "fig, ax = plt.subplots()\n",
    "\n",
    "ax.plot(x, np.gradient(reg[\"Pd\"], x), marker = \"o\")\n"
   ]
  },
  {
   "cell_type": "code",
   "execution_count": null,
   "metadata": {},
   "outputs": [
    {
     "name": "stdout",
     "output_type": "stream",
     "text": [
      "Warning: hf_perp_conv_L_d* not found in dataset\n",
      "Warning: hf_perp_conv_R_d* not found in dataset\n"
     ]
    },
    {
     "data": {
      "text/html": [
       "<div>\n",
       "<style scoped>\n",
       "    .dataframe tbody tr th:only-of-type {\n",
       "        vertical-align: middle;\n",
       "    }\n",
       "\n",
       "    .dataframe tbody tr th {\n",
       "        vertical-align: top;\n",
       "    }\n",
       "\n",
       "    .dataframe thead th {\n",
       "        text-align: right;\n",
       "    }\n",
       "</style>\n",
       "<table border=\"1\" class=\"dataframe\">\n",
       "  <thead>\n",
       "    <tr style=\"text-align: right;\">\n",
       "      <th></th>\n",
       "      <th>outer_wall</th>\n",
       "      <th>inner_wall</th>\n",
       "      <th>targets</th>\n",
       "      <th>pfr</th>\n",
       "    </tr>\n",
       "  </thead>\n",
       "  <tbody>\n",
       "    <tr>\n",
       "      <th>d</th>\n",
       "      <td>0.170364</td>\n",
       "      <td>0.021791</td>\n",
       "      <td>0.057204</td>\n",
       "      <td>0.151985</td>\n",
       "    </tr>\n",
       "    <tr>\n",
       "      <th>d*</th>\n",
       "      <td>NaN</td>\n",
       "      <td>NaN</td>\n",
       "      <td>NaN</td>\n",
       "      <td>NaN</td>\n",
       "    </tr>\n",
       "    <tr>\n",
       "      <th>total</th>\n",
       "      <td>0.170364</td>\n",
       "      <td>0.021791</td>\n",
       "      <td>0.057204</td>\n",
       "      <td>0.151985</td>\n",
       "    </tr>\n",
       "  </tbody>\n",
       "</table>\n",
       "</div>"
      ],
      "text/plain": [
       "       outer_wall  inner_wall   targets       pfr\n",
       "d        0.170364    0.021791  0.057204  0.151985\n",
       "d*            NaN         NaN       NaN       NaN\n",
       "total    0.170364    0.021791  0.057204  0.151985"
      ]
     },
     "execution_count": 27,
     "metadata": {},
     "output_type": "execute_result"
    }
   ],
   "source": [
    "calculate_neutral_heat_balance(cs[\"hiresbase\"].ds.isel(t=-1), mode = \"reflection\")"
   ]
  },
  {
   "cell_type": "code",
   "execution_count": null,
   "metadata": {},
   "outputs": [
    {
     "name": "stdout",
     "output_type": "stream",
     "text": [
      "Warning: hf_perp_conv_L_d* not found in dataset\n",
      "Warning: hf_perp_conv_R_d* not found in dataset\n"
     ]
    },
    {
     "data": {
      "text/html": [
       "<div>\n",
       "<style scoped>\n",
       "    .dataframe tbody tr th:only-of-type {\n",
       "        vertical-align: middle;\n",
       "    }\n",
       "\n",
       "    .dataframe tbody tr th {\n",
       "        vertical-align: top;\n",
       "    }\n",
       "\n",
       "    .dataframe thead th {\n",
       "        text-align: right;\n",
       "    }\n",
       "</style>\n",
       "<table border=\"1\" class=\"dataframe\">\n",
       "  <thead>\n",
       "    <tr style=\"text-align: right;\">\n",
       "      <th></th>\n",
       "      <th>d</th>\n",
       "      <th>d*</th>\n",
       "    </tr>\n",
       "  </thead>\n",
       "  <tbody>\n",
       "    <tr>\n",
       "      <th>target_refl</th>\n",
       "      <td>-0.057204</td>\n",
       "      <td>NaN</td>\n",
       "    </tr>\n",
       "    <tr>\n",
       "      <th>inner_sol_refl</th>\n",
       "      <td>-0.021791</td>\n",
       "      <td>NaN</td>\n",
       "    </tr>\n",
       "    <tr>\n",
       "      <th>outer_sol_refl</th>\n",
       "      <td>-0.170364</td>\n",
       "      <td>NaN</td>\n",
       "    </tr>\n",
       "    <tr>\n",
       "      <th>pfr_refl</th>\n",
       "      <td>-0.151985</td>\n",
       "      <td>NaN</td>\n",
       "    </tr>\n",
       "    <tr>\n",
       "      <th>target_trefl</th>\n",
       "      <td>NaN</td>\n",
       "      <td>NaN</td>\n",
       "    </tr>\n",
       "    <tr>\n",
       "      <th>wall_trefl</th>\n",
       "      <td>NaN</td>\n",
       "      <td>NaN</td>\n",
       "    </tr>\n",
       "    <tr>\n",
       "      <th>target_recycle</th>\n",
       "      <td>0.374705</td>\n",
       "      <td>NaN</td>\n",
       "    </tr>\n",
       "    <tr>\n",
       "      <th>wall_recycle</th>\n",
       "      <td>0.000177</td>\n",
       "      <td>NaN</td>\n",
       "    </tr>\n",
       "    <tr>\n",
       "      <th>core_escape</th>\n",
       "      <td>-0.091137</td>\n",
       "      <td>NaN</td>\n",
       "    </tr>\n",
       "    <tr>\n",
       "      <th>sol_escape</th>\n",
       "      <td>-0.112596</td>\n",
       "      <td>NaN</td>\n",
       "    </tr>\n",
       "    <tr>\n",
       "      <th>iz</th>\n",
       "      <td>NaN</td>\n",
       "      <td>NaN</td>\n",
       "    </tr>\n",
       "    <tr>\n",
       "      <th>rec</th>\n",
       "      <td>0.000168</td>\n",
       "      <td>NaN</td>\n",
       "    </tr>\n",
       "    <tr>\n",
       "      <th>cx</th>\n",
       "      <td>0.889121</td>\n",
       "      <td>NaN</td>\n",
       "    </tr>\n",
       "    <tr>\n",
       "      <th>cxt</th>\n",
       "      <td>NaN</td>\n",
       "      <td>NaN</td>\n",
       "    </tr>\n",
       "    <tr>\n",
       "      <th>src</th>\n",
       "      <td>0.000577</td>\n",
       "      <td>NaN</td>\n",
       "    </tr>\n",
       "    <tr>\n",
       "      <th>TOTAL BALANCE</th>\n",
       "      <td>0.659671</td>\n",
       "      <td>0.0</td>\n",
       "    </tr>\n",
       "  </tbody>\n",
       "</table>\n",
       "</div>"
      ],
      "text/plain": [
       "                       d   d*\n",
       "target_refl    -0.057204  NaN\n",
       "inner_sol_refl -0.021791  NaN\n",
       "outer_sol_refl -0.170364  NaN\n",
       "pfr_refl       -0.151985  NaN\n",
       "target_trefl         NaN  NaN\n",
       "wall_trefl           NaN  NaN\n",
       "target_recycle  0.374705  NaN\n",
       "wall_recycle    0.000177  NaN\n",
       "core_escape    -0.091137  NaN\n",
       "sol_escape     -0.112596  NaN\n",
       "iz                   NaN  NaN\n",
       "rec             0.000168  NaN\n",
       "cx              0.889121  NaN\n",
       "cxt                  NaN  NaN\n",
       "src             0.000577  NaN\n",
       "TOTAL BALANCE   0.659671  0.0"
      ]
     },
     "execution_count": 19,
     "metadata": {},
     "output_type": "execute_result"
    }
   ],
   "source": [
    "ds = cs[\"hiresbase\"].ds.isel(t=-1)\n",
    "df = pd.DataFrame()\n",
    "\n",
    "\n",
    "def get_sum(param, loc = None):\n",
    "    # ds = cs[\"base\"].ds.isel(t=-1)\n",
    "    \n",
    "    if param in ds.data_vars:\n",
    "        \n",
    "        data = ds[param].hermesm.clean_guards()\n",
    "        dv = ds[\"dv\"]\n",
    "        if loc != None:\n",
    "            data = data.hermesm.select_region(loc)\n",
    "            dv = ds.hermesm.select_region(loc)[\"dv\"]\n",
    "            \n",
    "        val = (data * dv).sum([\"x\", \"theta\"]) * 1e-6\n",
    "        \n",
    "        if any([x in param for x in [\"iz\", \"rec\"]]):\n",
    "            val *= -1\n",
    "        return val\n",
    "    else:\n",
    "        return np.nan\n",
    "    \n",
    "def get_bndry_flux(species, boundary, type = \"convection\"):\n",
    "    if \"core\" in boundary:\n",
    "        LR = \"L\"\n",
    "    elif \"sol\" in boundary:\n",
    "        LR = \"R\"\n",
    "    else:\n",
    "        raise Exception(f\"{boundary} not implemented\")\n",
    "        \n",
    "    if type == \"convection\":\n",
    "        param = f\"hf_perp_conv_{LR}_{species}\"\n",
    "        scale = 1e-6\n",
    "    else:\n",
    "        raise Exception(f\"{type} not implemented\")\n",
    "        \n",
    "    if param in ds.data_vars:\n",
    "        return ds.hermesm.select_region(\"core_edge\")[param].sum(\"theta\").values * 1e-6\n",
    "    else:\n",
    "        print(f\"Warning: {param} not found in dataset\")\n",
    "        return np.nan\n",
    "    \n",
    "df.loc[\"target_refl\", \"d\"] = get_sum(\"Ed_target_refl\")\n",
    "df.loc[\"inner_sol_refl\", \"d\"] = get_sum(\"Ed_wall_refl\", loc = \"inner_sol_edge\")\n",
    "df.loc[\"outer_sol_refl\", \"d\"] = get_sum(\"Ed_wall_refl\", loc = \"outer_sol_edge\")\n",
    "df.loc[\"pfr_refl\", \"d\"] = get_sum(\"Ed_wall_refl\", loc = \"pfr_edge\")\n",
    "df.loc[\"target_trefl\", \"d\"] = get_sum(\"Edd*_target_refl\")\n",
    "df.loc[\"wall_trefl\", \"d\"] = get_sum(\"Edd*_wall_refl\")\n",
    "df.loc[\"target_recycle\", \"d\"] = get_sum(\"Ed_target_recycle\") * -1\n",
    "df.loc[\"wall_recycle\", \"d\"] = get_sum(\"Ed_wall_recycle\") * -1\n",
    "df.loc[\"core_escape\", \"d\"] = get_bndry_flux(\"d\", \"core_edge\", type = \"convection\")\n",
    "df.loc[\"sol_escape\", \"d\"] = get_bndry_flux(\"d\", \"sol_edge\", type = \"convection\")\n",
    "df.loc[\"iz\", \"d\"] = get_sum(\"Edd+_iz\")\n",
    "df.loc[\"rec\", \"d\"] = get_sum(\"Ed+_rec\")\n",
    "df.loc[\"cx\", \"d\"] = get_sum(\"Edd+_cx\")\n",
    "df.loc[\"cxt\", \"d\"] = get_sum(\"Edd+_cxt\")\n",
    "df.loc[\"src\", \"d\"] = get_sum(\"Pd_src\") * 3/2\n",
    "\n",
    "df.loc[\"target_refl\", \"d*\"] = get_sum(\"Ed*_target_refl\")\n",
    "df.loc[\"inner_sol_refl\", \"d*\"] = get_sum(\"Ed*_wall_refl\", loc = \"inner_sol_edge\")\n",
    "df.loc[\"outer_sol_refl\", \"d*\"] = get_sum(\"Ed*_wall_refl\", loc = \"outer_sol_edge\")\n",
    "df.loc[\"pfr_refl\", \"d*\"] = get_sum(\"Ed*_wall_refl\", loc = \"pfr_edge\")\n",
    "df.loc[\"target_trefl\", \"d*\"] = get_sum(\"Edd*_target_refl\") * -1\n",
    "df.loc[\"wall_trefl\", \"d*\"] = get_sum(\"Edd*_wall_refl\") * -1\n",
    "df.loc[\"target_recycle\", \"d*\"] = get_sum(\"Ed*_target_recycle\")\n",
    "df.loc[\"wall_recycle\", \"d*\"] = get_sum(\"Ed*_wall_recycle\")\n",
    "df.loc[\"core_escape\", \"d*\"] = get_bndry_flux(\"d*\", \"core_edge\", type = \"convection\")\n",
    "df.loc[\"sol_escape\", \"d*\"] = get_bndry_flux(\"d*\", \"sol_edge\", type = \"convection\")\n",
    "df.loc[\"iz\", \"d*\"] = get_sum(\"Ed*d+_iz\")\n",
    "df.loc[\"rec\", \"d*\"] = get_sum(\"Ed*d+_rec\")\n",
    "df.loc[\"cx\", \"d*\"] = get_sum(\"Ed*d+_cx\")\n",
    "df.loc[\"cxt\", \"d*\"] = get_sum(\"Ed*d+_cxt\")\n",
    "\n",
    "df.loc[\"TOTAL BALANCE\", :] = df[~df.index.isin([\"target_trefl\", \"wall_trefl\"])].sum(axis=0)\n",
    "\n",
    "df"
   ]
  },
  {
   "cell_type": "code",
   "execution_count": null,
   "metadata": {},
   "outputs": [
    {
     "data": {
      "text/html": [
       "<style type=\"text/css\">\n",
       "</style>\n",
       "<table id=\"T_7f7cc\">\n",
       "  <thead>\n",
       "    <tr>\n",
       "      <th class=\"blank level0\" >&nbsp;</th>\n",
       "      <th id=\"T_7f7cc_level0_col0\" class=\"col_heading level0 col0\" >outer_wall</th>\n",
       "      <th id=\"T_7f7cc_level0_col1\" class=\"col_heading level0 col1\" >inner_wall</th>\n",
       "      <th id=\"T_7f7cc_level0_col2\" class=\"col_heading level0 col2\" >targets</th>\n",
       "      <th id=\"T_7f7cc_level0_col3\" class=\"col_heading level0 col3\" >pfr</th>\n",
       "    </tr>\n",
       "  </thead>\n",
       "  <tbody>\n",
       "    <tr>\n",
       "      <th id=\"T_7f7cc_level0_row0\" class=\"row_heading level0 row0\" >d</th>\n",
       "      <td id=\"T_7f7cc_row0_col0\" class=\"data row0 col0\" >0.171</td>\n",
       "      <td id=\"T_7f7cc_row0_col1\" class=\"data row0 col1\" >0.023</td>\n",
       "      <td id=\"T_7f7cc_row0_col2\" class=\"data row0 col2\" >0.050</td>\n",
       "      <td id=\"T_7f7cc_row0_col3\" class=\"data row0 col3\" >0.160</td>\n",
       "    </tr>\n",
       "    <tr>\n",
       "      <th id=\"T_7f7cc_level0_row1\" class=\"row_heading level0 row1\" >d*</th>\n",
       "      <td id=\"T_7f7cc_row1_col0\" class=\"data row1 col0\" >nan</td>\n",
       "      <td id=\"T_7f7cc_row1_col1\" class=\"data row1 col1\" >nan</td>\n",
       "      <td id=\"T_7f7cc_row1_col2\" class=\"data row1 col2\" >nan</td>\n",
       "      <td id=\"T_7f7cc_row1_col3\" class=\"data row1 col3\" >nan</td>\n",
       "    </tr>\n",
       "    <tr>\n",
       "      <th id=\"T_7f7cc_level0_row2\" class=\"row_heading level0 row2\" >total</th>\n",
       "      <td id=\"T_7f7cc_row2_col0\" class=\"data row2 col0\" >0.171</td>\n",
       "      <td id=\"T_7f7cc_row2_col1\" class=\"data row2 col1\" >0.023</td>\n",
       "      <td id=\"T_7f7cc_row2_col2\" class=\"data row2 col2\" >0.050</td>\n",
       "      <td id=\"T_7f7cc_row2_col3\" class=\"data row2 col3\" >0.160</td>\n",
       "    </tr>\n",
       "  </tbody>\n",
       "</table>\n"
      ],
      "text/plain": [
       "<pandas.io.formats.style.Styler at 0x1d0b57c59c0>"
      ]
     },
     "metadata": {},
     "output_type": "display_data"
    }
   ],
   "source": [
    "dfrefl = df.transpose()[[\"outer_sol_refl\", \"inner_sol_refl\", \"target_refl\", \"pfr_refl\"]].copy()\n",
    "dfrefl = dfrefl.rename(columns = {\"outer_sol_refl\" : \"outer_wall\", \"inner_sol_refl\" : \"inner_wall\", \"target_refl\" : \"targets\", \"pfr_refl\" : \"pfr\"})\n",
    "dfrefl.loc[\"total\", :] = dfrefl.sum(axis=0)\n",
    "dfrefl *= -1\n",
    "display(dfrefl.style.format(\"{:.3f}\"))"
   ]
  },
  {
   "cell_type": "code",
   "execution_count": null,
   "metadata": {},
   "outputs": [
    {
     "data": {
      "text/html": [
       "<style type=\"text/css\">\n",
       "</style>\n",
       "<table id=\"T_86224\">\n",
       "  <thead>\n",
       "    <tr>\n",
       "      <th class=\"blank level0\" >&nbsp;</th>\n",
       "      <th id=\"T_86224_level0_col0\" class=\"col_heading level0 col0\" >outer_wall</th>\n",
       "      <th id=\"T_86224_level0_col1\" class=\"col_heading level0 col1\" >inner_wall</th>\n",
       "      <th id=\"T_86224_level0_col2\" class=\"col_heading level0 col2\" >targets</th>\n",
       "      <th id=\"T_86224_level0_col3\" class=\"col_heading level0 col3\" >pfr</th>\n",
       "    </tr>\n",
       "  </thead>\n",
       "  <tbody>\n",
       "    <tr>\n",
       "      <th id=\"T_86224_level0_row0\" class=\"row_heading level0 row0\" >E_Total</th>\n",
       "      <td id=\"T_86224_row0_col0\" class=\"data row0 col0\" >0.232</td>\n",
       "      <td id=\"T_86224_row0_col1\" class=\"data row0 col1\" >0.039</td>\n",
       "      <td id=\"T_86224_row0_col2\" class=\"data row0 col2\" >1.266</td>\n",
       "      <td id=\"T_86224_row0_col3\" class=\"data row0 col3\" >0.103</td>\n",
       "    </tr>\n",
       "    <tr>\n",
       "      <th id=\"T_86224_level0_row1\" class=\"row_heading level0 row1\" >E_incident_Electron</th>\n",
       "      <td id=\"T_86224_row1_col0\" class=\"data row1 col0\" >0.000</td>\n",
       "      <td id=\"T_86224_row1_col1\" class=\"data row1 col1\" >0.000</td>\n",
       "      <td id=\"T_86224_row1_col2\" class=\"data row1 col2\" >0.554</td>\n",
       "      <td id=\"T_86224_row1_col3\" class=\"data row1 col3\" >0.000</td>\n",
       "    </tr>\n",
       "    <tr>\n",
       "      <th id=\"T_86224_level0_row2\" class=\"row_heading level0 row2\" >E_incident_Ions</th>\n",
       "      <td id=\"T_86224_row2_col0\" class=\"data row2 col0\" >0.000</td>\n",
       "      <td id=\"T_86224_row2_col1\" class=\"data row2 col1\" >0.000</td>\n",
       "      <td id=\"T_86224_row2_col2\" class=\"data row2 col2\" >0.963</td>\n",
       "      <td id=\"T_86224_row2_col3\" class=\"data row2 col3\" >0.001</td>\n",
       "    </tr>\n",
       "    <tr>\n",
       "      <th id=\"T_86224_level0_row3\" class=\"row_heading level0 row3\" >E_incident_Atoms</th>\n",
       "      <td id=\"T_86224_row3_col0\" class=\"data row3 col0\" >0.210</td>\n",
       "      <td id=\"T_86224_row3_col1\" class=\"data row3 col1\" >0.026</td>\n",
       "      <td id=\"T_86224_row3_col2\" class=\"data row3 col2\" >0.071</td>\n",
       "      <td id=\"T_86224_row3_col3\" class=\"data row3 col3\" >0.082</td>\n",
       "    </tr>\n",
       "    <tr>\n",
       "      <th id=\"T_86224_level0_row4\" class=\"row_heading level0 row4\" >E_incident_Molecules</th>\n",
       "      <td id=\"T_86224_row4_col0\" class=\"data row4 col0\" >0.000</td>\n",
       "      <td id=\"T_86224_row4_col1\" class=\"data row4 col1\" >0.000</td>\n",
       "      <td id=\"T_86224_row4_col2\" class=\"data row4 col2\" >0.000</td>\n",
       "      <td id=\"T_86224_row4_col3\" class=\"data row4 col3\" >0.000</td>\n",
       "    </tr>\n",
       "    <tr>\n",
       "      <th id=\"T_86224_level0_row5\" class=\"row_heading level0 row5\" >E_Radiation</th>\n",
       "      <td id=\"T_86224_row5_col0\" class=\"data row5 col0\" >0.021</td>\n",
       "      <td id=\"T_86224_row5_col1\" class=\"data row5 col1\" >0.012</td>\n",
       "      <td id=\"T_86224_row5_col2\" class=\"data row5 col2\" >0.019</td>\n",
       "      <td id=\"T_86224_row5_col3\" class=\"data row5 col3\" >0.019</td>\n",
       "    </tr>\n",
       "    <tr>\n",
       "      <th id=\"T_86224_level0_row6\" class=\"row_heading level0 row6\" >E_Radiation_Atoms</th>\n",
       "      <td id=\"T_86224_row6_col0\" class=\"data row6 col0\" >0.021</td>\n",
       "      <td id=\"T_86224_row6_col1\" class=\"data row6 col1\" >0.012</td>\n",
       "      <td id=\"T_86224_row6_col2\" class=\"data row6 col2\" >0.019</td>\n",
       "      <td id=\"T_86224_row6_col3\" class=\"data row6 col3\" >0.019</td>\n",
       "    </tr>\n",
       "    <tr>\n",
       "      <th id=\"T_86224_level0_row7\" class=\"row_heading level0 row7\" >E_Rad_Recombination</th>\n",
       "      <td id=\"T_86224_row7_col0\" class=\"data row7 col0\" >0.000</td>\n",
       "      <td id=\"T_86224_row7_col1\" class=\"data row7 col1\" >0.000</td>\n",
       "      <td id=\"T_86224_row7_col2\" class=\"data row7 col2\" >-0.452</td>\n",
       "      <td id=\"T_86224_row7_col3\" class=\"data row7 col3\" >-0.001</td>\n",
       "    </tr>\n",
       "    <tr>\n",
       "      <th id=\"T_86224_level0_row8\" class=\"row_heading level0 row8\" >E_Recombination_in_Wall</th>\n",
       "      <td id=\"T_86224_row8_col0\" class=\"data row8 col0\" >0.001</td>\n",
       "      <td id=\"T_86224_row8_col1\" class=\"data row8 col1\" >0.000</td>\n",
       "      <td id=\"T_86224_row8_col2\" class=\"data row8 col2\" >0.110</td>\n",
       "      <td id=\"T_86224_row8_col3\" class=\"data row8 col3\" >0.001</td>\n",
       "    </tr>\n",
       "  </tbody>\n",
       "</table>\n"
      ],
      "text/plain": [
       "<pandas.io.formats.style.Styler at 0x1d0b248fbb0>"
      ]
     },
     "metadata": {},
     "output_type": "display_data"
    }
   ],
   "source": [
    "path = os.path.join(onedrive_path, r\"Project\\collab\\From\\Matteo\\2023-03-08 - Display tallies ppt\\display_tallies.csv\")\n",
    "solps = read_display_tallies(path)"
   ]
  }
 ],
 "metadata": {
  "kernelspec": {
   "display_name": "base",
   "language": "python",
   "name": "python3"
  },
  "language_info": {
   "codemirror_mode": {
    "name": "ipython",
    "version": 3
   },
   "file_extension": ".py",
   "mimetype": "text/x-python",
   "name": "python",
   "nbconvert_exporter": "python",
   "pygments_lexer": "ipython3",
   "version": "3.10.11"
  },
  "vscode": {
   "interpreter": {
    "hash": "6a682ef18c43ef4e8ca96f3f61389d1a336ad35b099cf44a1678bebafd66c9bc"
   }
  }
 },
 "nbformat": 4,
 "nbformat_minor": 4
}
