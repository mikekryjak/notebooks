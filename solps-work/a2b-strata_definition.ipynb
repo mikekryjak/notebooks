{
 "cells": [
  {
   "cell_type": "code",
   "execution_count": 36,
   "metadata": {},
   "outputs": [
    {
     "name": "stdout",
     "output_type": "stream",
     "text": [
      "The autoreload extension is already loaded. To reload it, use:\n",
      "  %reload_ext autoreload\n",
      "Done\n"
     ]
    }
   ],
   "source": [
    "# onedrive = r\"C:\\Users\\Mike.Kryajak\\OneDrive\"\n",
    "onedrive = r\"C:\\Users\\mikek\\OneDrive\"\n",
    "# %matplotlib ipympl\n",
    "# %matplotlib qt\n",
    "# %matplotlib widget\n",
    "%matplotlib inline\n",
    "\n",
    "from boututils.datafile import DataFile\n",
    "from boutdata.collect import collect\n",
    "import pandas as pd\n",
    "import numpy as np\n",
    "import matplotlib.pyplot as plt\n",
    "import os, sys, pathlib\n",
    "import platform\n",
    "import traceback\n",
    "import xarray as xr\n",
    "import xbout\n",
    "import scipy\n",
    "import re\n",
    "import netCDF4 as nc\n",
    "\n",
    "onedrive_path = onedrive_path = str(os.getcwd()).split(\"OneDrive\")[0] + \"OneDrive\"\n",
    "sys.path.append(os.path.join(onedrive_path, r\"Project\\python-packages\\sdtools\"))\n",
    "sys.path.append(os.path.join(onedrive_path, r\"Project\\python-packages\\soledge\"))\n",
    "sys.path.append(os.path.join(onedrive_path, r\"Project\\python-packages\"))\n",
    "\n",
    "\n",
    "# from gridtools.hypnotoad_tools import *\n",
    "from gridtools.b2_tools import *\n",
    "from gridtools.utils import *\n",
    "\n",
    "from hermes3.case_db import *\n",
    "from hermes3.load import *\n",
    "from hermes3.named_selections import *\n",
    "from hermes3.plotting import *\n",
    "from hermes3.grid_fields import *\n",
    "from hermes3.accessors import *\n",
    "from hermes3.utils import *\n",
    "from code_comparison.code_comparison import *\n",
    "\n",
    "import gridtools.solps_python_scripts.setup\n",
    "from gridtools.solps_python_scripts.plot_solps       import plot_1d, plot_2d, plot_wall_loads\n",
    "from gridtools.solps_python_scripts.read_ft44 import read_ft44\n",
    "\n",
    "%load_ext autoreload\n",
    "%autoreload 2\n",
    "\n",
    "\n",
    "print(\"Done\")"
   ]
  },
  {
   "cell_type": "code",
   "execution_count": 4,
   "metadata": {},
   "outputs": [
    {
     "name": "stdout",
     "output_type": "stream",
     "text": [
      "fort.44 loaded from .pkl\n"
     ]
    }
   ],
   "source": [
    "path = os.path.join(onedrive_path, r\"Project\\collab\\tech\\compare_data\\HERMES_SOLEDGE.S33600_Tamb_case.SEE=0.BGK=OFF.SOLEDGE.reactions.input.dat.OK.Js=OFF.GAMMAE=4.5.eirene_ionising_core=0.BCCON=16\")\n",
    "(neut, wld) = read_ft44(where = path, save = True)"
   ]
  },
  {
   "cell_type": "code",
   "execution_count": 13,
   "metadata": {},
   "outputs": [
    {
     "data": {
      "text/plain": [
       "dict_keys(['wldnek', 'wldnep', 'wldna', 'ewlda', 'wldnm', 'ewldm', 'wldra', 'wldrm', 'poly', 'wldpp', 'wldpa', 'wldpm', 'wldpeb', 'wldspt', 'wldspta', 'wldsptm', 'isrftype', 'wlarea', 'wlabsrp', 'wlpump', 'eirdiag_nds_ind', 'eirdiag_nds_typ', 'eirdiag_nds_srf', 'eirdiag_nds_start', 'eirdiag_nds_end', 'sarea_res', 'wldna_res', 'wldnm_res', 'ewlda_res', 'ewldm_res', 'ewldea_res', 'ewldem_res', 'ewldrp_res', 'ewldmr_res', 'wldspt_res', 'wldspta_res', 'wldsptm_res', 'wlpump_res', 'ewldt_res'])"
      ]
     },
     "execution_count": 13,
     "metadata": {},
     "output_type": "execute_result"
    }
   ],
   "source": [
    "wld.keys()\n",
    "\n",
    "# wldnek: heat transferred by neutrals (W)\n",
    "# "
   ]
  },
  {
   "cell_type": "code",
   "execution_count": 23,
   "metadata": {},
   "outputs": [
    {
     "name": "stdout",
     "output_type": "stream",
     "text": [
      "wldnek: (55, 15)\n",
      "poly: (4, 42)\n",
      "wlarea: (55,)\n"
     ]
    },
    {
     "data": {
      "text/plain": [
       "[None, None, None]"
      ]
     },
     "execution_count": 23,
     "metadata": {},
     "output_type": "execute_result"
    }
   ],
   "source": [
    "[print(f\"{x}: {wld[x].shape}\") for x in [\"wldnek\", \"poly\", \"wlarea\"]]"
   ]
  },
  {
   "cell_type": "code",
   "execution_count": 12,
   "metadata": {},
   "outputs": [],
   "source": [
    "%matplotlib widget"
   ]
  },
  {
   "attachments": {},
   "cell_type": "markdown",
   "metadata": {},
   "source": [
    "- Looks like there are 55 elements but only 42 are in poly, which is why Matteo only plots these.\n",
    "- wldnek is the total energy deposited by the neutrals on the target in W\n",
    "- wldnep is the total potential energy of the neutrals in W\n",
    "- wlarea is the area but it's not needed since the above are already in W"
   ]
  },
  {
   "cell_type": "code",
   "execution_count": 12,
   "metadata": {},
   "outputs": [
    {
     "data": {
      "text/plain": [
       "'c:\\\\collab\\\\tech\\\\compare_data\\\\HERMES_SOLEDGE.S33600_Tamb_case.SEE=0.BGK=OFF.SOLEDGE.reactions.input.dat.OK.Js=OFF.GAMMAE=4.5.eirene_ionising_core=0.BCCON=16\\\\b2.neutrals.parameters'"
      ]
     },
     "execution_count": 12,
     "metadata": {},
     "output_type": "execute_result"
    }
   ],
   "source": [
    "neutrals_path"
   ]
  },
  {
   "cell_type": "code",
   "execution_count": 34,
   "metadata": {},
   "outputs": [
    {
     "name": "stderr",
     "output_type": "stream",
     "text": [
      "C:\\Users\\Mike.Kryajak\\AppData\\Local\\Temp\\ipykernel_12748\\2903344782.py:2: ParserWarning: Falling back to the 'python' engine because the 'c' engine does not support regex separators (separators > 1 char and different from '\\s+' are interpreted as regex); you can avoid this warning by specifying engine='python'.\n",
      "  strata_settings = pd.read_csv(neutrals_path, names = [x for x in range(17)], sep = \",|=\")\n"
     ]
    },
    {
     "data": {
      "text/html": [
       "<div>\n",
       "<style scoped>\n",
       "    .dataframe tbody tr th:only-of-type {\n",
       "        vertical-align: middle;\n",
       "    }\n",
       "\n",
       "    .dataframe tbody tr th {\n",
       "        vertical-align: top;\n",
       "    }\n",
       "\n",
       "    .dataframe thead th {\n",
       "        text-align: right;\n",
       "    }\n",
       "</style>\n",
       "<table border=\"1\" class=\"dataframe\">\n",
       "  <thead>\n",
       "    <tr style=\"text-align: right;\">\n",
       "      <th></th>\n",
       "      <th>crcstra</th>\n",
       "      <th>rcpos</th>\n",
       "      <th>rcstart</th>\n",
       "      <th>rcend</th>\n",
       "    </tr>\n",
       "  </thead>\n",
       "  <tbody>\n",
       "    <tr>\n",
       "      <th>1</th>\n",
       "      <td>'W'</td>\n",
       "      <td>-1</td>\n",
       "      <td>0</td>\n",
       "      <td>35</td>\n",
       "    </tr>\n",
       "    <tr>\n",
       "      <th>2</th>\n",
       "      <td>'E'</td>\n",
       "      <td>48</td>\n",
       "      <td>0</td>\n",
       "      <td>35</td>\n",
       "    </tr>\n",
       "    <tr>\n",
       "      <th>3</th>\n",
       "      <td>'W'</td>\n",
       "      <td>49</td>\n",
       "      <td>0</td>\n",
       "      <td>35</td>\n",
       "    </tr>\n",
       "    <tr>\n",
       "      <th>4</th>\n",
       "      <td>'E'</td>\n",
       "      <td>110</td>\n",
       "      <td>0</td>\n",
       "      <td>35</td>\n",
       "    </tr>\n",
       "    <tr>\n",
       "      <th>5</th>\n",
       "      <td>'S'</td>\n",
       "      <td>-1</td>\n",
       "      <td>0</td>\n",
       "      <td>11</td>\n",
       "    </tr>\n",
       "    <tr>\n",
       "      <th>6</th>\n",
       "      <td>'S'</td>\n",
       "      <td>-1</td>\n",
       "      <td>36</td>\n",
       "      <td>47</td>\n",
       "    </tr>\n",
       "    <tr>\n",
       "      <th>7</th>\n",
       "      <td>'S'</td>\n",
       "      <td>-1</td>\n",
       "      <td>50</td>\n",
       "      <td>67</td>\n",
       "    </tr>\n",
       "    <tr>\n",
       "      <th>8</th>\n",
       "      <td>'S'</td>\n",
       "      <td>-1</td>\n",
       "      <td>92</td>\n",
       "      <td>109</td>\n",
       "    </tr>\n",
       "    <tr>\n",
       "      <th>9</th>\n",
       "      <td>'N'</td>\n",
       "      <td>36</td>\n",
       "      <td>0</td>\n",
       "      <td>47</td>\n",
       "    </tr>\n",
       "    <tr>\n",
       "      <th>10</th>\n",
       "      <td>'N'</td>\n",
       "      <td>36</td>\n",
       "      <td>50</td>\n",
       "      <td>109</td>\n",
       "    </tr>\n",
       "    <tr>\n",
       "      <th>11</th>\n",
       "      <td>'C'</td>\n",
       "      <td>0</td>\n",
       "      <td>0</td>\n",
       "      <td>0</td>\n",
       "    </tr>\n",
       "    <tr>\n",
       "      <th>12</th>\n",
       "      <td>'C'</td>\n",
       "      <td>0</td>\n",
       "      <td>0</td>\n",
       "      <td>0</td>\n",
       "    </tr>\n",
       "    <tr>\n",
       "      <th>13</th>\n",
       "      <td>'V'</td>\n",
       "      <td>0</td>\n",
       "      <td>0</td>\n",
       "      <td>0</td>\n",
       "    </tr>\n",
       "    <tr>\n",
       "      <th>14</th>\n",
       "      <td>'T'</td>\n",
       "      <td>0</td>\n",
       "      <td>0</td>\n",
       "      <td>0</td>\n",
       "    </tr>\n",
       "    <tr>\n",
       "      <th>15</th>\n",
       "      <td>NaN</td>\n",
       "      <td>NaN</td>\n",
       "      <td>NaN</td>\n",
       "      <td>NaN</td>\n",
       "    </tr>\n",
       "    <tr>\n",
       "      <th>16</th>\n",
       "      <td>NaN</td>\n",
       "      <td>NaN</td>\n",
       "      <td>NaN</td>\n",
       "      <td>NaN</td>\n",
       "    </tr>\n",
       "  </tbody>\n",
       "</table>\n",
       "</div>"
      ],
      "text/plain": [
       "0  crcstra rcpos rcstart rcend\n",
       "1      'W'    -1       0    35\n",
       "2      'E'    48       0    35\n",
       "3      'W'    49       0    35\n",
       "4      'E'   110       0    35\n",
       "5      'S'    -1       0    11\n",
       "6      'S'    -1      36    47\n",
       "7      'S'    -1      50    67\n",
       "8      'S'    -1      92   109\n",
       "9      'N'    36       0    47\n",
       "10     'N'    36      50   109\n",
       "11     'C'     0       0     0\n",
       "12     'C'     0       0     0\n",
       "13     'V'     0       0     0\n",
       "14     'T'     0       0     0\n",
       "15     NaN   NaN     NaN   NaN\n",
       "16     NaN   NaN     NaN   NaN"
      ]
     },
     "execution_count": 34,
     "metadata": {},
     "output_type": "execute_result"
    }
   ],
   "source": [
    "# - Strata are W, E, W, E, S, S, S, N, N, C, C, V, T\n",
    "# - N, S, W, E are SOL, core/PFR, inner lower target and outer lower target respectively\n",
    "# - V is volume recombination source\n",
    "# - C is gas puff source\n",
    "# - T is time dependent source\n",
    "# rcpos is same as BCPOS: for N, S, X it specifies row index. For W, E, Y it specifies column index.\n",
    "# rcstart is the start coordinate of the strata\n",
    "# rcend is the end coordionate of the strata\n",
    "\n",
    "neutrals_path = os.path.join(onedrive_path, r\"Project\\collab\\tech\\compare_data\\HERMES_SOLEDGE.S33600_Tamb_case.SEE=0.BGK=OFF.SOLEDGE.reactions.input.dat.OK.Js=OFF.GAMMAE=4.5.eirene_ionising_core=0.BCCON=16\\b2.neutrals.parameters\")\n",
    "strata_settings = pd.read_csv(neutrals_path, names = [x for x in range(17)], sep = \",|=\")\n",
    "strata_settings = strata_settings.set_index(0, drop =True)\n",
    "strata_settings = strata_settings.transpose()\n",
    "strata_settings = strata_settings[[\"crcstra\", \"rcpos\", \"rcstart\", \"rcend\"]]\n",
    "\n",
    "strata_settings"
   ]
  },
  {
   "cell_type": "code",
   "execution_count": 49,
   "metadata": {},
   "outputs": [],
   "source": [
    "d = nc.Dataset(os.path.join(path, \"balance.nc\"))\n",
    "crx = d[\"crx\"][:]\n",
    "cry = d[\"cry\"][:]\n",
    "d.close()\n"
   ]
  },
  {
   "cell_type": "code",
   "execution_count": null,
   "metadata": {},
   "outputs": [],
   "source": [
    "strata = pd.DataFrame()\n",
    "\n",
    "strata[\"code\"] = [\"W\", \"E\", \"W\", \"E\", \"S\", \"S\", \"S\", \"S\", \"N\", \"N\", \"C\", \"C\", \"V\", \"T\"]\n",
    "strata[\"pos\"] = [-1, 48, 49, 110, -1, -1, -1, -1, 36, 36, 0, 0, 0, 0]\n",
    "strata[\"start\"] = [0, 0, 0, 0, 0, 36, 50, 92, 0, 50, 0, 0, 0, 0]\n",
    "strata[\"end\"] = [35, 35, 35, 35, 11, 47, 67, 109, 47, 109, 0, 0, 0, 0]\n",
    "\n",
    "strata"
   ]
  },
  {
   "cell_type": "code",
   "execution_count": 43,
   "metadata": {},
   "outputs": [
    {
     "name": "stdout",
     "output_type": "stream",
     "text": [
      "Stratum 0: 1.022 MW\n",
      "Stratum 1: 0.088 MW\n",
      "Stratum 2: 0.090 MW\n",
      "Stratum 3: 0.386 MW\n",
      "Stratum 4: 0.383 MW\n",
      "Stratum 5: 0.000 MW\n",
      "Stratum 6: 0.000 MW\n",
      "Stratum 7: 0.000 MW\n",
      "Stratum 8: 0.000 MW\n",
      "Stratum 9: 0.000 MW\n",
      "Stratum 10: 0.003 MW\n",
      "Stratum 11: 0.036 MW\n",
      "Stratum 12: 0.035 MW\n",
      "Stratum 13: 0.000 MW\n",
      "Stratum 14: 0.000 MW\n",
      "Sum of all strata: 2.044e+00 MW\n"
     ]
    }
   ],
   "source": [
    "wlddata = wld[\"wldnek\"]\n",
    "\n",
    "for i in range(wlddata.shape[1]):\n",
    "    flux = sum(wlddata[:,i]) * 1e-6\n",
    "    print(f\"Stratum {i}: {flux:.3f} MW\")\n",
    "    \n",
    "print(f\"Sum of all strata: {np.sum(wlddata)*1e-6:.3e} MW\")"
   ]
  }
 ],
 "metadata": {
  "kernelspec": {
   "display_name": "Python 3.9.13 ('base')",
   "language": "python",
   "name": "python3"
  },
  "language_info": {
   "codemirror_mode": {
    "name": "ipython",
    "version": 3
   },
   "file_extension": ".py",
   "mimetype": "text/x-python",
   "name": "python",
   "nbconvert_exporter": "python",
   "pygments_lexer": "ipython3",
   "version": "3.10.11"
  },
  "orig_nbformat": 4,
  "vscode": {
   "interpreter": {
    "hash": "5d3028fb5fc7b0ce0999a527284344536284ceb78ab851f9ad8deb4f33e74dff"
   }
  }
 },
 "nbformat": 4,
 "nbformat_minor": 2
}
