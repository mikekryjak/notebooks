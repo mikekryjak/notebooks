{
 "cells": [
  {
   "cell_type": "code",
   "execution_count": 1,
   "metadata": {},
   "outputs": [],
   "source": [
    "from boututils.datafile import DataFile\n",
    "from boutdata.collect import collect\n",
    "from boutdata.data import BoutData\n",
    "import os, sys\n",
    "import matplotlib\n",
    "# matplotlib.use('Qt5Agg',force=True)\n",
    "# matplotlib.use(\"TKAgg\",force=True)\n",
    "# matplotlib.use(\"widget\",force=True)\n",
    "import matplotlib.pyplot as plt\n",
    "import xbout\n",
    "import pandas as pd\n",
    "import numpy as np\n",
    "import pickle as pkl\n",
    "import xarray as xr\n",
    "\n",
    "from boutdata.restart import addvar\n",
    "import glob\n",
    "import shutil\n",
    "\n",
    "onedrive_path = onedrive_path = str(os.getcwd()).split(\"OneDrive\")[0] + \"OneDrive\"\n",
    "sys.path.append(os.path.join(onedrive_path, r\"Project\\python-packages\\sdtools\"))\n",
    "sys.path.append(os.path.join(onedrive_path, r\"Project\\python-packages\\soledge\"))\n",
    "sys.path.append(os.path.join(onedrive_path, r\"Project\\python-packages\"))\n",
    "\n",
    "\n",
    "\n",
    "from hermes3.case_db import *\n",
    "from hermes3.load import *\n",
    "from hermes3.named_selections import *\n",
    "from hermes3.plotting import *\n",
    "from hermes3.grid_fields import *\n",
    "from hermes3.accessors import *\n",
    "from hermes3.utils import *\n",
    "# from code_comparison.code_comparison import *\n",
    "\n",
    "\n",
    "%load_ext autoreload\n",
    "%autoreload 2"
   ]
  },
  {
   "cell_type": "code",
   "execution_count": 2,
   "metadata": {},
   "outputs": [],
   "source": [
    "casestore = {}"
   ]
  },
  {
   "cell_type": "code",
   "execution_count": null,
   "metadata": {},
   "outputs": [],
   "source": [
    "class Load:\n",
    "    def __init__(self):\n",
    "        pass\n",
    "\n",
    "    def case_1D(casepath):\n",
    "        \n",
    "        datapath = os.path.join(casepath, \"BOUT.dmp.*.nc\")\n",
    "        inputfilepath = os.path.join(casepath, \"BOUT.inp\")\n",
    "\n",
    "        ds = xbout.load.open_boutdataset(\n",
    "                datapath = datapath, \n",
    "                inputfilepath = inputfilepath, \n",
    "                info = False,\n",
    "                keep_yboundaries=True,\n",
    "                cache = False\n",
    "                )\n",
    "\n",
    "        ds = ds.squeeze(drop = True)\n",
    "\n",
    "        return Case(ds, casepath, unnormalise_geom = True)\n",
    "\n",
    "    def case_2D(casepath, \n",
    "                gridfilepath = None, \n",
    "                verbose = False, \n",
    "                keep_boundaries = None, \n",
    "                keep_xboundaries = False,\n",
    "                keep_yboundaries = False,\n",
    "                squeeze = True, \n",
    "                double_load = False,\n",
    "                unnormalise_geom = False,\n",
    "                unnormalise = True):\n",
    "        \"\"\" \n",
    "        Double load returns a case with and without guards.\n",
    "        \"\"\"\n",
    "        \n",
    "        if keep_xboundaries == True or keep_boundaries == True:\n",
    "            xboundaries = True\n",
    "        else:\n",
    "            xboundaries = False\n",
    "        if keep_yboundaries == True or keep_boundaries == True:\n",
    "            yboundaries = True\n",
    "        else:\n",
    "            yboundaries = False\n",
    "            \n",
    "        datapath = os.path.join(casepath, \"BOUT.dmp.*.nc\")\n",
    "        inputfilepath = os.path.join(casepath, \"BOUT.inp\")\n",
    "\n",
    "        # Load both a case with and without guards\n",
    "        if double_load is True:\n",
    "            \n",
    "            ds = xbout.load.open_boutdataset(\n",
    "                datapath = datapath, \n",
    "                inputfilepath = inputfilepath, \n",
    "                gridfilepath = gridfilepath,\n",
    "                info = False,\n",
    "                cache = False,\n",
    "                geometry = \"toroidal\",\n",
    "                keep_xboundaries=True,\n",
    "                keep_yboundaries=True,\n",
    "                )\n",
    "            \n",
    "            ds_ng = xbout.load.open_boutdataset(\n",
    "                datapath = datapath, \n",
    "                inputfilepath = inputfilepath, \n",
    "                gridfilepath = gridfilepath,\n",
    "                info = False,\n",
    "                cache = False,\n",
    "                geometry = \"toroidal\",\n",
    "                keep_xboundaries=False,\n",
    "                keep_yboundaries=False,\n",
    "                )\n",
    "            \n",
    "            if squeeze:\n",
    "                ds = ds.squeeze(drop = True)\n",
    "                ds_ng = ds_ng.squeeze(drop = True)\n",
    "                \n",
    "            return Case(ds, casepath, unnormalise_geom), Case(ds_ng, casepath, unnormalise_geom)\n",
    "                \n",
    "        else:\n",
    "            \n",
    "            # Load with guard settings as per inputs\n",
    "            ds = xbout.load.open_boutdataset(\n",
    "                datapath = datapath, \n",
    "                inputfilepath = inputfilepath, \n",
    "                gridfilepath = gridfilepath,\n",
    "                info = False,\n",
    "                geometry = \"toroidal\",\n",
    "                keep_xboundaries=xboundaries,\n",
    "                keep_yboundaries=yboundaries,\n",
    "                )\n",
    "            \n",
    "            if squeeze:\n",
    "                ds = ds.squeeze(drop = False)\n",
    "                \n",
    "            return Case(ds, casepath, \n",
    "                        unnormalise_geom,\n",
    "                        unnormalise = unnormalise)"
   ]
  },
  {
   "cell_type": "code",
   "execution_count": 2,
   "metadata": {},
   "outputs": [],
   "source": [
    "db = CaseDB(\n",
    "    # case_dir = r\"/ssd_scratch/hcases\",\n",
    "    # grid_dir = r\"/ssd_scratch/hcases\"\n",
    "    )\n",
    "\n",
    "# toload = [\n",
    "#     dict(name=\"base\", id=\"x5a2-better_base\", grid=\"g3b1-lores_newhypno.nc\", unnormalise_geom = True),\n",
    "#     dict(name=\"reference\", id=\"d4d-fit_nsep3\", grid=\"g3b1-lores_newhypno.nc\", unnormalise_geom = True),\n",
    "\n",
    "# ]\n",
    "\n",
    "\n",
    "# for case in toload:\n",
    "#     casestore[case[\"name\"]] = Load.case_2D(db.casepaths[case[\"id\"]], gridfilepath = db.gridpaths[case[\"grid\"]],\n",
    "#                                             double_load = False, keep_xboundaries = True, keep_yboundaries = True,\n",
    "#                                             unnormalise_geom = case[\"unnormalise_geom\"])\n"
   ]
  },
  {
   "cell_type": "code",
   "execution_count": 8,
   "metadata": {},
   "outputs": [
    {
     "data": {
      "text/plain": [
       "WindowsPath('c:/Users/mikek/OneDrive/Project/collab/tech/cases/scratchtest/x5a2b-better_base_edge_recycling')"
      ]
     },
     "execution_count": 8,
     "metadata": {},
     "output_type": "execute_result"
    }
   ],
   "source": [
    "db.casepaths['x5a2b-better_base_edge_recycling']"
   ]
  },
  {
   "cell_type": "code",
   "execution_count": 10,
   "metadata": {},
   "outputs": [
    {
     "data": {
      "text/plain": [
       "WindowsPath('c:/Users/mikek/OneDrive/Project/collab/tech/cases/scratchtest/x5a2b-better_base_edge_recycling')"
      ]
     },
     "execution_count": 10,
     "metadata": {},
     "output_type": "execute_result"
    }
   ],
   "source": [
    "db.gridpaths[]"
   ]
  },
  {
   "cell_type": "code",
   "execution_count": 19,
   "metadata": {},
   "outputs": [
    {
     "name": "stdout",
     "output_type": "stream",
     "text": [
      "- Using squashoutput for reading\n",
      "- Squash file found. squash date 2023-08-09 14:48:59.162416, dmp file date 2023-07-31 12:23:23\n"
     ]
    }
   ],
   "source": [
    "from boutdata.squashoutput import squashoutput\n",
    "from datetime import datetime as dt\n",
    "\n",
    "use_squash = True\n",
    "recreate_squash = False\n",
    "verbose = True\n",
    "id = \"x5a2-better_base\"\n",
    "grid = \"g3b1-lores_newhypno.nc\"\n",
    "casepath = db.casepaths[id]\n",
    "gridfilepath = db.gridpaths[grid]\n",
    "datapath = os.path.join(casepath, \"BOUT.dmp.*.nc\")\n",
    "inputfilepath = os.path.join(casepath, \"BOUT.inp\")\n",
    "squashfilepath = os.path.join(casepath, \"BOUT.squash.nc\") # Squashoutput hardcoded to this filename\n",
    "\n",
    "recreate = True if recreate_squash is True else False   # Recreate squashoutput?\n",
    "\n",
    "if use_squash is True:\n",
    "    if verbose is True: print(f\"- Using squashoutput for reading\")\n",
    "    \n",
    "    if \"BOUT.squash.nc\" in os.listdir(casepath):  # Squash file found?\n",
    "        \n",
    "        squash_date = os.path.getmtime(squashfilepath)\n",
    "        dmp_date = os.path.getmtime(os.path.join(casepath, \"BOUT.dmp.0.nc\"))\n",
    "        \n",
    "        if verbose is True: print(f\"- Squash file found. squash date {dt.fromtimestamp(squash_date)}, dmp file date {dt.fromtimestamp(dmp_date)}\") \n",
    "\n",
    "        \n",
    "        \n",
    "        if dmp_date > squash_date:   #f\"- Squashoutput i Recreate if squashoutput is too old\n",
    "            recreate = True\n",
    "            if verbose is True: print(f\"old: squash date {dt.fromtimestamp(squash_date)}, dmp file date {dt.fromtimestamp(dmp_date)}\") \n",
    "            \n",
    "    else:\n",
    "        if verbose is True: print(f\"- Squashoutput file not found, creating\")\n",
    "        recreate = True\n",
    "        \n",
    "    \n",
    "    if recreate is True:\n",
    "        squashoutput(\n",
    "            datadir = casepath,\n",
    "            outputname = squashfilepath,\n",
    "            xguards = True,   # Take all xguards\n",
    "            yguards = \"include_upper\",  # Take all yguards (yes, confusing name)\n",
    "            parallel = False,   # Seems broken atm\n",
    "            quiet = verbose\n",
    "        )\n"
   ]
  },
  {
   "cell_type": "code",
   "execution_count": 20,
   "metadata": {},
   "outputs": [
    {
     "data": {
      "text/plain": [
       "True"
      ]
     },
     "execution_count": 20,
     "metadata": {},
     "output_type": "execute_result"
    }
   ],
   "source": [
    "squash_date > dmp_date"
   ]
  },
  {
   "cell_type": "code",
   "execution_count": 16,
   "metadata": {},
   "outputs": [
    {
     "data": {
      "text/plain": [
       "'09 August, 2023'"
      ]
     },
     "execution_count": 16,
     "metadata": {},
     "output_type": "execute_result"
    }
   ],
   "source": [
    "dt.strftime(dt.fromtimestamp(squash_date), \"%d %B, %Y\")"
   ]
  },
  {
   "cell_type": "code",
   "execution_count": 19,
   "metadata": {},
   "outputs": [
    {
     "name": "stdout",
     "output_type": "stream",
     "text": [
      "Collecting datetime\n",
      "  Obtaining dependency information for datetime from https://files.pythonhosted.org/packages/95/88/3b9d4042b396221a132180b392ab2a174031a6fb579f7927f3909fc183a7/DateTime-5.2-py3-none-any.whl.metadata\n",
      "  Downloading DateTime-5.2-py3-none-any.whl.metadata (33 kB)\n",
      "Collecting zope.interface (from datetime)\n",
      "  Downloading zope.interface-6.0-cp310-cp310-win_amd64.whl (204 kB)\n",
      "     ---------------------------------------- 0.0/204.1 kB ? eta -:--:--\n",
      "     ----------------- --------------------- 92.2/204.1 kB 2.6 MB/s eta 0:00:01\n",
      "     -------------------------------------- 204.1/204.1 kB 3.1 MB/s eta 0:00:00\n",
      "Requirement already satisfied: pytz in c:\\users\\mikek\\onedrive\\project\\pyenvs\\fusion-a-310\\lib\\site-packages (from datetime) (2023.3)\n",
      "Requirement already satisfied: setuptools in c:\\users\\mikek\\onedrive\\project\\pyenvs\\fusion-a-310\\lib\\site-packages (from zope.interface->datetime) (65.5.0)\n",
      "Downloading DateTime-5.2-py3-none-any.whl (52 kB)\n",
      "   ---------------------------------------- 0.0/52.2 kB ? eta -:--:--\n",
      "   ---------------------------------------- 52.2/52.2 kB 2.6 MB/s eta 0:00:00\n",
      "Installing collected packages: zope.interface, datetime\n",
      "Successfully installed datetime-5.2 zope.interface-6.0\n",
      "Note: you may need to restart the kernel to use updated packages.\n"
     ]
    }
   ],
   "source": [
    "%pip install datetime"
   ]
  },
  {
   "cell_type": "markdown",
   "metadata": {},
   "source": [
    "# New particle balance"
   ]
  },
  {
   "cell_type": "code",
   "execution_count": 101,
   "metadata": {},
   "outputs": [
    {
     "name": "stdout",
     "output_type": "stream",
     "text": [
      "Warning: sheath_boundary_simple not found in settings. Assuming it is enabled\n",
      "Warning: sheath_boundary_simple not found in settings. Assuming it is enabled\n",
      "Warning: sheath_boundary_simple not found in settings. Assuming it is enabled\n",
      "Warning: sheath_boundary_simple not found in settings. Assuming it is enabled\n",
      "Calculating target recycling:\n",
      "inner_lower\n",
      "outer_lower\n",
      "inner_upper\n",
      "outer_upper\n"
     ]
    }
   ],
   "source": [
    "for name in casestore:\n",
    "    casestore[name].ds = calculate_radial_fluxes(casestore[name].ds, force_neumann = False)\n",
    "    casestore[name].ds = calculate_target_fluxes(casestore[name].ds)\n",
    "    # casestore[name].ds = calculate_heat_balance(casestore[name].ds)\n",
    "    # casestore[name].ds = calculate_particle_balance(casestore[name].ds)"
   ]
  },
  {
   "cell_type": "code",
   "execution_count": 36,
   "metadata": {},
   "outputs": [
    {
     "data": {
      "text/plain": [
       "('t', 'x')"
      ]
     },
     "execution_count": 36,
     "metadata": {},
     "output_type": "execute_result"
    }
   ],
   "source": [
    "casestore[\"base\"].ds[\"pf_recycle_inner_lower_target_d\"].dims"
   ]
  },
  {
   "cell_type": "code",
   "execution_count": null,
   "metadata": {},
   "outputs": [],
   "source": [
    "casestore[\"base\"].ds.data_vars"
   ]
  },
  {
   "cell_type": "code",
   "execution_count": 109,
   "metadata": {},
   "outputs": [],
   "source": [
    "ds = casestore[\"base\"].ds\n",
    "\n",
    "m = ds.metadata\n",
    "    \n",
    "core = ds.hermesm.select_region(\"core_edge\")\n",
    "sol = ds.hermesm.select_region(\"sol_edge\")\n",
    "pfr = ds.hermesm.select_region(\"pfr_edge\")\n",
    "domain = ds.hermesm.select_region(\"all_noguards\").squeeze()\n",
    "domain_volume = domain[\"dv\"].values.sum()\n",
    "vars = ds.data_vars\n",
    "\n",
    "df = pd.DataFrame()\n",
    "pf = dict()\n",
    "\n",
    "# Radial and edge fluxes\n",
    "# The summing is clunky but there's apparently no other way in Xarray!\n",
    "net = dict()\n",
    "\n",
    "for place in [\"src\", \"core\", \"sol\", \"pfr\"]:\n",
    "    net[f\"pf_int_{place}_net\"] = 0\n",
    "\n",
    "### Calculate all integrals of edge fluxes and sources\n",
    "for species in m[\"ion_species\"] + m[\"neutral_species\"]:\n",
    "    ds[f\"pf_int_src_{species}\"] = (domain[f\"S{species}_src\"] * domain[\"dv\"]).sum([\"x\", \"theta\"]).squeeze()\n",
    "    ds[f\"pf_int_core_{species}\"] = core[f\"pf_perp_diff_L_{species}\"].sum(\"theta\").squeeze()\n",
    "    ds[f\"pf_int_sol_{species}\"] = sol[f\"pf_perp_diff_R_{species}\"].sum(\"theta\").squeeze() * -1 # Positive is going right, which is flowing OUT\n",
    "    ds[f\"pf_int_pfr_{species}\"] = pfr[f\"pf_perp_diff_L_{species}\"].sum(\"theta\").squeeze()\n",
    "\n",
    "    # Add to net counter for each location\n",
    "    for place in [\"src\", \"core\", \"sol\", \"pfr\"]:\n",
    "        net[f\"pf_int_{place}_net\"] += ds[f\"pf_int_{place}_{species}\"]\n",
    "    \n",
    "### Calculate all integrals of recycling sources\n",
    "for species in m[\"recycle_pair\"].values():\n",
    "    if f\"S{species}_sol_recycle\" in vars:\n",
    "        ds[f\"pf_int_recycle_sol_{species}\"] = (domain[f\"S{species}_sol_recycle\"] * domain[\"dv\"]).sum([\"x\", \"theta\"]).squeeze() \n",
    "    if f\"S{species}_pfr_recycle\" in vars:\n",
    "        ds[f\"pf_int_recycle_pfr_{species}\"] = (domain[f\"S{species}_pfr_recycle\"] * domain[\"dv\"]).sum([\"x\", \"theta\"]).squeeze() \n",
    "    if f\"S{species}_target_recycle\" in vars:\n",
    "        ds[f\"pf_int_recycle_target_{species}\"] = (domain[f\"S{species}_target_recycle\"] * domain[\"dv\"]).sum([\"x\", \"theta\"]).squeeze() \n",
    "        \n",
    "    # Add to net counters for each location apart from sources since there are no user set recycling sources\n",
    "    # Also add to the targets net counter (recycling sources per target basis not done yet)\n",
    "    for place in [\"sol\", \"pfr\", \"targets\"]:   # No recycling in core, but yes in targets\n",
    "        if f\"pf_int_recycle_{place}_{species}\" in vars:\n",
    "            net[f\"pf_int_{place}_net\"] += ds[f\"pf_int_recycle_{place}_{species}\"]\n",
    "    \n",
    "### Calculate integrals of target fluxes\n",
    "# Initialise per-target net counter\n",
    "for target_name in m[\"targets\"]:\n",
    "    net[target_name] = 0\n",
    "net[\"targets\"] = 0\n",
    "\n",
    "\n",
    "\n",
    "        \n",
    "## Capture ion species (flux leaving model)\n",
    "for species in m[\"ion_species\"]:\n",
    "    net[f\"targets_{species}\"] = 0 # TODO: Not sure why we need a net per species?\n",
    "    \n",
    "    for target_name in m[\"targets\"]:\n",
    "        ds[f\"pf_int_{target_name}_target_{species}\"] = ds[f\"pf_{target_name}_target_{species}\"].sum(\"x\").squeeze()\n",
    "        net[target_name] += ds[f\"pf_int_{target_name}_target_{species}\"]   # Ion flux\n",
    "        net[f\"targets_{species}\"] += ds[f\"pf_int_{target_name}_target_{species}\"] # TODO: Not sure why we need a net per species?\n",
    "    \n",
    "## Capture recycled species (sources entering model)\n",
    "for species in m[\"recycle_pair\"].values():\n",
    "    net[f\"targets_{species}\"] = 0 # TODO: Not sure why we need a net per species?\n",
    "    \n",
    "    for target_name in m[\"targets\"]:\n",
    "        ds[f\"pf_int_recycle_{target_name}_target_{species}\"] = ds[f\"pf_recycle_{target_name}_target_{species}\"].sum(\"x\").squeeze()\n",
    "        net[target_name] += ds[f\"pf_int_recycle_{target_name}_target_{species}\"]   # Recycling flux\n",
    "        net[f\"targets_{species}\"] += ds[f\"pf_int_recycle_{target_name}_target_{species}\"] # TODO: Not sure why we need a net per species?\n",
    "        \n",
    "for species in m[\"ion_species\"] + list(m[\"recycle_pair\"].values()):\n",
    "    ds[f\"pf_int_targets_{species}\"] = net[f\"targets_{species}\"] # TODO: Not sure why we need a net per species?\n",
    "        \n",
    "# Get the all target net counter\n",
    "# Put the net counters into the dataset\n",
    "for target_name in m[\"targets\"]:\n",
    "    ds[f\"pf_int_{target_name}_target_net\"] = net[target_name]\n",
    "    net[\"targets\"] += net[target_name]\n",
    "    \n",
    "ds[f\"pf_int_targets_net\"] = net[\"targets\"]\n",
    "\n",
    "\n",
    "### Atomic reaction fluxes\n",
    "for ion in m[\"ion_species\"]:\n",
    "    \n",
    "    if f\"S{ion}_iz\" in domain.data_vars:\n",
    "        neutral = ion.split(\"+\")[0]\n",
    "        ds[f\"pf_int_iz_{ion}\"] = (domain[f\"S{ion}_iz\"] * domain[\"dv\"]).sum([\"x\", \"theta\"]).squeeze()\n",
    "        ds[f\"pf_int_iz_{neutral}\"] = ds[f\"pf_int_iz_{ion}\"] * -1\n",
    "    \n",
    "    if f\"S{ion}_rec\" in domain.data_vars:\n",
    "        ds[f\"pf_int_rec_{ion}\"] = (domain[f\"S{ion}_rec\"] * domain[\"dv\"]).sum([\"x\", \"theta\"]).squeeze()\n",
    "        ds[f\"pf_int_rec_{neutral}\"] = ds[f\"pf_int_rec_{ion}\"] * -1\n",
    "\n",
    "# Note: no \"net\" ionisation or recombination since they net out to zero.\n",
    "\n",
    "### Put the net sums in each location into the dataset\n",
    "for place in [\"src\", \"core\", \"sol\", \"pfr\"]:\n",
    "    ds[f\"pf_int_{place}_net\"] = net[f\"pf_int_{place}_net\"]\n",
    "    \n",
    "for target_name in m[\"targets\"]:\n",
    "    ds[f\"pf_int_{target_name}_target_net\"] = net[target_name]\n",
    "    net[\"targets\"] += net[target_name]\n",
    "    \n",
    "ds[f\"pf_int_targets_net\"] = net[\"targets\"]\n",
    "\n",
    "### Calculate the total net balance\n",
    "ds[f\"pf_int_total_net\"] = \\\n",
    "    ds[\"pf_int_src_net\"] + ds[\"pf_int_core_net\"] + ds[\"pf_int_sol_net\"] + ds[\"pf_int_pfr_net\"] \\\n",
    "        + ds[\"pf_int_targets_net\"]"
   ]
  },
  {
   "cell_type": "code",
   "execution_count": null,
   "metadata": {},
   "outputs": [],
   "source": [
    "ds.data_vars"
   ]
  },
  {
   "cell_type": "code",
   "execution_count": 110,
   "metadata": {},
   "outputs": [
    {
     "name": "stdout",
     "output_type": "stream",
     "text": [
      "Domain volume: 1.607e+00 [m3]\n",
      "Particle imbalance: -4.566e+19 [s-1]\n",
      "Particle imbalance as frac of core + source: -14.84%\n",
      "---------------------------------------\n",
      "Total fluxes in [s-1]:\n"
     ]
    },
    {
     "data": {
      "text/html": [
       "<style type=\"text/css\">\n",
       "#T_8d2d5_row0_col0, #T_8d2d5_row0_col1, #T_8d2d5_row0_col2, #T_8d2d5_row1_col1, #T_8d2d5_row2_col0, #T_8d2d5_row2_col1, #T_8d2d5_row2_col2, #T_8d2d5_row3_col0, #T_8d2d5_row3_col1, #T_8d2d5_row3_col2, #T_8d2d5_row4_col0, #T_8d2d5_row4_col1, #T_8d2d5_row4_col2, #T_8d2d5_row5_col0, #T_8d2d5_row5_col1, #T_8d2d5_row5_col2, #T_8d2d5_row6_col1, #T_8d2d5_row7_col0, #T_8d2d5_row8_col2, #T_8d2d5_row9_col2 {\n",
       "  color: lightgrey;\n",
       "}\n",
       "#T_8d2d5_row1_col0, #T_8d2d5_row1_col2, #T_8d2d5_row6_col0, #T_8d2d5_row6_col2, #T_8d2d5_row7_col1, #T_8d2d5_row7_col2, #T_8d2d5_row8_col0, #T_8d2d5_row8_col1, #T_8d2d5_row9_col0, #T_8d2d5_row9_col1 {\n",
       "  color: black;\n",
       "}\n",
       "</style>\n",
       "<table id=\"T_8d2d5\">\n",
       "  <thead>\n",
       "    <tr>\n",
       "      <th class=\"blank level0\" >&nbsp;</th>\n",
       "      <th id=\"T_8d2d5_level0_col0\" class=\"col_heading level0 col0\" >d+</th>\n",
       "      <th id=\"T_8d2d5_level0_col1\" class=\"col_heading level0 col1\" >d</th>\n",
       "      <th id=\"T_8d2d5_level0_col2\" class=\"col_heading level0 col2\" >total</th>\n",
       "    </tr>\n",
       "  </thead>\n",
       "  <tbody>\n",
       "    <tr>\n",
       "      <th id=\"T_8d2d5_level0_row0\" class=\"row_heading level0 row0\" >source</th>\n",
       "      <td id=\"T_8d2d5_row0_col0\" class=\"data row0 col0\" >0.00e+00</td>\n",
       "      <td id=\"T_8d2d5_row0_col1\" class=\"data row0 col1\" >0.00e+00</td>\n",
       "      <td id=\"T_8d2d5_row0_col2\" class=\"data row0 col2\" >0.00e+00</td>\n",
       "    </tr>\n",
       "    <tr>\n",
       "      <th id=\"T_8d2d5_level0_row1\" class=\"row_heading level0 row1\" >core</th>\n",
       "      <td id=\"T_8d2d5_row1_col0\" class=\"data row1 col0\" >3.08e+20</td>\n",
       "      <td id=\"T_8d2d5_row1_col1\" class=\"data row1 col1\" >0.00e+00</td>\n",
       "      <td id=\"T_8d2d5_row1_col2\" class=\"data row1 col2\" >3.08e+20</td>\n",
       "    </tr>\n",
       "    <tr>\n",
       "      <th id=\"T_8d2d5_level0_row2\" class=\"row_heading level0 row2\" >sol</th>\n",
       "      <td id=\"T_8d2d5_row2_col0\" class=\"data row2 col0\" >-0.00e+00</td>\n",
       "      <td id=\"T_8d2d5_row2_col1\" class=\"data row2 col1\" >-0.00e+00</td>\n",
       "      <td id=\"T_8d2d5_row2_col2\" class=\"data row2 col2\" >0.00e+00</td>\n",
       "    </tr>\n",
       "    <tr>\n",
       "      <th id=\"T_8d2d5_level0_row3\" class=\"row_heading level0 row3\" >sol recycle</th>\n",
       "      <td id=\"T_8d2d5_row3_col0\" class=\"data row3 col0\" >nan</td>\n",
       "      <td id=\"T_8d2d5_row3_col1\" class=\"data row3 col1\" >nan</td>\n",
       "      <td id=\"T_8d2d5_row3_col2\" class=\"data row3 col2\" >0.00e+00</td>\n",
       "    </tr>\n",
       "    <tr>\n",
       "      <th id=\"T_8d2d5_level0_row4\" class=\"row_heading level0 row4\" >pfr</th>\n",
       "      <td id=\"T_8d2d5_row4_col0\" class=\"data row4 col0\" >0.00e+00</td>\n",
       "      <td id=\"T_8d2d5_row4_col1\" class=\"data row4 col1\" >0.00e+00</td>\n",
       "      <td id=\"T_8d2d5_row4_col2\" class=\"data row4 col2\" >0.00e+00</td>\n",
       "    </tr>\n",
       "    <tr>\n",
       "      <th id=\"T_8d2d5_level0_row5\" class=\"row_heading level0 row5\" >pfr recycle</th>\n",
       "      <td id=\"T_8d2d5_row5_col0\" class=\"data row5 col0\" >nan</td>\n",
       "      <td id=\"T_8d2d5_row5_col1\" class=\"data row5 col1\" >nan</td>\n",
       "      <td id=\"T_8d2d5_row5_col2\" class=\"data row5 col2\" >0.00e+00</td>\n",
       "    </tr>\n",
       "    <tr>\n",
       "      <th id=\"T_8d2d5_level0_row6\" class=\"row_heading level0 row6\" >targets</th>\n",
       "      <td id=\"T_8d2d5_row6_col0\" class=\"data row6 col0\" >-6.97e+21</td>\n",
       "      <td id=\"T_8d2d5_row6_col1\" class=\"data row6 col1\" >nan</td>\n",
       "      <td id=\"T_8d2d5_row6_col2\" class=\"data row6 col2\" >-6.97e+21</td>\n",
       "    </tr>\n",
       "    <tr>\n",
       "      <th id=\"T_8d2d5_level0_row7\" class=\"row_heading level0 row7\" >targets recycle</th>\n",
       "      <td id=\"T_8d2d5_row7_col0\" class=\"data row7 col0\" >nan</td>\n",
       "      <td id=\"T_8d2d5_row7_col1\" class=\"data row7 col1\" >6.62e+21</td>\n",
       "      <td id=\"T_8d2d5_row7_col2\" class=\"data row7 col2\" >6.62e+21</td>\n",
       "    </tr>\n",
       "    <tr>\n",
       "      <th id=\"T_8d2d5_level0_row8\" class=\"row_heading level0 row8\" >iz</th>\n",
       "      <td id=\"T_8d2d5_row8_col0\" class=\"data row8 col0\" >6.62e+21</td>\n",
       "      <td id=\"T_8d2d5_row8_col1\" class=\"data row8 col1\" >-6.62e+21</td>\n",
       "      <td id=\"T_8d2d5_row8_col2\" class=\"data row8 col2\" >0.00e+00</td>\n",
       "    </tr>\n",
       "    <tr>\n",
       "      <th id=\"T_8d2d5_level0_row9\" class=\"row_heading level0 row9\" >rec</th>\n",
       "      <td id=\"T_8d2d5_row9_col0\" class=\"data row9 col0\" >-2.03e+18</td>\n",
       "      <td id=\"T_8d2d5_row9_col1\" class=\"data row9 col1\" >2.03e+18</td>\n",
       "      <td id=\"T_8d2d5_row9_col2\" class=\"data row9 col2\" >0.00e+00</td>\n",
       "    </tr>\n",
       "  </tbody>\n",
       "</table>\n"
      ],
      "text/plain": [
       "<pandas.io.formats.style.Styler at 0x1caf7a67a00>"
      ]
     },
     "metadata": {},
     "output_type": "display_data"
    }
   ],
   "source": [
    "df = pd.DataFrame()\n",
    "df.index = [\"source\", \"core\", \"sol\", \"sol recycle\", \"pfr\", \"pfr recycle\", \"targets\", \"targets recycle\", \"iz\", \"rec\"]\n",
    "m = ds.metadata\n",
    "\n",
    "if f\"pf_int_{m['targets'][0]}\" in ds.data_vars:\n",
    "    merge_targets = False\n",
    "else:\n",
    "    merge_targets = True\n",
    "\n",
    "last = ds.isel(t=-1)\n",
    "for species in m[\"ion_species\"] + m[\"neutral_species\"]:\n",
    "    df.loc[\"source\", species] = last[f\"pf_int_src_{species}\"]\n",
    "    df.loc[\"core\", species] = last[f\"pf_int_core_{species}\"]\n",
    "    df.loc[\"sol\", species] = last[f\"pf_int_sol_{species}\"]\n",
    "    df.loc[\"pfr\", species] = last[f\"pf_int_pfr_{species}\"]\n",
    "    \n",
    "for species in m[\"ion_species\"]:\n",
    "    if merge_targets is True:\n",
    "        df.loc[\"targets\", species] = last[f\"pf_int_targets_{species}\"]\n",
    "    else:\n",
    "        for target in m[\"targets\"]:\n",
    "            df.loc[target, species] = last[f\"pf_int_{target}_{species}\"]\n",
    "    \n",
    "for species in m[\"ion_species\"] + m[\"neutral_species\"]:\n",
    "    if f\"pf_int_iz_{species}\" in last.keys():\n",
    "        df.loc[\"iz\", species] = last[f\"pf_int_iz_{species}\"]\n",
    "    if f\"pf_int_rec_{species}\" in last.keys():\n",
    "        df.loc[\"rec\", species] = last[f\"pf_int_rec_{species}\"]\n",
    "        \n",
    "for species in m[\"recycle_pair\"].values():\n",
    "    if f\"pf_int_recycle_sol_{species}\" in vars:\n",
    "        df.loc[\"sol recycle\", species] = last[f\"pf_int_recycle_sol_{species}\"]\n",
    "    if f\"pf_int_recycle_pfr_{species}\" in vars:\n",
    "        df.loc[\"pfr recycle\", species] = last[f\"pf_int_recycle_pfr_{species}\"]\n",
    "    if f\"pf_int_recycle_target_{species}\" in vars:\n",
    "        df.loc[\"targets recycle\", species] = last[f\"pf_int_recycle_target_{species}\"]\n",
    "    \n",
    "df[\"total\"] = df.sum(axis=1)\n",
    "imbalance = df[\"total\"].sum()\n",
    "imbalance_frac = imbalance / (df[\"total\"][\"source\"] + df[\"total\"][\"core\"])\n",
    "\n",
    "# print(f\"Recycling fraction: {frec:.2%}\")\n",
    "print(f\"Domain volume: {ds['dv'].sum():.3e} [m3]\")\n",
    "print(f\"Particle imbalance: {imbalance:,.3e} [s-1]\")\n",
    "print(f\"Particle imbalance as frac of core + source: {imbalance_frac:.2%}\")\n",
    "print(\"---------------------------------------\")\n",
    "print(f\"Total fluxes in [s-1]:\")\n",
    "\n",
    "def styler(s):\n",
    "        if abs(s) < 0.01 or pd.isna(s):\n",
    "            c =  \"color: lightgrey\"\n",
    "        else:\n",
    "            c =  \"color: black\"\n",
    "\n",
    "        return c\n",
    "        \n",
    "ts = df.copy().style.format(\"{:.2e}\")\n",
    "ts = ts.applymap(styler)\n",
    "display(ts)"
   ]
  },
  {
   "cell_type": "code",
   "execution_count": null,
   "metadata": {},
   "outputs": [],
   "source": [
    "ds.data_vars"
   ]
  },
  {
   "cell_type": "code",
   "execution_count": 108,
   "metadata": {},
   "outputs": [
    {
     "data": {
      "image/png": "[encoded data removed]",
      "text/plain": [
       "<Figure size 600x450 with 1 Axes>"
      ]
     },
     "metadata": {},
     "output_type": "display_data"
    }
   ],
   "source": [
    "plot_perp_particle_fluxes(ds.isel(t=-1))"
   ]
  },
  {
   "cell_type": "code",
   "execution_count": 115,
   "metadata": {},
   "outputs": [
    {
     "data": {
      "image/png": "[encoded data removed]",
      "text/plain": [
       "<Figure size 800x500 with 2 Axes>"
      ]
     },
     "metadata": {},
     "output_type": "display_data"
    }
   ],
   "source": [
    "core = ds.hermesm.select_custom_core_ring(8)\n",
    "plot_selection(ds, core)"
   ]
  },
  {
   "cell_type": "code",
   "execution_count": 116,
   "metadata": {},
   "outputs": [
    {
     "data": {
      "text/plain": [
       "array([-1.72072594e+21])"
      ]
     },
     "execution_count": 116,
     "metadata": {},
     "output_type": "execute_result"
    }
   ],
   "source": [
    "\n",
    "# core = ds.hermesm.select_custom_core_ring(0)\n",
    "core[\"ParticleFlow_d+_xlow\"].sum(\"theta\").isel(t=-1).values\n"
   ]
  },
  {
   "cell_type": "code",
   "execution_count": 118,
   "metadata": {},
   "outputs": [
    {
     "name": "stdout",
     "output_type": "stream",
     "text": [
      "[1.72072594e+21]\n",
      "[-1.4129915e+21]\n",
      "[3.07734443e+20]\n"
     ]
    }
   ],
   "source": [
    "ions = core[f\"pf_perp_diff_L_d+\"].sum(\"theta\").isel(t=-1).values\n",
    "neutrals = core[f\"pf_perp_diff_L_d\"].sum(\"theta\").isel(t=-1).values\n",
    "print(ions)\n",
    "print(neutrals)\n",
    "print(ions+neutrals)"
   ]
  },
  {
   "cell_type": "code",
   "execution_count": 80,
   "metadata": {},
   "outputs": [
    {
     "data": {
      "text/plain": [
       "-3.499999999999995e+20"
      ]
     },
     "execution_count": 80,
     "metadata": {},
     "output_type": "execute_result"
    }
   ],
   "source": [
    "out = -6.97e21+6.62e21\n",
    "\n",
    "out"
   ]
  },
  {
   "cell_type": "code",
   "execution_count": 98,
   "metadata": {},
   "outputs": [
    {
     "data": {
      "text/plain": [
       "Data variables:\n",
       "    Bxy                                  (x, theta) float64 dask.array<chunksize=(20, 7), meta=np.ndarray>\n",
       "    Dnnd                                 (t, x, theta) float64 dask.array<chunksize=(530, 20, 7), meta=np.ndarray>\n",
       "    Ed+_iz                               (t, x, theta) float64 dask.array<chunksize=(530, 20, 7), meta=np.ndarray>\n",
       "    Ed+_rec                              (t, x, theta) float64 dask.array<chunksize=(530, 20, 7), meta=np.ndarray>\n",
       "    Ed_target_recycle                    (t, x, theta) float64 dask.array<chunksize=(530, 20, 7), meta=np.ndarray>\n",
       "    Edd+_cx                              (t, x, theta) float64 dask.array<chunksize=(530, 20, 7), meta=np.ndarray>\n",
       "    EnergyFlow_d+_xlow                   (t, x, theta) float64 dask.array<chunksize=(530, 20, 7), meta=np.ndarray>\n",
       "    EnergyFlow_d+_ylow                   (t, x, theta) float64 dask.array<chunksize=(530, 20, 7), meta=np.ndarray>\n",
       "    EnergyFlow_e_xlow                    (t, x, theta) float64 dask.array<chunksize=(530, 20, 7), meta=np.ndarray>\n",
       "    EnergyFlow_e_ylow                    (t, x, theta) float64 dask.array<chunksize=(530, 20, 7), meta=np.ndarray>\n",
       "    Fd+_iz                               (t, x, theta) float64 dask.array<chunksize=(530, 20, 7), meta=np.ndarray>\n",
       "    Fd+_rec                              (t, x, theta) float64 dask.array<chunksize=(530, 20, 7), meta=np.ndarray>\n",
       "    Fdd+_cx                              (t, x, theta) float64 dask.array<chunksize=(530, 20, 7), meta=np.ndarray>\n",
       "    G1                                   (x, theta) float64 dask.array<chunksize=(20, 7), meta=np.ndarray>\n",
       "    G2                                   (x, theta) float64 dask.array<chunksize=(20, 7), meta=np.ndarray>\n",
       "    G3                                   (x, theta) float64 dask.array<chunksize=(20, 7), meta=np.ndarray>\n",
       "    J                                    (x, theta) float64 dask.array<chunksize=(20, 7), meta=np.ndarray>\n",
       "    MomentumFlow_d+_xlow                 (t, x, theta) float64 dask.array<chunksize=(530, 20, 7), meta=np.ndarray>\n",
       "    NVd                                  (t, x, theta) float64 dask.array<chunksize=(530, 20, 7), meta=np.ndarray>\n",
       "    NVd+                                 (t, x, theta) float64 dask.array<chunksize=(530, 20, 7), meta=np.ndarray>\n",
       "    Nd                                   (t, x, theta) float64 dask.array<chunksize=(530, 20, 7), meta=np.ndarray>\n",
       "    Nd+                                  (t, x, theta) float64 dask.array<chunksize=(530, 20, 7), meta=np.ndarray>\n",
       "    Ne                                   (t, x, theta) float64 dask.array<chunksize=(530, 20, 7), meta=np.ndarray>\n",
       "    ParticleFlow_d+_xlow                 (t, x, theta) float64 dask.array<chunksize=(530, 20, 7), meta=np.ndarray>\n",
       "    ParticleFlow_d+_ylow                 (t, x, theta) float64 dask.array<chunksize=(530, 20, 7), meta=np.ndarray>\n",
       "    Pd                                   (t, x, theta) float64 dask.array<chunksize=(530, 20, 7), meta=np.ndarray>\n",
       "    Pd+                                  (t, x, theta) float64 dask.array<chunksize=(530, 20, 7), meta=np.ndarray>\n",
       "    Pd+_src                              (t, x, theta) float64 dask.array<chunksize=(530, 20, 7), meta=np.ndarray>\n",
       "    Pd_src                               (t, x, theta) float64 dask.array<chunksize=(530, 20, 7), meta=np.ndarray>\n",
       "    Pe                                   (t, x, theta) float64 dask.array<chunksize=(530, 20, 7), meta=np.ndarray>\n",
       "    Pe_src                               (t, x, theta) float64 dask.array<chunksize=(530, 20, 7), meta=np.ndarray>\n",
       "    Rd+_ex                               (t, x, theta) float64 dask.array<chunksize=(530, 20, 7), meta=np.ndarray>\n",
       "    Rd+_rec                              (t, x, theta) float64 dask.array<chunksize=(530, 20, 7), meta=np.ndarray>\n",
       "    SNVd                                 (t, x, theta) float64 dask.array<chunksize=(530, 20, 7), meta=np.ndarray>\n",
       "    SNVd+                                (t, x, theta) float64 dask.array<chunksize=(530, 20, 7), meta=np.ndarray>\n",
       "    SNd                                  (t, x, theta) float64 dask.array<chunksize=(530, 20, 7), meta=np.ndarray>\n",
       "    SNd+                                 (t, x, theta) float64 dask.array<chunksize=(530, 20, 7), meta=np.ndarray>\n",
       "    SPd                                  (t, x, theta) float64 dask.array<chunksize=(530, 20, 7), meta=np.ndarray>\n",
       "    SPd+                                 (t, x, theta) float64 dask.array<chunksize=(530, 20, 7), meta=np.ndarray>\n",
       "    SPe                                  (t, x, theta) float64 dask.array<chunksize=(530, 20, 7), meta=np.ndarray>\n",
       "    Sd+_iz                               (t, x, theta) float64 dask.array<chunksize=(530, 20, 7), meta=np.ndarray>\n",
       "    Sd+_rec                              (t, x, theta) float64 dask.array<chunksize=(530, 20, 7), meta=np.ndarray>\n",
       "    Sd+_src                              (t, x, theta) float64 dask.array<chunksize=(530, 20, 7), meta=np.ndarray>\n",
       "    Sd_src                               (t, x, theta) float64 dask.array<chunksize=(530, 20, 7), meta=np.ndarray>\n",
       "    Sd_target_recycle                    (t, x, theta) float64 dask.array<chunksize=(530, 20, 7), meta=np.ndarray>\n",
       "    Td                                   (t, x, theta) float64 dask.array<chunksize=(530, 20, 7), meta=np.ndarray>\n",
       "    Td+                                  (t, x, theta) float64 dask.array<chunksize=(530, 20, 7), meta=np.ndarray>\n",
       "    Te                                   (t, x, theta) float64 dask.array<chunksize=(530, 20, 7), meta=np.ndarray>\n",
       "    Vd+                                  (t, x, theta) float64 dask.array<chunksize=(530, 20, 7), meta=np.ndarray>\n",
       "    Ve                                   (t, x, theta) float64 dask.array<chunksize=(530, 20, 7), meta=np.ndarray>\n",
       "    anomalous_Chi_d+                     (t, x, theta) float64 dask.array<chunksize=(530, 20, 7), meta=np.ndarray>\n",
       "    anomalous_Chi_e                      (t, x, theta) float64 dask.array<chunksize=(530, 20, 7), meta=np.ndarray>\n",
       "    anomalous_D_d+                       (t, x, theta) float64 dask.array<chunksize=(530, 20, 7), meta=np.ndarray>\n",
       "    anomalous_D_e                        (t, x, theta) float64 dask.array<chunksize=(530, 20, 7), meta=np.ndarray>\n",
       "    anomalous_nu_d+                      (t, x, theta) float64 dask.array<chunksize=(530, 20, 7), meta=np.ndarray>\n",
       "    anomalous_nu_e                       (t, x, theta) float64 dask.array<chunksize=(530, 20, 7), meta=np.ndarray>\n",
       "    cvode_last_order                     (t) int32 dask.array<chunksize=(530,), meta=np.ndarray>\n",
       "    cvode_last_step                      (t) float64 dask.array<chunksize=(530,), meta=np.ndarray>\n",
       "    cvode_nfevals                        (t) int32 dask.array<chunksize=(530,), meta=np.ndarray>\n",
       "    cvode_nliters                        (t) int32 dask.array<chunksize=(530,), meta=np.ndarray>\n",
       "    cvode_nniters                        (t) int32 dask.array<chunksize=(530,), meta=np.ndarray>\n",
       "    cvode_nonlin_fails                   (t) int32 dask.array<chunksize=(530,), meta=np.ndarray>\n",
       "    cvode_npevals                        (t) int32 dask.array<chunksize=(530,), meta=np.ndarray>\n",
       "    cvode_nsteps                         (t) int32 dask.array<chunksize=(530,), meta=np.ndarray>\n",
       "    cvode_num_fails                      (t) int32 dask.array<chunksize=(530,), meta=np.ndarray>\n",
       "    cvode_stab_lims                      (t) int32 dask.array<chunksize=(530,), meta=np.ndarray>\n",
       "    ddt(NVd)                             (t, x, theta) float64 dask.array<chunksize=(530, 20, 7), meta=np.ndarray>\n",
       "    ddt(NVd+)                            (t, x, theta) float64 dask.array<chunksize=(530, 20, 7), meta=np.ndarray>\n",
       "    ddt(Nd)                              (t, x, theta) float64 dask.array<chunksize=(530, 20, 7), meta=np.ndarray>\n",
       "    ddt(Nd+)                             (t, x, theta) float64 dask.array<chunksize=(530, 20, 7), meta=np.ndarray>\n",
       "    ddt(Pd)                              (t, x, theta) float64 dask.array<chunksize=(530, 20, 7), meta=np.ndarray>\n",
       "    ddt(Pd+)                             (t, x, theta) float64 dask.array<chunksize=(530, 20, 7), meta=np.ndarray>\n",
       "    ddt(Pe)                              (t, x, theta) float64 dask.array<chunksize=(530, 20, 7), meta=np.ndarray>\n",
       "    g11                                  (x, theta) float64 dask.array<chunksize=(20, 7), meta=np.ndarray>\n",
       "    g12                                  (x, theta) float64 dask.array<chunksize=(20, 7), meta=np.ndarray>\n",
       "    g13                                  (x, theta) float64 dask.array<chunksize=(20, 7), meta=np.ndarray>\n",
       "    g22                                  (x, theta) float64 dask.array<chunksize=(20, 7), meta=np.ndarray>\n",
       "    g23                                  (x, theta) float64 dask.array<chunksize=(20, 7), meta=np.ndarray>\n",
       "    g33                                  (x, theta) float64 dask.array<chunksize=(20, 7), meta=np.ndarray>\n",
       "    g_11                                 (x, theta) float64 dask.array<chunksize=(20, 7), meta=np.ndarray>\n",
       "    g_12                                 (x, theta) float64 dask.array<chunksize=(20, 7), meta=np.ndarray>\n",
       "    g_13                                 (x, theta) float64 dask.array<chunksize=(20, 7), meta=np.ndarray>\n",
       "    g_22                                 (x, theta) float64 dask.array<chunksize=(20, 7), meta=np.ndarray>\n",
       "    g_23                                 (x, theta) float64 dask.array<chunksize=(20, 7), meta=np.ndarray>\n",
       "    g_33                                 (x, theta) float64 dask.array<chunksize=(20, 7), meta=np.ndarray>\n",
       "    kappa_par_d+                         (t, x, theta) float64 dask.array<chunksize=(530, 20, 7), meta=np.ndarray>\n",
       "    kappa_par_e                          (t, x, theta) float64 dask.array<chunksize=(530, 20, 7), meta=np.ndarray>\n",
       "    t_array                              (t) float64 dask.array<chunksize=(530,), meta=np.ndarray>\n",
       "    ncalls                               (t) int32 dask.array<chunksize=(530,), meta=np.ndarray>\n",
       "    ncalls_e                             (t) int32 dask.array<chunksize=(530,), meta=np.ndarray>\n",
       "    ncalls_i                             (t) int32 dask.array<chunksize=(530,), meta=np.ndarray>\n",
       "    wall_time                            (t) float64 dask.array<chunksize=(530,), meta=np.ndarray>\n",
       "    wtime                                (t) float64 dask.array<chunksize=(530,), meta=np.ndarray>\n",
       "    wtime_comms                          (t) float64 dask.array<chunksize=(530,), meta=np.ndarray>\n",
       "    wtime_invert                         (t) float64 dask.array<chunksize=(530,), meta=np.ndarray>\n",
       "    wtime_io                             (t) float64 dask.array<chunksize=(530,), meta=np.ndarray>\n",
       "    wtime_per_rhs                        (t) float64 dask.array<chunksize=(530,), meta=np.ndarray>\n",
       "    wtime_per_rhs_e                      (t) float64 dask.array<chunksize=(530,), meta=np.ndarray>\n",
       "    wtime_per_rhs_i                      (t) float64 dask.array<chunksize=(530,), meta=np.ndarray>\n",
       "    wtime_rhs                            (t) float64 dask.array<chunksize=(530,), meta=np.ndarray>\n",
       "    Bpxy                                 (x, theta) float64 0.5635 ... 0.6506\n",
       "    Brxy                                 (x, theta) float64 0.5409 ... 0.1962\n",
       "    Bzxy                                 (x, theta) float64 -0.1578 ... -0.6203\n",
       "    x_idx                                (x, theta) int32 0 0 0 0 ... 19 19 19\n",
       "    y_idx                                (x, theta) int32 0 1 2 3 ... 55 56 57\n",
       "    dv                                   (x, theta) float64 dask.array<chunksize=(20, 7), meta=np.ndarray>\n",
       "    dr                                   (x, theta) float64 dask.array<chunksize=(20, 7), meta=np.ndarray>\n",
       "    hthe                                 (x, theta) float64 dask.array<chunksize=(20, 7), meta=np.ndarray>\n",
       "    dl                                   (x, theta) float64 dask.array<chunksize=(20, 7), meta=np.ndarray>\n",
       "    pf_int_src_d+                        (t) float64 dask.array<chunksize=(530,), meta=np.ndarray>\n",
       "    hf_perp_diff_L_d+                    (t, x, theta) float64 dask.array<chunksize=(530, 20, 7), meta=np.ndarray>\n",
       "    hf_perp_diff_R_d+                    (t, x, theta) float64 dask.array<chunksize=(530, 20, 7), meta=np.ndarray>\n",
       "    hf_perp_conv_L_d+                    (t, x, theta) float64 dask.array<chunksize=(530, 20, 7), meta=np.ndarray>\n",
       "    hf_perp_conv_R_d+                    (t, x, theta) float64 dask.array<chunksize=(530, 20, 7), meta=np.ndarray>\n",
       "    hf_perp_tot_L_d+                     (t, x, theta) float64 dask.array<chunksize=(530, 20, 7), meta=np.ndarray>\n",
       "    hf_perp_tot_R_d+                     (t, x, theta) float64 dask.array<chunksize=(530, 20, 7), meta=np.ndarray>\n",
       "    hf_perp_diff_L_e                     (t, x, theta) float64 dask.array<chunksize=(530, 20, 7), meta=np.ndarray>\n",
       "    hf_perp_diff_R_e                     (t, x, theta) float64 dask.array<chunksize=(530, 20, 7), meta=np.ndarray>\n",
       "    hf_perp_conv_L_e                     (t, x, theta) float64 dask.array<chunksize=(530, 20, 7), meta=np.ndarray>\n",
       "    hf_perp_conv_R_e                     (t, x, theta) float64 dask.array<chunksize=(530, 20, 7), meta=np.ndarray>\n",
       "    hf_perp_tot_L_e                      (t, x, theta) float64 dask.array<chunksize=(530, 20, 7), meta=np.ndarray>\n",
       "    hf_perp_tot_R_e                      (t, x, theta) float64 dask.array<chunksize=(530, 20, 7), meta=np.ndarray>\n",
       "    hf_perp_conv_L_d                     (t, x, theta) float64 dask.array<chunksize=(530, 20, 7), meta=np.ndarray>\n",
       "    hf_perp_conv_R_d                     (t, x, theta) float64 dask.array<chunksize=(530, 20, 7), meta=np.ndarray>\n",
       "    hf_perp_diff_L_d                     (t, x, theta) float64 dask.array<chunksize=(530, 20, 7), meta=np.ndarray>\n",
       "    hf_perp_diff_R_d                     (t, x, theta) float64 dask.array<chunksize=(530, 20, 7), meta=np.ndarray>\n",
       "    hf_perp_tot_L_d                      (t, x, theta) float64 dask.array<chunksize=(530, 20, 7), meta=np.ndarray>\n",
       "    hf_perp_tot_R_d                      (t, x, theta) float64 dask.array<chunksize=(530, 20, 7), meta=np.ndarray>\n",
       "    pf_perp_diff_L_d+                    (t, x, theta) float64 dask.array<chunksize=(530, 20, 7), meta=np.ndarray>\n",
       "    pf_perp_diff_R_d+                    (t, x, theta) float64 dask.array<chunksize=(530, 20, 7), meta=np.ndarray>\n",
       "    pf_perp_diff_L_e                     (t, x, theta) float64 dask.array<chunksize=(530, 20, 7), meta=np.ndarray>\n",
       "    pf_perp_diff_R_e                     (t, x, theta) float64 dask.array<chunksize=(530, 20, 7), meta=np.ndarray>\n",
       "    pf_perp_diff_L_d                     (t, x, theta) float64 dask.array<chunksize=(530, 20, 7), meta=np.ndarray>\n",
       "    pf_perp_diff_R_d                     (t, x, theta) float64 dask.array<chunksize=(530, 20, 7), meta=np.ndarray>\n",
       "    hf_inner_lower_target_e              (t, x) float64 dask.array<chunksize=(530, 20), meta=np.ndarray>\n",
       "    hf_inner_lower_target_d+             (t, x) float64 dask.array<chunksize=(530, 20), meta=np.ndarray>\n",
       "    pf_inner_lower_target_d+             (t, x) float64 dask.array<chunksize=(530, 20), meta=np.ndarray>\n",
       "    hf_outer_lower_target_e              (t, x) float64 dask.array<chunksize=(530, 20), meta=np.ndarray>\n",
       "    hf_outer_lower_target_d+             (t, x) float64 dask.array<chunksize=(530, 20), meta=np.ndarray>\n",
       "    pf_outer_lower_target_d+             (t, x) float64 dask.array<chunksize=(530, 20), meta=np.ndarray>\n",
       "    hf_inner_upper_target_e              (t, x) float64 dask.array<chunksize=(530, 20), meta=np.ndarray>\n",
       "    hf_inner_upper_target_d+             (t, x) float64 dask.array<chunksize=(530, 20), meta=np.ndarray>\n",
       "    pf_inner_upper_target_d+             (t, x) float64 dask.array<chunksize=(530, 20), meta=np.ndarray>\n",
       "    hf_outer_upper_target_e              (t, x) float64 dask.array<chunksize=(530, 20), meta=np.ndarray>\n",
       "    hf_outer_upper_target_d+             (t, x) float64 dask.array<chunksize=(530, 20), meta=np.ndarray>\n",
       "    pf_outer_upper_target_d+             (t, x) float64 dask.array<chunksize=(530, 20), meta=np.ndarray>\n",
       "    pf_recycle_inner_lower_target_d      (t, x) float64 dask.array<chunksize=(530, 20), meta=np.ndarray>\n",
       "    hf_recycle_inner_lower_target_d      (t, x) float64 dask.array<chunksize=(530, 20), meta=np.ndarray>\n",
       "    pf_recycle_outer_lower_target_d      (t, x) float64 dask.array<chunksize=(530, 20), meta=np.ndarray>\n",
       "    hf_recycle_outer_lower_target_d      (t, x) float64 dask.array<chunksize=(530, 20), meta=np.ndarray>\n",
       "    pf_recycle_inner_upper_target_d      (t, x) float64 dask.array<chunksize=(530, 20), meta=np.ndarray>\n",
       "    hf_recycle_inner_upper_target_d      (t, x) float64 dask.array<chunksize=(530, 20), meta=np.ndarray>\n",
       "    pf_recycle_outer_upper_target_d      (t, x) float64 dask.array<chunksize=(530, 20), meta=np.ndarray>\n",
       "    hf_recycle_outer_upper_target_d      (t, x) float64 dask.array<chunksize=(530, 20), meta=np.ndarray>\n",
       "    pf_int_core_d+                       (t) float64 dask.array<chunksize=(530,), meta=np.ndarray>\n",
       "    pf_int_sol_d+                        (t) float64 dask.array<chunksize=(530,), meta=np.ndarray>\n",
       "    pf_int_pfr_d+                        (t) float64 dask.array<chunksize=(530,), meta=np.ndarray>\n",
       "    pf_int_src_d                         (t) float64 dask.array<chunksize=(530,), meta=np.ndarray>\n",
       "    pf_int_core_d                        (t) float64 dask.array<chunksize=(530,), meta=np.ndarray>\n",
       "    pf_int_sol_d                         (t) float64 dask.array<chunksize=(530,), meta=np.ndarray>\n",
       "    pf_int_pfr_d                         (t) float64 dask.array<chunksize=(530,), meta=np.ndarray>\n",
       "    pf_int_recycle_target_d              (t) float64 dask.array<chunksize=(530,), meta=np.ndarray>\n",
       "    pf_int_inner_lower_target_d+         (t) float64 dask.array<chunksize=(530,), meta=np.ndarray>\n",
       "    pf_int_recycle_inner_lower_target_d  (t) float64 dask.array<chunksize=(530,), meta=np.ndarray>\n",
       "    pf_int_outer_lower_target_d+         (t) float64 dask.array<chunksize=(530,), meta=np.ndarray>\n",
       "    pf_int_recycle_outer_lower_target_d  (t) float64 dask.array<chunksize=(530,), meta=np.ndarray>\n",
       "    pf_int_inner_upper_target_d+         (t) float64 dask.array<chunksize=(530,), meta=np.ndarray>\n",
       "    pf_int_recycle_inner_upper_target_d  (t) float64 dask.array<chunksize=(530,), meta=np.ndarray>\n",
       "    pf_int_outer_upper_target_d+         (t) float64 dask.array<chunksize=(530,), meta=np.ndarray>\n",
       "    pf_int_recycle_outer_upper_target_d  (t) float64 dask.array<chunksize=(530,), meta=np.ndarray>\n",
       "    pf_int_inner_lower_target_net        (t) float64 dask.array<chunksize=(530,), meta=np.ndarray>\n",
       "    pf_int_outer_lower_target_net        (t) float64 dask.array<chunksize=(530,), meta=np.ndarray>\n",
       "    pf_int_inner_upper_target_net        (t) float64 dask.array<chunksize=(530,), meta=np.ndarray>\n",
       "    pf_int_outer_upper_target_net        (t) float64 dask.array<chunksize=(530,), meta=np.ndarray>\n",
       "    pf_int_targets_net                   (t) float64 dask.array<chunksize=(530,), meta=np.ndarray>\n",
       "    pf_int_iz_d+                         (t) float64 dask.array<chunksize=(530,), meta=np.ndarray>\n",
       "    pf_int_iz_d                          (t) float64 dask.array<chunksize=(530,), meta=np.ndarray>\n",
       "    pf_int_rec_d+                        (t) float64 dask.array<chunksize=(530,), meta=np.ndarray>\n",
       "    pf_int_rec_d                         (t) float64 dask.array<chunksize=(530,), meta=np.ndarray>\n",
       "    pf_int_src_net                       (t) float64 dask.array<chunksize=(530,), meta=np.ndarray>\n",
       "    pf_int_core_net                      (t) float64 dask.array<chunksize=(530,), meta=np.ndarray>\n",
       "    pf_int_sol_net                       (t) float64 dask.array<chunksize=(530,), meta=np.ndarray>\n",
       "    pf_int_pfr_net                       (t) float64 dask.array<chunksize=(530,), meta=np.ndarray>\n",
       "    pf_int_total_net                     (t) float64 dask.array<chunksize=(530,), meta=np.ndarray>\n",
       "    pf_int_targets_d+                    (t) float64 dask.array<chunksize=(530,), meta=np.ndarray>\n",
       "    pf_int_targets_d                     (t) float64 dask.array<chunksize=(530,), meta=np.ndarray>"
      ]
     },
     "execution_count": 98,
     "metadata": {},
     "output_type": "execute_result"
    }
   ],
   "source": [
    "ds.data_vars"
   ]
  },
  {
   "cell_type": "code",
   "execution_count": 74,
   "metadata": {},
   "outputs": [
    {
     "data": {
      "text/plain": [
       "[<matplotlib.lines.Line2D at 0x1caefc62680>]"
      ]
     },
     "execution_count": 74,
     "metadata": {},
     "output_type": "execute_result"
    },
    {
     "data": {
      "image/png": "[encoded data removed]",
      "text/plain": [
       "<Figure size 640x480 with 1 Axes>"
      ]
     },
     "metadata": {},
     "output_type": "display_data"
    }
   ],
   "source": [
    "ds[\"pf_int_total_net\"].plot()"
   ]
  },
  {
   "cell_type": "code",
   "execution_count": 72,
   "metadata": {},
   "outputs": [
    {
     "data": {
      "text/plain": [
       "0.05021520803443324"
      ]
     },
     "execution_count": 72,
     "metadata": {},
     "output_type": "execute_result"
    }
   ],
   "source": [
    "(6.97-6.62)/6.97"
   ]
  },
  {
   "cell_type": "code",
   "execution_count": 49,
   "metadata": {},
   "outputs": [
    {
     "data": {
      "text/plain": [
       "Data variables:\n",
       "    Bxy                                  (x, theta) float64 dask.array<chunksize=(20, 7), meta=np.ndarray>\n",
       "    Dnnd                                 (t, x, theta) float64 dask.array<chunksize=(530, 20, 7), meta=np.ndarray>\n",
       "    Ed+_iz                               (t, x, theta) float64 dask.array<chunksize=(530, 20, 7), meta=np.ndarray>\n",
       "    Ed+_rec                              (t, x, theta) float64 dask.array<chunksize=(530, 20, 7), meta=np.ndarray>\n",
       "    Ed_target_recycle                    (t, x, theta) float64 dask.array<chunksize=(530, 20, 7), meta=np.ndarray>\n",
       "    Edd+_cx                              (t, x, theta) float64 dask.array<chunksize=(530, 20, 7), meta=np.ndarray>\n",
       "    EnergyFlow_d+_xlow                   (t, x, theta) float64 dask.array<chunksize=(530, 20, 7), meta=np.ndarray>\n",
       "    EnergyFlow_d+_ylow                   (t, x, theta) float64 dask.array<chunksize=(530, 20, 7), meta=np.ndarray>\n",
       "    EnergyFlow_e_xlow                    (t, x, theta) float64 dask.array<chunksize=(530, 20, 7), meta=np.ndarray>\n",
       "    EnergyFlow_e_ylow                    (t, x, theta) float64 dask.array<chunksize=(530, 20, 7), meta=np.ndarray>\n",
       "    Fd+_iz                               (t, x, theta) float64 dask.array<chunksize=(530, 20, 7), meta=np.ndarray>\n",
       "    Fd+_rec                              (t, x, theta) float64 dask.array<chunksize=(530, 20, 7), meta=np.ndarray>\n",
       "    Fdd+_cx                              (t, x, theta) float64 dask.array<chunksize=(530, 20, 7), meta=np.ndarray>\n",
       "    G1                                   (x, theta) float64 dask.array<chunksize=(20, 7), meta=np.ndarray>\n",
       "    G2                                   (x, theta) float64 dask.array<chunksize=(20, 7), meta=np.ndarray>\n",
       "    G3                                   (x, theta) float64 dask.array<chunksize=(20, 7), meta=np.ndarray>\n",
       "    J                                    (x, theta) float64 dask.array<chunksize=(20, 7), meta=np.ndarray>\n",
       "    MomentumFlow_d+_xlow                 (t, x, theta) float64 dask.array<chunksize=(530, 20, 7), meta=np.ndarray>\n",
       "    NVd                                  (t, x, theta) float64 dask.array<chunksize=(530, 20, 7), meta=np.ndarray>\n",
       "    NVd+                                 (t, x, theta) float64 dask.array<chunksize=(530, 20, 7), meta=np.ndarray>\n",
       "    Nd                                   (t, x, theta) float64 dask.array<chunksize=(530, 20, 7), meta=np.ndarray>\n",
       "    Nd+                                  (t, x, theta) float64 dask.array<chunksize=(530, 20, 7), meta=np.ndarray>\n",
       "    Ne                                   (t, x, theta) float64 dask.array<chunksize=(530, 20, 7), meta=np.ndarray>\n",
       "    ParticleFlow_d+_xlow                 (t, x, theta) float64 dask.array<chunksize=(530, 20, 7), meta=np.ndarray>\n",
       "    ParticleFlow_d+_ylow                 (t, x, theta) float64 dask.array<chunksize=(530, 20, 7), meta=np.ndarray>\n",
       "    Pd                                   (t, x, theta) float64 dask.array<chunksize=(530, 20, 7), meta=np.ndarray>\n",
       "    Pd+                                  (t, x, theta) float64 dask.array<chunksize=(530, 20, 7), meta=np.ndarray>\n",
       "    Pd+_src                              (t, x, theta) float64 dask.array<chunksize=(530, 20, 7), meta=np.ndarray>\n",
       "    Pd_src                               (t, x, theta) float64 dask.array<chunksize=(530, 20, 7), meta=np.ndarray>\n",
       "    Pe                                   (t, x, theta) float64 dask.array<chunksize=(530, 20, 7), meta=np.ndarray>\n",
       "    Pe_src                               (t, x, theta) float64 dask.array<chunksize=(530, 20, 7), meta=np.ndarray>\n",
       "    Rd+_ex                               (t, x, theta) float64 dask.array<chunksize=(530, 20, 7), meta=np.ndarray>\n",
       "    Rd+_rec                              (t, x, theta) float64 dask.array<chunksize=(530, 20, 7), meta=np.ndarray>\n",
       "    SNVd                                 (t, x, theta) float64 dask.array<chunksize=(530, 20, 7), meta=np.ndarray>\n",
       "    SNVd+                                (t, x, theta) float64 dask.array<chunksize=(530, 20, 7), meta=np.ndarray>\n",
       "    SNd                                  (t, x, theta) float64 dask.array<chunksize=(530, 20, 7), meta=np.ndarray>\n",
       "    SNd+                                 (t, x, theta) float64 dask.array<chunksize=(530, 20, 7), meta=np.ndarray>\n",
       "    SPd                                  (t, x, theta) float64 dask.array<chunksize=(530, 20, 7), meta=np.ndarray>\n",
       "    SPd+                                 (t, x, theta) float64 dask.array<chunksize=(530, 20, 7), meta=np.ndarray>\n",
       "    SPe                                  (t, x, theta) float64 dask.array<chunksize=(530, 20, 7), meta=np.ndarray>\n",
       "    Sd+_iz                               (t, x, theta) float64 dask.array<chunksize=(530, 20, 7), meta=np.ndarray>\n",
       "    Sd+_rec                              (t, x, theta) float64 dask.array<chunksize=(530, 20, 7), meta=np.ndarray>\n",
       "    Sd+_src                              (t, x, theta) float64 dask.array<chunksize=(530, 20, 7), meta=np.ndarray>\n",
       "    Sd_src                               (t, x, theta) float64 dask.array<chunksize=(530, 20, 7), meta=np.ndarray>\n",
       "    Sd_target_recycle                    (t, x, theta) float64 dask.array<chunksize=(530, 20, 7), meta=np.ndarray>\n",
       "    Td                                   (t, x, theta) float64 dask.array<chunksize=(530, 20, 7), meta=np.ndarray>\n",
       "    Td+                                  (t, x, theta) float64 dask.array<chunksize=(530, 20, 7), meta=np.ndarray>\n",
       "    Te                                   (t, x, theta) float64 dask.array<chunksize=(530, 20, 7), meta=np.ndarray>\n",
       "    Vd+                                  (t, x, theta) float64 dask.array<chunksize=(530, 20, 7), meta=np.ndarray>\n",
       "    Ve                                   (t, x, theta) float64 dask.array<chunksize=(530, 20, 7), meta=np.ndarray>\n",
       "    anomalous_Chi_d+                     (t, x, theta) float64 dask.array<chunksize=(530, 20, 7), meta=np.ndarray>\n",
       "    anomalous_Chi_e                      (t, x, theta) float64 dask.array<chunksize=(530, 20, 7), meta=np.ndarray>\n",
       "    anomalous_D_d+                       (t, x, theta) float64 dask.array<chunksize=(530, 20, 7), meta=np.ndarray>\n",
       "    anomalous_D_e                        (t, x, theta) float64 dask.array<chunksize=(530, 20, 7), meta=np.ndarray>\n",
       "    anomalous_nu_d+                      (t, x, theta) float64 dask.array<chunksize=(530, 20, 7), meta=np.ndarray>\n",
       "    anomalous_nu_e                       (t, x, theta) float64 dask.array<chunksize=(530, 20, 7), meta=np.ndarray>\n",
       "    cvode_last_order                     (t) int32 dask.array<chunksize=(530,), meta=np.ndarray>\n",
       "    cvode_last_step                      (t) float64 dask.array<chunksize=(530,), meta=np.ndarray>\n",
       "    cvode_nfevals                        (t) int32 dask.array<chunksize=(530,), meta=np.ndarray>\n",
       "    cvode_nliters                        (t) int32 dask.array<chunksize=(530,), meta=np.ndarray>\n",
       "    cvode_nniters                        (t) int32 dask.array<chunksize=(530,), meta=np.ndarray>\n",
       "    cvode_nonlin_fails                   (t) int32 dask.array<chunksize=(530,), meta=np.ndarray>\n",
       "    cvode_npevals                        (t) int32 dask.array<chunksize=(530,), meta=np.ndarray>\n",
       "    cvode_nsteps                         (t) int32 dask.array<chunksize=(530,), meta=np.ndarray>\n",
       "    cvode_num_fails                      (t) int32 dask.array<chunksize=(530,), meta=np.ndarray>\n",
       "    cvode_stab_lims                      (t) int32 dask.array<chunksize=(530,), meta=np.ndarray>\n",
       "    ddt(NVd)                             (t, x, theta) float64 dask.array<chunksize=(530, 20, 7), meta=np.ndarray>\n",
       "    ddt(NVd+)                            (t, x, theta) float64 dask.array<chunksize=(530, 20, 7), meta=np.ndarray>\n",
       "    ddt(Nd)                              (t, x, theta) float64 dask.array<chunksize=(530, 20, 7), meta=np.ndarray>\n",
       "    ddt(Nd+)                             (t, x, theta) float64 dask.array<chunksize=(530, 20, 7), meta=np.ndarray>\n",
       "    ddt(Pd)                              (t, x, theta) float64 dask.array<chunksize=(530, 20, 7), meta=np.ndarray>\n",
       "    ddt(Pd+)                             (t, x, theta) float64 dask.array<chunksize=(530, 20, 7), meta=np.ndarray>\n",
       "    ddt(Pe)                              (t, x, theta) float64 dask.array<chunksize=(530, 20, 7), meta=np.ndarray>\n",
       "    g11                                  (x, theta) float64 dask.array<chunksize=(20, 7), meta=np.ndarray>\n",
       "    g12                                  (x, theta) float64 dask.array<chunksize=(20, 7), meta=np.ndarray>\n",
       "    g13                                  (x, theta) float64 dask.array<chunksize=(20, 7), meta=np.ndarray>\n",
       "    g22                                  (x, theta) float64 dask.array<chunksize=(20, 7), meta=np.ndarray>\n",
       "    g23                                  (x, theta) float64 dask.array<chunksize=(20, 7), meta=np.ndarray>\n",
       "    g33                                  (x, theta) float64 dask.array<chunksize=(20, 7), meta=np.ndarray>\n",
       "    g_11                                 (x, theta) float64 dask.array<chunksize=(20, 7), meta=np.ndarray>\n",
       "    g_12                                 (x, theta) float64 dask.array<chunksize=(20, 7), meta=np.ndarray>\n",
       "    g_13                                 (x, theta) float64 dask.array<chunksize=(20, 7), meta=np.ndarray>\n",
       "    g_22                                 (x, theta) float64 dask.array<chunksize=(20, 7), meta=np.ndarray>\n",
       "    g_23                                 (x, theta) float64 dask.array<chunksize=(20, 7), meta=np.ndarray>\n",
       "    g_33                                 (x, theta) float64 dask.array<chunksize=(20, 7), meta=np.ndarray>\n",
       "    kappa_par_d+                         (t, x, theta) float64 dask.array<chunksize=(530, 20, 7), meta=np.ndarray>\n",
       "    kappa_par_e                          (t, x, theta) float64 dask.array<chunksize=(530, 20, 7), meta=np.ndarray>\n",
       "    t_array                              (t) float64 dask.array<chunksize=(530,), meta=np.ndarray>\n",
       "    ncalls                               (t) int32 dask.array<chunksize=(530,), meta=np.ndarray>\n",
       "    ncalls_e                             (t) int32 dask.array<chunksize=(530,), meta=np.ndarray>\n",
       "    ncalls_i                             (t) int32 dask.array<chunksize=(530,), meta=np.ndarray>\n",
       "    wall_time                            (t) float64 dask.array<chunksize=(530,), meta=np.ndarray>\n",
       "    wtime                                (t) float64 dask.array<chunksize=(530,), meta=np.ndarray>\n",
       "    wtime_comms                          (t) float64 dask.array<chunksize=(530,), meta=np.ndarray>\n",
       "    wtime_invert                         (t) float64 dask.array<chunksize=(530,), meta=np.ndarray>\n",
       "    wtime_io                             (t) float64 dask.array<chunksize=(530,), meta=np.ndarray>\n",
       "    wtime_per_rhs                        (t) float64 dask.array<chunksize=(530,), meta=np.ndarray>\n",
       "    wtime_per_rhs_e                      (t) float64 dask.array<chunksize=(530,), meta=np.ndarray>\n",
       "    wtime_per_rhs_i                      (t) float64 dask.array<chunksize=(530,), meta=np.ndarray>\n",
       "    wtime_rhs                            (t) float64 dask.array<chunksize=(530,), meta=np.ndarray>\n",
       "    Bpxy                                 (x, theta) float64 0.5635 ... 0.6506\n",
       "    Brxy                                 (x, theta) float64 0.5409 ... 0.1962\n",
       "    Bzxy                                 (x, theta) float64 -0.1578 ... -0.6203\n",
       "    x_idx                                (x, theta) int32 0 0 0 0 ... 19 19 19\n",
       "    y_idx                                (x, theta) int32 0 1 2 3 ... 55 56 57\n",
       "    dv                                   (x, theta) float64 dask.array<chunksize=(20, 7), meta=np.ndarray>\n",
       "    dr                                   (x, theta) float64 dask.array<chunksize=(20, 7), meta=np.ndarray>\n",
       "    hthe                                 (x, theta) float64 dask.array<chunksize=(20, 7), meta=np.ndarray>\n",
       "    dl                                   (x, theta) float64 dask.array<chunksize=(20, 7), meta=np.ndarray>\n",
       "    pf_int_src_d+                        (t) float64 dask.array<chunksize=(530,), meta=np.ndarray>\n",
       "    hf_perp_diff_L_d+                    (t, x, theta) float64 dask.array<chunksize=(530, 20, 7), meta=np.ndarray>\n",
       "    hf_perp_diff_R_d+                    (t, x, theta) float64 dask.array<chunksize=(530, 20, 7), meta=np.ndarray>\n",
       "    hf_perp_conv_L_d+                    (t, x, theta) float64 dask.array<chunksize=(530, 20, 7), meta=np.ndarray>\n",
       "    hf_perp_conv_R_d+                    (t, x, theta) float64 dask.array<chunksize=(530, 20, 7), meta=np.ndarray>\n",
       "    hf_perp_tot_L_d+                     (t, x, theta) float64 dask.array<chunksize=(530, 20, 7), meta=np.ndarray>\n",
       "    hf_perp_tot_R_d+                     (t, x, theta) float64 dask.array<chunksize=(530, 20, 7), meta=np.ndarray>\n",
       "    hf_perp_diff_L_e                     (t, x, theta) float64 dask.array<chunksize=(530, 20, 7), meta=np.ndarray>\n",
       "    hf_perp_diff_R_e                     (t, x, theta) float64 dask.array<chunksize=(530, 20, 7), meta=np.ndarray>\n",
       "    hf_perp_conv_L_e                     (t, x, theta) float64 dask.array<chunksize=(530, 20, 7), meta=np.ndarray>\n",
       "    hf_perp_conv_R_e                     (t, x, theta) float64 dask.array<chunksize=(530, 20, 7), meta=np.ndarray>\n",
       "    hf_perp_tot_L_e                      (t, x, theta) float64 dask.array<chunksize=(530, 20, 7), meta=np.ndarray>\n",
       "    hf_perp_tot_R_e                      (t, x, theta) float64 dask.array<chunksize=(530, 20, 7), meta=np.ndarray>\n",
       "    hf_perp_conv_L_d                     (t, x, theta) float64 dask.array<chunksize=(530, 20, 7), meta=np.ndarray>\n",
       "    hf_perp_conv_R_d                     (t, x, theta) float64 dask.array<chunksize=(530, 20, 7), meta=np.ndarray>\n",
       "    hf_perp_diff_L_d                     (t, x, theta) float64 dask.array<chunksize=(530, 20, 7), meta=np.ndarray>\n",
       "    hf_perp_diff_R_d                     (t, x, theta) float64 dask.array<chunksize=(530, 20, 7), meta=np.ndarray>\n",
       "    hf_perp_tot_L_d                      (t, x, theta) float64 dask.array<chunksize=(530, 20, 7), meta=np.ndarray>\n",
       "    hf_perp_tot_R_d                      (t, x, theta) float64 dask.array<chunksize=(530, 20, 7), meta=np.ndarray>\n",
       "    pf_perp_diff_L_d+                    (t, x, theta) float64 dask.array<chunksize=(530, 20, 7), meta=np.ndarray>\n",
       "    pf_perp_diff_R_d+                    (t, x, theta) float64 dask.array<chunksize=(530, 20, 7), meta=np.ndarray>\n",
       "    pf_perp_diff_L_e                     (t, x, theta) float64 dask.array<chunksize=(530, 20, 7), meta=np.ndarray>\n",
       "    pf_perp_diff_R_e                     (t, x, theta) float64 dask.array<chunksize=(530, 20, 7), meta=np.ndarray>\n",
       "    pf_perp_diff_L_d                     (t, x, theta) float64 dask.array<chunksize=(530, 20, 7), meta=np.ndarray>\n",
       "    pf_perp_diff_R_d                     (t, x, theta) float64 dask.array<chunksize=(530, 20, 7), meta=np.ndarray>\n",
       "    hf_inner_lower_target_e              (t, x) float64 dask.array<chunksize=(530, 20), meta=np.ndarray>\n",
       "    hf_inner_lower_target_d+             (t, x) float64 dask.array<chunksize=(530, 20), meta=np.ndarray>\n",
       "    pf_inner_lower_target_d+             (t, x) float64 dask.array<chunksize=(530, 20), meta=np.ndarray>\n",
       "    hf_outer_lower_target_e              (t, x) float64 dask.array<chunksize=(530, 20), meta=np.ndarray>\n",
       "    hf_outer_lower_target_d+             (t, x) float64 dask.array<chunksize=(530, 20), meta=np.ndarray>\n",
       "    pf_outer_lower_target_d+             (t, x) float64 dask.array<chunksize=(530, 20), meta=np.ndarray>\n",
       "    hf_inner_upper_target_e              (t, x) float64 dask.array<chunksize=(530, 20), meta=np.ndarray>\n",
       "    hf_inner_upper_target_d+             (t, x) float64 dask.array<chunksize=(530, 20), meta=np.ndarray>\n",
       "    pf_inner_upper_target_d+             (t, x) float64 dask.array<chunksize=(530, 20), meta=np.ndarray>\n",
       "    hf_outer_upper_target_e              (t, x) float64 dask.array<chunksize=(530, 20), meta=np.ndarray>\n",
       "    hf_outer_upper_target_d+             (t, x) float64 dask.array<chunksize=(530, 20), meta=np.ndarray>\n",
       "    pf_outer_upper_target_d+             (t, x) float64 dask.array<chunksize=(530, 20), meta=np.ndarray>\n",
       "    pf_recycle_inner_lower_target_d      (t, x) float64 dask.array<chunksize=(530, 20), meta=np.ndarray>\n",
       "    hf_recycle_inner_lower_target_d      (t, x) float64 dask.array<chunksize=(530, 20), meta=np.ndarray>\n",
       "    pf_recycle_outer_lower_target_d      (t, x) float64 dask.array<chunksize=(530, 20), meta=np.ndarray>\n",
       "    hf_recycle_outer_lower_target_d      (t, x) float64 dask.array<chunksize=(530, 20), meta=np.ndarray>\n",
       "    pf_recycle_inner_upper_target_d      (t, x) float64 dask.array<chunksize=(530, 20), meta=np.ndarray>\n",
       "    hf_recycle_inner_upper_target_d      (t, x) float64 dask.array<chunksize=(530, 20), meta=np.ndarray>\n",
       "    pf_recycle_outer_upper_target_d      (t, x) float64 dask.array<chunksize=(530, 20), meta=np.ndarray>\n",
       "    hf_recycle_outer_upper_target_d      (t, x) float64 dask.array<chunksize=(530, 20), meta=np.ndarray>\n",
       "    pf_int_core_d+                       (t) float64 dask.array<chunksize=(530,), meta=np.ndarray>\n",
       "    pf_int_sol_d+                        (t) float64 dask.array<chunksize=(530,), meta=np.ndarray>\n",
       "    pf_int_pfr_d+                        (t) float64 dask.array<chunksize=(530,), meta=np.ndarray>\n",
       "    pf_int_src_d                         (t) float64 dask.array<chunksize=(530,), meta=np.ndarray>\n",
       "    pf_int_core_d                        (t) float64 dask.array<chunksize=(530,), meta=np.ndarray>\n",
       "    pf_int_sol_d                         (t) float64 dask.array<chunksize=(530,), meta=np.ndarray>\n",
       "    pf_int_pfr_d                         (t) float64 dask.array<chunksize=(530,), meta=np.ndarray>\n",
       "    pf_int_recycle_target_d              (t) float64 dask.array<chunksize=(530,), meta=np.ndarray>\n",
       "    pf_int_inner_lower_target_d+         (t) float64 dask.array<chunksize=(530,), meta=np.ndarray>\n",
       "    pf_int_recycle_inner_lower_target_d  (t) float64 dask.array<chunksize=(530,), meta=np.ndarray>\n",
       "    pf_int_outer_lower_target_d+         (t) float64 dask.array<chunksize=(530,), meta=np.ndarray>\n",
       "    pf_int_recycle_outer_lower_target_d  (t) float64 dask.array<chunksize=(530,), meta=np.ndarray>\n",
       "    pf_int_inner_upper_target_d+         (t) float64 dask.array<chunksize=(530,), meta=np.ndarray>\n",
       "    pf_int_recycle_inner_upper_target_d  (t) float64 dask.array<chunksize=(530,), meta=np.ndarray>\n",
       "    pf_int_outer_upper_target_d+         (t) float64 dask.array<chunksize=(530,), meta=np.ndarray>\n",
       "    pf_int_recycle_outer_upper_target_d  (t) float64 dask.array<chunksize=(530,), meta=np.ndarray>\n",
       "    pf_int_inner_lower_target_net        (t) float64 dask.array<chunksize=(530,), meta=np.ndarray>\n",
       "    pf_int_outer_lower_target_net        (t) float64 dask.array<chunksize=(530,), meta=np.ndarray>\n",
       "    pf_int_inner_upper_target_net        (t) float64 dask.array<chunksize=(530,), meta=np.ndarray>\n",
       "    pf_int_outer_upper_target_net        (t) float64 dask.array<chunksize=(530,), meta=np.ndarray>\n",
       "    pf_int_targets_net                   (t) float64 dask.array<chunksize=(530,), meta=np.ndarray>\n",
       "    pf_int_iz_d+                         (t) float64 dask.array<chunksize=(530,), meta=np.ndarray>\n",
       "    pf_int_iz_d                          (t) float64 dask.array<chunksize=(530,), meta=np.ndarray>\n",
       "    pf_int_rec_d+                        (t) float64 dask.array<chunksize=(530,), meta=np.ndarray>\n",
       "    pf_int_rec_d                         (t) float64 dask.array<chunksize=(530,), meta=np.ndarray>\n",
       "    pf_int_src_net                       (t) float64 dask.array<chunksize=(530,), meta=np.ndarray>\n",
       "    pf_int_core_net                      (t) float64 dask.array<chunksize=(530,), meta=np.ndarray>\n",
       "    pf_int_sol_net                       (t) float64 dask.array<chunksize=(530,), meta=np.ndarray>\n",
       "    pf_int_pfr_net                       (t) float64 dask.array<chunksize=(530,), meta=np.ndarray>\n",
       "    pf_int_total_net                     (t) float64 dask.array<chunksize=(530,), meta=np.ndarray>\n",
       "    pf_int_targets_d+                    (t) float64 dask.array<chunksize=(530,), meta=np.ndarray>\n",
       "    pf_int_targets_d                     (t) float64 dask.array<chunksize=(530,), meta=np.ndarray>"
      ]
     },
     "execution_count": 49,
     "metadata": {},
     "output_type": "execute_result"
    }
   ],
   "source": [
    "ds.data_vars"
   ]
  },
  {
   "cell_type": "code",
   "execution_count": 68,
   "metadata": {},
   "outputs": [
    {
     "data": {
      "text/plain": [
       "array([-2.50548703e+21, -2.54071249e+21, -2.56107906e+21, -2.56377391e+21,\n",
       "       -2.56834862e+21, -2.56944922e+21, -2.57090050e+21, -2.57139218e+21,\n",
       "       -2.57180796e+21, -2.57196750e+21, -2.57202922e+21, -2.57200252e+21,\n",
       "       -2.57192006e+21, -2.57179935e+21, -2.57165109e+21, -2.57148425e+21,\n",
       "       -2.57130441e+21, -2.57111579e+21, -2.57092122e+21, -2.57072293e+21,\n",
       "       -2.57052252e+21, -2.57032118e+21, -2.57011966e+21, -2.56991865e+21,\n",
       "       -2.56971852e+21, -2.56951970e+21, -2.56932237e+21, -2.56912668e+21,\n",
       "       -2.56893291e+21, -2.56874108e+21, -2.56855117e+21, -2.56836323e+21,\n",
       "       -2.56817728e+21, -2.56799335e+21, -2.56781139e+21, -2.56763143e+21,\n",
       "       -2.56745344e+21, -2.56727746e+21, -2.56710338e+21, -2.56693200e+21,\n",
       "       -2.56676238e+21, -2.56659452e+21, -2.56642849e+21, -2.56626429e+21,\n",
       "       -2.56610187e+21, -2.56594128e+21, -2.56578242e+21, -2.56562533e+21,\n",
       "       -2.56546997e+21, -2.56531634e+21, -2.56516440e+21, -2.56501410e+21,\n",
       "       -2.56486547e+21, -2.56471852e+21, -2.56457321e+21, -2.56442951e+21,\n",
       "       -2.56428742e+21, -2.56414688e+21, -2.56400795e+21, -2.56387055e+21,\n",
       "       -2.56373469e+21, -2.56360030e+21, -2.56346746e+21, -2.56333613e+21,\n",
       "       -2.56320623e+21, -2.56307774e+21, -2.56295072e+21, -2.56282512e+21,\n",
       "       -2.56270095e+21, -2.56257814e+21, -2.56245671e+21, -2.56233667e+21,\n",
       "       -2.56221793e+21, -2.56210054e+21, -2.56198446e+21, -2.56186970e+21,\n",
       "       -2.56175621e+21, -2.56164403e+21, -2.56153299e+21, -2.56142330e+21,\n",
       "       -2.56131485e+21, -2.56120762e+21, -2.56110157e+21, -2.56099678e+21,\n",
       "       -2.56089311e+21, -2.56079066e+21, -2.56068933e+21, -2.56058914e+21,\n",
       "       -2.56049009e+21, -2.56039217e+21, -2.56029534e+21, -2.56019963e+21,\n",
       "       -2.56010488e+21, -2.56001133e+21, -2.55991882e+21, -2.55982733e+21,\n",
       "       -2.55973689e+21, -2.55964748e+21, -2.55955909e+21, -2.55947172e+21,\n",
       "       -2.55938533e+21, -2.55929986e+21, -2.55921540e+21, -2.55913191e+21,\n",
       "       -2.55904936e+21, -2.55896775e+21, -2.55888706e+21, -2.55880727e+21,\n",
       "       -2.55872840e+21, -2.55865046e+21, -2.55857339e+21, -2.55849718e+21,\n",
       "       -2.55842186e+21, -2.55834737e+21, -2.55827377e+21, -2.55820097e+21,\n",
       "       -2.55812899e+21, -2.55805785e+21, -2.55798754e+21, -2.55791801e+21,\n",
       "       -2.55784929e+21, -2.55778132e+21, -2.55771416e+21, -2.55764776e+21,\n",
       "       -2.55758211e+21, -2.55751717e+21, -2.55745298e+21, -2.55738954e+21,\n",
       "       -2.55732683e+21, -2.55726484e+21, -2.55720357e+21, -2.55714300e+21,\n",
       "       -2.55708311e+21, -2.55702391e+21, -2.55696539e+21, -2.55690754e+21,\n",
       "       -2.55685032e+21, -2.55679380e+21, -2.55673790e+21, -2.55668269e+21,\n",
       "       -2.55662812e+21, -2.55657410e+21, -2.55652074e+21, -2.55646800e+21,\n",
       "       -2.55641583e+21, -2.55636428e+21, -2.55631333e+21, -2.55626293e+21,\n",
       "       -2.55621318e+21, -2.55616390e+21, -2.55611525e+21, -2.55606717e+21,\n",
       "       -2.55601960e+21, -2.55597252e+21, -2.55592605e+21, -2.55588015e+21,\n",
       "       -2.55583476e+21, -2.55578991e+21, -2.55576348e+21, -2.55572868e+21,\n",
       "       -2.55569118e+21, -2.55565193e+21, -2.55560061e+21, -2.55555537e+21,\n",
       "       -2.55551272e+21, -2.55547066e+21, -2.55542867e+21, -2.55538731e+21,\n",
       "       -2.55534663e+21, -2.55530651e+21, -2.55526698e+21, -2.55522799e+21,\n",
       "       -2.55518953e+21, -2.55515156e+21, -2.55511408e+21, -2.55507710e+21,\n",
       "       -2.55504054e+21, -2.55500444e+21, -2.55496882e+21, -2.55493360e+21,\n",
       "       -2.55489880e+21, -2.55486440e+21, -2.55483042e+21, -2.55479682e+21,\n",
       "       -2.55476335e+21, -2.55473056e+21, -2.55469814e+21, -2.55466614e+21,\n",
       "       -2.55463450e+21, -2.55460321e+21, -2.55457230e+21, -2.55454174e+21,\n",
       "       -2.55451151e+21, -2.55448165e+21, -2.55445217e+21, -2.55442300e+21,\n",
       "       -2.55439419e+21, -2.55436568e+21, -2.55433752e+21, -2.55430968e+21,\n",
       "       -2.55428216e+21, -2.55425497e+21, -2.55422808e+21, -2.55420150e+21,\n",
       "       -2.55417528e+21, -2.55414928e+21, -2.55412362e+21, -2.55409826e+21,\n",
       "       -2.55407319e+21, -2.55404843e+21, -2.55402394e+21, -2.55399974e+21,\n",
       "       -2.55397581e+21, -2.55395217e+21, -2.55392875e+21, -2.55390567e+21,\n",
       "       -2.55388281e+21, -2.55386025e+21, -2.55383793e+21, -2.55381587e+21,\n",
       "       -2.55379407e+21, -2.55377253e+21, -2.55375121e+21, -2.55373015e+21,\n",
       "       -2.55370936e+21, -2.55368878e+21, -2.55366843e+21, -2.55364834e+21,\n",
       "       -2.55362849e+21, -2.55360884e+21, -2.55358941e+21, -2.55357028e+21,\n",
       "       -2.55355126e+21, -2.55353255e+21, -2.55351400e+21, -2.55349572e+21,\n",
       "       -2.55347763e+21, -2.55345975e+21, -2.55344205e+21, -2.55342462e+21,\n",
       "       -2.55340733e+21, -2.55339027e+21, -2.55337340e+21, -2.55335673e+21,\n",
       "       -2.55334024e+21, -2.55332395e+21, -2.55330783e+21, -2.55329192e+21,\n",
       "       -2.55327621e+21, -2.55326066e+21, -2.55324529e+21, -2.55323012e+21,\n",
       "       -2.55321509e+21, -2.55320026e+21, -2.55318561e+21, -2.55317112e+21,\n",
       "       -2.55315674e+21, -2.55314263e+21, -2.55312862e+21, -2.55311479e+21,\n",
       "       -2.55310113e+21, -2.55308762e+21, -2.55307426e+21, -2.55306106e+21,\n",
       "       -2.55304798e+21, -2.55303510e+21, -2.55302237e+21, -2.55300978e+21,\n",
       "       -2.55299731e+21, -2.55298494e+21, -2.55297277e+21, -2.55296068e+21,\n",
       "       -2.55294877e+21, -2.55293703e+21, -2.55292542e+21, -2.55291394e+21,\n",
       "       -2.55290262e+21, -2.55289139e+21, -2.55288032e+21, -2.55286938e+21,\n",
       "       -2.55285858e+21, -2.55284785e+21, -2.55283724e+21, -2.55282680e+21,\n",
       "       -2.55281645e+21, -2.55280625e+21, -2.55279615e+21, -2.55278618e+21,\n",
       "       -2.55277631e+21, -2.55276654e+21, -2.55275694e+21, -2.55274739e+21,\n",
       "       -2.55273797e+21, -2.55272867e+21, -2.55271949e+21, -2.55271039e+21,\n",
       "       -2.55270141e+21, -2.55269254e+21, -2.55268376e+21, -2.55267507e+21,\n",
       "       -2.55266655e+21, -2.55265807e+21, -2.55264967e+21, -2.55264140e+21,\n",
       "       -2.55263321e+21, -2.55262512e+21, -2.55261715e+21, -2.55260926e+21,\n",
       "       -2.55260145e+21, -2.55259372e+21, -2.55258611e+21, -2.55257857e+21,\n",
       "       -2.55257112e+21, -2.55256374e+21, -2.55255647e+21, -2.55254924e+21,\n",
       "       -2.55254216e+21, -2.55253509e+21, -2.55252818e+21, -2.55252129e+21,\n",
       "       -2.55251451e+21, -2.55250780e+21, -2.55250119e+21, -2.55249462e+21,\n",
       "       -2.55248813e+21, -2.55248171e+21, -2.55247540e+21, -2.55246912e+21,\n",
       "       -2.55246296e+21, -2.55245685e+21, -2.55245079e+21, -2.55244484e+21,\n",
       "       -2.55243895e+21, -2.55243310e+21, -2.55242734e+21, -2.55242164e+21,\n",
       "       -2.55241600e+21, -2.55241045e+21, -2.55240486e+21, -2.55239952e+21,\n",
       "       -2.55239416e+21, -2.55238883e+21, -2.55238360e+21, -2.55237838e+21,\n",
       "       -2.55237326e+21, -2.55236819e+21, -2.55236320e+21, -2.55235823e+21,\n",
       "       -2.55235334e+21, -2.55234854e+21, -2.55234369e+21, -2.55233901e+21,\n",
       "       -2.55233434e+21, -2.55232970e+21, -2.55232516e+21, -2.55232065e+21,\n",
       "       -2.55231618e+21, -2.55231180e+21, -2.55230742e+21, -2.55230312e+21,\n",
       "       -2.55229887e+21, -2.55229467e+21, -2.55229051e+21, -2.55228641e+21,\n",
       "       -2.55228232e+21, -2.55227835e+21, -2.55227435e+21, -2.55227044e+21,\n",
       "       -2.55226657e+21, -2.55226273e+21, -2.55225896e+21, -2.55225522e+21,\n",
       "       -2.55225152e+21, -2.55224787e+21, -2.55224428e+21, -2.55224070e+21,\n",
       "       -2.55223717e+21, -2.55223366e+21, -2.55223026e+21, -2.55222684e+21,\n",
       "       -2.55222347e+21, -2.55222015e+21, -2.55221687e+21, -2.55221363e+21,\n",
       "       -2.55221041e+21, -2.55220723e+21, -2.55220407e+21, -2.55220099e+21,\n",
       "       -2.55219792e+21, -2.55219489e+21, -2.55219186e+21, -2.55218888e+21,\n",
       "       -2.55218600e+21, -2.55218310e+21, -2.55218023e+21, -2.55217741e+21,\n",
       "       -2.55217459e+21, -2.55217186e+21, -2.55216916e+21, -2.55216646e+21,\n",
       "       -2.55216380e+21, -2.55216116e+21, -2.55215856e+21, -2.55215598e+21,\n",
       "       -2.55215346e+21, -2.55215092e+21, -2.55214845e+21, -2.55214600e+21,\n",
       "       -2.55214356e+21, -2.55214115e+21, -2.55213879e+21, -2.55213640e+21,\n",
       "       -2.55213414e+21, -2.55213185e+21, -2.55212957e+21, -2.55212741e+21,\n",
       "       -2.55212521e+21, -2.55212300e+21, -2.55212081e+21, -2.55211870e+21,\n",
       "       -2.55211659e+21, -2.55211449e+21, -2.55211243e+21, -2.55211040e+21,\n",
       "       -2.55210838e+21, -2.55210638e+21, -2.55210441e+21, -2.55210246e+21,\n",
       "       -2.55210055e+21, -2.55209864e+21, -2.55209676e+21, -2.55209491e+21,\n",
       "       -2.55209307e+21, -2.55209125e+21, -2.55208946e+21, -2.55208770e+21,\n",
       "       -2.55208594e+21, -2.55208420e+21, -2.55208249e+21, -2.55208079e+21,\n",
       "       -2.55207915e+21, -2.55207749e+21, -2.55207586e+21, -2.55207424e+21,\n",
       "       -2.55207264e+21, -2.55207107e+21, -2.55206951e+21, -2.55206797e+21,\n",
       "       -2.55206646e+21, -2.55206495e+21, -2.55206346e+21, -2.55206201e+21,\n",
       "       -2.55206053e+21, -2.55205914e+21, -2.55205772e+21, -2.55205632e+21,\n",
       "       -2.55205493e+21, -2.55205356e+21, -2.55205221e+21, -2.55205088e+21,\n",
       "       -2.55204958e+21, -2.55204828e+21, -2.55204695e+21, -2.55204567e+21,\n",
       "       -2.55204442e+21, -2.55204319e+21, -2.55204195e+21, -2.55204072e+21,\n",
       "       -2.55203951e+21, -2.55203832e+21, -2.55203714e+21, -2.55203601e+21,\n",
       "       -2.55203483e+21, -2.55203372e+21, -2.55203261e+21, -2.55203148e+21,\n",
       "       -2.55203036e+21, -2.55202933e+21, -2.55202825e+21, -2.55202720e+21,\n",
       "       -2.55202615e+21, -2.55202512e+21, -2.55202410e+21, -2.55202309e+21,\n",
       "       -2.55202208e+21, -2.55202109e+21, -2.55202011e+21, -2.55201915e+21,\n",
       "       -2.55201821e+21, -2.55201726e+21, -2.55201632e+21, -2.55201541e+21,\n",
       "       -2.55201451e+21, -2.55201361e+21, -2.55201269e+21, -2.55201182e+21,\n",
       "       -2.55201093e+21, -2.55201010e+21, -2.55200925e+21, -2.55200844e+21,\n",
       "       -2.55200760e+21, -2.55200677e+21, -2.55200596e+21, -2.55200517e+21,\n",
       "       -2.55200438e+21, -2.55200357e+21, -2.55200284e+21, -2.55200209e+21,\n",
       "       -2.55200133e+21, -2.55200059e+21, -2.55199983e+21, -2.55199912e+21,\n",
       "       -2.55199844e+21, -2.55199771e+21, -2.55199699e+21, -2.55199631e+21,\n",
       "       -2.55199562e+21, -2.55199491e+21, -2.55199428e+21, -2.55199361e+21,\n",
       "       -2.55199294e+21, -2.55199232e+21, -2.55199168e+21, -2.55199102e+21,\n",
       "       -2.55199040e+21, -2.55198980e+21, -2.55198921e+21, -2.55198859e+21,\n",
       "       -2.55198799e+21, -2.55198743e+21])"
      ]
     },
     "execution_count": 68,
     "metadata": {},
     "output_type": "execute_result"
    }
   ],
   "source": [
    "net[\"targets_d+\"].values"
   ]
  },
  {
   "cell_type": "code",
   "execution_count": 58,
   "metadata": {},
   "outputs": [
    {
     "data": {
      "text/plain": [
       "array(6.61786471e+21)"
      ]
     },
     "execution_count": 58,
     "metadata": {},
     "output_type": "execute_result"
    }
   ],
   "source": [
    "(ds[\"Sd_target_recycle\"] * ds[\"dv\"]).isel(x=slice(2,-2)).sum().values"
   ]
  },
  {
   "cell_type": "code",
   "execution_count": 61,
   "metadata": {},
   "outputs": [
    {
     "data": {
      "text/plain": [
       "-6.971255365419361e+21"
      ]
     },
     "execution_count": 61,
     "metadata": {},
     "output_type": "execute_result"
    }
   ],
   "source": [
    "ds = casestore[\"base\"].ds.isel(t=-1)\n",
    "tot = 0\n",
    "for name in m[\"targets\"]:\n",
    "    # tot += ds[f\"pf_int_recycle_{name}_target_d\"].values\n",
    "    # target = ds.hermesm.select_region(targetname).squeeze\n",
    "    tot += ds[f\"pf_{name}_target_d+\"].sum().values\n",
    "    \n",
    "tot"
   ]
  },
  {
   "cell_type": "code",
   "execution_count": 66,
   "metadata": {},
   "outputs": [
    {
     "data": {
      "text/plain": [
       "array([            nan,             nan, -2.21927464e+19, -2.44975586e+19,\n",
       "       -2.92798982e+19, -3.69546501e+19, -4.81056327e+19, -6.33643142e+19,\n",
       "       -8.30671428e+19, -1.06459480e+20, -1.35679217e+20, -1.89979007e+20,\n",
       "       -2.71380582e+20, -3.46886926e+20, -3.66153103e+20, -3.22919965e+20,\n",
       "       -2.63761792e+20, -2.41305413e+20,             nan,             nan])"
      ]
     },
     "execution_count": 66,
     "metadata": {},
     "output_type": "execute_result"
    }
   ],
   "source": [
    "ds[f\"pf_{target_name}_target_d+\"].values"
   ]
  }
 ],
 "metadata": {
  "kernelspec": {
   "display_name": "new",
   "language": "python",
   "name": "python3"
  },
  "language_info": {
   "codemirror_mode": {
    "name": "ipython",
    "version": 3
   },
   "file_extension": ".py",
   "mimetype": "text/x-python",
   "name": "python",
   "nbconvert_exporter": "python",
   "pygments_lexer": "ipython3",
   "version": "3.10.11"
  },
  "orig_nbformat": 4
 },
 "nbformat": 4,
 "nbformat_minor": 2
}
