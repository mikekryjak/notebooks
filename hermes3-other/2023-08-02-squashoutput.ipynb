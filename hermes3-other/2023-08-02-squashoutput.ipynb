{
 "cells": [
  {
   "cell_type": "code",
   "execution_count": 1,
   "metadata": {},
   "outputs": [
    {
     "name": "stdout",
     "output_type": "stream",
     "text": [
      "\n",
      "st40_phys_viewer can not be loaded from outside Tokamak Energy!\n",
      "\n",
      "Done\n"
     ]
    }
   ],
   "source": [
    "%matplotlib inline\n",
    "\n",
    "from boututils.datafile import DataFile\n",
    "from boutdata.collect import collect\n",
    "import pandas as pd\n",
    "import numpy as np\n",
    "import matplotlib.pyplot as plt\n",
    "import os, sys, pathlib\n",
    "import platform\n",
    "import traceback\n",
    "import xarray\n",
    "import xbout\n",
    "import scipy\n",
    "import re\n",
    "\n",
    "onedrive_path = onedrive_path = str(os.getcwd()).split(\"OneDrive\")[0] + \"OneDrive\"\n",
    "sys.path.append(os.path.join(onedrive_path, r\"Project\\python-packages\\sdtools\"))\n",
    "sys.path.append(os.path.join(onedrive_path, r\"Project\\python-packages\\soledge\"))\n",
    "sys.path.append(os.path.join(onedrive_path, r\"Project\\python-packages\"))\n",
    "\n",
    "from hermes3.utils import *\n",
    "from gridtools.hypnotoad_tools import *\n",
    "from gridtools.b2_tools import *\n",
    "from gridtools.utils import *\n",
    "\n",
    "from hermes3.fluxes import *\n",
    "from hermes3.case_db import *\n",
    "from hermes3.load import *\n",
    "from hermes3.named_selections import *\n",
    "from hermes3.plotting import *\n",
    "from hermes3.grid_fields import *\n",
    "from hermes3.accessors import *\n",
    "\n",
    "from code_comparison.code_comparison import *\n",
    "from code_comparison.viewer_2d import *\n",
    "\n",
    "\n",
    "%load_ext autoreload\n",
    "%autoreload 2\n",
    "\n",
    "\n",
    "print(\"Done\")"
   ]
  },
  {
   "cell_type": "code",
   "execution_count": 2,
   "metadata": {},
   "outputs": [],
   "source": [
    "path = r\"C:\\Users\\mikek\\OneDrive\\Project\\collab\\tech\\cases\\st40\\d13a-d11b_decaylength\""
   ]
  },
  {
   "cell_type": "code",
   "execution_count": 3,
   "metadata": {},
   "outputs": [],
   "source": [
    "from boutdata.squashoutput import squashoutput"
   ]
  },
  {
   "cell_type": "code",
   "execution_count": 7,
   "metadata": {},
   "outputs": [],
   "source": [
    "db = CaseDB()\n",
    "# casestore=dict()\n",
    "# toload = [\n",
    "#     dict(name=\"2e19_decay\", id=\"d13a-d11b_decaylength\", grid=\"g3b2-fatter_newhypno.nc\", unnormalise_geom = True),\n",
    "# ]\n",
    "\n",
    "# for case in toload:\n",
    "#     casestore[case[\"name\"]] = Load.case_2D(db.casepaths[case[\"id\"]], gridfilepath = db.gridpaths[case[\"grid\"]],\n",
    "#                                            double_load = False, keep_xboundaries = True, keep_yboundaries = True,\n",
    "#                                            unnormalise_geom = case[\"unnormalise_geom\"])"
   ]
  },
  {
   "cell_type": "code",
   "execution_count": 8,
   "metadata": {},
   "outputs": [],
   "source": [
    "id=\"d13a-d11b_decaylength\"\n",
    "grid=\"g3b2-fatter_newhypno.nc\"\n",
    "casepath = db.casepaths[id]\n",
    "gridfilepath = db.gridpaths[grid]\n",
    "datapath = os.path.join(casepath, \"BOUT.dmp.nc\")\n",
    "inputfilepath = os.path.join(casepath, \"BOUT.inp\")\n",
    "        \n",
    "ds = xbout.load.open_boutdataset(\n",
    "                datapath = datapath, \n",
    "                inputfilepath = inputfilepath, \n",
    "                gridfilepath = gridfilepath,\n",
    "                info = False,\n",
    "                cache = False,\n",
    "                geometry = \"toroidal\",\n",
    "                keep_xboundaries=True,\n",
    "                keep_yboundaries=True,\n",
    "                )"
   ]
  },
  {
   "cell_type": "code",
   "execution_count": 20,
   "metadata": {},
   "outputs": [],
   "source": [
    "ds.close()"
   ]
  },
  {
   "cell_type": "code",
   "execution_count": 9,
   "metadata": {},
   "outputs": [
    {
     "data": {
      "text/plain": [
       "Frozen({'x': 40, 'theta': 108, 't': 291, 'zeta': 1})"
      ]
     },
     "execution_count": 9,
     "metadata": {},
     "output_type": "execute_result"
    }
   ],
   "source": [
    "ds.dims"
   ]
  },
  {
   "cell_type": "code",
   "execution_count": 12,
   "metadata": {},
   "outputs": [
    {
     "data": {
      "text/plain": [
       "Frozen({'x': 40, 'theta': 100, 't': 291, 'zeta': 1})"
      ]
     },
     "execution_count": 12,
     "metadata": {},
     "output_type": "execute_result"
    }
   ],
   "source": [
    "ds.dims"
   ]
  },
  {
   "cell_type": "code",
   "execution_count": 6,
   "metadata": {},
   "outputs": [],
   "source": [
    "from netCDF4 import Dataset\n",
    "d = Dataset(r\"C:\\Users\\mikek\\OneDrive\\Project\\collab\\tech\\cases\\st40\\d13a-d11b_decaylength\\BOUT.dmp.0.nc\")"
   ]
  },
  {
   "cell_type": "code",
   "execution_count": 8,
   "metadata": {},
   "outputs": [
    {
     "ename": "NotImplementedError",
     "evalue": "Dataset is not picklable",
     "output_type": "error",
     "traceback": [
      "\u001b[1;31m---------------------------------------------------------------------------\u001b[0m",
      "\u001b[1;31mNotImplementedError\u001b[0m                       Traceback (most recent call last)",
      "Cell \u001b[1;32mIn[8], line 1\u001b[0m\n\u001b[1;32m----> 1\u001b[0m write_file(d, \u001b[39m\"\u001b[39;49m\u001b[39mtest\u001b[39;49m\u001b[39m\"\u001b[39;49m)\n",
      "File \u001b[1;32mc:\\Users\\mikek\\OneDrive\\Project\\python-packages\\sdtools\\hermes3\\utils.py:63\u001b[0m, in \u001b[0;36mwrite_file\u001b[1;34m(data, filename, quiet)\u001b[0m\n\u001b[0;32m     58\u001b[0m \u001b[39mdef\u001b[39;00m \u001b[39mwrite_file\u001b[39m(data, filename, quiet \u001b[39m=\u001b[39m \u001b[39mFalse\u001b[39;00m):\n\u001b[0;32m     59\u001b[0m \u001b[39m# Writes an object to a pickle file.\u001b[39;00m\n\u001b[0;32m     61\u001b[0m     \u001b[39mwith\u001b[39;00m \u001b[39mopen\u001b[39m(filename, \u001b[39m\"\u001b[39m\u001b[39mwb\u001b[39m\u001b[39m\"\u001b[39m) \u001b[39mas\u001b[39;00m file:\n\u001b[0;32m     62\u001b[0m     \u001b[39m# Open file in write binary mode, dump result to file\u001b[39;00m\n\u001b[1;32m---> 63\u001b[0m         pkl\u001b[39m.\u001b[39;49mdump(data, file)\n\u001b[0;32m     64\u001b[0m         \u001b[39mif\u001b[39;00m \u001b[39mnot\u001b[39;00m quiet:\n\u001b[0;32m     65\u001b[0m             \u001b[39mprint\u001b[39m(\u001b[39m\"\u001b[39m\u001b[39m{}\u001b[39;00m\u001b[39m written\u001b[39m\u001b[39m\"\u001b[39m\u001b[39m.\u001b[39mformat(filename))\n",
      "File \u001b[1;32msrc\\netCDF4\\_netCDF4.pyx:2643\u001b[0m, in \u001b[0;36mnetCDF4._netCDF4.Dataset.__reduce__\u001b[1;34m()\u001b[0m\n",
      "\u001b[1;31mNotImplementedError\u001b[0m: Dataset is not picklable"
     ]
    }
   ],
   "source": [
    "write_file(d, \"test\")"
   ]
  },
  {
   "cell_type": "code",
   "execution_count": 4,
   "metadata": {},
   "outputs": [
    {
     "ename": "NotImplementedError",
     "evalue": "Dataset is not picklable",
     "output_type": "error",
     "traceback": [
      "\u001b[1;31m---------------------------------------------------------------------------\u001b[0m",
      "\u001b[1;31mNotImplementedError\u001b[0m                       Traceback (most recent call last)",
      "Cell \u001b[1;32mIn[4], line 1\u001b[0m\n\u001b[1;32m----> 1\u001b[0m squashoutput(\n\u001b[0;32m      2\u001b[0m     datadir \u001b[39m=\u001b[39;49m path,\n\u001b[0;32m      3\u001b[0m     outputname\u001b[39m=\u001b[39;49m\u001b[39m\"\u001b[39;49m\u001b[39mBOUT.dmp.nc\u001b[39;49m\u001b[39m\"\u001b[39;49m,\n\u001b[0;32m      4\u001b[0m     xguards \u001b[39m=\u001b[39;49m \u001b[39mTrue\u001b[39;49;00m,\n\u001b[0;32m      5\u001b[0m     yguards \u001b[39m=\u001b[39;49m \u001b[39m\"\u001b[39;49m\u001b[39minclude_upper\u001b[39;49m\u001b[39m\"\u001b[39;49m,\n\u001b[0;32m      6\u001b[0m     parallel \u001b[39m=\u001b[39;49m \u001b[39m4\u001b[39;49m,\n\u001b[0;32m      7\u001b[0m )\n",
      "File \u001b[1;32mc:\\Users\\mikek\\anaconda3\\envs\\new\\lib\\site-packages\\boutdata\\squashoutput.py:144\u001b[0m, in \u001b[0;36msquashoutput\u001b[1;34m(datadir, outputname, format, tind, xind, yind, zind, xguards, yguards, singleprecision, compress, least_significant_digit, quiet, complevel, append, delete, tind_auto, parallel, time_split_size, time_split_first_label)\u001b[0m\n\u001b[0;32m    141\u001b[0m     datadir \u001b[39m=\u001b[39m datadirnew\n\u001b[0;32m    143\u001b[0m \u001b[39m# useful object from BOUT pylib to access output data\u001b[39;00m\n\u001b[1;32m--> 144\u001b[0m outputs \u001b[39m=\u001b[39m BoutOutputs(\n\u001b[0;32m    145\u001b[0m     datadir,\n\u001b[0;32m    146\u001b[0m     info\u001b[39m=\u001b[39;49m\u001b[39mFalse\u001b[39;49;00m,\n\u001b[0;32m    147\u001b[0m     xguards\u001b[39m=\u001b[39;49mxguards,\n\u001b[0;32m    148\u001b[0m     yguards\u001b[39m=\u001b[39;49myguards,\n\u001b[0;32m    149\u001b[0m     tind\u001b[39m=\u001b[39;49mtind,\n\u001b[0;32m    150\u001b[0m     xind\u001b[39m=\u001b[39;49mxind,\n\u001b[0;32m    151\u001b[0m     yind\u001b[39m=\u001b[39;49myind,\n\u001b[0;32m    152\u001b[0m     zind\u001b[39m=\u001b[39;49mzind,\n\u001b[0;32m    153\u001b[0m     tind_auto\u001b[39m=\u001b[39;49mtind_auto,\n\u001b[0;32m    154\u001b[0m     parallel\u001b[39m=\u001b[39;49mparallel,\n\u001b[0;32m    155\u001b[0m )\n\u001b[0;32m    157\u001b[0m \u001b[39m# Create file(s) for output and write data\u001b[39;00m\n\u001b[0;32m    158\u001b[0m filenames, t_slices \u001b[39m=\u001b[39m _get_filenames_t_slices(\n\u001b[0;32m    159\u001b[0m     time_split_size, time_split_first_label, fullpath, outputs\u001b[39m.\u001b[39mtind\n\u001b[0;32m    160\u001b[0m )\n",
      "File \u001b[1;32mc:\\Users\\mikek\\anaconda3\\envs\\new\\lib\\site-packages\\boutdata\\data.py:1176\u001b[0m, in \u001b[0;36mBoutOutputs.__init__\u001b[1;34m(self, path, prefix, suffix, caching, DataFileCaching, info, xguards, yguards, tind, xind, yind, zind, tind_auto, parallel, **kwargs)\u001b[0m\n\u001b[0;32m   1174\u001b[0m     \u001b[39mself\u001b[39m\u001b[39m.\u001b[39m_init_caching()\n\u001b[0;32m   1175\u001b[0m \u001b[39mif\u001b[39;00m \u001b[39mself\u001b[39m\u001b[39m.\u001b[39m_parallel \u001b[39mis\u001b[39;00m \u001b[39mnot\u001b[39;00m \u001b[39mFalse\u001b[39;00m:\n\u001b[1;32m-> 1176\u001b[0m     \u001b[39mself\u001b[39;49m\u001b[39m.\u001b[39;49m_init_parallel()\n\u001b[0;32m   1177\u001b[0m \u001b[39mself\u001b[39m\u001b[39m.\u001b[39m_DataFileCache \u001b[39m=\u001b[39m \u001b[39mNone\u001b[39;00m\n",
      "File \u001b[1;32mc:\\Users\\mikek\\anaconda3\\envs\\new\\lib\\site-packages\\boutdata\\data.py:1252\u001b[0m, in \u001b[0;36mBoutOutputs._init_parallel\u001b[1;34m(self)\u001b[0m\n\u001b[0;32m   1247\u001b[0m filenum \u001b[39m=\u001b[39m filenum \u001b[39m+\u001b[39m files_per_proc[i]\n\u001b[0;32m   1248\u001b[0m worker \u001b[39m=\u001b[39m Process(\n\u001b[0;32m   1249\u001b[0m     target\u001b[39m=\u001b[39m\u001b[39mself\u001b[39m\u001b[39m.\u001b[39m_worker_function,\n\u001b[0;32m   1250\u001b[0m     args\u001b[39m=\u001b[39m(child_connection, proc_list, \u001b[39mself\u001b[39m\u001b[39m.\u001b[39m_shared_buffer_raw),\n\u001b[0;32m   1251\u001b[0m )\n\u001b[1;32m-> 1252\u001b[0m worker\u001b[39m.\u001b[39;49mstart()\n\u001b[0;32m   1253\u001b[0m \u001b[39mself\u001b[39m\u001b[39m.\u001b[39m_workers\u001b[39m.\u001b[39mappend((worker, parent_connection))\n",
      "File \u001b[1;32mc:\\Users\\mikek\\anaconda3\\envs\\new\\lib\\multiprocessing\\process.py:121\u001b[0m, in \u001b[0;36mBaseProcess.start\u001b[1;34m(self)\u001b[0m\n\u001b[0;32m    118\u001b[0m \u001b[39massert\u001b[39;00m \u001b[39mnot\u001b[39;00m _current_process\u001b[39m.\u001b[39m_config\u001b[39m.\u001b[39mget(\u001b[39m'\u001b[39m\u001b[39mdaemon\u001b[39m\u001b[39m'\u001b[39m), \\\n\u001b[0;32m    119\u001b[0m        \u001b[39m'\u001b[39m\u001b[39mdaemonic processes are not allowed to have children\u001b[39m\u001b[39m'\u001b[39m\n\u001b[0;32m    120\u001b[0m _cleanup()\n\u001b[1;32m--> 121\u001b[0m \u001b[39mself\u001b[39m\u001b[39m.\u001b[39m_popen \u001b[39m=\u001b[39m \u001b[39mself\u001b[39;49m\u001b[39m.\u001b[39;49m_Popen(\u001b[39mself\u001b[39;49m)\n\u001b[0;32m    122\u001b[0m \u001b[39mself\u001b[39m\u001b[39m.\u001b[39m_sentinel \u001b[39m=\u001b[39m \u001b[39mself\u001b[39m\u001b[39m.\u001b[39m_popen\u001b[39m.\u001b[39msentinel\n\u001b[0;32m    123\u001b[0m \u001b[39m# Avoid a refcycle if the target function holds an indirect\u001b[39;00m\n\u001b[0;32m    124\u001b[0m \u001b[39m# reference to the process object (see bpo-30775)\u001b[39;00m\n",
      "File \u001b[1;32mc:\\Users\\mikek\\anaconda3\\envs\\new\\lib\\multiprocessing\\context.py:224\u001b[0m, in \u001b[0;36mProcess._Popen\u001b[1;34m(process_obj)\u001b[0m\n\u001b[0;32m    222\u001b[0m \u001b[39m@staticmethod\u001b[39m\n\u001b[0;32m    223\u001b[0m \u001b[39mdef\u001b[39;00m \u001b[39m_Popen\u001b[39m(process_obj):\n\u001b[1;32m--> 224\u001b[0m     \u001b[39mreturn\u001b[39;00m _default_context\u001b[39m.\u001b[39;49mget_context()\u001b[39m.\u001b[39;49mProcess\u001b[39m.\u001b[39;49m_Popen(process_obj)\n",
      "File \u001b[1;32mc:\\Users\\mikek\\anaconda3\\envs\\new\\lib\\multiprocessing\\context.py:336\u001b[0m, in \u001b[0;36mSpawnProcess._Popen\u001b[1;34m(process_obj)\u001b[0m\n\u001b[0;32m    333\u001b[0m \u001b[39m@staticmethod\u001b[39m\n\u001b[0;32m    334\u001b[0m \u001b[39mdef\u001b[39;00m \u001b[39m_Popen\u001b[39m(process_obj):\n\u001b[0;32m    335\u001b[0m     \u001b[39mfrom\u001b[39;00m \u001b[39m.\u001b[39;00m\u001b[39mpopen_spawn_win32\u001b[39;00m \u001b[39mimport\u001b[39;00m Popen\n\u001b[1;32m--> 336\u001b[0m     \u001b[39mreturn\u001b[39;00m Popen(process_obj)\n",
      "File \u001b[1;32mc:\\Users\\mikek\\anaconda3\\envs\\new\\lib\\multiprocessing\\popen_spawn_win32.py:93\u001b[0m, in \u001b[0;36mPopen.__init__\u001b[1;34m(self, process_obj)\u001b[0m\n\u001b[0;32m     91\u001b[0m \u001b[39mtry\u001b[39;00m:\n\u001b[0;32m     92\u001b[0m     reduction\u001b[39m.\u001b[39mdump(prep_data, to_child)\n\u001b[1;32m---> 93\u001b[0m     reduction\u001b[39m.\u001b[39;49mdump(process_obj, to_child)\n\u001b[0;32m     94\u001b[0m \u001b[39mfinally\u001b[39;00m:\n\u001b[0;32m     95\u001b[0m     set_spawning_popen(\u001b[39mNone\u001b[39;00m)\n",
      "File \u001b[1;32mc:\\Users\\mikek\\anaconda3\\envs\\new\\lib\\multiprocessing\\reduction.py:60\u001b[0m, in \u001b[0;36mdump\u001b[1;34m(obj, file, protocol)\u001b[0m\n\u001b[0;32m     58\u001b[0m \u001b[39mdef\u001b[39;00m \u001b[39mdump\u001b[39m(obj, file, protocol\u001b[39m=\u001b[39m\u001b[39mNone\u001b[39;00m):\n\u001b[0;32m     59\u001b[0m \u001b[39m    \u001b[39m\u001b[39m'''Replacement for pickle.dump() using ForkingPickler.'''\u001b[39;00m\n\u001b[1;32m---> 60\u001b[0m     ForkingPickler(file, protocol)\u001b[39m.\u001b[39;49mdump(obj)\n",
      "File \u001b[1;32msrc\\netCDF4\\_netCDF4.pyx:2643\u001b[0m, in \u001b[0;36mnetCDF4._netCDF4.Dataset.__reduce__\u001b[1;34m()\u001b[0m\n",
      "\u001b[1;31mNotImplementedError\u001b[0m: Dataset is not picklable"
     ]
    }
   ],
   "source": [
    "squashoutput(\n",
    "    datadir = path,\n",
    "    outputname=\"BOUT.dmp.nc\",\n",
    "    xguards = True,\n",
    "    yguards = \"include_upper\",\n",
    "    parallel = 4,\n",
    ")"
   ]
  },
  {
   "cell_type": "code",
   "execution_count": 15,
   "metadata": {},
   "outputs": [
    {
     "name": "stdout",
     "output_type": "stream",
     "text": [
      "test written\n"
     ]
    }
   ],
   "source": [
    "write_file(ds, \"test\")"
   ]
  }
 ],
 "metadata": {
  "kernelspec": {
   "display_name": "new",
   "language": "python",
   "name": "python3"
  },
  "language_info": {
   "codemirror_mode": {
    "name": "ipython",
    "version": 3
   },
   "file_extension": ".py",
   "mimetype": "text/x-python",
   "name": "python",
   "nbconvert_exporter": "python",
   "pygments_lexer": "ipython3",
   "version": "3.10.9"
  },
  "orig_nbformat": 4
 },
 "nbformat": 4,
 "nbformat_minor": 2
}
