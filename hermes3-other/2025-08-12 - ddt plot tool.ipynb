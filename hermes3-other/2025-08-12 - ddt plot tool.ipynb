{
 "cells": [
  {
   "cell_type": "code",
   "execution_count": 2,
   "metadata": {},
   "outputs": [],
   "source": [
    "from boututils.datafile import DataFile\n",
    "from boutdata.collect import collect\n",
    "from boutdata.data import BoutData\n",
    "import os, sys\n",
    "import matplotlib\n",
    "\n",
    "import matplotlib.pyplot as plt\n",
    "import xbout\n",
    "import pandas as pd\n",
    "import numpy as np\n",
    "import xarray as xr\n",
    "\n",
    "from boutdata.restart import addvar\n",
    "import glob\n",
    "import shutil\n",
    "import scipy\n",
    "import netCDF4 as nc\n",
    "\n",
    "sys.path.append(r\"/home/mike/work/sdtools\")\n",
    "\n",
    "\n",
    "from hermes3.case_db import *\n",
    "from hermes3.load import *\n",
    "from hermes3.named_selections import *\n",
    "from hermes3.neutral_transport import NeutralTransport\n",
    "from hermes3.plotting import *\n",
    "from hermes3.grid_fields import *\n",
    "from hermes3.accessors import *\n",
    "from hermes3.utils import *\n",
    "from hermes3.balance1d import *\n",
    "# from code_comparison.code_comparison import *\n",
    "\n",
    "%load_ext autoreload\n",
    "%autoreload 2"
   ]
  },
  {
   "cell_type": "code",
   "execution_count": 3,
   "metadata": {},
   "outputs": [],
   "source": [
    "db = CaseDB(\n",
    "    case_dir = r\"/home/mike/work/cases\",\n",
    "    grid_dir = r\"/home/mike/work/cases\"\n",
    "    )"
   ]
  },
  {
   "cell_type": "code",
   "execution_count": 5,
   "metadata": {},
   "outputs": [
    {
     "name": "stdout",
     "output_type": "stream",
     "text": [
      "- Reading case upst1ac-malamas_settings\n",
      "-----------------------\n"
     ]
    },
    {
     "name": "stderr",
     "output_type": "stream",
     "text": [
      "/home/mike/work/xbout/xbout/load.py:1129: UserWarning: Will drop all variables containing the dimensions 't' because they are not recognised\n",
      "  warn(\n"
     ]
    },
    {
     "name": "stdout",
     "output_type": "stream",
     "text": [
      "\n",
      "Unnormalising with xHermes\n"
     ]
    }
   ],
   "source": [
    "toload = [ \n",
    "    dict(name=\"base\", id=\"upst1ac-malamas_settings\", unnormalise_geom = True, use_xhermes = True, squash = False), \n",
    "]\n",
    "cs = {}\n",
    "for case in toload:\n",
    "    cs[case[\"name\"]] = db.load_case_2D(case[\"id\"], use_squash = case[\"squash\"], verbose = True)\n",
    "    cs[case[\"name\"]].extract_2d_tokamak_geometry()\n"
   ]
  },
  {
   "cell_type": "code",
   "execution_count": 10,
   "metadata": {},
   "outputs": [
    {
     "ename": "TypeError",
     "evalue": "plot2d_polygon() got an unexpected keyword argument 'linthresh'",
     "output_type": "error",
     "traceback": [
      "\u001b[31m---------------------------------------------------------------------------\u001b[39m",
      "\u001b[31mTypeError\u001b[39m                                 Traceback (most recent call last)",
      "\u001b[36mCell\u001b[39m\u001b[36m \u001b[39m\u001b[32mIn[10]\u001b[39m\u001b[32m, line 6\u001b[39m\n\u001b[32m      4\u001b[39m style = {\u001b[33m\"\u001b[39m\u001b[33mcmap\u001b[39m\u001b[33m\"\u001b[39m : \u001b[33m\"\u001b[39m\u001b[33mSpectral_r\u001b[39m\u001b[33m\"\u001b[39m, \u001b[33m\"\u001b[39m\u001b[33mlogscale\u001b[39m\u001b[33m\"\u001b[39m : \u001b[38;5;28;01mTrue\u001b[39;00m, \u001b[33m\"\u001b[39m\u001b[33mantialias\u001b[39m\u001b[33m\"\u001b[39m : \u001b[38;5;28;01mTrue\u001b[39;00m, \u001b[33m\"\u001b[39m\u001b[33mlinthresh\u001b[39m\u001b[33m\"\u001b[39m : \u001b[32m1\u001b[39m}\n\u001b[32m      5\u001b[39m ax = axes[\u001b[32m0\u001b[39m]\n\u001b[32m----> \u001b[39m\u001b[32m6\u001b[39m \u001b[43mds\u001b[49m\u001b[43m[\u001b[49m\u001b[33;43m\"\u001b[39;49m\u001b[33;43mddt(Pd)\u001b[39;49m\u001b[33;43m\"\u001b[39;49m\u001b[43m]\u001b[49m\u001b[43m.\u001b[49m\u001b[43mhermesm\u001b[49m\u001b[43m.\u001b[49m\u001b[43mclean_guards\u001b[49m\u001b[43m(\u001b[49m\u001b[43m)\u001b[49m\u001b[43m.\u001b[49m\u001b[43mbout\u001b[49m\u001b[43m.\u001b[49m\u001b[43mpolygon\u001b[49m\u001b[43m(\u001b[49m\u001b[43max\u001b[49m\u001b[43m \u001b[49m\u001b[43m=\u001b[49m\u001b[43m \u001b[49m\u001b[43max\u001b[49m\u001b[43m,\u001b[49m\u001b[43m \u001b[49m\u001b[43m*\u001b[49m\u001b[43m*\u001b[49m\u001b[43mstyle\u001b[49m\u001b[43m)\u001b[49m\n\u001b[32m      8\u001b[39m ax.set_ylim(-\u001b[32m0.85\u001b[39m, \u001b[32m0.05\u001b[39m)\n",
      "\u001b[36mFile \u001b[39m\u001b[32m~/work/xbout/xbout/boutdataarray.py:1079\u001b[39m, in \u001b[36mBoutDataArrayAccessor.polygon\u001b[39m\u001b[34m(self, ax, **kwargs)\u001b[39m\n\u001b[32m   1075\u001b[39m \u001b[38;5;28;01mdef\u001b[39;00m\u001b[38;5;250m \u001b[39m\u001b[34mpolygon\u001b[39m(\u001b[38;5;28mself\u001b[39m, ax=\u001b[38;5;28;01mNone\u001b[39;00m, **kwargs):\n\u001b[32m   1076\u001b[39m \u001b[38;5;250m    \u001b[39m\u001b[33;03m\"\"\"\u001b[39;00m\n\u001b[32m   1077\u001b[39m \u001b[33;03m    Colour-plot of a radial-poloidal slice on the R-Z plane using polygons\u001b[39;00m\n\u001b[32m   1078\u001b[39m \u001b[33;03m    \"\"\"\u001b[39;00m\n\u001b[32m-> \u001b[39m\u001b[32m1079\u001b[39m     \u001b[38;5;28;01mreturn\u001b[39;00m \u001b[43mplotfuncs\u001b[49m\u001b[43m.\u001b[49m\u001b[43mplot2d_polygon\u001b[49m\u001b[43m(\u001b[49m\u001b[38;5;28;43mself\u001b[39;49m\u001b[43m.\u001b[49m\u001b[43mdata\u001b[49m\u001b[43m,\u001b[49m\u001b[43m \u001b[49m\u001b[43max\u001b[49m\u001b[43m=\u001b[49m\u001b[43max\u001b[49m\u001b[43m,\u001b[49m\u001b[43m \u001b[49m\u001b[43m*\u001b[49m\u001b[43m*\u001b[49m\u001b[43mkwargs\u001b[49m\u001b[43m)\u001b[49m\n",
      "\u001b[31mTypeError\u001b[39m: plot2d_polygon() got an unexpected keyword argument 'linthresh'"
     ]
    },
    {
     "data": {
      "image/png": "[encoded data removed]",
      "text/plain": [
       "<Figure size 1260x420 with 3 Axes>"
      ]
     },
     "metadata": {},
     "output_type": "display_data"
    }
   ],
   "source": [
    "ds = cs[\"base\"].ds.isel(t=-1)\n",
    "fig, axes = plt.subplots(1,3, figsize = (9,3))\n",
    "\n",
    "style = {\"cmap\" : \"Spectral_r\", \"logscale\" : True, \"antialias\" : True, \"linthresh\" : 1}\n",
    "ax = axes[0]\n",
    "ds[\"ddt(Pd)\"].hermesm.clean_guards().bout.polygon(ax = ax, **style)\n",
    "\n",
    "ax.set_ylim(-0.85, 0.05)"
   ]
  }
 ],
 "metadata": {
  "kernelspec": {
   "display_name": "base-3.12.5 (3.12.5)",
   "language": "python",
   "name": "python3"
  },
  "language_info": {
   "codemirror_mode": {
    "name": "ipython",
    "version": 3
   },
   "file_extension": ".py",
   "mimetype": "text/x-python",
   "name": "python",
   "nbconvert_exporter": "python",
   "pygments_lexer": "ipython3",
   "version": "3.12.5"
  }
 },
 "nbformat": 4,
 "nbformat_minor": 4
}
