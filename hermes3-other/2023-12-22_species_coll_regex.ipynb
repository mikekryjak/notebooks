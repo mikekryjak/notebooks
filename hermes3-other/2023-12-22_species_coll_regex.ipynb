{
 "cells": [
  {
   "cell_type": "code",
   "execution_count": 6,
   "metadata": {},
   "outputs": [],
   "source": [
    "import re\n",
    "from collections import defaultdict"
   ]
  },
  {
   "cell_type": "code",
   "execution_count": 33,
   "metadata": {},
   "outputs": [
    {
     "name": "stdout",
     "output_type": "stream",
     "text": [
      "ne+_iz\n",
      "ne+_rec\n",
      "ene+_coll\n",
      "ene_coll\n",
      "ee_coll\n",
      "nee_coll\n",
      "nene_coll\n",
      "nene+_coll\n",
      "nene+_cx\n",
      "ne+_iz\n",
      "ne+_rec\n",
      "ne+ne+_coll\n",
      "ne+ne_coll\n",
      "ne+ne_cx\n",
      "ne+e_coll\n"
     ]
    }
   ],
   "source": [
    "for name in rates:\n",
    "    for rate in rates[name]:\n",
    "        print(rate.replace(\"d\", \"ne\"))\n",
    "        "
   ]
  },
  {
   "cell_type": "code",
   "execution_count": 37,
   "metadata": {},
   "outputs": [
    {
     "name": "stdout",
     "output_type": "stream",
     "text": [
      "## Selected collisions:\n",
      "# ne+\n",
      "['ne+ne+_coll', 'ne+ne_coll', 'ne+ne_cx', 'ne+e_coll']\n",
      "# ne\n",
      "['nee_coll', 'nene_coll', 'nene+_coll', 'nene+_cx']\n",
      "# e\n",
      "['ene+_coll', 'ene_coll', 'ee_coll']\n"
     ]
    }
   ],
   "source": [
    "rates ={}\n",
    "rates[\"e\"] = [\"d+_iz\", \"d+_rec\", \"ed+_coll\", \"ed_coll\", \"ee_coll\"]\n",
    "rates[\"d\"] = [\"de_coll\", \"dd_coll\", \"dd+_coll\", \"dd+_cx\", \"d+_iz\"]\n",
    "rates[\"d+\"] = [\"d+_rec\", \"d+d+_coll\", \"d+d_coll\", \"d+d_cx\", \"d+e_coll\"]\n",
    "\n",
    "for name in [\"d+\", \"d\", \"e\"]:\n",
    "    rates[name.replace(\"d\", \"ne\")] = [rate.replace(\"d\", \"ne\") for rate in rates[name]]\n",
    "\n",
    "colls = defaultdict(list)\n",
    "\n",
    "# conduction_collisionality = \"standard\"\n",
    "conduction_collisionality = \"legacy\"\n",
    "\n",
    "# names = [\"d+\", \"d\", \"e\"]\n",
    "names = [\"ne+\", \"ne\", \"e\"]\n",
    "\n",
    "for name in names:\n",
    "    for collname in rates[name]:\n",
    "        \n",
    "        if conduction_collisionality == \"standard\":\n",
    "        \n",
    "            ## Electrons\n",
    "            # Only self-collisions\n",
    "            if name == \"e\": \n",
    "                if re.match('ee_coll', collname): \n",
    "                    colls[name].append(collname)\n",
    "                    \n",
    "            ## Ions\n",
    "            # Only self-collisions\n",
    "            elif re.match(\".*\\+\", name):\n",
    "                atomname = name[:-1]\n",
    "                if re.match(f\"{atomname}\\+{atomname}\\+_coll\", collname):\n",
    "                    print(\"yes\")\n",
    "                    colls[name].append(collname)\n",
    "                    \n",
    "            ## Neutrals\n",
    "            # Only IZ or CX\n",
    "            else:\n",
    "                if any([\n",
    "                    re.match(f\".*iz\", collname),\n",
    "                    re.match(f\".*cx\", collname),\n",
    "                    re.match(f\"{name}{name}_coll\", collname),\n",
    "                ]):\n",
    "                    colls[name].append(collname)\n",
    "                    \n",
    "        elif conduction_collisionality == \"legacy\":\n",
    "        \n",
    "            ## Electrons\n",
    "            # All collisions\n",
    "            if name == \"e\": \n",
    "                if re.match('.*coll', collname): \n",
    "                    colls[name].append(collname)\n",
    "                    \n",
    "            ## Ions\n",
    "            # Any collision involving ions plus CX\n",
    "            elif re.match(\".*\\+\", name):\n",
    "                atomname = name[:-1]\n",
    "                if any([\n",
    "                    re.match(f\".*coll\", collname),\n",
    "                    re.match(f\".*cx\", collname)\n",
    "                ]):\n",
    "                    colls[name].append(collname)\n",
    "                    \n",
    "            ## Neutrals\n",
    "            # Any collision involving neutrals except ionisation\n",
    "            else:\n",
    "                if not re.match(f\".*iz\", collname):\n",
    "                    colls[name].append(collname)\n",
    "\n",
    "\n",
    "        \n",
    "print(\"## Selected collisions:\")\n",
    "for name in names:\n",
    "    print(f\"# {name}\")\n",
    "    print(colls[name])"
   ]
  },
  {
   "cell_type": "code",
   "execution_count": 21,
   "metadata": {},
   "outputs": [],
   "source": [
    "re.match(f\"d+d+_coll\", \"d+d+_coll\")"
   ]
  }
 ],
 "metadata": {
  "kernelspec": {
   "display_name": "fusion-a-310",
   "language": "python",
   "name": "python3"
  },
  "language_info": {
   "codemirror_mode": {
    "name": "ipython",
    "version": 3
   },
   "file_extension": ".py",
   "mimetype": "text/x-python",
   "name": "python",
   "nbconvert_exporter": "python",
   "pygments_lexer": "ipython3",
   "version": "3.10.11"
  }
 },
 "nbformat": 4,
 "nbformat_minor": 2
}
