{
 "cells": [
  {
   "cell_type": "code",
   "execution_count": 4,
   "metadata": {},
   "outputs": [
    {
     "name": "stdout",
     "output_type": "stream",
     "text": [
      "The autoreload extension is already loaded. To reload it, use:\n",
      "  %reload_ext autoreload\n"
     ]
    }
   ],
   "source": [
    "from boututils.datafile import DataFile\n",
    "from boutdata.collect import collect\n",
    "from boutdata.data import BoutData\n",
    "import os, sys\n",
    "import matplotlib\n",
    "# matplotlib.use('Qt5Agg',force=True)\n",
    "# matplotlib.use(\"TKAgg\",force=True)\n",
    "# matplotlib.use(\"widget\",force=True)\n",
    "import matplotlib.pyplot as plt\n",
    "import xbout\n",
    "import pandas as pd\n",
    "import numpy as np\n",
    "import pickle as pkl\n",
    "import xarray as xr\n",
    "\n",
    "from boutdata.restart import addvar\n",
    "import glob\n",
    "import shutil\n",
    "\n",
    "import scipy\n",
    "import regex as re\n",
    "\n",
    "sys.path.append(r\"/ssd_scratch/scripts/sdtools\")\n",
    "\n",
    "\n",
    "from hermes3.case_db import *\n",
    "from hermes3.load import *\n",
    "from hermes3.named_selections import *\n",
    "from hermes3.neutral_transport import NeutralTransport\n",
    "from hermes3.plotting import *\n",
    "from hermes3.grid_fields import *\n",
    "from hermes3.accessors import *\n",
    "from hermes3.utils import *\n",
    "# from code_comparison.code_comparison import *\n",
    "\n",
    "\n",
    "%load_ext autoreload\n",
    "%autoreload 2"
   ]
  },
  {
   "cell_type": "markdown",
   "metadata": {},
   "source": [
    "# IO"
   ]
  },
  {
   "cell_type": "code",
   "execution_count": 2,
   "metadata": {},
   "outputs": [
    {
     "name": "stderr",
     "output_type": "stream",
     "text": [
      "/ssd_scratch/scripts/.venv/lib/python3.11/site-packages/xarray/core/concat.py:527: FutureWarning: unique with argument that is not not a Series, Index, ExtensionArray, or np.ndarray is deprecated and will raise in a future version.\n",
      "  common_dims = tuple(pd.unique([d for v in vars for d in v.dims]))\n"
     ]
    },
    {
     "name": "stdout",
     "output_type": "stream",
     "text": [
      "Skipping unnormalisation\n"
     ]
    }
   ],
   "source": [
    "cs = dict()\n",
    "\n",
    "db = CaseDB(\n",
    "    case_dir = r\"/ssd_scratch/hcases\",\n",
    "    grid_dir = r\"/ssd_scratch/hcases\"\n",
    "    )\n",
    "\n",
    "toload = [ \n",
    "    # dict(name=\"example\", id=\"1D-recycling-cvode\", guard_replace = False, unnormalise = False),  \n",
    "    # dict(name=\"test\", id=\"bl1b-test\", guard_replace = False, unnormalise = True),  \n",
    "    dict(name=\"step_loar\", id=\"spr45_nD_fimp-0-0_udens-1-86e20_redist\", guard_replace = False, unnormalise = True), \n",
    "    # dict(name=\"step_hiar\", id=\"spr45_nD_linPow_3x_fimp-6-0-2-3_redist\", guard_replace = False, unnormalise = True),  \n",
    "\n",
    "]\n",
    "\n",
    "for case in toload:\n",
    "    cs[case[\"name\"]] = Load.case_1D(db.casepaths[case[\"id\"]], guard_replace = case[\"guard_replace\"], unnormalise = case[\"unnormalise\"])\n"
   ]
  },
  {
   "cell_type": "markdown",
   "metadata": {},
   "source": [
    "# Balances function"
   ]
  },
  {
   "cell_type": "code",
   "execution_count": 5,
   "metadata": {},
   "outputs": [
    {
     "data": {
      "text/plain": [
       "Frozen({'pos': 420})"
      ]
     },
     "execution_count": 5,
     "metadata": {},
     "output_type": "execute_result"
    }
   ],
   "source": [
    "ds.dims"
   ]
  },
  {
   "cell_type": "code",
   "execution_count": 6,
   "metadata": {},
   "outputs": [
    {
     "name": "stdout",
     "output_type": "stream",
     "text": [
      "***Warning, species choice currently hardcoded\n",
      "\n"
     ]
    },
    {
     "ename": "NameError",
     "evalue": "name 're' is not defined",
     "output_type": "error",
     "traceback": [
      "\u001b[0;31m---------------------------------------------------------------------------\u001b[0m",
      "\u001b[0;31mNameError\u001b[0m                                 Traceback (most recent call last)",
      "Cell \u001b[0;32mIn[6], line 21\u001b[0m\n\u001b[1;32m     15\u001b[0m gamma_e \u001b[38;5;241m=\u001b[39m ds\u001b[38;5;241m.\u001b[39moptions[\u001b[38;5;124m\"\u001b[39m\u001b[38;5;124msheath_boundary_simple\u001b[39m\u001b[38;5;124m\"\u001b[39m][\u001b[38;5;124m\"\u001b[39m\u001b[38;5;124mgamma_e\u001b[39m\u001b[38;5;124m\"\u001b[39m]\n\u001b[1;32m     16\u001b[0m gamma_i \u001b[38;5;241m=\u001b[39m ds\u001b[38;5;241m.\u001b[39moptions[\u001b[38;5;124m\"\u001b[39m\u001b[38;5;124msheath_boundary_simple\u001b[39m\u001b[38;5;124m\"\u001b[39m][\u001b[38;5;124m\"\u001b[39m\u001b[38;5;124mgamma_i\u001b[39m\u001b[38;5;124m\"\u001b[39m]\n\u001b[0;32m---> 21\u001b[0m \u001b[43mcalculate_1d_balances\u001b[49m\u001b[43m(\u001b[49m\u001b[43mds\u001b[49m\u001b[43m)\u001b[49m\n",
      "File \u001b[0;32m/ssd_scratch/scripts/sdtools/hermes3/fluxes.py:42\u001b[0m, in \u001b[0;36mcalculate_1d_balances\u001b[0;34m(ds)\u001b[0m\n\u001b[1;32m     38\u001b[0m dom \u001b[38;5;241m=\u001b[39m ds\u001b[38;5;241m.\u001b[39misel(pos \u001b[38;5;241m=\u001b[39m \u001b[38;5;28mslice\u001b[39m(\u001b[38;5;241m2\u001b[39m,\u001b[38;5;241m-\u001b[39m\u001b[38;5;241m2\u001b[39m))\n\u001b[1;32m     40\u001b[0m \u001b[38;5;28mprint\u001b[39m(\u001b[38;5;124m\"\u001b[39m\u001b[38;5;124m***Warning, species choice currently hardcoded\u001b[39m\u001b[38;5;130;01m\\n\u001b[39;00m\u001b[38;5;124m\"\u001b[39m)\n\u001b[0;32m---> 42\u001b[0m sheath_flux_candidates \u001b[38;5;241m=\u001b[39m \u001b[43m[\u001b[49m\u001b[43mvar\u001b[49m\u001b[43m \u001b[49m\u001b[38;5;28;43;01mfor\u001b[39;49;00m\u001b[43m \u001b[49m\u001b[43mvar\u001b[49m\u001b[43m \u001b[49m\u001b[38;5;129;43;01min\u001b[39;49;00m\u001b[43m \u001b[49m\u001b[43mds\u001b[49m\u001b[38;5;241;43m.\u001b[39;49m\u001b[43mdata_vars\u001b[49m\u001b[43m \u001b[49m\u001b[38;5;28;43;01mif\u001b[39;49;00m\u001b[43m \u001b[49m\u001b[43mre\u001b[49m\u001b[38;5;241;43m.\u001b[39;49m\u001b[43msearch\u001b[49m\u001b[43m(\u001b[49m\u001b[38;5;124;43m\"\u001b[39;49m\u001b[38;5;124;43mS.*\u001b[39;49m\u001b[38;5;124;43m\\\u001b[39;49m\u001b[38;5;124;43m+_sheath\u001b[39;49m\u001b[38;5;124;43m\"\u001b[39;49m\u001b[43m,\u001b[49m\u001b[43m \u001b[49m\u001b[43mvar\u001b[49m\u001b[43m)\u001b[49m\u001b[43m]\u001b[49m\n\u001b[1;32m     43\u001b[0m \u001b[38;5;28;01mif\u001b[39;00m \u001b[38;5;28mlen\u001b[39m(sheath_flux_candidates) \u001b[38;5;241m==\u001b[39m \u001b[38;5;241m0\u001b[39m:\n\u001b[1;32m     44\u001b[0m     \u001b[38;5;28;01mraise\u001b[39;00m \u001b[38;5;167;01mValueError\u001b[39;00m(\u001b[38;5;124m\"\u001b[39m\u001b[38;5;124mNo sheath particle flux diagnostics found, check if Hermes-3 is saving it\u001b[39m\u001b[38;5;124m\"\u001b[39m)\n",
      "File \u001b[0;32m/ssd_scratch/scripts/sdtools/hermes3/fluxes.py:42\u001b[0m, in \u001b[0;36m<listcomp>\u001b[0;34m(.0)\u001b[0m\n\u001b[1;32m     38\u001b[0m dom \u001b[38;5;241m=\u001b[39m ds\u001b[38;5;241m.\u001b[39misel(pos \u001b[38;5;241m=\u001b[39m \u001b[38;5;28mslice\u001b[39m(\u001b[38;5;241m2\u001b[39m,\u001b[38;5;241m-\u001b[39m\u001b[38;5;241m2\u001b[39m))\n\u001b[1;32m     40\u001b[0m \u001b[38;5;28mprint\u001b[39m(\u001b[38;5;124m\"\u001b[39m\u001b[38;5;124m***Warning, species choice currently hardcoded\u001b[39m\u001b[38;5;130;01m\\n\u001b[39;00m\u001b[38;5;124m\"\u001b[39m)\n\u001b[0;32m---> 42\u001b[0m sheath_flux_candidates \u001b[38;5;241m=\u001b[39m [var \u001b[38;5;28;01mfor\u001b[39;00m var \u001b[38;5;129;01min\u001b[39;00m ds\u001b[38;5;241m.\u001b[39mdata_vars \u001b[38;5;28;01mif\u001b[39;00m \u001b[43mre\u001b[49m\u001b[38;5;241m.\u001b[39msearch(\u001b[38;5;124m\"\u001b[39m\u001b[38;5;124mS.*\u001b[39m\u001b[38;5;124m\\\u001b[39m\u001b[38;5;124m+_sheath\u001b[39m\u001b[38;5;124m\"\u001b[39m, var)]\n\u001b[1;32m     43\u001b[0m \u001b[38;5;28;01mif\u001b[39;00m \u001b[38;5;28mlen\u001b[39m(sheath_flux_candidates) \u001b[38;5;241m==\u001b[39m \u001b[38;5;241m0\u001b[39m:\n\u001b[1;32m     44\u001b[0m     \u001b[38;5;28;01mraise\u001b[39;00m \u001b[38;5;167;01mValueError\u001b[39;00m(\u001b[38;5;124m\"\u001b[39m\u001b[38;5;124mNo sheath particle flux diagnostics found, check if Hermes-3 is saving it\u001b[39m\u001b[38;5;124m\"\u001b[39m)\n",
      "\u001b[0;31mNameError\u001b[0m: name 're' is not defined"
     ]
    }
   ],
   "source": [
    "# def calculate_1d_balances(ds, unnormalised = True):\n",
    "ds = cs[\"step_loar\"].ds\n",
    "\n",
    "unnormalised = True\n",
    "\n",
    "if unnormalised is True:\n",
    "    mp = constants(\"mass_p\")\n",
    "    me = constants(\"mass_e\")\n",
    "    qe = constants(\"q_e\")\n",
    "else:\n",
    "    mp = 1\n",
    "    me = 1\n",
    "    qe = 1\n",
    "\n",
    "gamma_e = ds.options[\"sheath_boundary_simple\"][\"gamma_e\"]\n",
    "gamma_i = ds.options[\"sheath_boundary_simple\"][\"gamma_i\"]\n",
    "\n",
    "\n",
    "\n",
    "\n",
    "calculate_1d_balances(ds)\n"
   ]
  },
  {
   "cell_type": "code",
   "execution_count": 29,
   "metadata": {},
   "outputs": [
    {
     "ename": "NameError",
     "evalue": "name 'pbal' is not defined",
     "output_type": "error",
     "traceback": [
      "\u001b[0;31m---------------------------------------------------------------------------\u001b[0m",
      "\u001b[0;31mNameError\u001b[0m                                 Traceback (most recent call last)",
      "Cell \u001b[0;32mIn[29], line 1\u001b[0m\n\u001b[0;32m----> 1\u001b[0m \u001b[38;5;28;01mfor\u001b[39;00m param \u001b[38;5;129;01min\u001b[39;00m \u001b[43mpbal\u001b[49m:\n\u001b[1;32m      2\u001b[0m     \u001b[38;5;28mprint\u001b[39m(param)\n",
      "\u001b[0;31mNameError\u001b[0m: name 'pbal' is not defined"
     ]
    }
   ],
   "source": [
    "for param in pbal:\n",
    "    print(param)"
   ]
  },
  {
   "cell_type": "code",
   "execution_count": 10,
   "metadata": {},
   "outputs": [
    {
     "data": {
      "text/plain": [
       "array(3.19034116e+26)"
      ]
     },
     "execution_count": 10,
     "metadata": {},
     "output_type": "execute_result"
    }
   ],
   "source": [
    "\n",
    "def calculate_1d_heat_balance(ds):\n",
    "    last = ds.isel(pos = -2)\n",
    "    dom = ds.isel(pos = slice(2,-2))\n",
    "    \n",
    "    sheath_flux_candidates = [var for var in ds.data_vars if re.search(\"S.*\\+_sheath\", var)]\n",
    "    if len(sheath_flux_candidates) == 0:\n",
    "        raise ValueError(\"No sheath particle flux diagnostics found, check if Hermes-3 is saving it\")\n",
    "\n",
    "    def integral(data):\n",
    "        return (data * dom[\"dv\"]).sum(\"pos\").values\n",
    "\n",
    "    hfe_sheath = (dom[\"Ee_sheath\"] * dom[\"dv\"]).sum(\"pos\")\n",
    "    hfi_sheath = (dom[\"Ed+_sheath\"] * dom[\"dv\"]).sum(\"pos\")\n",
    "    hf_riz = (dom[\"Rd+_ex\"] * dom[\"dv\"]).sum(\"pos\")\n",
    "    hf_rec = (dom[\"Rd+_rec\"] * dom[\"dv\"]).sum(\"pos\")\n",
    "    hf_recycle = (dom[\"Ed_target_recycle\"] * dom[\"dv\"]).sum(\"pos\")\n",
    "        \n",
    "        \n",
    "\n",
    "    df = pd.DataFrame(columns = [\"value\"])\n",
    "    df.loc[\"Src\"] = ((dom[\"Pd+_src\"] + dom[\"Pe_src\"] + dom[\"Pd_src\"]) * (3/2) * dom[\"dv\"]).sum(\"pos\").values\n",
    "    df.loc[\"Riz\"] = hf_riz.values\n",
    "    df.loc[\"Rrec\"] = hf_rec.values\n",
    "    df.loc[\"Rar\"] = -1 * (dom[\"Rar\"] * dom[\"dv\"]).sum(\"pos\").values\n",
    "    df.loc[\"Recycle\"] = hf_recycle.values\n",
    "    df.loc[\"Sheath_e\"] = hfe_sheath.values\n",
    "    df.loc[\"Sheath_i\"] = hfi_sheath.values\n",
    "    df.loc[\"Sources sum\"] = df.loc[[\"Src\", \"Riz\", \"Rar\", \"Rrec\", \"Recycle\"]].sum()   # Should be zero\n",
    "    df.loc[\"Sheath\"] = hfe_sheath.values + hfi_sheath.values\n",
    "    df.loc[\"Error: (Sources sum + sheath)/Src\"] = (df.loc[\"Sources sum\"] + df.loc[\"Sheath\"]) / df.loc[\"Src\"]\n",
    "\n",
    "# df.loc[\"Error\"] = (df.loc[\"Recycle\"] + df.loc[\"Outflow\"]) / df.loc[\"Recycle\"]\n",
    "df\n",
    "\n",
    "# fig, ax = plt.subplots()\n",
    "\n",
    "# pf_iz.plot(label = \"iz\")\n",
    "# pf_recycle.plot(label = \"recycle\")\n",
    "# ds[\"pfd+_sheath\"].plot(label = \"ions out\")\n",
    "\n",
    "# ax.legend()\n"
   ]
  },
  {
   "cell_type": "markdown",
   "metadata": {},
   "source": [
    "# Reconstruction & balance"
   ]
  },
  {
   "cell_type": "markdown",
   "metadata": {},
   "source": [
    "## Functions"
   ]
  },
  {
   "cell_type": "markdown",
   "metadata": {},
   "source": [
    "# WARNING THIS MUST BE CORRECT"
   ]
  },
  {
   "cell_type": "code",
   "execution_count": 3,
   "metadata": {},
   "outputs": [],
   "source": [
    "unnormalise = toload[0][\"unnormalise\"]"
   ]
  },
  {
   "cell_type": "code",
   "execution_count": 4,
   "metadata": {},
   "outputs": [],
   "source": [
    "ds  = cs[\"step_loar\"].ds\n",
    "if \"t\" in ds.dims: ds = ds.isel(t=-1)\n",
    "\n",
    "\n",
    "if unnormalise is True:\n",
    "    mp = constants(\"mass_p\")\n",
    "    me = constants(\"mass_e\")\n",
    "    qe = constants(\"q_e\")\n",
    "else:\n",
    "    mp = 1\n",
    "    me = 1\n",
    "    qe = 1\n",
    "\n",
    "gamma_e = ds.options[\"sheath_boundary_simple\"][\"gamma_e\"]\n",
    "gamma_i = ds.options[\"sheath_boundary_simple\"][\"gamma_i\"]\n",
    "\n",
    "def limitFree(fm, fc):\n",
    "    #  Limited free gradient of log of a quantity\n",
    "    #  This ensures that the guard cell values remain positive\n",
    "    #  while also ensuring that the quantity never increases\n",
    "    # \n",
    "    #   fm  fc | fp\n",
    "    #          ^ boundary\n",
    "    # \n",
    "    #  exp( 2*log(fc) - log(fm) )\n",
    "    # \n",
    "\n",
    "    if fm < fc:\n",
    "        return  fc    # Neumann\n",
    "        \n",
    "    if fm < 1e-10:\n",
    "        return fc\n",
    "    \n",
    "    return  (fc**2 / fm).values"
   ]
  },
  {
   "cell_type": "markdown",
   "metadata": {},
   "source": [
    "# LIMITFREE WAS WRONG INITIALLY - I RETROACTIVELY FIXED IT BUT DIDNT RERUN NOTEBOOK"
   ]
  },
  {
   "cell_type": "markdown",
   "metadata": {},
   "source": [
    "## Guard cell / sheath"
   ]
  },
  {
   "cell_type": "code",
   "execution_count": 5,
   "metadata": {},
   "outputs": [
    {
     "name": "stdout",
     "output_type": "stream",
     "text": [
      "Ni_guard = 6.7227e+13\n",
      "Ti_guard = 7.7320e-01\n",
      "Pi_guard = 8.3282e-06\n",
      "visheath = 1.0152e+04\n",
      "nisheath = 2.2185e+14\n",
      "Vi_guard = 2.0189e+04\n",
      "nvisheath = 0.0000e+00\n",
      "cisqsheath = 6.4332e+26\n",
      "NVi_guard_code = -1.4637e-10\n",
      "NVi_guard_calc = 9.0092e+18\n"
     ]
    }
   ],
   "source": [
    "previous = ds.isel(pos=-4)\n",
    "last = ds.isel(pos=-3)\n",
    "guard = ds.isel(pos=-2)\n",
    "dom = ds.isel(pos = slice(2,-2))   # Domain\n",
    "\n",
    "ne_guard = limitFree(previous[\"Ne\"], last[\"Ne\"])\n",
    "ti_guard = limitFree(previous[\"Td+\"], last[\"Td+\"])\n",
    "te_guard = limitFree(previous[\"Te\"], last[\"Te\"])\n",
    "pi_guard = limitFree(previous[\"Pd+\"], last[\"Pd+\"])\n",
    "\n",
    "print(f\"Ni_guard = {ne_guard:.4e}\")\n",
    "print(f\"Ti_guard = {ti_guard:.4e}\")\n",
    "print(f\"Pi_guard = {pi_guard:.4e}\")\n",
    "\n",
    "\n",
    "def get_sheath(param):\n",
    "    return ((last[param] + guard[param]) / 2).values\n",
    "\n",
    "tesheath = get_sheath(\"Te\")\n",
    "tisheath = get_sheath(\"Td+\")\n",
    "visheath = get_sheath(\"Vd+\")\n",
    "nisheath = get_sheath(\"Nd+\")\n",
    "nesheath = get_sheath(\"Ne\")\n",
    "nvisheath = get_sheath(\"NVd+\")\n",
    "dasheath = get_sheath(\"da\")\n",
    "dvsheath = get_sheath(\"dv\")\n",
    "\n",
    "sheath_ion_polytropic = 1\n",
    "Zi = 1\n",
    "AA = 2\n",
    "Mi = mp * AA\n",
    "\n",
    "cisqsheath =  (sheath_ion_polytropic * tisheath + Zi * tesheath) / Mi\n",
    "\n",
    "NVi_guard_calc = 2 * AA * nisheath * visheath - last[\"NVd+\"].values\n",
    "\n",
    "\n",
    "print(f\"visheath = {visheath:.4e}\")\n",
    "print(f\"nisheath = {nisheath:.4e}\")\n",
    "print(f\"Vi_guard = {guard['Vd+']:.4e}\")\n",
    "print(f\"nvisheath = {nvisheath:.4e}\")\n",
    "print(f\"cisqsheath = {cisqsheath:.4e}\")\n",
    "print(f\"NVi_guard_code = {guard['NVd+']:.4e}\")\n",
    "print(f\"NVi_guard_calc = {NVi_guard_calc:.4e}\")"
   ]
  },
  {
   "cell_type": "code",
   "execution_count": 6,
   "metadata": {},
   "outputs": [
    {
     "name": "stdout",
     "output_type": "stream",
     "text": [
      "dasheath = 2.0444e+00\n",
      "dasheath2 = 2.0444e+00\n"
     ]
    }
   ],
   "source": [
    "dasheath2 =  last[\"dx\"] * last[\"dz\"] * (last[\"J\"] + guard[\"J\"]) / (np.sqrt(last[\"g_22\"]) + np.sqrt(guard[\"g_22\"]))\n",
    "\n",
    "print(f\"dasheath = {dasheath:.4e}\")\n",
    "print(f\"dasheath2 = {dasheath2:.4e}\")"
   ]
  },
  {
   "cell_type": "markdown",
   "metadata": {},
   "source": [
    "- Ni_guard, Ti_guard, Pi_guard are correct\n",
    "- Visheath is correct\n",
    "- cisqsheath is correct"
   ]
  },
  {
   "cell_type": "markdown",
   "metadata": {},
   "source": [
    "## Reconstructing PF "
   ]
  },
  {
   "cell_type": "code",
   "execution_count": 7,
   "metadata": {},
   "outputs": [
    {
     "name": "stdout",
     "output_type": "stream",
     "text": [
      "Sd+_sheath = -1.3004250391221345e+20\n",
      "Sd+_sheath2 = -1.300425039122135e+20\n"
     ]
    }
   ],
   "source": [
    "Si_sheath = np.zeros_like(ds[\"Ne\"].values)\n",
    "\n",
    "ds[\"Sd+_sheath2\"] = xr.DataArray(np.zeros_like(ds[\"Ne\"].values), dims = ds[\"Ne\"].dims, coords = ds[\"Ne\"].coords, attrs = ds[\"Ne\"].attrs)\n",
    "ds[\"Sd+_sheath2\"][dict(pos=-3)] = (visheath * nesheath * dasheath / last[\"dv\"]).values * -1\n",
    "ds[\"Sd+_sheath2\"].attrs.update(standard_name = \"particle source\", conversion = 1, units = \"m^-3 s^-1\", source = \"xHermes\", long_name = \"sheath particle source\")\n",
    "\n",
    "print(\"Sd+_sheath =\", ds[\"Sd+_sheath\"].isel(pos = -3).values)\n",
    "print(\"Sd+_sheath2 =\", ds[\"Sd+_sheath2\"].isel(pos = -3).values)"
   ]
  },
  {
   "cell_type": "markdown",
   "metadata": {},
   "source": [
    "# Particle balance"
   ]
  },
  {
   "cell_type": "code",
   "execution_count": 8,
   "metadata": {},
   "outputs": [
    {
     "data": {
      "text/html": [
       "<div>\n",
       "<style scoped>\n",
       "    .dataframe tbody tr th:only-of-type {\n",
       "        vertical-align: middle;\n",
       "    }\n",
       "\n",
       "    .dataframe tbody tr th {\n",
       "        vertical-align: top;\n",
       "    }\n",
       "\n",
       "    .dataframe thead th {\n",
       "        text-align: right;\n",
       "    }\n",
       "</style>\n",
       "<table border=\"1\" class=\"dataframe\">\n",
       "  <thead>\n",
       "    <tr style=\"text-align: right;\">\n",
       "      <th></th>\n",
       "      <th>value</th>\n",
       "    </tr>\n",
       "  </thead>\n",
       "  <tbody>\n",
       "    <tr>\n",
       "      <th>Src</th>\n",
       "      <td>0.000000e+00</td>\n",
       "    </tr>\n",
       "    <tr>\n",
       "      <th>PI</th>\n",
       "      <td>1.156510e+23</td>\n",
       "    </tr>\n",
       "    <tr>\n",
       "      <th>IZ</th>\n",
       "      <td>3.190341e+26</td>\n",
       "    </tr>\n",
       "    <tr>\n",
       "      <th>REC</th>\n",
       "      <td>-3.836461e+26</td>\n",
       "    </tr>\n",
       "    <tr>\n",
       "      <th>Recycle</th>\n",
       "      <td>4.604678e+18</td>\n",
       "    </tr>\n",
       "    <tr>\n",
       "      <th>Sheath</th>\n",
       "      <td>-4.604678e+18</td>\n",
       "    </tr>\n",
       "    <tr>\n",
       "      <th>Net sources</th>\n",
       "      <td>-6.449630e+25</td>\n",
       "    </tr>\n",
       "    <tr>\n",
       "      <th>Net sheath</th>\n",
       "      <td>0.000000e+00</td>\n",
       "    </tr>\n",
       "  </tbody>\n",
       "</table>\n",
       "</div>"
      ],
      "text/plain": [
       "                    value\n",
       "Src          0.000000e+00\n",
       "PI           1.156510e+23\n",
       "IZ           3.190341e+26\n",
       "REC         -3.836461e+26\n",
       "Recycle      4.604678e+18\n",
       "Sheath      -4.604678e+18\n",
       "Net sources -6.449630e+25\n",
       "Net sheath   0.000000e+00"
      ]
     },
     "execution_count": 8,
     "metadata": {},
     "output_type": "execute_result"
    }
   ],
   "source": [
    "df = pd.DataFrame(columns = [\"value\"])\n",
    "df.loc[\"Src\"] = (dom[\"Sd+_src\"] * dom[\"dv\"]).sum(\"pos\").values\n",
    "df.loc[\"PI\"] = (dom[\"Sd+_feedback\"] * dom[\"dv\"]).sum(\"pos\").values\n",
    "df.loc[\"IZ\"] = (dom[\"Sd+_iz\"] * dom[\"dv\"]).sum(\"pos\").values\n",
    "df.loc[\"REC\"] = (dom[\"Sd+_rec\"] * dom[\"dv\"]).sum(\"pos\").values\n",
    "df.loc[\"Recycle\"] = (dom[\"Sd_target_recycle\"] * dom[\"dv\"]).sum(\"pos\").values\n",
    "df.loc[\"Sheath\"] = (dom[\"Sd+_sheath\"] * dom[\"dv\"]).sum(\"pos\").values\n",
    "df.loc[\"Net sources\"] = (df.loc[[\"Src\", \"PI\", \"IZ\", \"REC\"]]).sum() \n",
    "df.loc[\"Net sheath\"] = (df.loc[[\"Recycle\", \"Sheath\"]]).sum()\n",
    "\n",
    "df\n"
   ]
  },
  {
   "cell_type": "markdown",
   "metadata": {},
   "source": [
    "Ni_guard = 0.613505\n",
    "Ti_guard = 0.849143\n",
    "Pi_guard = 0.520954"
   ]
  },
  {
   "cell_type": "markdown",
   "metadata": {},
   "source": [
    "# Energy balance"
   ]
  },
  {
   "cell_type": "code",
   "execution_count": 9,
   "metadata": {},
   "outputs": [
    {
     "data": {
      "text/plain": [
       "1.60217662e-19"
      ]
     },
     "execution_count": 9,
     "metadata": {},
     "output_type": "execute_result"
    }
   ],
   "source": [
    "qe"
   ]
  },
  {
   "cell_type": "code",
   "execution_count": 10,
   "metadata": {},
   "outputs": [
    {
     "data": {
      "text/html": [
       "<div>\n",
       "<style scoped>\n",
       "    .dataframe tbody tr th:only-of-type {\n",
       "        vertical-align: middle;\n",
       "    }\n",
       "\n",
       "    .dataframe tbody tr th {\n",
       "        vertical-align: top;\n",
       "    }\n",
       "\n",
       "    .dataframe thead th {\n",
       "        text-align: right;\n",
       "    }\n",
       "</style>\n",
       "<table border=\"1\" class=\"dataframe\">\n",
       "  <thead>\n",
       "    <tr style=\"text-align: right;\">\n",
       "      <th></th>\n",
       "      <th>value</th>\n",
       "    </tr>\n",
       "  </thead>\n",
       "  <tbody>\n",
       "    <tr>\n",
       "      <th>gamma_e</th>\n",
       "      <td>4.500000e+00</td>\n",
       "    </tr>\n",
       "    <tr>\n",
       "      <th>tesheath</th>\n",
       "      <td>1.380486e+00</td>\n",
       "    </tr>\n",
       "    <tr>\n",
       "      <th>nesheath</th>\n",
       "      <td>2.218484e+14</td>\n",
       "    </tr>\n",
       "    <tr>\n",
       "      <th>vesheath</th>\n",
       "      <td>1.015238e+04</td>\n",
       "    </tr>\n",
       "    <tr>\n",
       "      <th>q_e</th>\n",
       "      <td>2.241708e+00</td>\n",
       "    </tr>\n",
       "    <tr>\n",
       "      <th>da</th>\n",
       "      <td>2.044444e+00</td>\n",
       "    </tr>\n",
       "    <tr>\n",
       "      <th>dv</th>\n",
       "      <td>3.540902e-02</td>\n",
       "    </tr>\n",
       "    <tr>\n",
       "      <th>hflux_e</th>\n",
       "      <td>-1.294316e+02</td>\n",
       "    </tr>\n",
       "  </tbody>\n",
       "</table>\n",
       "</div>"
      ],
      "text/plain": [
       "                 value\n",
       "gamma_e   4.500000e+00\n",
       "tesheath  1.380486e+00\n",
       "nesheath  2.218484e+14\n",
       "vesheath  1.015238e+04\n",
       "q_e       2.241708e+00\n",
       "da        2.044444e+00\n",
       "dv        3.540902e-02\n",
       "hflux_e  -1.294316e+02"
      ]
     },
     "execution_count": 10,
     "metadata": {},
     "output_type": "execute_result"
    }
   ],
   "source": [
    "# Ion flow speed\n",
    "cisheath = cisqsheath**2\n",
    "\n",
    "# Parallel heat flux in W/m^2.\n",
    "# Note: Corrected for 5/2Pe convective thermal flux, and small electron kinetic energy flux\n",
    "# so gamma_e is the total *energy* flux coefficient.\n",
    "\n",
    "phi_wall = 0\n",
    "vesheath = visheath   # Only valid without currents\n",
    "q_e = gamma_e * qe * tesheath * nesheath * vesheath\n",
    "q_i = gamma_i * qe * tisheath * nesheath * visheath\n",
    "\n",
    "# hfi_sheath = last[\"Ed+_sheath\"]\n",
    "# hfi_sheath2 = q_i * dasheath / last[\"dv\"]\n",
    "\n",
    "# hfe_sheath = last[\"Ee_sheath\"]\n",
    "hflux_e = -q_e * dasheath / last[\"dv\"]\n",
    "\n",
    "# ds[\"hfe_sheath\"] = hfe\n",
    "# ds[\"hfd+_sheath\"] = hfi\n",
    "\n",
    "# ds[\"hfe_sheath\"].attrs.update(standard_name = \"heat flux\", units = \"W\", source = \"xHermes\", long_name = \"sheath heat flux\")\n",
    "# ds[\"hfd+_sheath\"].attrs.update(standard_name = \"heat flux\", units = \"W\", source = \"xHermes\", long_name = \"sheath heat flux\")\n",
    "\n",
    "df = pd.DataFrame(columns = [\"value\"])\n",
    "df.loc[\"gamma_e\"] = gamma_e\n",
    "df.loc[\"tesheath\"] = tesheath\n",
    "df.loc[\"nesheath\"] = nesheath\n",
    "df.loc[\"vesheath\"] = vesheath\n",
    "df.loc[\"q_e\"] = q_e\n",
    "df.loc[\"da\"] = dasheath\n",
    "df.loc[\"dv\"] = last[\"dv\"].values\n",
    "df.loc[\"hflux_e\"] = hflux_e.values\n",
    "# df.loc[\"hfe_sheath\"] = hfe_sheath.values\n",
    "# df.loc[\"hfe_sheath2\"] = hfe_sheath2.values\n",
    "\n",
    "# df.loc[\"q_i\"] = q_i\n",
    "# df.loc[\"da\"] = dasheath\n",
    "# df.loc[\"dv\"] = last[\"dv\"].values\n",
    "# df.loc[\"hflux_i\"] = hfi_sheath2.values\n",
    "# df.loc[\"hfi_sheath\"] = hfi_sheath.values\n",
    "# df.loc[\"hfi_sheath2\"] = hfi_sheath2\n",
    "\n",
    "df"
   ]
  },
  {
   "cell_type": "code",
   "execution_count": null,
   "metadata": {},
   "outputs": [],
   "source": []
  },
  {
   "cell_type": "code",
   "execution_count": 11,
   "metadata": {},
   "outputs": [
    {
     "data": {
      "text/html": [
       "<div>\n",
       "<style scoped>\n",
       "    .dataframe tbody tr th:only-of-type {\n",
       "        vertical-align: middle;\n",
       "    }\n",
       "\n",
       "    .dataframe tbody tr th {\n",
       "        vertical-align: top;\n",
       "    }\n",
       "\n",
       "    .dataframe thead th {\n",
       "        text-align: right;\n",
       "    }\n",
       "</style>\n",
       "<table border=\"1\" class=\"dataframe\">\n",
       "  <thead>\n",
       "    <tr style=\"text-align: right;\">\n",
       "      <th></th>\n",
       "      <th>value</th>\n",
       "    </tr>\n",
       "  </thead>\n",
       "  <tbody>\n",
       "    <tr>\n",
       "      <th>Src</th>\n",
       "      <td>7.741072e+08</td>\n",
       "    </tr>\n",
       "    <tr>\n",
       "      <th>Riz</th>\n",
       "      <td>-8.868326e+08</td>\n",
       "    </tr>\n",
       "    <tr>\n",
       "      <th>Rrec</th>\n",
       "      <td>2.457496e+08</td>\n",
       "    </tr>\n",
       "    <tr>\n",
       "      <th>Rar</th>\n",
       "      <td>-9.201240e+02</td>\n",
       "    </tr>\n",
       "    <tr>\n",
       "      <th>Recycle</th>\n",
       "      <td>2.213252e+00</td>\n",
       "    </tr>\n",
       "    <tr>\n",
       "      <th>Sheath_e</th>\n",
       "      <td>-4.583046e+00</td>\n",
       "    </tr>\n",
       "    <tr>\n",
       "      <th>Sheath_i</th>\n",
       "      <td>-1.423060e+00</td>\n",
       "    </tr>\n",
       "    <tr>\n",
       "      <th>Sources sum</th>\n",
       "      <td>1.330234e+08</td>\n",
       "    </tr>\n",
       "    <tr>\n",
       "      <th>Sheath</th>\n",
       "      <td>-6.006106e+00</td>\n",
       "    </tr>\n",
       "    <tr>\n",
       "      <th>Error: (Sources sum + sheath)/Src</th>\n",
       "      <td>1.718410e-01</td>\n",
       "    </tr>\n",
       "  </tbody>\n",
       "</table>\n",
       "</div>"
      ],
      "text/plain": [
       "                                          value\n",
       "Src                                7.741072e+08\n",
       "Riz                               -8.868326e+08\n",
       "Rrec                               2.457496e+08\n",
       "Rar                               -9.201240e+02\n",
       "Recycle                            2.213252e+00\n",
       "Sheath_e                          -4.583046e+00\n",
       "Sheath_i                          -1.423060e+00\n",
       "Sources sum                        1.330234e+08\n",
       "Sheath                            -6.006106e+00\n",
       "Error: (Sources sum + sheath)/Src  1.718410e-01"
      ]
     },
     "execution_count": 11,
     "metadata": {},
     "output_type": "execute_result"
    }
   ],
   "source": [
    "\n",
    "last = ds.isel(pos = -2)\n",
    "dom = ds.isel(pos = slice(2,-2))\n",
    "\n",
    "hfe_sheath = (dom[\"Ee_sheath\"] * dom[\"dv\"]).sum(\"pos\")\n",
    "hfi_sheath = (dom[\"Ed+_sheath\"] * dom[\"dv\"]).sum(\"pos\")\n",
    "hf_riz = (dom[\"Rd+_ex\"] * dom[\"dv\"]).sum(\"pos\")\n",
    "hf_rec = (dom[\"Rd+_rec\"] * dom[\"dv\"]).sum(\"pos\")\n",
    "hf_recycle = (dom[\"Ed_target_recycle\"] * dom[\"dv\"]).sum(\"pos\")\n",
    "    \n",
    "    \n",
    "\n",
    "df = pd.DataFrame(columns = [\"value\"])\n",
    "df.loc[\"Src\"] = ((dom[\"Pd+_src\"] + dom[\"Pe_src\"] + dom[\"Pd_src\"]) * (3/2) * dom[\"dv\"]).sum(\"pos\").values\n",
    "df.loc[\"Riz\"] = hf_riz.values\n",
    "df.loc[\"Rrec\"] = hf_rec.values\n",
    "df.loc[\"Rar\"] = -1 * (dom[\"Rar\"] * dom[\"dv\"]).sum(\"pos\").values\n",
    "df.loc[\"Recycle\"] = hf_recycle.values\n",
    "df.loc[\"Sheath_e\"] = hfe_sheath.values\n",
    "df.loc[\"Sheath_i\"] = hfi_sheath.values\n",
    "df.loc[\"Sources sum\"] = df.loc[[\"Src\", \"Riz\", \"Rar\", \"Rrec\", \"Recycle\"]].sum()   # Should be zero\n",
    "df.loc[\"Sheath\"] = hfe_sheath.values + hfi_sheath.values\n",
    "df.loc[\"Error: (Sources sum + sheath)/Src\"] = (df.loc[\"Sources sum\"] + df.loc[\"Sheath\"]) / df.loc[\"Src\"]\n",
    "\n",
    "# df.loc[\"Error\"] = (df.loc[\"Recycle\"] + df.loc[\"Outflow\"]) / df.loc[\"Recycle\"]\n",
    "df\n",
    "\n",
    "# fig, ax = plt.subplots()\n",
    "\n",
    "# pf_iz.plot(label = \"iz\")\n",
    "# pf_recycle.plot(label = \"recycle\")\n",
    "# ds[\"pfd+_sheath\"].plot(label = \"ions out\")\n",
    "\n",
    "# ax.legend()\n"
   ]
  },
  {
   "cell_type": "code",
   "execution_count": 48,
   "metadata": {},
   "outputs": [
    {
     "data": {
      "text/plain": [
       "0.8311688311688312"
      ]
     },
     "execution_count": 48,
     "metadata": {},
     "output_type": "execute_result"
    }
   ],
   "source": [
    "(77-13)/77"
   ]
  },
  {
   "cell_type": "code",
   "execution_count": 42,
   "metadata": {},
   "outputs": [
    {
     "data": {
      "text/plain": [
       "Data variables:\n",
       "    Bxy                            (pos) float64 dask.array<chunksize=(54,), meta=np.ndarray>\n",
       "    Dd_Dpar                        (pos) float64 dask.array<chunksize=(54,), meta=np.ndarray>\n",
       "    Ed+_iz                         (pos) float64 dask.array<chunksize=(54,), meta=np.ndarray>\n",
       "    Ed+_rec                        (pos) float64 dask.array<chunksize=(54,), meta=np.ndarray>\n",
       "    Ed+_sheath                     (pos) float64 dask.array<chunksize=(54,), meta=np.ndarray>\n",
       "    Ed_Dpar                        (pos) float64 dask.array<chunksize=(54,), meta=np.ndarray>\n",
       "    Ed_target_recycle              (pos) float64 dask.array<chunksize=(54,), meta=np.ndarray>\n",
       "    Edd+_cx                        (pos) float64 dask.array<chunksize=(54,), meta=np.ndarray>\n",
       "    Ee_sheath                      (pos) float64 dask.array<chunksize=(54,), meta=np.ndarray>\n",
       "    EnergyFlow_d+_ylow             (pos) float64 dask.array<chunksize=(54,), meta=np.ndarray>\n",
       "    EnergyFlow_e_ylow              (pos) float64 dask.array<chunksize=(54,), meta=np.ndarray>\n",
       "    Fd+_iz                         (pos) float64 dask.array<chunksize=(54,), meta=np.ndarray>\n",
       "    Fd+_rec                        (pos) float64 dask.array<chunksize=(54,), meta=np.ndarray>\n",
       "    Fd_Dpar                        (pos) float64 dask.array<chunksize=(54,), meta=np.ndarray>\n",
       "    Fdd+_cx                        (pos) float64 dask.array<chunksize=(54,), meta=np.ndarray>\n",
       "    G1                             (pos) float64 dask.array<chunksize=(54,), meta=np.ndarray>\n",
       "    G2                             (pos) float64 dask.array<chunksize=(54,), meta=np.ndarray>\n",
       "    G3                             (pos) float64 dask.array<chunksize=(54,), meta=np.ndarray>\n",
       "    J                              (pos) float64 dask.array<chunksize=(54,), meta=np.ndarray>\n",
       "    Kdd+_cx                        (pos) float64 dask.array<chunksize=(54,), meta=np.ndarray>\n",
       "    NVd                            (pos) float64 dask.array<chunksize=(54,), meta=np.ndarray>\n",
       "    NVd+                           (pos) float64 dask.array<chunksize=(54,), meta=np.ndarray>\n",
       "    Nd                             (pos) float64 dask.array<chunksize=(54,), meta=np.ndarray>\n",
       "    Nd+                            (pos) float64 dask.array<chunksize=(54,), meta=np.ndarray>\n",
       "    Ne                             (pos) float64 dask.array<chunksize=(54,), meta=np.ndarray>\n",
       "    Pd                             (pos) float64 dask.array<chunksize=(54,), meta=np.ndarray>\n",
       "    Pd+                            (pos) float64 dask.array<chunksize=(54,), meta=np.ndarray>\n",
       "    Pd+_src                        (pos) float64 dask.array<chunksize=(54,), meta=np.ndarray>\n",
       "    Pd_src                         (pos) float64 dask.array<chunksize=(54,), meta=np.ndarray>\n",
       "    Pe                             (pos) float64 dask.array<chunksize=(54,), meta=np.ndarray>\n",
       "    Pe_src                         (pos) float64 dask.array<chunksize=(54,), meta=np.ndarray>\n",
       "    Rar                            (pos) float64 dask.array<chunksize=(54,), meta=np.ndarray>\n",
       "    Rd+_ex                         (pos) float64 dask.array<chunksize=(54,), meta=np.ndarray>\n",
       "    Rd+_rec                        (pos) float64 dask.array<chunksize=(54,), meta=np.ndarray>\n",
       "    SNVd                           (pos) float64 dask.array<chunksize=(54,), meta=np.ndarray>\n",
       "    SNVd+                          (pos) float64 dask.array<chunksize=(54,), meta=np.ndarray>\n",
       "    SNd                            (pos) float64 dask.array<chunksize=(54,), meta=np.ndarray>\n",
       "    SNd+                           (pos) float64 dask.array<chunksize=(54,), meta=np.ndarray>\n",
       "    SPd                            (pos) float64 dask.array<chunksize=(54,), meta=np.ndarray>\n",
       "    SPd+                           (pos) float64 dask.array<chunksize=(54,), meta=np.ndarray>\n",
       "    SPe                            (pos) float64 dask.array<chunksize=(54,), meta=np.ndarray>\n",
       "    Sd+_feedback                   (pos) float64 dask.array<chunksize=(54,), meta=np.ndarray>\n",
       "    Sd+_iz                         (pos) float64 dask.array<chunksize=(54,), meta=np.ndarray>\n",
       "    Sd+_rec                        (pos) float64 dask.array<chunksize=(54,), meta=np.ndarray>\n",
       "    Sd+_sheath                     (pos) float64 dask.array<chunksize=(54,), meta=np.ndarray>\n",
       "    Sd+_src                        (pos) float64 dask.array<chunksize=(54,), meta=np.ndarray>\n",
       "    Sd_Dpar                        (pos) float64 dask.array<chunksize=(54,), meta=np.ndarray>\n",
       "    Sd_src                         (pos) float64 dask.array<chunksize=(54,), meta=np.ndarray>\n",
       "    Sd_target_recycle              (pos) float64 dask.array<chunksize=(54,), meta=np.ndarray>\n",
       "    Td                             (pos) float64 dask.array<chunksize=(54,), meta=np.ndarray>\n",
       "    Td+                            (pos) float64 dask.array<chunksize=(54,), meta=np.ndarray>\n",
       "    Te                             (pos) float64 dask.array<chunksize=(54,), meta=np.ndarray>\n",
       "    Vd                             (pos) float64 dask.array<chunksize=(54,), meta=np.ndarray>\n",
       "    Vd+                            (pos) float64 dask.array<chunksize=(54,), meta=np.ndarray>\n",
       "    Ve                             (pos) float64 dask.array<chunksize=(54,), meta=np.ndarray>\n",
       "    cvode_last_order               int32 dask.array<chunksize=(), meta=np.ndarray>\n",
       "    cvode_last_step                float64 dask.array<chunksize=(), meta=np.ndarray>\n",
       "    cvode_nfevals                  int32 dask.array<chunksize=(), meta=np.ndarray>\n",
       "    cvode_nliters                  int32 dask.array<chunksize=(), meta=np.ndarray>\n",
       "    cvode_nniters                  int32 dask.array<chunksize=(), meta=np.ndarray>\n",
       "    cvode_nonlin_fails             int32 dask.array<chunksize=(), meta=np.ndarray>\n",
       "    cvode_npevals                  int32 dask.array<chunksize=(), meta=np.ndarray>\n",
       "    cvode_nsteps                   int32 dask.array<chunksize=(), meta=np.ndarray>\n",
       "    cvode_num_fails                int32 dask.array<chunksize=(), meta=np.ndarray>\n",
       "    cvode_stab_lims                int32 dask.array<chunksize=(), meta=np.ndarray>\n",
       "    ddt(NVd)                       (pos) float64 dask.array<chunksize=(54,), meta=np.ndarray>\n",
       "    ddt(NVd+)                      (pos) float64 dask.array<chunksize=(54,), meta=np.ndarray>\n",
       "    ddt(Nd)                        (pos) float64 dask.array<chunksize=(54,), meta=np.ndarray>\n",
       "    ddt(Nd+)                       (pos) float64 dask.array<chunksize=(54,), meta=np.ndarray>\n",
       "    ddt(Pd)                        (pos) float64 dask.array<chunksize=(54,), meta=np.ndarray>\n",
       "    ddt(Pd+)                       (pos) float64 dask.array<chunksize=(54,), meta=np.ndarray>\n",
       "    ddt(Pe)                        (pos) float64 dask.array<chunksize=(54,), meta=np.ndarray>\n",
       "    density_feedback_src_i_d+      float64 dask.array<chunksize=(), meta=np.ndarray>\n",
       "    density_feedback_src_mult_d+   float64 dask.array<chunksize=(), meta=np.ndarray>\n",
       "    density_feedback_src_p_d+      float64 dask.array<chunksize=(), meta=np.ndarray>\n",
       "    density_feedback_src_shape_d+  (pos) float64 dask.array<chunksize=(54,), meta=np.ndarray>\n",
       "    g11                            (pos) float64 dask.array<chunksize=(54,), meta=np.ndarray>\n",
       "    g12                            (pos) float64 dask.array<chunksize=(54,), meta=np.ndarray>\n",
       "    g13                            (pos) float64 dask.array<chunksize=(54,), meta=np.ndarray>\n",
       "    g22                            (pos) float64 dask.array<chunksize=(54,), meta=np.ndarray>\n",
       "    g23                            (pos) float64 dask.array<chunksize=(54,), meta=np.ndarray>\n",
       "    g33                            (pos) float64 dask.array<chunksize=(54,), meta=np.ndarray>\n",
       "    g_11                           (pos) float64 dask.array<chunksize=(54,), meta=np.ndarray>\n",
       "    g_12                           (pos) float64 dask.array<chunksize=(54,), meta=np.ndarray>\n",
       "    g_13                           (pos) float64 dask.array<chunksize=(54,), meta=np.ndarray>\n",
       "    g_22                           (pos) float64 dask.array<chunksize=(54,), meta=np.ndarray>\n",
       "    g_23                           (pos) float64 dask.array<chunksize=(54,), meta=np.ndarray>\n",
       "    g_33                           (pos) float64 dask.array<chunksize=(54,), meta=np.ndarray>\n",
       "    kappa_par_d+                   (pos) float64 dask.array<chunksize=(54,), meta=np.ndarray>\n",
       "    kappa_par_e                    (pos) float64 dask.array<chunksize=(54,), meta=np.ndarray>\n",
       "    t_array                        float64 dask.array<chunksize=(), meta=np.ndarray>\n",
       "    ncalls                         int32 dask.array<chunksize=(), meta=np.ndarray>\n",
       "    ncalls_e                       int32 dask.array<chunksize=(), meta=np.ndarray>\n",
       "    ncalls_i                       int32 dask.array<chunksize=(), meta=np.ndarray>\n",
       "    wall_time                      float64 dask.array<chunksize=(), meta=np.ndarray>\n",
       "    wtime                          float64 dask.array<chunksize=(), meta=np.ndarray>\n",
       "    wtime_comms                    float64 dask.array<chunksize=(), meta=np.ndarray>\n",
       "    wtime_invert                   float64 dask.array<chunksize=(), meta=np.ndarray>\n",
       "    wtime_io                       float64 dask.array<chunksize=(), meta=np.ndarray>\n",
       "    wtime_per_rhs                  float64 dask.array<chunksize=(), meta=np.ndarray>\n",
       "    wtime_per_rhs_e                float64 dask.array<chunksize=(), meta=np.ndarray>\n",
       "    wtime_per_rhs_i                float64 dask.array<chunksize=(), meta=np.ndarray>\n",
       "    wtime_rhs                      float64 dask.array<chunksize=(), meta=np.ndarray>\n",
       "    da                             (pos) float64 dask.array<chunksize=(54,), meta=np.ndarray>\n",
       "    dv                             (pos) float64 dask.array<chunksize=(54,), meta=np.ndarray>\n",
       "    Sd+_sheath2                    (pos) float64 0.0 0.0 0.0 ... 0.0 0.0"
      ]
     },
     "execution_count": 42,
     "metadata": {},
     "output_type": "execute_result"
    }
   ],
   "source": [
    "ds.data_vars"
   ]
  },
  {
   "cell_type": "code",
   "execution_count": 8,
   "metadata": {},
   "outputs": [],
   "source": [
    "for param in ds.data_vars:\n",
    "    if \"pos\" in ds[param].dims:\n",
    "        ds[param][-2] = (ds[param][-2] + ds[param][-3])/2"
   ]
  },
  {
   "cell_type": "code",
   "execution_count": 15,
   "metadata": {},
   "outputs": [],
   "source": [
    "ds = cs[\"noneut\"].ds\n",
    "\n",
    "# Guard replace to get position at boundaries\n",
    "newpos = ds[\"pos\"].values\n",
    "attrs = ds[\"pos\"].attrs\n",
    "newpos[-2] = (newpos[-3] + newpos[-2])/2\n",
    "newpos[1] = (newpos[1] + newpos[2])/2 \n",
    "\n",
    "ds.assign_coords(pos = newpos)\n",
    "ds[\"pos\"].attrs.update(attrs)\n"
   ]
  },
  {
   "cell_type": "code",
   "execution_count": 4,
   "metadata": {},
   "outputs": [
    {
     "data": {
      "text/plain": [
       "dict_keys(['noneut'])"
      ]
     },
     "execution_count": 4,
     "metadata": {},
     "output_type": "execute_result"
    }
   ],
   "source": [
    "cs.keys()"
   ]
  },
  {
   "cell_type": "markdown",
   "metadata": {},
   "source": [
    "# Convergence"
   ]
  },
  {
   "cell_type": "code",
   "execution_count": null,
   "metadata": {},
   "outputs": [
    {
     "name": "stderr",
     "output_type": "stream",
     "text": [
      "/ssd_scratch/scripts/sdtools/hermes3/accessors.py:7: AccessorRegistrationWarning: registration of accessor <class 'hermes3.accessors.HermesDataArrayAccessor'> under name 'hermesm' for type <class 'xarray.core.dataarray.DataArray'> is overriding a preexisting attribute with the same name.\n",
      "  @register_dataarray_accessor(\"hermesm\")\n",
      "/ssd_scratch/scripts/sdtools/hermes3/accessors.py:44: AccessorRegistrationWarning: registration of accessor <class 'hermes3.accessors.HermesDatasetAccessor'> under name 'hermesm' for type <class 'xarray.core.dataset.Dataset'> is overriding a preexisting attribute with the same name.\n",
      "  @register_dataset_accessor(\"hermesm\")\n"
     ]
    }
   ],
   "source": [
    "cs[\"example\"].ds.hermesm.get_cvode_metrics()"
   ]
  },
  {
   "cell_type": "code",
   "execution_count": null,
   "metadata": {},
   "outputs": [
    {
     "name": "stdout",
     "output_type": "stream",
     "text": [
      "Warning: not including target cell\n",
      "Warning: not including target cell\n",
      "Warning: not including target cell\n",
      "Warning: not including target cell\n",
      "Warning: not including target cell\n"
     ]
    },
    {
     "data": {
      "image/png": "[encoded data removed]",
      "text/plain": [
       "<Figure size 2649.6x480 with 6 Axes>"
      ]
     },
     "metadata": {},
     "output_type": "display_data"
    }
   ],
   "source": [
    "case = \"test\"\n",
    "\n",
    "lineplot(\n",
    "    {\n",
    "        \"start\":cs[case].ds.isel(t=0),\n",
    "        \"-4\":cs[case].ds.isel(t=-4),\n",
    "        \"-3\":cs[case].ds.isel(t=-3),\n",
    "        \"-2\":cs[case].ds.isel(t=-2),\n",
    "        \"last\":cs[case].ds.isel(t=-1),\n",
    "\n",
    "    },\n",
    "    clean_guards = True,\n",
    "    params = [\"Td+\", \"Te\", \"Td\", \"Ne\", \"Nd\", \"NVd\"],\n",
    "    regions = [\"1d\"],\n",
    "    lw = 0.5,\n",
    "    markersize = 0\n",
    "    # xlims=(8,10.3)\n",
    ")"
   ]
  }
 ],
 "metadata": {
  "kernelspec": {
   "display_name": ".venv",
   "language": "python",
   "name": "python3"
  },
  "language_info": {
   "codemirror_mode": {
    "name": "ipython",
    "version": 3
   },
   "file_extension": ".py",
   "mimetype": "text/x-python",
   "name": "python",
   "nbconvert_exporter": "python",
   "pygments_lexer": "ipython3",
   "version": "3.11.9"
  }
 },
 "nbformat": 4,
 "nbformat_minor": 4
}
