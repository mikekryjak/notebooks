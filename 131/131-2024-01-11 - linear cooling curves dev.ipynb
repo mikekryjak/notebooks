{
 "cells": [
  {
   "cell_type": "code",
   "execution_count": 1,
   "metadata": {},
   "outputs": [],
   "source": [
    "from boututils.datafile import DataFile\n",
    "from boutdata.collect import collect\n",
    "from boutdata.data import BoutData\n",
    "import os, sys\n",
    "import matplotlib\n",
    "# matplotlib.use('Qt5Agg',force=True)\n",
    "# matplotlib.use(\"TKAgg\",force=True)\n",
    "# matplotlib.use(\"widget\",force=True)\n",
    "import matplotlib.pyplot as plt\n",
    "import xbout\n",
    "import pandas as pd\n",
    "import numpy as np\n",
    "import pickle as pkl\n",
    "import xarray as xr\n",
    "\n",
    "from boutdata.restart import addvar\n",
    "import glob\n",
    "import shutil\n",
    "\n",
    "import scipy\n",
    "\n",
    "sys.path.append(r\"/ssd_scratch/scripts/sdtools\")\n",
    "\n",
    "\n",
    "from hermes3.case_db import *\n",
    "from hermes3.load import *\n",
    "from hermes3.named_selections import *\n",
    "from hermes3.plotting import *\n",
    "from hermes3.grid_fields import *\n",
    "from hermes3.accessors import *\n",
    "from hermes3.utils import *\n",
    "# from code_comparison.code_comparison import *\n",
    "\n",
    "\n",
    "%load_ext autoreload\n",
    "%autoreload 2"
   ]
  },
  {
   "cell_type": "markdown",
   "metadata": {},
   "source": [
    "# NOTE: also done in a local notebook cause 131 was being slow\n",
    "## see hermes3-other\n"
   ]
  },
  {
   "cell_type": "code",
   "execution_count": 2,
   "metadata": {},
   "outputs": [
    {
     "name": "stdout",
     "output_type": "stream",
     "text": [
      "Unnormalising with xHermes\n"
     ]
    }
   ],
   "source": [
    "db = CaseDB(\n",
    "    case_dir = r\"/ssd_scratch/hcases\",\n",
    "    grid_dir = r\"/ssd_scratch/hcases\"\n",
    "    )\n",
    "\n",
    "toload = [ \n",
    "    dict(name=\"simple1\", id=\"scc2-simpleAr1\", unnormalise_geom = True, use_xhermes = True),  \n",
    "]\n",
    "cs = {}\n",
    "for case in toload:\n",
    "    cs[case[\"name\"]] = Load.case_1D(db.casepaths[case[\"id\"]])\n"
   ]
  },
  {
   "cell_type": "code",
   "execution_count": 8,
   "metadata": {},
   "outputs": [],
   "source": [
    "def L_simplified(Te):\n",
    "    \n",
    "    if Te < 0.52:\n",
    "        return 0\n",
    "\n",
    "    if Te >= 0.52 and Te < 2.50:\n",
    "        return (1.953534e-35*(2.50 - Te) + 6.053680e-34*(Te - 0.52)) / (2.50 - 0.52)\n",
    "                    \n",
    "    if Te >= 2.50 and Te < 19.72:\n",
    "        return (6.053680e-34*(19.72 - Te) + 2.175237e-31*(Te - 2.50)) / (19.72 - 2.50)\n",
    "                    \n",
    "    if Te >= 19.72 and Te < 59.98:\n",
    "        return (2.175237e-31*(59.98 - Te) + 4.190918e-32*(Te - 19.72)) / (59.98 - 19.72)\n",
    "                    \n",
    "    if Te >= 59.98 and Te < 3000.00:\n",
    "        return (4.190918e-32*(3000.00 - Te) + 1.226496e-32*(Te - 59.98)) / (3000.00 - 59.98)\n",
    "                    \n",
    "    if Te > 3000.00:\n",
    "        return 1.226496e-32\n",
    "    \n",
    "def L_simplified2(Te):\n",
    "    \n",
    "    if Te < 0.52:\n",
    "        return 0\n",
    "\n",
    "    if Te >= 0.52 and Te < 2.50:\n",
    "        return (1.953534e-35*(2.50 - Te) + 6.053680e-34*(Te - 0.52)) / (2.50 - 0.52)\n",
    "                    \n",
    "    if Te >= 2.50 and Te < 19.72:\n",
    "        return (6.053680e-34*(19.72 - Te) + 2.175237e-31*(Te - 2.50)) / (19.72 - 2.50)\n",
    "                    \n",
    "    if Te >= 19.72 and Te < 59.98:\n",
    "        return (2.175237e-31*(59.98 - Te) + 0.000000e+00*(Te - 19.72)) / (59.98 - 19.72)\n",
    "                    \n",
    "    if Te > 59.98:\n",
    "        return 0.0\n",
    "    \n",
    "def L_simplified3(Te):\n",
    "    \n",
    "    if Te < 0.52:\n",
    "        return 0\n",
    "\n",
    "    if Te >= 0.52 and Te < 2.50:\n",
    "        return (1.953534e-35*(2.50 - Te) + 6.053680e-34*(Te - 0.52)) / (2.50 - 0.52)\n",
    "                    \n",
    "    if Te >= 2.50 and Te < 19.72:\n",
    "        return (6.053680e-34*(19.72 - Te) + 2.175237e-31*(Te - 2.50)) / (19.72 - 2.50)\n",
    "                    \n",
    "    if Te >= 19.72 and Te < 38.02:\n",
    "        return (2.175237e-31*(38.02 - Te) + 0.000000e+00*(Te - 19.72)) / (38.02 - 19.72)\n",
    "                    \n",
    "    if Te > 38.02:\n",
    "        return 0.0"
   ]
  },
  {
   "cell_type": "code",
   "execution_count": 9,
   "metadata": {},
   "outputs": [
    {
     "data": {
      "text/plain": [
       "<matplotlib.legend.Legend at 0x7f5e2e6cdc10>"
      ]
     },
     "execution_count": 9,
     "metadata": {},
     "output_type": "execute_result"
    },
    {
     "data": {
      "image/png": "[encoded data removed]",
      "text/plain": [
       "<Figure size 720x600 with 1 Axes>"
      ]
     },
     "metadata": {},
     "output_type": "display_data"
    }
   ],
   "source": [
    "fig, ax = plt.subplots()\n",
    "\n",
    "ds = cs[\"simple1\"].ds.isel(t=-1, pos = slice(2,-2))\n",
    "\n",
    "calc = [L_simplified3(Te) for Te in ds[\"Te\"]] * ds[\"Ne\"] * ds[\"Nd+\"] * 0.1\n",
    "\n",
    "ax.scatter(ds[\"pos\"], ds[\"Rar\"], label = \"Model\")\n",
    "ax.plot(ds[\"pos\"],calc, label = \"Calc\")\n",
    "\n",
    "ax.set_yscale(\"log\")\n",
    "ax.legend()"
   ]
  }
 ],
 "metadata": {
  "kernelspec": {
   "display_name": "base",
   "language": "python",
   "name": "python3"
  },
  "language_info": {
   "codemirror_mode": {
    "name": "ipython",
    "version": 3
   },
   "file_extension": ".py",
   "mimetype": "text/x-python",
   "name": "python",
   "nbconvert_exporter": "python",
   "pygments_lexer": "ipython3",
   "version": "3.9.12"
  },
  "vscode": {
   "interpreter": {
    "hash": "6a682ef18c43ef4e8ca96f3f61389d1a336ad35b099cf44a1678bebafd66c9bc"
   }
  }
 },
 "nbformat": 4,
 "nbformat_minor": 4
}
