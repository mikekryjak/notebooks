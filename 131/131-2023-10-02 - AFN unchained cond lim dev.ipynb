{
 "cells": [
  {
   "cell_type": "code",
   "execution_count": 1,
   "metadata": {},
   "outputs": [],
   "source": [
    "from boututils.datafile import DataFile\n",
    "from boutdata.collect import collect\n",
    "from boutdata.data import BoutData\n",
    "import os, sys\n",
    "import matplotlib\n",
    "# matplotlib.use('Qt5Agg',force=True)\n",
    "# matplotlib.use(\"TKAgg\",force=True)\n",
    "# matplotlib.use(\"widget\",force=True)\n",
    "import matplotlib.pyplot as plt\n",
    "import xbout\n",
    "import pandas as pd\n",
    "import numpy as np\n",
    "import pickle as pkl\n",
    "import xarray as xr\n",
    "\n",
    "from boutdata.restart import addvar\n",
    "import glob\n",
    "import shutil\n",
    "\n",
    "import scipy\n",
    "\n",
    "sys.path.append(r\"/ssd_scratch/scripts/sdtools\")\n",
    "\n",
    "\n",
    "from hermes3.case_db import *\n",
    "from hermes3.load import *\n",
    "from hermes3.named_selections import *\n",
    "from hermes3.plotting import *\n",
    "from hermes3.grid_fields import *\n",
    "from hermes3.accessors import *\n",
    "from hermes3.utils import *\n",
    "# from code_comparison.code_comparison import *\n",
    "\n",
    "\n",
    "%load_ext autoreload\n",
    "%autoreload 2"
   ]
  },
  {
   "cell_type": "code",
   "execution_count": 2,
   "metadata": {},
   "outputs": [],
   "source": [
    "casestore = dict()"
   ]
  },
  {
   "cell_type": "code",
   "execution_count": 4,
   "metadata": {},
   "outputs": [
    {
     "name": "stdout",
     "output_type": "stream",
     "text": [
      "CHECK: Total domain volume is 1.607E+00 [m3]\n"
     ]
    }
   ],
   "source": [
    "db = CaseDB(\n",
    "    case_dir = r\"/ssd_scratch/hcases\",\n",
    "    grid_dir = r\"/ssd_scratch/hcases\"\n",
    "    )\n",
    "\n",
    "toload = [\n",
    "    dict(name=\"base\", id=\"xfla4-afn_unchained_frec\", grid=\"g3b1-lores_newhypno.nc\", unnormalise_geom = True),  \n",
    "\n",
    "]\n",
    "\n",
    "\n",
    "for case in toload:\n",
    "    casestore[case[\"name\"]] = Load.case_2D(db.casepaths[case[\"id\"]], gridfilepath = db.gridpaths[case[\"grid\"]],\n",
    "                                            unnormalise_geom = case[\"unnormalise_geom\"])\n"
   ]
  },
  {
   "cell_type": "code",
   "execution_count": null,
   "metadata": {},
   "outputs": [],
   "source": []
  }
 ],
 "metadata": {
  "kernelspec": {
   "display_name": "base",
   "language": "python",
   "name": "python3"
  },
  "language_info": {
   "codemirror_mode": {
    "name": "ipython",
    "version": 3
   },
   "file_extension": ".py",
   "mimetype": "text/x-python",
   "name": "python",
   "nbconvert_exporter": "python",
   "pygments_lexer": "ipython3",
   "version": "3.9.12"
  },
  "vscode": {
   "interpreter": {
    "hash": "6a682ef18c43ef4e8ca96f3f61389d1a336ad35b099cf44a1678bebafd66c9bc"
   }
  }
 },
 "nbformat": 4,
 "nbformat_minor": 4
}
