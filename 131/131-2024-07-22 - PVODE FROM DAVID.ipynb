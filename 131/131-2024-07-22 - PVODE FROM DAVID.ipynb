{
 "cells": [
  {
   "cell_type": "code",
   "execution_count": null,
   "metadata": {},
   "outputs": [],
   "source": [
    "%load_ext autoreload\n",
    "%autoreload 2\n",
    "%matplotlib widget\n",
    "#%matplotlib notebook\n",
    "#%matplotlib qt\n",
    "    \n",
    "import xarray as xr\n",
    "import matplotlib.pyplot as plt\n",
    "import numpy as np\n",
    "from boutdata.collect import collect\n",
    "from tqdm import tqdm\n",
    "import xbout\n",
    "\n",
    "def getgrid(ds):\n",
    "    gridfile = ds.options[\"grid\"]\n",
    "    with xr.open_dataset(f\"~/soft/zoidberg-w7x/{gridfile}\") as grid:\n",
    "        return grid\n",
    "\n",
    "def minmax(x):\n",
    "    print(np.min(x), np.max(x))\n",
    "\n",
    "pre = \"residuum_\""
   ]
  },
  {
   "cell_type": "code",
   "execution_count": null,
   "metadata": {},
   "outputs": [],
   "source": [
    "path=\"/ptmp/dave/hermes-2/7-emc3.c156/\"\n",
    "path=\"/ptmp/dave/hermes-3/examples/tokamak/diffusion-flow-evolveT.c0/\"\n",
    "path=\"/u/dave/soft/hermes-3/fci-auto/examples/tokamak/diffusion-flow-evolveT/\"\n",
    "path=\"/u/dave/soft/hermes-3/fci-auto/examples/stellarator/diffusion-flow-evolveT/\"\n",
    "path=\"/ptmp/dave/hermes-3/examples/stellarator/diffusion-flow-evolveT.c23/\"\n",
    "\n",
    "ds = xbout.open_boutdataset(datapath=f\"{path}/BOUT.debug.*.nc\", geometry='fci',\n",
    "                            gridfilepath='/u/dave/soft/hermes-3/auto-fci/W7X.nc',\n",
    "                            inputfilepath=path + \"BOUT.settings\",\n",
    "                            info=False, \n",
    "                            grid_kw=dict(drop_variables=[\"offset_3x3\"]), \n",
    "                            #use_modules=False\n",
    "                           )\n",
    "\n",
    "if \"Ne\" in ds and \"normalised_by\" in ds.Ne.attrs:\n",
    "    ds[\"Ne\"] /= ds.Ne.attrs[\"normalised_by\"]\n",
    "    ds.Ne.attrs[\"normalised_by\"]=1\n",
    "\n",
    "def gettol(ds):\n",
    "    try:\n",
    "        atol = ds.options[\"solver:atol\"]\n",
    "    except KeyError:\n",
    "        atol = 1e-12\n",
    "    try:\n",
    "        rtol = ds.options[\"solver:rtol\"]\n",
    "    except KeyError:\n",
    "        rtol = 1e-5\n",
    "    return atol, rtol\n",
    "pre = \"residuum_\"\n",
    "worst = {}\n",
    "def get_res(ds, k):\n",
    "        var = ds[k]\n",
    "        res = ds[pre + k]\n",
    "        atol, rtol = gettol(ds)\n",
    "        err = np.abs(var) * rtol + atol\n",
    "        where = np.abs(res) > err\n",
    "        return res, err, where\n",
    "\n",
    "\n",
    "def check_res(ds):\n",
    "    keys = [k.split(\"_\", 1)[1] for k in ds if k.startswith(pre)]\n",
    "    for k in keys:\n",
    "        print(f\"Residuum for {k}:\")\n",
    "        res, err, where = get_res(ds, k)\n",
    "        sumwhere = np.sum(where.compute())\n",
    "        if not np.all(np.isfinite(err)):\n",
    "            print(f\"Not finite at {err.size - np.sum(np.isfinite(err))} of {err.size} points\")\n",
    "        if sumwhere:\n",
    "            print(f\"Above limit at {sumwhere} not fullfilled\")\n",
    "        else:\n",
    "            print(f\"Limit fullfilled everywhere\")\n",
    "        w = np.unravel_index(np.argmax(np.abs(res.values)), res.shape)\n",
    "        print(f\"Maximum residuum at {w}\")\n",
    "        worst[k] = w\n",
    "        print(\"Maximum value is\", np.max(err).values)\n",
    "\n",
    "check_res(ds)"
   ]
  },
  {
   "cell_type": "code",
   "execution_count": null,
   "metadata": {},
   "outputs": [],
   "source": []
  },
  {
   "cell_type": "code",
   "execution_count": null,
   "metadata": {},
   "outputs": [],
   "source": [
    "plt.figure()\n",
    "k0 = \"Ph+\"\n",
    "w = worst[k0]\n",
    "isel = dict(y=w[1], z=w[2])#, x=slice(2, -2))\n",
    "for k in [k0] + [f\"track_ddt_{k0}_{k}\" for k in range(20)]:\n",
    "    if k not in ds:\n",
    "        continue\n",
    "    label = ds[k].attrs.get(\"rhs.name\", k)\n",
    "    #print( ds[k].attrs)\n",
    "    cutoff = 50\n",
    "    if len(label) > cutoff:\n",
    "        label=label[:cutoff-3] + \"...\"\n",
    "    ds[k].isel(**isel).plot(label=label)\n",
    "plt.yscale(\"symlog\")\n",
    "plt.legend()\n",
    "\n",
    "if 0:\n",
    "    plt.figure()\n",
    "    for k in \"Pe\", \"track_ddt_Pe_3\", \"track_ddt_Pe_5\":\n",
    "        np.log(np.abs(ds[k].isel(**isel))).plot(label=k)\n",
    "    yll, ylu = plt.ylim()\n",
    "    ylu -= yll\n",
    "    ylu /= 4\n",
    "    yll += ylu * 2\n",
    "    for k in \"Pe\", \"track_ddt_Pe_3\", \"track_ddt_Pe_5\":\n",
    "        (yll + ylu * np.sign(ds[k].isel(**isel))).plot(label=\"sign \"+k)\n",
    "    plt.legend()\n",
    "#(ds.Pe.isel(**isel)).plot()\n",
    "#(ds.track_ddt_Pe_3.isel(**isel)/1e-3).plot()\n",
    "#(ds.track_ddt_Pe_5.isel(**isel)/1e-3).plot()\n"
   ]
  },
  {
   "cell_type": "code",
   "execution_count": null,
   "metadata": {},
   "outputs": [],
   "source": [
    "from boutdata.collect import collect"
   ]
  },
  {
   "cell_type": "code",
   "execution_count": null,
   "metadata": {},
   "outputs": [],
   "source": [
    "# Pe = collect(\"Pe\", path=path, prefix=\"BOUT.debug\", info=False)"
   ]
  },
  {
   "cell_type": "code",
   "execution_count": null,
   "metadata": {},
   "outputs": [],
   "source": [
    "worst"
   ]
  },
  {
   "cell_type": "code",
   "execution_count": null,
   "metadata": {},
   "outputs": [],
   "source": [
    "plt.plot(Pe[2, :, 637])"
   ]
  },
  {
   "cell_type": "code",
   "execution_count": null,
   "metadata": {},
   "outputs": [],
   "source": [
    "ds.Ne.attrs"
   ]
  },
  {
   "cell_type": "code",
   "execution_count": null,
   "metadata": {},
   "outputs": [],
   "source": [
    "ds.Pe[:, 0, 0].values"
   ]
  },
  {
   "cell_type": "code",
   "execution_count": null,
   "metadata": {},
   "outputs": [],
   "source": [
    "np.prod(ds.Pe.shape)"
   ]
  },
  {
   "cell_type": "code",
   "execution_count": null,
   "metadata": {},
   "outputs": [],
   "source": [
    "plt.figure()\n",
    "w=worst[\"NVi\"]\n",
    "isel = dict(y=w[1], z=w[2], x=slice(2, -2))\n",
    "for k in [\"NVi\"] + [f\"track_ddt_NVi_{k}\" for k in [2,3,4,5]]:\n",
    "    label = ds[k].attrs.get(\"rhs.name\", k)\n",
    "    #print( ds[k].attrs)\n",
    "    ds[k].isel(**isel).plot(label=label)\n",
    "plt.yscale(\"symlog\")\n",
    "plt.legend()"
   ]
  },
  {
   "cell_type": "code",
   "execution_count": null,
   "metadata": {},
   "outputs": [],
   "source": [
    "plt.figure()\n",
    "isel = dict(y=4, z=43, x=slice(2, -2))\n",
    "k0 = \"Pe\"\n",
    "for k in [k0] + [f\"track_ddt_{k0}_{i}\" for i in range(2, dict(NVi=6, Pe=8, Ne=5)[k0])]:\n",
    "    label=\" \".join([k] + [ds[k].attrs.get(k2, \"\") for k2 in [\"rhs.name\", \"operation\"]])\n",
    "    ds[k].isel(**isel).plot(label=label)\n",
    "plt.yscale(\"symlog\")\n",
    "plt.legend()\n"
   ]
  },
  {
   "cell_type": "code",
   "execution_count": null,
   "metadata": {},
   "outputs": [],
   "source": []
  },
  {
   "cell_type": "code",
   "execution_count": null,
   "metadata": {},
   "outputs": [],
   "source": [
    "def check_res_more(ds, key):\n",
    "    print(f\"Check {key} ...\")\n",
    "    var = ds[key]\n",
    "    res = ds[pre + key]\n",
    "    atol, rtol = gettol(ds)\n",
    "    err = np.abs(var) * rtol + atol\n",
    "    where = np.abs(res) > err\n",
    "    for i, j in enumerate(np.sum(where, axis=(0, 2))):\n",
    "        if j:\n",
    "            print(f\"in slice jy={i}  there are {j} non-converged\")\n",
    "    plt.figure()\n",
    "    plt.plot(np.arange(len(ds.y)), np.max(np.abs(res), axis=(0, 2)), label=\"Max | Residuum |\")\n",
    "    plt.plot(np.arange(len(ds.y)), np.max(np.abs(var), axis=(0, 2)), label=\"Max | Value |\")\n",
    "    plt.plot(np.arange(len(ds.y)), np.max(np.abs(err), axis=(0, 2)), label=\"Max | Error |\")\n",
    "    plt.title(key)\n",
    "    plt.legend()\n",
    "    plt.gca().set_yscale('log')\n",
    "    #if np.sum(where):\n",
    "    \n",
    "check_res_more(ds, 'Pe')"
   ]
  },
  {
   "cell_type": "code",
   "execution_count": null,
   "metadata": {},
   "outputs": [],
   "source": [
    "from boututils.datafile import DataFile as DF\n",
    "\n",
    "with DF(path+\"/BOUT.debug.0.nc\") as f:\n",
    "    Ne = f[\"Ne\"]\n",
    "print(Ne.shape)\n",
    "plt.plot(Ne[:, 0, 1])\n",
    "\n",
    "def check_ddt_component(i, val):\n",
    "    try:\n",
    "        val.shape\n",
    "    except AttributeError:\n",
    "        print(i, val)\n",
    "        return\n",
    "    label = \" \".join([str(x) for x in [i] + [val.attrs[k] for k in [\"rhs.name\", \"operation\"]]])\n",
    "    tmp = np.abs(val.values)\n",
    "    co = 1e200\n",
    "    tmp[tmp > co] = co\n",
    "    co = 1e-100\n",
    "    tmp[tmp < co] = co\n",
    "    plt.plot(np.nanmax(tmp[2:-2], axis=(0, 2)), label=label)\n",
    "    #print(i)\n",
    "    #for k in \"rhs.name\", \"operation\":\n",
    "    #    print(k, val.attrs[k])\n",
    "    \n",
    "def check_ddt(ds, key):\n",
    "    vals = []\n",
    "    for i in range(1, 1000):\n",
    "        k = f\"track_ddt_{key}_{i}\"\n",
    "        print(k)\n",
    "        try:\n",
    "            vals.append(ds[k])\n",
    "        except KeyError: \n",
    "            try:\n",
    "                vals.append(ds.attrs[\"metadata\"][k])\n",
    "            except KeyError:\n",
    "                break\n",
    "    plt.figure()\n",
    "    for i, val in enumerate(vals):\n",
    "        check_ddt_component(i + 1, val)\n",
    "    print(len(vals))\n",
    "    plt.legend()\n",
    "    plt.gca().set_yscale('log')\n",
    "    if plt.ylim() == (1, 10):\n",
    "        plt.ylim(1e-10, 1e250)\n",
    "\n",
    "        \n",
    "#check_ddt(ds, \"Ne\")\n",
    "#check_ddt(ds, \"Pe\")\n",
    "check_ddt(ds, \"NVi\")\n",
    "check_ddt(ds, \"Pi\")"
   ]
  },
  {
   "cell_type": "code",
   "execution_count": null,
   "metadata": {},
   "outputs": [],
   "source": [
    "ds.attrs[\"metadata\"][\"track_ddt_Pe_1\"]\n",
    "#ds.attrs"
   ]
  },
  {
   "cell_type": "code",
   "execution_count": null,
   "metadata": {},
   "outputs": [],
   "source": [
    "check_ddt(ds, \"Pi\")"
   ]
  },
  {
   "cell_type": "code",
   "execution_count": null,
   "metadata": {},
   "outputs": [],
   "source": [
    "key0 = \"Pi\"\n",
    "yid = worst[key0][1]\n",
    "yid=10\n",
    "print(yid)\n",
    "xlim = None,\n",
    "ylim = None,\n",
    "#xlim = 4.5,4.8\n",
    "#ylim = 0.5,0.7\n",
    "xslc =slice(2, -2)\n",
    "%matplotlib qt\n",
    "_, _, where = get_res(ds, key0)\n",
    "for i in []:\n",
    "    plt.figure(figsize=(10, 15))\n",
    "    key = f\"track_ddt_{key0}_{i}\"\n",
    "    label = key\n",
    "    for fu in \"operation\", \"rhs.name\":\n",
    "        #print(ds[key].attrs[fu])\n",
    "        label += \" \" + ds[key].attrs.get(fu,\"\")\n",
    "    RZ = [ds[k].isel(y=yid, x=xslc).T for k in \"RZ\"]\n",
    "    theta = np.linspace(0, np.pi*2, endpoint=False)\n",
    "    drz = [f(theta)*.01 for f in [np.sin, np.cos]]\n",
    "    whereh = where.isel(y=yid, x=xslc)\n",
    "    print( np.array(np.where(whereh)).T)\n",
    "    if np.sum(whereh) < 20:\n",
    "        for i,j in np.array(np.where(whereh)).T:\n",
    "            plt.plot(*[dx+X.values[j, i] for dx, X in zip(drz, RZ)], \"r-\")\n",
    "\n",
    "    ds[key].isel(y=yid, x=xslc).bout.pcolormesh(ax=plt.gca())\n",
    "    #print(ds[key].attrs)\n",
    "    #plt.plot(*RZ)\n",
    "    plt.title(label)\n",
    "    plt.ylim(*ylim)\n",
    "    plt.xlim(*xlim)\n",
    "if 1:\n",
    "    ds[f\"{key0}\"].isel(y=yid, x=xslc).bout.pcolormesh(vmax=0.23, vmin=0.15)\n",
    "    if np.sum(whereh) < 20:\n",
    "        for i,j in np.array(np.where(whereh)).T:\n",
    "            plt.plot(*[dx+X.values[j, i] for dx, X in zip(drz, RZ)], \"r-\")\n",
    "    plt.ylim(*ylim)\n",
    "    plt.xlim(*xlim)\n",
    "    #plt.plot(*RZ)\n",
    "None"
   ]
  },
  {
   "cell_type": "code",
   "execution_count": null,
   "metadata": {},
   "outputs": [],
   "source": [
    "grid = getgrid(ds)\n",
    "gi = grid.isel(y=10)\n",
    "plt.figure()\n",
    "plt.pcolormesh(gi.R, gi.Z, gi.forward_xt_prime > 128)\n",
    "gi.dims"
   ]
  },
  {
   "cell_type": "code",
   "execution_count": null,
   "metadata": {},
   "outputs": [],
   "source": [
    "def argmax(d):\n",
    "    return np.unravel_index(np.argmax(d), d.shape)\n",
    "\n",
    "ijk = argmax(ds.track_ddt_Ne_3.values)"
   ]
  },
  {
   "cell_type": "code",
   "execution_count": null,
   "metadata": {},
   "outputs": [],
   "source": [
    "gridname = ds.attrs[\"options\"][\"grid\"]\n",
    "with DF(f\"/u/dave/soft/zoidberg-w7x/{gridname}\") as gridfile:\n",
    "    \n",
    "    delp2 = [gridfile[f\"delp2_3x3_{i}\"] for i in range(9)]\n",
    "    pass"
   ]
  },
  {
   "cell_type": "code",
   "execution_count": null,
   "metadata": {},
   "outputs": [],
   "source": [
    "delp2 = np.array(delp2)\n",
    "idelp = delp2[(slice(None), *ijk)]"
   ]
  },
  {
   "cell_type": "code",
   "execution_count": null,
   "metadata": {},
   "outputs": [],
   "source": [
    "plt.figure()\n",
    "plt.imshow(idelp.reshape(3,3))\n",
    "plt.colorbar()"
   ]
  },
  {
   "cell_type": "code",
   "execution_count": null,
   "metadata": {},
   "outputs": [],
   "source": [
    "for i in \"p\", \"m\", \"p_temp\", \"m_temp\":\n",
    "    ds[f\"ddt_NVi_Gnv{i}\"].isel(y=4, x=slice(2,-2)).bout.pcolormesh()\n",
    "    plt.ylim(None, -.7)\n",
    "    plt.xlim(5.5, 5.7)\n",
    "ds[f\"NVi\"].isel(y=4, x=slice(2,-2)).bout.pcolormesh()\n",
    "plt.ylim(None, -.7)\n",
    "plt.xlim(5.5, 5.7)"
   ]
  },
  {
   "cell_type": "code",
   "execution_count": null,
   "metadata": {},
   "outputs": [],
   "source": [
    "    ds[f\"forward_xt_prime\"].isel(y=4, x=slice(2,-2)).bout.pcolormesh(vmin=130)\n",
    "    plt.ylim(None, -.7)\n",
    "    plt.xlim(5.5, 5.7)"
   ]
  },
  {
   "cell_type": "code",
   "execution_count": null,
   "metadata": {},
   "outputs": [],
   "source": [
    "    ds[f\"backward_xt_prime\"].isel(y=4, x=slice(2,-2)).bout.pcolormesh(vmin=130, vmax=130.001)\n",
    "    plt.ylim(None, -.7)\n",
    "    plt.xlim(5.5, 5.7)"
   ]
  },
  {
   "cell_type": "code",
   "execution_count": null,
   "metadata": {},
   "outputs": [],
   "source": [
    "for i in range(2,5):\n",
    "    print(ds[f\"track_ddt_NVi_{i}\"].attrs[\"rhs.name\"])"
   ]
  },
  {
   "cell_type": "code",
   "execution_count": null,
   "metadata": {},
   "outputs": [],
   "source": [
    "for i in 2,3,4:\n",
    "    key = f\"track_ddt_NVi_{i}\"\n",
    "    ds[key].isel(y=2, x=slice(2, -2)).bout.pcolormesh()\n",
    "    plt.title(ds[key].attrs[\"rhs.name\"])\n",
    "    plt.ylim(.7, None)\n",
    "    plt.xlim(5.1, 5.8)"
   ]
  },
  {
   "cell_type": "code",
   "execution_count": null,
   "metadata": {},
   "outputs": [],
   "source": [
    "i=2\n",
    "key=f\"track_ddt_Ne_{i}\"\n",
    "key = \"residuum_Ne\"\n",
    "key =\"NVi\"\n",
    "ds[key].isel(y=2, x=slice(2, -2)).bout.pcolormesh()"
   ]
  },
  {
   "cell_type": "code",
   "execution_count": null,
   "metadata": {},
   "outputs": [],
   "source": [
    "plt.figure()\n",
    "ds[key].isel(y=1).plot()"
   ]
  },
  {
   "cell_type": "code",
   "execution_count": null,
   "metadata": {},
   "outputs": [],
   "source": [
    "grid = getgrid(ds)\n",
    "plt.figure(figsize=(15,15))\n",
    "gi = grid.isel(y=27)\n",
    "#grid.dz.isel(y=27).plot()\n",
    "plt.pcolormesh(gi.R, gi.Z, gi.dz)"
   ]
  },
  {
   "cell_type": "code",
   "execution_count": null,
   "metadata": {},
   "outputs": [],
   "source": [
    "nvivi = ds.NVi**2 / ds.Ne"
   ]
  },
  {
   "cell_type": "code",
   "execution_count": null,
   "metadata": {},
   "outputs": [],
   "source": [
    "ds.NVi.isel(y=4).bout.pcolormesh()\n",
    "plt.ylim(-1, -.75)\n",
    "plt.xlim(5.4, 5.7)"
   ]
  },
  {
   "cell_type": "code",
   "execution_count": null,
   "metadata": {},
   "outputs": [],
   "source": [
    "ds.NVi.isel(y=2).bout.pcolormesh()\n",
    "plt.ylim(-1, -.75)\n",
    "plt.xlim(5.35, 5.6)"
   ]
  },
  {
   "cell_type": "code",
   "execution_count": null,
   "metadata": {},
   "outputs": [],
   "source": [
    "grid = getgrid(ds)"
   ]
  },
  {
   "cell_type": "code",
   "execution_count": null,
   "metadata": {},
   "outputs": [],
   "source": [
    "ward = [x for x in grid if \"ward\" in x]\n",
    "for w in ward:\n",
    "    ds[w] = grid[w]\n",
    "for k in \"geometry\", \"sizes\", \"metadata\":\n",
    "    ds = xbout.utils._set_attrs_on_all_vars(ds, k, getattr(ds.Ne, k))"
   ]
  },
  {
   "cell_type": "code",
   "execution_count": null,
   "metadata": {},
   "outputs": [],
   "source": [
    "#ds.emc3.plot_rz(\"backward_xt_prime\", phii=i)\n",
    "dsi = ds.isel(y=2)\n",
    "plt.figure()\n",
    "plt.pcolormesh(dsi.R, dsi.Z, (dsi.forward_xt_prime > 128))\n",
    "plt.ylim(-1, -.75)\n",
    "plt.xlim(5.35, 5.6)"
   ]
  },
  {
   "cell_type": "code",
   "execution_count": null,
   "metadata": {},
   "outputs": [],
   "source": [
    "ds.backward_xt_prime.isel(y=2).metadata"
   ]
  },
  {
   "cell_type": "code",
   "execution_count": null,
   "metadata": {},
   "outputs": [],
   "source": [
    "setattr?"
   ]
  },
  {
   "cell_type": "code",
   "execution_count": null,
   "metadata": {},
   "outputs": [],
   "source": [
    "evo = xbout.open_boutdataset(datapath=f\"{path}/BOUT.dmp*.nc\", geometry='fci', gridfilepath='/u/dave/soft/hermes-2/', inputfilepath=path + \"BOUT.settings\", info=False)"
   ]
  },
  {
   "cell_type": "code",
   "execution_count": null,
   "metadata": {},
   "outputs": [],
   "source": [
    "plt.figure()\n",
    "(np.abs(evo.kappa_ipar)).max(dim=('x', 'z')).plot()"
   ]
  },
  {
   "cell_type": "code",
   "execution_count": null,
   "metadata": {},
   "outputs": [],
   "source": [
    "plt.figure()\n",
    "print(list(enumerate(np.log(np.abs(evo.kappa_ipar)).isel(y=4).max(dim=('x', 'z')).values)))"
   ]
  },
  {
   "cell_type": "code",
   "execution_count": null,
   "metadata": {},
   "outputs": [],
   "source": [
    "for t in range(0, 14):\n",
    "    evo.isel(t=t, y=4).Pi.bout.pcolormesh(vmax=500)\n",
    "    plt.ylim(-1, -.75)\n",
    "    plt.xlim(5.5, 5.75)"
   ]
  },
  {
   "cell_type": "code",
   "execution_count": null,
   "metadata": {},
   "outputs": [],
   "source": [
    "for t in range(0, 23, 4):\n",
    "    evo.isel(t=t, y=4).NVi.bout.pcolormesh()\n",
    "    #plt.ylim(-1, -.75)\n",
    "    #plt.xlim(5.5, 5.75)"
   ]
  },
  {
   "cell_type": "code",
   "execution_count": null,
   "metadata": {},
   "outputs": [],
   "source": [
    "keys = []\n",
    "pre = \"residuum_\"\n",
    "with xr.open_dataset(f\"{path}/BOUT.debug.0.nc\") as ds:\n",
    "    for k in ds:\n",
    "        if k.startswith(pre):\n",
    "            keys.append(k.removeprefix(pre))\n",
    "\n",
    "print(keys)\n",
    "\n",
    "rtol = 1e-5\n",
    "atol = 1e-10\n",
    "def load(k):\n",
    "    res = collect(pre + k, prefix='BOUT.deb2', path=path, info=False)\n",
    "    var = collect(k, prefix='BOUT.deb2', path=path, info=False)\n",
    "    return res, var\n",
    "\n",
    "for k in keys:\n",
    "    res, var = load(k)\n",
    "    err = np.abs(var) * rtol + atol\n",
    "    where = np.abs(res) > err\n",
    "    print(k, np.sum(where), np.unravel_index(np.argmax(np.abs(res)), res.shape), np.max(err))\n"
   ]
  },
  {
   "cell_type": "code",
   "execution_count": null,
   "metadata": {},
   "outputs": [],
   "source": [
    "patho = \"/raven/ptmp/dave/hermes-2/7-emc3.c92.c0/\"\n",
    "evoo = xbout.open_boutdataset(datapath=f\"{patho}/BOUT.dmp*.nc\", geometry='fci', gridfilepath='/u/dave/soft/hermes-2/', inputfilepath=patho + \"BOUT.settings\", info=False)"
   ]
  },
  {
   "cell_type": "code",
   "execution_count": null,
   "metadata": {},
   "outputs": [],
   "source": [
    "for t in range(0, len(evoo.t)):\n",
    "    evoo.isel(t=t, y=4).NVi.bout.pcolormesh()\n",
    "    #plt.ylim(-1, -.75)\n",
    "    #plt.xlim(5.5, 5.75)"
   ]
  },
  {
   "cell_type": "code",
   "execution_count": null,
   "metadata": {},
   "outputs": [],
   "source": [
    "path"
   ]
  },
  {
   "cell_type": "code",
   "execution_count": null,
   "metadata": {},
   "outputs": [],
   "source": []
  },
  {
   "cell_type": "code",
   "execution_count": null,
   "metadata": {},
   "outputs": [],
   "source": []
  },
  {
   "cell_type": "code",
   "execution_count": null,
   "metadata": {},
   "outputs": [],
   "source": [
    "import zoidberg as zb"
   ]
  },
  {
   "cell_type": "code",
   "execution_count": null,
   "metadata": {},
   "outputs": [],
   "source": [
    "from zoidberg import diff"
   ]
  },
  {
   "cell_type": "code",
   "execution_count": null,
   "metadata": {},
   "outputs": [],
   "source": [
    "ds.R.values"
   ]
  },
  {
   "cell_type": "code",
   "execution_count": null,
   "metadata": {},
   "outputs": [],
   "source": [
    "for args in ((0, False), (2, True)):\n",
    "    dist = np.sqrt(diff.c2(ds.R, *args)**2 + diff.c2(ds.Z, *args)**2)\n",
    "    print(np.array([np.mean(dist), np.max(dist), *np.percentile(dist, [50, 90, 99])])/12e-4)"
   ]
  },
  {
   "cell_type": "code",
   "execution_count": null,
   "metadata": {},
   "outputs": [],
   "source": [
    "ds.R.shape\n",
    "128*2.54 + 2, 36, 768*5.79"
   ]
  },
  {
   "cell_type": "code",
   "execution_count": null,
   "metadata": {},
   "outputs": [],
   "source": []
  },
  {
   "cell_type": "code",
   "execution_count": null,
   "metadata": {},
   "outputs": [],
   "source": []
  },
  {
   "cell_type": "code",
   "execution_count": null,
   "metadata": {},
   "outputs": [],
   "source": []
  },
  {
   "cell_type": "code",
   "execution_count": null,
   "metadata": {},
   "outputs": [],
   "source": []
  },
  {
   "cell_type": "code",
   "execution_count": null,
   "metadata": {},
   "outputs": [],
   "source": [
    "fn = \"/u/dave/soft/zoidberg-w7x/v17/W7X-conf0-132x36x768.emc3.inner:f.vessel:f.island:f.fci.nc\"\n",
    "with xr.open_dataset(fn, drop_variables=[\"offset_3x3\"]) as grid:\n",
    "    pass"
   ]
  },
  {
   "cell_type": "code",
   "execution_count": null,
   "metadata": {},
   "outputs": [],
   "source": [
    "gi = grid.isel(y=2)\n",
    "plt.plot(gi.R, gi.Z)\n",
    "plt.plot(gi.R.T, gi.Z.T)"
   ]
  },
  {
   "cell_type": "code",
   "execution_count": null,
   "metadata": {},
   "outputs": [],
   "source": [
    "grid.isel(x=2)[\"forward_xt_prime\"] = 2\n",
    "grid.isel(x=2)[\"backward_xt_prime\"] = 2\n",
    "grid.to_netcdf(fn[:-3] + \".force_inner.nc\")"
   ]
  }
 ],
 "metadata": {
  "kernelspec": {
   "display_name": "Python 3 (ipykernel)",
   "language": "python",
   "name": "python3"
  },
  "language_info": {
   "codemirror_mode": {
    "name": "ipython",
    "version": 3
   },
   "file_extension": ".py",
   "mimetype": "text/x-python",
   "name": "python",
   "nbconvert_exporter": "python",
   "pygments_lexer": "ipython3",
   "version": "3.12.3"
  }
 },
 "nbformat": 4,
 "nbformat_minor": 4
}
