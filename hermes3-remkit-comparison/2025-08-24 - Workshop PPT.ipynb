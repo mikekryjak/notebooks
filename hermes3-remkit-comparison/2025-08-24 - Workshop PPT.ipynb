{
 "cells": [
  {
   "cell_type": "code",
   "execution_count": 5,
   "metadata": {},
   "outputs": [
    {
     "name": "stdout",
     "output_type": "stream",
     "text": [
      "The autoreload extension is already loaded. To reload it, use:\n",
      "  %reload_ext autoreload\n"
     ]
    }
   ],
   "source": [
    "from boututils.datafile import DataFile\n",
    "from boutdata.collect import collect\n",
    "from boutdata.data import BoutData\n",
    "import os, sys\n",
    "import matplotlib\n",
    "# matplotlib.use('Qt5Agg',force=True)\n",
    "# matplotlib.use(\"TKAgg\",force=True)\n",
    "# matplotlib.use(\"widget\",force=True)\n",
    "import matplotlib.pyplot as plt\n",
    "import xbout\n",
    "import pandas as pd\n",
    "import numpy as np\n",
    "import pickle as pkl\n",
    "import xarray as xr\n",
    "\n",
    "from boutdata.restart import addvar\n",
    "import glob\n",
    "import shutil\n",
    "\n",
    "import scipy\n",
    "\n",
    "sys.path.append(r\"/home/mike/work/sdtools\")\n",
    "\n",
    "from hermes3.case_db import *\n",
    "from hermes3.load import *\n",
    "from hermes3.named_selections import *\n",
    "from hermes3.neutral_transport import NeutralTransport\n",
    "from hermes3.plotting import *\n",
    "from hermes3.grid_fields import *\n",
    "from hermes3.accessors import *\n",
    "from hermes3.utils import *\n",
    "from hermes3.balance1d import *\n",
    "\n",
    "# from remkit.load import load_remkit\n",
    "# from code_comparison.code_comparison import *\n",
    "\n",
    "from cycler import cycler\n",
    "mpl.rcParams[\"axes.prop_cycle\"] = cycler(\"color\", [\"teal\", \"darkorange\", \"firebrick\", \"limegreen\", \"darkorchid\", \"deeppink\", \n",
    "                                                   \"#1E90FF\", \"forestgreen\", \"#4169e1\", \"darkgoldenrod\", \"#9370db\", \"crimson\", \"#2f4f4f\" ])\n",
    "\n",
    "sys.path.append(r\"/home/mike/work/ReMKiT1D_H3/scripts\")\n",
    "from comp_utils import H3CompFromJSON,H3nTCompPlot,H3qGCompPlot,plotTermsThatEvolveVar\n",
    "\n",
    "%load_ext autoreload\n",
    "%autoreload 2"
   ]
  },
  {
   "cell_type": "markdown",
   "metadata": {},
   "source": [
    "# Intro\n",
    "- This PR makes sure that processes that depend on collisions get the right ones\n",
    "- Conduction should only take ee or ii into account\n",
    "- Diffusion should only take CX and IZ into account\n",
    "- Neutral viscosity should take CX and IZ \n",
    "- Ion viscosity should take ii "
   ]
  },
  {
   "cell_type": "markdown",
   "metadata": {},
   "source": [
    "# IO"
   ]
  },
  {
   "cell_type": "code",
   "execution_count": null,
   "metadata": {},
   "outputs": [
    {
     "name": "stdout",
     "output_type": "stream",
     "text": [
      "Loading case zero_base from rkc0-oldbase_lingrid_wrongcoll_wrongcond_wrongbc\n",
      "Loading case zero_corrcoll from rkc0b-oldbase_lingrid_corrgcoll_wrongcond_wrongbc\n",
      "Loading case enable_sound_speed from sc12ai-enable_sound_speed\n",
      "Loading case scale_fastestwave_0.5 from sc12aj-scale_fastestwave_0.5\n"
     ]
    }
   ],
   "source": [
    "cs = dict()\n",
    "\n",
    "db = CaseDB(\n",
    "    case_dir = r\"/home/mike/work/cases\",\n",
    "    grid_dir = r\"/home/mike/work/cases\"\n",
    "    )\n",
    "\n",
    "toload = [\n",
    "    \n",
    "    dict(name=\"zero_base\", id=\"rkc0-oldbase_lingrid_wrongcoll_wrongcond_wrongbc\", unnormalise_geom = True, use_xhermes = True, guard_replace = False),\n",
    "    dict(name=\"zero_corrcoll\", id=\"rkc0b-oldbase_lingrid_corrgcoll_wrongcond_wrongbc\", unnormalise_geom = True, use_xhermes = True, guard_replace = False),\n",
    "    \n",
    "    # dict(name=\"add_bndry_fix\", id=\"sc12ac-add_bndry_flux_fix\", unnormalise_geom = True, use_xhermes = True, guard_replace = False), \n",
    "    # dict(name=\"gamma_3.5\", id=\"sc12ad-gamma_i_3.5\", unnormalise_geom = True, use_xhermes = True, guard_replace = False), \n",
    "    # dict(name=\"no_force_balance\", id=\"sc12af-no_force_balance\", unnormalise_geom = True, use_xhermes = True, guard_replace = False), \n",
    "    # dict(name=\"disable_laxflux_heating\", id=\"sc12afg-disable_laxflux_heating\", unnormalise_geom = True, use_xhermes = True, guard_replace = False), \n",
    "    # dict(name=\"no_vi\", id=\"sc12b-gamma3.5_nofbalance_vi0\", unnormalise_geom = True, use_xhermes = True, guard_replace = False), \n",
    "    # dict(name=\"no_viscosity\", id=\"sc12ah-disable_ion_viscosity\", unnormalise_geom = True, use_xhermes = True, guard_replace = False), \n",
    "    dict(name=\"enable_sound_speed\", id=\"sc12ai-enable_sound_speed\", unnormalise_geom = True, use_xhermes = True, guard_replace = False), \n",
    "    dict(name=\"scale_fastestwave_0.5\", id=\"sc12aj-scale_fastestwave_0.5\", unnormalise_geom = True, use_xhermes = True, guard_replace = False), \n",
    "    dict(name=\"scale_fastestwave_0.1\", id=\"sc12aja-scale_fastestwave_0.1\", unnormalise_geom = True, use_xhermes = True, guard_replace = False), \n",
    "    dict(name=\"scale_fastestwave_0.05\", id=\"sc12ajb-scale_fastestwave_0.05\", unnormalise_geom = True, use_xhermes = True, guard_replace = False), \n",
    "    dict(name=\"scale_fastestwave_0.0\", id=\"sc12ajc-scale_fastestwave_0.0\", unnormalise_geom = True, use_xhermes = True, guard_replace = False),\n",
    "    # dict(name=\"laxon\", id=\"sc13b-forcebalance_on_scalewave_1\", unnormalise_geom = True, use_xhermes = True, guard_replace = False),  \n",
    "    # dict(name=\"laxflux_x0.05\", id=\"sc12b-forcebalance_on_scalewave_0.05\", unnormalise_geom = True, use_xhermes = True, guard_replace = False), \n",
    "    # dict(name=\"laxflux_off\", id=\"sc12ba-forcebalance_on_scalewave_0.0\", unnormalise_geom = True, use_xhermes = True, guard_replace = False), \n",
    "    \n",
    "    # dict(name=\"laxflux_off_fixflux_off\", id=\"sc12baa-forcebalance_on_scalewave_0.0_fixfluxoff\", unnormalise_geom = True, use_xhermes = True, guard_replace = False), \n",
    "    # dict(name=\"laxon_fixflux_off\", id=\"sc13bb-laxfluxon_fixfluxoff\", unnormalise_geom = True, use_xhermes = True, guard_replace = False), \n",
    "    \n",
    "    # dict(name=\"laxon_fixfluxoff_loggrid\", id=\"sc13bc-laxfluxon_fixfluxoff_loggrid\", unnormalise_geom = True, use_xhermes = True, guard_replace = False),\n",
    "    # dict(name=\"laxon_fixfluxoff_loggrid_freeNe\", id=\"sc13bcd-laxfluxon_fixfluxoff_loggrid_free_ne\", unnormalise_geom = True, use_xhermes = True, guard_replace = False), \n",
    "    # dict(name=\"laxon_fixfluxoff_loggrid_freeNePe\", id=\"sc13bce-laxfluxon_fixfluxoff_loggrid_free_ne_pe\", unnormalise_geom = True, use_xhermes = True, guard_replace = False), \n",
    "    # dict(name=\"laxon_fixfluxoff_loggrid_LinearFreeNePe\", id=\"sc13bcf-laxfluxon_fixfluxoff_loggrid_linearfree_ne_pe\", unnormalise_geom = True, use_xhermes = True, guard_replace = False), \n",
    "    \n",
    "    # dict(name=\"laxon_fixfluxon_loggrid_freeNePe\", id=\"sc13bdb-laxfluxon_fixfluxon_loggrid_free_ne_pe\", unnormalise_geom = True, use_xhermes = True, guard_replace = False), \n",
    "    # dict(name=\"laxon_fixfluxon_loggrid_LinearFreeNePe\", id=\"sc13bdc-laxfluxon_fixfluxon_loggrid_linearfree_ne_pe\", unnormalise_geom = True, use_xhermes = True, guard_replace = False), \n",
    "    \n",
    "    # dict(name=\"laxon_fixfluxon\", id=\"sc13b-forcebalance_on_scalewave_1\", unnormalise_geom = True, use_xhermes = True, guard_replace = False), \n",
    "    # dict(name=\"laxon_fixfluxon_freeNePe\", id=\"sc14a-laxflux_fixfluxon_free_all\", unnormalise_geom = True, use_xhermes = True, guard_replace = False), \n",
    "    # dict(name=\"lax0.05_fixfluxon_freeNePe\", id=\"sc14ac-laxflux0.05_fixfluxon_free_all\", unnormalise_geom = True, use_xhermes = True, guard_replace = False), \n",
    "    # dict(name=\"laxon_fixfluxoff_freeNePe\", id=\"sc14ab-laxflux_fixfluxoff_free_all\", unnormalise_geom = True, use_xhermes = True, guard_replace = False), \n",
    "    # dict(name=\"laxon_fixfluxon_loggrid\", id=\"sc13bc-laxfluxon_fixfluxoff_loggrid\", unnormalise_geom = True, use_xhermes = True, guard_replace = False), \n",
    "    \n",
    "    dict(name=\"laxon_fixfluxon\", id=\"sc13b-forcebalance_on_scalewave_1\", unnormalise_geom = True, use_xhermes = True, guard_replace = False), \n",
    "    dict(name=\"laxon_fixfluxon_freeNePe\", id=\"sc14a-laxflux_fixfluxon_free_all\", unnormalise_geom = True, use_xhermes = True, guard_replace = False), \n",
    "    dict(name=\"laxon_fixfluxon_LinFreeNePe\", id=\"sc15a-laxflux_fixfluxon_linear_free_all\", unnormalise_geom = True, use_xhermes = True, guard_replace = False),\n",
    "    \n",
    "    # Adding complexity\n",
    "    # dict(name=\"old_base\", id=\"sc16b-fix_sources_fix_lofidelity_base\", unnormalise_geom = True, use_xhermes = True, guard_replace = False),\n",
    "    # dict(name=\"old_add_qei\", id=\"sc17a-sc16b_add_Qei\", unnormalise_geom = True, use_xhermes = True, guard_replace = False),\n",
    "    # dict(name=\"old_add_neutrals\", id=\"sc18a-Qei_add_neutrals\", unnormalise_geom = True, use_xhermes = True, guard_replace = False),\n",
    "    \n",
    "    # dict(name=\"base\", id=\"rkc1-base_from_sc16b\", unnormalise_geom = True, use_xhermes = True, guard_replace = False),\n",
    "    # dict(name=\"add_qei\", id=\"rkc2-Qei_from_sc17a\", unnormalise_geom = True, use_xhermes = True, guard_replace = False),\n",
    "    # dict(name=\"add_neutrals\", id=\"rkc3-add_neutrals_from_sc18a\", unnormalise_geom = True, use_xhermes = True, guard_replace = False),\n",
    "]\n",
    "#\n",
    "for case in toload:\n",
    "    print(f\"Loading case {case['name']} from {case['id']}\")\n",
    "    cs[case[\"name\"]] = Load.case_1D(db.casepaths[case[\"id\"]], guard_replace = case[\"guard_replace\"])\n",
    "    cs[case[\"name\"]].ds.load()\n"
   ]
  },
  {
   "cell_type": "markdown",
   "metadata": {},
   "source": [
    "# Read remkit"
   ]
  },
  {
   "cell_type": "code",
   "execution_count": 6,
   "metadata": {},
   "outputs": [],
   "source": [
    "from comp_utils import H3CompFromJSON,H3nTCompPlot,H3qGCompPlot,plotTermsThatEvolveVar\n",
    "import os "
   ]
  },
  {
   "cell_type": "code",
   "execution_count": null,
   "metadata": {},
   "outputs": [],
   "source": [
    "H3_run = \"sc18a-Qei_add_neutrals\"\n",
    "H3Data,rk = H3CompFromJSON(filepath=\"./\"+H3_run+\".json\",initialTimestep=500,solverRelTol=1e-8,solverAbsTol=1e4,convergenceVars=[\"density\",\"energyDensity\"],neutralTemperatureRecycled=2.0)\n",
    "\n",
    "loadedVars = rk.loadSimulation()\n",
    "dataset = loadedVars.dataset\n",
    "dataset"
   ]
  },
  {
   "cell_type": "code",
   "execution_count": 3,
   "metadata": {},
   "outputs": [
    {
     "ename": "NameError",
     "evalue": "name 'load_remkit' is not defined",
     "output_type": "error",
     "traceback": [
      "\u001b[31m---------------------------------------------------------------------------\u001b[39m",
      "\u001b[31mNameError\u001b[39m                                 Traceback (most recent call last)",
      "\u001b[36mCell\u001b[39m\u001b[36m \u001b[39m\u001b[32mIn[3]\u001b[39m\u001b[32m, line 32\u001b[39m\n\u001b[32m      4\u001b[39m \u001b[38;5;66;03m# rkcs[\"restart\"] = load_remkit(  \u001b[39;00m\n\u001b[32m      5\u001b[39m \u001b[38;5;66;03m#                    hdf5Filepath = \"/ssd_scratch/compare_data/rk2_restart_from_sc12ac\",\u001b[39;00m\n\u001b[32m      6\u001b[39m \u001b[38;5;66;03m#                    wrapperPickleFilename = \"/ssd_scratch/compare_data/rk2_restart_from_sc12ac/RMK_hermes3-sc12ac-add_bndry_flux_fix.pkl\",\u001b[39;00m\n\u001b[32m   (...)\u001b[39m\u001b[32m     28\u001b[39m \u001b[38;5;66;03m#                    numFiles = 8\u001b[39;00m\n\u001b[32m     29\u001b[39m \u001b[38;5;66;03m#                     )\u001b[39;00m\n\u001b[32m     31\u001b[39m name = \u001b[33m\"\u001b[39m\u001b[33mlofidelity_base_reggrid\u001b[39m\u001b[33m\"\u001b[39m\n\u001b[32m---> \u001b[39m\u001b[32m32\u001b[39m wrappers[name], rkcs[name] = \u001b[43mload_remkit\u001b[49m(  \n\u001b[32m     33\u001b[39m                    hdf5Filepath = \u001b[33m\"\u001b[39m\u001b[33m/home/mike/work/compare_data/remkit-cases/RMK_hermes3-sc14ad-lofidelitybase_reggrid/RMK_hermes3-sc14ad-laxfluxon_fixfluxoff_reggrid_linearfree_ne_pe\u001b[39m\u001b[33m\"\u001b[39m,\n\u001b[32m     34\u001b[39m                    wrapperPickleFilename = \u001b[33m\"\u001b[39m\u001b[33m/home/mike/work/compare_data/remkit-cases/RMK_hermes3-sc14ad-lofidelitybase_reggrid/RMK_hermes3-sc14ad-laxfluxon_fixfluxoff_reggrid_linearfree_ne_pe.pkl\u001b[39m\u001b[33m\"\u001b[39m,\n\u001b[32m     35\u001b[39m                    numFiles = \u001b[32m8\u001b[39m\n\u001b[32m     36\u001b[39m                     )\n\u001b[32m     39\u001b[39m \u001b[38;5;66;03m# name = \"fix_sources\"\u001b[39;00m\n\u001b[32m     40\u001b[39m \u001b[38;5;66;03m# wrappers[name], rkcs[name] = load_remkit(  \u001b[39;00m\n\u001b[32m     41\u001b[39m \u001b[38;5;66;03m#                    hdf5Filepath = \"/ssd_scratch/compare_data/remkit_comparison/RMK_hermes3-sc14ad-lofidelitybase_reggrid/RMK_hermes3-sc14ad-laxfluxon_fixfluxoff_reggrid_linearfree_ne_pe\",\u001b[39;00m\n\u001b[32m   (...)\u001b[39m\u001b[32m     57\u001b[39m \u001b[38;5;66;03m#                    numFiles = 8\u001b[39;00m\n\u001b[32m     58\u001b[39m \u001b[38;5;66;03m#                     )\u001b[39;00m\n",
      "\u001b[31mNameError\u001b[39m: name 'load_remkit' is not defined"
     ]
    }
   ],
   "source": [
    "rkcs = {}\n",
    "wrappers = {}\n",
    "\n",
    "# rkcs[\"restart\"] = load_remkit(  \n",
    "#                    hdf5Filepath = \"/ssd_scratch/compare_data/rk2_restart_from_sc12ac\",\n",
    "#                    wrapperPickleFilename = \"/ssd_scratch/compare_data/rk2_restart_from_sc12ac/RMK_hermes3-sc12ac-add_bndry_flux_fix.pkl\",\n",
    "#                    numFiles = 2\n",
    "#                     )\n",
    "\n",
    "# name = \"bndry_flux_fix\"\n",
    "# wrappers[name], rkcs[name] = load_remkit(  \n",
    "#                    hdf5Filepath = \"/ssd_scratch/compare_data/RMK_hermes3-add_bndry_flux_fix/RMK_hermes3-add_bndry_flux_fix\",\n",
    "#                    wrapperPickleFilename = \"/ssd_scratch/compare_data/RMK_hermes3-add_bndry_flux_fix/RMK_hermes3-sc12ac-add_bndry_flux_fix.pkl\",\n",
    "#                    numFiles = 8\n",
    "#                     )\n",
    "\n",
    "# name = \"gamma_3.5\"\n",
    "# wrappers[name], rkcs[name] = load_remkit(  \n",
    "#                    hdf5Filepath = \"/ssd_scratch/compare_data/RMK_hermes3-sc12ac-add_bndry_flux_fix-no-kin/RMK_hermes3-add_bndry_flux_fix\",\n",
    "#                    wrapperPickleFilename = \"/ssd_scratch/compare_data/RMK_hermes3-sc12ac-add_bndry_flux_fix-no-kin/RMK_hermes3-sc12ac-add_bndry_flux_fix-no-kin.pkl\",\n",
    "#                    numFiles = 8\n",
    "#                     )\n",
    "\n",
    "# name = \"lofidelity_base\"\n",
    "# wrappers[name], rkcs[name] = load_remkit(  \n",
    "#                    hdf5Filepath = \"/ssd_scratch/compare_data/remkit_comparison/RMK_hermes3-sc13bcf-lofidelitybase/RMK_hermes3-sc13bcf-laxfluxon_fixfluxoff_loggrid_linearfree_ne_pe\",\n",
    "#                    wrapperPickleFilename = \"/ssd_scratch/compare_data/remkit_comparison/RMK_hermes3-sc13bcf-lofidelitybase/RMK_hermes3-sc13bcf-laxfluxon_fixfluxoff_loggrid_linearfree_ne_pe.pkl\",\n",
    "#                    numFiles = 8\n",
    "#                     )\n",
    "\n",
    "name = \"lofidelity_base_reggrid\"\n",
    "wrappers[name], rkcs[name] = load_remkit(  \n",
    "                   hdf5Filepath = \"/home/mike/work/compare_data/remkit-cases/RMK_hermes3-sc14ad-lofidelitybase_reggrid/RMK_hermes3-sc14ad-laxfluxon_fixfluxoff_reggrid_linearfree_ne_pe\",\n",
    "                   wrapperPickleFilename = \"/home/mike/work/compare_data/remkit-cases/RMK_hermes3-sc14ad-lofidelitybase_reggrid/RMK_hermes3-sc14ad-laxfluxon_fixfluxoff_reggrid_linearfree_ne_pe.pkl\",\n",
    "                   numFiles = 8\n",
    "                    )\n",
    "\n",
    "\n",
    "# name = \"fix_sources\"\n",
    "# wrappers[name], rkcs[name] = load_remkit(  \n",
    "#                    hdf5Filepath = \"/ssd_scratch/compare_data/remkit_comparison/RMK_hermes3-sc14ad-lofidelitybase_reggrid/RMK_hermes3-sc14ad-laxfluxon_fixfluxoff_reggrid_linearfree_ne_pe\",\n",
    "#                    wrapperPickleFilename = \"/ssd_scratch/compare_data/remkit_comparison/RMK_hermes3-sc14ad-lofidelitybase_reggrid/RMK_hermes3-sc14ad-laxfluxon_fixfluxoff_reggrid_linearfree_ne_pe.pkl\",\n",
    "#                    numFiles = 8\n",
    "#                     )\n",
    "\n",
    "# name = \"add_Qei\"\n",
    "# wrappers[name], rkcs[name] = load_remkit(  \n",
    "#                    hdf5Filepath = \"/ssd_scratch/compare_data/remkit_comparison/RMK_hermes3-sc17a-sc16b_add_Qei/RMK_hermes3-sc17a-sc16b_add_Qei\",\n",
    "#                    wrapperPickleFilename = \"/ssd_scratch/compare_data/remkit_comparison/RMK_hermes3-sc17a-sc16b_add_Qei/RMK_hermes3-sc17a-sc16b_add_Qei.pkl\",\n",
    "#                    numFiles = 8\n",
    "#                     )\n",
    "\n",
    "# name = \"neutrals\"\n",
    "# wrappers[name], rkcs[name] = load_remkit(  \n",
    "#                    hdf5Filepath = \"/ssd_scratch/compare_data/remkit_comparison/RMK_hermes3-sc18a-Qei_add_neutrals/RMK_hermes3-sc18a-Qei_add_neutrals\",\n",
    "#                    wrapperPickleFilename = \"/ssd_scratch/compare_data/remkit_comparison/RMK_hermes3-sc18a-Qei_add_neutrals/RMK_hermes3-sc18a-Qei_add_neutrals.pkl\",\n",
    "#                    numFiles = 8\n",
    "#                     )"
   ]
  },
  {
   "cell_type": "markdown",
   "metadata": {},
   "source": [
    "# Fixing collisionality choice and conduction"
   ]
  },
  {
   "cell_type": "code",
   "execution_count": null,
   "metadata": {},
   "outputs": [],
   "source": []
  }
 ],
 "metadata": {
  "kernelspec": {
   "display_name": "base-3.12.5 (3.12.5)",
   "language": "python",
   "name": "python3"
  },
  "language_info": {
   "codemirror_mode": {
    "name": "ipython",
    "version": 3
   },
   "file_extension": ".py",
   "mimetype": "text/x-python",
   "name": "python",
   "nbconvert_exporter": "python",
   "pygments_lexer": "ipython3",
   "version": "3.12.5"
  }
 },
 "nbformat": 4,
 "nbformat_minor": 4
}
